{
  "nbformat": 4,
  "nbformat_minor": 0,
  "metadata": {
    "accelerator": "GPU",
    "colab": {
      "name": "Kaggle_TPS_2021_10_Optuna_LGBM.ipynb",
      "provenance": [],
      "collapsed_sections": [],
      "toc_visible": true,
      "machine_shape": "hm"
    },
    "kernelspec": {
      "display_name": "Python 3",
      "name": "python3"
    },
    "language_info": {
      "name": "python"
    }
  },
  "cells": [
    {
      "cell_type": "markdown",
      "metadata": {
        "id": "1OYCEgYQNB8L"
      },
      "source": [
        "# Kaggle TPS 2021 Octboer\n",
        "\n",
        "## Optuna LightGBM Starter\n",
        "\n",
        "### Check GPU"
      ]
    },
    {
      "cell_type": "code",
      "metadata": {
        "colab": {
          "base_uri": "https://localhost:8080/"
        },
        "id": "uGK9FLAGLO-a",
        "outputId": "f07fea7d-3b11-4979-eaa1-50f3ce9cbe12"
      },
      "source": [
        "# Google Colab\n",
        "gpu_info = !nvidia-smi\n",
        "gpu_info = '\\n'.join(gpu_info)\n",
        "if gpu_info.find('failed') >= 0:\n",
        "  print('Not connected to a GPU')\n",
        "else:\n",
        "  print(gpu_info)"
      ],
      "execution_count": 2,
      "outputs": [
        {
          "output_type": "stream",
          "name": "stdout",
          "text": [
            "Mon Oct  4 04:20:14 2021       \n",
            "+-----------------------------------------------------------------------------+\n",
            "| NVIDIA-SMI 470.74       Driver Version: 460.32.03    CUDA Version: 11.2     |\n",
            "|-------------------------------+----------------------+----------------------+\n",
            "| GPU  Name        Persistence-M| Bus-Id        Disp.A | Volatile Uncorr. ECC |\n",
            "| Fan  Temp  Perf  Pwr:Usage/Cap|         Memory-Usage | GPU-Util  Compute M. |\n",
            "|                               |                      |               MIG M. |\n",
            "|===============================+======================+======================|\n",
            "|   0  A100-SXM4-40GB      Off  | 00000000:00:04.0 Off |                    0 |\n",
            "| N/A   33C    P0    41W / 400W |      0MiB / 40536MiB |      0%      Default |\n",
            "|                               |                      |             Disabled |\n",
            "+-------------------------------+----------------------+----------------------+\n",
            "                                                                               \n",
            "+-----------------------------------------------------------------------------+\n",
            "| Processes:                                                                  |\n",
            "|  GPU   GI   CI        PID   Type   Process name                  GPU Memory |\n",
            "|        ID   ID                                                   Usage      |\n",
            "|=============================================================================|\n",
            "|  No running processes found                                                 |\n",
            "+-----------------------------------------------------------------------------+\n"
          ]
        }
      ]
    },
    {
      "cell_type": "markdown",
      "metadata": {
        "id": "a2ToaUCWOQKX"
      },
      "source": [
        "### Check Memory"
      ]
    },
    {
      "cell_type": "code",
      "metadata": {
        "colab": {
          "base_uri": "https://localhost:8080/"
        },
        "id": "3arbBbThOEtU",
        "outputId": "c661ef85-218a-412f-aeb1-e43650ddc975"
      },
      "source": [
        "from psutil import virtual_memory\n",
        "ram_gb = virtual_memory().total / 1e9\n",
        "print('Your runtime has {:.1f} gigabytes of available RAM\\n'.format(ram_gb))\n",
        "\n",
        "if ram_gb < 20:\n",
        "  print('Not using a high-RAM runtime')\n",
        "else:\n",
        "  print('You are using a high-RAM runtime!')"
      ],
      "execution_count": 3,
      "outputs": [
        {
          "output_type": "stream",
          "name": "stdout",
          "text": [
            "Your runtime has 89.6 gigabytes of available RAM\n",
            "\n",
            "You are using a high-RAM runtime!\n"
          ]
        }
      ]
    },
    {
      "cell_type": "markdown",
      "metadata": {
        "id": "yCrV8z4DOaIa"
      },
      "source": [
        "### PIP Installs\n",
        "\n",
        "Uninstall the colab default lightgbm, since it is not set up for GPU"
      ]
    },
    {
      "cell_type": "code",
      "metadata": {
        "colab": {
          "base_uri": "https://localhost:8080/"
        },
        "id": "YgvqMGdfqJds",
        "outputId": "b0391e43-de2e-4a1a-ab87-63b541b79644"
      },
      "source": [
        "!pip uninstall lightgbm\n",
        "!pip install lightgbm --install-option=--gpu"
      ],
      "execution_count": 5,
      "outputs": [
        {
          "output_type": "stream",
          "name": "stdout",
          "text": [
            "Found existing installation: lightgbm 2.2.3\n",
            "Uninstalling lightgbm-2.2.3:\n",
            "  Would remove:\n",
            "    /usr/local/lib/python3.7/dist-packages/lightgbm-2.2.3.dist-info/*\n",
            "    /usr/local/lib/python3.7/dist-packages/lightgbm/*\n",
            "Proceed (y/n)? y\n",
            "  Successfully uninstalled lightgbm-2.2.3\n",
            "/usr/local/lib/python3.7/dist-packages/pip/_internal/commands/install.py:232: UserWarning: Disabling all use of wheels due to the use of --build-option / --global-option / --install-option.\n",
            "  cmdoptions.check_install_build_global(options)\n",
            "Collecting lightgbm\n",
            "  Downloading lightgbm-3.2.1.tar.gz (1.5 MB)\n",
            "\u001b[K     |████████████████████████████████| 1.5 MB 5.0 MB/s \n",
            "\u001b[?25hRequirement already satisfied: wheel in /usr/local/lib/python3.7/dist-packages (from lightgbm) (0.37.0)\n",
            "Requirement already satisfied: numpy in /usr/local/lib/python3.7/dist-packages (from lightgbm) (1.19.5)\n",
            "Requirement already satisfied: scipy in /usr/local/lib/python3.7/dist-packages (from lightgbm) (1.4.1)\n",
            "Requirement already satisfied: scikit-learn!=0.22.0 in /usr/local/lib/python3.7/dist-packages (from lightgbm) (0.22.2.post1)\n",
            "Requirement already satisfied: joblib>=0.11 in /usr/local/lib/python3.7/dist-packages (from scikit-learn!=0.22.0->lightgbm) (1.0.1)\n",
            "Skipping wheel build for lightgbm, due to binaries being disabled for it.\n",
            "Installing collected packages: lightgbm\n",
            "    Running setup.py install for lightgbm ... \u001b[?25l\u001b[?25hdone\n",
            "Successfully installed lightgbm-3.2.1\n"
          ]
        }
      ]
    },
    {
      "cell_type": "markdown",
      "metadata": {
        "id": "7nCdxlw1qj4M"
      },
      "source": [
        "n\n",
        "For now, git clone the lightgbm from the repo.  (There is possibly another GPU friendly install option, but it hasn't been verified to work)\n",
        "\n",
        "Note that this will take up space, so this is being done before mounting Google Drive\n",
        "\n"
      ]
    },
    {
      "cell_type": "code",
      "metadata": {
        "colab": {
          "base_uri": "https://localhost:8080/"
        },
        "id": "NPeEFasOqckw",
        "outputId": "076b3987-d6b7-4e71-8a91-af2bdcb0eaca"
      },
      "source": [
        "# This works on one notebook but not in this latest copy\n",
        "#!git clone --recursive https://github.com/Microsoft/LightGBM\n",
        "#! cd LightGBM && rm -rf build && mkdir build && cd build && cmake -DUSE_GPU=1 ../../LightGBM && make -j4 && cd ../python-package && python3 setup.py install --precompile --gpu;    \n",
        "# unfortunately I forgot where I got the above, so cannot give them adequate credit"
      ],
      "execution_count": null,
      "outputs": [
        {
          "name": "stdout",
          "output_type": "stream",
          "text": [
            "fatal: destination path 'LightGBM' already exists and is not an empty directory.\n"
          ]
        }
      ]
    },
    {
      "cell_type": "markdown",
      "metadata": {
        "id": "98OZybwarUFw"
      },
      "source": [
        "Other untried option\n",
        "\n",
        "```!pip install lightgbm --install-option=--gpu```\n"
      ]
    },
    {
      "cell_type": "code",
      "metadata": {
        "colab": {
          "base_uri": "https://localhost:8080/"
        },
        "id": "Mpnz2sLTzMqA",
        "outputId": "94774fe3-bce0-46ad-b51d-adcd4f44f835"
      },
      "source": [
        "# Next two lines are for Google Colab GPU and working with AutoGluon\n",
        "!pip uninstall -y mkl\n",
        "!pip install --upgrade mxnet-cu100\n",
        "\n",
        "!pip install optuna"
      ],
      "execution_count": 7,
      "outputs": [
        {
          "output_type": "stream",
          "name": "stdout",
          "text": [
            "Found existing installation: mkl 2019.0\n",
            "Uninstalling mkl-2019.0:\n",
            "  Successfully uninstalled mkl-2019.0\n",
            "Collecting mxnet-cu100\n",
            "  Downloading mxnet_cu100-1.8.0.post0-py2.py3-none-manylinux2014_x86_64.whl (352.6 MB)\n",
            "\u001b[K     |████████████████████████████████| 352.6 MB 4.5 kB/s \n",
            "\u001b[?25hRequirement already satisfied: numpy<2.0.0,>1.16.0 in /usr/local/lib/python3.7/dist-packages (from mxnet-cu100) (1.19.5)\n",
            "Requirement already satisfied: requests<3,>=2.20.0 in /usr/local/lib/python3.7/dist-packages (from mxnet-cu100) (2.23.0)\n",
            "Collecting graphviz<0.9.0,>=0.8.1\n",
            "  Downloading graphviz-0.8.4-py2.py3-none-any.whl (16 kB)\n",
            "Requirement already satisfied: idna<3,>=2.5 in /usr/local/lib/python3.7/dist-packages (from requests<3,>=2.20.0->mxnet-cu100) (2.10)\n",
            "Requirement already satisfied: urllib3!=1.25.0,!=1.25.1,<1.26,>=1.21.1 in /usr/local/lib/python3.7/dist-packages (from requests<3,>=2.20.0->mxnet-cu100) (1.24.3)\n",
            "Requirement already satisfied: certifi>=2017.4.17 in /usr/local/lib/python3.7/dist-packages (from requests<3,>=2.20.0->mxnet-cu100) (2021.5.30)\n",
            "Requirement already satisfied: chardet<4,>=3.0.2 in /usr/local/lib/python3.7/dist-packages (from requests<3,>=2.20.0->mxnet-cu100) (3.0.4)\n",
            "Installing collected packages: graphviz, mxnet-cu100\n",
            "  Attempting uninstall: graphviz\n",
            "    Found existing installation: graphviz 0.10.1\n",
            "    Uninstalling graphviz-0.10.1:\n",
            "      Successfully uninstalled graphviz-0.10.1\n",
            "Successfully installed graphviz-0.8.4 mxnet-cu100-1.8.0.post0\n",
            "Collecting optuna\n",
            "  Downloading optuna-2.9.1-py3-none-any.whl (302 kB)\n",
            "\u001b[K     |████████████████████████████████| 302 kB 5.0 MB/s \n",
            "\u001b[?25hRequirement already satisfied: PyYAML in /usr/local/lib/python3.7/dist-packages (from optuna) (3.13)\n",
            "Collecting colorlog\n",
            "  Downloading colorlog-6.4.1-py2.py3-none-any.whl (11 kB)\n",
            "Requirement already satisfied: scipy!=1.4.0 in /usr/local/lib/python3.7/dist-packages (from optuna) (1.4.1)\n",
            "Requirement already satisfied: packaging>=20.0 in /usr/local/lib/python3.7/dist-packages (from optuna) (21.0)\n",
            "Collecting cliff\n",
            "  Downloading cliff-3.9.0-py3-none-any.whl (80 kB)\n",
            "\u001b[K     |████████████████████████████████| 80 kB 11.3 MB/s \n",
            "\u001b[?25hRequirement already satisfied: tqdm in /usr/local/lib/python3.7/dist-packages (from optuna) (4.62.3)\n",
            "Requirement already satisfied: numpy in /usr/local/lib/python3.7/dist-packages (from optuna) (1.19.5)\n",
            "Collecting cmaes>=0.8.2\n",
            "  Downloading cmaes-0.8.2-py3-none-any.whl (15 kB)\n",
            "Requirement already satisfied: sqlalchemy>=1.1.0 in /usr/local/lib/python3.7/dist-packages (from optuna) (1.4.25)\n",
            "Collecting alembic\n",
            "  Downloading alembic-1.7.3-py3-none-any.whl (208 kB)\n",
            "\u001b[K     |████████████████████████████████| 208 kB 81.3 MB/s \n",
            "\u001b[?25hRequirement already satisfied: pyparsing>=2.0.2 in /usr/local/lib/python3.7/dist-packages (from packaging>=20.0->optuna) (2.4.7)\n",
            "Requirement already satisfied: greenlet!=0.4.17 in /usr/local/lib/python3.7/dist-packages (from sqlalchemy>=1.1.0->optuna) (1.1.1)\n",
            "Requirement already satisfied: importlib-metadata in /usr/local/lib/python3.7/dist-packages (from sqlalchemy>=1.1.0->optuna) (4.8.1)\n",
            "Requirement already satisfied: importlib-resources in /usr/local/lib/python3.7/dist-packages (from alembic->optuna) (5.2.2)\n",
            "Collecting Mako\n",
            "  Downloading Mako-1.1.5-py2.py3-none-any.whl (75 kB)\n",
            "\u001b[K     |████████████████████████████████| 75 kB 5.6 MB/s \n",
            "\u001b[?25hCollecting pbr!=2.1.0,>=2.0.0\n",
            "  Downloading pbr-5.6.0-py2.py3-none-any.whl (111 kB)\n",
            "\u001b[K     |████████████████████████████████| 111 kB 80.0 MB/s \n",
            "\u001b[?25hRequirement already satisfied: PrettyTable>=0.7.2 in /usr/local/lib/python3.7/dist-packages (from cliff->optuna) (2.2.0)\n",
            "Collecting cmd2>=1.0.0\n",
            "  Downloading cmd2-2.2.0-py3-none-any.whl (144 kB)\n",
            "\u001b[K     |████████████████████████████████| 144 kB 78.3 MB/s \n",
            "\u001b[?25hCollecting autopage>=0.4.0\n",
            "  Downloading autopage-0.4.0-py3-none-any.whl (20 kB)\n",
            "Collecting stevedore>=2.0.1\n",
            "  Downloading stevedore-3.4.0-py3-none-any.whl (49 kB)\n",
            "\u001b[K     |████████████████████████████████| 49 kB 7.5 MB/s \n",
            "\u001b[?25hCollecting pyperclip>=1.6\n",
            "  Downloading pyperclip-1.8.2.tar.gz (20 kB)\n",
            "Collecting colorama>=0.3.7\n",
            "  Downloading colorama-0.4.4-py2.py3-none-any.whl (16 kB)\n",
            "Requirement already satisfied: typing-extensions in /usr/local/lib/python3.7/dist-packages (from cmd2>=1.0.0->cliff->optuna) (3.7.4.3)\n",
            "Requirement already satisfied: wcwidth>=0.1.7 in /usr/local/lib/python3.7/dist-packages (from cmd2>=1.0.0->cliff->optuna) (0.2.5)\n",
            "Requirement already satisfied: attrs>=16.3.0 in /usr/local/lib/python3.7/dist-packages (from cmd2>=1.0.0->cliff->optuna) (21.2.0)\n",
            "Requirement already satisfied: zipp>=0.5 in /usr/local/lib/python3.7/dist-packages (from importlib-metadata->sqlalchemy>=1.1.0->optuna) (3.5.0)\n",
            "Requirement already satisfied: MarkupSafe>=0.9.2 in /usr/local/lib/python3.7/dist-packages (from Mako->alembic->optuna) (2.0.1)\n",
            "Building wheels for collected packages: pyperclip\n",
            "  Building wheel for pyperclip (setup.py) ... \u001b[?25l\u001b[?25hdone\n",
            "  Created wheel for pyperclip: filename=pyperclip-1.8.2-py3-none-any.whl size=11136 sha256=5adf2ce58529c399ae7d49a6b2bdbd3933fd7ff483d8d2550203402467bd032c\n",
            "  Stored in directory: /root/.cache/pip/wheels/9f/18/84/8f69f8b08169c7bae2dde6bd7daf0c19fca8c8e500ee620a28\n",
            "Successfully built pyperclip\n",
            "Installing collected packages: pyperclip, pbr, colorama, stevedore, Mako, cmd2, autopage, colorlog, cmaes, cliff, alembic, optuna\n",
            "Successfully installed Mako-1.1.5 alembic-1.7.3 autopage-0.4.0 cliff-3.9.0 cmaes-0.8.2 cmd2-2.2.0 colorama-0.4.4 colorlog-6.4.1 optuna-2.9.1 pbr-5.6.0 pyperclip-1.8.2 stevedore-3.4.0\n"
          ]
        }
      ]
    },
    {
      "cell_type": "markdown",
      "metadata": {
        "id": "xtHrv_bzyxIe"
      },
      "source": [
        "## Imports"
      ]
    },
    {
      "cell_type": "code",
      "metadata": {
        "id": "w42DuU-QzcjC"
      },
      "source": [
        "import random\n",
        "import os\n",
        "from google.colab import output\n",
        "import optuna\n",
        "from pathlib import Path\n",
        "\n",
        "\n",
        "from lightgbm import LGBMClassifier\n",
        "import lightgbm as lgb\n",
        "import json\n",
        "\n",
        "import pandas as pd\n",
        "\n",
        "from sklearn.ensemble import StackingRegressor\n",
        "from sklearn.model_selection import train_test_split, cross_val_score, KFold, StratifiedKFold\n",
        "from sklearn.linear_model import LogisticRegression, LogisticRegressionCV\n",
        "import pickle\n",
        "import numpy as np\n",
        "from sklearn.experimental import enable_iterative_imputer\n",
        "from sklearn.impute import IterativeImputer\n",
        "from sklearn.metrics import roc_auc_score\n",
        "\n",
        "#importing all the plot functions\n",
        "from optuna.visualization import plot_edf\n",
        "from optuna.visualization import plot_optimization_history\n",
        "from optuna.visualization import plot_parallel_coordinate\n",
        "from optuna.visualization import plot_param_importances\n",
        "from optuna.visualization import plot_slice\n",
        "\n",
        "import logging"
      ],
      "execution_count": 8,
      "outputs": []
    },
    {
      "cell_type": "markdown",
      "metadata": {
        "id": "rad7vjlwzbhS"
      },
      "source": [
        "## Google Drive Mount\n",
        "\n",
        "* This is used to save models and output\n",
        "* Note that for this Kaggle competition, the train.csv and test.csv are quite large and take a while to upload and store."
      ]
    },
    {
      "cell_type": "code",
      "metadata": {
        "colab": {
          "base_uri": "https://localhost:8080/"
        },
        "id": "b4EhprUn0SUP",
        "outputId": "8126d0c1-6ce5-4087-9fcc-27f083baef95"
      },
      "source": [
        "working_dir = 'MyDrive/kaggle/202110'\n",
        "drive_dir = '/content/drive/'\n",
        "model_dir = 'models'\n",
        "output_dir = 'output'\n",
        "data_dir = 'data'\n",
        "from google.colab import drive\n",
        "drive.mount(drive_dir, force_remount=True)  # Do this once only\n",
        "\n",
        "mounted_drive = f'{drive_dir}/{working_dir}' #''\n",
        "os.chdir(mounted_drive)\n"
      ],
      "execution_count": 9,
      "outputs": [
        {
          "output_type": "stream",
          "name": "stdout",
          "text": [
            "Mounted at /content/drive/\n"
          ]
        }
      ]
    },
    {
      "cell_type": "code",
      "metadata": {
        "id": "ZXDkBnH2IT7f"
      },
      "source": [
        "os.environ['KAGGLE_CONFIG_DIR'] = \"/content/drive/MyDrive/.kaggle\""
      ],
      "execution_count": null,
      "outputs": []
    },
    {
      "cell_type": "markdown",
      "metadata": {
        "id": "KzVf964IKAex"
      },
      "source": [
        "If you want to directly download the kaggle files to your Google Colab environment"
      ]
    },
    {
      "cell_type": "markdown",
      "metadata": {
        "id": "aB27i2me0UCm"
      },
      "source": [
        "From https://www.analyticsvidhya.com/blog/2021/05/10-colab-tips-and-hacks-for-efficient-use-of-it/\n",
        "\n",
        "https://github.com/Kaggle/kaggle-api\n",
        "\n",
        "You can pull the datasets directly from Kaggle\n",
        "1.  Go to your account page on kaggle.com and scroll to API to get your token\n",
        "2.  Download the token \n",
        "3.  Copy it to Google Drive - most people put it in the .kaggle directory\n",
        "4.  Set enviornment variable KAGGLE_CONFIG_DIR\n",
        "5.  ```\n",
        "! pip install kaggle\n",
        "kaggle competitions download -c tabular-playground-series-sep-2021```\n",
        "6.  You may need to add logic to move the files where you want them"
      ]
    },
    {
      "cell_type": "code",
      "metadata": {
        "id": "tosSRsJ9CaW6"
      },
      "source": [
        "#!pip install kaggle\n",
        "#!kaggle competitions download -c tabular-playground-series-sep-2021"
      ],
      "execution_count": null,
      "outputs": []
    },
    {
      "cell_type": "code",
      "metadata": {
        "id": "TgcmQobIGLXM"
      },
      "source": [
        "pd.set_option(\"display.max_rows\", 999)\n",
        "pd.set_option(\"display.max_columns\", 999)\n",
        "\n",
        "# Read csv files\n",
        "#df = pd.read_csv('./train.csv')\n",
        "#test_df=pd.read_csv('./test.csv')\n"
      ],
      "execution_count": null,
      "outputs": []
    },
    {
      "cell_type": "markdown",
      "metadata": {
        "id": "IbRjZYL1G3LS"
      },
      "source": [
        "## Logging"
      ]
    },
    {
      "cell_type": "code",
      "metadata": {
        "id": "PD8-eSaIG5Io"
      },
      "source": [
        "# Right now this is not working as expected, so this is pending\n",
        "#logging.basicConfig(filename='./artifacts/Kaggle_202109_lgbm.log',level=logging.INFO)"
      ],
      "execution_count": null,
      "outputs": []
    },
    {
      "cell_type": "code",
      "metadata": {
        "id": "kSLhoaKlLRUH"
      },
      "source": [
        "X = pd.read_csv(f'./{data_dir}/reduced_mem_imputed.csv')\n",
        "test_X = pd.read_csv(f'./{data_dir}/reduced_mem_imputed_test.csv') # this is the Kaggle test dataset"
      ],
      "execution_count": 12,
      "outputs": []
    },
    {
      "cell_type": "code",
      "metadata": {
        "id": "yMqG8qW0LZ2L"
      },
      "source": [
        "y = X[['target']]\n",
        "X = X.drop(columns = ['id', 'target'])\n",
        "\n",
        "test_X = test_X.drop(columns = ['id'])\n",
        "\n",
        "N_SPLITS = 5 # if you're using cross_score_validation\n",
        "EARLY_STOPPING_ROUNDS = 300\n",
        "SEED = 42\n",
        "\n",
        "#X_train, X_test, y_train, y_test = train_test_split(X, y, random_state=42)"
      ],
      "execution_count": 13,
      "outputs": []
    },
    {
      "cell_type": "markdown",
      "metadata": {
        "id": "ZuM-ELfrLgW-"
      },
      "source": [
        "Optuna \n",
        "* study - this is the tuning done over several iterations of different hyperparameters\n",
        "* trial - this is the individual evaluation/trial of selected hyperparameters\n",
        "* objective function - defines the logic that Optuna will use for a single trial\n",
        "* callback - allows actions after the objective function has returned the ranking metric to Optuna.  \n",
        "\n",
        "At this point Optuna does not save the best model for use after the study.  Instead it will return the best parameters of the study.  However the study can take a long time, so a callback is used to save the best model (as of yet) to a file.\n",
        "\n",
        "**Note that there should be a sample file called best_{model_type} which will be replaced by the best model of the study.  Right now the job will err out, if the model isn't there. ** (And yes, more code can be written to automatically create that file or check it's existence, but it hasn't been done yet)\n",
        "\n",
        "Due to the large training and test datasets, the objective function has been modified to work with train_test_split"
      ]
    },
    {
      "cell_type": "code",
      "metadata": {
        "id": "ZvKwVsTYLasw"
      },
      "source": [
        "def lgbm_objective(trial):\n",
        "   \n",
        "    # hyperparameter setting, trial.suggest_uniform will suggest uniform hyperparameter\n",
        "    \n",
        "    \n",
        "    kfolds = StratifiedKFold(n_splits=N_SPLITS, shuffle=True)\n",
        "\n",
        "    # \"lambda_l1\": trial.suggest_float(\"lambda_l1\", 1e-7, 10.0, log=True),\n",
        "    #  \"lambda_l2\": trial.suggest_float(\"lambda_l2\", 1e-7, 10.0, log=True),\n",
        "    # \"num_leaves\": trial.suggest_int(\"num_leaves\", 2, 256), - had error message due to n\n",
        "    # \"num_iterations\": trial.suggest_int('num_iterations', 1000, 15000), - this was ok, \n",
        "    \n",
        "    params = {\n",
        "        \"metric\": \"AUC\",\n",
        "        \"verbosity\": 0,\n",
        "        \"device\": \"gpu\",\n",
        "        \"boosting_type\": trial.suggest_categorical('boosting_type', ['gbdt']), # , 'dart'\n",
        "        \"subsample\": trial.suggest_uniform('subsample', 0.5, 0.6),\n",
        "        \"learning_rate\": trial.suggest_float('eta', 0.005, 0.015),\n",
        "        \"n_estimators\": trial.suggest_int('n_estimators', 1000, 10000),\n",
        "        \"subsample_freq\": 1,\n",
        "        \"reg_alpha\": trial.suggest_int('reg_alpha', 10, 20),\n",
        "        \"reg_lambda\": trial.suggest_int('reg_lambda', 10, 20),\n",
        "        \"max_depth\": trial.suggest_int(\"max_depth\", 5, 10),\n",
        "        \"num_leaves\": trial.suggest_int(\"num_leaves\", 2, 12),\n",
        "        \"feature_fraction\": trial.suggest_float(\"feature_fraction\", 0.4, 1.0),        \n",
        "        \"min_child_samples\": trial.suggest_int(\"min_child_samples\", 5, 100),\n",
        "        \"objective\": \"binary\"\n",
        "    }\n",
        "    \n",
        "    print(f'STARTING Params: {params}')\n",
        "    lgbm_model = LGBMClassifier(**params,random_state=42)\n",
        "    \n",
        "    d_train = lgb.Dataset(X, label=y)\n",
        "    # early_stopping_rounds=EARLY_STOPPING_ROUNDS,\n",
        "    #https://www.kaggle.com/aharless/trying-to-do-k-fold-cv-on-lightgbm\n",
        "    cv_results = lgb.cv(params, d_train, early_stopping_rounds=EARLY_STOPPING_ROUNDS, nfold=N_SPLITS, metrics = 'auc', seed=42)\n",
        "    \n",
        "    #print(cv_results)\n",
        "    #results['auc-mean'][-1]\n",
        "    auc = cv_results['auc-mean']\n",
        "    print('Trial LGBM AUC',np.amax(auc), np.amin(auc), np.mean(auc))\n",
        "    result = {}\n",
        "    result['optuna_score'] = float(auc_score)\n",
        "    \n",
        "      \n",
        "    result['scores'] = [float(np.amax(auc)), float(np.amin(auc)), float(np.mean(auc))]\n",
        "    result['params'] = dict(keep_model.get_all_params())\n",
        "    print(keep_model.get_all_params())\n",
        "\n",
        "    with open('./artifacts/catboost_results.json', 'a') as f:\n",
        "        json.dump(dict(result), f)\n",
        "        f.write('\\n')\n",
        "\n",
        "    filename = f'./models/lgbm_{trial.number}'\n",
        "    \n",
        "    pickle.dump(lgbm_model, open(filename, 'wb'))\n",
        "    \n",
        "    return auc[-1] \n",
        "\n",
        "\n",
        "def lgbm_callback(study, trial):\n",
        "  # from os import remove\n",
        "    filename = f'./models/lgbm_{trial.number}'\n",
        "    \n",
        "    best_model_name = './models/best_lgbm'\n",
        "    if study.best_trial.number == trial.number:\n",
        "        os.remove(best_model_name)\n",
        "        os.rename(filename, best_model_name)\n",
        "    else:\n",
        "        os.remove(filename)\n",
        "    print(f'filename {filename} best_model_name{best_model_name} ; best_trial_number {study.best_trial.number}')"
      ],
      "execution_count": null,
      "outputs": []
    },
    {
      "cell_type": "code",
      "metadata": {
        "colab": {
          "base_uri": "https://localhost:8080/"
        },
        "id": "3Yt12TdhytAM",
        "outputId": "540bc55f-af36-499a-d30f-5a2e56ae522d"
      },
      "source": [
        "kfolds = StratifiedKFold(n_splits=N_SPLITS, shuffle=True)\n",
        "for train_index, test_index in kfolds.split(X_copy, y):\n",
        "      print(train_index)\n",
        "      X_train, X_test = X_copy.iloc[train_index], X_copy.iloc[test_index]\n",
        "      #y_train, y_test = y[train_index], y[test_index]\n",
        "      #eval_dataset = lgb.Dataset(X_test, label=y_test)"
      ],
      "execution_count": null,
      "outputs": [
        {
          "name": "stdout",
          "output_type": "stream",
          "text": [
            "[     0      1      2 ... 999996 999997 999999]\n",
            "[     0      1      3 ... 999997 999998 999999]\n",
            "[     1      2      6 ... 999996 999998 999999]\n",
            "[     0      1      2 ... 999996 999997 999998]\n",
            "[     0      2      3 ... 999997 999998 999999]\n"
          ]
        }
      ]
    },
    {
      "cell_type": "code",
      "metadata": {
        "id": "a0CXjpL08-Zu"
      },
      "source": [
        "def kfold_objective(trial):\n",
        "   \n",
        "    \n",
        "    # model training and evaluation\n",
        "  \n",
        "\n",
        "    \n",
        "    kfolds = StratifiedKFold(n_splits=N_SPLITS, shuffle=True)\n",
        "\n",
        "    # \"lambda_l1\": trial.suggest_float(\"lambda_l1\", 1e-7, 10.0, log=True),\n",
        "    #  \"lambda_l2\": trial.suggest_float(\"lambda_l2\", 1e-7, 10.0, log=True),\n",
        "    # \"num_leaves\": trial.suggest_int(\"num_leaves\", 2, 256), - had error message due to n\n",
        "    # \"num_iterations\": trial.suggest_int('num_iterations', 1000, 15000), - this was ok, \n",
        "    \n",
        "    params = {\n",
        "        \"metric\": \"AUC\",\n",
        "        \"verbosity\": 0,\n",
        "        \"device\": \"gpu\",\n",
        "        \"boosting_type\": trial.suggest_categorical('boosting_type', ['gbdt']), # , 'dart'\n",
        "        \"subsample\": trial.suggest_uniform('subsample', 0.5, 0.6),\n",
        "        \"learning_rate\": trial.suggest_float('eta', 0.005, 0.015),\n",
        "        \"n_estimators\": trial.suggest_int('n_estimators', 1000, 10000),\n",
        "        \"subsample_freq\": 1,\n",
        "        \"reg_alpha\": trial.suggest_int('reg_alpha', 10, 20),\n",
        "        \"reg_lambda\": trial.suggest_int('reg_lambda', 10, 20),\n",
        "        \"max_depth\": trial.suggest_int(\"max_depth\", 5, 10),\n",
        "        \"num_leaves\": trial.suggest_int(\"num_leaves\", 2, 12),\n",
        "        \"feature_fraction\": trial.suggest_float(\"feature_fraction\", 0.4, 1.0),        \n",
        "        \"min_child_samples\": trial.suggest_int(\"min_child_samples\", 5, 100),\n",
        "        \"objective\": \"binary\"\n",
        "    }\n",
        "    \n",
        "    print(f'STARTING Params: {params}')\n",
        "    model = LGBMClassifier(**params, random_state=42)\n",
        "    \n",
        "    \n",
        "    \n",
        "    print(f'Param: {params}')  # Printing this before the cross val runs, so we have an idea if this is a long running job\n",
        "    auc_score = 0\n",
        "    keep_model = LGBMClassifier(**params, random_state=42)\n",
        "    auc = []\n",
        "    #########################\n",
        "    # Cross validation folds\n",
        "    # We're not using lightgbm cv so we can try to save the best scoring model\n",
        "    #########################\n",
        "    for train_index, test_index in kfolds.split(X_copy, y):\n",
        "      \n",
        "      X_train, X_test = X_copy.iloc[train_index], X_copy.iloc[test_index]\n",
        "      y_train, y_test = y.iloc[train_index], y.iloc[test_index]\n",
        "      eval_dataset = lgb.Dataset(X_test, label=y_test)\n",
        "      #\n",
        "      #eval_set=eval_dataset,       Kept running into error complaining of no length, not clear why\n",
        "      #early_stopping_rounds=200,\n",
        "      model.fit(\n",
        "        X_train,\n",
        "        y_train,\n",
        "        eval_metric=\"AUC\",\n",
        "        verbose=False)\n",
        "      \n",
        "      y_eval_predproba = model.predict_proba(X_test)\n",
        "      new_auc_score = roc_auc_score(y_test, y_eval_predproba[:,1])\n",
        "      print(f'New AUC Score {new_auc_score}')\n",
        "      auc.append(float(new_auc_score))\n",
        "      if auc_score < new_auc_score:\n",
        "        auc_score = new_auc_score \n",
        "        keep_model = model\n",
        "    \n",
        "    ##########################\n",
        "    # After KFold processing\n",
        "    # Record the results to a file for further analysis outside the notebook\n",
        "    ##########################\n",
        "    print(f'all scores {auc}')\n",
        "    print(f'Best Roc AUC score {auc_score}')\n",
        "    result = {}\n",
        "    result['optuna_score'] = float(auc_score). # score that is returned for the optuna trial\n",
        "    \n",
        "      \n",
        "    result['scores'] = auc\n",
        "    result['params'] = dict(keep_model.get_params()) \n",
        "    print(keep_model.get_params())\n",
        "\n",
        "    # right now, write as individual dictionaries\n",
        "    # This can be altered to make it more easily loadable into a pandas dataframe\n",
        "    with open('./artifacts/lgbm_results.json', 'a') as f:\n",
        "        json.dump(dict(result), f)\n",
        "        f.write('\\n')\n",
        "\n",
        "    filename = f'./models/lgbm_{trial.number}'\n",
        "    \n",
        "    pickle.dump(keep_model, open(filename, 'wb'))\n",
        "    \n",
        "    return auc_score\n",
        "    \n",
        "def kfold_callback(study, trial):\n",
        "    model_type = 'lgbm'\n",
        "    # The callback is used to capture the best model.  It checks for the best trial number and renames the model for that trial\n",
        "    # Persisting the best model, means that we can unpickle it and run further tests whle Optuna keeps iterating to find a better tuning\n",
        "    filename = f'./models/{model_type}_{trial.number}'\n",
        "    best_model_name = f'./models/best_{model_type}'\n",
        "    \n",
        "    if study.best_trial.number == trial.number:\n",
        "        os.remove(best_model_name)\n",
        "        os.rename(filename, best_model_name)\n",
        "    else:\n",
        "        os.remove(filename)\n",
        "    print(f'filename {filename} best_model_name{best_model_name}  best_trial_number {study.best_trial.number}')"
      ],
      "execution_count": null,
      "outputs": []
    },
    {
      "cell_type": "code",
      "metadata": {
        "colab": {
          "background_save": true,
          "base_uri": "https://localhost:8080/"
        },
        "id": "wVr-yAQtZBv-",
        "outputId": "2810cc68-04b6-4ff0-a988-3f07ab59db22"
      },
      "source": [
        "# Create the best model file if it doesn't exist, otherwise don't alter it\n",
        "# This file gets updated with the best scoring model of the study\n",
        "best_model_name = './models/best_lgbm'\n",
        "best_model_file = Path(best_model_name)\n",
        "best_model_file.touch(exist_ok=True)\n",
        "\n",
        "lgbm_study = optuna.create_study(direction='maximize')\n",
        "lgbm_study.optimize(kfold_objective, n_trials=100, callbacks=[kfold_callback])\n",
        "# Lightgbm has its own Optuna integration where it writes the best file, but\n",
        "# since Catboost model persistence is still in the works, I just use a similar \n",
        "# callback for both"
      ],
      "execution_count": null,
      "outputs": [
        {
          "name": "stderr",
          "output_type": "stream",
          "text": [
            "\u001b[32m[I 2021-10-03 07:14:37,686]\u001b[0m A new study created in memory with name: no-name-9c25405c-f871-4f69-8cb8-428ef60bcd02\u001b[0m\n"
          ]
        },
        {
          "name": "stdout",
          "output_type": "stream",
          "text": [
            "STARTING Params: {'metric': 'AUC', 'verbosity': 0, 'device': 'gpu', 'boosting_type': 'gbdt', 'subsample': 0.5958302071958159, 'learning_rate': 0.008223238100425778, 'n_estimators': 2903, 'subsample_freq': 1, 'reg_alpha': 13, 'reg_lambda': 15, 'max_depth': 6, 'num_leaves': 4, 'feature_fraction': 0.9908605149315594, 'min_child_samples': 83, 'objective': 'binary'}\n",
            "Param: {'metric': 'AUC', 'verbosity': 0, 'device': 'gpu', 'boosting_type': 'gbdt', 'subsample': 0.5958302071958159, 'learning_rate': 0.008223238100425778, 'n_estimators': 2903, 'subsample_freq': 1, 'reg_alpha': 13, 'reg_lambda': 15, 'max_depth': 6, 'num_leaves': 4, 'feature_fraction': 0.9908605149315594, 'min_child_samples': 83, 'objective': 'binary'}\n"
          ]
        },
        {
          "name": "stderr",
          "output_type": "stream",
          "text": [
            "/usr/local/lib/python3.7/dist-packages/sklearn/preprocessing/_label.py:235: DataConversionWarning:\n",
            "\n",
            "A column-vector y was passed when a 1d array was expected. Please change the shape of y to (n_samples, ), for example using ravel().\n",
            "\n",
            "/usr/local/lib/python3.7/dist-packages/sklearn/preprocessing/_label.py:268: DataConversionWarning:\n",
            "\n",
            "A column-vector y was passed when a 1d array was expected. Please change the shape of y to (n_samples, ), for example using ravel().\n",
            "\n"
          ]
        },
        {
          "name": "stdout",
          "output_type": "stream",
          "text": [
            "[LightGBM] [Warning] feature_fraction is set=0.9908605149315594, colsample_bytree=1.0 will be ignored. Current value: feature_fraction=0.9908605149315594\n",
            "[LightGBM] [Warning] feature_fraction is set=0.9908605149315594, colsample_bytree=1.0 will be ignored. Current value: feature_fraction=0.9908605149315594\n",
            "New AUC Score 0.8502842462324472\n"
          ]
        },
        {
          "name": "stderr",
          "output_type": "stream",
          "text": [
            "/usr/local/lib/python3.7/dist-packages/sklearn/preprocessing/_label.py:235: DataConversionWarning:\n",
            "\n",
            "A column-vector y was passed when a 1d array was expected. Please change the shape of y to (n_samples, ), for example using ravel().\n",
            "\n",
            "/usr/local/lib/python3.7/dist-packages/sklearn/preprocessing/_label.py:268: DataConversionWarning:\n",
            "\n",
            "A column-vector y was passed when a 1d array was expected. Please change the shape of y to (n_samples, ), for example using ravel().\n",
            "\n"
          ]
        },
        {
          "name": "stdout",
          "output_type": "stream",
          "text": [
            "[LightGBM] [Warning] feature_fraction is set=0.9908605149315594, colsample_bytree=1.0 will be ignored. Current value: feature_fraction=0.9908605149315594\n",
            "[LightGBM] [Warning] feature_fraction is set=0.9908605149315594, colsample_bytree=1.0 will be ignored. Current value: feature_fraction=0.9908605149315594\n",
            "New AUC Score 0.8488595972919951\n"
          ]
        },
        {
          "name": "stderr",
          "output_type": "stream",
          "text": [
            "/usr/local/lib/python3.7/dist-packages/sklearn/preprocessing/_label.py:235: DataConversionWarning:\n",
            "\n",
            "A column-vector y was passed when a 1d array was expected. Please change the shape of y to (n_samples, ), for example using ravel().\n",
            "\n",
            "/usr/local/lib/python3.7/dist-packages/sklearn/preprocessing/_label.py:268: DataConversionWarning:\n",
            "\n",
            "A column-vector y was passed when a 1d array was expected. Please change the shape of y to (n_samples, ), for example using ravel().\n",
            "\n"
          ]
        },
        {
          "name": "stdout",
          "output_type": "stream",
          "text": [
            "[LightGBM] [Warning] feature_fraction is set=0.9908605149315594, colsample_bytree=1.0 will be ignored. Current value: feature_fraction=0.9908605149315594\n",
            "[LightGBM] [Warning] feature_fraction is set=0.9908605149315594, colsample_bytree=1.0 will be ignored. Current value: feature_fraction=0.9908605149315594\n",
            "New AUC Score 0.8476585611619403\n"
          ]
        },
        {
          "name": "stderr",
          "output_type": "stream",
          "text": [
            "/usr/local/lib/python3.7/dist-packages/sklearn/preprocessing/_label.py:235: DataConversionWarning:\n",
            "\n",
            "A column-vector y was passed when a 1d array was expected. Please change the shape of y to (n_samples, ), for example using ravel().\n",
            "\n",
            "/usr/local/lib/python3.7/dist-packages/sklearn/preprocessing/_label.py:268: DataConversionWarning:\n",
            "\n",
            "A column-vector y was passed when a 1d array was expected. Please change the shape of y to (n_samples, ), for example using ravel().\n",
            "\n"
          ]
        },
        {
          "name": "stdout",
          "output_type": "stream",
          "text": [
            "[LightGBM] [Warning] feature_fraction is set=0.9908605149315594, colsample_bytree=1.0 will be ignored. Current value: feature_fraction=0.9908605149315594\n",
            "[LightGBM] [Warning] feature_fraction is set=0.9908605149315594, colsample_bytree=1.0 will be ignored. Current value: feature_fraction=0.9908605149315594\n",
            "New AUC Score 0.847036614876751\n"
          ]
        },
        {
          "name": "stderr",
          "output_type": "stream",
          "text": [
            "/usr/local/lib/python3.7/dist-packages/sklearn/preprocessing/_label.py:235: DataConversionWarning:\n",
            "\n",
            "A column-vector y was passed when a 1d array was expected. Please change the shape of y to (n_samples, ), for example using ravel().\n",
            "\n",
            "/usr/local/lib/python3.7/dist-packages/sklearn/preprocessing/_label.py:268: DataConversionWarning:\n",
            "\n",
            "A column-vector y was passed when a 1d array was expected. Please change the shape of y to (n_samples, ), for example using ravel().\n",
            "\n"
          ]
        },
        {
          "name": "stdout",
          "output_type": "stream",
          "text": [
            "[LightGBM] [Warning] feature_fraction is set=0.9908605149315594, colsample_bytree=1.0 will be ignored. Current value: feature_fraction=0.9908605149315594\n",
            "[LightGBM] [Warning] feature_fraction is set=0.9908605149315594, colsample_bytree=1.0 will be ignored. Current value: feature_fraction=0.9908605149315594\n"
          ]
        },
        {
          "name": "stderr",
          "output_type": "stream",
          "text": [
            "\u001b[32m[I 2021-10-03 07:18:44,693]\u001b[0m Trial 0 finished with value: 0.8502842462324472 and parameters: {'boosting_type': 'gbdt', 'subsample': 0.5958302071958159, 'eta': 0.008223238100425778, 'n_estimators': 2903, 'reg_alpha': 13, 'reg_lambda': 15, 'max_depth': 6, 'num_leaves': 4, 'feature_fraction': 0.9908605149315594, 'min_child_samples': 83}. Best is trial 0 with value: 0.8502842462324472.\u001b[0m\n"
          ]
        },
        {
          "name": "stdout",
          "output_type": "stream",
          "text": [
            "New AUC Score 0.84942143682063\n",
            "all scores [0.8502842462324472, 0.8488595972919951, 0.8476585611619403, 0.847036614876751, 0.84942143682063]\n",
            "Roc AUC score 0.8502842462324472\n",
            "{'boosting_type': 'gbdt', 'class_weight': None, 'colsample_bytree': 1.0, 'importance_type': 'split', 'learning_rate': 0.008223238100425778, 'max_depth': 6, 'min_child_samples': 83, 'min_child_weight': 0.001, 'min_split_gain': 0.0, 'n_estimators': 2903, 'n_jobs': -1, 'num_leaves': 4, 'objective': 'binary', 'random_state': 42, 'reg_alpha': 13, 'reg_lambda': 15, 'silent': True, 'subsample': 0.5958302071958159, 'subsample_for_bin': 200000, 'subsample_freq': 1, 'metric': 'AUC', 'verbosity': 0, 'device': 'gpu', 'feature_fraction': 0.9908605149315594}\n",
            "filename ./models/lgbm_0 best_model_name./models/best_lgbm  best_trial_number 0\n",
            "STARTING Params: {'metric': 'AUC', 'verbosity': 0, 'device': 'gpu', 'boosting_type': 'gbdt', 'subsample': 0.5924150831367976, 'learning_rate': 0.008402781859139313, 'n_estimators': 1473, 'subsample_freq': 1, 'reg_alpha': 15, 'reg_lambda': 12, 'max_depth': 6, 'num_leaves': 11, 'feature_fraction': 0.9928740185517462, 'min_child_samples': 25, 'objective': 'binary'}\n",
            "Param: {'metric': 'AUC', 'verbosity': 0, 'device': 'gpu', 'boosting_type': 'gbdt', 'subsample': 0.5924150831367976, 'learning_rate': 0.008402781859139313, 'n_estimators': 1473, 'subsample_freq': 1, 'reg_alpha': 15, 'reg_lambda': 12, 'max_depth': 6, 'num_leaves': 11, 'feature_fraction': 0.9928740185517462, 'min_child_samples': 25, 'objective': 'binary'}\n"
          ]
        },
        {
          "name": "stderr",
          "output_type": "stream",
          "text": [
            "/usr/local/lib/python3.7/dist-packages/sklearn/preprocessing/_label.py:235: DataConversionWarning:\n",
            "\n",
            "A column-vector y was passed when a 1d array was expected. Please change the shape of y to (n_samples, ), for example using ravel().\n",
            "\n",
            "/usr/local/lib/python3.7/dist-packages/sklearn/preprocessing/_label.py:268: DataConversionWarning:\n",
            "\n",
            "A column-vector y was passed when a 1d array was expected. Please change the shape of y to (n_samples, ), for example using ravel().\n",
            "\n"
          ]
        },
        {
          "name": "stdout",
          "output_type": "stream",
          "text": [
            "[LightGBM] [Warning] feature_fraction is set=0.9928740185517462, colsample_bytree=1.0 will be ignored. Current value: feature_fraction=0.9928740185517462\n",
            "[LightGBM] [Warning] feature_fraction is set=0.9928740185517462, colsample_bytree=1.0 will be ignored. Current value: feature_fraction=0.9928740185517462\n",
            "New AUC Score 0.8481729480459269\n"
          ]
        },
        {
          "name": "stderr",
          "output_type": "stream",
          "text": [
            "/usr/local/lib/python3.7/dist-packages/sklearn/preprocessing/_label.py:235: DataConversionWarning:\n",
            "\n",
            "A column-vector y was passed when a 1d array was expected. Please change the shape of y to (n_samples, ), for example using ravel().\n",
            "\n",
            "/usr/local/lib/python3.7/dist-packages/sklearn/preprocessing/_label.py:268: DataConversionWarning:\n",
            "\n",
            "A column-vector y was passed when a 1d array was expected. Please change the shape of y to (n_samples, ), for example using ravel().\n",
            "\n"
          ]
        },
        {
          "name": "stdout",
          "output_type": "stream",
          "text": [
            "[LightGBM] [Warning] feature_fraction is set=0.9928740185517462, colsample_bytree=1.0 will be ignored. Current value: feature_fraction=0.9928740185517462\n",
            "[LightGBM] [Warning] feature_fraction is set=0.9928740185517462, colsample_bytree=1.0 will be ignored. Current value: feature_fraction=0.9928740185517462\n",
            "New AUC Score 0.8463398472211623\n"
          ]
        },
        {
          "name": "stderr",
          "output_type": "stream",
          "text": [
            "/usr/local/lib/python3.7/dist-packages/sklearn/preprocessing/_label.py:235: DataConversionWarning:\n",
            "\n",
            "A column-vector y was passed when a 1d array was expected. Please change the shape of y to (n_samples, ), for example using ravel().\n",
            "\n",
            "/usr/local/lib/python3.7/dist-packages/sklearn/preprocessing/_label.py:268: DataConversionWarning:\n",
            "\n",
            "A column-vector y was passed when a 1d array was expected. Please change the shape of y to (n_samples, ), for example using ravel().\n",
            "\n"
          ]
        },
        {
          "name": "stdout",
          "output_type": "stream",
          "text": [
            "[LightGBM] [Warning] feature_fraction is set=0.9928740185517462, colsample_bytree=1.0 will be ignored. Current value: feature_fraction=0.9928740185517462\n",
            "[LightGBM] [Warning] feature_fraction is set=0.9928740185517462, colsample_bytree=1.0 will be ignored. Current value: feature_fraction=0.9928740185517462\n",
            "New AUC Score 0.8495764018664365\n"
          ]
        },
        {
          "name": "stderr",
          "output_type": "stream",
          "text": [
            "/usr/local/lib/python3.7/dist-packages/sklearn/preprocessing/_label.py:235: DataConversionWarning:\n",
            "\n",
            "A column-vector y was passed when a 1d array was expected. Please change the shape of y to (n_samples, ), for example using ravel().\n",
            "\n",
            "/usr/local/lib/python3.7/dist-packages/sklearn/preprocessing/_label.py:268: DataConversionWarning:\n",
            "\n",
            "A column-vector y was passed when a 1d array was expected. Please change the shape of y to (n_samples, ), for example using ravel().\n",
            "\n"
          ]
        },
        {
          "name": "stdout",
          "output_type": "stream",
          "text": [
            "[LightGBM] [Warning] feature_fraction is set=0.9928740185517462, colsample_bytree=1.0 will be ignored. Current value: feature_fraction=0.9928740185517462\n",
            "[LightGBM] [Warning] feature_fraction is set=0.9928740185517462, colsample_bytree=1.0 will be ignored. Current value: feature_fraction=0.9928740185517462\n",
            "New AUC Score 0.8483924992525027\n"
          ]
        },
        {
          "name": "stderr",
          "output_type": "stream",
          "text": [
            "/usr/local/lib/python3.7/dist-packages/sklearn/preprocessing/_label.py:235: DataConversionWarning:\n",
            "\n",
            "A column-vector y was passed when a 1d array was expected. Please change the shape of y to (n_samples, ), for example using ravel().\n",
            "\n",
            "/usr/local/lib/python3.7/dist-packages/sklearn/preprocessing/_label.py:268: DataConversionWarning:\n",
            "\n",
            "A column-vector y was passed when a 1d array was expected. Please change the shape of y to (n_samples, ), for example using ravel().\n",
            "\n"
          ]
        },
        {
          "name": "stdout",
          "output_type": "stream",
          "text": [
            "[LightGBM] [Warning] feature_fraction is set=0.9928740185517462, colsample_bytree=1.0 will be ignored. Current value: feature_fraction=0.9928740185517462\n",
            "[LightGBM] [Warning] feature_fraction is set=0.9928740185517462, colsample_bytree=1.0 will be ignored. Current value: feature_fraction=0.9928740185517462\n"
          ]
        },
        {
          "name": "stderr",
          "output_type": "stream",
          "text": [
            "\u001b[32m[I 2021-10-03 07:22:00,002]\u001b[0m Trial 1 finished with value: 0.8495764018664365 and parameters: {'boosting_type': 'gbdt', 'subsample': 0.5924150831367976, 'eta': 0.008402781859139313, 'n_estimators': 1473, 'reg_alpha': 15, 'reg_lambda': 12, 'max_depth': 6, 'num_leaves': 11, 'feature_fraction': 0.9928740185517462, 'min_child_samples': 25}. Best is trial 0 with value: 0.8502842462324472.\u001b[0m\n"
          ]
        },
        {
          "name": "stdout",
          "output_type": "stream",
          "text": [
            "New AUC Score 0.8486741819175377\n",
            "all scores [0.8481729480459269, 0.8463398472211623, 0.8495764018664365, 0.8483924992525027, 0.8486741819175377]\n",
            "Roc AUC score 0.8495764018664365\n",
            "{'boosting_type': 'gbdt', 'class_weight': None, 'colsample_bytree': 1.0, 'importance_type': 'split', 'learning_rate': 0.008402781859139313, 'max_depth': 6, 'min_child_samples': 25, 'min_child_weight': 0.001, 'min_split_gain': 0.0, 'n_estimators': 1473, 'n_jobs': -1, 'num_leaves': 11, 'objective': 'binary', 'random_state': 42, 'reg_alpha': 15, 'reg_lambda': 12, 'silent': True, 'subsample': 0.5924150831367976, 'subsample_for_bin': 200000, 'subsample_freq': 1, 'metric': 'AUC', 'verbosity': 0, 'device': 'gpu', 'feature_fraction': 0.9928740185517462}\n",
            "filename ./models/lgbm_1 best_model_name./models/best_lgbm  best_trial_number 0\n",
            "STARTING Params: {'metric': 'AUC', 'verbosity': 0, 'device': 'gpu', 'boosting_type': 'gbdt', 'subsample': 0.5084402942846611, 'learning_rate': 0.006888256401867727, 'n_estimators': 3763, 'subsample_freq': 1, 'reg_alpha': 10, 'reg_lambda': 10, 'max_depth': 7, 'num_leaves': 11, 'feature_fraction': 0.5171825421867884, 'min_child_samples': 41, 'objective': 'binary'}\n",
            "Param: {'metric': 'AUC', 'verbosity': 0, 'device': 'gpu', 'boosting_type': 'gbdt', 'subsample': 0.5084402942846611, 'learning_rate': 0.006888256401867727, 'n_estimators': 3763, 'subsample_freq': 1, 'reg_alpha': 10, 'reg_lambda': 10, 'max_depth': 7, 'num_leaves': 11, 'feature_fraction': 0.5171825421867884, 'min_child_samples': 41, 'objective': 'binary'}\n"
          ]
        },
        {
          "name": "stderr",
          "output_type": "stream",
          "text": [
            "/usr/local/lib/python3.7/dist-packages/sklearn/preprocessing/_label.py:235: DataConversionWarning:\n",
            "\n",
            "A column-vector y was passed when a 1d array was expected. Please change the shape of y to (n_samples, ), for example using ravel().\n",
            "\n",
            "/usr/local/lib/python3.7/dist-packages/sklearn/preprocessing/_label.py:268: DataConversionWarning:\n",
            "\n",
            "A column-vector y was passed when a 1d array was expected. Please change the shape of y to (n_samples, ), for example using ravel().\n",
            "\n"
          ]
        },
        {
          "name": "stdout",
          "output_type": "stream",
          "text": [
            "[LightGBM] [Warning] feature_fraction is set=0.5171825421867884, colsample_bytree=1.0 will be ignored. Current value: feature_fraction=0.5171825421867884\n",
            "[LightGBM] [Warning] feature_fraction is set=0.5171825421867884, colsample_bytree=1.0 will be ignored. Current value: feature_fraction=0.5171825421867884\n",
            "New AUC Score 0.8546970557844598\n"
          ]
        },
        {
          "name": "stderr",
          "output_type": "stream",
          "text": [
            "/usr/local/lib/python3.7/dist-packages/sklearn/preprocessing/_label.py:235: DataConversionWarning:\n",
            "\n",
            "A column-vector y was passed when a 1d array was expected. Please change the shape of y to (n_samples, ), for example using ravel().\n",
            "\n",
            "/usr/local/lib/python3.7/dist-packages/sklearn/preprocessing/_label.py:268: DataConversionWarning:\n",
            "\n",
            "A column-vector y was passed when a 1d array was expected. Please change the shape of y to (n_samples, ), for example using ravel().\n",
            "\n"
          ]
        },
        {
          "name": "stdout",
          "output_type": "stream",
          "text": [
            "[LightGBM] [Warning] feature_fraction is set=0.5171825421867884, colsample_bytree=1.0 will be ignored. Current value: feature_fraction=0.5171825421867884\n",
            "[LightGBM] [Warning] feature_fraction is set=0.5171825421867884, colsample_bytree=1.0 will be ignored. Current value: feature_fraction=0.5171825421867884\n",
            "New AUC Score 0.8526123799229883\n"
          ]
        },
        {
          "name": "stderr",
          "output_type": "stream",
          "text": [
            "/usr/local/lib/python3.7/dist-packages/sklearn/preprocessing/_label.py:235: DataConversionWarning:\n",
            "\n",
            "A column-vector y was passed when a 1d array was expected. Please change the shape of y to (n_samples, ), for example using ravel().\n",
            "\n",
            "/usr/local/lib/python3.7/dist-packages/sklearn/preprocessing/_label.py:268: DataConversionWarning:\n",
            "\n",
            "A column-vector y was passed when a 1d array was expected. Please change the shape of y to (n_samples, ), for example using ravel().\n",
            "\n"
          ]
        },
        {
          "name": "stdout",
          "output_type": "stream",
          "text": [
            "[LightGBM] [Warning] feature_fraction is set=0.5171825421867884, colsample_bytree=1.0 will be ignored. Current value: feature_fraction=0.5171825421867884\n",
            "[LightGBM] [Warning] feature_fraction is set=0.5171825421867884, colsample_bytree=1.0 will be ignored. Current value: feature_fraction=0.5171825421867884\n",
            "New AUC Score 0.8549019657772596\n"
          ]
        },
        {
          "name": "stderr",
          "output_type": "stream",
          "text": [
            "/usr/local/lib/python3.7/dist-packages/sklearn/preprocessing/_label.py:235: DataConversionWarning:\n",
            "\n",
            "A column-vector y was passed when a 1d array was expected. Please change the shape of y to (n_samples, ), for example using ravel().\n",
            "\n",
            "/usr/local/lib/python3.7/dist-packages/sklearn/preprocessing/_label.py:268: DataConversionWarning:\n",
            "\n",
            "A column-vector y was passed when a 1d array was expected. Please change the shape of y to (n_samples, ), for example using ravel().\n",
            "\n"
          ]
        },
        {
          "name": "stdout",
          "output_type": "stream",
          "text": [
            "[LightGBM] [Warning] feature_fraction is set=0.5171825421867884, colsample_bytree=1.0 will be ignored. Current value: feature_fraction=0.5171825421867884\n",
            "[LightGBM] [Warning] feature_fraction is set=0.5171825421867884, colsample_bytree=1.0 will be ignored. Current value: feature_fraction=0.5171825421867884\n",
            "New AUC Score 0.8534171719802172\n"
          ]
        },
        {
          "name": "stderr",
          "output_type": "stream",
          "text": [
            "/usr/local/lib/python3.7/dist-packages/sklearn/preprocessing/_label.py:235: DataConversionWarning:\n",
            "\n",
            "A column-vector y was passed when a 1d array was expected. Please change the shape of y to (n_samples, ), for example using ravel().\n",
            "\n",
            "/usr/local/lib/python3.7/dist-packages/sklearn/preprocessing/_label.py:268: DataConversionWarning:\n",
            "\n",
            "A column-vector y was passed when a 1d array was expected. Please change the shape of y to (n_samples, ), for example using ravel().\n",
            "\n"
          ]
        },
        {
          "name": "stdout",
          "output_type": "stream",
          "text": [
            "[LightGBM] [Warning] feature_fraction is set=0.5171825421867884, colsample_bytree=1.0 will be ignored. Current value: feature_fraction=0.5171825421867884\n",
            "[LightGBM] [Warning] feature_fraction is set=0.5171825421867884, colsample_bytree=1.0 will be ignored. Current value: feature_fraction=0.5171825421867884\n"
          ]
        },
        {
          "name": "stderr",
          "output_type": "stream",
          "text": [
            "\u001b[32m[I 2021-10-03 07:32:01,200]\u001b[0m Trial 2 finished with value: 0.8549019657772596 and parameters: {'boosting_type': 'gbdt', 'subsample': 0.5084402942846611, 'eta': 0.006888256401867727, 'n_estimators': 3763, 'reg_alpha': 10, 'reg_lambda': 10, 'max_depth': 7, 'num_leaves': 11, 'feature_fraction': 0.5171825421867884, 'min_child_samples': 41}. Best is trial 2 with value: 0.8549019657772596.\u001b[0m\n"
          ]
        },
        {
          "name": "stdout",
          "output_type": "stream",
          "text": [
            "New AUC Score 0.8537669824093537\n",
            "all scores [0.8546970557844598, 0.8526123799229883, 0.8549019657772596, 0.8534171719802172, 0.8537669824093537]\n",
            "Roc AUC score 0.8549019657772596\n",
            "{'boosting_type': 'gbdt', 'class_weight': None, 'colsample_bytree': 1.0, 'importance_type': 'split', 'learning_rate': 0.006888256401867727, 'max_depth': 7, 'min_child_samples': 41, 'min_child_weight': 0.001, 'min_split_gain': 0.0, 'n_estimators': 3763, 'n_jobs': -1, 'num_leaves': 11, 'objective': 'binary', 'random_state': 42, 'reg_alpha': 10, 'reg_lambda': 10, 'silent': True, 'subsample': 0.5084402942846611, 'subsample_for_bin': 200000, 'subsample_freq': 1, 'metric': 'AUC', 'verbosity': 0, 'device': 'gpu', 'feature_fraction': 0.5171825421867884}\n",
            "filename ./models/lgbm_2 best_model_name./models/best_lgbm  best_trial_number 2\n",
            "STARTING Params: {'metric': 'AUC', 'verbosity': 0, 'device': 'gpu', 'boosting_type': 'gbdt', 'subsample': 0.5726208386324856, 'learning_rate': 0.008786335861262191, 'n_estimators': 6918, 'subsample_freq': 1, 'reg_alpha': 12, 'reg_lambda': 10, 'max_depth': 10, 'num_leaves': 8, 'feature_fraction': 0.44558492425721996, 'min_child_samples': 32, 'objective': 'binary'}\n",
            "Param: {'metric': 'AUC', 'verbosity': 0, 'device': 'gpu', 'boosting_type': 'gbdt', 'subsample': 0.5726208386324856, 'learning_rate': 0.008786335861262191, 'n_estimators': 6918, 'subsample_freq': 1, 'reg_alpha': 12, 'reg_lambda': 10, 'max_depth': 10, 'num_leaves': 8, 'feature_fraction': 0.44558492425721996, 'min_child_samples': 32, 'objective': 'binary'}\n"
          ]
        },
        {
          "name": "stderr",
          "output_type": "stream",
          "text": [
            "/usr/local/lib/python3.7/dist-packages/sklearn/preprocessing/_label.py:235: DataConversionWarning:\n",
            "\n",
            "A column-vector y was passed when a 1d array was expected. Please change the shape of y to (n_samples, ), for example using ravel().\n",
            "\n",
            "/usr/local/lib/python3.7/dist-packages/sklearn/preprocessing/_label.py:268: DataConversionWarning:\n",
            "\n",
            "A column-vector y was passed when a 1d array was expected. Please change the shape of y to (n_samples, ), for example using ravel().\n",
            "\n"
          ]
        },
        {
          "name": "stdout",
          "output_type": "stream",
          "text": [
            "[LightGBM] [Warning] feature_fraction is set=0.44558492425721996, colsample_bytree=1.0 will be ignored. Current value: feature_fraction=0.44558492425721996\n",
            "[LightGBM] [Warning] feature_fraction is set=0.44558492425721996, colsample_bytree=1.0 will be ignored. Current value: feature_fraction=0.44558492425721996\n",
            "New AUC Score 0.8562380385343705\n"
          ]
        },
        {
          "name": "stderr",
          "output_type": "stream",
          "text": [
            "/usr/local/lib/python3.7/dist-packages/sklearn/preprocessing/_label.py:235: DataConversionWarning:\n",
            "\n",
            "A column-vector y was passed when a 1d array was expected. Please change the shape of y to (n_samples, ), for example using ravel().\n",
            "\n",
            "/usr/local/lib/python3.7/dist-packages/sklearn/preprocessing/_label.py:268: DataConversionWarning:\n",
            "\n",
            "A column-vector y was passed when a 1d array was expected. Please change the shape of y to (n_samples, ), for example using ravel().\n",
            "\n"
          ]
        },
        {
          "name": "stdout",
          "output_type": "stream",
          "text": [
            "[LightGBM] [Warning] feature_fraction is set=0.44558492425721996, colsample_bytree=1.0 will be ignored. Current value: feature_fraction=0.44558492425721996\n",
            "[LightGBM] [Warning] feature_fraction is set=0.44558492425721996, colsample_bytree=1.0 will be ignored. Current value: feature_fraction=0.44558492425721996\n",
            "New AUC Score 0.8573658105954911\n"
          ]
        },
        {
          "name": "stderr",
          "output_type": "stream",
          "text": [
            "/usr/local/lib/python3.7/dist-packages/sklearn/preprocessing/_label.py:235: DataConversionWarning:\n",
            "\n",
            "A column-vector y was passed when a 1d array was expected. Please change the shape of y to (n_samples, ), for example using ravel().\n",
            "\n",
            "/usr/local/lib/python3.7/dist-packages/sklearn/preprocessing/_label.py:268: DataConversionWarning:\n",
            "\n",
            "A column-vector y was passed when a 1d array was expected. Please change the shape of y to (n_samples, ), for example using ravel().\n",
            "\n"
          ]
        },
        {
          "name": "stdout",
          "output_type": "stream",
          "text": [
            "[LightGBM] [Warning] feature_fraction is set=0.44558492425721996, colsample_bytree=1.0 will be ignored. Current value: feature_fraction=0.44558492425721996\n",
            "[LightGBM] [Warning] feature_fraction is set=0.44558492425721996, colsample_bytree=1.0 will be ignored. Current value: feature_fraction=0.44558492425721996\n",
            "New AUC Score 0.8566185515923952\n"
          ]
        },
        {
          "name": "stderr",
          "output_type": "stream",
          "text": [
            "/usr/local/lib/python3.7/dist-packages/sklearn/preprocessing/_label.py:235: DataConversionWarning:\n",
            "\n",
            "A column-vector y was passed when a 1d array was expected. Please change the shape of y to (n_samples, ), for example using ravel().\n",
            "\n",
            "/usr/local/lib/python3.7/dist-packages/sklearn/preprocessing/_label.py:268: DataConversionWarning:\n",
            "\n",
            "A column-vector y was passed when a 1d array was expected. Please change the shape of y to (n_samples, ), for example using ravel().\n",
            "\n"
          ]
        },
        {
          "name": "stdout",
          "output_type": "stream",
          "text": [
            "[LightGBM] [Warning] feature_fraction is set=0.44558492425721996, colsample_bytree=1.0 will be ignored. Current value: feature_fraction=0.44558492425721996\n",
            "[LightGBM] [Warning] feature_fraction is set=0.44558492425721996, colsample_bytree=1.0 will be ignored. Current value: feature_fraction=0.44558492425721996\n",
            "New AUC Score 0.8566290219022467\n"
          ]
        },
        {
          "name": "stderr",
          "output_type": "stream",
          "text": [
            "/usr/local/lib/python3.7/dist-packages/sklearn/preprocessing/_label.py:235: DataConversionWarning:\n",
            "\n",
            "A column-vector y was passed when a 1d array was expected. Please change the shape of y to (n_samples, ), for example using ravel().\n",
            "\n",
            "/usr/local/lib/python3.7/dist-packages/sklearn/preprocessing/_label.py:268: DataConversionWarning:\n",
            "\n",
            "A column-vector y was passed when a 1d array was expected. Please change the shape of y to (n_samples, ), for example using ravel().\n",
            "\n"
          ]
        },
        {
          "name": "stdout",
          "output_type": "stream",
          "text": [
            "[LightGBM] [Warning] feature_fraction is set=0.44558492425721996, colsample_bytree=1.0 will be ignored. Current value: feature_fraction=0.44558492425721996\n",
            "[LightGBM] [Warning] feature_fraction is set=0.44558492425721996, colsample_bytree=1.0 will be ignored. Current value: feature_fraction=0.44558492425721996\n",
            "New AUC Score 0.855460327302622\n",
            "all scores [0.8562380385343705, 0.8573658105954911, 0.8566185515923952, 0.8566290219022467, 0.855460327302622]\n",
            "Roc AUC score 0.8573658105954911\n",
            "{'boosting_type': 'gbdt', 'class_weight': None, 'colsample_bytree': 1.0, 'importance_type': 'split', 'learning_rate': 0.008786335861262191, 'max_depth': 10, 'min_child_samples': 32, 'min_child_weight': 0.001, 'min_split_gain': 0.0, 'n_estimators': 6918, 'n_jobs': -1, 'num_leaves': 8, 'objective': 'binary', 'random_state': 42, 'reg_alpha': 12, 'reg_lambda': 10, 'silent': True, 'subsample': 0.5726208386324856, 'subsample_for_bin': 200000, 'subsample_freq': 1, 'metric': 'AUC', 'verbosity': 0, 'device': 'gpu', 'feature_fraction': 0.44558492425721996}\n"
          ]
        },
        {
          "name": "stderr",
          "output_type": "stream",
          "text": [
            "\u001b[32m[I 2021-10-03 07:49:30,095]\u001b[0m Trial 3 finished with value: 0.8573658105954911 and parameters: {'boosting_type': 'gbdt', 'subsample': 0.5726208386324856, 'eta': 0.008786335861262191, 'n_estimators': 6918, 'reg_alpha': 12, 'reg_lambda': 10, 'max_depth': 10, 'num_leaves': 8, 'feature_fraction': 0.44558492425721996, 'min_child_samples': 32}. Best is trial 3 with value: 0.8573658105954911.\u001b[0m\n"
          ]
        },
        {
          "name": "stdout",
          "output_type": "stream",
          "text": [
            "filename ./models/lgbm_3 best_model_name./models/best_lgbm  best_trial_number 3\n",
            "STARTING Params: {'metric': 'AUC', 'verbosity': 0, 'device': 'gpu', 'boosting_type': 'gbdt', 'subsample': 0.5338754380103553, 'learning_rate': 0.005209622625088605, 'n_estimators': 2642, 'subsample_freq': 1, 'reg_alpha': 12, 'reg_lambda': 12, 'max_depth': 8, 'num_leaves': 9, 'feature_fraction': 0.6709237052798742, 'min_child_samples': 58, 'objective': 'binary'}\n",
            "Param: {'metric': 'AUC', 'verbosity': 0, 'device': 'gpu', 'boosting_type': 'gbdt', 'subsample': 0.5338754380103553, 'learning_rate': 0.005209622625088605, 'n_estimators': 2642, 'subsample_freq': 1, 'reg_alpha': 12, 'reg_lambda': 12, 'max_depth': 8, 'num_leaves': 9, 'feature_fraction': 0.6709237052798742, 'min_child_samples': 58, 'objective': 'binary'}\n"
          ]
        },
        {
          "name": "stderr",
          "output_type": "stream",
          "text": [
            "/usr/local/lib/python3.7/dist-packages/sklearn/preprocessing/_label.py:235: DataConversionWarning:\n",
            "\n",
            "A column-vector y was passed when a 1d array was expected. Please change the shape of y to (n_samples, ), for example using ravel().\n",
            "\n",
            "/usr/local/lib/python3.7/dist-packages/sklearn/preprocessing/_label.py:268: DataConversionWarning:\n",
            "\n",
            "A column-vector y was passed when a 1d array was expected. Please change the shape of y to (n_samples, ), for example using ravel().\n",
            "\n"
          ]
        },
        {
          "name": "stdout",
          "output_type": "stream",
          "text": [
            "[LightGBM] [Warning] feature_fraction is set=0.6709237052798742, colsample_bytree=1.0 will be ignored. Current value: feature_fraction=0.6709237052798742\n",
            "[LightGBM] [Warning] feature_fraction is set=0.6709237052798742, colsample_bytree=1.0 will be ignored. Current value: feature_fraction=0.6709237052798742\n",
            "New AUC Score 0.8488674062993425\n"
          ]
        },
        {
          "name": "stderr",
          "output_type": "stream",
          "text": [
            "/usr/local/lib/python3.7/dist-packages/sklearn/preprocessing/_label.py:235: DataConversionWarning:\n",
            "\n",
            "A column-vector y was passed when a 1d array was expected. Please change the shape of y to (n_samples, ), for example using ravel().\n",
            "\n",
            "/usr/local/lib/python3.7/dist-packages/sklearn/preprocessing/_label.py:268: DataConversionWarning:\n",
            "\n",
            "A column-vector y was passed when a 1d array was expected. Please change the shape of y to (n_samples, ), for example using ravel().\n",
            "\n"
          ]
        },
        {
          "name": "stdout",
          "output_type": "stream",
          "text": [
            "[LightGBM] [Warning] feature_fraction is set=0.6709237052798742, colsample_bytree=1.0 will be ignored. Current value: feature_fraction=0.6709237052798742\n",
            "[LightGBM] [Warning] feature_fraction is set=0.6709237052798742, colsample_bytree=1.0 will be ignored. Current value: feature_fraction=0.6709237052798742\n",
            "New AUC Score 0.8482943412601456\n"
          ]
        },
        {
          "name": "stderr",
          "output_type": "stream",
          "text": [
            "/usr/local/lib/python3.7/dist-packages/sklearn/preprocessing/_label.py:235: DataConversionWarning:\n",
            "\n",
            "A column-vector y was passed when a 1d array was expected. Please change the shape of y to (n_samples, ), for example using ravel().\n",
            "\n",
            "/usr/local/lib/python3.7/dist-packages/sklearn/preprocessing/_label.py:268: DataConversionWarning:\n",
            "\n",
            "A column-vector y was passed when a 1d array was expected. Please change the shape of y to (n_samples, ), for example using ravel().\n",
            "\n"
          ]
        },
        {
          "name": "stdout",
          "output_type": "stream",
          "text": [
            "[LightGBM] [Warning] feature_fraction is set=0.6709237052798742, colsample_bytree=1.0 will be ignored. Current value: feature_fraction=0.6709237052798742\n",
            "[LightGBM] [Warning] feature_fraction is set=0.6709237052798742, colsample_bytree=1.0 will be ignored. Current value: feature_fraction=0.6709237052798742\n",
            "New AUC Score 0.8485856192342092\n"
          ]
        },
        {
          "name": "stderr",
          "output_type": "stream",
          "text": [
            "/usr/local/lib/python3.7/dist-packages/sklearn/preprocessing/_label.py:235: DataConversionWarning:\n",
            "\n",
            "A column-vector y was passed when a 1d array was expected. Please change the shape of y to (n_samples, ), for example using ravel().\n",
            "\n",
            "/usr/local/lib/python3.7/dist-packages/sklearn/preprocessing/_label.py:268: DataConversionWarning:\n",
            "\n",
            "A column-vector y was passed when a 1d array was expected. Please change the shape of y to (n_samples, ), for example using ravel().\n",
            "\n"
          ]
        },
        {
          "name": "stdout",
          "output_type": "stream",
          "text": [
            "[LightGBM] [Warning] feature_fraction is set=0.6709237052798742, colsample_bytree=1.0 will be ignored. Current value: feature_fraction=0.6709237052798742\n",
            "[LightGBM] [Warning] feature_fraction is set=0.6709237052798742, colsample_bytree=1.0 will be ignored. Current value: feature_fraction=0.6709237052798742\n",
            "New AUC Score 0.8481639440374549\n"
          ]
        },
        {
          "name": "stderr",
          "output_type": "stream",
          "text": [
            "/usr/local/lib/python3.7/dist-packages/sklearn/preprocessing/_label.py:235: DataConversionWarning:\n",
            "\n",
            "A column-vector y was passed when a 1d array was expected. Please change the shape of y to (n_samples, ), for example using ravel().\n",
            "\n",
            "/usr/local/lib/python3.7/dist-packages/sklearn/preprocessing/_label.py:268: DataConversionWarning:\n",
            "\n",
            "A column-vector y was passed when a 1d array was expected. Please change the shape of y to (n_samples, ), for example using ravel().\n",
            "\n"
          ]
        },
        {
          "name": "stdout",
          "output_type": "stream",
          "text": [
            "[LightGBM] [Warning] feature_fraction is set=0.6709237052798742, colsample_bytree=1.0 will be ignored. Current value: feature_fraction=0.6709237052798742\n",
            "[LightGBM] [Warning] feature_fraction is set=0.6709237052798742, colsample_bytree=1.0 will be ignored. Current value: feature_fraction=0.6709237052798742\n"
          ]
        },
        {
          "name": "stderr",
          "output_type": "stream",
          "text": [
            "\u001b[32m[I 2021-10-03 07:54:55,778]\u001b[0m Trial 4 finished with value: 0.8488674062993425 and parameters: {'boosting_type': 'gbdt', 'subsample': 0.5338754380103553, 'eta': 0.005209622625088605, 'n_estimators': 2642, 'reg_alpha': 12, 'reg_lambda': 12, 'max_depth': 8, 'num_leaves': 9, 'feature_fraction': 0.6709237052798742, 'min_child_samples': 58}. Best is trial 3 with value: 0.8573658105954911.\u001b[0m\n"
          ]
        },
        {
          "name": "stdout",
          "output_type": "stream",
          "text": [
            "New AUC Score 0.8475334216441965\n",
            "all scores [0.8488674062993425, 0.8482943412601456, 0.8485856192342092, 0.8481639440374549, 0.8475334216441965]\n",
            "Roc AUC score 0.8488674062993425\n",
            "{'boosting_type': 'gbdt', 'class_weight': None, 'colsample_bytree': 1.0, 'importance_type': 'split', 'learning_rate': 0.005209622625088605, 'max_depth': 8, 'min_child_samples': 58, 'min_child_weight': 0.001, 'min_split_gain': 0.0, 'n_estimators': 2642, 'n_jobs': -1, 'num_leaves': 9, 'objective': 'binary', 'random_state': 42, 'reg_alpha': 12, 'reg_lambda': 12, 'silent': True, 'subsample': 0.5338754380103553, 'subsample_for_bin': 200000, 'subsample_freq': 1, 'metric': 'AUC', 'verbosity': 0, 'device': 'gpu', 'feature_fraction': 0.6709237052798742}\n",
            "filename ./models/lgbm_4 best_model_name./models/best_lgbm  best_trial_number 3\n",
            "STARTING Params: {'metric': 'AUC', 'verbosity': 0, 'device': 'gpu', 'boosting_type': 'gbdt', 'subsample': 0.5396389686425217, 'learning_rate': 0.01260246951986257, 'n_estimators': 5051, 'subsample_freq': 1, 'reg_alpha': 19, 'reg_lambda': 14, 'max_depth': 9, 'num_leaves': 9, 'feature_fraction': 0.5216992804554237, 'min_child_samples': 92, 'objective': 'binary'}\n",
            "Param: {'metric': 'AUC', 'verbosity': 0, 'device': 'gpu', 'boosting_type': 'gbdt', 'subsample': 0.5396389686425217, 'learning_rate': 0.01260246951986257, 'n_estimators': 5051, 'subsample_freq': 1, 'reg_alpha': 19, 'reg_lambda': 14, 'max_depth': 9, 'num_leaves': 9, 'feature_fraction': 0.5216992804554237, 'min_child_samples': 92, 'objective': 'binary'}\n"
          ]
        },
        {
          "name": "stderr",
          "output_type": "stream",
          "text": [
            "/usr/local/lib/python3.7/dist-packages/sklearn/preprocessing/_label.py:235: DataConversionWarning:\n",
            "\n",
            "A column-vector y was passed when a 1d array was expected. Please change the shape of y to (n_samples, ), for example using ravel().\n",
            "\n",
            "/usr/local/lib/python3.7/dist-packages/sklearn/preprocessing/_label.py:268: DataConversionWarning:\n",
            "\n",
            "A column-vector y was passed when a 1d array was expected. Please change the shape of y to (n_samples, ), for example using ravel().\n",
            "\n"
          ]
        },
        {
          "name": "stdout",
          "output_type": "stream",
          "text": [
            "[LightGBM] [Warning] feature_fraction is set=0.5216992804554237, colsample_bytree=1.0 will be ignored. Current value: feature_fraction=0.5216992804554237\n",
            "[LightGBM] [Warning] feature_fraction is set=0.5216992804554237, colsample_bytree=1.0 will be ignored. Current value: feature_fraction=0.5216992804554237\n",
            "New AUC Score 0.8561761425761325\n"
          ]
        },
        {
          "name": "stderr",
          "output_type": "stream",
          "text": [
            "/usr/local/lib/python3.7/dist-packages/sklearn/preprocessing/_label.py:235: DataConversionWarning:\n",
            "\n",
            "A column-vector y was passed when a 1d array was expected. Please change the shape of y to (n_samples, ), for example using ravel().\n",
            "\n",
            "/usr/local/lib/python3.7/dist-packages/sklearn/preprocessing/_label.py:268: DataConversionWarning:\n",
            "\n",
            "A column-vector y was passed when a 1d array was expected. Please change the shape of y to (n_samples, ), for example using ravel().\n",
            "\n"
          ]
        },
        {
          "name": "stdout",
          "output_type": "stream",
          "text": [
            "[LightGBM] [Warning] feature_fraction is set=0.5216992804554237, colsample_bytree=1.0 will be ignored. Current value: feature_fraction=0.5216992804554237\n",
            "[LightGBM] [Warning] feature_fraction is set=0.5216992804554237, colsample_bytree=1.0 will be ignored. Current value: feature_fraction=0.5216992804554237\n",
            "New AUC Score 0.856109291213232\n"
          ]
        },
        {
          "name": "stderr",
          "output_type": "stream",
          "text": [
            "/usr/local/lib/python3.7/dist-packages/sklearn/preprocessing/_label.py:235: DataConversionWarning:\n",
            "\n",
            "A column-vector y was passed when a 1d array was expected. Please change the shape of y to (n_samples, ), for example using ravel().\n",
            "\n",
            "/usr/local/lib/python3.7/dist-packages/sklearn/preprocessing/_label.py:268: DataConversionWarning:\n",
            "\n",
            "A column-vector y was passed when a 1d array was expected. Please change the shape of y to (n_samples, ), for example using ravel().\n",
            "\n"
          ]
        },
        {
          "name": "stdout",
          "output_type": "stream",
          "text": [
            "[LightGBM] [Warning] feature_fraction is set=0.5216992804554237, colsample_bytree=1.0 will be ignored. Current value: feature_fraction=0.5216992804554237\n",
            "[LightGBM] [Warning] feature_fraction is set=0.5216992804554237, colsample_bytree=1.0 will be ignored. Current value: feature_fraction=0.5216992804554237\n",
            "New AUC Score 0.8574052417325919\n"
          ]
        },
        {
          "name": "stderr",
          "output_type": "stream",
          "text": [
            "/usr/local/lib/python3.7/dist-packages/sklearn/preprocessing/_label.py:235: DataConversionWarning:\n",
            "\n",
            "A column-vector y was passed when a 1d array was expected. Please change the shape of y to (n_samples, ), for example using ravel().\n",
            "\n",
            "/usr/local/lib/python3.7/dist-packages/sklearn/preprocessing/_label.py:268: DataConversionWarning:\n",
            "\n",
            "A column-vector y was passed when a 1d array was expected. Please change the shape of y to (n_samples, ), for example using ravel().\n",
            "\n"
          ]
        },
        {
          "name": "stdout",
          "output_type": "stream",
          "text": [
            "[LightGBM] [Warning] feature_fraction is set=0.5216992804554237, colsample_bytree=1.0 will be ignored. Current value: feature_fraction=0.5216992804554237\n",
            "[LightGBM] [Warning] feature_fraction is set=0.5216992804554237, colsample_bytree=1.0 will be ignored. Current value: feature_fraction=0.5216992804554237\n",
            "New AUC Score 0.856802419965397\n"
          ]
        },
        {
          "name": "stderr",
          "output_type": "stream",
          "text": [
            "/usr/local/lib/python3.7/dist-packages/sklearn/preprocessing/_label.py:235: DataConversionWarning:\n",
            "\n",
            "A column-vector y was passed when a 1d array was expected. Please change the shape of y to (n_samples, ), for example using ravel().\n",
            "\n",
            "/usr/local/lib/python3.7/dist-packages/sklearn/preprocessing/_label.py:268: DataConversionWarning:\n",
            "\n",
            "A column-vector y was passed when a 1d array was expected. Please change the shape of y to (n_samples, ), for example using ravel().\n",
            "\n"
          ]
        },
        {
          "name": "stdout",
          "output_type": "stream",
          "text": [
            "[LightGBM] [Warning] feature_fraction is set=0.5216992804554237, colsample_bytree=1.0 will be ignored. Current value: feature_fraction=0.5216992804554237\n",
            "[LightGBM] [Warning] feature_fraction is set=0.5216992804554237, colsample_bytree=1.0 will be ignored. Current value: feature_fraction=0.5216992804554237\n"
          ]
        },
        {
          "name": "stderr",
          "output_type": "stream",
          "text": [
            "\u001b[32m[I 2021-10-03 08:07:40,573]\u001b[0m Trial 5 finished with value: 0.8574052417325919 and parameters: {'boosting_type': 'gbdt', 'subsample': 0.5396389686425217, 'eta': 0.01260246951986257, 'n_estimators': 5051, 'reg_alpha': 19, 'reg_lambda': 14, 'max_depth': 9, 'num_leaves': 9, 'feature_fraction': 0.5216992804554237, 'min_child_samples': 92}. Best is trial 5 with value: 0.8574052417325919.\u001b[0m\n"
          ]
        },
        {
          "name": "stdout",
          "output_type": "stream",
          "text": [
            "New AUC Score 0.8569791013316365\n",
            "all scores [0.8561761425761325, 0.856109291213232, 0.8574052417325919, 0.856802419965397, 0.8569791013316365]\n",
            "Roc AUC score 0.8574052417325919\n",
            "{'boosting_type': 'gbdt', 'class_weight': None, 'colsample_bytree': 1.0, 'importance_type': 'split', 'learning_rate': 0.01260246951986257, 'max_depth': 9, 'min_child_samples': 92, 'min_child_weight': 0.001, 'min_split_gain': 0.0, 'n_estimators': 5051, 'n_jobs': -1, 'num_leaves': 9, 'objective': 'binary', 'random_state': 42, 'reg_alpha': 19, 'reg_lambda': 14, 'silent': True, 'subsample': 0.5396389686425217, 'subsample_for_bin': 200000, 'subsample_freq': 1, 'metric': 'AUC', 'verbosity': 0, 'device': 'gpu', 'feature_fraction': 0.5216992804554237}\n",
            "filename ./models/lgbm_5 best_model_name./models/best_lgbm  best_trial_number 5\n",
            "STARTING Params: {'metric': 'AUC', 'verbosity': 0, 'device': 'gpu', 'boosting_type': 'gbdt', 'subsample': 0.5434035070392917, 'learning_rate': 0.00839169021420491, 'n_estimators': 8421, 'subsample_freq': 1, 'reg_alpha': 11, 'reg_lambda': 15, 'max_depth': 9, 'num_leaves': 7, 'feature_fraction': 0.6593467638392523, 'min_child_samples': 23, 'objective': 'binary'}\n",
            "Param: {'metric': 'AUC', 'verbosity': 0, 'device': 'gpu', 'boosting_type': 'gbdt', 'subsample': 0.5434035070392917, 'learning_rate': 0.00839169021420491, 'n_estimators': 8421, 'subsample_freq': 1, 'reg_alpha': 11, 'reg_lambda': 15, 'max_depth': 9, 'num_leaves': 7, 'feature_fraction': 0.6593467638392523, 'min_child_samples': 23, 'objective': 'binary'}\n"
          ]
        },
        {
          "name": "stderr",
          "output_type": "stream",
          "text": [
            "/usr/local/lib/python3.7/dist-packages/sklearn/preprocessing/_label.py:235: DataConversionWarning:\n",
            "\n",
            "A column-vector y was passed when a 1d array was expected. Please change the shape of y to (n_samples, ), for example using ravel().\n",
            "\n",
            "/usr/local/lib/python3.7/dist-packages/sklearn/preprocessing/_label.py:268: DataConversionWarning:\n",
            "\n",
            "A column-vector y was passed when a 1d array was expected. Please change the shape of y to (n_samples, ), for example using ravel().\n",
            "\n"
          ]
        },
        {
          "name": "stdout",
          "output_type": "stream",
          "text": [
            "[LightGBM] [Warning] feature_fraction is set=0.6593467638392523, colsample_bytree=1.0 will be ignored. Current value: feature_fraction=0.6593467638392523\n",
            "[LightGBM] [Warning] feature_fraction is set=0.6593467638392523, colsample_bytree=1.0 will be ignored. Current value: feature_fraction=0.6593467638392523\n",
            "New AUC Score 0.857140989683957\n"
          ]
        },
        {
          "name": "stderr",
          "output_type": "stream",
          "text": [
            "/usr/local/lib/python3.7/dist-packages/sklearn/preprocessing/_label.py:235: DataConversionWarning:\n",
            "\n",
            "A column-vector y was passed when a 1d array was expected. Please change the shape of y to (n_samples, ), for example using ravel().\n",
            "\n",
            "/usr/local/lib/python3.7/dist-packages/sklearn/preprocessing/_label.py:268: DataConversionWarning:\n",
            "\n",
            "A column-vector y was passed when a 1d array was expected. Please change the shape of y to (n_samples, ), for example using ravel().\n",
            "\n"
          ]
        },
        {
          "name": "stdout",
          "output_type": "stream",
          "text": [
            "[LightGBM] [Warning] feature_fraction is set=0.6593467638392523, colsample_bytree=1.0 will be ignored. Current value: feature_fraction=0.6593467638392523\n",
            "[LightGBM] [Warning] feature_fraction is set=0.6593467638392523, colsample_bytree=1.0 will be ignored. Current value: feature_fraction=0.6593467638392523\n",
            "New AUC Score 0.8572761897111668\n"
          ]
        },
        {
          "name": "stderr",
          "output_type": "stream",
          "text": [
            "/usr/local/lib/python3.7/dist-packages/sklearn/preprocessing/_label.py:235: DataConversionWarning:\n",
            "\n",
            "A column-vector y was passed when a 1d array was expected. Please change the shape of y to (n_samples, ), for example using ravel().\n",
            "\n",
            "/usr/local/lib/python3.7/dist-packages/sklearn/preprocessing/_label.py:268: DataConversionWarning:\n",
            "\n",
            "A column-vector y was passed when a 1d array was expected. Please change the shape of y to (n_samples, ), for example using ravel().\n",
            "\n"
          ]
        },
        {
          "name": "stdout",
          "output_type": "stream",
          "text": [
            "[LightGBM] [Warning] feature_fraction is set=0.6593467638392523, colsample_bytree=1.0 will be ignored. Current value: feature_fraction=0.6593467638392523\n",
            "[LightGBM] [Warning] feature_fraction is set=0.6593467638392523, colsample_bytree=1.0 will be ignored. Current value: feature_fraction=0.6593467638392523\n",
            "New AUC Score 0.8568136726759846\n"
          ]
        },
        {
          "name": "stderr",
          "output_type": "stream",
          "text": [
            "/usr/local/lib/python3.7/dist-packages/sklearn/preprocessing/_label.py:235: DataConversionWarning:\n",
            "\n",
            "A column-vector y was passed when a 1d array was expected. Please change the shape of y to (n_samples, ), for example using ravel().\n",
            "\n",
            "/usr/local/lib/python3.7/dist-packages/sklearn/preprocessing/_label.py:268: DataConversionWarning:\n",
            "\n",
            "A column-vector y was passed when a 1d array was expected. Please change the shape of y to (n_samples, ), for example using ravel().\n",
            "\n"
          ]
        },
        {
          "name": "stdout",
          "output_type": "stream",
          "text": [
            "[LightGBM] [Warning] feature_fraction is set=0.6593467638392523, colsample_bytree=1.0 will be ignored. Current value: feature_fraction=0.6593467638392523\n",
            "[LightGBM] [Warning] feature_fraction is set=0.6593467638392523, colsample_bytree=1.0 will be ignored. Current value: feature_fraction=0.6593467638392523\n",
            "New AUC Score 0.8552115927685877\n"
          ]
        },
        {
          "name": "stderr",
          "output_type": "stream",
          "text": [
            "/usr/local/lib/python3.7/dist-packages/sklearn/preprocessing/_label.py:235: DataConversionWarning:\n",
            "\n",
            "A column-vector y was passed when a 1d array was expected. Please change the shape of y to (n_samples, ), for example using ravel().\n",
            "\n",
            "/usr/local/lib/python3.7/dist-packages/sklearn/preprocessing/_label.py:268: DataConversionWarning:\n",
            "\n",
            "A column-vector y was passed when a 1d array was expected. Please change the shape of y to (n_samples, ), for example using ravel().\n",
            "\n"
          ]
        },
        {
          "name": "stdout",
          "output_type": "stream",
          "text": [
            "[LightGBM] [Warning] feature_fraction is set=0.6593467638392523, colsample_bytree=1.0 will be ignored. Current value: feature_fraction=0.6593467638392523\n",
            "[LightGBM] [Warning] feature_fraction is set=0.6593467638392523, colsample_bytree=1.0 will be ignored. Current value: feature_fraction=0.6593467638392523\n",
            "New AUC Score 0.856634495907397\n",
            "all scores [0.857140989683957, 0.8572761897111668, 0.8568136726759846, 0.8552115927685877, 0.856634495907397]\n",
            "Roc AUC score 0.8572761897111668\n",
            "{'boosting_type': 'gbdt', 'class_weight': None, 'colsample_bytree': 1.0, 'importance_type': 'split', 'learning_rate': 0.00839169021420491, 'max_depth': 9, 'min_child_samples': 23, 'min_child_weight': 0.001, 'min_split_gain': 0.0, 'n_estimators': 8421, 'n_jobs': -1, 'num_leaves': 7, 'objective': 'binary', 'random_state': 42, 'reg_alpha': 11, 'reg_lambda': 15, 'silent': True, 'subsample': 0.5434035070392917, 'subsample_for_bin': 200000, 'subsample_freq': 1, 'metric': 'AUC', 'verbosity': 0, 'device': 'gpu', 'feature_fraction': 0.6593467638392523}\n"
          ]
        },
        {
          "name": "stderr",
          "output_type": "stream",
          "text": [
            "\u001b[32m[I 2021-10-03 08:22:42,058]\u001b[0m Trial 6 finished with value: 0.8572761897111668 and parameters: {'boosting_type': 'gbdt', 'subsample': 0.5434035070392917, 'eta': 0.00839169021420491, 'n_estimators': 8421, 'reg_alpha': 11, 'reg_lambda': 15, 'max_depth': 9, 'num_leaves': 7, 'feature_fraction': 0.6593467638392523, 'min_child_samples': 23}. Best is trial 5 with value: 0.8574052417325919.\u001b[0m\n"
          ]
        },
        {
          "name": "stdout",
          "output_type": "stream",
          "text": [
            "filename ./models/lgbm_6 best_model_name./models/best_lgbm  best_trial_number 5\n",
            "STARTING Params: {'metric': 'AUC', 'verbosity': 0, 'device': 'gpu', 'boosting_type': 'gbdt', 'subsample': 0.5454523922024404, 'learning_rate': 0.007491262304633343, 'n_estimators': 7412, 'subsample_freq': 1, 'reg_alpha': 14, 'reg_lambda': 13, 'max_depth': 6, 'num_leaves': 2, 'feature_fraction': 0.7000283809581114, 'min_child_samples': 72, 'objective': 'binary'}\n",
            "Param: {'metric': 'AUC', 'verbosity': 0, 'device': 'gpu', 'boosting_type': 'gbdt', 'subsample': 0.5454523922024404, 'learning_rate': 0.007491262304633343, 'n_estimators': 7412, 'subsample_freq': 1, 'reg_alpha': 14, 'reg_lambda': 13, 'max_depth': 6, 'num_leaves': 2, 'feature_fraction': 0.7000283809581114, 'min_child_samples': 72, 'objective': 'binary'}\n"
          ]
        },
        {
          "name": "stderr",
          "output_type": "stream",
          "text": [
            "/usr/local/lib/python3.7/dist-packages/sklearn/preprocessing/_label.py:235: DataConversionWarning:\n",
            "\n",
            "A column-vector y was passed when a 1d array was expected. Please change the shape of y to (n_samples, ), for example using ravel().\n",
            "\n",
            "/usr/local/lib/python3.7/dist-packages/sklearn/preprocessing/_label.py:268: DataConversionWarning:\n",
            "\n",
            "A column-vector y was passed when a 1d array was expected. Please change the shape of y to (n_samples, ), for example using ravel().\n",
            "\n"
          ]
        },
        {
          "name": "stdout",
          "output_type": "stream",
          "text": [
            "[LightGBM] [Warning] feature_fraction is set=0.7000283809581114, colsample_bytree=1.0 will be ignored. Current value: feature_fraction=0.7000283809581114\n",
            "[LightGBM] [Warning] feature_fraction is set=0.7000283809581114, colsample_bytree=1.0 will be ignored. Current value: feature_fraction=0.7000283809581114\n",
            "New AUC Score 0.8492724629804604\n"
          ]
        },
        {
          "name": "stderr",
          "output_type": "stream",
          "text": [
            "/usr/local/lib/python3.7/dist-packages/sklearn/preprocessing/_label.py:235: DataConversionWarning:\n",
            "\n",
            "A column-vector y was passed when a 1d array was expected. Please change the shape of y to (n_samples, ), for example using ravel().\n",
            "\n",
            "/usr/local/lib/python3.7/dist-packages/sklearn/preprocessing/_label.py:268: DataConversionWarning:\n",
            "\n",
            "A column-vector y was passed when a 1d array was expected. Please change the shape of y to (n_samples, ), for example using ravel().\n",
            "\n"
          ]
        },
        {
          "name": "stdout",
          "output_type": "stream",
          "text": [
            "[LightGBM] [Warning] feature_fraction is set=0.7000283809581114, colsample_bytree=1.0 will be ignored. Current value: feature_fraction=0.7000283809581114\n",
            "[LightGBM] [Warning] feature_fraction is set=0.7000283809581114, colsample_bytree=1.0 will be ignored. Current value: feature_fraction=0.7000283809581114\n",
            "New AUC Score 0.8482437984125899\n"
          ]
        },
        {
          "name": "stderr",
          "output_type": "stream",
          "text": [
            "/usr/local/lib/python3.7/dist-packages/sklearn/preprocessing/_label.py:235: DataConversionWarning:\n",
            "\n",
            "A column-vector y was passed when a 1d array was expected. Please change the shape of y to (n_samples, ), for example using ravel().\n",
            "\n",
            "/usr/local/lib/python3.7/dist-packages/sklearn/preprocessing/_label.py:268: DataConversionWarning:\n",
            "\n",
            "A column-vector y was passed when a 1d array was expected. Please change the shape of y to (n_samples, ), for example using ravel().\n",
            "\n"
          ]
        },
        {
          "name": "stdout",
          "output_type": "stream",
          "text": [
            "[LightGBM] [Warning] feature_fraction is set=0.7000283809581114, colsample_bytree=1.0 will be ignored. Current value: feature_fraction=0.7000283809581114\n",
            "[LightGBM] [Warning] feature_fraction is set=0.7000283809581114, colsample_bytree=1.0 will be ignored. Current value: feature_fraction=0.7000283809581114\n",
            "New AUC Score 0.8473312020539281\n"
          ]
        },
        {
          "name": "stderr",
          "output_type": "stream",
          "text": [
            "/usr/local/lib/python3.7/dist-packages/sklearn/preprocessing/_label.py:235: DataConversionWarning:\n",
            "\n",
            "A column-vector y was passed when a 1d array was expected. Please change the shape of y to (n_samples, ), for example using ravel().\n",
            "\n",
            "/usr/local/lib/python3.7/dist-packages/sklearn/preprocessing/_label.py:268: DataConversionWarning:\n",
            "\n",
            "A column-vector y was passed when a 1d array was expected. Please change the shape of y to (n_samples, ), for example using ravel().\n",
            "\n"
          ]
        },
        {
          "name": "stdout",
          "output_type": "stream",
          "text": [
            "[LightGBM] [Warning] feature_fraction is set=0.7000283809581114, colsample_bytree=1.0 will be ignored. Current value: feature_fraction=0.7000283809581114\n",
            "[LightGBM] [Warning] feature_fraction is set=0.7000283809581114, colsample_bytree=1.0 will be ignored. Current value: feature_fraction=0.7000283809581114\n",
            "New AUC Score 0.8460899006859877\n"
          ]
        },
        {
          "name": "stderr",
          "output_type": "stream",
          "text": [
            "/usr/local/lib/python3.7/dist-packages/sklearn/preprocessing/_label.py:235: DataConversionWarning:\n",
            "\n",
            "A column-vector y was passed when a 1d array was expected. Please change the shape of y to (n_samples, ), for example using ravel().\n",
            "\n",
            "/usr/local/lib/python3.7/dist-packages/sklearn/preprocessing/_label.py:268: DataConversionWarning:\n",
            "\n",
            "A column-vector y was passed when a 1d array was expected. Please change the shape of y to (n_samples, ), for example using ravel().\n",
            "\n"
          ]
        },
        {
          "name": "stdout",
          "output_type": "stream",
          "text": [
            "[LightGBM] [Warning] feature_fraction is set=0.7000283809581114, colsample_bytree=1.0 will be ignored. Current value: feature_fraction=0.7000283809581114\n",
            "[LightGBM] [Warning] feature_fraction is set=0.7000283809581114, colsample_bytree=1.0 will be ignored. Current value: feature_fraction=0.7000283809581114\n",
            "New AUC Score 0.848499782253445\n",
            "all scores [0.8492724629804604, 0.8482437984125899, 0.8473312020539281, 0.8460899006859877, 0.848499782253445]\n",
            "Roc AUC score 0.8492724629804604\n",
            "{'boosting_type': 'gbdt', 'class_weight': None, 'colsample_bytree': 1.0, 'importance_type': 'split', 'learning_rate': 0.007491262304633343, 'max_depth': 6, 'min_child_samples': 72, 'min_child_weight': 0.001, 'min_split_gain': 0.0, 'n_estimators': 7412, 'n_jobs': -1, 'num_leaves': 2, 'objective': 'binary', 'random_state': 42, 'reg_alpha': 14, 'reg_lambda': 13, 'silent': True, 'subsample': 0.5454523922024404, 'subsample_for_bin': 200000, 'subsample_freq': 1, 'metric': 'AUC', 'verbosity': 0, 'device': 'gpu', 'feature_fraction': 0.7000283809581114}\n"
          ]
        },
        {
          "name": "stderr",
          "output_type": "stream",
          "text": [
            "\u001b[32m[I 2021-10-03 08:30:30,104]\u001b[0m Trial 7 finished with value: 0.8492724629804604 and parameters: {'boosting_type': 'gbdt', 'subsample': 0.5454523922024404, 'eta': 0.007491262304633343, 'n_estimators': 7412, 'reg_alpha': 14, 'reg_lambda': 13, 'max_depth': 6, 'num_leaves': 2, 'feature_fraction': 0.7000283809581114, 'min_child_samples': 72}. Best is trial 5 with value: 0.8574052417325919.\u001b[0m\n"
          ]
        },
        {
          "name": "stdout",
          "output_type": "stream",
          "text": [
            "filename ./models/lgbm_7 best_model_name./models/best_lgbm  best_trial_number 5\n",
            "STARTING Params: {'metric': 'AUC', 'verbosity': 0, 'device': 'gpu', 'boosting_type': 'gbdt', 'subsample': 0.56397586146176, 'learning_rate': 0.006975165337962844, 'n_estimators': 5430, 'subsample_freq': 1, 'reg_alpha': 18, 'reg_lambda': 20, 'max_depth': 9, 'num_leaves': 7, 'feature_fraction': 0.5515169912101234, 'min_child_samples': 39, 'objective': 'binary'}\n",
            "Param: {'metric': 'AUC', 'verbosity': 0, 'device': 'gpu', 'boosting_type': 'gbdt', 'subsample': 0.56397586146176, 'learning_rate': 0.006975165337962844, 'n_estimators': 5430, 'subsample_freq': 1, 'reg_alpha': 18, 'reg_lambda': 20, 'max_depth': 9, 'num_leaves': 7, 'feature_fraction': 0.5515169912101234, 'min_child_samples': 39, 'objective': 'binary'}\n"
          ]
        },
        {
          "name": "stderr",
          "output_type": "stream",
          "text": [
            "/usr/local/lib/python3.7/dist-packages/sklearn/preprocessing/_label.py:235: DataConversionWarning:\n",
            "\n",
            "A column-vector y was passed when a 1d array was expected. Please change the shape of y to (n_samples, ), for example using ravel().\n",
            "\n",
            "/usr/local/lib/python3.7/dist-packages/sklearn/preprocessing/_label.py:268: DataConversionWarning:\n",
            "\n",
            "A column-vector y was passed when a 1d array was expected. Please change the shape of y to (n_samples, ), for example using ravel().\n",
            "\n"
          ]
        },
        {
          "name": "stdout",
          "output_type": "stream",
          "text": [
            "[LightGBM] [Warning] feature_fraction is set=0.5515169912101234, colsample_bytree=1.0 will be ignored. Current value: feature_fraction=0.5515169912101234\n",
            "[LightGBM] [Warning] feature_fraction is set=0.5515169912101234, colsample_bytree=1.0 will be ignored. Current value: feature_fraction=0.5515169912101234\n",
            "New AUC Score 0.8538724872086232\n"
          ]
        },
        {
          "name": "stderr",
          "output_type": "stream",
          "text": [
            "/usr/local/lib/python3.7/dist-packages/sklearn/preprocessing/_label.py:235: DataConversionWarning:\n",
            "\n",
            "A column-vector y was passed when a 1d array was expected. Please change the shape of y to (n_samples, ), for example using ravel().\n",
            "\n",
            "/usr/local/lib/python3.7/dist-packages/sklearn/preprocessing/_label.py:268: DataConversionWarning:\n",
            "\n",
            "A column-vector y was passed when a 1d array was expected. Please change the shape of y to (n_samples, ), for example using ravel().\n",
            "\n"
          ]
        },
        {
          "name": "stdout",
          "output_type": "stream",
          "text": [
            "[LightGBM] [Warning] feature_fraction is set=0.5515169912101234, colsample_bytree=1.0 will be ignored. Current value: feature_fraction=0.5515169912101234\n",
            "[LightGBM] [Warning] feature_fraction is set=0.5515169912101234, colsample_bytree=1.0 will be ignored. Current value: feature_fraction=0.5515169912101234\n",
            "New AUC Score 0.8553782144253619\n"
          ]
        },
        {
          "name": "stderr",
          "output_type": "stream",
          "text": [
            "/usr/local/lib/python3.7/dist-packages/sklearn/preprocessing/_label.py:235: DataConversionWarning:\n",
            "\n",
            "A column-vector y was passed when a 1d array was expected. Please change the shape of y to (n_samples, ), for example using ravel().\n",
            "\n",
            "/usr/local/lib/python3.7/dist-packages/sklearn/preprocessing/_label.py:268: DataConversionWarning:\n",
            "\n",
            "A column-vector y was passed when a 1d array was expected. Please change the shape of y to (n_samples, ), for example using ravel().\n",
            "\n"
          ]
        },
        {
          "name": "stdout",
          "output_type": "stream",
          "text": [
            "[LightGBM] [Warning] feature_fraction is set=0.5515169912101234, colsample_bytree=1.0 will be ignored. Current value: feature_fraction=0.5515169912101234\n",
            "[LightGBM] [Warning] feature_fraction is set=0.5515169912101234, colsample_bytree=1.0 will be ignored. Current value: feature_fraction=0.5515169912101234\n",
            "New AUC Score 0.8548295561091294\n"
          ]
        },
        {
          "name": "stderr",
          "output_type": "stream",
          "text": [
            "/usr/local/lib/python3.7/dist-packages/sklearn/preprocessing/_label.py:235: DataConversionWarning:\n",
            "\n",
            "A column-vector y was passed when a 1d array was expected. Please change the shape of y to (n_samples, ), for example using ravel().\n",
            "\n",
            "/usr/local/lib/python3.7/dist-packages/sklearn/preprocessing/_label.py:268: DataConversionWarning:\n",
            "\n",
            "A column-vector y was passed when a 1d array was expected. Please change the shape of y to (n_samples, ), for example using ravel().\n",
            "\n"
          ]
        },
        {
          "name": "stdout",
          "output_type": "stream",
          "text": [
            "[LightGBM] [Warning] feature_fraction is set=0.5515169912101234, colsample_bytree=1.0 will be ignored. Current value: feature_fraction=0.5515169912101234\n",
            "[LightGBM] [Warning] feature_fraction is set=0.5515169912101234, colsample_bytree=1.0 will be ignored. Current value: feature_fraction=0.5515169912101234\n",
            "New AUC Score 0.8539808627105938\n"
          ]
        },
        {
          "name": "stderr",
          "output_type": "stream",
          "text": [
            "/usr/local/lib/python3.7/dist-packages/sklearn/preprocessing/_label.py:235: DataConversionWarning:\n",
            "\n",
            "A column-vector y was passed when a 1d array was expected. Please change the shape of y to (n_samples, ), for example using ravel().\n",
            "\n",
            "/usr/local/lib/python3.7/dist-packages/sklearn/preprocessing/_label.py:268: DataConversionWarning:\n",
            "\n",
            "A column-vector y was passed when a 1d array was expected. Please change the shape of y to (n_samples, ), for example using ravel().\n",
            "\n"
          ]
        },
        {
          "name": "stdout",
          "output_type": "stream",
          "text": [
            "[LightGBM] [Warning] feature_fraction is set=0.5515169912101234, colsample_bytree=1.0 will be ignored. Current value: feature_fraction=0.5515169912101234\n",
            "[LightGBM] [Warning] feature_fraction is set=0.5515169912101234, colsample_bytree=1.0 will be ignored. Current value: feature_fraction=0.5515169912101234\n"
          ]
        },
        {
          "name": "stderr",
          "output_type": "stream",
          "text": [
            "\u001b[32m[I 2021-10-03 08:43:01,876]\u001b[0m Trial 8 finished with value: 0.8553782144253619 and parameters: {'boosting_type': 'gbdt', 'subsample': 0.56397586146176, 'eta': 0.006975165337962844, 'n_estimators': 5430, 'reg_alpha': 18, 'reg_lambda': 20, 'max_depth': 9, 'num_leaves': 7, 'feature_fraction': 0.5515169912101234, 'min_child_samples': 39}. Best is trial 5 with value: 0.8574052417325919.\u001b[0m\n"
          ]
        },
        {
          "name": "stdout",
          "output_type": "stream",
          "text": [
            "New AUC Score 0.8538492080867199\n",
            "all scores [0.8538724872086232, 0.8553782144253619, 0.8548295561091294, 0.8539808627105938, 0.8538492080867199]\n",
            "Roc AUC score 0.8553782144253619\n",
            "{'boosting_type': 'gbdt', 'class_weight': None, 'colsample_bytree': 1.0, 'importance_type': 'split', 'learning_rate': 0.006975165337962844, 'max_depth': 9, 'min_child_samples': 39, 'min_child_weight': 0.001, 'min_split_gain': 0.0, 'n_estimators': 5430, 'n_jobs': -1, 'num_leaves': 7, 'objective': 'binary', 'random_state': 42, 'reg_alpha': 18, 'reg_lambda': 20, 'silent': True, 'subsample': 0.56397586146176, 'subsample_for_bin': 200000, 'subsample_freq': 1, 'metric': 'AUC', 'verbosity': 0, 'device': 'gpu', 'feature_fraction': 0.5515169912101234}\n",
            "filename ./models/lgbm_8 best_model_name./models/best_lgbm  best_trial_number 5\n",
            "STARTING Params: {'metric': 'AUC', 'verbosity': 0, 'device': 'gpu', 'boosting_type': 'gbdt', 'subsample': 0.5357173022144909, 'learning_rate': 0.00613765275630212, 'n_estimators': 2095, 'subsample_freq': 1, 'reg_alpha': 18, 'reg_lambda': 20, 'max_depth': 10, 'num_leaves': 12, 'feature_fraction': 0.47376526714093614, 'min_child_samples': 66, 'objective': 'binary'}\n",
            "Param: {'metric': 'AUC', 'verbosity': 0, 'device': 'gpu', 'boosting_type': 'gbdt', 'subsample': 0.5357173022144909, 'learning_rate': 0.00613765275630212, 'n_estimators': 2095, 'subsample_freq': 1, 'reg_alpha': 18, 'reg_lambda': 20, 'max_depth': 10, 'num_leaves': 12, 'feature_fraction': 0.47376526714093614, 'min_child_samples': 66, 'objective': 'binary'}\n"
          ]
        },
        {
          "name": "stderr",
          "output_type": "stream",
          "text": [
            "/usr/local/lib/python3.7/dist-packages/sklearn/preprocessing/_label.py:235: DataConversionWarning:\n",
            "\n",
            "A column-vector y was passed when a 1d array was expected. Please change the shape of y to (n_samples, ), for example using ravel().\n",
            "\n",
            "/usr/local/lib/python3.7/dist-packages/sklearn/preprocessing/_label.py:268: DataConversionWarning:\n",
            "\n",
            "A column-vector y was passed when a 1d array was expected. Please change the shape of y to (n_samples, ), for example using ravel().\n",
            "\n"
          ]
        },
        {
          "name": "stdout",
          "output_type": "stream",
          "text": [
            "[LightGBM] [Warning] feature_fraction is set=0.47376526714093614, colsample_bytree=1.0 will be ignored. Current value: feature_fraction=0.47376526714093614\n",
            "[LightGBM] [Warning] feature_fraction is set=0.47376526714093614, colsample_bytree=1.0 will be ignored. Current value: feature_fraction=0.47376526714093614\n",
            "New AUC Score 0.8495741784643445\n"
          ]
        },
        {
          "name": "stderr",
          "output_type": "stream",
          "text": [
            "/usr/local/lib/python3.7/dist-packages/sklearn/preprocessing/_label.py:235: DataConversionWarning:\n",
            "\n",
            "A column-vector y was passed when a 1d array was expected. Please change the shape of y to (n_samples, ), for example using ravel().\n",
            "\n",
            "/usr/local/lib/python3.7/dist-packages/sklearn/preprocessing/_label.py:268: DataConversionWarning:\n",
            "\n",
            "A column-vector y was passed when a 1d array was expected. Please change the shape of y to (n_samples, ), for example using ravel().\n",
            "\n"
          ]
        },
        {
          "name": "stdout",
          "output_type": "stream",
          "text": [
            "[LightGBM] [Warning] feature_fraction is set=0.47376526714093614, colsample_bytree=1.0 will be ignored. Current value: feature_fraction=0.47376526714093614\n",
            "[LightGBM] [Warning] feature_fraction is set=0.47376526714093614, colsample_bytree=1.0 will be ignored. Current value: feature_fraction=0.47376526714093614\n",
            "New AUC Score 0.8485765619256871\n"
          ]
        },
        {
          "name": "stderr",
          "output_type": "stream",
          "text": [
            "/usr/local/lib/python3.7/dist-packages/sklearn/preprocessing/_label.py:235: DataConversionWarning:\n",
            "\n",
            "A column-vector y was passed when a 1d array was expected. Please change the shape of y to (n_samples, ), for example using ravel().\n",
            "\n",
            "/usr/local/lib/python3.7/dist-packages/sklearn/preprocessing/_label.py:268: DataConversionWarning:\n",
            "\n",
            "A column-vector y was passed when a 1d array was expected. Please change the shape of y to (n_samples, ), for example using ravel().\n",
            "\n"
          ]
        },
        {
          "name": "stdout",
          "output_type": "stream",
          "text": [
            "[LightGBM] [Warning] feature_fraction is set=0.47376526714093614, colsample_bytree=1.0 will be ignored. Current value: feature_fraction=0.47376526714093614\n",
            "[LightGBM] [Warning] feature_fraction is set=0.47376526714093614, colsample_bytree=1.0 will be ignored. Current value: feature_fraction=0.47376526714093614\n",
            "New AUC Score 0.8489476731748657\n"
          ]
        },
        {
          "name": "stderr",
          "output_type": "stream",
          "text": [
            "/usr/local/lib/python3.7/dist-packages/sklearn/preprocessing/_label.py:235: DataConversionWarning:\n",
            "\n",
            "A column-vector y was passed when a 1d array was expected. Please change the shape of y to (n_samples, ), for example using ravel().\n",
            "\n",
            "/usr/local/lib/python3.7/dist-packages/sklearn/preprocessing/_label.py:268: DataConversionWarning:\n",
            "\n",
            "A column-vector y was passed when a 1d array was expected. Please change the shape of y to (n_samples, ), for example using ravel().\n",
            "\n"
          ]
        },
        {
          "name": "stdout",
          "output_type": "stream",
          "text": [
            "[LightGBM] [Warning] feature_fraction is set=0.47376526714093614, colsample_bytree=1.0 will be ignored. Current value: feature_fraction=0.47376526714093614\n",
            "[LightGBM] [Warning] feature_fraction is set=0.47376526714093614, colsample_bytree=1.0 will be ignored. Current value: feature_fraction=0.47376526714093614\n",
            "New AUC Score 0.8484506179071865\n"
          ]
        },
        {
          "name": "stderr",
          "output_type": "stream",
          "text": [
            "/usr/local/lib/python3.7/dist-packages/sklearn/preprocessing/_label.py:235: DataConversionWarning:\n",
            "\n",
            "A column-vector y was passed when a 1d array was expected. Please change the shape of y to (n_samples, ), for example using ravel().\n",
            "\n",
            "/usr/local/lib/python3.7/dist-packages/sklearn/preprocessing/_label.py:268: DataConversionWarning:\n",
            "\n",
            "A column-vector y was passed when a 1d array was expected. Please change the shape of y to (n_samples, ), for example using ravel().\n",
            "\n"
          ]
        },
        {
          "name": "stdout",
          "output_type": "stream",
          "text": [
            "[LightGBM] [Warning] feature_fraction is set=0.47376526714093614, colsample_bytree=1.0 will be ignored. Current value: feature_fraction=0.47376526714093614\n",
            "[LightGBM] [Warning] feature_fraction is set=0.47376526714093614, colsample_bytree=1.0 will be ignored. Current value: feature_fraction=0.47376526714093614\n"
          ]
        },
        {
          "name": "stderr",
          "output_type": "stream",
          "text": [
            "\u001b[32m[I 2021-10-03 08:49:15,776]\u001b[0m Trial 9 finished with value: 0.8495741784643445 and parameters: {'boosting_type': 'gbdt', 'subsample': 0.5357173022144909, 'eta': 0.00613765275630212, 'n_estimators': 2095, 'reg_alpha': 18, 'reg_lambda': 20, 'max_depth': 10, 'num_leaves': 12, 'feature_fraction': 0.47376526714093614, 'min_child_samples': 66}. Best is trial 5 with value: 0.8574052417325919.\u001b[0m\n"
          ]
        },
        {
          "name": "stdout",
          "output_type": "stream",
          "text": [
            "New AUC Score 0.848335757299114\n",
            "all scores [0.8495741784643445, 0.8485765619256871, 0.8489476731748657, 0.8484506179071865, 0.848335757299114]\n",
            "Roc AUC score 0.8495741784643445\n",
            "{'boosting_type': 'gbdt', 'class_weight': None, 'colsample_bytree': 1.0, 'importance_type': 'split', 'learning_rate': 0.00613765275630212, 'max_depth': 10, 'min_child_samples': 66, 'min_child_weight': 0.001, 'min_split_gain': 0.0, 'n_estimators': 2095, 'n_jobs': -1, 'num_leaves': 12, 'objective': 'binary', 'random_state': 42, 'reg_alpha': 18, 'reg_lambda': 20, 'silent': True, 'subsample': 0.5357173022144909, 'subsample_for_bin': 200000, 'subsample_freq': 1, 'metric': 'AUC', 'verbosity': 0, 'device': 'gpu', 'feature_fraction': 0.47376526714093614}\n",
            "filename ./models/lgbm_9 best_model_name./models/best_lgbm  best_trial_number 5\n",
            "STARTING Params: {'metric': 'AUC', 'verbosity': 0, 'device': 'gpu', 'boosting_type': 'gbdt', 'subsample': 0.5192120450728119, 'learning_rate': 0.013256404465665754, 'n_estimators': 9905, 'subsample_freq': 1, 'reg_alpha': 20, 'reg_lambda': 18, 'max_depth': 8, 'num_leaves': 5, 'feature_fraction': 0.757570401975907, 'min_child_samples': 100, 'objective': 'binary'}\n",
            "Param: {'metric': 'AUC', 'verbosity': 0, 'device': 'gpu', 'boosting_type': 'gbdt', 'subsample': 0.5192120450728119, 'learning_rate': 0.013256404465665754, 'n_estimators': 9905, 'subsample_freq': 1, 'reg_alpha': 20, 'reg_lambda': 18, 'max_depth': 8, 'num_leaves': 5, 'feature_fraction': 0.757570401975907, 'min_child_samples': 100, 'objective': 'binary'}\n"
          ]
        },
        {
          "name": "stderr",
          "output_type": "stream",
          "text": [
            "/usr/local/lib/python3.7/dist-packages/sklearn/preprocessing/_label.py:235: DataConversionWarning:\n",
            "\n",
            "A column-vector y was passed when a 1d array was expected. Please change the shape of y to (n_samples, ), for example using ravel().\n",
            "\n",
            "/usr/local/lib/python3.7/dist-packages/sklearn/preprocessing/_label.py:268: DataConversionWarning:\n",
            "\n",
            "A column-vector y was passed when a 1d array was expected. Please change the shape of y to (n_samples, ), for example using ravel().\n",
            "\n"
          ]
        },
        {
          "name": "stdout",
          "output_type": "stream",
          "text": [
            "[LightGBM] [Warning] feature_fraction is set=0.757570401975907, colsample_bytree=1.0 will be ignored. Current value: feature_fraction=0.757570401975907\n",
            "[LightGBM] [Warning] feature_fraction is set=0.757570401975907, colsample_bytree=1.0 will be ignored. Current value: feature_fraction=0.757570401975907\n",
            "New AUC Score 0.857854355355163\n"
          ]
        },
        {
          "name": "stderr",
          "output_type": "stream",
          "text": [
            "/usr/local/lib/python3.7/dist-packages/sklearn/preprocessing/_label.py:235: DataConversionWarning:\n",
            "\n",
            "A column-vector y was passed when a 1d array was expected. Please change the shape of y to (n_samples, ), for example using ravel().\n",
            "\n",
            "/usr/local/lib/python3.7/dist-packages/sklearn/preprocessing/_label.py:268: DataConversionWarning:\n",
            "\n",
            "A column-vector y was passed when a 1d array was expected. Please change the shape of y to (n_samples, ), for example using ravel().\n",
            "\n"
          ]
        },
        {
          "name": "stdout",
          "output_type": "stream",
          "text": [
            "[LightGBM] [Warning] feature_fraction is set=0.757570401975907, colsample_bytree=1.0 will be ignored. Current value: feature_fraction=0.757570401975907\n",
            "[LightGBM] [Warning] feature_fraction is set=0.757570401975907, colsample_bytree=1.0 will be ignored. Current value: feature_fraction=0.757570401975907\n",
            "New AUC Score 0.8555802355154437\n"
          ]
        },
        {
          "name": "stderr",
          "output_type": "stream",
          "text": [
            "/usr/local/lib/python3.7/dist-packages/sklearn/preprocessing/_label.py:235: DataConversionWarning:\n",
            "\n",
            "A column-vector y was passed when a 1d array was expected. Please change the shape of y to (n_samples, ), for example using ravel().\n",
            "\n",
            "/usr/local/lib/python3.7/dist-packages/sklearn/preprocessing/_label.py:268: DataConversionWarning:\n",
            "\n",
            "A column-vector y was passed when a 1d array was expected. Please change the shape of y to (n_samples, ), for example using ravel().\n",
            "\n"
          ]
        },
        {
          "name": "stdout",
          "output_type": "stream",
          "text": [
            "[LightGBM] [Warning] feature_fraction is set=0.757570401975907, colsample_bytree=1.0 will be ignored. Current value: feature_fraction=0.757570401975907\n",
            "[LightGBM] [Warning] feature_fraction is set=0.757570401975907, colsample_bytree=1.0 will be ignored. Current value: feature_fraction=0.757570401975907\n",
            "New AUC Score 0.8565968943720179\n"
          ]
        },
        {
          "name": "stderr",
          "output_type": "stream",
          "text": [
            "/usr/local/lib/python3.7/dist-packages/sklearn/preprocessing/_label.py:235: DataConversionWarning:\n",
            "\n",
            "A column-vector y was passed when a 1d array was expected. Please change the shape of y to (n_samples, ), for example using ravel().\n",
            "\n",
            "/usr/local/lib/python3.7/dist-packages/sklearn/preprocessing/_label.py:268: DataConversionWarning:\n",
            "\n",
            "A column-vector y was passed when a 1d array was expected. Please change the shape of y to (n_samples, ), for example using ravel().\n",
            "\n"
          ]
        },
        {
          "name": "stdout",
          "output_type": "stream",
          "text": [
            "[LightGBM] [Warning] feature_fraction is set=0.757570401975907, colsample_bytree=1.0 will be ignored. Current value: feature_fraction=0.757570401975907\n",
            "[LightGBM] [Warning] feature_fraction is set=0.757570401975907, colsample_bytree=1.0 will be ignored. Current value: feature_fraction=0.757570401975907\n",
            "New AUC Score 0.8568153101775253\n"
          ]
        },
        {
          "name": "stderr",
          "output_type": "stream",
          "text": [
            "/usr/local/lib/python3.7/dist-packages/sklearn/preprocessing/_label.py:235: DataConversionWarning:\n",
            "\n",
            "A column-vector y was passed when a 1d array was expected. Please change the shape of y to (n_samples, ), for example using ravel().\n",
            "\n",
            "/usr/local/lib/python3.7/dist-packages/sklearn/preprocessing/_label.py:268: DataConversionWarning:\n",
            "\n",
            "A column-vector y was passed when a 1d array was expected. Please change the shape of y to (n_samples, ), for example using ravel().\n",
            "\n"
          ]
        },
        {
          "name": "stdout",
          "output_type": "stream",
          "text": [
            "[LightGBM] [Warning] feature_fraction is set=0.757570401975907, colsample_bytree=1.0 will be ignored. Current value: feature_fraction=0.757570401975907\n",
            "[LightGBM] [Warning] feature_fraction is set=0.757570401975907, colsample_bytree=1.0 will be ignored. Current value: feature_fraction=0.757570401975907\n",
            "New AUC Score 0.8577696942755053\n",
            "all scores [0.857854355355163, 0.8555802355154437, 0.8565968943720179, 0.8568153101775253, 0.8577696942755053]\n",
            "Roc AUC score 0.857854355355163\n",
            "{'boosting_type': 'gbdt', 'class_weight': None, 'colsample_bytree': 1.0, 'importance_type': 'split', 'learning_rate': 0.013256404465665754, 'max_depth': 8, 'min_child_samples': 100, 'min_child_weight': 0.001, 'min_split_gain': 0.0, 'n_estimators': 9905, 'n_jobs': -1, 'num_leaves': 5, 'objective': 'binary', 'random_state': 42, 'reg_alpha': 20, 'reg_lambda': 18, 'silent': True, 'subsample': 0.5192120450728119, 'subsample_for_bin': 200000, 'subsample_freq': 1, 'metric': 'AUC', 'verbosity': 0, 'device': 'gpu', 'feature_fraction': 0.757570401975907}\n"
          ]
        },
        {
          "name": "stderr",
          "output_type": "stream",
          "text": [
            "\u001b[32m[I 2021-10-03 09:02:28,967]\u001b[0m Trial 10 finished with value: 0.857854355355163 and parameters: {'boosting_type': 'gbdt', 'subsample': 0.5192120450728119, 'eta': 0.013256404465665754, 'n_estimators': 9905, 'reg_alpha': 20, 'reg_lambda': 18, 'max_depth': 8, 'num_leaves': 5, 'feature_fraction': 0.757570401975907, 'min_child_samples': 100}. Best is trial 10 with value: 0.857854355355163.\u001b[0m\n"
          ]
        },
        {
          "name": "stdout",
          "output_type": "stream",
          "text": [
            "filename ./models/lgbm_10 best_model_name./models/best_lgbm  best_trial_number 10\n",
            "STARTING Params: {'metric': 'AUC', 'verbosity': 0, 'device': 'gpu', 'boosting_type': 'gbdt', 'subsample': 0.5133571331323926, 'learning_rate': 0.013357829139921826, 'n_estimators': 9543, 'subsample_freq': 1, 'reg_alpha': 20, 'reg_lambda': 18, 'max_depth': 8, 'num_leaves': 5, 'feature_fraction': 0.8274108956303512, 'min_child_samples': 100, 'objective': 'binary'}\n",
            "Param: {'metric': 'AUC', 'verbosity': 0, 'device': 'gpu', 'boosting_type': 'gbdt', 'subsample': 0.5133571331323926, 'learning_rate': 0.013357829139921826, 'n_estimators': 9543, 'subsample_freq': 1, 'reg_alpha': 20, 'reg_lambda': 18, 'max_depth': 8, 'num_leaves': 5, 'feature_fraction': 0.8274108956303512, 'min_child_samples': 100, 'objective': 'binary'}\n"
          ]
        },
        {
          "name": "stderr",
          "output_type": "stream",
          "text": [
            "/usr/local/lib/python3.7/dist-packages/sklearn/preprocessing/_label.py:235: DataConversionWarning:\n",
            "\n",
            "A column-vector y was passed when a 1d array was expected. Please change the shape of y to (n_samples, ), for example using ravel().\n",
            "\n",
            "/usr/local/lib/python3.7/dist-packages/sklearn/preprocessing/_label.py:268: DataConversionWarning:\n",
            "\n",
            "A column-vector y was passed when a 1d array was expected. Please change the shape of y to (n_samples, ), for example using ravel().\n",
            "\n"
          ]
        },
        {
          "name": "stdout",
          "output_type": "stream",
          "text": [
            "[LightGBM] [Warning] feature_fraction is set=0.8274108956303512, colsample_bytree=1.0 will be ignored. Current value: feature_fraction=0.8274108956303512\n",
            "[LightGBM] [Warning] feature_fraction is set=0.8274108956303512, colsample_bytree=1.0 will be ignored. Current value: feature_fraction=0.8274108956303512\n",
            "New AUC Score 0.8566316513047207\n"
          ]
        },
        {
          "name": "stderr",
          "output_type": "stream",
          "text": [
            "/usr/local/lib/python3.7/dist-packages/sklearn/preprocessing/_label.py:235: DataConversionWarning:\n",
            "\n",
            "A column-vector y was passed when a 1d array was expected. Please change the shape of y to (n_samples, ), for example using ravel().\n",
            "\n",
            "/usr/local/lib/python3.7/dist-packages/sklearn/preprocessing/_label.py:268: DataConversionWarning:\n",
            "\n",
            "A column-vector y was passed when a 1d array was expected. Please change the shape of y to (n_samples, ), for example using ravel().\n",
            "\n"
          ]
        },
        {
          "name": "stdout",
          "output_type": "stream",
          "text": [
            "[LightGBM] [Warning] feature_fraction is set=0.8274108956303512, colsample_bytree=1.0 will be ignored. Current value: feature_fraction=0.8274108956303512\n",
            "[LightGBM] [Warning] feature_fraction is set=0.8274108956303512, colsample_bytree=1.0 will be ignored. Current value: feature_fraction=0.8274108956303512\n",
            "New AUC Score 0.8570256562754399\n"
          ]
        },
        {
          "name": "stderr",
          "output_type": "stream",
          "text": [
            "/usr/local/lib/python3.7/dist-packages/sklearn/preprocessing/_label.py:235: DataConversionWarning:\n",
            "\n",
            "A column-vector y was passed when a 1d array was expected. Please change the shape of y to (n_samples, ), for example using ravel().\n",
            "\n",
            "/usr/local/lib/python3.7/dist-packages/sklearn/preprocessing/_label.py:268: DataConversionWarning:\n",
            "\n",
            "A column-vector y was passed when a 1d array was expected. Please change the shape of y to (n_samples, ), for example using ravel().\n",
            "\n"
          ]
        },
        {
          "name": "stdout",
          "output_type": "stream",
          "text": [
            "[LightGBM] [Warning] feature_fraction is set=0.8274108956303512, colsample_bytree=1.0 will be ignored. Current value: feature_fraction=0.8274108956303512\n",
            "[LightGBM] [Warning] feature_fraction is set=0.8274108956303512, colsample_bytree=1.0 will be ignored. Current value: feature_fraction=0.8274108956303512\n",
            "New AUC Score 0.8574280362540393\n"
          ]
        },
        {
          "name": "stderr",
          "output_type": "stream",
          "text": [
            "/usr/local/lib/python3.7/dist-packages/sklearn/preprocessing/_label.py:235: DataConversionWarning:\n",
            "\n",
            "A column-vector y was passed when a 1d array was expected. Please change the shape of y to (n_samples, ), for example using ravel().\n",
            "\n",
            "/usr/local/lib/python3.7/dist-packages/sklearn/preprocessing/_label.py:268: DataConversionWarning:\n",
            "\n",
            "A column-vector y was passed when a 1d array was expected. Please change the shape of y to (n_samples, ), for example using ravel().\n",
            "\n"
          ]
        },
        {
          "name": "stdout",
          "output_type": "stream",
          "text": [
            "[LightGBM] [Warning] feature_fraction is set=0.8274108956303512, colsample_bytree=1.0 will be ignored. Current value: feature_fraction=0.8274108956303512\n",
            "[LightGBM] [Warning] feature_fraction is set=0.8274108956303512, colsample_bytree=1.0 will be ignored. Current value: feature_fraction=0.8274108956303512\n",
            "New AUC Score 0.8571638288054465\n"
          ]
        },
        {
          "name": "stderr",
          "output_type": "stream",
          "text": [
            "/usr/local/lib/python3.7/dist-packages/sklearn/preprocessing/_label.py:235: DataConversionWarning:\n",
            "\n",
            "A column-vector y was passed when a 1d array was expected. Please change the shape of y to (n_samples, ), for example using ravel().\n",
            "\n",
            "/usr/local/lib/python3.7/dist-packages/sklearn/preprocessing/_label.py:268: DataConversionWarning:\n",
            "\n",
            "A column-vector y was passed when a 1d array was expected. Please change the shape of y to (n_samples, ), for example using ravel().\n",
            "\n"
          ]
        },
        {
          "name": "stdout",
          "output_type": "stream",
          "text": [
            "[LightGBM] [Warning] feature_fraction is set=0.8274108956303512, colsample_bytree=1.0 will be ignored. Current value: feature_fraction=0.8274108956303512\n",
            "[LightGBM] [Warning] feature_fraction is set=0.8274108956303512, colsample_bytree=1.0 will be ignored. Current value: feature_fraction=0.8274108956303512\n",
            "New AUC Score 0.8562872900807111\n",
            "all scores [0.8566316513047207, 0.8570256562754399, 0.8574280362540393, 0.8571638288054465, 0.8562872900807111]\n",
            "Roc AUC score 0.8574280362540393\n",
            "{'boosting_type': 'gbdt', 'class_weight': None, 'colsample_bytree': 1.0, 'importance_type': 'split', 'learning_rate': 0.013357829139921826, 'max_depth': 8, 'min_child_samples': 100, 'min_child_weight': 0.001, 'min_split_gain': 0.0, 'n_estimators': 9543, 'n_jobs': -1, 'num_leaves': 5, 'objective': 'binary', 'random_state': 42, 'reg_alpha': 20, 'reg_lambda': 18, 'silent': True, 'subsample': 0.5133571331323926, 'subsample_for_bin': 200000, 'subsample_freq': 1, 'metric': 'AUC', 'verbosity': 0, 'device': 'gpu', 'feature_fraction': 0.8274108956303512}\n"
          ]
        },
        {
          "name": "stderr",
          "output_type": "stream",
          "text": [
            "\u001b[32m[I 2021-10-03 09:14:57,918]\u001b[0m Trial 11 finished with value: 0.8574280362540393 and parameters: {'boosting_type': 'gbdt', 'subsample': 0.5133571331323926, 'eta': 0.013357829139921826, 'n_estimators': 9543, 'reg_alpha': 20, 'reg_lambda': 18, 'max_depth': 8, 'num_leaves': 5, 'feature_fraction': 0.8274108956303512, 'min_child_samples': 100}. Best is trial 10 with value: 0.857854355355163.\u001b[0m\n"
          ]
        },
        {
          "name": "stdout",
          "output_type": "stream",
          "text": [
            "filename ./models/lgbm_11 best_model_name./models/best_lgbm  best_trial_number 10\n",
            "STARTING Params: {'metric': 'AUC', 'verbosity': 0, 'device': 'gpu', 'boosting_type': 'gbdt', 'subsample': 0.5033053825356156, 'learning_rate': 0.0148959597962524, 'n_estimators': 9918, 'subsample_freq': 1, 'reg_alpha': 20, 'reg_lambda': 18, 'max_depth': 8, 'num_leaves': 5, 'feature_fraction': 0.8148879596036588, 'min_child_samples': 99, 'objective': 'binary'}\n",
            "Param: {'metric': 'AUC', 'verbosity': 0, 'device': 'gpu', 'boosting_type': 'gbdt', 'subsample': 0.5033053825356156, 'learning_rate': 0.0148959597962524, 'n_estimators': 9918, 'subsample_freq': 1, 'reg_alpha': 20, 'reg_lambda': 18, 'max_depth': 8, 'num_leaves': 5, 'feature_fraction': 0.8148879596036588, 'min_child_samples': 99, 'objective': 'binary'}\n"
          ]
        },
        {
          "name": "stderr",
          "output_type": "stream",
          "text": [
            "/usr/local/lib/python3.7/dist-packages/sklearn/preprocessing/_label.py:235: DataConversionWarning:\n",
            "\n",
            "A column-vector y was passed when a 1d array was expected. Please change the shape of y to (n_samples, ), for example using ravel().\n",
            "\n",
            "/usr/local/lib/python3.7/dist-packages/sklearn/preprocessing/_label.py:268: DataConversionWarning:\n",
            "\n",
            "A column-vector y was passed when a 1d array was expected. Please change the shape of y to (n_samples, ), for example using ravel().\n",
            "\n"
          ]
        },
        {
          "name": "stdout",
          "output_type": "stream",
          "text": [
            "[LightGBM] [Warning] feature_fraction is set=0.8148879596036588, colsample_bytree=1.0 will be ignored. Current value: feature_fraction=0.8148879596036588\n",
            "[LightGBM] [Warning] feature_fraction is set=0.8148879596036588, colsample_bytree=1.0 will be ignored. Current value: feature_fraction=0.8148879596036588\n",
            "New AUC Score 0.8563076031998238\n"
          ]
        },
        {
          "name": "stderr",
          "output_type": "stream",
          "text": [
            "/usr/local/lib/python3.7/dist-packages/sklearn/preprocessing/_label.py:235: DataConversionWarning:\n",
            "\n",
            "A column-vector y was passed when a 1d array was expected. Please change the shape of y to (n_samples, ), for example using ravel().\n",
            "\n",
            "/usr/local/lib/python3.7/dist-packages/sklearn/preprocessing/_label.py:268: DataConversionWarning:\n",
            "\n",
            "A column-vector y was passed when a 1d array was expected. Please change the shape of y to (n_samples, ), for example using ravel().\n",
            "\n"
          ]
        },
        {
          "name": "stdout",
          "output_type": "stream",
          "text": [
            "[LightGBM] [Warning] feature_fraction is set=0.8148879596036588, colsample_bytree=1.0 will be ignored. Current value: feature_fraction=0.8148879596036588\n",
            "[LightGBM] [Warning] feature_fraction is set=0.8148879596036588, colsample_bytree=1.0 will be ignored. Current value: feature_fraction=0.8148879596036588\n",
            "New AUC Score 0.8562197388171522\n"
          ]
        },
        {
          "name": "stderr",
          "output_type": "stream",
          "text": [
            "/usr/local/lib/python3.7/dist-packages/sklearn/preprocessing/_label.py:235: DataConversionWarning:\n",
            "\n",
            "A column-vector y was passed when a 1d array was expected. Please change the shape of y to (n_samples, ), for example using ravel().\n",
            "\n",
            "/usr/local/lib/python3.7/dist-packages/sklearn/preprocessing/_label.py:268: DataConversionWarning:\n",
            "\n",
            "A column-vector y was passed when a 1d array was expected. Please change the shape of y to (n_samples, ), for example using ravel().\n",
            "\n"
          ]
        },
        {
          "name": "stdout",
          "output_type": "stream",
          "text": [
            "[LightGBM] [Warning] feature_fraction is set=0.8148879596036588, colsample_bytree=1.0 will be ignored. Current value: feature_fraction=0.8148879596036588\n",
            "[LightGBM] [Warning] feature_fraction is set=0.8148879596036588, colsample_bytree=1.0 will be ignored. Current value: feature_fraction=0.8148879596036588\n",
            "New AUC Score 0.857593634809851\n"
          ]
        },
        {
          "name": "stderr",
          "output_type": "stream",
          "text": [
            "/usr/local/lib/python3.7/dist-packages/sklearn/preprocessing/_label.py:235: DataConversionWarning:\n",
            "\n",
            "A column-vector y was passed when a 1d array was expected. Please change the shape of y to (n_samples, ), for example using ravel().\n",
            "\n",
            "/usr/local/lib/python3.7/dist-packages/sklearn/preprocessing/_label.py:268: DataConversionWarning:\n",
            "\n",
            "A column-vector y was passed when a 1d array was expected. Please change the shape of y to (n_samples, ), for example using ravel().\n",
            "\n"
          ]
        },
        {
          "name": "stdout",
          "output_type": "stream",
          "text": [
            "[LightGBM] [Warning] feature_fraction is set=0.8148879596036588, colsample_bytree=1.0 will be ignored. Current value: feature_fraction=0.8148879596036588\n",
            "[LightGBM] [Warning] feature_fraction is set=0.8148879596036588, colsample_bytree=1.0 will be ignored. Current value: feature_fraction=0.8148879596036588\n",
            "New AUC Score 0.8569038938608737\n"
          ]
        },
        {
          "name": "stderr",
          "output_type": "stream",
          "text": [
            "/usr/local/lib/python3.7/dist-packages/sklearn/preprocessing/_label.py:235: DataConversionWarning:\n",
            "\n",
            "A column-vector y was passed when a 1d array was expected. Please change the shape of y to (n_samples, ), for example using ravel().\n",
            "\n",
            "/usr/local/lib/python3.7/dist-packages/sklearn/preprocessing/_label.py:268: DataConversionWarning:\n",
            "\n",
            "A column-vector y was passed when a 1d array was expected. Please change the shape of y to (n_samples, ), for example using ravel().\n",
            "\n"
          ]
        },
        {
          "name": "stdout",
          "output_type": "stream",
          "text": [
            "[LightGBM] [Warning] feature_fraction is set=0.8148879596036588, colsample_bytree=1.0 will be ignored. Current value: feature_fraction=0.8148879596036588\n",
            "[LightGBM] [Warning] feature_fraction is set=0.8148879596036588, colsample_bytree=1.0 will be ignored. Current value: feature_fraction=0.8148879596036588\n",
            "New AUC Score 0.8577990361031131\n",
            "all scores [0.8563076031998238, 0.8562197388171522, 0.857593634809851, 0.8569038938608737, 0.8577990361031131]\n",
            "Roc AUC score 0.8577990361031131\n",
            "{'boosting_type': 'gbdt', 'class_weight': None, 'colsample_bytree': 1.0, 'importance_type': 'split', 'learning_rate': 0.0148959597962524, 'max_depth': 8, 'min_child_samples': 99, 'min_child_weight': 0.001, 'min_split_gain': 0.0, 'n_estimators': 9918, 'n_jobs': -1, 'num_leaves': 5, 'objective': 'binary', 'random_state': 42, 'reg_alpha': 20, 'reg_lambda': 18, 'silent': True, 'subsample': 0.5033053825356156, 'subsample_for_bin': 200000, 'subsample_freq': 1, 'metric': 'AUC', 'verbosity': 0, 'device': 'gpu', 'feature_fraction': 0.8148879596036588}\n"
          ]
        },
        {
          "name": "stderr",
          "output_type": "stream",
          "text": [
            "\u001b[32m[I 2021-10-03 09:27:44,880]\u001b[0m Trial 12 finished with value: 0.8577990361031131 and parameters: {'boosting_type': 'gbdt', 'subsample': 0.5033053825356156, 'eta': 0.0148959597962524, 'n_estimators': 9918, 'reg_alpha': 20, 'reg_lambda': 18, 'max_depth': 8, 'num_leaves': 5, 'feature_fraction': 0.8148879596036588, 'min_child_samples': 99}. Best is trial 10 with value: 0.857854355355163.\u001b[0m\n"
          ]
        },
        {
          "name": "stdout",
          "output_type": "stream",
          "text": [
            "filename ./models/lgbm_12 best_model_name./models/best_lgbm  best_trial_number 10\n",
            "STARTING Params: {'metric': 'AUC', 'verbosity': 0, 'device': 'gpu', 'boosting_type': 'gbdt', 'subsample': 0.5014634797979837, 'learning_rate': 0.014676019992094936, 'n_estimators': 9856, 'subsample_freq': 1, 'reg_alpha': 17, 'reg_lambda': 17, 'max_depth': 7, 'num_leaves': 5, 'feature_fraction': 0.8267533967208518, 'min_child_samples': 82, 'objective': 'binary'}\n",
            "Param: {'metric': 'AUC', 'verbosity': 0, 'device': 'gpu', 'boosting_type': 'gbdt', 'subsample': 0.5014634797979837, 'learning_rate': 0.014676019992094936, 'n_estimators': 9856, 'subsample_freq': 1, 'reg_alpha': 17, 'reg_lambda': 17, 'max_depth': 7, 'num_leaves': 5, 'feature_fraction': 0.8267533967208518, 'min_child_samples': 82, 'objective': 'binary'}\n"
          ]
        },
        {
          "name": "stderr",
          "output_type": "stream",
          "text": [
            "/usr/local/lib/python3.7/dist-packages/sklearn/preprocessing/_label.py:235: DataConversionWarning:\n",
            "\n",
            "A column-vector y was passed when a 1d array was expected. Please change the shape of y to (n_samples, ), for example using ravel().\n",
            "\n",
            "/usr/local/lib/python3.7/dist-packages/sklearn/preprocessing/_label.py:268: DataConversionWarning:\n",
            "\n",
            "A column-vector y was passed when a 1d array was expected. Please change the shape of y to (n_samples, ), for example using ravel().\n",
            "\n"
          ]
        },
        {
          "name": "stdout",
          "output_type": "stream",
          "text": [
            "[LightGBM] [Warning] feature_fraction is set=0.8267533967208518, colsample_bytree=1.0 will be ignored. Current value: feature_fraction=0.8267533967208518\n",
            "[LightGBM] [Warning] feature_fraction is set=0.8267533967208518, colsample_bytree=1.0 will be ignored. Current value: feature_fraction=0.8267533967208518\n",
            "New AUC Score 0.8578189029218057\n"
          ]
        },
        {
          "name": "stderr",
          "output_type": "stream",
          "text": [
            "/usr/local/lib/python3.7/dist-packages/sklearn/preprocessing/_label.py:235: DataConversionWarning:\n",
            "\n",
            "A column-vector y was passed when a 1d array was expected. Please change the shape of y to (n_samples, ), for example using ravel().\n",
            "\n",
            "/usr/local/lib/python3.7/dist-packages/sklearn/preprocessing/_label.py:268: DataConversionWarning:\n",
            "\n",
            "A column-vector y was passed when a 1d array was expected. Please change the shape of y to (n_samples, ), for example using ravel().\n",
            "\n"
          ]
        },
        {
          "name": "stdout",
          "output_type": "stream",
          "text": [
            "[LightGBM] [Warning] feature_fraction is set=0.8267533967208518, colsample_bytree=1.0 will be ignored. Current value: feature_fraction=0.8267533967208518\n",
            "[LightGBM] [Warning] feature_fraction is set=0.8267533967208518, colsample_bytree=1.0 will be ignored. Current value: feature_fraction=0.8267533967208518\n",
            "New AUC Score 0.8570105439612208\n"
          ]
        },
        {
          "name": "stderr",
          "output_type": "stream",
          "text": [
            "/usr/local/lib/python3.7/dist-packages/sklearn/preprocessing/_label.py:235: DataConversionWarning:\n",
            "\n",
            "A column-vector y was passed when a 1d array was expected. Please change the shape of y to (n_samples, ), for example using ravel().\n",
            "\n",
            "/usr/local/lib/python3.7/dist-packages/sklearn/preprocessing/_label.py:268: DataConversionWarning:\n",
            "\n",
            "A column-vector y was passed when a 1d array was expected. Please change the shape of y to (n_samples, ), for example using ravel().\n",
            "\n"
          ]
        },
        {
          "name": "stdout",
          "output_type": "stream",
          "text": [
            "[LightGBM] [Warning] feature_fraction is set=0.8267533967208518, colsample_bytree=1.0 will be ignored. Current value: feature_fraction=0.8267533967208518\n",
            "[LightGBM] [Warning] feature_fraction is set=0.8267533967208518, colsample_bytree=1.0 will be ignored. Current value: feature_fraction=0.8267533967208518\n",
            "New AUC Score 0.8580625014510077\n"
          ]
        },
        {
          "name": "stderr",
          "output_type": "stream",
          "text": [
            "/usr/local/lib/python3.7/dist-packages/sklearn/preprocessing/_label.py:235: DataConversionWarning:\n",
            "\n",
            "A column-vector y was passed when a 1d array was expected. Please change the shape of y to (n_samples, ), for example using ravel().\n",
            "\n",
            "/usr/local/lib/python3.7/dist-packages/sklearn/preprocessing/_label.py:268: DataConversionWarning:\n",
            "\n",
            "A column-vector y was passed when a 1d array was expected. Please change the shape of y to (n_samples, ), for example using ravel().\n",
            "\n"
          ]
        },
        {
          "name": "stdout",
          "output_type": "stream",
          "text": [
            "[LightGBM] [Warning] feature_fraction is set=0.8267533967208518, colsample_bytree=1.0 will be ignored. Current value: feature_fraction=0.8267533967208518\n",
            "[LightGBM] [Warning] feature_fraction is set=0.8267533967208518, colsample_bytree=1.0 will be ignored. Current value: feature_fraction=0.8267533967208518\n",
            "New AUC Score 0.8567536233194841\n"
          ]
        },
        {
          "name": "stderr",
          "output_type": "stream",
          "text": [
            "/usr/local/lib/python3.7/dist-packages/sklearn/preprocessing/_label.py:235: DataConversionWarning:\n",
            "\n",
            "A column-vector y was passed when a 1d array was expected. Please change the shape of y to (n_samples, ), for example using ravel().\n",
            "\n",
            "/usr/local/lib/python3.7/dist-packages/sklearn/preprocessing/_label.py:268: DataConversionWarning:\n",
            "\n",
            "A column-vector y was passed when a 1d array was expected. Please change the shape of y to (n_samples, ), for example using ravel().\n",
            "\n"
          ]
        },
        {
          "name": "stdout",
          "output_type": "stream",
          "text": [
            "[LightGBM] [Warning] feature_fraction is set=0.8267533967208518, colsample_bytree=1.0 will be ignored. Current value: feature_fraction=0.8267533967208518\n",
            "[LightGBM] [Warning] feature_fraction is set=0.8267533967208518, colsample_bytree=1.0 will be ignored. Current value: feature_fraction=0.8267533967208518\n",
            "New AUC Score 0.8552947931468708\n",
            "all scores [0.8578189029218057, 0.8570105439612208, 0.8580625014510077, 0.8567536233194841, 0.8552947931468708]\n",
            "Roc AUC score 0.8580625014510077\n",
            "{'boosting_type': 'gbdt', 'class_weight': None, 'colsample_bytree': 1.0, 'importance_type': 'split', 'learning_rate': 0.014676019992094936, 'max_depth': 7, 'min_child_samples': 82, 'min_child_weight': 0.001, 'min_split_gain': 0.0, 'n_estimators': 9856, 'n_jobs': -1, 'num_leaves': 5, 'objective': 'binary', 'random_state': 42, 'reg_alpha': 17, 'reg_lambda': 17, 'silent': True, 'subsample': 0.5014634797979837, 'subsample_for_bin': 200000, 'subsample_freq': 1, 'metric': 'AUC', 'verbosity': 0, 'device': 'gpu', 'feature_fraction': 0.8267533967208518}\n"
          ]
        },
        {
          "name": "stderr",
          "output_type": "stream",
          "text": [
            "\u001b[32m[I 2021-10-03 09:40:24,841]\u001b[0m Trial 13 finished with value: 0.8580625014510077 and parameters: {'boosting_type': 'gbdt', 'subsample': 0.5014634797979837, 'eta': 0.014676019992094936, 'n_estimators': 9856, 'reg_alpha': 17, 'reg_lambda': 17, 'max_depth': 7, 'num_leaves': 5, 'feature_fraction': 0.8267533967208518, 'min_child_samples': 82}. Best is trial 13 with value: 0.8580625014510077.\u001b[0m\n"
          ]
        },
        {
          "name": "stdout",
          "output_type": "stream",
          "text": [
            "filename ./models/lgbm_13 best_model_name./models/best_lgbm  best_trial_number 13\n",
            "STARTING Params: {'metric': 'AUC', 'verbosity': 0, 'device': 'gpu', 'boosting_type': 'gbdt', 'subsample': 0.5220952344570134, 'learning_rate': 0.011302278019301965, 'n_estimators': 8248, 'subsample_freq': 1, 'reg_alpha': 17, 'reg_lambda': 17, 'max_depth': 5, 'num_leaves': 3, 'feature_fraction': 0.8625623067657987, 'min_child_samples': 81, 'objective': 'binary'}\n",
            "Param: {'metric': 'AUC', 'verbosity': 0, 'device': 'gpu', 'boosting_type': 'gbdt', 'subsample': 0.5220952344570134, 'learning_rate': 0.011302278019301965, 'n_estimators': 8248, 'subsample_freq': 1, 'reg_alpha': 17, 'reg_lambda': 17, 'max_depth': 5, 'num_leaves': 3, 'feature_fraction': 0.8625623067657987, 'min_child_samples': 81, 'objective': 'binary'}\n"
          ]
        },
        {
          "name": "stderr",
          "output_type": "stream",
          "text": [
            "/usr/local/lib/python3.7/dist-packages/sklearn/preprocessing/_label.py:235: DataConversionWarning:\n",
            "\n",
            "A column-vector y was passed when a 1d array was expected. Please change the shape of y to (n_samples, ), for example using ravel().\n",
            "\n",
            "/usr/local/lib/python3.7/dist-packages/sklearn/preprocessing/_label.py:268: DataConversionWarning:\n",
            "\n",
            "A column-vector y was passed when a 1d array was expected. Please change the shape of y to (n_samples, ), for example using ravel().\n",
            "\n"
          ]
        },
        {
          "name": "stdout",
          "output_type": "stream",
          "text": [
            "[LightGBM] [Warning] feature_fraction is set=0.8625623067657987, colsample_bytree=1.0 will be ignored. Current value: feature_fraction=0.8625623067657987\n",
            "[LightGBM] [Warning] feature_fraction is set=0.8625623067657987, colsample_bytree=1.0 will be ignored. Current value: feature_fraction=0.8625623067657987\n",
            "New AUC Score 0.8541911438084473\n"
          ]
        },
        {
          "name": "stderr",
          "output_type": "stream",
          "text": [
            "/usr/local/lib/python3.7/dist-packages/sklearn/preprocessing/_label.py:235: DataConversionWarning:\n",
            "\n",
            "A column-vector y was passed when a 1d array was expected. Please change the shape of y to (n_samples, ), for example using ravel().\n",
            "\n",
            "/usr/local/lib/python3.7/dist-packages/sklearn/preprocessing/_label.py:268: DataConversionWarning:\n",
            "\n",
            "A column-vector y was passed when a 1d array was expected. Please change the shape of y to (n_samples, ), for example using ravel().\n",
            "\n"
          ]
        },
        {
          "name": "stdout",
          "output_type": "stream",
          "text": [
            "[LightGBM] [Warning] feature_fraction is set=0.8625623067657987, colsample_bytree=1.0 will be ignored. Current value: feature_fraction=0.8625623067657987\n",
            "[LightGBM] [Warning] feature_fraction is set=0.8625623067657987, colsample_bytree=1.0 will be ignored. Current value: feature_fraction=0.8625623067657987\n",
            "New AUC Score 0.8561742612743625\n"
          ]
        },
        {
          "name": "stderr",
          "output_type": "stream",
          "text": [
            "/usr/local/lib/python3.7/dist-packages/sklearn/preprocessing/_label.py:235: DataConversionWarning:\n",
            "\n",
            "A column-vector y was passed when a 1d array was expected. Please change the shape of y to (n_samples, ), for example using ravel().\n",
            "\n",
            "/usr/local/lib/python3.7/dist-packages/sklearn/preprocessing/_label.py:268: DataConversionWarning:\n",
            "\n",
            "A column-vector y was passed when a 1d array was expected. Please change the shape of y to (n_samples, ), for example using ravel().\n",
            "\n"
          ]
        },
        {
          "name": "stdout",
          "output_type": "stream",
          "text": [
            "[LightGBM] [Warning] feature_fraction is set=0.8625623067657987, colsample_bytree=1.0 will be ignored. Current value: feature_fraction=0.8625623067657987\n",
            "[LightGBM] [Warning] feature_fraction is set=0.8625623067657987, colsample_bytree=1.0 will be ignored. Current value: feature_fraction=0.8625623067657987\n",
            "New AUC Score 0.8546382421291221\n"
          ]
        },
        {
          "name": "stderr",
          "output_type": "stream",
          "text": [
            "/usr/local/lib/python3.7/dist-packages/sklearn/preprocessing/_label.py:235: DataConversionWarning:\n",
            "\n",
            "A column-vector y was passed when a 1d array was expected. Please change the shape of y to (n_samples, ), for example using ravel().\n",
            "\n",
            "/usr/local/lib/python3.7/dist-packages/sklearn/preprocessing/_label.py:268: DataConversionWarning:\n",
            "\n",
            "A column-vector y was passed when a 1d array was expected. Please change the shape of y to (n_samples, ), for example using ravel().\n",
            "\n"
          ]
        },
        {
          "name": "stdout",
          "output_type": "stream",
          "text": [
            "[LightGBM] [Warning] feature_fraction is set=0.8625623067657987, colsample_bytree=1.0 will be ignored. Current value: feature_fraction=0.8625623067657987\n",
            "[LightGBM] [Warning] feature_fraction is set=0.8625623067657987, colsample_bytree=1.0 will be ignored. Current value: feature_fraction=0.8625623067657987\n",
            "New AUC Score 0.8544993593984473\n"
          ]
        },
        {
          "name": "stderr",
          "output_type": "stream",
          "text": [
            "/usr/local/lib/python3.7/dist-packages/sklearn/preprocessing/_label.py:235: DataConversionWarning:\n",
            "\n",
            "A column-vector y was passed when a 1d array was expected. Please change the shape of y to (n_samples, ), for example using ravel().\n",
            "\n",
            "/usr/local/lib/python3.7/dist-packages/sklearn/preprocessing/_label.py:268: DataConversionWarning:\n",
            "\n",
            "A column-vector y was passed when a 1d array was expected. Please change the shape of y to (n_samples, ), for example using ravel().\n",
            "\n"
          ]
        },
        {
          "name": "stdout",
          "output_type": "stream",
          "text": [
            "[LightGBM] [Warning] feature_fraction is set=0.8625623067657987, colsample_bytree=1.0 will be ignored. Current value: feature_fraction=0.8625623067657987\n",
            "[LightGBM] [Warning] feature_fraction is set=0.8625623067657987, colsample_bytree=1.0 will be ignored. Current value: feature_fraction=0.8625623067657987\n",
            "New AUC Score 0.8555855062204027\n",
            "all scores [0.8541911438084473, 0.8561742612743625, 0.8546382421291221, 0.8544993593984473, 0.8555855062204027]\n",
            "Roc AUC score 0.8561742612743625\n",
            "{'boosting_type': 'gbdt', 'class_weight': None, 'colsample_bytree': 1.0, 'importance_type': 'split', 'learning_rate': 0.011302278019301965, 'max_depth': 5, 'min_child_samples': 81, 'min_child_weight': 0.001, 'min_split_gain': 0.0, 'n_estimators': 8248, 'n_jobs': -1, 'num_leaves': 3, 'objective': 'binary', 'random_state': 42, 'reg_alpha': 17, 'reg_lambda': 17, 'silent': True, 'subsample': 0.5220952344570134, 'subsample_for_bin': 200000, 'subsample_freq': 1, 'metric': 'AUC', 'verbosity': 0, 'device': 'gpu', 'feature_fraction': 0.8625623067657987}\n"
          ]
        },
        {
          "name": "stderr",
          "output_type": "stream",
          "text": [
            "\u001b[32m[I 2021-10-03 09:49:22,297]\u001b[0m Trial 14 finished with value: 0.8561742612743625 and parameters: {'boosting_type': 'gbdt', 'subsample': 0.5220952344570134, 'eta': 0.011302278019301965, 'n_estimators': 8248, 'reg_alpha': 17, 'reg_lambda': 17, 'max_depth': 5, 'num_leaves': 3, 'feature_fraction': 0.8625623067657987, 'min_child_samples': 81}. Best is trial 13 with value: 0.8580625014510077.\u001b[0m\n"
          ]
        },
        {
          "name": "stdout",
          "output_type": "stream",
          "text": [
            "filename ./models/lgbm_14 best_model_name./models/best_lgbm  best_trial_number 13\n",
            "STARTING Params: {'metric': 'AUC', 'verbosity': 0, 'device': 'gpu', 'boosting_type': 'gbdt', 'subsample': 0.5199505999385664, 'learning_rate': 0.014845906364003071, 'n_estimators': 8666, 'subsample_freq': 1, 'reg_alpha': 16, 'reg_lambda': 17, 'max_depth': 7, 'num_leaves': 5, 'feature_fraction': 0.7588121677244949, 'min_child_samples': 81, 'objective': 'binary'}\n",
            "Param: {'metric': 'AUC', 'verbosity': 0, 'device': 'gpu', 'boosting_type': 'gbdt', 'subsample': 0.5199505999385664, 'learning_rate': 0.014845906364003071, 'n_estimators': 8666, 'subsample_freq': 1, 'reg_alpha': 16, 'reg_lambda': 17, 'max_depth': 7, 'num_leaves': 5, 'feature_fraction': 0.7588121677244949, 'min_child_samples': 81, 'objective': 'binary'}\n"
          ]
        },
        {
          "name": "stderr",
          "output_type": "stream",
          "text": [
            "/usr/local/lib/python3.7/dist-packages/sklearn/preprocessing/_label.py:235: DataConversionWarning:\n",
            "\n",
            "A column-vector y was passed when a 1d array was expected. Please change the shape of y to (n_samples, ), for example using ravel().\n",
            "\n",
            "/usr/local/lib/python3.7/dist-packages/sklearn/preprocessing/_label.py:268: DataConversionWarning:\n",
            "\n",
            "A column-vector y was passed when a 1d array was expected. Please change the shape of y to (n_samples, ), for example using ravel().\n",
            "\n"
          ]
        },
        {
          "name": "stdout",
          "output_type": "stream",
          "text": [
            "[LightGBM] [Warning] feature_fraction is set=0.7588121677244949, colsample_bytree=1.0 will be ignored. Current value: feature_fraction=0.7588121677244949\n",
            "[LightGBM] [Warning] feature_fraction is set=0.7588121677244949, colsample_bytree=1.0 will be ignored. Current value: feature_fraction=0.7588121677244949\n",
            "New AUC Score 0.8571683237096759\n"
          ]
        },
        {
          "name": "stderr",
          "output_type": "stream",
          "text": [
            "/usr/local/lib/python3.7/dist-packages/sklearn/preprocessing/_label.py:235: DataConversionWarning:\n",
            "\n",
            "A column-vector y was passed when a 1d array was expected. Please change the shape of y to (n_samples, ), for example using ravel().\n",
            "\n",
            "/usr/local/lib/python3.7/dist-packages/sklearn/preprocessing/_label.py:268: DataConversionWarning:\n",
            "\n",
            "A column-vector y was passed when a 1d array was expected. Please change the shape of y to (n_samples, ), for example using ravel().\n",
            "\n"
          ]
        },
        {
          "name": "stdout",
          "output_type": "stream",
          "text": [
            "[LightGBM] [Warning] feature_fraction is set=0.7588121677244949, colsample_bytree=1.0 will be ignored. Current value: feature_fraction=0.7588121677244949\n",
            "[LightGBM] [Warning] feature_fraction is set=0.7588121677244949, colsample_bytree=1.0 will be ignored. Current value: feature_fraction=0.7588121677244949\n",
            "New AUC Score 0.8563486305384265\n"
          ]
        },
        {
          "name": "stderr",
          "output_type": "stream",
          "text": [
            "/usr/local/lib/python3.7/dist-packages/sklearn/preprocessing/_label.py:235: DataConversionWarning:\n",
            "\n",
            "A column-vector y was passed when a 1d array was expected. Please change the shape of y to (n_samples, ), for example using ravel().\n",
            "\n",
            "/usr/local/lib/python3.7/dist-packages/sklearn/preprocessing/_label.py:268: DataConversionWarning:\n",
            "\n",
            "A column-vector y was passed when a 1d array was expected. Please change the shape of y to (n_samples, ), for example using ravel().\n",
            "\n"
          ]
        },
        {
          "name": "stdout",
          "output_type": "stream",
          "text": [
            "[LightGBM] [Warning] feature_fraction is set=0.7588121677244949, colsample_bytree=1.0 will be ignored. Current value: feature_fraction=0.7588121677244949\n",
            "[LightGBM] [Warning] feature_fraction is set=0.7588121677244949, colsample_bytree=1.0 will be ignored. Current value: feature_fraction=0.7588121677244949\n",
            "New AUC Score 0.857334967666471\n"
          ]
        },
        {
          "name": "stderr",
          "output_type": "stream",
          "text": [
            "/usr/local/lib/python3.7/dist-packages/sklearn/preprocessing/_label.py:235: DataConversionWarning:\n",
            "\n",
            "A column-vector y was passed when a 1d array was expected. Please change the shape of y to (n_samples, ), for example using ravel().\n",
            "\n",
            "/usr/local/lib/python3.7/dist-packages/sklearn/preprocessing/_label.py:268: DataConversionWarning:\n",
            "\n",
            "A column-vector y was passed when a 1d array was expected. Please change the shape of y to (n_samples, ), for example using ravel().\n",
            "\n"
          ]
        },
        {
          "name": "stdout",
          "output_type": "stream",
          "text": [
            "[LightGBM] [Warning] feature_fraction is set=0.7588121677244949, colsample_bytree=1.0 will be ignored. Current value: feature_fraction=0.7588121677244949\n",
            "[LightGBM] [Warning] feature_fraction is set=0.7588121677244949, colsample_bytree=1.0 will be ignored. Current value: feature_fraction=0.7588121677244949\n",
            "New AUC Score 0.8563810990689762\n"
          ]
        },
        {
          "name": "stderr",
          "output_type": "stream",
          "text": [
            "/usr/local/lib/python3.7/dist-packages/sklearn/preprocessing/_label.py:235: DataConversionWarning:\n",
            "\n",
            "A column-vector y was passed when a 1d array was expected. Please change the shape of y to (n_samples, ), for example using ravel().\n",
            "\n",
            "/usr/local/lib/python3.7/dist-packages/sklearn/preprocessing/_label.py:268: DataConversionWarning:\n",
            "\n",
            "A column-vector y was passed when a 1d array was expected. Please change the shape of y to (n_samples, ), for example using ravel().\n",
            "\n"
          ]
        },
        {
          "name": "stdout",
          "output_type": "stream",
          "text": [
            "[LightGBM] [Warning] feature_fraction is set=0.7588121677244949, colsample_bytree=1.0 will be ignored. Current value: feature_fraction=0.7588121677244949\n",
            "[LightGBM] [Warning] feature_fraction is set=0.7588121677244949, colsample_bytree=1.0 will be ignored. Current value: feature_fraction=0.7588121677244949\n",
            "New AUC Score 0.8573133822461614\n",
            "all scores [0.8571683237096759, 0.8563486305384265, 0.857334967666471, 0.8563810990689762, 0.8573133822461614]\n",
            "Roc AUC score 0.857334967666471\n",
            "{'boosting_type': 'gbdt', 'class_weight': None, 'colsample_bytree': 1.0, 'importance_type': 'split', 'learning_rate': 0.014845906364003071, 'max_depth': 7, 'min_child_samples': 81, 'min_child_weight': 0.001, 'min_split_gain': 0.0, 'n_estimators': 8666, 'n_jobs': -1, 'num_leaves': 5, 'objective': 'binary', 'random_state': 42, 'reg_alpha': 16, 'reg_lambda': 17, 'silent': True, 'subsample': 0.5199505999385664, 'subsample_for_bin': 200000, 'subsample_freq': 1, 'metric': 'AUC', 'verbosity': 0, 'device': 'gpu', 'feature_fraction': 0.7588121677244949}\n"
          ]
        },
        {
          "name": "stderr",
          "output_type": "stream",
          "text": [
            "\u001b[32m[I 2021-10-03 10:00:54,554]\u001b[0m Trial 15 finished with value: 0.857334967666471 and parameters: {'boosting_type': 'gbdt', 'subsample': 0.5199505999385664, 'eta': 0.014845906364003071, 'n_estimators': 8666, 'reg_alpha': 16, 'reg_lambda': 17, 'max_depth': 7, 'num_leaves': 5, 'feature_fraction': 0.7588121677244949, 'min_child_samples': 81}. Best is trial 13 with value: 0.8580625014510077.\u001b[0m\n"
          ]
        },
        {
          "name": "stdout",
          "output_type": "stream",
          "text": [
            "filename ./models/lgbm_15 best_model_name./models/best_lgbm  best_trial_number 13\n",
            "STARTING Params: {'metric': 'AUC', 'verbosity': 0, 'device': 'gpu', 'boosting_type': 'gbdt', 'subsample': 0.5010158833230398, 'learning_rate': 0.01075930550381792, 'n_estimators': 6846, 'subsample_freq': 1, 'reg_alpha': 16, 'reg_lambda': 17, 'max_depth': 7, 'num_leaves': 6, 'feature_fraction': 0.9110105399914261, 'min_child_samples': 11, 'objective': 'binary'}\n",
            "Param: {'metric': 'AUC', 'verbosity': 0, 'device': 'gpu', 'boosting_type': 'gbdt', 'subsample': 0.5010158833230398, 'learning_rate': 0.01075930550381792, 'n_estimators': 6846, 'subsample_freq': 1, 'reg_alpha': 16, 'reg_lambda': 17, 'max_depth': 7, 'num_leaves': 6, 'feature_fraction': 0.9110105399914261, 'min_child_samples': 11, 'objective': 'binary'}\n"
          ]
        },
        {
          "name": "stderr",
          "output_type": "stream",
          "text": [
            "/usr/local/lib/python3.7/dist-packages/sklearn/preprocessing/_label.py:235: DataConversionWarning:\n",
            "\n",
            "A column-vector y was passed when a 1d array was expected. Please change the shape of y to (n_samples, ), for example using ravel().\n",
            "\n",
            "/usr/local/lib/python3.7/dist-packages/sklearn/preprocessing/_label.py:268: DataConversionWarning:\n",
            "\n",
            "A column-vector y was passed when a 1d array was expected. Please change the shape of y to (n_samples, ), for example using ravel().\n",
            "\n"
          ]
        },
        {
          "name": "stdout",
          "output_type": "stream",
          "text": [
            "[LightGBM] [Warning] feature_fraction is set=0.9110105399914261, colsample_bytree=1.0 will be ignored. Current value: feature_fraction=0.9110105399914261\n",
            "[LightGBM] [Warning] feature_fraction is set=0.9110105399914261, colsample_bytree=1.0 will be ignored. Current value: feature_fraction=0.9110105399914261\n",
            "New AUC Score 0.856422343307783\n"
          ]
        },
        {
          "name": "stderr",
          "output_type": "stream",
          "text": [
            "/usr/local/lib/python3.7/dist-packages/sklearn/preprocessing/_label.py:235: DataConversionWarning:\n",
            "\n",
            "A column-vector y was passed when a 1d array was expected. Please change the shape of y to (n_samples, ), for example using ravel().\n",
            "\n",
            "/usr/local/lib/python3.7/dist-packages/sklearn/preprocessing/_label.py:268: DataConversionWarning:\n",
            "\n",
            "A column-vector y was passed when a 1d array was expected. Please change the shape of y to (n_samples, ), for example using ravel().\n",
            "\n"
          ]
        },
        {
          "name": "stdout",
          "output_type": "stream",
          "text": [
            "[LightGBM] [Warning] feature_fraction is set=0.9110105399914261, colsample_bytree=1.0 will be ignored. Current value: feature_fraction=0.9110105399914261\n",
            "[LightGBM] [Warning] feature_fraction is set=0.9110105399914261, colsample_bytree=1.0 will be ignored. Current value: feature_fraction=0.9110105399914261\n",
            "New AUC Score 0.8575726158900743\n"
          ]
        },
        {
          "name": "stderr",
          "output_type": "stream",
          "text": [
            "/usr/local/lib/python3.7/dist-packages/sklearn/preprocessing/_label.py:235: DataConversionWarning:\n",
            "\n",
            "A column-vector y was passed when a 1d array was expected. Please change the shape of y to (n_samples, ), for example using ravel().\n",
            "\n",
            "/usr/local/lib/python3.7/dist-packages/sklearn/preprocessing/_label.py:268: DataConversionWarning:\n",
            "\n",
            "A column-vector y was passed when a 1d array was expected. Please change the shape of y to (n_samples, ), for example using ravel().\n",
            "\n"
          ]
        },
        {
          "name": "stdout",
          "output_type": "stream",
          "text": [
            "[LightGBM] [Warning] feature_fraction is set=0.9110105399914261, colsample_bytree=1.0 will be ignored. Current value: feature_fraction=0.9110105399914261\n",
            "[LightGBM] [Warning] feature_fraction is set=0.9110105399914261, colsample_bytree=1.0 will be ignored. Current value: feature_fraction=0.9110105399914261\n",
            "New AUC Score 0.8561919170909749\n"
          ]
        },
        {
          "name": "stderr",
          "output_type": "stream",
          "text": [
            "/usr/local/lib/python3.7/dist-packages/sklearn/preprocessing/_label.py:235: DataConversionWarning:\n",
            "\n",
            "A column-vector y was passed when a 1d array was expected. Please change the shape of y to (n_samples, ), for example using ravel().\n",
            "\n",
            "/usr/local/lib/python3.7/dist-packages/sklearn/preprocessing/_label.py:268: DataConversionWarning:\n",
            "\n",
            "A column-vector y was passed when a 1d array was expected. Please change the shape of y to (n_samples, ), for example using ravel().\n",
            "\n"
          ]
        },
        {
          "name": "stdout",
          "output_type": "stream",
          "text": [
            "[LightGBM] [Warning] feature_fraction is set=0.9110105399914261, colsample_bytree=1.0 will be ignored. Current value: feature_fraction=0.9110105399914261\n",
            "[LightGBM] [Warning] feature_fraction is set=0.9110105399914261, colsample_bytree=1.0 will be ignored. Current value: feature_fraction=0.9110105399914261\n",
            "New AUC Score 0.8553907511371579\n"
          ]
        },
        {
          "name": "stderr",
          "output_type": "stream",
          "text": [
            "/usr/local/lib/python3.7/dist-packages/sklearn/preprocessing/_label.py:235: DataConversionWarning:\n",
            "\n",
            "A column-vector y was passed when a 1d array was expected. Please change the shape of y to (n_samples, ), for example using ravel().\n",
            "\n",
            "/usr/local/lib/python3.7/dist-packages/sklearn/preprocessing/_label.py:268: DataConversionWarning:\n",
            "\n",
            "A column-vector y was passed when a 1d array was expected. Please change the shape of y to (n_samples, ), for example using ravel().\n",
            "\n"
          ]
        },
        {
          "name": "stdout",
          "output_type": "stream",
          "text": [
            "[LightGBM] [Warning] feature_fraction is set=0.9110105399914261, colsample_bytree=1.0 will be ignored. Current value: feature_fraction=0.9110105399914261\n",
            "[LightGBM] [Warning] feature_fraction is set=0.9110105399914261, colsample_bytree=1.0 will be ignored. Current value: feature_fraction=0.9110105399914261\n",
            "New AUC Score 0.8567771206415928\n",
            "all scores [0.856422343307783, 0.8575726158900743, 0.8561919170909749, 0.8553907511371579, 0.8567771206415928]\n",
            "Roc AUC score 0.8575726158900743\n",
            "{'boosting_type': 'gbdt', 'class_weight': None, 'colsample_bytree': 1.0, 'importance_type': 'split', 'learning_rate': 0.01075930550381792, 'max_depth': 7, 'min_child_samples': 11, 'min_child_weight': 0.001, 'min_split_gain': 0.0, 'n_estimators': 6846, 'n_jobs': -1, 'num_leaves': 6, 'objective': 'binary', 'random_state': 42, 'reg_alpha': 16, 'reg_lambda': 17, 'silent': True, 'subsample': 0.5010158833230398, 'subsample_for_bin': 200000, 'subsample_freq': 1, 'metric': 'AUC', 'verbosity': 0, 'device': 'gpu', 'feature_fraction': 0.9110105399914261}\n"
          ]
        },
        {
          "name": "stderr",
          "output_type": "stream",
          "text": [
            "\u001b[32m[I 2021-10-03 10:10:54,820]\u001b[0m Trial 16 finished with value: 0.8575726158900743 and parameters: {'boosting_type': 'gbdt', 'subsample': 0.5010158833230398, 'eta': 0.01075930550381792, 'n_estimators': 6846, 'reg_alpha': 16, 'reg_lambda': 17, 'max_depth': 7, 'num_leaves': 6, 'feature_fraction': 0.9110105399914261, 'min_child_samples': 11}. Best is trial 13 with value: 0.8580625014510077.\u001b[0m\n"
          ]
        },
        {
          "name": "stdout",
          "output_type": "stream",
          "text": [
            "filename ./models/lgbm_16 best_model_name./models/best_lgbm  best_trial_number 13\n",
            "STARTING Params: {'metric': 'AUC', 'verbosity': 0, 'device': 'gpu', 'boosting_type': 'gbdt', 'subsample': 0.5218222002121029, 'learning_rate': 0.013035401464985403, 'n_estimators': 9171, 'subsample_freq': 1, 'reg_alpha': 18, 'reg_lambda': 19, 'max_depth': 5, 'num_leaves': 3, 'feature_fraction': 0.7330655513287327, 'min_child_samples': 55, 'objective': 'binary'}\n",
            "Param: {'metric': 'AUC', 'verbosity': 0, 'device': 'gpu', 'boosting_type': 'gbdt', 'subsample': 0.5218222002121029, 'learning_rate': 0.013035401464985403, 'n_estimators': 9171, 'subsample_freq': 1, 'reg_alpha': 18, 'reg_lambda': 19, 'max_depth': 5, 'num_leaves': 3, 'feature_fraction': 0.7330655513287327, 'min_child_samples': 55, 'objective': 'binary'}\n"
          ]
        },
        {
          "name": "stderr",
          "output_type": "stream",
          "text": [
            "/usr/local/lib/python3.7/dist-packages/sklearn/preprocessing/_label.py:235: DataConversionWarning:\n",
            "\n",
            "A column-vector y was passed when a 1d array was expected. Please change the shape of y to (n_samples, ), for example using ravel().\n",
            "\n",
            "/usr/local/lib/python3.7/dist-packages/sklearn/preprocessing/_label.py:268: DataConversionWarning:\n",
            "\n",
            "A column-vector y was passed when a 1d array was expected. Please change the shape of y to (n_samples, ), for example using ravel().\n",
            "\n"
          ]
        },
        {
          "name": "stdout",
          "output_type": "stream",
          "text": [
            "[LightGBM] [Warning] feature_fraction is set=0.7330655513287327, colsample_bytree=1.0 will be ignored. Current value: feature_fraction=0.7330655513287327\n",
            "[LightGBM] [Warning] feature_fraction is set=0.7330655513287327, colsample_bytree=1.0 will be ignored. Current value: feature_fraction=0.7330655513287327\n",
            "New AUC Score 0.8569259870816612\n"
          ]
        },
        {
          "name": "stderr",
          "output_type": "stream",
          "text": [
            "/usr/local/lib/python3.7/dist-packages/sklearn/preprocessing/_label.py:235: DataConversionWarning:\n",
            "\n",
            "A column-vector y was passed when a 1d array was expected. Please change the shape of y to (n_samples, ), for example using ravel().\n",
            "\n",
            "/usr/local/lib/python3.7/dist-packages/sklearn/preprocessing/_label.py:268: DataConversionWarning:\n",
            "\n",
            "A column-vector y was passed when a 1d array was expected. Please change the shape of y to (n_samples, ), for example using ravel().\n",
            "\n"
          ]
        },
        {
          "name": "stdout",
          "output_type": "stream",
          "text": [
            "[LightGBM] [Warning] feature_fraction is set=0.7330655513287327, colsample_bytree=1.0 will be ignored. Current value: feature_fraction=0.7330655513287327\n",
            "[LightGBM] [Warning] feature_fraction is set=0.7330655513287327, colsample_bytree=1.0 will be ignored. Current value: feature_fraction=0.7330655513287327\n",
            "New AUC Score 0.8559701852823474\n"
          ]
        },
        {
          "name": "stderr",
          "output_type": "stream",
          "text": [
            "/usr/local/lib/python3.7/dist-packages/sklearn/preprocessing/_label.py:235: DataConversionWarning:\n",
            "\n",
            "A column-vector y was passed when a 1d array was expected. Please change the shape of y to (n_samples, ), for example using ravel().\n",
            "\n",
            "/usr/local/lib/python3.7/dist-packages/sklearn/preprocessing/_label.py:268: DataConversionWarning:\n",
            "\n",
            "A column-vector y was passed when a 1d array was expected. Please change the shape of y to (n_samples, ), for example using ravel().\n",
            "\n"
          ]
        },
        {
          "name": "stdout",
          "output_type": "stream",
          "text": [
            "[LightGBM] [Warning] feature_fraction is set=0.7330655513287327, colsample_bytree=1.0 will be ignored. Current value: feature_fraction=0.7330655513287327\n",
            "[LightGBM] [Warning] feature_fraction is set=0.7330655513287327, colsample_bytree=1.0 will be ignored. Current value: feature_fraction=0.7330655513287327\n",
            "New AUC Score 0.8553644083123717\n"
          ]
        },
        {
          "name": "stderr",
          "output_type": "stream",
          "text": [
            "/usr/local/lib/python3.7/dist-packages/sklearn/preprocessing/_label.py:235: DataConversionWarning:\n",
            "\n",
            "A column-vector y was passed when a 1d array was expected. Please change the shape of y to (n_samples, ), for example using ravel().\n",
            "\n",
            "/usr/local/lib/python3.7/dist-packages/sklearn/preprocessing/_label.py:268: DataConversionWarning:\n",
            "\n",
            "A column-vector y was passed when a 1d array was expected. Please change the shape of y to (n_samples, ), for example using ravel().\n",
            "\n"
          ]
        },
        {
          "name": "stdout",
          "output_type": "stream",
          "text": [
            "[LightGBM] [Warning] feature_fraction is set=0.7330655513287327, colsample_bytree=1.0 will be ignored. Current value: feature_fraction=0.7330655513287327\n",
            "[LightGBM] [Warning] feature_fraction is set=0.7330655513287327, colsample_bytree=1.0 will be ignored. Current value: feature_fraction=0.7330655513287327\n",
            "New AUC Score 0.8555950647293963\n"
          ]
        },
        {
          "name": "stderr",
          "output_type": "stream",
          "text": [
            "/usr/local/lib/python3.7/dist-packages/sklearn/preprocessing/_label.py:235: DataConversionWarning:\n",
            "\n",
            "A column-vector y was passed when a 1d array was expected. Please change the shape of y to (n_samples, ), for example using ravel().\n",
            "\n",
            "/usr/local/lib/python3.7/dist-packages/sklearn/preprocessing/_label.py:268: DataConversionWarning:\n",
            "\n",
            "A column-vector y was passed when a 1d array was expected. Please change the shape of y to (n_samples, ), for example using ravel().\n",
            "\n"
          ]
        },
        {
          "name": "stdout",
          "output_type": "stream",
          "text": [
            "[LightGBM] [Warning] feature_fraction is set=0.7330655513287327, colsample_bytree=1.0 will be ignored. Current value: feature_fraction=0.7330655513287327\n",
            "[LightGBM] [Warning] feature_fraction is set=0.7330655513287327, colsample_bytree=1.0 will be ignored. Current value: feature_fraction=0.7330655513287327\n",
            "New AUC Score 0.8548785944552695\n",
            "all scores [0.8569259870816612, 0.8559701852823474, 0.8553644083123717, 0.8555950647293963, 0.8548785944552695]\n",
            "Roc AUC score 0.8569259870816612\n",
            "{'boosting_type': 'gbdt', 'class_weight': None, 'colsample_bytree': 1.0, 'importance_type': 'split', 'learning_rate': 0.013035401464985403, 'max_depth': 5, 'min_child_samples': 55, 'min_child_weight': 0.001, 'min_split_gain': 0.0, 'n_estimators': 9171, 'n_jobs': -1, 'num_leaves': 3, 'objective': 'binary', 'random_state': 42, 'reg_alpha': 18, 'reg_lambda': 19, 'silent': True, 'subsample': 0.5218222002121029, 'subsample_for_bin': 200000, 'subsample_freq': 1, 'metric': 'AUC', 'verbosity': 0, 'device': 'gpu', 'feature_fraction': 0.7330655513287327}\n"
          ]
        },
        {
          "name": "stderr",
          "output_type": "stream",
          "text": [
            "\u001b[32m[I 2021-10-03 10:21:13,588]\u001b[0m Trial 17 finished with value: 0.8569259870816612 and parameters: {'boosting_type': 'gbdt', 'subsample': 0.5218222002121029, 'eta': 0.013035401464985403, 'n_estimators': 9171, 'reg_alpha': 18, 'reg_lambda': 19, 'max_depth': 5, 'num_leaves': 3, 'feature_fraction': 0.7330655513287327, 'min_child_samples': 55}. Best is trial 13 with value: 0.8580625014510077.\u001b[0m\n"
          ]
        },
        {
          "name": "stdout",
          "output_type": "stream",
          "text": [
            "filename ./models/lgbm_17 best_model_name./models/best_lgbm  best_trial_number 13\n",
            "STARTING Params: {'metric': 'AUC', 'verbosity': 0, 'device': 'gpu', 'boosting_type': 'gbdt', 'subsample': 0.557556787095127, 'learning_rate': 0.013941699907667058, 'n_estimators': 7524, 'subsample_freq': 1, 'reg_alpha': 19, 'reg_lambda': 16, 'max_depth': 7, 'num_leaves': 6, 'feature_fraction': 0.6073325874106538, 'min_child_samples': 89, 'objective': 'binary'}\n",
            "Param: {'metric': 'AUC', 'verbosity': 0, 'device': 'gpu', 'boosting_type': 'gbdt', 'subsample': 0.557556787095127, 'learning_rate': 0.013941699907667058, 'n_estimators': 7524, 'subsample_freq': 1, 'reg_alpha': 19, 'reg_lambda': 16, 'max_depth': 7, 'num_leaves': 6, 'feature_fraction': 0.6073325874106538, 'min_child_samples': 89, 'objective': 'binary'}\n"
          ]
        },
        {
          "name": "stderr",
          "output_type": "stream",
          "text": [
            "/usr/local/lib/python3.7/dist-packages/sklearn/preprocessing/_label.py:235: DataConversionWarning:\n",
            "\n",
            "A column-vector y was passed when a 1d array was expected. Please change the shape of y to (n_samples, ), for example using ravel().\n",
            "\n",
            "/usr/local/lib/python3.7/dist-packages/sklearn/preprocessing/_label.py:268: DataConversionWarning:\n",
            "\n",
            "A column-vector y was passed when a 1d array was expected. Please change the shape of y to (n_samples, ), for example using ravel().\n",
            "\n"
          ]
        },
        {
          "name": "stdout",
          "output_type": "stream",
          "text": [
            "[LightGBM] [Warning] feature_fraction is set=0.6073325874106538, colsample_bytree=1.0 will be ignored. Current value: feature_fraction=0.6073325874106538\n",
            "[LightGBM] [Warning] feature_fraction is set=0.6073325874106538, colsample_bytree=1.0 will be ignored. Current value: feature_fraction=0.6073325874106538\n",
            "New AUC Score 0.8564221333075852\n"
          ]
        },
        {
          "name": "stderr",
          "output_type": "stream",
          "text": [
            "/usr/local/lib/python3.7/dist-packages/sklearn/preprocessing/_label.py:235: DataConversionWarning:\n",
            "\n",
            "A column-vector y was passed when a 1d array was expected. Please change the shape of y to (n_samples, ), for example using ravel().\n",
            "\n",
            "/usr/local/lib/python3.7/dist-packages/sklearn/preprocessing/_label.py:268: DataConversionWarning:\n",
            "\n",
            "A column-vector y was passed when a 1d array was expected. Please change the shape of y to (n_samples, ), for example using ravel().\n",
            "\n"
          ]
        },
        {
          "name": "stdout",
          "output_type": "stream",
          "text": [
            "[LightGBM] [Warning] feature_fraction is set=0.6073325874106538, colsample_bytree=1.0 will be ignored. Current value: feature_fraction=0.6073325874106538\n",
            "[LightGBM] [Warning] feature_fraction is set=0.6073325874106538, colsample_bytree=1.0 will be ignored. Current value: feature_fraction=0.6073325874106538\n",
            "New AUC Score 0.8588837881237562\n"
          ]
        },
        {
          "name": "stderr",
          "output_type": "stream",
          "text": [
            "/usr/local/lib/python3.7/dist-packages/sklearn/preprocessing/_label.py:235: DataConversionWarning:\n",
            "\n",
            "A column-vector y was passed when a 1d array was expected. Please change the shape of y to (n_samples, ), for example using ravel().\n",
            "\n",
            "/usr/local/lib/python3.7/dist-packages/sklearn/preprocessing/_label.py:268: DataConversionWarning:\n",
            "\n",
            "A column-vector y was passed when a 1d array was expected. Please change the shape of y to (n_samples, ), for example using ravel().\n",
            "\n"
          ]
        },
        {
          "name": "stdout",
          "output_type": "stream",
          "text": [
            "[LightGBM] [Warning] feature_fraction is set=0.6073325874106538, colsample_bytree=1.0 will be ignored. Current value: feature_fraction=0.6073325874106538\n",
            "[LightGBM] [Warning] feature_fraction is set=0.6073325874106538, colsample_bytree=1.0 will be ignored. Current value: feature_fraction=0.6073325874106538\n",
            "New AUC Score 0.8558748234926215\n"
          ]
        },
        {
          "name": "stderr",
          "output_type": "stream",
          "text": [
            "/usr/local/lib/python3.7/dist-packages/sklearn/preprocessing/_label.py:235: DataConversionWarning:\n",
            "\n",
            "A column-vector y was passed when a 1d array was expected. Please change the shape of y to (n_samples, ), for example using ravel().\n",
            "\n",
            "/usr/local/lib/python3.7/dist-packages/sklearn/preprocessing/_label.py:268: DataConversionWarning:\n",
            "\n",
            "A column-vector y was passed when a 1d array was expected. Please change the shape of y to (n_samples, ), for example using ravel().\n",
            "\n"
          ]
        },
        {
          "name": "stdout",
          "output_type": "stream",
          "text": [
            "[LightGBM] [Warning] feature_fraction is set=0.6073325874106538, colsample_bytree=1.0 will be ignored. Current value: feature_fraction=0.6073325874106538\n",
            "[LightGBM] [Warning] feature_fraction is set=0.6073325874106538, colsample_bytree=1.0 will be ignored. Current value: feature_fraction=0.6073325874106538\n",
            "New AUC Score 0.8569430710977356\n"
          ]
        },
        {
          "name": "stderr",
          "output_type": "stream",
          "text": [
            "/usr/local/lib/python3.7/dist-packages/sklearn/preprocessing/_label.py:235: DataConversionWarning:\n",
            "\n",
            "A column-vector y was passed when a 1d array was expected. Please change the shape of y to (n_samples, ), for example using ravel().\n",
            "\n",
            "/usr/local/lib/python3.7/dist-packages/sklearn/preprocessing/_label.py:268: DataConversionWarning:\n",
            "\n",
            "A column-vector y was passed when a 1d array was expected. Please change the shape of y to (n_samples, ), for example using ravel().\n",
            "\n"
          ]
        },
        {
          "name": "stdout",
          "output_type": "stream",
          "text": [
            "[LightGBM] [Warning] feature_fraction is set=0.6073325874106538, colsample_bytree=1.0 will be ignored. Current value: feature_fraction=0.6073325874106538\n",
            "[LightGBM] [Warning] feature_fraction is set=0.6073325874106538, colsample_bytree=1.0 will be ignored. Current value: feature_fraction=0.6073325874106538\n",
            "New AUC Score 0.8562557467510321\n",
            "all scores [0.8564221333075852, 0.8588837881237562, 0.8558748234926215, 0.8569430710977356, 0.8562557467510321]\n",
            "Roc AUC score 0.8588837881237562\n",
            "{'boosting_type': 'gbdt', 'class_weight': None, 'colsample_bytree': 1.0, 'importance_type': 'split', 'learning_rate': 0.013941699907667058, 'max_depth': 7, 'min_child_samples': 89, 'min_child_weight': 0.001, 'min_split_gain': 0.0, 'n_estimators': 7524, 'n_jobs': -1, 'num_leaves': 6, 'objective': 'binary', 'random_state': 42, 'reg_alpha': 19, 'reg_lambda': 16, 'silent': True, 'subsample': 0.557556787095127, 'subsample_for_bin': 200000, 'subsample_freq': 1, 'metric': 'AUC', 'verbosity': 0, 'device': 'gpu', 'feature_fraction': 0.6073325874106538}\n"
          ]
        },
        {
          "name": "stderr",
          "output_type": "stream",
          "text": [
            "\u001b[32m[I 2021-10-03 10:35:38,474]\u001b[0m Trial 18 finished with value: 0.8588837881237562 and parameters: {'boosting_type': 'gbdt', 'subsample': 0.557556787095127, 'eta': 0.013941699907667058, 'n_estimators': 7524, 'reg_alpha': 19, 'reg_lambda': 16, 'max_depth': 7, 'num_leaves': 6, 'feature_fraction': 0.6073325874106538, 'min_child_samples': 89}. Best is trial 18 with value: 0.8588837881237562.\u001b[0m\n"
          ]
        },
        {
          "name": "stdout",
          "output_type": "stream",
          "text": [
            "filename ./models/lgbm_18 best_model_name./models/best_lgbm  best_trial_number 18\n",
            "STARTING Params: {'metric': 'AUC', 'verbosity': 0, 'device': 'gpu', 'boosting_type': 'gbdt', 'subsample': 0.555489277781225, 'learning_rate': 0.011919653181243165, 'n_estimators': 6296, 'subsample_freq': 1, 'reg_alpha': 16, 'reg_lambda': 16, 'max_depth': 6, 'num_leaves': 8, 'feature_fraction': 0.6095027440339846, 'min_child_samples': 69, 'objective': 'binary'}\n",
            "Param: {'metric': 'AUC', 'verbosity': 0, 'device': 'gpu', 'boosting_type': 'gbdt', 'subsample': 0.555489277781225, 'learning_rate': 0.011919653181243165, 'n_estimators': 6296, 'subsample_freq': 1, 'reg_alpha': 16, 'reg_lambda': 16, 'max_depth': 6, 'num_leaves': 8, 'feature_fraction': 0.6095027440339846, 'min_child_samples': 69, 'objective': 'binary'}\n"
          ]
        },
        {
          "name": "stderr",
          "output_type": "stream",
          "text": [
            "/usr/local/lib/python3.7/dist-packages/sklearn/preprocessing/_label.py:235: DataConversionWarning:\n",
            "\n",
            "A column-vector y was passed when a 1d array was expected. Please change the shape of y to (n_samples, ), for example using ravel().\n",
            "\n",
            "/usr/local/lib/python3.7/dist-packages/sklearn/preprocessing/_label.py:268: DataConversionWarning:\n",
            "\n",
            "A column-vector y was passed when a 1d array was expected. Please change the shape of y to (n_samples, ), for example using ravel().\n",
            "\n"
          ]
        },
        {
          "name": "stdout",
          "output_type": "stream",
          "text": [
            "[LightGBM] [Warning] feature_fraction is set=0.6095027440339846, colsample_bytree=1.0 will be ignored. Current value: feature_fraction=0.6095027440339846\n",
            "[LightGBM] [Warning] feature_fraction is set=0.6095027440339846, colsample_bytree=1.0 will be ignored. Current value: feature_fraction=0.6095027440339846\n",
            "New AUC Score 0.8566270416003835\n"
          ]
        },
        {
          "name": "stderr",
          "output_type": "stream",
          "text": [
            "/usr/local/lib/python3.7/dist-packages/sklearn/preprocessing/_label.py:235: DataConversionWarning:\n",
            "\n",
            "A column-vector y was passed when a 1d array was expected. Please change the shape of y to (n_samples, ), for example using ravel().\n",
            "\n",
            "/usr/local/lib/python3.7/dist-packages/sklearn/preprocessing/_label.py:268: DataConversionWarning:\n",
            "\n",
            "A column-vector y was passed when a 1d array was expected. Please change the shape of y to (n_samples, ), for example using ravel().\n",
            "\n"
          ]
        },
        {
          "name": "stdout",
          "output_type": "stream",
          "text": [
            "[LightGBM] [Warning] feature_fraction is set=0.6095027440339846, colsample_bytree=1.0 will be ignored. Current value: feature_fraction=0.6095027440339846\n",
            "[LightGBM] [Warning] feature_fraction is set=0.6095027440339846, colsample_bytree=1.0 will be ignored. Current value: feature_fraction=0.6095027440339846\n",
            "New AUC Score 0.856746908313166\n"
          ]
        },
        {
          "name": "stderr",
          "output_type": "stream",
          "text": [
            "/usr/local/lib/python3.7/dist-packages/sklearn/preprocessing/_label.py:235: DataConversionWarning:\n",
            "\n",
            "A column-vector y was passed when a 1d array was expected. Please change the shape of y to (n_samples, ), for example using ravel().\n",
            "\n",
            "/usr/local/lib/python3.7/dist-packages/sklearn/preprocessing/_label.py:268: DataConversionWarning:\n",
            "\n",
            "A column-vector y was passed when a 1d array was expected. Please change the shape of y to (n_samples, ), for example using ravel().\n",
            "\n"
          ]
        },
        {
          "name": "stdout",
          "output_type": "stream",
          "text": [
            "[LightGBM] [Warning] feature_fraction is set=0.6095027440339846, colsample_bytree=1.0 will be ignored. Current value: feature_fraction=0.6095027440339846\n",
            "[LightGBM] [Warning] feature_fraction is set=0.6095027440339846, colsample_bytree=1.0 will be ignored. Current value: feature_fraction=0.6095027440339846\n",
            "New AUC Score 0.8569192262752999\n"
          ]
        },
        {
          "name": "stderr",
          "output_type": "stream",
          "text": [
            "/usr/local/lib/python3.7/dist-packages/sklearn/preprocessing/_label.py:235: DataConversionWarning:\n",
            "\n",
            "A column-vector y was passed when a 1d array was expected. Please change the shape of y to (n_samples, ), for example using ravel().\n",
            "\n",
            "/usr/local/lib/python3.7/dist-packages/sklearn/preprocessing/_label.py:268: DataConversionWarning:\n",
            "\n",
            "A column-vector y was passed when a 1d array was expected. Please change the shape of y to (n_samples, ), for example using ravel().\n",
            "\n"
          ]
        },
        {
          "name": "stdout",
          "output_type": "stream",
          "text": [
            "[LightGBM] [Warning] feature_fraction is set=0.6095027440339846, colsample_bytree=1.0 will be ignored. Current value: feature_fraction=0.6095027440339846\n",
            "[LightGBM] [Warning] feature_fraction is set=0.6095027440339846, colsample_bytree=1.0 will be ignored. Current value: feature_fraction=0.6095027440339846\n",
            "New AUC Score 0.8567057260744176\n"
          ]
        },
        {
          "name": "stderr",
          "output_type": "stream",
          "text": [
            "/usr/local/lib/python3.7/dist-packages/sklearn/preprocessing/_label.py:235: DataConversionWarning:\n",
            "\n",
            "A column-vector y was passed when a 1d array was expected. Please change the shape of y to (n_samples, ), for example using ravel().\n",
            "\n",
            "/usr/local/lib/python3.7/dist-packages/sklearn/preprocessing/_label.py:268: DataConversionWarning:\n",
            "\n",
            "A column-vector y was passed when a 1d array was expected. Please change the shape of y to (n_samples, ), for example using ravel().\n",
            "\n"
          ]
        },
        {
          "name": "stdout",
          "output_type": "stream",
          "text": [
            "[LightGBM] [Warning] feature_fraction is set=0.6095027440339846, colsample_bytree=1.0 will be ignored. Current value: feature_fraction=0.6095027440339846\n",
            "[LightGBM] [Warning] feature_fraction is set=0.6095027440339846, colsample_bytree=1.0 will be ignored. Current value: feature_fraction=0.6095027440339846\n",
            "New AUC Score 0.8569942531458928\n",
            "all scores [0.8566270416003835, 0.856746908313166, 0.8569192262752999, 0.8567057260744176, 0.8569942531458928]\n",
            "Roc AUC score 0.8569942531458928\n",
            "{'boosting_type': 'gbdt', 'class_weight': None, 'colsample_bytree': 1.0, 'importance_type': 'split', 'learning_rate': 0.011919653181243165, 'max_depth': 6, 'min_child_samples': 69, 'min_child_weight': 0.001, 'min_split_gain': 0.0, 'n_estimators': 6296, 'n_jobs': -1, 'num_leaves': 8, 'objective': 'binary', 'random_state': 42, 'reg_alpha': 16, 'reg_lambda': 16, 'silent': True, 'subsample': 0.555489277781225, 'subsample_for_bin': 200000, 'subsample_freq': 1, 'metric': 'AUC', 'verbosity': 0, 'device': 'gpu', 'feature_fraction': 0.6095027440339846}\n"
          ]
        },
        {
          "name": "stderr",
          "output_type": "stream",
          "text": [
            "\u001b[32m[I 2021-10-03 10:48:50,083]\u001b[0m Trial 19 finished with value: 0.8569942531458928 and parameters: {'boosting_type': 'gbdt', 'subsample': 0.555489277781225, 'eta': 0.011919653181243165, 'n_estimators': 6296, 'reg_alpha': 16, 'reg_lambda': 16, 'max_depth': 6, 'num_leaves': 8, 'feature_fraction': 0.6095027440339846, 'min_child_samples': 69}. Best is trial 18 with value: 0.8588837881237562.\u001b[0m\n"
          ]
        },
        {
          "name": "stdout",
          "output_type": "stream",
          "text": [
            "filename ./models/lgbm_19 best_model_name./models/best_lgbm  best_trial_number 18\n",
            "STARTING Params: {'metric': 'AUC', 'verbosity': 0, 'device': 'gpu', 'boosting_type': 'gbdt', 'subsample': 0.5740996834926019, 'learning_rate': 0.014096213798916879, 'n_estimators': 7713, 'subsample_freq': 1, 'reg_alpha': 17, 'reg_lambda': 15, 'max_depth': 7, 'num_leaves': 6, 'feature_fraction': 0.40121546862988133, 'min_child_samples': 88, 'objective': 'binary'}\n",
            "Param: {'metric': 'AUC', 'verbosity': 0, 'device': 'gpu', 'boosting_type': 'gbdt', 'subsample': 0.5740996834926019, 'learning_rate': 0.014096213798916879, 'n_estimators': 7713, 'subsample_freq': 1, 'reg_alpha': 17, 'reg_lambda': 15, 'max_depth': 7, 'num_leaves': 6, 'feature_fraction': 0.40121546862988133, 'min_child_samples': 88, 'objective': 'binary'}\n"
          ]
        },
        {
          "name": "stderr",
          "output_type": "stream",
          "text": [
            "/usr/local/lib/python3.7/dist-packages/sklearn/preprocessing/_label.py:235: DataConversionWarning:\n",
            "\n",
            "A column-vector y was passed when a 1d array was expected. Please change the shape of y to (n_samples, ), for example using ravel().\n",
            "\n",
            "/usr/local/lib/python3.7/dist-packages/sklearn/preprocessing/_label.py:268: DataConversionWarning:\n",
            "\n",
            "A column-vector y was passed when a 1d array was expected. Please change the shape of y to (n_samples, ), for example using ravel().\n",
            "\n"
          ]
        },
        {
          "name": "stdout",
          "output_type": "stream",
          "text": [
            "[LightGBM] [Warning] feature_fraction is set=0.40121546862988133, colsample_bytree=1.0 will be ignored. Current value: feature_fraction=0.40121546862988133\n",
            "[LightGBM] [Warning] feature_fraction is set=0.40121546862988133, colsample_bytree=1.0 will be ignored. Current value: feature_fraction=0.40121546862988133\n",
            "New AUC Score 0.8570256163754024\n"
          ]
        },
        {
          "name": "stderr",
          "output_type": "stream",
          "text": [
            "/usr/local/lib/python3.7/dist-packages/sklearn/preprocessing/_label.py:235: DataConversionWarning:\n",
            "\n",
            "A column-vector y was passed when a 1d array was expected. Please change the shape of y to (n_samples, ), for example using ravel().\n",
            "\n",
            "/usr/local/lib/python3.7/dist-packages/sklearn/preprocessing/_label.py:268: DataConversionWarning:\n",
            "\n",
            "A column-vector y was passed when a 1d array was expected. Please change the shape of y to (n_samples, ), for example using ravel().\n",
            "\n"
          ]
        },
        {
          "name": "stdout",
          "output_type": "stream",
          "text": [
            "[LightGBM] [Warning] feature_fraction is set=0.40121546862988133, colsample_bytree=1.0 will be ignored. Current value: feature_fraction=0.40121546862988133\n",
            "[LightGBM] [Warning] feature_fraction is set=0.40121546862988133, colsample_bytree=1.0 will be ignored. Current value: feature_fraction=0.40121546862988133\n",
            "New AUC Score 0.8571013450466555\n"
          ]
        },
        {
          "name": "stderr",
          "output_type": "stream",
          "text": [
            "/usr/local/lib/python3.7/dist-packages/sklearn/preprocessing/_label.py:235: DataConversionWarning:\n",
            "\n",
            "A column-vector y was passed when a 1d array was expected. Please change the shape of y to (n_samples, ), for example using ravel().\n",
            "\n",
            "/usr/local/lib/python3.7/dist-packages/sklearn/preprocessing/_label.py:268: DataConversionWarning:\n",
            "\n",
            "A column-vector y was passed when a 1d array was expected. Please change the shape of y to (n_samples, ), for example using ravel().\n",
            "\n"
          ]
        },
        {
          "name": "stdout",
          "output_type": "stream",
          "text": [
            "[LightGBM] [Warning] feature_fraction is set=0.40121546862988133, colsample_bytree=1.0 will be ignored. Current value: feature_fraction=0.40121546862988133\n",
            "[LightGBM] [Warning] feature_fraction is set=0.40121546862988133, colsample_bytree=1.0 will be ignored. Current value: feature_fraction=0.40121546862988133\n",
            "New AUC Score 0.8573952817232205\n"
          ]
        },
        {
          "name": "stderr",
          "output_type": "stream",
          "text": [
            "/usr/local/lib/python3.7/dist-packages/sklearn/preprocessing/_label.py:235: DataConversionWarning:\n",
            "\n",
            "A column-vector y was passed when a 1d array was expected. Please change the shape of y to (n_samples, ), for example using ravel().\n",
            "\n",
            "/usr/local/lib/python3.7/dist-packages/sklearn/preprocessing/_label.py:268: DataConversionWarning:\n",
            "\n",
            "A column-vector y was passed when a 1d array was expected. Please change the shape of y to (n_samples, ), for example using ravel().\n",
            "\n"
          ]
        },
        {
          "name": "stdout",
          "output_type": "stream",
          "text": [
            "[LightGBM] [Warning] feature_fraction is set=0.40121546862988133, colsample_bytree=1.0 will be ignored. Current value: feature_fraction=0.40121546862988133\n",
            "[LightGBM] [Warning] feature_fraction is set=0.40121546862988133, colsample_bytree=1.0 will be ignored. Current value: feature_fraction=0.40121546862988133\n",
            "New AUC Score 0.8563567363460531\n"
          ]
        },
        {
          "name": "stderr",
          "output_type": "stream",
          "text": [
            "/usr/local/lib/python3.7/dist-packages/sklearn/preprocessing/_label.py:235: DataConversionWarning:\n",
            "\n",
            "A column-vector y was passed when a 1d array was expected. Please change the shape of y to (n_samples, ), for example using ravel().\n",
            "\n",
            "/usr/local/lib/python3.7/dist-packages/sklearn/preprocessing/_label.py:268: DataConversionWarning:\n",
            "\n",
            "A column-vector y was passed when a 1d array was expected. Please change the shape of y to (n_samples, ), for example using ravel().\n",
            "\n"
          ]
        },
        {
          "name": "stdout",
          "output_type": "stream",
          "text": [
            "[LightGBM] [Warning] feature_fraction is set=0.40121546862988133, colsample_bytree=1.0 will be ignored. Current value: feature_fraction=0.40121546862988133\n",
            "[LightGBM] [Warning] feature_fraction is set=0.40121546862988133, colsample_bytree=1.0 will be ignored. Current value: feature_fraction=0.40121546862988133\n",
            "New AUC Score 0.8568246309862952\n",
            "all scores [0.8570256163754024, 0.8571013450466555, 0.8573952817232205, 0.8563567363460531, 0.8568246309862952]\n",
            "Roc AUC score 0.8573952817232205\n",
            "{'boosting_type': 'gbdt', 'class_weight': None, 'colsample_bytree': 1.0, 'importance_type': 'split', 'learning_rate': 0.014096213798916879, 'max_depth': 7, 'min_child_samples': 88, 'min_child_weight': 0.001, 'min_split_gain': 0.0, 'n_estimators': 7713, 'n_jobs': -1, 'num_leaves': 6, 'objective': 'binary', 'random_state': 42, 'reg_alpha': 17, 'reg_lambda': 15, 'silent': True, 'subsample': 0.5740996834926019, 'subsample_for_bin': 200000, 'subsample_freq': 1, 'metric': 'AUC', 'verbosity': 0, 'device': 'gpu', 'feature_fraction': 0.40121546862988133}\n"
          ]
        },
        {
          "name": "stderr",
          "output_type": "stream",
          "text": [
            "\u001b[32m[I 2021-10-03 11:06:54,506]\u001b[0m Trial 20 finished with value: 0.8573952817232205 and parameters: {'boosting_type': 'gbdt', 'subsample': 0.5740996834926019, 'eta': 0.014096213798916879, 'n_estimators': 7713, 'reg_alpha': 17, 'reg_lambda': 15, 'max_depth': 7, 'num_leaves': 6, 'feature_fraction': 0.40121546862988133, 'min_child_samples': 88}. Best is trial 18 with value: 0.8588837881237562.\u001b[0m\n"
          ]
        },
        {
          "name": "stdout",
          "output_type": "stream",
          "text": [
            "filename ./models/lgbm_20 best_model_name./models/best_lgbm  best_trial_number 18\n",
            "STARTING Params: {'metric': 'AUC', 'verbosity': 0, 'device': 'gpu', 'boosting_type': 'gbdt', 'subsample': 0.5557326156161794, 'learning_rate': 0.013770947395917136, 'n_estimators': 9950, 'subsample_freq': 1, 'reg_alpha': 19, 'reg_lambda': 18, 'max_depth': 8, 'num_leaves': 4, 'feature_fraction': 0.7915572881751214, 'min_child_samples': 92, 'objective': 'binary'}\n",
            "Param: {'metric': 'AUC', 'verbosity': 0, 'device': 'gpu', 'boosting_type': 'gbdt', 'subsample': 0.5557326156161794, 'learning_rate': 0.013770947395917136, 'n_estimators': 9950, 'subsample_freq': 1, 'reg_alpha': 19, 'reg_lambda': 18, 'max_depth': 8, 'num_leaves': 4, 'feature_fraction': 0.7915572881751214, 'min_child_samples': 92, 'objective': 'binary'}\n"
          ]
        },
        {
          "name": "stderr",
          "output_type": "stream",
          "text": [
            "/usr/local/lib/python3.7/dist-packages/sklearn/preprocessing/_label.py:235: DataConversionWarning:\n",
            "\n",
            "A column-vector y was passed when a 1d array was expected. Please change the shape of y to (n_samples, ), for example using ravel().\n",
            "\n",
            "/usr/local/lib/python3.7/dist-packages/sklearn/preprocessing/_label.py:268: DataConversionWarning:\n",
            "\n",
            "A column-vector y was passed when a 1d array was expected. Please change the shape of y to (n_samples, ), for example using ravel().\n",
            "\n"
          ]
        },
        {
          "name": "stdout",
          "output_type": "stream",
          "text": [
            "[LightGBM] [Warning] feature_fraction is set=0.7915572881751214, colsample_bytree=1.0 will be ignored. Current value: feature_fraction=0.7915572881751214\n",
            "[LightGBM] [Warning] feature_fraction is set=0.7915572881751214, colsample_bytree=1.0 will be ignored. Current value: feature_fraction=0.7915572881751214\n",
            "New AUC Score 0.8564264262116243\n"
          ]
        },
        {
          "name": "stderr",
          "output_type": "stream",
          "text": [
            "/usr/local/lib/python3.7/dist-packages/sklearn/preprocessing/_label.py:235: DataConversionWarning:\n",
            "\n",
            "A column-vector y was passed when a 1d array was expected. Please change the shape of y to (n_samples, ), for example using ravel().\n",
            "\n",
            "/usr/local/lib/python3.7/dist-packages/sklearn/preprocessing/_label.py:268: DataConversionWarning:\n",
            "\n",
            "A column-vector y was passed when a 1d array was expected. Please change the shape of y to (n_samples, ), for example using ravel().\n",
            "\n"
          ]
        },
        {
          "name": "stdout",
          "output_type": "stream",
          "text": [
            "[LightGBM] [Warning] feature_fraction is set=0.7915572881751214, colsample_bytree=1.0 will be ignored. Current value: feature_fraction=0.7915572881751214\n",
            "[LightGBM] [Warning] feature_fraction is set=0.7915572881751214, colsample_bytree=1.0 will be ignored. Current value: feature_fraction=0.7915572881751214\n",
            "New AUC Score 0.8560219855310861\n"
          ]
        },
        {
          "name": "stderr",
          "output_type": "stream",
          "text": [
            "/usr/local/lib/python3.7/dist-packages/sklearn/preprocessing/_label.py:235: DataConversionWarning:\n",
            "\n",
            "A column-vector y was passed when a 1d array was expected. Please change the shape of y to (n_samples, ), for example using ravel().\n",
            "\n",
            "/usr/local/lib/python3.7/dist-packages/sklearn/preprocessing/_label.py:268: DataConversionWarning:\n",
            "\n",
            "A column-vector y was passed when a 1d array was expected. Please change the shape of y to (n_samples, ), for example using ravel().\n",
            "\n"
          ]
        },
        {
          "name": "stdout",
          "output_type": "stream",
          "text": [
            "[LightGBM] [Warning] feature_fraction is set=0.7915572881751214, colsample_bytree=1.0 will be ignored. Current value: feature_fraction=0.7915572881751214\n",
            "[LightGBM] [Warning] feature_fraction is set=0.7915572881751214, colsample_bytree=1.0 will be ignored. Current value: feature_fraction=0.7915572881751214\n",
            "New AUC Score 0.8567759493404908\n"
          ]
        },
        {
          "name": "stderr",
          "output_type": "stream",
          "text": [
            "/usr/local/lib/python3.7/dist-packages/sklearn/preprocessing/_label.py:235: DataConversionWarning:\n",
            "\n",
            "A column-vector y was passed when a 1d array was expected. Please change the shape of y to (n_samples, ), for example using ravel().\n",
            "\n",
            "/usr/local/lib/python3.7/dist-packages/sklearn/preprocessing/_label.py:268: DataConversionWarning:\n",
            "\n",
            "A column-vector y was passed when a 1d array was expected. Please change the shape of y to (n_samples, ), for example using ravel().\n",
            "\n"
          ]
        },
        {
          "name": "stdout",
          "output_type": "stream",
          "text": [
            "[LightGBM] [Warning] feature_fraction is set=0.7915572881751214, colsample_bytree=1.0 will be ignored. Current value: feature_fraction=0.7915572881751214\n",
            "[LightGBM] [Warning] feature_fraction is set=0.7915572881751214, colsample_bytree=1.0 will be ignored. Current value: feature_fraction=0.7915572881751214\n",
            "New AUC Score 0.8562741018683026\n"
          ]
        },
        {
          "name": "stderr",
          "output_type": "stream",
          "text": [
            "/usr/local/lib/python3.7/dist-packages/sklearn/preprocessing/_label.py:235: DataConversionWarning:\n",
            "\n",
            "A column-vector y was passed when a 1d array was expected. Please change the shape of y to (n_samples, ), for example using ravel().\n",
            "\n",
            "/usr/local/lib/python3.7/dist-packages/sklearn/preprocessing/_label.py:268: DataConversionWarning:\n",
            "\n",
            "A column-vector y was passed when a 1d array was expected. Please change the shape of y to (n_samples, ), for example using ravel().\n",
            "\n"
          ]
        },
        {
          "name": "stdout",
          "output_type": "stream",
          "text": [
            "[LightGBM] [Warning] feature_fraction is set=0.7915572881751214, colsample_bytree=1.0 will be ignored. Current value: feature_fraction=0.7915572881751214\n",
            "[LightGBM] [Warning] feature_fraction is set=0.7915572881751214, colsample_bytree=1.0 will be ignored. Current value: feature_fraction=0.7915572881751214\n",
            "New AUC Score 0.8580865946736769\n",
            "all scores [0.8564264262116243, 0.8560219855310861, 0.8567759493404908, 0.8562741018683026, 0.8580865946736769]\n",
            "Roc AUC score 0.8580865946736769\n",
            "{'boosting_type': 'gbdt', 'class_weight': None, 'colsample_bytree': 1.0, 'importance_type': 'split', 'learning_rate': 0.013770947395917136, 'max_depth': 8, 'min_child_samples': 92, 'min_child_weight': 0.001, 'min_split_gain': 0.0, 'n_estimators': 9950, 'n_jobs': -1, 'num_leaves': 4, 'objective': 'binary', 'random_state': 42, 'reg_alpha': 19, 'reg_lambda': 18, 'silent': True, 'subsample': 0.5557326156161794, 'subsample_for_bin': 200000, 'subsample_freq': 1, 'metric': 'AUC', 'verbosity': 0, 'device': 'gpu', 'feature_fraction': 0.7915572881751214}\n"
          ]
        },
        {
          "name": "stderr",
          "output_type": "stream",
          "text": [
            "\u001b[32m[I 2021-10-03 11:19:08,377]\u001b[0m Trial 21 finished with value: 0.8580865946736769 and parameters: {'boosting_type': 'gbdt', 'subsample': 0.5557326156161794, 'eta': 0.013770947395917136, 'n_estimators': 9950, 'reg_alpha': 19, 'reg_lambda': 18, 'max_depth': 8, 'num_leaves': 4, 'feature_fraction': 0.7915572881751214, 'min_child_samples': 92}. Best is trial 18 with value: 0.8588837881237562.\u001b[0m\n"
          ]
        },
        {
          "name": "stdout",
          "output_type": "stream",
          "text": [
            "filename ./models/lgbm_21 best_model_name./models/best_lgbm  best_trial_number 18\n",
            "STARTING Params: {'metric': 'AUC', 'verbosity': 0, 'device': 'gpu', 'boosting_type': 'gbdt', 'subsample': 0.5584819595399259, 'learning_rate': 0.014192300531703698, 'n_estimators': 8772, 'subsample_freq': 1, 'reg_alpha': 19, 'reg_lambda': 16, 'max_depth': 7, 'num_leaves': 4, 'feature_fraction': 0.5957375543621651, 'min_child_samples': 76, 'objective': 'binary'}\n",
            "Param: {'metric': 'AUC', 'verbosity': 0, 'device': 'gpu', 'boosting_type': 'gbdt', 'subsample': 0.5584819595399259, 'learning_rate': 0.014192300531703698, 'n_estimators': 8772, 'subsample_freq': 1, 'reg_alpha': 19, 'reg_lambda': 16, 'max_depth': 7, 'num_leaves': 4, 'feature_fraction': 0.5957375543621651, 'min_child_samples': 76, 'objective': 'binary'}\n"
          ]
        },
        {
          "name": "stderr",
          "output_type": "stream",
          "text": [
            "/usr/local/lib/python3.7/dist-packages/sklearn/preprocessing/_label.py:235: DataConversionWarning:\n",
            "\n",
            "A column-vector y was passed when a 1d array was expected. Please change the shape of y to (n_samples, ), for example using ravel().\n",
            "\n",
            "/usr/local/lib/python3.7/dist-packages/sklearn/preprocessing/_label.py:268: DataConversionWarning:\n",
            "\n",
            "A column-vector y was passed when a 1d array was expected. Please change the shape of y to (n_samples, ), for example using ravel().\n",
            "\n"
          ]
        },
        {
          "name": "stdout",
          "output_type": "stream",
          "text": [
            "[LightGBM] [Warning] feature_fraction is set=0.5957375543621651, colsample_bytree=1.0 will be ignored. Current value: feature_fraction=0.5957375543621651\n",
            "[LightGBM] [Warning] feature_fraction is set=0.5957375543621651, colsample_bytree=1.0 will be ignored. Current value: feature_fraction=0.5957375543621651\n",
            "New AUC Score 0.8565388964174476\n"
          ]
        },
        {
          "name": "stderr",
          "output_type": "stream",
          "text": [
            "/usr/local/lib/python3.7/dist-packages/sklearn/preprocessing/_label.py:235: DataConversionWarning:\n",
            "\n",
            "A column-vector y was passed when a 1d array was expected. Please change the shape of y to (n_samples, ), for example using ravel().\n",
            "\n",
            "/usr/local/lib/python3.7/dist-packages/sklearn/preprocessing/_label.py:268: DataConversionWarning:\n",
            "\n",
            "A column-vector y was passed when a 1d array was expected. Please change the shape of y to (n_samples, ), for example using ravel().\n",
            "\n"
          ]
        },
        {
          "name": "stdout",
          "output_type": "stream",
          "text": [
            "[LightGBM] [Warning] feature_fraction is set=0.5957375543621651, colsample_bytree=1.0 will be ignored. Current value: feature_fraction=0.5957375543621651\n",
            "[LightGBM] [Warning] feature_fraction is set=0.5957375543621651, colsample_bytree=1.0 will be ignored. Current value: feature_fraction=0.5957375543621651\n",
            "New AUC Score 0.856538149616745\n"
          ]
        },
        {
          "name": "stderr",
          "output_type": "stream",
          "text": [
            "/usr/local/lib/python3.7/dist-packages/sklearn/preprocessing/_label.py:235: DataConversionWarning:\n",
            "\n",
            "A column-vector y was passed when a 1d array was expected. Please change the shape of y to (n_samples, ), for example using ravel().\n",
            "\n",
            "/usr/local/lib/python3.7/dist-packages/sklearn/preprocessing/_label.py:268: DataConversionWarning:\n",
            "\n",
            "A column-vector y was passed when a 1d array was expected. Please change the shape of y to (n_samples, ), for example using ravel().\n",
            "\n"
          ]
        },
        {
          "name": "stdout",
          "output_type": "stream",
          "text": [
            "[LightGBM] [Warning] feature_fraction is set=0.5957375543621651, colsample_bytree=1.0 will be ignored. Current value: feature_fraction=0.5957375543621651\n",
            "[LightGBM] [Warning] feature_fraction is set=0.5957375543621651, colsample_bytree=1.0 will be ignored. Current value: feature_fraction=0.5957375543621651\n",
            "New AUC Score 0.856551152128979\n"
          ]
        },
        {
          "name": "stderr",
          "output_type": "stream",
          "text": [
            "/usr/local/lib/python3.7/dist-packages/sklearn/preprocessing/_label.py:235: DataConversionWarning:\n",
            "\n",
            "A column-vector y was passed when a 1d array was expected. Please change the shape of y to (n_samples, ), for example using ravel().\n",
            "\n",
            "/usr/local/lib/python3.7/dist-packages/sklearn/preprocessing/_label.py:268: DataConversionWarning:\n",
            "\n",
            "A column-vector y was passed when a 1d array was expected. Please change the shape of y to (n_samples, ), for example using ravel().\n",
            "\n"
          ]
        },
        {
          "name": "stdout",
          "output_type": "stream",
          "text": [
            "[LightGBM] [Warning] feature_fraction is set=0.5957375543621651, colsample_bytree=1.0 will be ignored. Current value: feature_fraction=0.5957375543621651\n",
            "[LightGBM] [Warning] feature_fraction is set=0.5957375543621651, colsample_bytree=1.0 will be ignored. Current value: feature_fraction=0.5957375543621651\n",
            "New AUC Score 0.855567887203825\n"
          ]
        },
        {
          "name": "stderr",
          "output_type": "stream",
          "text": [
            "/usr/local/lib/python3.7/dist-packages/sklearn/preprocessing/_label.py:235: DataConversionWarning:\n",
            "\n",
            "A column-vector y was passed when a 1d array was expected. Please change the shape of y to (n_samples, ), for example using ravel().\n",
            "\n",
            "/usr/local/lib/python3.7/dist-packages/sklearn/preprocessing/_label.py:268: DataConversionWarning:\n",
            "\n",
            "A column-vector y was passed when a 1d array was expected. Please change the shape of y to (n_samples, ), for example using ravel().\n",
            "\n"
          ]
        },
        {
          "name": "stdout",
          "output_type": "stream",
          "text": [
            "[LightGBM] [Warning] feature_fraction is set=0.5957375543621651, colsample_bytree=1.0 will be ignored. Current value: feature_fraction=0.5957375543621651\n",
            "[LightGBM] [Warning] feature_fraction is set=0.5957375543621651, colsample_bytree=1.0 will be ignored. Current value: feature_fraction=0.5957375543621651\n",
            "New AUC Score 0.857599884115731\n",
            "all scores [0.8565388964174476, 0.856538149616745, 0.856551152128979, 0.855567887203825, 0.857599884115731]\n",
            "Roc AUC score 0.857599884115731\n",
            "{'boosting_type': 'gbdt', 'class_weight': None, 'colsample_bytree': 1.0, 'importance_type': 'split', 'learning_rate': 0.014192300531703698, 'max_depth': 7, 'min_child_samples': 76, 'min_child_weight': 0.001, 'min_split_gain': 0.0, 'n_estimators': 8772, 'n_jobs': -1, 'num_leaves': 4, 'objective': 'binary', 'random_state': 42, 'reg_alpha': 19, 'reg_lambda': 16, 'silent': True, 'subsample': 0.5584819595399259, 'subsample_for_bin': 200000, 'subsample_freq': 1, 'metric': 'AUC', 'verbosity': 0, 'device': 'gpu', 'feature_fraction': 0.5957375543621651}\n"
          ]
        },
        {
          "name": "stderr",
          "output_type": "stream",
          "text": [
            "\u001b[32m[I 2021-10-03 11:34:38,780]\u001b[0m Trial 22 finished with value: 0.857599884115731 and parameters: {'boosting_type': 'gbdt', 'subsample': 0.5584819595399259, 'eta': 0.014192300531703698, 'n_estimators': 8772, 'reg_alpha': 19, 'reg_lambda': 16, 'max_depth': 7, 'num_leaves': 4, 'feature_fraction': 0.5957375543621651, 'min_child_samples': 76}. Best is trial 18 with value: 0.8588837881237562.\u001b[0m\n"
          ]
        },
        {
          "name": "stdout",
          "output_type": "stream",
          "text": [
            "filename ./models/lgbm_22 best_model_name./models/best_lgbm  best_trial_number 18\n",
            "STARTING Params: {'metric': 'AUC', 'verbosity': 0, 'device': 'gpu', 'boosting_type': 'gbdt', 'subsample': 0.5818905747485443, 'learning_rate': 0.009977106380919774, 'n_estimators': 7875, 'subsample_freq': 1, 'reg_alpha': 19, 'reg_lambda': 19, 'max_depth': 8, 'num_leaves': 2, 'feature_fraction': 0.9217585643284071, 'min_child_samples': 89, 'objective': 'binary'}\n",
            "Param: {'metric': 'AUC', 'verbosity': 0, 'device': 'gpu', 'boosting_type': 'gbdt', 'subsample': 0.5818905747485443, 'learning_rate': 0.009977106380919774, 'n_estimators': 7875, 'subsample_freq': 1, 'reg_alpha': 19, 'reg_lambda': 19, 'max_depth': 8, 'num_leaves': 2, 'feature_fraction': 0.9217585643284071, 'min_child_samples': 89, 'objective': 'binary'}\n"
          ]
        },
        {
          "name": "stderr",
          "output_type": "stream",
          "text": [
            "/usr/local/lib/python3.7/dist-packages/sklearn/preprocessing/_label.py:235: DataConversionWarning:\n",
            "\n",
            "A column-vector y was passed when a 1d array was expected. Please change the shape of y to (n_samples, ), for example using ravel().\n",
            "\n",
            "/usr/local/lib/python3.7/dist-packages/sklearn/preprocessing/_label.py:268: DataConversionWarning:\n",
            "\n",
            "A column-vector y was passed when a 1d array was expected. Please change the shape of y to (n_samples, ), for example using ravel().\n",
            "\n"
          ]
        },
        {
          "name": "stdout",
          "output_type": "stream",
          "text": [
            "[LightGBM] [Warning] feature_fraction is set=0.9217585643284071, colsample_bytree=1.0 will be ignored. Current value: feature_fraction=0.9217585643284071\n",
            "[LightGBM] [Warning] feature_fraction is set=0.9217585643284071, colsample_bytree=1.0 will be ignored. Current value: feature_fraction=0.9217585643284071\n",
            "New AUC Score 0.8499038630745447\n"
          ]
        },
        {
          "name": "stderr",
          "output_type": "stream",
          "text": [
            "/usr/local/lib/python3.7/dist-packages/sklearn/preprocessing/_label.py:235: DataConversionWarning:\n",
            "\n",
            "A column-vector y was passed when a 1d array was expected. Please change the shape of y to (n_samples, ), for example using ravel().\n",
            "\n",
            "/usr/local/lib/python3.7/dist-packages/sklearn/preprocessing/_label.py:268: DataConversionWarning:\n",
            "\n",
            "A column-vector y was passed when a 1d array was expected. Please change the shape of y to (n_samples, ), for example using ravel().\n",
            "\n"
          ]
        },
        {
          "name": "stdout",
          "output_type": "stream",
          "text": [
            "[LightGBM] [Warning] feature_fraction is set=0.9217585643284071, colsample_bytree=1.0 will be ignored. Current value: feature_fraction=0.9217585643284071\n",
            "[LightGBM] [Warning] feature_fraction is set=0.9217585643284071, colsample_bytree=1.0 will be ignored. Current value: feature_fraction=0.9217585643284071\n",
            "New AUC Score 0.8498331465080076\n"
          ]
        },
        {
          "name": "stderr",
          "output_type": "stream",
          "text": [
            "/usr/local/lib/python3.7/dist-packages/sklearn/preprocessing/_label.py:235: DataConversionWarning:\n",
            "\n",
            "A column-vector y was passed when a 1d array was expected. Please change the shape of y to (n_samples, ), for example using ravel().\n",
            "\n",
            "/usr/local/lib/python3.7/dist-packages/sklearn/preprocessing/_label.py:268: DataConversionWarning:\n",
            "\n",
            "A column-vector y was passed when a 1d array was expected. Please change the shape of y to (n_samples, ), for example using ravel().\n",
            "\n"
          ]
        },
        {
          "name": "stdout",
          "output_type": "stream",
          "text": [
            "[LightGBM] [Warning] feature_fraction is set=0.9217585643284071, colsample_bytree=1.0 will be ignored. Current value: feature_fraction=0.9217585643284071\n",
            "[LightGBM] [Warning] feature_fraction is set=0.9217585643284071, colsample_bytree=1.0 will be ignored. Current value: feature_fraction=0.9217585643284071\n",
            "New AUC Score 0.8498779060501218\n"
          ]
        },
        {
          "name": "stderr",
          "output_type": "stream",
          "text": [
            "/usr/local/lib/python3.7/dist-packages/sklearn/preprocessing/_label.py:235: DataConversionWarning:\n",
            "\n",
            "A column-vector y was passed when a 1d array was expected. Please change the shape of y to (n_samples, ), for example using ravel().\n",
            "\n",
            "/usr/local/lib/python3.7/dist-packages/sklearn/preprocessing/_label.py:268: DataConversionWarning:\n",
            "\n",
            "A column-vector y was passed when a 1d array was expected. Please change the shape of y to (n_samples, ), for example using ravel().\n",
            "\n"
          ]
        },
        {
          "name": "stdout",
          "output_type": "stream",
          "text": [
            "[LightGBM] [Warning] feature_fraction is set=0.9217585643284071, colsample_bytree=1.0 will be ignored. Current value: feature_fraction=0.9217585643284071\n",
            "[LightGBM] [Warning] feature_fraction is set=0.9217585643284071, colsample_bytree=1.0 will be ignored. Current value: feature_fraction=0.9217585643284071\n",
            "New AUC Score 0.8512054180991779\n"
          ]
        },
        {
          "name": "stderr",
          "output_type": "stream",
          "text": [
            "/usr/local/lib/python3.7/dist-packages/sklearn/preprocessing/_label.py:235: DataConversionWarning:\n",
            "\n",
            "A column-vector y was passed when a 1d array was expected. Please change the shape of y to (n_samples, ), for example using ravel().\n",
            "\n",
            "/usr/local/lib/python3.7/dist-packages/sklearn/preprocessing/_label.py:268: DataConversionWarning:\n",
            "\n",
            "A column-vector y was passed when a 1d array was expected. Please change the shape of y to (n_samples, ), for example using ravel().\n",
            "\n"
          ]
        },
        {
          "name": "stdout",
          "output_type": "stream",
          "text": [
            "[LightGBM] [Warning] feature_fraction is set=0.9217585643284071, colsample_bytree=1.0 will be ignored. Current value: feature_fraction=0.9217585643284071\n",
            "[LightGBM] [Warning] feature_fraction is set=0.9217585643284071, colsample_bytree=1.0 will be ignored. Current value: feature_fraction=0.9217585643284071\n",
            "New AUC Score 0.8504160834564929\n",
            "all scores [0.8499038630745447, 0.8498331465080076, 0.8498779060501218, 0.8512054180991779, 0.8504160834564929]\n",
            "Roc AUC score 0.8512054180991779\n",
            "{'boosting_type': 'gbdt', 'class_weight': None, 'colsample_bytree': 1.0, 'importance_type': 'split', 'learning_rate': 0.009977106380919774, 'max_depth': 8, 'min_child_samples': 89, 'min_child_weight': 0.001, 'min_split_gain': 0.0, 'n_estimators': 7875, 'n_jobs': -1, 'num_leaves': 2, 'objective': 'binary', 'random_state': 42, 'reg_alpha': 19, 'reg_lambda': 19, 'silent': True, 'subsample': 0.5818905747485443, 'subsample_for_bin': 200000, 'subsample_freq': 1, 'metric': 'AUC', 'verbosity': 0, 'device': 'gpu', 'feature_fraction': 0.9217585643284071}\n"
          ]
        },
        {
          "name": "stderr",
          "output_type": "stream",
          "text": [
            "\u001b[32m[I 2021-10-03 11:41:59,065]\u001b[0m Trial 23 finished with value: 0.8512054180991779 and parameters: {'boosting_type': 'gbdt', 'subsample': 0.5818905747485443, 'eta': 0.009977106380919774, 'n_estimators': 7875, 'reg_alpha': 19, 'reg_lambda': 19, 'max_depth': 8, 'num_leaves': 2, 'feature_fraction': 0.9217585643284071, 'min_child_samples': 89}. Best is trial 18 with value: 0.8588837881237562.\u001b[0m\n"
          ]
        },
        {
          "name": "stdout",
          "output_type": "stream",
          "text": [
            "filename ./models/lgbm_23 best_model_name./models/best_lgbm  best_trial_number 18\n",
            "STARTING Params: {'metric': 'AUC', 'verbosity': 0, 'device': 'gpu', 'boosting_type': 'gbdt', 'subsample': 0.5501746005704078, 'learning_rate': 0.013910544897877412, 'n_estimators': 4486, 'subsample_freq': 1, 'reg_alpha': 17, 'reg_lambda': 16, 'max_depth': 9, 'num_leaves': 4, 'feature_fraction': 0.7993181634840064, 'min_child_samples': 64, 'objective': 'binary'}\n",
            "Param: {'metric': 'AUC', 'verbosity': 0, 'device': 'gpu', 'boosting_type': 'gbdt', 'subsample': 0.5501746005704078, 'learning_rate': 0.013910544897877412, 'n_estimators': 4486, 'subsample_freq': 1, 'reg_alpha': 17, 'reg_lambda': 16, 'max_depth': 9, 'num_leaves': 4, 'feature_fraction': 0.7993181634840064, 'min_child_samples': 64, 'objective': 'binary'}\n"
          ]
        },
        {
          "name": "stderr",
          "output_type": "stream",
          "text": [
            "/usr/local/lib/python3.7/dist-packages/sklearn/preprocessing/_label.py:235: DataConversionWarning:\n",
            "\n",
            "A column-vector y was passed when a 1d array was expected. Please change the shape of y to (n_samples, ), for example using ravel().\n",
            "\n",
            "/usr/local/lib/python3.7/dist-packages/sklearn/preprocessing/_label.py:268: DataConversionWarning:\n",
            "\n",
            "A column-vector y was passed when a 1d array was expected. Please change the shape of y to (n_samples, ), for example using ravel().\n",
            "\n"
          ]
        },
        {
          "name": "stdout",
          "output_type": "stream",
          "text": [
            "[LightGBM] [Warning] feature_fraction is set=0.7993181634840064, colsample_bytree=1.0 will be ignored. Current value: feature_fraction=0.7993181634840064\n",
            "[LightGBM] [Warning] feature_fraction is set=0.7993181634840064, colsample_bytree=1.0 will be ignored. Current value: feature_fraction=0.7993181634840064\n",
            "New AUC Score 0.8549505094229344\n"
          ]
        },
        {
          "name": "stderr",
          "output_type": "stream",
          "text": [
            "/usr/local/lib/python3.7/dist-packages/sklearn/preprocessing/_label.py:235: DataConversionWarning:\n",
            "\n",
            "A column-vector y was passed when a 1d array was expected. Please change the shape of y to (n_samples, ), for example using ravel().\n",
            "\n",
            "/usr/local/lib/python3.7/dist-packages/sklearn/preprocessing/_label.py:268: DataConversionWarning:\n",
            "\n",
            "A column-vector y was passed when a 1d array was expected. Please change the shape of y to (n_samples, ), for example using ravel().\n",
            "\n"
          ]
        },
        {
          "name": "stdout",
          "output_type": "stream",
          "text": [
            "[LightGBM] [Warning] feature_fraction is set=0.7993181634840064, colsample_bytree=1.0 will be ignored. Current value: feature_fraction=0.7993181634840064\n",
            "[LightGBM] [Warning] feature_fraction is set=0.7993181634840064, colsample_bytree=1.0 will be ignored. Current value: feature_fraction=0.7993181634840064\n",
            "New AUC Score 0.8540060575342996\n"
          ]
        },
        {
          "name": "stderr",
          "output_type": "stream",
          "text": [
            "/usr/local/lib/python3.7/dist-packages/sklearn/preprocessing/_label.py:235: DataConversionWarning:\n",
            "\n",
            "A column-vector y was passed when a 1d array was expected. Please change the shape of y to (n_samples, ), for example using ravel().\n",
            "\n",
            "/usr/local/lib/python3.7/dist-packages/sklearn/preprocessing/_label.py:268: DataConversionWarning:\n",
            "\n",
            "A column-vector y was passed when a 1d array was expected. Please change the shape of y to (n_samples, ), for example using ravel().\n",
            "\n"
          ]
        },
        {
          "name": "stdout",
          "output_type": "stream",
          "text": [
            "[LightGBM] [Warning] feature_fraction is set=0.7993181634840064, colsample_bytree=1.0 will be ignored. Current value: feature_fraction=0.7993181634840064\n",
            "[LightGBM] [Warning] feature_fraction is set=0.7993181634840064, colsample_bytree=1.0 will be ignored. Current value: feature_fraction=0.7993181634840064\n",
            "New AUC Score 0.8554521988949739\n"
          ]
        },
        {
          "name": "stderr",
          "output_type": "stream",
          "text": [
            "/usr/local/lib/python3.7/dist-packages/sklearn/preprocessing/_label.py:235: DataConversionWarning:\n",
            "\n",
            "A column-vector y was passed when a 1d array was expected. Please change the shape of y to (n_samples, ), for example using ravel().\n",
            "\n",
            "/usr/local/lib/python3.7/dist-packages/sklearn/preprocessing/_label.py:268: DataConversionWarning:\n",
            "\n",
            "A column-vector y was passed when a 1d array was expected. Please change the shape of y to (n_samples, ), for example using ravel().\n",
            "\n"
          ]
        },
        {
          "name": "stdout",
          "output_type": "stream",
          "text": [
            "[LightGBM] [Warning] feature_fraction is set=0.7993181634840064, colsample_bytree=1.0 will be ignored. Current value: feature_fraction=0.7993181634840064\n",
            "[LightGBM] [Warning] feature_fraction is set=0.7993181634840064, colsample_bytree=1.0 will be ignored. Current value: feature_fraction=0.7993181634840064\n",
            "New AUC Score 0.8538731649092609\n"
          ]
        },
        {
          "name": "stderr",
          "output_type": "stream",
          "text": [
            "/usr/local/lib/python3.7/dist-packages/sklearn/preprocessing/_label.py:235: DataConversionWarning:\n",
            "\n",
            "A column-vector y was passed when a 1d array was expected. Please change the shape of y to (n_samples, ), for example using ravel().\n",
            "\n",
            "/usr/local/lib/python3.7/dist-packages/sklearn/preprocessing/_label.py:268: DataConversionWarning:\n",
            "\n",
            "A column-vector y was passed when a 1d array was expected. Please change the shape of y to (n_samples, ), for example using ravel().\n",
            "\n"
          ]
        },
        {
          "name": "stdout",
          "output_type": "stream",
          "text": [
            "[LightGBM] [Warning] feature_fraction is set=0.7993181634840064, colsample_bytree=1.0 will be ignored. Current value: feature_fraction=0.7993181634840064\n",
            "[LightGBM] [Warning] feature_fraction is set=0.7993181634840064, colsample_bytree=1.0 will be ignored. Current value: feature_fraction=0.7993181634840064\n"
          ]
        },
        {
          "name": "stderr",
          "output_type": "stream",
          "text": [
            "\u001b[32m[I 2021-10-03 11:47:52,601]\u001b[0m Trial 24 finished with value: 0.8554521988949739 and parameters: {'boosting_type': 'gbdt', 'subsample': 0.5501746005704078, 'eta': 0.013910544897877412, 'n_estimators': 4486, 'reg_alpha': 17, 'reg_lambda': 16, 'max_depth': 9, 'num_leaves': 4, 'feature_fraction': 0.7993181634840064, 'min_child_samples': 64}. Best is trial 18 with value: 0.8588837881237562.\u001b[0m\n"
          ]
        },
        {
          "name": "stdout",
          "output_type": "stream",
          "text": [
            "New AUC Score 0.855373299920738\n",
            "all scores [0.8549505094229344, 0.8540060575342996, 0.8554521988949739, 0.8538731649092609, 0.855373299920738]\n",
            "Roc AUC score 0.8554521988949739\n",
            "{'boosting_type': 'gbdt', 'class_weight': None, 'colsample_bytree': 1.0, 'importance_type': 'split', 'learning_rate': 0.013910544897877412, 'max_depth': 9, 'min_child_samples': 64, 'min_child_weight': 0.001, 'min_split_gain': 0.0, 'n_estimators': 4486, 'n_jobs': -1, 'num_leaves': 4, 'objective': 'binary', 'random_state': 42, 'reg_alpha': 17, 'reg_lambda': 16, 'silent': True, 'subsample': 0.5501746005704078, 'subsample_for_bin': 200000, 'subsample_freq': 1, 'metric': 'AUC', 'verbosity': 0, 'device': 'gpu', 'feature_fraction': 0.7993181634840064}\n",
            "filename ./models/lgbm_24 best_model_name./models/best_lgbm  best_trial_number 18\n",
            "STARTING Params: {'metric': 'AUC', 'verbosity': 0, 'device': 'gpu', 'boosting_type': 'gbdt', 'subsample': 0.5678626206399378, 'learning_rate': 0.012260421309409662, 'n_estimators': 9146, 'subsample_freq': 1, 'reg_alpha': 19, 'reg_lambda': 19, 'max_depth': 7, 'num_leaves': 6, 'feature_fraction': 0.8814109090015094, 'min_child_samples': 92, 'objective': 'binary'}\n",
            "Param: {'metric': 'AUC', 'verbosity': 0, 'device': 'gpu', 'boosting_type': 'gbdt', 'subsample': 0.5678626206399378, 'learning_rate': 0.012260421309409662, 'n_estimators': 9146, 'subsample_freq': 1, 'reg_alpha': 19, 'reg_lambda': 19, 'max_depth': 7, 'num_leaves': 6, 'feature_fraction': 0.8814109090015094, 'min_child_samples': 92, 'objective': 'binary'}\n"
          ]
        },
        {
          "name": "stderr",
          "output_type": "stream",
          "text": [
            "/usr/local/lib/python3.7/dist-packages/sklearn/preprocessing/_label.py:235: DataConversionWarning:\n",
            "\n",
            "A column-vector y was passed when a 1d array was expected. Please change the shape of y to (n_samples, ), for example using ravel().\n",
            "\n",
            "/usr/local/lib/python3.7/dist-packages/sklearn/preprocessing/_label.py:268: DataConversionWarning:\n",
            "\n",
            "A column-vector y was passed when a 1d array was expected. Please change the shape of y to (n_samples, ), for example using ravel().\n",
            "\n"
          ]
        },
        {
          "name": "stdout",
          "output_type": "stream",
          "text": [
            "[LightGBM] [Warning] feature_fraction is set=0.8814109090015094, colsample_bytree=1.0 will be ignored. Current value: feature_fraction=0.8814109090015094\n",
            "[LightGBM] [Warning] feature_fraction is set=0.8814109090015094, colsample_bytree=1.0 will be ignored. Current value: feature_fraction=0.8814109090015094\n",
            "New AUC Score 0.8574677836914376\n"
          ]
        },
        {
          "name": "stderr",
          "output_type": "stream",
          "text": [
            "/usr/local/lib/python3.7/dist-packages/sklearn/preprocessing/_label.py:235: DataConversionWarning:\n",
            "\n",
            "A column-vector y was passed when a 1d array was expected. Please change the shape of y to (n_samples, ), for example using ravel().\n",
            "\n",
            "/usr/local/lib/python3.7/dist-packages/sklearn/preprocessing/_label.py:268: DataConversionWarning:\n",
            "\n",
            "A column-vector y was passed when a 1d array was expected. Please change the shape of y to (n_samples, ), for example using ravel().\n",
            "\n"
          ]
        },
        {
          "name": "stdout",
          "output_type": "stream",
          "text": [
            "[LightGBM] [Warning] feature_fraction is set=0.8814109090015094, colsample_bytree=1.0 will be ignored. Current value: feature_fraction=0.8814109090015094\n",
            "[LightGBM] [Warning] feature_fraction is set=0.8814109090015094, colsample_bytree=1.0 will be ignored. Current value: feature_fraction=0.8814109090015094\n",
            "New AUC Score 0.8566255152989473\n"
          ]
        },
        {
          "name": "stderr",
          "output_type": "stream",
          "text": [
            "/usr/local/lib/python3.7/dist-packages/sklearn/preprocessing/_label.py:235: DataConversionWarning:\n",
            "\n",
            "A column-vector y was passed when a 1d array was expected. Please change the shape of y to (n_samples, ), for example using ravel().\n",
            "\n",
            "/usr/local/lib/python3.7/dist-packages/sklearn/preprocessing/_label.py:268: DataConversionWarning:\n",
            "\n",
            "A column-vector y was passed when a 1d array was expected. Please change the shape of y to (n_samples, ), for example using ravel().\n",
            "\n"
          ]
        },
        {
          "name": "stdout",
          "output_type": "stream",
          "text": [
            "[LightGBM] [Warning] feature_fraction is set=0.8814109090015094, colsample_bytree=1.0 will be ignored. Current value: feature_fraction=0.8814109090015094\n",
            "[LightGBM] [Warning] feature_fraction is set=0.8814109090015094, colsample_bytree=1.0 will be ignored. Current value: feature_fraction=0.8814109090015094\n",
            "New AUC Score 0.8567506907167248\n"
          ]
        },
        {
          "name": "stderr",
          "output_type": "stream",
          "text": [
            "/usr/local/lib/python3.7/dist-packages/sklearn/preprocessing/_label.py:235: DataConversionWarning:\n",
            "\n",
            "A column-vector y was passed when a 1d array was expected. Please change the shape of y to (n_samples, ), for example using ravel().\n",
            "\n",
            "/usr/local/lib/python3.7/dist-packages/sklearn/preprocessing/_label.py:268: DataConversionWarning:\n",
            "\n",
            "A column-vector y was passed when a 1d array was expected. Please change the shape of y to (n_samples, ), for example using ravel().\n",
            "\n"
          ]
        },
        {
          "name": "stdout",
          "output_type": "stream",
          "text": [
            "[LightGBM] [Warning] feature_fraction is set=0.8814109090015094, colsample_bytree=1.0 will be ignored. Current value: feature_fraction=0.8814109090015094\n",
            "[LightGBM] [Warning] feature_fraction is set=0.8814109090015094, colsample_bytree=1.0 will be ignored. Current value: feature_fraction=0.8814109090015094\n",
            "New AUC Score 0.8566338399067799\n"
          ]
        },
        {
          "name": "stderr",
          "output_type": "stream",
          "text": [
            "/usr/local/lib/python3.7/dist-packages/sklearn/preprocessing/_label.py:235: DataConversionWarning:\n",
            "\n",
            "A column-vector y was passed when a 1d array was expected. Please change the shape of y to (n_samples, ), for example using ravel().\n",
            "\n",
            "/usr/local/lib/python3.7/dist-packages/sklearn/preprocessing/_label.py:268: DataConversionWarning:\n",
            "\n",
            "A column-vector y was passed when a 1d array was expected. Please change the shape of y to (n_samples, ), for example using ravel().\n",
            "\n"
          ]
        },
        {
          "name": "stdout",
          "output_type": "stream",
          "text": [
            "[LightGBM] [Warning] feature_fraction is set=0.8814109090015094, colsample_bytree=1.0 will be ignored. Current value: feature_fraction=0.8814109090015094\n",
            "[LightGBM] [Warning] feature_fraction is set=0.8814109090015094, colsample_bytree=1.0 will be ignored. Current value: feature_fraction=0.8814109090015094\n",
            "New AUC Score 0.8571447489874944\n",
            "all scores [0.8574677836914376, 0.8566255152989473, 0.8567506907167248, 0.8566338399067799, 0.8571447489874944]\n",
            "Roc AUC score 0.8574677836914376\n",
            "{'boosting_type': 'gbdt', 'class_weight': None, 'colsample_bytree': 1.0, 'importance_type': 'split', 'learning_rate': 0.012260421309409662, 'max_depth': 7, 'min_child_samples': 92, 'min_child_weight': 0.001, 'min_split_gain': 0.0, 'n_estimators': 9146, 'n_jobs': -1, 'num_leaves': 6, 'objective': 'binary', 'random_state': 42, 'reg_alpha': 19, 'reg_lambda': 19, 'silent': True, 'subsample': 0.5678626206399378, 'subsample_for_bin': 200000, 'subsample_freq': 1, 'metric': 'AUC', 'verbosity': 0, 'device': 'gpu', 'feature_fraction': 0.8814109090015094}\n"
          ]
        },
        {
          "name": "stderr",
          "output_type": "stream",
          "text": [
            "\u001b[32m[I 2021-10-03 12:00:59,060]\u001b[0m Trial 25 finished with value: 0.8574677836914376 and parameters: {'boosting_type': 'gbdt', 'subsample': 0.5678626206399378, 'eta': 0.012260421309409662, 'n_estimators': 9146, 'reg_alpha': 19, 'reg_lambda': 19, 'max_depth': 7, 'num_leaves': 6, 'feature_fraction': 0.8814109090015094, 'min_child_samples': 92}. Best is trial 18 with value: 0.8588837881237562.\u001b[0m\n"
          ]
        },
        {
          "name": "stdout",
          "output_type": "stream",
          "text": [
            "filename ./models/lgbm_25 best_model_name./models/best_lgbm  best_trial_number 18\n",
            "STARTING Params: {'metric': 'AUC', 'verbosity': 0, 'device': 'gpu', 'boosting_type': 'gbdt', 'subsample': 0.528202371903177, 'learning_rate': 0.014994863581390917, 'n_estimators': 6501, 'subsample_freq': 1, 'reg_alpha': 18, 'reg_lambda': 17, 'max_depth': 6, 'num_leaves': 3, 'feature_fraction': 0.6277163746959226, 'min_child_samples': 74, 'objective': 'binary'}\n",
            "Param: {'metric': 'AUC', 'verbosity': 0, 'device': 'gpu', 'boosting_type': 'gbdt', 'subsample': 0.528202371903177, 'learning_rate': 0.014994863581390917, 'n_estimators': 6501, 'subsample_freq': 1, 'reg_alpha': 18, 'reg_lambda': 17, 'max_depth': 6, 'num_leaves': 3, 'feature_fraction': 0.6277163746959226, 'min_child_samples': 74, 'objective': 'binary'}\n"
          ]
        },
        {
          "name": "stderr",
          "output_type": "stream",
          "text": [
            "/usr/local/lib/python3.7/dist-packages/sklearn/preprocessing/_label.py:235: DataConversionWarning:\n",
            "\n",
            "A column-vector y was passed when a 1d array was expected. Please change the shape of y to (n_samples, ), for example using ravel().\n",
            "\n",
            "/usr/local/lib/python3.7/dist-packages/sklearn/preprocessing/_label.py:268: DataConversionWarning:\n",
            "\n",
            "A column-vector y was passed when a 1d array was expected. Please change the shape of y to (n_samples, ), for example using ravel().\n",
            "\n"
          ]
        },
        {
          "name": "stdout",
          "output_type": "stream",
          "text": [
            "[LightGBM] [Warning] feature_fraction is set=0.6277163746959226, colsample_bytree=1.0 will be ignored. Current value: feature_fraction=0.6277163746959226\n",
            "[LightGBM] [Warning] feature_fraction is set=0.6277163746959226, colsample_bytree=1.0 will be ignored. Current value: feature_fraction=0.6277163746959226\n",
            "New AUC Score 0.8562502798458882\n"
          ]
        },
        {
          "name": "stderr",
          "output_type": "stream",
          "text": [
            "/usr/local/lib/python3.7/dist-packages/sklearn/preprocessing/_label.py:235: DataConversionWarning:\n",
            "\n",
            "A column-vector y was passed when a 1d array was expected. Please change the shape of y to (n_samples, ), for example using ravel().\n",
            "\n",
            "/usr/local/lib/python3.7/dist-packages/sklearn/preprocessing/_label.py:268: DataConversionWarning:\n",
            "\n",
            "A column-vector y was passed when a 1d array was expected. Please change the shape of y to (n_samples, ), for example using ravel().\n",
            "\n"
          ]
        },
        {
          "name": "stdout",
          "output_type": "stream",
          "text": [
            "[LightGBM] [Warning] feature_fraction is set=0.6277163746959226, colsample_bytree=1.0 will be ignored. Current value: feature_fraction=0.6277163746959226\n",
            "[LightGBM] [Warning] feature_fraction is set=0.6277163746959226, colsample_bytree=1.0 will be ignored. Current value: feature_fraction=0.6277163746959226\n",
            "New AUC Score 0.8550171416856287\n"
          ]
        },
        {
          "name": "stderr",
          "output_type": "stream",
          "text": [
            "/usr/local/lib/python3.7/dist-packages/sklearn/preprocessing/_label.py:235: DataConversionWarning:\n",
            "\n",
            "A column-vector y was passed when a 1d array was expected. Please change the shape of y to (n_samples, ), for example using ravel().\n",
            "\n",
            "/usr/local/lib/python3.7/dist-packages/sklearn/preprocessing/_label.py:268: DataConversionWarning:\n",
            "\n",
            "A column-vector y was passed when a 1d array was expected. Please change the shape of y to (n_samples, ), for example using ravel().\n",
            "\n"
          ]
        },
        {
          "name": "stdout",
          "output_type": "stream",
          "text": [
            "[LightGBM] [Warning] feature_fraction is set=0.6277163746959226, colsample_bytree=1.0 will be ignored. Current value: feature_fraction=0.6277163746959226\n",
            "[LightGBM] [Warning] feature_fraction is set=0.6277163746959226, colsample_bytree=1.0 will be ignored. Current value: feature_fraction=0.6277163746959226\n",
            "New AUC Score 0.8560954730002305\n"
          ]
        },
        {
          "name": "stderr",
          "output_type": "stream",
          "text": [
            "/usr/local/lib/python3.7/dist-packages/sklearn/preprocessing/_label.py:235: DataConversionWarning:\n",
            "\n",
            "A column-vector y was passed when a 1d array was expected. Please change the shape of y to (n_samples, ), for example using ravel().\n",
            "\n",
            "/usr/local/lib/python3.7/dist-packages/sklearn/preprocessing/_label.py:268: DataConversionWarning:\n",
            "\n",
            "A column-vector y was passed when a 1d array was expected. Please change the shape of y to (n_samples, ), for example using ravel().\n",
            "\n"
          ]
        },
        {
          "name": "stdout",
          "output_type": "stream",
          "text": [
            "[LightGBM] [Warning] feature_fraction is set=0.6277163746959226, colsample_bytree=1.0 will be ignored. Current value: feature_fraction=0.6277163746959226\n",
            "[LightGBM] [Warning] feature_fraction is set=0.6277163746959226, colsample_bytree=1.0 will be ignored. Current value: feature_fraction=0.6277163746959226\n",
            "New AUC Score 0.8535673132214849\n"
          ]
        },
        {
          "name": "stderr",
          "output_type": "stream",
          "text": [
            "/usr/local/lib/python3.7/dist-packages/sklearn/preprocessing/_label.py:235: DataConversionWarning:\n",
            "\n",
            "A column-vector y was passed when a 1d array was expected. Please change the shape of y to (n_samples, ), for example using ravel().\n",
            "\n",
            "/usr/local/lib/python3.7/dist-packages/sklearn/preprocessing/_label.py:268: DataConversionWarning:\n",
            "\n",
            "A column-vector y was passed when a 1d array was expected. Please change the shape of y to (n_samples, ), for example using ravel().\n",
            "\n"
          ]
        },
        {
          "name": "stdout",
          "output_type": "stream",
          "text": [
            "[LightGBM] [Warning] feature_fraction is set=0.6277163746959226, colsample_bytree=1.0 will be ignored. Current value: feature_fraction=0.6277163746959226\n",
            "[LightGBM] [Warning] feature_fraction is set=0.6277163746959226, colsample_bytree=1.0 will be ignored. Current value: feature_fraction=0.6277163746959226\n",
            "New AUC Score 0.8544944149937951\n",
            "all scores [0.8562502798458882, 0.8550171416856287, 0.8560954730002305, 0.8535673132214849, 0.8544944149937951]\n",
            "Roc AUC score 0.8562502798458882\n",
            "{'boosting_type': 'gbdt', 'class_weight': None, 'colsample_bytree': 1.0, 'importance_type': 'split', 'learning_rate': 0.014994863581390917, 'max_depth': 6, 'min_child_samples': 74, 'min_child_weight': 0.001, 'min_split_gain': 0.0, 'n_estimators': 6501, 'n_jobs': -1, 'num_leaves': 3, 'objective': 'binary', 'random_state': 42, 'reg_alpha': 18, 'reg_lambda': 17, 'silent': True, 'subsample': 0.528202371903177, 'subsample_for_bin': 200000, 'subsample_freq': 1, 'metric': 'AUC', 'verbosity': 0, 'device': 'gpu', 'feature_fraction': 0.6277163746959226}\n"
          ]
        },
        {
          "name": "stderr",
          "output_type": "stream",
          "text": [
            "\u001b[32m[I 2021-10-03 12:10:37,590]\u001b[0m Trial 26 finished with value: 0.8562502798458882 and parameters: {'boosting_type': 'gbdt', 'subsample': 0.528202371903177, 'eta': 0.014994863581390917, 'n_estimators': 6501, 'reg_alpha': 18, 'reg_lambda': 17, 'max_depth': 6, 'num_leaves': 3, 'feature_fraction': 0.6277163746959226, 'min_child_samples': 74}. Best is trial 18 with value: 0.8588837881237562.\u001b[0m\n"
          ]
        },
        {
          "name": "stdout",
          "output_type": "stream",
          "text": [
            "filename ./models/lgbm_26 best_model_name./models/best_lgbm  best_trial_number 18\n",
            "STARTING Params: {'metric': 'AUC', 'verbosity': 0, 'device': 'gpu', 'boosting_type': 'gbdt', 'subsample': 0.5822339640071026, 'learning_rate': 0.01042223180270105, 'n_estimators': 9218, 'subsample_freq': 1, 'reg_alpha': 15, 'reg_lambda': 18, 'max_depth': 8, 'num_leaves': 6, 'feature_fraction': 0.7346307867242103, 'min_child_samples': 47, 'objective': 'binary'}\n",
            "Param: {'metric': 'AUC', 'verbosity': 0, 'device': 'gpu', 'boosting_type': 'gbdt', 'subsample': 0.5822339640071026, 'learning_rate': 0.01042223180270105, 'n_estimators': 9218, 'subsample_freq': 1, 'reg_alpha': 15, 'reg_lambda': 18, 'max_depth': 8, 'num_leaves': 6, 'feature_fraction': 0.7346307867242103, 'min_child_samples': 47, 'objective': 'binary'}\n"
          ]
        },
        {
          "name": "stderr",
          "output_type": "stream",
          "text": [
            "/usr/local/lib/python3.7/dist-packages/sklearn/preprocessing/_label.py:235: DataConversionWarning:\n",
            "\n",
            "A column-vector y was passed when a 1d array was expected. Please change the shape of y to (n_samples, ), for example using ravel().\n",
            "\n",
            "/usr/local/lib/python3.7/dist-packages/sklearn/preprocessing/_label.py:268: DataConversionWarning:\n",
            "\n",
            "A column-vector y was passed when a 1d array was expected. Please change the shape of y to (n_samples, ), for example using ravel().\n",
            "\n"
          ]
        },
        {
          "name": "stdout",
          "output_type": "stream",
          "text": [
            "[LightGBM] [Warning] feature_fraction is set=0.7346307867242103, colsample_bytree=1.0 will be ignored. Current value: feature_fraction=0.7346307867242103\n",
            "[LightGBM] [Warning] feature_fraction is set=0.7346307867242103, colsample_bytree=1.0 will be ignored. Current value: feature_fraction=0.7346307867242103\n",
            "New AUC Score 0.8574938647159773\n"
          ]
        },
        {
          "name": "stderr",
          "output_type": "stream",
          "text": [
            "/usr/local/lib/python3.7/dist-packages/sklearn/preprocessing/_label.py:235: DataConversionWarning:\n",
            "\n",
            "A column-vector y was passed when a 1d array was expected. Please change the shape of y to (n_samples, ), for example using ravel().\n",
            "\n",
            "/usr/local/lib/python3.7/dist-packages/sklearn/preprocessing/_label.py:268: DataConversionWarning:\n",
            "\n",
            "A column-vector y was passed when a 1d array was expected. Please change the shape of y to (n_samples, ), for example using ravel().\n",
            "\n"
          ]
        },
        {
          "name": "stdout",
          "output_type": "stream",
          "text": [
            "[LightGBM] [Warning] feature_fraction is set=0.7346307867242103, colsample_bytree=1.0 will be ignored. Current value: feature_fraction=0.7346307867242103\n",
            "[LightGBM] [Warning] feature_fraction is set=0.7346307867242103, colsample_bytree=1.0 will be ignored. Current value: feature_fraction=0.7346307867242103\n",
            "New AUC Score 0.8566922817617679\n"
          ]
        },
        {
          "name": "stderr",
          "output_type": "stream",
          "text": [
            "/usr/local/lib/python3.7/dist-packages/sklearn/preprocessing/_label.py:235: DataConversionWarning:\n",
            "\n",
            "A column-vector y was passed when a 1d array was expected. Please change the shape of y to (n_samples, ), for example using ravel().\n",
            "\n",
            "/usr/local/lib/python3.7/dist-packages/sklearn/preprocessing/_label.py:268: DataConversionWarning:\n",
            "\n",
            "A column-vector y was passed when a 1d array was expected. Please change the shape of y to (n_samples, ), for example using ravel().\n",
            "\n"
          ]
        },
        {
          "name": "stdout",
          "output_type": "stream",
          "text": [
            "[LightGBM] [Warning] feature_fraction is set=0.7346307867242103, colsample_bytree=1.0 will be ignored. Current value: feature_fraction=0.7346307867242103\n",
            "[LightGBM] [Warning] feature_fraction is set=0.7346307867242103, colsample_bytree=1.0 will be ignored. Current value: feature_fraction=0.7346307867242103\n",
            "New AUC Score 0.8564559499394033\n"
          ]
        },
        {
          "name": "stderr",
          "output_type": "stream",
          "text": [
            "/usr/local/lib/python3.7/dist-packages/sklearn/preprocessing/_label.py:235: DataConversionWarning:\n",
            "\n",
            "A column-vector y was passed when a 1d array was expected. Please change the shape of y to (n_samples, ), for example using ravel().\n",
            "\n",
            "/usr/local/lib/python3.7/dist-packages/sklearn/preprocessing/_label.py:268: DataConversionWarning:\n",
            "\n",
            "A column-vector y was passed when a 1d array was expected. Please change the shape of y to (n_samples, ), for example using ravel().\n",
            "\n"
          ]
        },
        {
          "name": "stdout",
          "output_type": "stream",
          "text": [
            "[LightGBM] [Warning] feature_fraction is set=0.7346307867242103, colsample_bytree=1.0 will be ignored. Current value: feature_fraction=0.7346307867242103\n",
            "[LightGBM] [Warning] feature_fraction is set=0.7346307867242103, colsample_bytree=1.0 will be ignored. Current value: feature_fraction=0.7346307867242103\n",
            "New AUC Score 0.8562155311131933\n"
          ]
        },
        {
          "name": "stderr",
          "output_type": "stream",
          "text": [
            "/usr/local/lib/python3.7/dist-packages/sklearn/preprocessing/_label.py:235: DataConversionWarning:\n",
            "\n",
            "A column-vector y was passed when a 1d array was expected. Please change the shape of y to (n_samples, ), for example using ravel().\n",
            "\n",
            "/usr/local/lib/python3.7/dist-packages/sklearn/preprocessing/_label.py:268: DataConversionWarning:\n",
            "\n",
            "A column-vector y was passed when a 1d array was expected. Please change the shape of y to (n_samples, ), for example using ravel().\n",
            "\n"
          ]
        },
        {
          "name": "stdout",
          "output_type": "stream",
          "text": [
            "[LightGBM] [Warning] feature_fraction is set=0.7346307867242103, colsample_bytree=1.0 will be ignored. Current value: feature_fraction=0.7346307867242103\n",
            "[LightGBM] [Warning] feature_fraction is set=0.7346307867242103, colsample_bytree=1.0 will be ignored. Current value: feature_fraction=0.7346307867242103\n",
            "New AUC Score 0.8574016334291968\n",
            "all scores [0.8574938647159773, 0.8566922817617679, 0.8564559499394033, 0.8562155311131933, 0.8574016334291968]\n",
            "Roc AUC score 0.8574938647159773\n",
            "{'boosting_type': 'gbdt', 'class_weight': None, 'colsample_bytree': 1.0, 'importance_type': 'split', 'learning_rate': 0.01042223180270105, 'max_depth': 8, 'min_child_samples': 47, 'min_child_weight': 0.001, 'min_split_gain': 0.0, 'n_estimators': 9218, 'n_jobs': -1, 'num_leaves': 6, 'objective': 'binary', 'random_state': 42, 'reg_alpha': 15, 'reg_lambda': 18, 'silent': True, 'subsample': 0.5822339640071026, 'subsample_for_bin': 200000, 'subsample_freq': 1, 'metric': 'AUC', 'verbosity': 0, 'device': 'gpu', 'feature_fraction': 0.7346307867242103}\n"
          ]
        },
        {
          "name": "stderr",
          "output_type": "stream",
          "text": [
            "\u001b[32m[I 2021-10-03 12:24:23,715]\u001b[0m Trial 27 finished with value: 0.8574938647159773 and parameters: {'boosting_type': 'gbdt', 'subsample': 0.5822339640071026, 'eta': 0.01042223180270105, 'n_estimators': 9218, 'reg_alpha': 15, 'reg_lambda': 18, 'max_depth': 8, 'num_leaves': 6, 'feature_fraction': 0.7346307867242103, 'min_child_samples': 47}. Best is trial 18 with value: 0.8588837881237562.\u001b[0m\n"
          ]
        },
        {
          "name": "stdout",
          "output_type": "stream",
          "text": [
            "filename ./models/lgbm_27 best_model_name./models/best_lgbm  best_trial_number 18\n",
            "STARTING Params: {'metric': 'AUC', 'verbosity': 0, 'device': 'gpu', 'boosting_type': 'gbdt', 'subsample': 0.555617028939809, 'learning_rate': 0.011418572791146773, 'n_estimators': 5994, 'subsample_freq': 1, 'reg_alpha': 17, 'reg_lambda': 14, 'max_depth': 7, 'num_leaves': 4, 'feature_fraction': 0.7819903111916385, 'min_child_samples': 86, 'objective': 'binary'}\n",
            "Param: {'metric': 'AUC', 'verbosity': 0, 'device': 'gpu', 'boosting_type': 'gbdt', 'subsample': 0.555617028939809, 'learning_rate': 0.011418572791146773, 'n_estimators': 5994, 'subsample_freq': 1, 'reg_alpha': 17, 'reg_lambda': 14, 'max_depth': 7, 'num_leaves': 4, 'feature_fraction': 0.7819903111916385, 'min_child_samples': 86, 'objective': 'binary'}\n"
          ]
        },
        {
          "name": "stderr",
          "output_type": "stream",
          "text": [
            "/usr/local/lib/python3.7/dist-packages/sklearn/preprocessing/_label.py:235: DataConversionWarning:\n",
            "\n",
            "A column-vector y was passed when a 1d array was expected. Please change the shape of y to (n_samples, ), for example using ravel().\n",
            "\n",
            "/usr/local/lib/python3.7/dist-packages/sklearn/preprocessing/_label.py:268: DataConversionWarning:\n",
            "\n",
            "A column-vector y was passed when a 1d array was expected. Please change the shape of y to (n_samples, ), for example using ravel().\n",
            "\n"
          ]
        },
        {
          "name": "stdout",
          "output_type": "stream",
          "text": [
            "[LightGBM] [Warning] feature_fraction is set=0.7819903111916385, colsample_bytree=1.0 will be ignored. Current value: feature_fraction=0.7819903111916385\n",
            "[LightGBM] [Warning] feature_fraction is set=0.7819903111916385, colsample_bytree=1.0 will be ignored. Current value: feature_fraction=0.7819903111916385\n",
            "New AUC Score 0.8561397961419341\n"
          ]
        },
        {
          "name": "stderr",
          "output_type": "stream",
          "text": [
            "/usr/local/lib/python3.7/dist-packages/sklearn/preprocessing/_label.py:235: DataConversionWarning:\n",
            "\n",
            "A column-vector y was passed when a 1d array was expected. Please change the shape of y to (n_samples, ), for example using ravel().\n",
            "\n",
            "/usr/local/lib/python3.7/dist-packages/sklearn/preprocessing/_label.py:268: DataConversionWarning:\n",
            "\n",
            "A column-vector y was passed when a 1d array was expected. Please change the shape of y to (n_samples, ), for example using ravel().\n",
            "\n"
          ]
        },
        {
          "name": "stdout",
          "output_type": "stream",
          "text": [
            "[LightGBM] [Warning] feature_fraction is set=0.7819903111916385, colsample_bytree=1.0 will be ignored. Current value: feature_fraction=0.7819903111916385\n",
            "[LightGBM] [Warning] feature_fraction is set=0.7819903111916385, colsample_bytree=1.0 will be ignored. Current value: feature_fraction=0.7819903111916385\n",
            "New AUC Score 0.8545833269774524\n"
          ]
        },
        {
          "name": "stderr",
          "output_type": "stream",
          "text": [
            "/usr/local/lib/python3.7/dist-packages/sklearn/preprocessing/_label.py:235: DataConversionWarning:\n",
            "\n",
            "A column-vector y was passed when a 1d array was expected. Please change the shape of y to (n_samples, ), for example using ravel().\n",
            "\n",
            "/usr/local/lib/python3.7/dist-packages/sklearn/preprocessing/_label.py:268: DataConversionWarning:\n",
            "\n",
            "A column-vector y was passed when a 1d array was expected. Please change the shape of y to (n_samples, ), for example using ravel().\n",
            "\n"
          ]
        },
        {
          "name": "stdout",
          "output_type": "stream",
          "text": [
            "[LightGBM] [Warning] feature_fraction is set=0.7819903111916385, colsample_bytree=1.0 will be ignored. Current value: feature_fraction=0.7819903111916385\n",
            "[LightGBM] [Warning] feature_fraction is set=0.7819903111916385, colsample_bytree=1.0 will be ignored. Current value: feature_fraction=0.7819903111916385\n",
            "New AUC Score 0.8555320817701357\n"
          ]
        },
        {
          "name": "stderr",
          "output_type": "stream",
          "text": [
            "/usr/local/lib/python3.7/dist-packages/sklearn/preprocessing/_label.py:235: DataConversionWarning:\n",
            "\n",
            "A column-vector y was passed when a 1d array was expected. Please change the shape of y to (n_samples, ), for example using ravel().\n",
            "\n",
            "/usr/local/lib/python3.7/dist-packages/sklearn/preprocessing/_label.py:268: DataConversionWarning:\n",
            "\n",
            "A column-vector y was passed when a 1d array was expected. Please change the shape of y to (n_samples, ), for example using ravel().\n",
            "\n"
          ]
        },
        {
          "name": "stdout",
          "output_type": "stream",
          "text": [
            "[LightGBM] [Warning] feature_fraction is set=0.7819903111916385, colsample_bytree=1.0 will be ignored. Current value: feature_fraction=0.7819903111916385\n",
            "[LightGBM] [Warning] feature_fraction is set=0.7819903111916385, colsample_bytree=1.0 will be ignored. Current value: feature_fraction=0.7819903111916385\n",
            "New AUC Score 0.8548278387075134\n"
          ]
        },
        {
          "name": "stderr",
          "output_type": "stream",
          "text": [
            "/usr/local/lib/python3.7/dist-packages/sklearn/preprocessing/_label.py:235: DataConversionWarning:\n",
            "\n",
            "A column-vector y was passed when a 1d array was expected. Please change the shape of y to (n_samples, ), for example using ravel().\n",
            "\n",
            "/usr/local/lib/python3.7/dist-packages/sklearn/preprocessing/_label.py:268: DataConversionWarning:\n",
            "\n",
            "A column-vector y was passed when a 1d array was expected. Please change the shape of y to (n_samples, ), for example using ravel().\n",
            "\n"
          ]
        },
        {
          "name": "stdout",
          "output_type": "stream",
          "text": [
            "[LightGBM] [Warning] feature_fraction is set=0.7819903111916385, colsample_bytree=1.0 will be ignored. Current value: feature_fraction=0.7819903111916385\n",
            "[LightGBM] [Warning] feature_fraction is set=0.7819903111916385, colsample_bytree=1.0 will be ignored. Current value: feature_fraction=0.7819903111916385\n"
          ]
        },
        {
          "name": "stderr",
          "output_type": "stream",
          "text": [
            "\u001b[32m[I 2021-10-03 12:32:05,338]\u001b[0m Trial 28 finished with value: 0.8561397961419341 and parameters: {'boosting_type': 'gbdt', 'subsample': 0.555617028939809, 'eta': 0.011418572791146773, 'n_estimators': 5994, 'reg_alpha': 17, 'reg_lambda': 14, 'max_depth': 7, 'num_leaves': 4, 'feature_fraction': 0.7819903111916385, 'min_child_samples': 86}. Best is trial 18 with value: 0.8588837881237562.\u001b[0m\n"
          ]
        },
        {
          "name": "stdout",
          "output_type": "stream",
          "text": [
            "New AUC Score 0.8543124045225414\n",
            "all scores [0.8561397961419341, 0.8545833269774524, 0.8555320817701357, 0.8548278387075134, 0.8543124045225414]\n",
            "Roc AUC score 0.8561397961419341\n",
            "{'boosting_type': 'gbdt', 'class_weight': None, 'colsample_bytree': 1.0, 'importance_type': 'split', 'learning_rate': 0.011418572791146773, 'max_depth': 7, 'min_child_samples': 86, 'min_child_weight': 0.001, 'min_split_gain': 0.0, 'n_estimators': 5994, 'n_jobs': -1, 'num_leaves': 4, 'objective': 'binary', 'random_state': 42, 'reg_alpha': 17, 'reg_lambda': 14, 'silent': True, 'subsample': 0.555617028939809, 'subsample_for_bin': 200000, 'subsample_freq': 1, 'metric': 'AUC', 'verbosity': 0, 'device': 'gpu', 'feature_fraction': 0.7819903111916385}\n",
            "filename ./models/lgbm_28 best_model_name./models/best_lgbm  best_trial_number 18\n",
            "STARTING Params: {'metric': 'AUC', 'verbosity': 0, 'device': 'gpu', 'boosting_type': 'gbdt', 'subsample': 0.5484648274720968, 'learning_rate': 0.009482865238642557, 'n_estimators': 7312, 'subsample_freq': 1, 'reg_alpha': 20, 'reg_lambda': 16, 'max_depth': 6, 'num_leaves': 8, 'feature_fraction': 0.9387844354279569, 'min_child_samples': 94, 'objective': 'binary'}\n",
            "Param: {'metric': 'AUC', 'verbosity': 0, 'device': 'gpu', 'boosting_type': 'gbdt', 'subsample': 0.5484648274720968, 'learning_rate': 0.009482865238642557, 'n_estimators': 7312, 'subsample_freq': 1, 'reg_alpha': 20, 'reg_lambda': 16, 'max_depth': 6, 'num_leaves': 8, 'feature_fraction': 0.9387844354279569, 'min_child_samples': 94, 'objective': 'binary'}\n"
          ]
        },
        {
          "name": "stderr",
          "output_type": "stream",
          "text": [
            "/usr/local/lib/python3.7/dist-packages/sklearn/preprocessing/_label.py:235: DataConversionWarning:\n",
            "\n",
            "A column-vector y was passed when a 1d array was expected. Please change the shape of y to (n_samples, ), for example using ravel().\n",
            "\n",
            "/usr/local/lib/python3.7/dist-packages/sklearn/preprocessing/_label.py:268: DataConversionWarning:\n",
            "\n",
            "A column-vector y was passed when a 1d array was expected. Please change the shape of y to (n_samples, ), for example using ravel().\n",
            "\n"
          ]
        },
        {
          "name": "stdout",
          "output_type": "stream",
          "text": [
            "[LightGBM] [Warning] feature_fraction is set=0.9387844354279569, colsample_bytree=1.0 will be ignored. Current value: feature_fraction=0.9387844354279569\n",
            "[LightGBM] [Warning] feature_fraction is set=0.9387844354279569, colsample_bytree=1.0 will be ignored. Current value: feature_fraction=0.9387844354279569\n",
            "New AUC Score 0.8574587506829385\n"
          ]
        },
        {
          "name": "stderr",
          "output_type": "stream",
          "text": [
            "/usr/local/lib/python3.7/dist-packages/sklearn/preprocessing/_label.py:235: DataConversionWarning:\n",
            "\n",
            "A column-vector y was passed when a 1d array was expected. Please change the shape of y to (n_samples, ), for example using ravel().\n",
            "\n",
            "/usr/local/lib/python3.7/dist-packages/sklearn/preprocessing/_label.py:268: DataConversionWarning:\n",
            "\n",
            "A column-vector y was passed when a 1d array was expected. Please change the shape of y to (n_samples, ), for example using ravel().\n",
            "\n"
          ]
        },
        {
          "name": "stdout",
          "output_type": "stream",
          "text": [
            "[LightGBM] [Warning] feature_fraction is set=0.9387844354279569, colsample_bytree=1.0 will be ignored. Current value: feature_fraction=0.9387844354279569\n",
            "[LightGBM] [Warning] feature_fraction is set=0.9387844354279569, colsample_bytree=1.0 will be ignored. Current value: feature_fraction=0.9387844354279569\n",
            "New AUC Score 0.8569977153491504\n"
          ]
        },
        {
          "name": "stderr",
          "output_type": "stream",
          "text": [
            "/usr/local/lib/python3.7/dist-packages/sklearn/preprocessing/_label.py:235: DataConversionWarning:\n",
            "\n",
            "A column-vector y was passed when a 1d array was expected. Please change the shape of y to (n_samples, ), for example using ravel().\n",
            "\n",
            "/usr/local/lib/python3.7/dist-packages/sklearn/preprocessing/_label.py:268: DataConversionWarning:\n",
            "\n",
            "A column-vector y was passed when a 1d array was expected. Please change the shape of y to (n_samples, ), for example using ravel().\n",
            "\n"
          ]
        },
        {
          "name": "stdout",
          "output_type": "stream",
          "text": [
            "[LightGBM] [Warning] feature_fraction is set=0.9387844354279569, colsample_bytree=1.0 will be ignored. Current value: feature_fraction=0.9387844354279569\n",
            "[LightGBM] [Warning] feature_fraction is set=0.9387844354279569, colsample_bytree=1.0 will be ignored. Current value: feature_fraction=0.9387844354279569\n",
            "New AUC Score 0.8562722194665312\n"
          ]
        },
        {
          "name": "stderr",
          "output_type": "stream",
          "text": [
            "/usr/local/lib/python3.7/dist-packages/sklearn/preprocessing/_label.py:235: DataConversionWarning:\n",
            "\n",
            "A column-vector y was passed when a 1d array was expected. Please change the shape of y to (n_samples, ), for example using ravel().\n",
            "\n",
            "/usr/local/lib/python3.7/dist-packages/sklearn/preprocessing/_label.py:268: DataConversionWarning:\n",
            "\n",
            "A column-vector y was passed when a 1d array was expected. Please change the shape of y to (n_samples, ), for example using ravel().\n",
            "\n"
          ]
        },
        {
          "name": "stdout",
          "output_type": "stream",
          "text": [
            "[LightGBM] [Warning] feature_fraction is set=0.9387844354279569, colsample_bytree=1.0 will be ignored. Current value: feature_fraction=0.9387844354279569\n",
            "[LightGBM] [Warning] feature_fraction is set=0.9387844354279569, colsample_bytree=1.0 will be ignored. Current value: feature_fraction=0.9387844354279569\n",
            "New AUC Score 0.8570405803894822\n"
          ]
        },
        {
          "name": "stderr",
          "output_type": "stream",
          "text": [
            "/usr/local/lib/python3.7/dist-packages/sklearn/preprocessing/_label.py:235: DataConversionWarning:\n",
            "\n",
            "A column-vector y was passed when a 1d array was expected. Please change the shape of y to (n_samples, ), for example using ravel().\n",
            "\n",
            "/usr/local/lib/python3.7/dist-packages/sklearn/preprocessing/_label.py:268: DataConversionWarning:\n",
            "\n",
            "A column-vector y was passed when a 1d array was expected. Please change the shape of y to (n_samples, ), for example using ravel().\n",
            "\n"
          ]
        },
        {
          "name": "stdout",
          "output_type": "stream",
          "text": [
            "[LightGBM] [Warning] feature_fraction is set=0.9387844354279569, colsample_bytree=1.0 will be ignored. Current value: feature_fraction=0.9387844354279569\n",
            "[LightGBM] [Warning] feature_fraction is set=0.9387844354279569, colsample_bytree=1.0 will be ignored. Current value: feature_fraction=0.9387844354279569\n",
            "New AUC Score 0.8559917800026658\n",
            "all scores [0.8574587506829385, 0.8569977153491504, 0.8562722194665312, 0.8570405803894822, 0.8559917800026658]\n",
            "Roc AUC score 0.8574587506829385\n",
            "{'boosting_type': 'gbdt', 'class_weight': None, 'colsample_bytree': 1.0, 'importance_type': 'split', 'learning_rate': 0.009482865238642557, 'max_depth': 6, 'min_child_samples': 94, 'min_child_weight': 0.001, 'min_split_gain': 0.0, 'n_estimators': 7312, 'n_jobs': -1, 'num_leaves': 8, 'objective': 'binary', 'random_state': 42, 'reg_alpha': 20, 'reg_lambda': 16, 'silent': True, 'subsample': 0.5484648274720968, 'subsample_for_bin': 200000, 'subsample_freq': 1, 'metric': 'AUC', 'verbosity': 0, 'device': 'gpu', 'feature_fraction': 0.9387844354279569}\n"
          ]
        },
        {
          "name": "stderr",
          "output_type": "stream",
          "text": [
            "\u001b[32m[I 2021-10-03 12:44:05,328]\u001b[0m Trial 29 finished with value: 0.8574587506829385 and parameters: {'boosting_type': 'gbdt', 'subsample': 0.5484648274720968, 'eta': 0.009482865238642557, 'n_estimators': 7312, 'reg_alpha': 20, 'reg_lambda': 16, 'max_depth': 6, 'num_leaves': 8, 'feature_fraction': 0.9387844354279569, 'min_child_samples': 94}. Best is trial 18 with value: 0.8588837881237562.\u001b[0m\n"
          ]
        },
        {
          "name": "stdout",
          "output_type": "stream",
          "text": [
            "filename ./models/lgbm_29 best_model_name./models/best_lgbm  best_trial_number 18\n",
            "STARTING Params: {'metric': 'AUC', 'verbosity': 0, 'device': 'gpu', 'boosting_type': 'gbdt', 'subsample': 0.5989445969764107, 'learning_rate': 0.013914590064087325, 'n_estimators': 8172, 'subsample_freq': 1, 'reg_alpha': 19, 'reg_lambda': 14, 'max_depth': 8, 'num_leaves': 7, 'feature_fraction': 0.6926279179575541, 'min_child_samples': 80, 'objective': 'binary'}\n",
            "Param: {'metric': 'AUC', 'verbosity': 0, 'device': 'gpu', 'boosting_type': 'gbdt', 'subsample': 0.5989445969764107, 'learning_rate': 0.013914590064087325, 'n_estimators': 8172, 'subsample_freq': 1, 'reg_alpha': 19, 'reg_lambda': 14, 'max_depth': 8, 'num_leaves': 7, 'feature_fraction': 0.6926279179575541, 'min_child_samples': 80, 'objective': 'binary'}\n"
          ]
        },
        {
          "name": "stderr",
          "output_type": "stream",
          "text": [
            "/usr/local/lib/python3.7/dist-packages/sklearn/preprocessing/_label.py:235: DataConversionWarning:\n",
            "\n",
            "A column-vector y was passed when a 1d array was expected. Please change the shape of y to (n_samples, ), for example using ravel().\n",
            "\n",
            "/usr/local/lib/python3.7/dist-packages/sklearn/preprocessing/_label.py:268: DataConversionWarning:\n",
            "\n",
            "A column-vector y was passed when a 1d array was expected. Please change the shape of y to (n_samples, ), for example using ravel().\n",
            "\n"
          ]
        },
        {
          "name": "stdout",
          "output_type": "stream",
          "text": [
            "[LightGBM] [Warning] feature_fraction is set=0.6926279179575541, colsample_bytree=1.0 will be ignored. Current value: feature_fraction=0.6926279179575541\n",
            "[LightGBM] [Warning] feature_fraction is set=0.6926279179575541, colsample_bytree=1.0 will be ignored. Current value: feature_fraction=0.6926279179575541\n",
            "New AUC Score 0.8579203526172599\n"
          ]
        },
        {
          "name": "stderr",
          "output_type": "stream",
          "text": [
            "/usr/local/lib/python3.7/dist-packages/sklearn/preprocessing/_label.py:235: DataConversionWarning:\n",
            "\n",
            "A column-vector y was passed when a 1d array was expected. Please change the shape of y to (n_samples, ), for example using ravel().\n",
            "\n",
            "/usr/local/lib/python3.7/dist-packages/sklearn/preprocessing/_label.py:268: DataConversionWarning:\n",
            "\n",
            "A column-vector y was passed when a 1d array was expected. Please change the shape of y to (n_samples, ), for example using ravel().\n",
            "\n"
          ]
        },
        {
          "name": "stdout",
          "output_type": "stream",
          "text": [
            "[LightGBM] [Warning] feature_fraction is set=0.6926279179575541, colsample_bytree=1.0 will be ignored. Current value: feature_fraction=0.6926279179575541\n",
            "[LightGBM] [Warning] feature_fraction is set=0.6926279179575541, colsample_bytree=1.0 will be ignored. Current value: feature_fraction=0.6926279179575541\n",
            "New AUC Score 0.8568631747225611\n"
          ]
        },
        {
          "name": "stderr",
          "output_type": "stream",
          "text": [
            "/usr/local/lib/python3.7/dist-packages/sklearn/preprocessing/_label.py:235: DataConversionWarning:\n",
            "\n",
            "A column-vector y was passed when a 1d array was expected. Please change the shape of y to (n_samples, ), for example using ravel().\n",
            "\n",
            "/usr/local/lib/python3.7/dist-packages/sklearn/preprocessing/_label.py:268: DataConversionWarning:\n",
            "\n",
            "A column-vector y was passed when a 1d array was expected. Please change the shape of y to (n_samples, ), for example using ravel().\n",
            "\n"
          ]
        },
        {
          "name": "stdout",
          "output_type": "stream",
          "text": [
            "[LightGBM] [Warning] feature_fraction is set=0.6926279179575541, colsample_bytree=1.0 will be ignored. Current value: feature_fraction=0.6926279179575541\n",
            "[LightGBM] [Warning] feature_fraction is set=0.6926279179575541, colsample_bytree=1.0 will be ignored. Current value: feature_fraction=0.6926279179575541\n",
            "New AUC Score 0.8577530424598376\n"
          ]
        },
        {
          "name": "stderr",
          "output_type": "stream",
          "text": [
            "/usr/local/lib/python3.7/dist-packages/sklearn/preprocessing/_label.py:235: DataConversionWarning:\n",
            "\n",
            "A column-vector y was passed when a 1d array was expected. Please change the shape of y to (n_samples, ), for example using ravel().\n",
            "\n",
            "/usr/local/lib/python3.7/dist-packages/sklearn/preprocessing/_label.py:268: DataConversionWarning:\n",
            "\n",
            "A column-vector y was passed when a 1d array was expected. Please change the shape of y to (n_samples, ), for example using ravel().\n",
            "\n"
          ]
        },
        {
          "name": "stdout",
          "output_type": "stream",
          "text": [
            "[LightGBM] [Warning] feature_fraction is set=0.6926279179575541, colsample_bytree=1.0 will be ignored. Current value: feature_fraction=0.6926279179575541\n",
            "[LightGBM] [Warning] feature_fraction is set=0.6926279179575541, colsample_bytree=1.0 will be ignored. Current value: feature_fraction=0.6926279179575541\n",
            "New AUC Score 0.8568030705660091\n"
          ]
        },
        {
          "name": "stderr",
          "output_type": "stream",
          "text": [
            "/usr/local/lib/python3.7/dist-packages/sklearn/preprocessing/_label.py:235: DataConversionWarning:\n",
            "\n",
            "A column-vector y was passed when a 1d array was expected. Please change the shape of y to (n_samples, ), for example using ravel().\n",
            "\n",
            "/usr/local/lib/python3.7/dist-packages/sklearn/preprocessing/_label.py:268: DataConversionWarning:\n",
            "\n",
            "A column-vector y was passed when a 1d array was expected. Please change the shape of y to (n_samples, ), for example using ravel().\n",
            "\n"
          ]
        },
        {
          "name": "stdout",
          "output_type": "stream",
          "text": [
            "[LightGBM] [Warning] feature_fraction is set=0.6926279179575541, colsample_bytree=1.0 will be ignored. Current value: feature_fraction=0.6926279179575541\n",
            "[LightGBM] [Warning] feature_fraction is set=0.6926279179575541, colsample_bytree=1.0 will be ignored. Current value: feature_fraction=0.6926279179575541\n",
            "New AUC Score 0.8556446015760056\n",
            "all scores [0.8579203526172599, 0.8568631747225611, 0.8577530424598376, 0.8568030705660091, 0.8556446015760056]\n",
            "Roc AUC score 0.8579203526172599\n",
            "{'boosting_type': 'gbdt', 'class_weight': None, 'colsample_bytree': 1.0, 'importance_type': 'split', 'learning_rate': 0.013914590064087325, 'max_depth': 8, 'min_child_samples': 80, 'min_child_weight': 0.001, 'min_split_gain': 0.0, 'n_estimators': 8172, 'n_jobs': -1, 'num_leaves': 7, 'objective': 'binary', 'random_state': 42, 'reg_alpha': 19, 'reg_lambda': 14, 'silent': True, 'subsample': 0.5989445969764107, 'subsample_for_bin': 200000, 'subsample_freq': 1, 'metric': 'AUC', 'verbosity': 0, 'device': 'gpu', 'feature_fraction': 0.6926279179575541}\n"
          ]
        },
        {
          "name": "stderr",
          "output_type": "stream",
          "text": [
            "\u001b[32m[I 2021-10-03 12:57:46,051]\u001b[0m Trial 30 finished with value: 0.8579203526172599 and parameters: {'boosting_type': 'gbdt', 'subsample': 0.5989445969764107, 'eta': 0.013914590064087325, 'n_estimators': 8172, 'reg_alpha': 19, 'reg_lambda': 14, 'max_depth': 8, 'num_leaves': 7, 'feature_fraction': 0.6926279179575541, 'min_child_samples': 80}. Best is trial 18 with value: 0.8588837881237562.\u001b[0m\n"
          ]
        },
        {
          "name": "stdout",
          "output_type": "stream",
          "text": [
            "filename ./models/lgbm_30 best_model_name./models/best_lgbm  best_trial_number 18\n",
            "STARTING Params: {'metric': 'AUC', 'verbosity': 0, 'device': 'gpu', 'boosting_type': 'gbdt', 'subsample': 0.5977020759670121, 'learning_rate': 0.013999305744582887, 'n_estimators': 9972, 'subsample_freq': 1, 'reg_alpha': 19, 'reg_lambda': 14, 'max_depth': 8, 'num_leaves': 7, 'feature_fraction': 0.716085079520719, 'min_child_samples': 80, 'objective': 'binary'}\n",
            "Param: {'metric': 'AUC', 'verbosity': 0, 'device': 'gpu', 'boosting_type': 'gbdt', 'subsample': 0.5977020759670121, 'learning_rate': 0.013999305744582887, 'n_estimators': 9972, 'subsample_freq': 1, 'reg_alpha': 19, 'reg_lambda': 14, 'max_depth': 8, 'num_leaves': 7, 'feature_fraction': 0.716085079520719, 'min_child_samples': 80, 'objective': 'binary'}\n"
          ]
        },
        {
          "name": "stderr",
          "output_type": "stream",
          "text": [
            "/usr/local/lib/python3.7/dist-packages/sklearn/preprocessing/_label.py:235: DataConversionWarning:\n",
            "\n",
            "A column-vector y was passed when a 1d array was expected. Please change the shape of y to (n_samples, ), for example using ravel().\n",
            "\n",
            "/usr/local/lib/python3.7/dist-packages/sklearn/preprocessing/_label.py:268: DataConversionWarning:\n",
            "\n",
            "A column-vector y was passed when a 1d array was expected. Please change the shape of y to (n_samples, ), for example using ravel().\n",
            "\n"
          ]
        },
        {
          "name": "stdout",
          "output_type": "stream",
          "text": [
            "[LightGBM] [Warning] feature_fraction is set=0.716085079520719, colsample_bytree=1.0 will be ignored. Current value: feature_fraction=0.716085079520719\n",
            "[LightGBM] [Warning] feature_fraction is set=0.716085079520719, colsample_bytree=1.0 will be ignored. Current value: feature_fraction=0.716085079520719\n",
            "New AUC Score 0.8566285176017723\n"
          ]
        },
        {
          "name": "stderr",
          "output_type": "stream",
          "text": [
            "/usr/local/lib/python3.7/dist-packages/sklearn/preprocessing/_label.py:235: DataConversionWarning:\n",
            "\n",
            "A column-vector y was passed when a 1d array was expected. Please change the shape of y to (n_samples, ), for example using ravel().\n",
            "\n",
            "/usr/local/lib/python3.7/dist-packages/sklearn/preprocessing/_label.py:268: DataConversionWarning:\n",
            "\n",
            "A column-vector y was passed when a 1d array was expected. Please change the shape of y to (n_samples, ), for example using ravel().\n",
            "\n"
          ]
        },
        {
          "name": "stdout",
          "output_type": "stream",
          "text": [
            "[LightGBM] [Warning] feature_fraction is set=0.716085079520719, colsample_bytree=1.0 will be ignored. Current value: feature_fraction=0.716085079520719\n",
            "[LightGBM] [Warning] feature_fraction is set=0.716085079520719, colsample_bytree=1.0 will be ignored. Current value: feature_fraction=0.716085079520719\n",
            "New AUC Score 0.8574333767590642\n"
          ]
        },
        {
          "name": "stderr",
          "output_type": "stream",
          "text": [
            "/usr/local/lib/python3.7/dist-packages/sklearn/preprocessing/_label.py:235: DataConversionWarning:\n",
            "\n",
            "A column-vector y was passed when a 1d array was expected. Please change the shape of y to (n_samples, ), for example using ravel().\n",
            "\n",
            "/usr/local/lib/python3.7/dist-packages/sklearn/preprocessing/_label.py:268: DataConversionWarning:\n",
            "\n",
            "A column-vector y was passed when a 1d array was expected. Please change the shape of y to (n_samples, ), for example using ravel().\n",
            "\n"
          ]
        },
        {
          "name": "stdout",
          "output_type": "stream",
          "text": [
            "[LightGBM] [Warning] feature_fraction is set=0.716085079520719, colsample_bytree=1.0 will be ignored. Current value: feature_fraction=0.716085079520719\n",
            "[LightGBM] [Warning] feature_fraction is set=0.716085079520719, colsample_bytree=1.0 will be ignored. Current value: feature_fraction=0.716085079520719\n",
            "New AUC Score 0.8565689477457228\n"
          ]
        },
        {
          "name": "stderr",
          "output_type": "stream",
          "text": [
            "/usr/local/lib/python3.7/dist-packages/sklearn/preprocessing/_label.py:235: DataConversionWarning:\n",
            "\n",
            "A column-vector y was passed when a 1d array was expected. Please change the shape of y to (n_samples, ), for example using ravel().\n",
            "\n",
            "/usr/local/lib/python3.7/dist-packages/sklearn/preprocessing/_label.py:268: DataConversionWarning:\n",
            "\n",
            "A column-vector y was passed when a 1d array was expected. Please change the shape of y to (n_samples, ), for example using ravel().\n",
            "\n"
          ]
        },
        {
          "name": "stdout",
          "output_type": "stream",
          "text": [
            "[LightGBM] [Warning] feature_fraction is set=0.716085079520719, colsample_bytree=1.0 will be ignored. Current value: feature_fraction=0.716085079520719\n",
            "[LightGBM] [Warning] feature_fraction is set=0.716085079520719, colsample_bytree=1.0 will be ignored. Current value: feature_fraction=0.716085079520719\n",
            "New AUC Score 0.856976956129618\n"
          ]
        },
        {
          "name": "stderr",
          "output_type": "stream",
          "text": [
            "/usr/local/lib/python3.7/dist-packages/sklearn/preprocessing/_label.py:235: DataConversionWarning:\n",
            "\n",
            "A column-vector y was passed when a 1d array was expected. Please change the shape of y to (n_samples, ), for example using ravel().\n",
            "\n",
            "/usr/local/lib/python3.7/dist-packages/sklearn/preprocessing/_label.py:268: DataConversionWarning:\n",
            "\n",
            "A column-vector y was passed when a 1d array was expected. Please change the shape of y to (n_samples, ), for example using ravel().\n",
            "\n"
          ]
        },
        {
          "name": "stdout",
          "output_type": "stream",
          "text": [
            "[LightGBM] [Warning] feature_fraction is set=0.716085079520719, colsample_bytree=1.0 will be ignored. Current value: feature_fraction=0.716085079520719\n",
            "[LightGBM] [Warning] feature_fraction is set=0.716085079520719, colsample_bytree=1.0 will be ignored. Current value: feature_fraction=0.716085079520719\n",
            "New AUC Score 0.8574495131742469\n",
            "all scores [0.8566285176017723, 0.8574333767590642, 0.8565689477457228, 0.856976956129618, 0.8574495131742469]\n",
            "Roc AUC score 0.8574495131742469\n",
            "{'boosting_type': 'gbdt', 'class_weight': None, 'colsample_bytree': 1.0, 'importance_type': 'split', 'learning_rate': 0.013999305744582887, 'max_depth': 8, 'min_child_samples': 80, 'min_child_weight': 0.001, 'min_split_gain': 0.0, 'n_estimators': 9972, 'n_jobs': -1, 'num_leaves': 7, 'objective': 'binary', 'random_state': 42, 'reg_alpha': 19, 'reg_lambda': 14, 'silent': True, 'subsample': 0.5977020759670121, 'subsample_for_bin': 200000, 'subsample_freq': 1, 'metric': 'AUC', 'verbosity': 0, 'device': 'gpu', 'feature_fraction': 0.716085079520719}\n"
          ]
        },
        {
          "name": "stderr",
          "output_type": "stream",
          "text": [
            "\u001b[32m[I 2021-10-03 13:13:23,701]\u001b[0m Trial 31 finished with value: 0.8574495131742469 and parameters: {'boosting_type': 'gbdt', 'subsample': 0.5977020759670121, 'eta': 0.013999305744582887, 'n_estimators': 9972, 'reg_alpha': 19, 'reg_lambda': 14, 'max_depth': 8, 'num_leaves': 7, 'feature_fraction': 0.716085079520719, 'min_child_samples': 80}. Best is trial 18 with value: 0.8588837881237562.\u001b[0m\n"
          ]
        },
        {
          "name": "stdout",
          "output_type": "stream",
          "text": [
            "filename ./models/lgbm_31 best_model_name./models/best_lgbm  best_trial_number 18\n",
            "STARTING Params: {'metric': 'AUC', 'verbosity': 0, 'device': 'gpu', 'boosting_type': 'gbdt', 'subsample': 0.5884844910263465, 'learning_rate': 0.013573442386266156, 'n_estimators': 7982, 'subsample_freq': 1, 'reg_alpha': 18, 'reg_lambda': 15, 'max_depth': 9, 'num_leaves': 5, 'feature_fraction': 0.6711304734802691, 'min_child_samples': 85, 'objective': 'binary'}\n",
            "Param: {'metric': 'AUC', 'verbosity': 0, 'device': 'gpu', 'boosting_type': 'gbdt', 'subsample': 0.5884844910263465, 'learning_rate': 0.013573442386266156, 'n_estimators': 7982, 'subsample_freq': 1, 'reg_alpha': 18, 'reg_lambda': 15, 'max_depth': 9, 'num_leaves': 5, 'feature_fraction': 0.6711304734802691, 'min_child_samples': 85, 'objective': 'binary'}\n"
          ]
        },
        {
          "name": "stderr",
          "output_type": "stream",
          "text": [
            "/usr/local/lib/python3.7/dist-packages/sklearn/preprocessing/_label.py:235: DataConversionWarning:\n",
            "\n",
            "A column-vector y was passed when a 1d array was expected. Please change the shape of y to (n_samples, ), for example using ravel().\n",
            "\n",
            "/usr/local/lib/python3.7/dist-packages/sklearn/preprocessing/_label.py:268: DataConversionWarning:\n",
            "\n",
            "A column-vector y was passed when a 1d array was expected. Please change the shape of y to (n_samples, ), for example using ravel().\n",
            "\n"
          ]
        },
        {
          "name": "stdout",
          "output_type": "stream",
          "text": [
            "[LightGBM] [Warning] feature_fraction is set=0.6711304734802691, colsample_bytree=1.0 will be ignored. Current value: feature_fraction=0.6711304734802691\n",
            "[LightGBM] [Warning] feature_fraction is set=0.6711304734802691, colsample_bytree=1.0 will be ignored. Current value: feature_fraction=0.6711304734802691\n",
            "New AUC Score 0.8567715314363339\n"
          ]
        },
        {
          "name": "stderr",
          "output_type": "stream",
          "text": [
            "/usr/local/lib/python3.7/dist-packages/sklearn/preprocessing/_label.py:235: DataConversionWarning:\n",
            "\n",
            "A column-vector y was passed when a 1d array was expected. Please change the shape of y to (n_samples, ), for example using ravel().\n",
            "\n",
            "/usr/local/lib/python3.7/dist-packages/sklearn/preprocessing/_label.py:268: DataConversionWarning:\n",
            "\n",
            "A column-vector y was passed when a 1d array was expected. Please change the shape of y to (n_samples, ), for example using ravel().\n",
            "\n"
          ]
        },
        {
          "name": "stdout",
          "output_type": "stream",
          "text": [
            "[LightGBM] [Warning] feature_fraction is set=0.6711304734802691, colsample_bytree=1.0 will be ignored. Current value: feature_fraction=0.6711304734802691\n",
            "[LightGBM] [Warning] feature_fraction is set=0.6711304734802691, colsample_bytree=1.0 will be ignored. Current value: feature_fraction=0.6711304734802691\n",
            "New AUC Score 0.856697761866924\n"
          ]
        },
        {
          "name": "stderr",
          "output_type": "stream",
          "text": [
            "/usr/local/lib/python3.7/dist-packages/sklearn/preprocessing/_label.py:235: DataConversionWarning:\n",
            "\n",
            "A column-vector y was passed when a 1d array was expected. Please change the shape of y to (n_samples, ), for example using ravel().\n",
            "\n",
            "/usr/local/lib/python3.7/dist-packages/sklearn/preprocessing/_label.py:268: DataConversionWarning:\n",
            "\n",
            "A column-vector y was passed when a 1d array was expected. Please change the shape of y to (n_samples, ), for example using ravel().\n",
            "\n"
          ]
        },
        {
          "name": "stdout",
          "output_type": "stream",
          "text": [
            "[LightGBM] [Warning] feature_fraction is set=0.6711304734802691, colsample_bytree=1.0 will be ignored. Current value: feature_fraction=0.6711304734802691\n",
            "[LightGBM] [Warning] feature_fraction is set=0.6711304734802691, colsample_bytree=1.0 will be ignored. Current value: feature_fraction=0.6711304734802691\n",
            "New AUC Score 0.8567247685923347\n"
          ]
        },
        {
          "name": "stderr",
          "output_type": "stream",
          "text": [
            "/usr/local/lib/python3.7/dist-packages/sklearn/preprocessing/_label.py:235: DataConversionWarning:\n",
            "\n",
            "A column-vector y was passed when a 1d array was expected. Please change the shape of y to (n_samples, ), for example using ravel().\n",
            "\n",
            "/usr/local/lib/python3.7/dist-packages/sklearn/preprocessing/_label.py:268: DataConversionWarning:\n",
            "\n",
            "A column-vector y was passed when a 1d array was expected. Please change the shape of y to (n_samples, ), for example using ravel().\n",
            "\n"
          ]
        },
        {
          "name": "stdout",
          "output_type": "stream",
          "text": [
            "[LightGBM] [Warning] feature_fraction is set=0.6711304734802691, colsample_bytree=1.0 will be ignored. Current value: feature_fraction=0.6711304734802691\n",
            "[LightGBM] [Warning] feature_fraction is set=0.6711304734802691, colsample_bytree=1.0 will be ignored. Current value: feature_fraction=0.6711304734802691\n",
            "New AUC Score 0.8569073113640892\n"
          ]
        },
        {
          "name": "stderr",
          "output_type": "stream",
          "text": [
            "/usr/local/lib/python3.7/dist-packages/sklearn/preprocessing/_label.py:235: DataConversionWarning:\n",
            "\n",
            "A column-vector y was passed when a 1d array was expected. Please change the shape of y to (n_samples, ), for example using ravel().\n",
            "\n",
            "/usr/local/lib/python3.7/dist-packages/sklearn/preprocessing/_label.py:268: DataConversionWarning:\n",
            "\n",
            "A column-vector y was passed when a 1d array was expected. Please change the shape of y to (n_samples, ), for example using ravel().\n",
            "\n"
          ]
        },
        {
          "name": "stdout",
          "output_type": "stream",
          "text": [
            "[LightGBM] [Warning] feature_fraction is set=0.6711304734802691, colsample_bytree=1.0 will be ignored. Current value: feature_fraction=0.6711304734802691\n",
            "[LightGBM] [Warning] feature_fraction is set=0.6711304734802691, colsample_bytree=1.0 will be ignored. Current value: feature_fraction=0.6711304734802691\n",
            "New AUC Score 0.8564047378912178\n",
            "all scores [0.8567715314363339, 0.856697761866924, 0.8567247685923347, 0.8569073113640892, 0.8564047378912178]\n",
            "Roc AUC score 0.8569073113640892\n",
            "{'boosting_type': 'gbdt', 'class_weight': None, 'colsample_bytree': 1.0, 'importance_type': 'split', 'learning_rate': 0.013573442386266156, 'max_depth': 9, 'min_child_samples': 85, 'min_child_weight': 0.001, 'min_split_gain': 0.0, 'n_estimators': 7982, 'n_jobs': -1, 'num_leaves': 5, 'objective': 'binary', 'random_state': 42, 'reg_alpha': 18, 'reg_lambda': 15, 'silent': True, 'subsample': 0.5884844910263465, 'subsample_for_bin': 200000, 'subsample_freq': 1, 'metric': 'AUC', 'verbosity': 0, 'device': 'gpu', 'feature_fraction': 0.6711304734802691}\n"
          ]
        },
        {
          "name": "stderr",
          "output_type": "stream",
          "text": [
            "\u001b[32m[I 2021-10-03 13:25:50,747]\u001b[0m Trial 32 finished with value: 0.8569073113640892 and parameters: {'boosting_type': 'gbdt', 'subsample': 0.5884844910263465, 'eta': 0.013573442386266156, 'n_estimators': 7982, 'reg_alpha': 18, 'reg_lambda': 15, 'max_depth': 9, 'num_leaves': 5, 'feature_fraction': 0.6711304734802691, 'min_child_samples': 85}. Best is trial 18 with value: 0.8588837881237562.\u001b[0m\n"
          ]
        },
        {
          "name": "stdout",
          "output_type": "stream",
          "text": [
            "filename ./models/lgbm_32 best_model_name./models/best_lgbm  best_trial_number 18\n",
            "STARTING Params: {'metric': 'AUC', 'verbosity': 0, 'device': 'gpu', 'boosting_type': 'gbdt', 'subsample': 0.5632270114291005, 'learning_rate': 0.012682187551712862, 'n_estimators': 8854, 'subsample_freq': 1, 'reg_alpha': 19, 'reg_lambda': 12, 'max_depth': 7, 'num_leaves': 6, 'feature_fraction': 0.8422259990485964, 'min_child_samples': 61, 'objective': 'binary'}\n",
            "Param: {'metric': 'AUC', 'verbosity': 0, 'device': 'gpu', 'boosting_type': 'gbdt', 'subsample': 0.5632270114291005, 'learning_rate': 0.012682187551712862, 'n_estimators': 8854, 'subsample_freq': 1, 'reg_alpha': 19, 'reg_lambda': 12, 'max_depth': 7, 'num_leaves': 6, 'feature_fraction': 0.8422259990485964, 'min_child_samples': 61, 'objective': 'binary'}\n"
          ]
        },
        {
          "name": "stderr",
          "output_type": "stream",
          "text": [
            "/usr/local/lib/python3.7/dist-packages/sklearn/preprocessing/_label.py:235: DataConversionWarning:\n",
            "\n",
            "A column-vector y was passed when a 1d array was expected. Please change the shape of y to (n_samples, ), for example using ravel().\n",
            "\n",
            "/usr/local/lib/python3.7/dist-packages/sklearn/preprocessing/_label.py:268: DataConversionWarning:\n",
            "\n",
            "A column-vector y was passed when a 1d array was expected. Please change the shape of y to (n_samples, ), for example using ravel().\n",
            "\n"
          ]
        },
        {
          "name": "stdout",
          "output_type": "stream",
          "text": [
            "[LightGBM] [Warning] feature_fraction is set=0.8422259990485964, colsample_bytree=1.0 will be ignored. Current value: feature_fraction=0.8422259990485964\n",
            "[LightGBM] [Warning] feature_fraction is set=0.8422259990485964, colsample_bytree=1.0 will be ignored. Current value: feature_fraction=0.8422259990485964\n",
            "New AUC Score 0.8577633993695826\n"
          ]
        },
        {
          "name": "stderr",
          "output_type": "stream",
          "text": [
            "/usr/local/lib/python3.7/dist-packages/sklearn/preprocessing/_label.py:235: DataConversionWarning:\n",
            "\n",
            "A column-vector y was passed when a 1d array was expected. Please change the shape of y to (n_samples, ), for example using ravel().\n",
            "\n",
            "/usr/local/lib/python3.7/dist-packages/sklearn/preprocessing/_label.py:268: DataConversionWarning:\n",
            "\n",
            "A column-vector y was passed when a 1d array was expected. Please change the shape of y to (n_samples, ), for example using ravel().\n",
            "\n"
          ]
        },
        {
          "name": "stdout",
          "output_type": "stream",
          "text": [
            "[LightGBM] [Warning] feature_fraction is set=0.8422259990485964, colsample_bytree=1.0 will be ignored. Current value: feature_fraction=0.8422259990485964\n",
            "[LightGBM] [Warning] feature_fraction is set=0.8422259990485964, colsample_bytree=1.0 will be ignored. Current value: feature_fraction=0.8422259990485964\n",
            "New AUC Score 0.8574224429487766\n"
          ]
        },
        {
          "name": "stderr",
          "output_type": "stream",
          "text": [
            "/usr/local/lib/python3.7/dist-packages/sklearn/preprocessing/_label.py:235: DataConversionWarning:\n",
            "\n",
            "A column-vector y was passed when a 1d array was expected. Please change the shape of y to (n_samples, ), for example using ravel().\n",
            "\n",
            "/usr/local/lib/python3.7/dist-packages/sklearn/preprocessing/_label.py:268: DataConversionWarning:\n",
            "\n",
            "A column-vector y was passed when a 1d array was expected. Please change the shape of y to (n_samples, ), for example using ravel().\n",
            "\n"
          ]
        },
        {
          "name": "stdout",
          "output_type": "stream",
          "text": [
            "[LightGBM] [Warning] feature_fraction is set=0.8422259990485964, colsample_bytree=1.0 will be ignored. Current value: feature_fraction=0.8422259990485964\n",
            "[LightGBM] [Warning] feature_fraction is set=0.8422259990485964, colsample_bytree=1.0 will be ignored. Current value: feature_fraction=0.8422259990485964\n",
            "New AUC Score 0.8577384328460914\n"
          ]
        },
        {
          "name": "stderr",
          "output_type": "stream",
          "text": [
            "/usr/local/lib/python3.7/dist-packages/sklearn/preprocessing/_label.py:235: DataConversionWarning:\n",
            "\n",
            "A column-vector y was passed when a 1d array was expected. Please change the shape of y to (n_samples, ), for example using ravel().\n",
            "\n",
            "/usr/local/lib/python3.7/dist-packages/sklearn/preprocessing/_label.py:268: DataConversionWarning:\n",
            "\n",
            "A column-vector y was passed when a 1d array was expected. Please change the shape of y to (n_samples, ), for example using ravel().\n",
            "\n"
          ]
        },
        {
          "name": "stdout",
          "output_type": "stream",
          "text": [
            "[LightGBM] [Warning] feature_fraction is set=0.8422259990485964, colsample_bytree=1.0 will be ignored. Current value: feature_fraction=0.8422259990485964\n",
            "[LightGBM] [Warning] feature_fraction is set=0.8422259990485964, colsample_bytree=1.0 will be ignored. Current value: feature_fraction=0.8422259990485964\n",
            "New AUC Score 0.8562452236411309\n"
          ]
        },
        {
          "name": "stderr",
          "output_type": "stream",
          "text": [
            "/usr/local/lib/python3.7/dist-packages/sklearn/preprocessing/_label.py:235: DataConversionWarning:\n",
            "\n",
            "A column-vector y was passed when a 1d array was expected. Please change the shape of y to (n_samples, ), for example using ravel().\n",
            "\n",
            "/usr/local/lib/python3.7/dist-packages/sklearn/preprocessing/_label.py:268: DataConversionWarning:\n",
            "\n",
            "A column-vector y was passed when a 1d array was expected. Please change the shape of y to (n_samples, ), for example using ravel().\n",
            "\n"
          ]
        },
        {
          "name": "stdout",
          "output_type": "stream",
          "text": [
            "[LightGBM] [Warning] feature_fraction is set=0.8422259990485964, colsample_bytree=1.0 will be ignored. Current value: feature_fraction=0.8422259990485964\n",
            "[LightGBM] [Warning] feature_fraction is set=0.8422259990485964, colsample_bytree=1.0 will be ignored. Current value: feature_fraction=0.8422259990485964\n",
            "New AUC Score 0.8555568373934282\n",
            "all scores [0.8577633993695826, 0.8574224429487766, 0.8577384328460914, 0.8562452236411309, 0.8555568373934282]\n",
            "Roc AUC score 0.8577633993695826\n",
            "{'boosting_type': 'gbdt', 'class_weight': None, 'colsample_bytree': 1.0, 'importance_type': 'split', 'learning_rate': 0.012682187551712862, 'max_depth': 7, 'min_child_samples': 61, 'min_child_weight': 0.001, 'min_split_gain': 0.0, 'n_estimators': 8854, 'n_jobs': -1, 'num_leaves': 6, 'objective': 'binary', 'random_state': 42, 'reg_alpha': 19, 'reg_lambda': 12, 'silent': True, 'subsample': 0.5632270114291005, 'subsample_for_bin': 200000, 'subsample_freq': 1, 'metric': 'AUC', 'verbosity': 0, 'device': 'gpu', 'feature_fraction': 0.8422259990485964}\n"
          ]
        },
        {
          "name": "stderr",
          "output_type": "stream",
          "text": [
            "\u001b[32m[I 2021-10-03 13:38:38,746]\u001b[0m Trial 33 finished with value: 0.8577633993695826 and parameters: {'boosting_type': 'gbdt', 'subsample': 0.5632270114291005, 'eta': 0.012682187551712862, 'n_estimators': 8854, 'reg_alpha': 19, 'reg_lambda': 12, 'max_depth': 7, 'num_leaves': 6, 'feature_fraction': 0.8422259990485964, 'min_child_samples': 61}. Best is trial 18 with value: 0.8588837881237562.\u001b[0m\n"
          ]
        },
        {
          "name": "stdout",
          "output_type": "stream",
          "text": [
            "filename ./models/lgbm_33 best_model_name./models/best_lgbm  best_trial_number 18\n",
            "STARTING Params: {'metric': 'AUC', 'verbosity': 0, 'device': 'gpu', 'boosting_type': 'gbdt', 'subsample': 0.5769092207147931, 'learning_rate': 0.01444239550309749, 'n_estimators': 9525, 'subsample_freq': 1, 'reg_alpha': 20, 'reg_lambda': 13, 'max_depth': 8, 'num_leaves': 9, 'feature_fraction': 0.5658095055485002, 'min_child_samples': 77, 'objective': 'binary'}\n",
            "Param: {'metric': 'AUC', 'verbosity': 0, 'device': 'gpu', 'boosting_type': 'gbdt', 'subsample': 0.5769092207147931, 'learning_rate': 0.01444239550309749, 'n_estimators': 9525, 'subsample_freq': 1, 'reg_alpha': 20, 'reg_lambda': 13, 'max_depth': 8, 'num_leaves': 9, 'feature_fraction': 0.5658095055485002, 'min_child_samples': 77, 'objective': 'binary'}\n"
          ]
        },
        {
          "name": "stderr",
          "output_type": "stream",
          "text": [
            "/usr/local/lib/python3.7/dist-packages/sklearn/preprocessing/_label.py:235: DataConversionWarning:\n",
            "\n",
            "A column-vector y was passed when a 1d array was expected. Please change the shape of y to (n_samples, ), for example using ravel().\n",
            "\n",
            "/usr/local/lib/python3.7/dist-packages/sklearn/preprocessing/_label.py:268: DataConversionWarning:\n",
            "\n",
            "A column-vector y was passed when a 1d array was expected. Please change the shape of y to (n_samples, ), for example using ravel().\n",
            "\n"
          ]
        },
        {
          "name": "stdout",
          "output_type": "stream",
          "text": [
            "[LightGBM] [Warning] feature_fraction is set=0.5658095055485002, colsample_bytree=1.0 will be ignored. Current value: feature_fraction=0.5658095055485002\n",
            "[LightGBM] [Warning] feature_fraction is set=0.5658095055485002, colsample_bytree=1.0 will be ignored. Current value: feature_fraction=0.5658095055485002\n",
            "New AUC Score 0.8574568330811343\n"
          ]
        },
        {
          "name": "stderr",
          "output_type": "stream",
          "text": [
            "/usr/local/lib/python3.7/dist-packages/sklearn/preprocessing/_label.py:235: DataConversionWarning:\n",
            "\n",
            "A column-vector y was passed when a 1d array was expected. Please change the shape of y to (n_samples, ), for example using ravel().\n",
            "\n",
            "/usr/local/lib/python3.7/dist-packages/sklearn/preprocessing/_label.py:268: DataConversionWarning:\n",
            "\n",
            "A column-vector y was passed when a 1d array was expected. Please change the shape of y to (n_samples, ), for example using ravel().\n",
            "\n"
          ]
        },
        {
          "name": "stdout",
          "output_type": "stream",
          "text": [
            "[LightGBM] [Warning] feature_fraction is set=0.5658095055485002, colsample_bytree=1.0 will be ignored. Current value: feature_fraction=0.5658095055485002\n",
            "[LightGBM] [Warning] feature_fraction is set=0.5658095055485002, colsample_bytree=1.0 will be ignored. Current value: feature_fraction=0.5658095055485002\n",
            "New AUC Score 0.8558878534048813\n"
          ]
        },
        {
          "name": "stderr",
          "output_type": "stream",
          "text": [
            "/usr/local/lib/python3.7/dist-packages/sklearn/preprocessing/_label.py:235: DataConversionWarning:\n",
            "\n",
            "A column-vector y was passed when a 1d array was expected. Please change the shape of y to (n_samples, ), for example using ravel().\n",
            "\n",
            "/usr/local/lib/python3.7/dist-packages/sklearn/preprocessing/_label.py:268: DataConversionWarning:\n",
            "\n",
            "A column-vector y was passed when a 1d array was expected. Please change the shape of y to (n_samples, ), for example using ravel().\n",
            "\n"
          ]
        },
        {
          "name": "stdout",
          "output_type": "stream",
          "text": [
            "[LightGBM] [Warning] feature_fraction is set=0.5658095055485002, colsample_bytree=1.0 will be ignored. Current value: feature_fraction=0.5658095055485002\n",
            "[LightGBM] [Warning] feature_fraction is set=0.5658095055485002, colsample_bytree=1.0 will be ignored. Current value: feature_fraction=0.5658095055485002\n",
            "New AUC Score 0.8573359300673766\n"
          ]
        },
        {
          "name": "stderr",
          "output_type": "stream",
          "text": [
            "/usr/local/lib/python3.7/dist-packages/sklearn/preprocessing/_label.py:235: DataConversionWarning:\n",
            "\n",
            "A column-vector y was passed when a 1d array was expected. Please change the shape of y to (n_samples, ), for example using ravel().\n",
            "\n",
            "/usr/local/lib/python3.7/dist-packages/sklearn/preprocessing/_label.py:268: DataConversionWarning:\n",
            "\n",
            "A column-vector y was passed when a 1d array was expected. Please change the shape of y to (n_samples, ), for example using ravel().\n",
            "\n"
          ]
        },
        {
          "name": "stdout",
          "output_type": "stream",
          "text": [
            "[LightGBM] [Warning] feature_fraction is set=0.5658095055485002, colsample_bytree=1.0 will be ignored. Current value: feature_fraction=0.5658095055485002\n",
            "[LightGBM] [Warning] feature_fraction is set=0.5658095055485002, colsample_bytree=1.0 will be ignored. Current value: feature_fraction=0.5658095055485002\n",
            "New AUC Score 0.8571125526572008\n"
          ]
        },
        {
          "name": "stderr",
          "output_type": "stream",
          "text": [
            "/usr/local/lib/python3.7/dist-packages/sklearn/preprocessing/_label.py:235: DataConversionWarning:\n",
            "\n",
            "A column-vector y was passed when a 1d array was expected. Please change the shape of y to (n_samples, ), for example using ravel().\n",
            "\n",
            "/usr/local/lib/python3.7/dist-packages/sklearn/preprocessing/_label.py:268: DataConversionWarning:\n",
            "\n",
            "A column-vector y was passed when a 1d array was expected. Please change the shape of y to (n_samples, ), for example using ravel().\n",
            "\n"
          ]
        },
        {
          "name": "stdout",
          "output_type": "stream",
          "text": [
            "[LightGBM] [Warning] feature_fraction is set=0.5658095055485002, colsample_bytree=1.0 will be ignored. Current value: feature_fraction=0.5658095055485002\n",
            "[LightGBM] [Warning] feature_fraction is set=0.5658095055485002, colsample_bytree=1.0 will be ignored. Current value: feature_fraction=0.5658095055485002\n",
            "New AUC Score 0.8574605192846025\n",
            "all scores [0.8574568330811343, 0.8558878534048813, 0.8573359300673766, 0.8571125526572008, 0.8574605192846025]\n",
            "Roc AUC score 0.8574605192846025\n",
            "{'boosting_type': 'gbdt', 'class_weight': None, 'colsample_bytree': 1.0, 'importance_type': 'split', 'learning_rate': 0.01444239550309749, 'max_depth': 8, 'min_child_samples': 77, 'min_child_weight': 0.001, 'min_split_gain': 0.0, 'n_estimators': 9525, 'n_jobs': -1, 'num_leaves': 9, 'objective': 'binary', 'random_state': 42, 'reg_alpha': 20, 'reg_lambda': 13, 'silent': True, 'subsample': 0.5769092207147931, 'subsample_for_bin': 200000, 'subsample_freq': 1, 'metric': 'AUC', 'verbosity': 0, 'device': 'gpu', 'feature_fraction': 0.5658095055485002}\n"
          ]
        },
        {
          "name": "stderr",
          "output_type": "stream",
          "text": [
            "\u001b[32m[I 2021-10-03 13:59:58,753]\u001b[0m Trial 34 finished with value: 0.8574605192846025 and parameters: {'boosting_type': 'gbdt', 'subsample': 0.5769092207147931, 'eta': 0.01444239550309749, 'n_estimators': 9525, 'reg_alpha': 20, 'reg_lambda': 13, 'max_depth': 8, 'num_leaves': 9, 'feature_fraction': 0.5658095055485002, 'min_child_samples': 77}. Best is trial 18 with value: 0.8588837881237562.\u001b[0m\n"
          ]
        },
        {
          "name": "stdout",
          "output_type": "stream",
          "text": [
            "filename ./models/lgbm_34 best_model_name./models/best_lgbm  best_trial_number 18\n",
            "STARTING Params: {'metric': 'AUC', 'verbosity': 0, 'device': 'gpu', 'boosting_type': 'gbdt', 'subsample': 0.5905761364877286, 'learning_rate': 0.011788893860334933, 'n_estimators': 3871, 'subsample_freq': 1, 'reg_alpha': 15, 'reg_lambda': 11, 'max_depth': 7, 'num_leaves': 10, 'feature_fraction': 0.9739263178972921, 'min_child_samples': 94, 'objective': 'binary'}\n",
            "Param: {'metric': 'AUC', 'verbosity': 0, 'device': 'gpu', 'boosting_type': 'gbdt', 'subsample': 0.5905761364877286, 'learning_rate': 0.011788893860334933, 'n_estimators': 3871, 'subsample_freq': 1, 'reg_alpha': 15, 'reg_lambda': 11, 'max_depth': 7, 'num_leaves': 10, 'feature_fraction': 0.9739263178972921, 'min_child_samples': 94, 'objective': 'binary'}\n"
          ]
        },
        {
          "name": "stderr",
          "output_type": "stream",
          "text": [
            "/usr/local/lib/python3.7/dist-packages/sklearn/preprocessing/_label.py:235: DataConversionWarning:\n",
            "\n",
            "A column-vector y was passed when a 1d array was expected. Please change the shape of y to (n_samples, ), for example using ravel().\n",
            "\n",
            "/usr/local/lib/python3.7/dist-packages/sklearn/preprocessing/_label.py:268: DataConversionWarning:\n",
            "\n",
            "A column-vector y was passed when a 1d array was expected. Please change the shape of y to (n_samples, ), for example using ravel().\n",
            "\n"
          ]
        },
        {
          "name": "stdout",
          "output_type": "stream",
          "text": [
            "[LightGBM] [Warning] feature_fraction is set=0.9739263178972921, colsample_bytree=1.0 will be ignored. Current value: feature_fraction=0.9739263178972921\n",
            "[LightGBM] [Warning] feature_fraction is set=0.9739263178972921, colsample_bytree=1.0 will be ignored. Current value: feature_fraction=0.9739263178972921\n",
            "New AUC Score 0.8564470885310655\n"
          ]
        },
        {
          "name": "stderr",
          "output_type": "stream",
          "text": [
            "/usr/local/lib/python3.7/dist-packages/sklearn/preprocessing/_label.py:235: DataConversionWarning:\n",
            "\n",
            "A column-vector y was passed when a 1d array was expected. Please change the shape of y to (n_samples, ), for example using ravel().\n",
            "\n",
            "/usr/local/lib/python3.7/dist-packages/sklearn/preprocessing/_label.py:268: DataConversionWarning:\n",
            "\n",
            "A column-vector y was passed when a 1d array was expected. Please change the shape of y to (n_samples, ), for example using ravel().\n",
            "\n"
          ]
        },
        {
          "name": "stdout",
          "output_type": "stream",
          "text": [
            "[LightGBM] [Warning] feature_fraction is set=0.9739263178972921, colsample_bytree=1.0 will be ignored. Current value: feature_fraction=0.9739263178972921\n",
            "[LightGBM] [Warning] feature_fraction is set=0.9739263178972921, colsample_bytree=1.0 will be ignored. Current value: feature_fraction=0.9739263178972921\n",
            "New AUC Score 0.8565304498095002\n"
          ]
        },
        {
          "name": "stderr",
          "output_type": "stream",
          "text": [
            "/usr/local/lib/python3.7/dist-packages/sklearn/preprocessing/_label.py:235: DataConversionWarning:\n",
            "\n",
            "A column-vector y was passed when a 1d array was expected. Please change the shape of y to (n_samples, ), for example using ravel().\n",
            "\n",
            "/usr/local/lib/python3.7/dist-packages/sklearn/preprocessing/_label.py:268: DataConversionWarning:\n",
            "\n",
            "A column-vector y was passed when a 1d array was expected. Please change the shape of y to (n_samples, ), for example using ravel().\n",
            "\n"
          ]
        },
        {
          "name": "stdout",
          "output_type": "stream",
          "text": [
            "[LightGBM] [Warning] feature_fraction is set=0.9739263178972921, colsample_bytree=1.0 will be ignored. Current value: feature_fraction=0.9739263178972921\n",
            "[LightGBM] [Warning] feature_fraction is set=0.9739263178972921, colsample_bytree=1.0 will be ignored. Current value: feature_fraction=0.9739263178972921\n",
            "New AUC Score 0.8550734430386026\n"
          ]
        },
        {
          "name": "stderr",
          "output_type": "stream",
          "text": [
            "/usr/local/lib/python3.7/dist-packages/sklearn/preprocessing/_label.py:235: DataConversionWarning:\n",
            "\n",
            "A column-vector y was passed when a 1d array was expected. Please change the shape of y to (n_samples, ), for example using ravel().\n",
            "\n",
            "/usr/local/lib/python3.7/dist-packages/sklearn/preprocessing/_label.py:268: DataConversionWarning:\n",
            "\n",
            "A column-vector y was passed when a 1d array was expected. Please change the shape of y to (n_samples, ), for example using ravel().\n",
            "\n"
          ]
        },
        {
          "name": "stdout",
          "output_type": "stream",
          "text": [
            "[LightGBM] [Warning] feature_fraction is set=0.9739263178972921, colsample_bytree=1.0 will be ignored. Current value: feature_fraction=0.9739263178972921\n",
            "[LightGBM] [Warning] feature_fraction is set=0.9739263178972921, colsample_bytree=1.0 will be ignored. Current value: feature_fraction=0.9739263178972921\n",
            "New AUC Score 0.8564743168566846\n"
          ]
        },
        {
          "name": "stderr",
          "output_type": "stream",
          "text": [
            "/usr/local/lib/python3.7/dist-packages/sklearn/preprocessing/_label.py:235: DataConversionWarning:\n",
            "\n",
            "A column-vector y was passed when a 1d array was expected. Please change the shape of y to (n_samples, ), for example using ravel().\n",
            "\n",
            "/usr/local/lib/python3.7/dist-packages/sklearn/preprocessing/_label.py:268: DataConversionWarning:\n",
            "\n",
            "A column-vector y was passed when a 1d array was expected. Please change the shape of y to (n_samples, ), for example using ravel().\n",
            "\n"
          ]
        },
        {
          "name": "stdout",
          "output_type": "stream",
          "text": [
            "[LightGBM] [Warning] feature_fraction is set=0.9739263178972921, colsample_bytree=1.0 will be ignored. Current value: feature_fraction=0.9739263178972921\n",
            "[LightGBM] [Warning] feature_fraction is set=0.9739263178972921, colsample_bytree=1.0 will be ignored. Current value: feature_fraction=0.9739263178972921\n"
          ]
        },
        {
          "name": "stderr",
          "output_type": "stream",
          "text": [
            "\u001b[32m[I 2021-10-03 14:07:18,053]\u001b[0m Trial 35 finished with value: 0.8565304498095002 and parameters: {'boosting_type': 'gbdt', 'subsample': 0.5905761364877286, 'eta': 0.011788893860334933, 'n_estimators': 3871, 'reg_alpha': 15, 'reg_lambda': 11, 'max_depth': 7, 'num_leaves': 10, 'feature_fraction': 0.9739263178972921, 'min_child_samples': 94}. Best is trial 18 with value: 0.8588837881237562.\u001b[0m\n"
          ]
        },
        {
          "name": "stdout",
          "output_type": "stream",
          "text": [
            "New AUC Score 0.8556020105359317\n",
            "all scores [0.8564470885310655, 0.8565304498095002, 0.8550734430386026, 0.8564743168566846, 0.8556020105359317]\n",
            "Roc AUC score 0.8565304498095002\n",
            "{'boosting_type': 'gbdt', 'class_weight': None, 'colsample_bytree': 1.0, 'importance_type': 'split', 'learning_rate': 0.011788893860334933, 'max_depth': 7, 'min_child_samples': 94, 'min_child_weight': 0.001, 'min_split_gain': 0.0, 'n_estimators': 3871, 'n_jobs': -1, 'num_leaves': 10, 'objective': 'binary', 'random_state': 42, 'reg_alpha': 15, 'reg_lambda': 11, 'silent': True, 'subsample': 0.5905761364877286, 'subsample_for_bin': 200000, 'subsample_freq': 1, 'metric': 'AUC', 'verbosity': 0, 'device': 'gpu', 'feature_fraction': 0.9739263178972921}\n",
            "filename ./models/lgbm_35 best_model_name./models/best_lgbm  best_trial_number 18\n",
            "STARTING Params: {'metric': 'AUC', 'verbosity': 0, 'device': 'gpu', 'boosting_type': 'gbdt', 'subsample': 0.5672810287302439, 'learning_rate': 0.012774706230832978, 'n_estimators': 8399, 'subsample_freq': 1, 'reg_alpha': 18, 'reg_lambda': 16, 'max_depth': 8, 'num_leaves': 8, 'feature_fraction': 0.66305492476499, 'min_child_samples': 84, 'objective': 'binary'}\n",
            "Param: {'metric': 'AUC', 'verbosity': 0, 'device': 'gpu', 'boosting_type': 'gbdt', 'subsample': 0.5672810287302439, 'learning_rate': 0.012774706230832978, 'n_estimators': 8399, 'subsample_freq': 1, 'reg_alpha': 18, 'reg_lambda': 16, 'max_depth': 8, 'num_leaves': 8, 'feature_fraction': 0.66305492476499, 'min_child_samples': 84, 'objective': 'binary'}\n"
          ]
        },
        {
          "name": "stderr",
          "output_type": "stream",
          "text": [
            "/usr/local/lib/python3.7/dist-packages/sklearn/preprocessing/_label.py:235: DataConversionWarning:\n",
            "\n",
            "A column-vector y was passed when a 1d array was expected. Please change the shape of y to (n_samples, ), for example using ravel().\n",
            "\n",
            "/usr/local/lib/python3.7/dist-packages/sklearn/preprocessing/_label.py:268: DataConversionWarning:\n",
            "\n",
            "A column-vector y was passed when a 1d array was expected. Please change the shape of y to (n_samples, ), for example using ravel().\n",
            "\n"
          ]
        },
        {
          "name": "stdout",
          "output_type": "stream",
          "text": [
            "[LightGBM] [Warning] feature_fraction is set=0.66305492476499, colsample_bytree=1.0 will be ignored. Current value: feature_fraction=0.66305492476499\n",
            "[LightGBM] [Warning] feature_fraction is set=0.66305492476499, colsample_bytree=1.0 will be ignored. Current value: feature_fraction=0.66305492476499\n",
            "New AUC Score 0.8566039874786918\n"
          ]
        },
        {
          "name": "stderr",
          "output_type": "stream",
          "text": [
            "/usr/local/lib/python3.7/dist-packages/sklearn/preprocessing/_label.py:235: DataConversionWarning:\n",
            "\n",
            "A column-vector y was passed when a 1d array was expected. Please change the shape of y to (n_samples, ), for example using ravel().\n",
            "\n",
            "/usr/local/lib/python3.7/dist-packages/sklearn/preprocessing/_label.py:268: DataConversionWarning:\n",
            "\n",
            "A column-vector y was passed when a 1d array was expected. Please change the shape of y to (n_samples, ), for example using ravel().\n",
            "\n"
          ]
        },
        {
          "name": "stdout",
          "output_type": "stream",
          "text": [
            "[LightGBM] [Warning] feature_fraction is set=0.66305492476499, colsample_bytree=1.0 will be ignored. Current value: feature_fraction=0.66305492476499\n",
            "[LightGBM] [Warning] feature_fraction is set=0.66305492476499, colsample_bytree=1.0 will be ignored. Current value: feature_fraction=0.66305492476499\n",
            "New AUC Score 0.8568713713302734\n"
          ]
        },
        {
          "name": "stderr",
          "output_type": "stream",
          "text": [
            "/usr/local/lib/python3.7/dist-packages/sklearn/preprocessing/_label.py:235: DataConversionWarning:\n",
            "\n",
            "A column-vector y was passed when a 1d array was expected. Please change the shape of y to (n_samples, ), for example using ravel().\n",
            "\n",
            "/usr/local/lib/python3.7/dist-packages/sklearn/preprocessing/_label.py:268: DataConversionWarning:\n",
            "\n",
            "A column-vector y was passed when a 1d array was expected. Please change the shape of y to (n_samples, ), for example using ravel().\n",
            "\n"
          ]
        },
        {
          "name": "stdout",
          "output_type": "stream",
          "text": [
            "[LightGBM] [Warning] feature_fraction is set=0.66305492476499, colsample_bytree=1.0 will be ignored. Current value: feature_fraction=0.66305492476499\n",
            "[LightGBM] [Warning] feature_fraction is set=0.66305492476499, colsample_bytree=1.0 will be ignored. Current value: feature_fraction=0.66305492476499\n",
            "New AUC Score 0.8592082549290472\n"
          ]
        },
        {
          "name": "stderr",
          "output_type": "stream",
          "text": [
            "/usr/local/lib/python3.7/dist-packages/sklearn/preprocessing/_label.py:235: DataConversionWarning:\n",
            "\n",
            "A column-vector y was passed when a 1d array was expected. Please change the shape of y to (n_samples, ), for example using ravel().\n",
            "\n",
            "/usr/local/lib/python3.7/dist-packages/sklearn/preprocessing/_label.py:268: DataConversionWarning:\n",
            "\n",
            "A column-vector y was passed when a 1d array was expected. Please change the shape of y to (n_samples, ), for example using ravel().\n",
            "\n"
          ]
        },
        {
          "name": "stdout",
          "output_type": "stream",
          "text": [
            "[LightGBM] [Warning] feature_fraction is set=0.66305492476499, colsample_bytree=1.0 will be ignored. Current value: feature_fraction=0.66305492476499\n",
            "[LightGBM] [Warning] feature_fraction is set=0.66305492476499, colsample_bytree=1.0 will be ignored. Current value: feature_fraction=0.66305492476499\n",
            "New AUC Score 0.8566942550636246\n"
          ]
        },
        {
          "name": "stderr",
          "output_type": "stream",
          "text": [
            "/usr/local/lib/python3.7/dist-packages/sklearn/preprocessing/_label.py:235: DataConversionWarning:\n",
            "\n",
            "A column-vector y was passed when a 1d array was expected. Please change the shape of y to (n_samples, ), for example using ravel().\n",
            "\n",
            "/usr/local/lib/python3.7/dist-packages/sklearn/preprocessing/_label.py:268: DataConversionWarning:\n",
            "\n",
            "A column-vector y was passed when a 1d array was expected. Please change the shape of y to (n_samples, ), for example using ravel().\n",
            "\n"
          ]
        },
        {
          "name": "stdout",
          "output_type": "stream",
          "text": [
            "[LightGBM] [Warning] feature_fraction is set=0.66305492476499, colsample_bytree=1.0 will be ignored. Current value: feature_fraction=0.66305492476499\n",
            "[LightGBM] [Warning] feature_fraction is set=0.66305492476499, colsample_bytree=1.0 will be ignored. Current value: feature_fraction=0.66305492476499\n",
            "New AUC Score 0.85586333308181\n",
            "all scores [0.8566039874786918, 0.8568713713302734, 0.8592082549290472, 0.8566942550636246, 0.85586333308181]\n",
            "Roc AUC score 0.8592082549290472\n",
            "{'boosting_type': 'gbdt', 'class_weight': None, 'colsample_bytree': 1.0, 'importance_type': 'split', 'learning_rate': 0.012774706230832978, 'max_depth': 8, 'min_child_samples': 84, 'min_child_weight': 0.001, 'min_split_gain': 0.0, 'n_estimators': 8399, 'n_jobs': -1, 'num_leaves': 8, 'objective': 'binary', 'random_state': 42, 'reg_alpha': 18, 'reg_lambda': 16, 'silent': True, 'subsample': 0.5672810287302439, 'subsample_for_bin': 200000, 'subsample_freq': 1, 'metric': 'AUC', 'verbosity': 0, 'device': 'gpu', 'feature_fraction': 0.66305492476499}\n"
          ]
        },
        {
          "name": "stderr",
          "output_type": "stream",
          "text": [
            "\u001b[32m[I 2021-10-03 14:22:31,723]\u001b[0m Trial 36 finished with value: 0.8592082549290472 and parameters: {'boosting_type': 'gbdt', 'subsample': 0.5672810287302439, 'eta': 0.012774706230832978, 'n_estimators': 8399, 'reg_alpha': 18, 'reg_lambda': 16, 'max_depth': 8, 'num_leaves': 8, 'feature_fraction': 0.66305492476499, 'min_child_samples': 84}. Best is trial 36 with value: 0.8592082549290472.\u001b[0m\n"
          ]
        },
        {
          "name": "stdout",
          "output_type": "stream",
          "text": [
            "filename ./models/lgbm_36 best_model_name./models/best_lgbm  best_trial_number 36\n",
            "STARTING Params: {'metric': 'AUC', 'verbosity': 0, 'device': 'gpu', 'boosting_type': 'gbdt', 'subsample': 0.5643540905868959, 'learning_rate': 0.012787556780139278, 'n_estimators': 7238, 'subsample_freq': 1, 'reg_alpha': 17, 'reg_lambda': 16, 'max_depth': 9, 'num_leaves': 8, 'feature_fraction': 0.6359497651695836, 'min_child_samples': 49, 'objective': 'binary'}\n",
            "Param: {'metric': 'AUC', 'verbosity': 0, 'device': 'gpu', 'boosting_type': 'gbdt', 'subsample': 0.5643540905868959, 'learning_rate': 0.012787556780139278, 'n_estimators': 7238, 'subsample_freq': 1, 'reg_alpha': 17, 'reg_lambda': 16, 'max_depth': 9, 'num_leaves': 8, 'feature_fraction': 0.6359497651695836, 'min_child_samples': 49, 'objective': 'binary'}\n"
          ]
        },
        {
          "name": "stderr",
          "output_type": "stream",
          "text": [
            "/usr/local/lib/python3.7/dist-packages/sklearn/preprocessing/_label.py:235: DataConversionWarning:\n",
            "\n",
            "A column-vector y was passed when a 1d array was expected. Please change the shape of y to (n_samples, ), for example using ravel().\n",
            "\n",
            "/usr/local/lib/python3.7/dist-packages/sklearn/preprocessing/_label.py:268: DataConversionWarning:\n",
            "\n",
            "A column-vector y was passed when a 1d array was expected. Please change the shape of y to (n_samples, ), for example using ravel().\n",
            "\n"
          ]
        },
        {
          "name": "stdout",
          "output_type": "stream",
          "text": [
            "[LightGBM] [Warning] feature_fraction is set=0.6359497651695836, colsample_bytree=1.0 will be ignored. Current value: feature_fraction=0.6359497651695836\n",
            "[LightGBM] [Warning] feature_fraction is set=0.6359497651695836, colsample_bytree=1.0 will be ignored. Current value: feature_fraction=0.6359497651695836\n",
            "New AUC Score 0.8562703162647407\n"
          ]
        },
        {
          "name": "stderr",
          "output_type": "stream",
          "text": [
            "/usr/local/lib/python3.7/dist-packages/sklearn/preprocessing/_label.py:235: DataConversionWarning:\n",
            "\n",
            "A column-vector y was passed when a 1d array was expected. Please change the shape of y to (n_samples, ), for example using ravel().\n",
            "\n",
            "/usr/local/lib/python3.7/dist-packages/sklearn/preprocessing/_label.py:268: DataConversionWarning:\n",
            "\n",
            "A column-vector y was passed when a 1d array was expected. Please change the shape of y to (n_samples, ), for example using ravel().\n",
            "\n"
          ]
        },
        {
          "name": "stdout",
          "output_type": "stream",
          "text": [
            "[LightGBM] [Warning] feature_fraction is set=0.6359497651695836, colsample_bytree=1.0 will be ignored. Current value: feature_fraction=0.6359497651695836\n",
            "[LightGBM] [Warning] feature_fraction is set=0.6359497651695836, colsample_bytree=1.0 will be ignored. Current value: feature_fraction=0.6359497651695836\n",
            "New AUC Score 0.8587666751135645\n"
          ]
        },
        {
          "name": "stderr",
          "output_type": "stream",
          "text": [
            "/usr/local/lib/python3.7/dist-packages/sklearn/preprocessing/_label.py:235: DataConversionWarning:\n",
            "\n",
            "A column-vector y was passed when a 1d array was expected. Please change the shape of y to (n_samples, ), for example using ravel().\n",
            "\n",
            "/usr/local/lib/python3.7/dist-packages/sklearn/preprocessing/_label.py:268: DataConversionWarning:\n",
            "\n",
            "A column-vector y was passed when a 1d array was expected. Please change the shape of y to (n_samples, ), for example using ravel().\n",
            "\n"
          ]
        },
        {
          "name": "stdout",
          "output_type": "stream",
          "text": [
            "[LightGBM] [Warning] feature_fraction is set=0.6359497651695836, colsample_bytree=1.0 will be ignored. Current value: feature_fraction=0.6359497651695836\n",
            "[LightGBM] [Warning] feature_fraction is set=0.6359497651695836, colsample_bytree=1.0 will be ignored. Current value: feature_fraction=0.6359497651695836\n",
            "New AUC Score 0.8564847139664673\n"
          ]
        },
        {
          "name": "stderr",
          "output_type": "stream",
          "text": [
            "/usr/local/lib/python3.7/dist-packages/sklearn/preprocessing/_label.py:235: DataConversionWarning:\n",
            "\n",
            "A column-vector y was passed when a 1d array was expected. Please change the shape of y to (n_samples, ), for example using ravel().\n",
            "\n",
            "/usr/local/lib/python3.7/dist-packages/sklearn/preprocessing/_label.py:268: DataConversionWarning:\n",
            "\n",
            "A column-vector y was passed when a 1d array was expected. Please change the shape of y to (n_samples, ), for example using ravel().\n",
            "\n"
          ]
        },
        {
          "name": "stdout",
          "output_type": "stream",
          "text": [
            "[LightGBM] [Warning] feature_fraction is set=0.6359497651695836, colsample_bytree=1.0 will be ignored. Current value: feature_fraction=0.6359497651695836\n",
            "[LightGBM] [Warning] feature_fraction is set=0.6359497651695836, colsample_bytree=1.0 will be ignored. Current value: feature_fraction=0.6359497651695836\n",
            "New AUC Score 0.8575549886734889\n"
          ]
        },
        {
          "name": "stderr",
          "output_type": "stream",
          "text": [
            "/usr/local/lib/python3.7/dist-packages/sklearn/preprocessing/_label.py:235: DataConversionWarning:\n",
            "\n",
            "A column-vector y was passed when a 1d array was expected. Please change the shape of y to (n_samples, ), for example using ravel().\n",
            "\n",
            "/usr/local/lib/python3.7/dist-packages/sklearn/preprocessing/_label.py:268: DataConversionWarning:\n",
            "\n",
            "A column-vector y was passed when a 1d array was expected. Please change the shape of y to (n_samples, ), for example using ravel().\n",
            "\n"
          ]
        },
        {
          "name": "stdout",
          "output_type": "stream",
          "text": [
            "[LightGBM] [Warning] feature_fraction is set=0.6359497651695836, colsample_bytree=1.0 will be ignored. Current value: feature_fraction=0.6359497651695836\n",
            "[LightGBM] [Warning] feature_fraction is set=0.6359497651695836, colsample_bytree=1.0 will be ignored. Current value: feature_fraction=0.6359497651695836\n",
            "New AUC Score 0.8558864161035289\n",
            "all scores [0.8562703162647407, 0.8587666751135645, 0.8564847139664673, 0.8575549886734889, 0.8558864161035289]\n",
            "Roc AUC score 0.8587666751135645\n",
            "{'boosting_type': 'gbdt', 'class_weight': None, 'colsample_bytree': 1.0, 'importance_type': 'split', 'learning_rate': 0.012787556780139278, 'max_depth': 9, 'min_child_samples': 49, 'min_child_weight': 0.001, 'min_split_gain': 0.0, 'n_estimators': 7238, 'n_jobs': -1, 'num_leaves': 8, 'objective': 'binary', 'random_state': 42, 'reg_alpha': 17, 'reg_lambda': 16, 'silent': True, 'subsample': 0.5643540905868959, 'subsample_for_bin': 200000, 'subsample_freq': 1, 'metric': 'AUC', 'verbosity': 0, 'device': 'gpu', 'feature_fraction': 0.6359497651695836}\n"
          ]
        },
        {
          "name": "stderr",
          "output_type": "stream",
          "text": [
            "\u001b[32m[I 2021-10-03 14:36:47,688]\u001b[0m Trial 37 finished with value: 0.8587666751135645 and parameters: {'boosting_type': 'gbdt', 'subsample': 0.5643540905868959, 'eta': 0.012787556780139278, 'n_estimators': 7238, 'reg_alpha': 17, 'reg_lambda': 16, 'max_depth': 9, 'num_leaves': 8, 'feature_fraction': 0.6359497651695836, 'min_child_samples': 49}. Best is trial 36 with value: 0.8592082549290472.\u001b[0m\n"
          ]
        },
        {
          "name": "stdout",
          "output_type": "stream",
          "text": [
            "filename ./models/lgbm_37 best_model_name./models/best_lgbm  best_trial_number 36\n",
            "STARTING Params: {'metric': 'AUC', 'verbosity': 0, 'device': 'gpu', 'boosting_type': 'gbdt', 'subsample': 0.5684823881829432, 'learning_rate': 0.012707365414188786, 'n_estimators': 7217, 'subsample_freq': 1, 'reg_alpha': 14, 'reg_lambda': 16, 'max_depth': 10, 'num_leaves': 8, 'feature_fraction': 0.63841964220029, 'min_child_samples': 48, 'objective': 'binary'}\n",
            "Param: {'metric': 'AUC', 'verbosity': 0, 'device': 'gpu', 'boosting_type': 'gbdt', 'subsample': 0.5684823881829432, 'learning_rate': 0.012707365414188786, 'n_estimators': 7217, 'subsample_freq': 1, 'reg_alpha': 14, 'reg_lambda': 16, 'max_depth': 10, 'num_leaves': 8, 'feature_fraction': 0.63841964220029, 'min_child_samples': 48, 'objective': 'binary'}\n"
          ]
        },
        {
          "name": "stderr",
          "output_type": "stream",
          "text": [
            "/usr/local/lib/python3.7/dist-packages/sklearn/preprocessing/_label.py:235: DataConversionWarning:\n",
            "\n",
            "A column-vector y was passed when a 1d array was expected. Please change the shape of y to (n_samples, ), for example using ravel().\n",
            "\n",
            "/usr/local/lib/python3.7/dist-packages/sklearn/preprocessing/_label.py:268: DataConversionWarning:\n",
            "\n",
            "A column-vector y was passed when a 1d array was expected. Please change the shape of y to (n_samples, ), for example using ravel().\n",
            "\n"
          ]
        },
        {
          "name": "stdout",
          "output_type": "stream",
          "text": [
            "[LightGBM] [Warning] feature_fraction is set=0.63841964220029, colsample_bytree=1.0 will be ignored. Current value: feature_fraction=0.63841964220029\n",
            "[LightGBM] [Warning] feature_fraction is set=0.63841964220029, colsample_bytree=1.0 will be ignored. Current value: feature_fraction=0.63841964220029\n",
            "New AUC Score 0.8565379671165734\n"
          ]
        },
        {
          "name": "stderr",
          "output_type": "stream",
          "text": [
            "/usr/local/lib/python3.7/dist-packages/sklearn/preprocessing/_label.py:235: DataConversionWarning:\n",
            "\n",
            "A column-vector y was passed when a 1d array was expected. Please change the shape of y to (n_samples, ), for example using ravel().\n",
            "\n",
            "/usr/local/lib/python3.7/dist-packages/sklearn/preprocessing/_label.py:268: DataConversionWarning:\n",
            "\n",
            "A column-vector y was passed when a 1d array was expected. Please change the shape of y to (n_samples, ), for example using ravel().\n",
            "\n"
          ]
        },
        {
          "name": "stdout",
          "output_type": "stream",
          "text": [
            "[LightGBM] [Warning] feature_fraction is set=0.63841964220029, colsample_bytree=1.0 will be ignored. Current value: feature_fraction=0.63841964220029\n",
            "[LightGBM] [Warning] feature_fraction is set=0.63841964220029, colsample_bytree=1.0 will be ignored. Current value: feature_fraction=0.63841964220029\n",
            "New AUC Score 0.8570891195351524\n"
          ]
        },
        {
          "name": "stderr",
          "output_type": "stream",
          "text": [
            "/usr/local/lib/python3.7/dist-packages/sklearn/preprocessing/_label.py:235: DataConversionWarning:\n",
            "\n",
            "A column-vector y was passed when a 1d array was expected. Please change the shape of y to (n_samples, ), for example using ravel().\n",
            "\n",
            "/usr/local/lib/python3.7/dist-packages/sklearn/preprocessing/_label.py:268: DataConversionWarning:\n",
            "\n",
            "A column-vector y was passed when a 1d array was expected. Please change the shape of y to (n_samples, ), for example using ravel().\n",
            "\n"
          ]
        },
        {
          "name": "stdout",
          "output_type": "stream",
          "text": [
            "[LightGBM] [Warning] feature_fraction is set=0.63841964220029, colsample_bytree=1.0 will be ignored. Current value: feature_fraction=0.63841964220029\n",
            "[LightGBM] [Warning] feature_fraction is set=0.63841964220029, colsample_bytree=1.0 will be ignored. Current value: feature_fraction=0.63841964220029\n",
            "New AUC Score 0.8572229901611115\n"
          ]
        },
        {
          "name": "stderr",
          "output_type": "stream",
          "text": [
            "/usr/local/lib/python3.7/dist-packages/sklearn/preprocessing/_label.py:235: DataConversionWarning:\n",
            "\n",
            "A column-vector y was passed when a 1d array was expected. Please change the shape of y to (n_samples, ), for example using ravel().\n",
            "\n",
            "/usr/local/lib/python3.7/dist-packages/sklearn/preprocessing/_label.py:268: DataConversionWarning:\n",
            "\n",
            "A column-vector y was passed when a 1d array was expected. Please change the shape of y to (n_samples, ), for example using ravel().\n",
            "\n"
          ]
        },
        {
          "name": "stdout",
          "output_type": "stream",
          "text": [
            "[LightGBM] [Warning] feature_fraction is set=0.63841964220029, colsample_bytree=1.0 will be ignored. Current value: feature_fraction=0.63841964220029\n",
            "[LightGBM] [Warning] feature_fraction is set=0.63841964220029, colsample_bytree=1.0 will be ignored. Current value: feature_fraction=0.63841964220029\n",
            "New AUC Score 0.8569808124332464\n"
          ]
        },
        {
          "name": "stderr",
          "output_type": "stream",
          "text": [
            "/usr/local/lib/python3.7/dist-packages/sklearn/preprocessing/_label.py:235: DataConversionWarning:\n",
            "\n",
            "A column-vector y was passed when a 1d array was expected. Please change the shape of y to (n_samples, ), for example using ravel().\n",
            "\n",
            "/usr/local/lib/python3.7/dist-packages/sklearn/preprocessing/_label.py:268: DataConversionWarning:\n",
            "\n",
            "A column-vector y was passed when a 1d array was expected. Please change the shape of y to (n_samples, ), for example using ravel().\n",
            "\n"
          ]
        },
        {
          "name": "stdout",
          "output_type": "stream",
          "text": [
            "[LightGBM] [Warning] feature_fraction is set=0.63841964220029, colsample_bytree=1.0 will be ignored. Current value: feature_fraction=0.63841964220029\n",
            "[LightGBM] [Warning] feature_fraction is set=0.63841964220029, colsample_bytree=1.0 will be ignored. Current value: feature_fraction=0.63841964220029\n",
            "New AUC Score 0.8569860294381552\n",
            "all scores [0.8565379671165734, 0.8570891195351524, 0.8572229901611115, 0.8569808124332464, 0.8569860294381552]\n",
            "Roc AUC score 0.8572229901611115\n",
            "{'boosting_type': 'gbdt', 'class_weight': None, 'colsample_bytree': 1.0, 'importance_type': 'split', 'learning_rate': 0.012707365414188786, 'max_depth': 10, 'min_child_samples': 48, 'min_child_weight': 0.001, 'min_split_gain': 0.0, 'n_estimators': 7217, 'n_jobs': -1, 'num_leaves': 8, 'objective': 'binary', 'random_state': 42, 'reg_alpha': 14, 'reg_lambda': 16, 'silent': True, 'subsample': 0.5684823881829432, 'subsample_for_bin': 200000, 'subsample_freq': 1, 'metric': 'AUC', 'verbosity': 0, 'device': 'gpu', 'feature_fraction': 0.63841964220029}\n"
          ]
        },
        {
          "name": "stderr",
          "output_type": "stream",
          "text": [
            "\u001b[32m[I 2021-10-03 14:50:51,380]\u001b[0m Trial 38 finished with value: 0.8572229901611115 and parameters: {'boosting_type': 'gbdt', 'subsample': 0.5684823881829432, 'eta': 0.012707365414188786, 'n_estimators': 7217, 'reg_alpha': 14, 'reg_lambda': 16, 'max_depth': 10, 'num_leaves': 8, 'feature_fraction': 0.63841964220029, 'min_child_samples': 48}. Best is trial 36 with value: 0.8592082549290472.\u001b[0m\n"
          ]
        },
        {
          "name": "stdout",
          "output_type": "stream",
          "text": [
            "filename ./models/lgbm_38 best_model_name./models/best_lgbm  best_trial_number 36\n",
            "STARTING Params: {'metric': 'AUC', 'verbosity': 0, 'device': 'gpu', 'boosting_type': 'gbdt', 'subsample': 0.5520818195583405, 'learning_rate': 0.01229040884314254, 'n_estimators': 1196, 'subsample_freq': 1, 'reg_alpha': 18, 'reg_lambda': 15, 'max_depth': 9, 'num_leaves': 10, 'feature_fraction': 0.5813531937530002, 'min_child_samples': 32, 'objective': 'binary'}\n",
            "Param: {'metric': 'AUC', 'verbosity': 0, 'device': 'gpu', 'boosting_type': 'gbdt', 'subsample': 0.5520818195583405, 'learning_rate': 0.01229040884314254, 'n_estimators': 1196, 'subsample_freq': 1, 'reg_alpha': 18, 'reg_lambda': 15, 'max_depth': 9, 'num_leaves': 10, 'feature_fraction': 0.5813531937530002, 'min_child_samples': 32, 'objective': 'binary'}\n"
          ]
        },
        {
          "name": "stderr",
          "output_type": "stream",
          "text": [
            "/usr/local/lib/python3.7/dist-packages/sklearn/preprocessing/_label.py:235: DataConversionWarning:\n",
            "\n",
            "A column-vector y was passed when a 1d array was expected. Please change the shape of y to (n_samples, ), for example using ravel().\n",
            "\n",
            "/usr/local/lib/python3.7/dist-packages/sklearn/preprocessing/_label.py:268: DataConversionWarning:\n",
            "\n",
            "A column-vector y was passed when a 1d array was expected. Please change the shape of y to (n_samples, ), for example using ravel().\n",
            "\n"
          ]
        },
        {
          "name": "stdout",
          "output_type": "stream",
          "text": [
            "[LightGBM] [Warning] feature_fraction is set=0.5813531937530002, colsample_bytree=1.0 will be ignored. Current value: feature_fraction=0.5813531937530002\n",
            "[LightGBM] [Warning] feature_fraction is set=0.5813531937530002, colsample_bytree=1.0 will be ignored. Current value: feature_fraction=0.5813531937530002\n",
            "New AUC Score 0.8489345051624759\n"
          ]
        },
        {
          "name": "stderr",
          "output_type": "stream",
          "text": [
            "/usr/local/lib/python3.7/dist-packages/sklearn/preprocessing/_label.py:235: DataConversionWarning:\n",
            "\n",
            "A column-vector y was passed when a 1d array was expected. Please change the shape of y to (n_samples, ), for example using ravel().\n",
            "\n",
            "/usr/local/lib/python3.7/dist-packages/sklearn/preprocessing/_label.py:268: DataConversionWarning:\n",
            "\n",
            "A column-vector y was passed when a 1d array was expected. Please change the shape of y to (n_samples, ), for example using ravel().\n",
            "\n"
          ]
        },
        {
          "name": "stdout",
          "output_type": "stream",
          "text": [
            "[LightGBM] [Warning] feature_fraction is set=0.5813531937530002, colsample_bytree=1.0 will be ignored. Current value: feature_fraction=0.5813531937530002\n",
            "[LightGBM] [Warning] feature_fraction is set=0.5813531937530002, colsample_bytree=1.0 will be ignored. Current value: feature_fraction=0.5813531937530002\n",
            "New AUC Score 0.8476369089415676\n"
          ]
        },
        {
          "name": "stderr",
          "output_type": "stream",
          "text": [
            "/usr/local/lib/python3.7/dist-packages/sklearn/preprocessing/_label.py:235: DataConversionWarning:\n",
            "\n",
            "A column-vector y was passed when a 1d array was expected. Please change the shape of y to (n_samples, ), for example using ravel().\n",
            "\n",
            "/usr/local/lib/python3.7/dist-packages/sklearn/preprocessing/_label.py:268: DataConversionWarning:\n",
            "\n",
            "A column-vector y was passed when a 1d array was expected. Please change the shape of y to (n_samples, ), for example using ravel().\n",
            "\n"
          ]
        },
        {
          "name": "stdout",
          "output_type": "stream",
          "text": [
            "[LightGBM] [Warning] feature_fraction is set=0.5813531937530002, colsample_bytree=1.0 will be ignored. Current value: feature_fraction=0.5813531937530002\n",
            "[LightGBM] [Warning] feature_fraction is set=0.5813531937530002, colsample_bytree=1.0 will be ignored. Current value: feature_fraction=0.5813531937530002\n",
            "New AUC Score 0.8482159807864164\n"
          ]
        },
        {
          "name": "stderr",
          "output_type": "stream",
          "text": [
            "/usr/local/lib/python3.7/dist-packages/sklearn/preprocessing/_label.py:235: DataConversionWarning:\n",
            "\n",
            "A column-vector y was passed when a 1d array was expected. Please change the shape of y to (n_samples, ), for example using ravel().\n",
            "\n",
            "/usr/local/lib/python3.7/dist-packages/sklearn/preprocessing/_label.py:268: DataConversionWarning:\n",
            "\n",
            "A column-vector y was passed when a 1d array was expected. Please change the shape of y to (n_samples, ), for example using ravel().\n",
            "\n"
          ]
        },
        {
          "name": "stdout",
          "output_type": "stream",
          "text": [
            "[LightGBM] [Warning] feature_fraction is set=0.5813531937530002, colsample_bytree=1.0 will be ignored. Current value: feature_fraction=0.5813531937530002\n",
            "[LightGBM] [Warning] feature_fraction is set=0.5813531937530002, colsample_bytree=1.0 will be ignored. Current value: feature_fraction=0.5813531937530002\n",
            "New AUC Score 0.849620322007761\n"
          ]
        },
        {
          "name": "stderr",
          "output_type": "stream",
          "text": [
            "/usr/local/lib/python3.7/dist-packages/sklearn/preprocessing/_label.py:235: DataConversionWarning:\n",
            "\n",
            "A column-vector y was passed when a 1d array was expected. Please change the shape of y to (n_samples, ), for example using ravel().\n",
            "\n",
            "/usr/local/lib/python3.7/dist-packages/sklearn/preprocessing/_label.py:268: DataConversionWarning:\n",
            "\n",
            "A column-vector y was passed when a 1d array was expected. Please change the shape of y to (n_samples, ), for example using ravel().\n",
            "\n"
          ]
        },
        {
          "name": "stdout",
          "output_type": "stream",
          "text": [
            "[LightGBM] [Warning] feature_fraction is set=0.5813531937530002, colsample_bytree=1.0 will be ignored. Current value: feature_fraction=0.5813531937530002\n",
            "[LightGBM] [Warning] feature_fraction is set=0.5813531937530002, colsample_bytree=1.0 will be ignored. Current value: feature_fraction=0.5813531937530002\n"
          ]
        },
        {
          "name": "stderr",
          "output_type": "stream",
          "text": [
            "\u001b[32m[I 2021-10-03 14:54:11,751]\u001b[0m Trial 39 finished with value: 0.8517909068500642 and parameters: {'boosting_type': 'gbdt', 'subsample': 0.5520818195583405, 'eta': 0.01229040884314254, 'n_estimators': 1196, 'reg_alpha': 18, 'reg_lambda': 15, 'max_depth': 9, 'num_leaves': 10, 'feature_fraction': 0.5813531937530002, 'min_child_samples': 32}. Best is trial 36 with value: 0.8592082549290472.\u001b[0m\n"
          ]
        },
        {
          "name": "stdout",
          "output_type": "stream",
          "text": [
            "New AUC Score 0.8517909068500642\n",
            "all scores [0.8489345051624759, 0.8476369089415676, 0.8482159807864164, 0.849620322007761, 0.8517909068500642]\n",
            "Roc AUC score 0.8517909068500642\n",
            "{'boosting_type': 'gbdt', 'class_weight': None, 'colsample_bytree': 1.0, 'importance_type': 'split', 'learning_rate': 0.01229040884314254, 'max_depth': 9, 'min_child_samples': 32, 'min_child_weight': 0.001, 'min_split_gain': 0.0, 'n_estimators': 1196, 'n_jobs': -1, 'num_leaves': 10, 'objective': 'binary', 'random_state': 42, 'reg_alpha': 18, 'reg_lambda': 15, 'silent': True, 'subsample': 0.5520818195583405, 'subsample_for_bin': 200000, 'subsample_freq': 1, 'metric': 'AUC', 'verbosity': 0, 'device': 'gpu', 'feature_fraction': 0.5813531937530002}\n",
            "filename ./models/lgbm_39 best_model_name./models/best_lgbm  best_trial_number 36\n",
            "STARTING Params: {'metric': 'AUC', 'verbosity': 0, 'device': 'gpu', 'boosting_type': 'gbdt', 'subsample': 0.5598907038646308, 'learning_rate': 0.013024711074715506, 'n_estimators': 5936, 'subsample_freq': 1, 'reg_alpha': 16, 'reg_lambda': 16, 'max_depth': 9, 'num_leaves': 9, 'feature_fraction': 0.5285938046742804, 'min_child_samples': 51, 'objective': 'binary'}\n",
            "Param: {'metric': 'AUC', 'verbosity': 0, 'device': 'gpu', 'boosting_type': 'gbdt', 'subsample': 0.5598907038646308, 'learning_rate': 0.013024711074715506, 'n_estimators': 5936, 'subsample_freq': 1, 'reg_alpha': 16, 'reg_lambda': 16, 'max_depth': 9, 'num_leaves': 9, 'feature_fraction': 0.5285938046742804, 'min_child_samples': 51, 'objective': 'binary'}\n"
          ]
        },
        {
          "name": "stderr",
          "output_type": "stream",
          "text": [
            "/usr/local/lib/python3.7/dist-packages/sklearn/preprocessing/_label.py:235: DataConversionWarning:\n",
            "\n",
            "A column-vector y was passed when a 1d array was expected. Please change the shape of y to (n_samples, ), for example using ravel().\n",
            "\n",
            "/usr/local/lib/python3.7/dist-packages/sklearn/preprocessing/_label.py:268: DataConversionWarning:\n",
            "\n",
            "A column-vector y was passed when a 1d array was expected. Please change the shape of y to (n_samples, ), for example using ravel().\n",
            "\n"
          ]
        },
        {
          "name": "stdout",
          "output_type": "stream",
          "text": [
            "[LightGBM] [Warning] feature_fraction is set=0.5285938046742804, colsample_bytree=1.0 will be ignored. Current value: feature_fraction=0.5285938046742804\n",
            "[LightGBM] [Warning] feature_fraction is set=0.5285938046742804, colsample_bytree=1.0 will be ignored. Current value: feature_fraction=0.5285938046742804\n",
            "New AUC Score 0.856851900211953\n"
          ]
        },
        {
          "name": "stderr",
          "output_type": "stream",
          "text": [
            "/usr/local/lib/python3.7/dist-packages/sklearn/preprocessing/_label.py:235: DataConversionWarning:\n",
            "\n",
            "A column-vector y was passed when a 1d array was expected. Please change the shape of y to (n_samples, ), for example using ravel().\n",
            "\n",
            "/usr/local/lib/python3.7/dist-packages/sklearn/preprocessing/_label.py:268: DataConversionWarning:\n",
            "\n",
            "A column-vector y was passed when a 1d array was expected. Please change the shape of y to (n_samples, ), for example using ravel().\n",
            "\n"
          ]
        },
        {
          "name": "stdout",
          "output_type": "stream",
          "text": [
            "[LightGBM] [Warning] feature_fraction is set=0.5285938046742804, colsample_bytree=1.0 will be ignored. Current value: feature_fraction=0.5285938046742804\n",
            "[LightGBM] [Warning] feature_fraction is set=0.5285938046742804, colsample_bytree=1.0 will be ignored. Current value: feature_fraction=0.5285938046742804\n",
            "New AUC Score 0.8571545294966968\n"
          ]
        },
        {
          "name": "stderr",
          "output_type": "stream",
          "text": [
            "/usr/local/lib/python3.7/dist-packages/sklearn/preprocessing/_label.py:235: DataConversionWarning:\n",
            "\n",
            "A column-vector y was passed when a 1d array was expected. Please change the shape of y to (n_samples, ), for example using ravel().\n",
            "\n",
            "/usr/local/lib/python3.7/dist-packages/sklearn/preprocessing/_label.py:268: DataConversionWarning:\n",
            "\n",
            "A column-vector y was passed when a 1d array was expected. Please change the shape of y to (n_samples, ), for example using ravel().\n",
            "\n"
          ]
        },
        {
          "name": "stdout",
          "output_type": "stream",
          "text": [
            "[LightGBM] [Warning] feature_fraction is set=0.5285938046742804, colsample_bytree=1.0 will be ignored. Current value: feature_fraction=0.5285938046742804\n",
            "[LightGBM] [Warning] feature_fraction is set=0.5285938046742804, colsample_bytree=1.0 will be ignored. Current value: feature_fraction=0.5285938046742804\n",
            "New AUC Score 0.8577074945169816\n"
          ]
        },
        {
          "name": "stderr",
          "output_type": "stream",
          "text": [
            "/usr/local/lib/python3.7/dist-packages/sklearn/preprocessing/_label.py:235: DataConversionWarning:\n",
            "\n",
            "A column-vector y was passed when a 1d array was expected. Please change the shape of y to (n_samples, ), for example using ravel().\n",
            "\n",
            "/usr/local/lib/python3.7/dist-packages/sklearn/preprocessing/_label.py:268: DataConversionWarning:\n",
            "\n",
            "A column-vector y was passed when a 1d array was expected. Please change the shape of y to (n_samples, ), for example using ravel().\n",
            "\n"
          ]
        },
        {
          "name": "stdout",
          "output_type": "stream",
          "text": [
            "[LightGBM] [Warning] feature_fraction is set=0.5285938046742804, colsample_bytree=1.0 will be ignored. Current value: feature_fraction=0.5285938046742804\n",
            "[LightGBM] [Warning] feature_fraction is set=0.5285938046742804, colsample_bytree=1.0 will be ignored. Current value: feature_fraction=0.5285938046742804\n",
            "New AUC Score 0.8565091126894241\n"
          ]
        },
        {
          "name": "stderr",
          "output_type": "stream",
          "text": [
            "/usr/local/lib/python3.7/dist-packages/sklearn/preprocessing/_label.py:235: DataConversionWarning:\n",
            "\n",
            "A column-vector y was passed when a 1d array was expected. Please change the shape of y to (n_samples, ), for example using ravel().\n",
            "\n",
            "/usr/local/lib/python3.7/dist-packages/sklearn/preprocessing/_label.py:268: DataConversionWarning:\n",
            "\n",
            "A column-vector y was passed when a 1d array was expected. Please change the shape of y to (n_samples, ), for example using ravel().\n",
            "\n"
          ]
        },
        {
          "name": "stdout",
          "output_type": "stream",
          "text": [
            "[LightGBM] [Warning] feature_fraction is set=0.5285938046742804, colsample_bytree=1.0 will be ignored. Current value: feature_fraction=0.5285938046742804\n",
            "[LightGBM] [Warning] feature_fraction is set=0.5285938046742804, colsample_bytree=1.0 will be ignored. Current value: feature_fraction=0.5285938046742804\n",
            "New AUC Score 0.8565997882747407\n",
            "all scores [0.856851900211953, 0.8571545294966968, 0.8577074945169816, 0.8565091126894241, 0.8565997882747407]\n",
            "Roc AUC score 0.8577074945169816\n",
            "{'boosting_type': 'gbdt', 'class_weight': None, 'colsample_bytree': 1.0, 'importance_type': 'split', 'learning_rate': 0.013024711074715506, 'max_depth': 9, 'min_child_samples': 51, 'min_child_weight': 0.001, 'min_split_gain': 0.0, 'n_estimators': 5936, 'n_jobs': -1, 'num_leaves': 9, 'objective': 'binary', 'random_state': 42, 'reg_alpha': 16, 'reg_lambda': 16, 'silent': True, 'subsample': 0.5598907038646308, 'subsample_for_bin': 200000, 'subsample_freq': 1, 'metric': 'AUC', 'verbosity': 0, 'device': 'gpu', 'feature_fraction': 0.5285938046742804}\n"
          ]
        },
        {
          "name": "stderr",
          "output_type": "stream",
          "text": [
            "\u001b[32m[I 2021-10-03 15:08:59,685]\u001b[0m Trial 40 finished with value: 0.8577074945169816 and parameters: {'boosting_type': 'gbdt', 'subsample': 0.5598907038646308, 'eta': 0.013024711074715506, 'n_estimators': 5936, 'reg_alpha': 16, 'reg_lambda': 16, 'max_depth': 9, 'num_leaves': 9, 'feature_fraction': 0.5285938046742804, 'min_child_samples': 51}. Best is trial 36 with value: 0.8592082549290472.\u001b[0m\n"
          ]
        },
        {
          "name": "stdout",
          "output_type": "stream",
          "text": [
            "filename ./models/lgbm_40 best_model_name./models/best_lgbm  best_trial_number 36\n",
            "STARTING Params: {'metric': 'AUC', 'verbosity': 0, 'device': 'gpu', 'boosting_type': 'gbdt', 'subsample': 0.567069641476844, 'learning_rate': 0.013720034584338608, 'n_estimators': 8544, 'subsample_freq': 1, 'reg_alpha': 17, 'reg_lambda': 17, 'max_depth': 10, 'num_leaves': 7, 'feature_fraction': 0.6594810179645353, 'min_child_samples': 71, 'objective': 'binary'}\n",
            "Param: {'metric': 'AUC', 'verbosity': 0, 'device': 'gpu', 'boosting_type': 'gbdt', 'subsample': 0.567069641476844, 'learning_rate': 0.013720034584338608, 'n_estimators': 8544, 'subsample_freq': 1, 'reg_alpha': 17, 'reg_lambda': 17, 'max_depth': 10, 'num_leaves': 7, 'feature_fraction': 0.6594810179645353, 'min_child_samples': 71, 'objective': 'binary'}\n"
          ]
        },
        {
          "name": "stderr",
          "output_type": "stream",
          "text": [
            "/usr/local/lib/python3.7/dist-packages/sklearn/preprocessing/_label.py:235: DataConversionWarning:\n",
            "\n",
            "A column-vector y was passed when a 1d array was expected. Please change the shape of y to (n_samples, ), for example using ravel().\n",
            "\n",
            "/usr/local/lib/python3.7/dist-packages/sklearn/preprocessing/_label.py:268: DataConversionWarning:\n",
            "\n",
            "A column-vector y was passed when a 1d array was expected. Please change the shape of y to (n_samples, ), for example using ravel().\n",
            "\n"
          ]
        },
        {
          "name": "stdout",
          "output_type": "stream",
          "text": [
            "[LightGBM] [Warning] feature_fraction is set=0.6594810179645353, colsample_bytree=1.0 will be ignored. Current value: feature_fraction=0.6594810179645353\n",
            "[LightGBM] [Warning] feature_fraction is set=0.6594810179645353, colsample_bytree=1.0 will be ignored. Current value: feature_fraction=0.6594810179645353\n",
            "New AUC Score 0.8567240203916308\n"
          ]
        },
        {
          "name": "stderr",
          "output_type": "stream",
          "text": [
            "/usr/local/lib/python3.7/dist-packages/sklearn/preprocessing/_label.py:235: DataConversionWarning:\n",
            "\n",
            "A column-vector y was passed when a 1d array was expected. Please change the shape of y to (n_samples, ), for example using ravel().\n",
            "\n",
            "/usr/local/lib/python3.7/dist-packages/sklearn/preprocessing/_label.py:268: DataConversionWarning:\n",
            "\n",
            "A column-vector y was passed when a 1d array was expected. Please change the shape of y to (n_samples, ), for example using ravel().\n",
            "\n"
          ]
        },
        {
          "name": "stdout",
          "output_type": "stream",
          "text": [
            "[LightGBM] [Warning] feature_fraction is set=0.6594810179645353, colsample_bytree=1.0 will be ignored. Current value: feature_fraction=0.6594810179645353\n",
            "[LightGBM] [Warning] feature_fraction is set=0.6594810179645353, colsample_bytree=1.0 will be ignored. Current value: feature_fraction=0.6594810179645353\n",
            "New AUC Score 0.8575521171707872\n"
          ]
        },
        {
          "name": "stderr",
          "output_type": "stream",
          "text": [
            "/usr/local/lib/python3.7/dist-packages/sklearn/preprocessing/_label.py:235: DataConversionWarning:\n",
            "\n",
            "A column-vector y was passed when a 1d array was expected. Please change the shape of y to (n_samples, ), for example using ravel().\n",
            "\n",
            "/usr/local/lib/python3.7/dist-packages/sklearn/preprocessing/_label.py:268: DataConversionWarning:\n",
            "\n",
            "A column-vector y was passed when a 1d array was expected. Please change the shape of y to (n_samples, ), for example using ravel().\n",
            "\n"
          ]
        },
        {
          "name": "stdout",
          "output_type": "stream",
          "text": [
            "[LightGBM] [Warning] feature_fraction is set=0.6594810179645353, colsample_bytree=1.0 will be ignored. Current value: feature_fraction=0.6594810179645353\n",
            "[LightGBM] [Warning] feature_fraction is set=0.6594810179645353, colsample_bytree=1.0 will be ignored. Current value: feature_fraction=0.6594810179645353\n",
            "New AUC Score 0.8577341850420946\n"
          ]
        },
        {
          "name": "stderr",
          "output_type": "stream",
          "text": [
            "/usr/local/lib/python3.7/dist-packages/sklearn/preprocessing/_label.py:235: DataConversionWarning:\n",
            "\n",
            "A column-vector y was passed when a 1d array was expected. Please change the shape of y to (n_samples, ), for example using ravel().\n",
            "\n",
            "/usr/local/lib/python3.7/dist-packages/sklearn/preprocessing/_label.py:268: DataConversionWarning:\n",
            "\n",
            "A column-vector y was passed when a 1d array was expected. Please change the shape of y to (n_samples, ), for example using ravel().\n",
            "\n"
          ]
        },
        {
          "name": "stdout",
          "output_type": "stream",
          "text": [
            "[LightGBM] [Warning] feature_fraction is set=0.6594810179645353, colsample_bytree=1.0 will be ignored. Current value: feature_fraction=0.6594810179645353\n",
            "[LightGBM] [Warning] feature_fraction is set=0.6594810179645353, colsample_bytree=1.0 will be ignored. Current value: feature_fraction=0.6594810179645353\n",
            "New AUC Score 0.8569195392755945\n"
          ]
        },
        {
          "name": "stderr",
          "output_type": "stream",
          "text": [
            "/usr/local/lib/python3.7/dist-packages/sklearn/preprocessing/_label.py:235: DataConversionWarning:\n",
            "\n",
            "A column-vector y was passed when a 1d array was expected. Please change the shape of y to (n_samples, ), for example using ravel().\n",
            "\n",
            "/usr/local/lib/python3.7/dist-packages/sklearn/preprocessing/_label.py:268: DataConversionWarning:\n",
            "\n",
            "A column-vector y was passed when a 1d array was expected. Please change the shape of y to (n_samples, ), for example using ravel().\n",
            "\n"
          ]
        },
        {
          "name": "stdout",
          "output_type": "stream",
          "text": [
            "[LightGBM] [Warning] feature_fraction is set=0.6594810179645353, colsample_bytree=1.0 will be ignored. Current value: feature_fraction=0.6594810179645353\n",
            "[LightGBM] [Warning] feature_fraction is set=0.6594810179645353, colsample_bytree=1.0 will be ignored. Current value: feature_fraction=0.6594810179645353\n",
            "New AUC Score 0.8561056289097863\n",
            "all scores [0.8567240203916308, 0.8575521171707872, 0.8577341850420946, 0.8569195392755945, 0.8561056289097863]\n",
            "Roc AUC score 0.8577341850420946\n",
            "{'boosting_type': 'gbdt', 'class_weight': None, 'colsample_bytree': 1.0, 'importance_type': 'split', 'learning_rate': 0.013720034584338608, 'max_depth': 10, 'min_child_samples': 71, 'min_child_weight': 0.001, 'min_split_gain': 0.0, 'n_estimators': 8544, 'n_jobs': -1, 'num_leaves': 7, 'objective': 'binary', 'random_state': 42, 'reg_alpha': 17, 'reg_lambda': 17, 'silent': True, 'subsample': 0.567069641476844, 'subsample_for_bin': 200000, 'subsample_freq': 1, 'metric': 'AUC', 'verbosity': 0, 'device': 'gpu', 'feature_fraction': 0.6594810179645353}\n"
          ]
        },
        {
          "name": "stderr",
          "output_type": "stream",
          "text": [
            "\u001b[32m[I 2021-10-03 15:24:00,972]\u001b[0m Trial 41 finished with value: 0.8577341850420946 and parameters: {'boosting_type': 'gbdt', 'subsample': 0.567069641476844, 'eta': 0.013720034584338608, 'n_estimators': 8544, 'reg_alpha': 17, 'reg_lambda': 17, 'max_depth': 10, 'num_leaves': 7, 'feature_fraction': 0.6594810179645353, 'min_child_samples': 71}. Best is trial 36 with value: 0.8592082549290472.\u001b[0m\n"
          ]
        },
        {
          "name": "stdout",
          "output_type": "stream",
          "text": [
            "filename ./models/lgbm_41 best_model_name./models/best_lgbm  best_trial_number 36\n",
            "STARTING Params: {'metric': 'AUC', 'verbosity': 0, 'device': 'gpu', 'boosting_type': 'gbdt', 'subsample': 0.5416106055049542, 'learning_rate': 0.014586478284397833, 'n_estimators': 7625, 'subsample_freq': 1, 'reg_alpha': 18, 'reg_lambda': 17, 'max_depth': 8, 'num_leaves': 10, 'feature_fraction': 0.6294581571518032, 'min_child_samples': 95, 'objective': 'binary'}\n",
            "Param: {'metric': 'AUC', 'verbosity': 0, 'device': 'gpu', 'boosting_type': 'gbdt', 'subsample': 0.5416106055049542, 'learning_rate': 0.014586478284397833, 'n_estimators': 7625, 'subsample_freq': 1, 'reg_alpha': 18, 'reg_lambda': 17, 'max_depth': 8, 'num_leaves': 10, 'feature_fraction': 0.6294581571518032, 'min_child_samples': 95, 'objective': 'binary'}\n"
          ]
        },
        {
          "name": "stderr",
          "output_type": "stream",
          "text": [
            "/usr/local/lib/python3.7/dist-packages/sklearn/preprocessing/_label.py:235: DataConversionWarning:\n",
            "\n",
            "A column-vector y was passed when a 1d array was expected. Please change the shape of y to (n_samples, ), for example using ravel().\n",
            "\n",
            "/usr/local/lib/python3.7/dist-packages/sklearn/preprocessing/_label.py:268: DataConversionWarning:\n",
            "\n",
            "A column-vector y was passed when a 1d array was expected. Please change the shape of y to (n_samples, ), for example using ravel().\n",
            "\n"
          ]
        },
        {
          "name": "stdout",
          "output_type": "stream",
          "text": [
            "[LightGBM] [Warning] feature_fraction is set=0.6294581571518032, colsample_bytree=1.0 will be ignored. Current value: feature_fraction=0.6294581571518032\n",
            "[LightGBM] [Warning] feature_fraction is set=0.6294581571518032, colsample_bytree=1.0 will be ignored. Current value: feature_fraction=0.6294581571518032\n",
            "New AUC Score 0.8575005774222934\n"
          ]
        },
        {
          "name": "stderr",
          "output_type": "stream",
          "text": [
            "/usr/local/lib/python3.7/dist-packages/sklearn/preprocessing/_label.py:235: DataConversionWarning:\n",
            "\n",
            "A column-vector y was passed when a 1d array was expected. Please change the shape of y to (n_samples, ), for example using ravel().\n",
            "\n",
            "/usr/local/lib/python3.7/dist-packages/sklearn/preprocessing/_label.py:268: DataConversionWarning:\n",
            "\n",
            "A column-vector y was passed when a 1d array was expected. Please change the shape of y to (n_samples, ), for example using ravel().\n",
            "\n"
          ]
        },
        {
          "name": "stdout",
          "output_type": "stream",
          "text": [
            "[LightGBM] [Warning] feature_fraction is set=0.6294581571518032, colsample_bytree=1.0 will be ignored. Current value: feature_fraction=0.6294581571518032\n",
            "[LightGBM] [Warning] feature_fraction is set=0.6294581571518032, colsample_bytree=1.0 will be ignored. Current value: feature_fraction=0.6294581571518032\n",
            "New AUC Score 0.8561639017646151\n"
          ]
        },
        {
          "name": "stderr",
          "output_type": "stream",
          "text": [
            "/usr/local/lib/python3.7/dist-packages/sklearn/preprocessing/_label.py:235: DataConversionWarning:\n",
            "\n",
            "A column-vector y was passed when a 1d array was expected. Please change the shape of y to (n_samples, ), for example using ravel().\n",
            "\n",
            "/usr/local/lib/python3.7/dist-packages/sklearn/preprocessing/_label.py:268: DataConversionWarning:\n",
            "\n",
            "A column-vector y was passed when a 1d array was expected. Please change the shape of y to (n_samples, ), for example using ravel().\n",
            "\n"
          ]
        },
        {
          "name": "stdout",
          "output_type": "stream",
          "text": [
            "[LightGBM] [Warning] feature_fraction is set=0.6294581571518032, colsample_bytree=1.0 will be ignored. Current value: feature_fraction=0.6294581571518032\n",
            "[LightGBM] [Warning] feature_fraction is set=0.6294581571518032, colsample_bytree=1.0 will be ignored. Current value: feature_fraction=0.6294581571518032\n",
            "New AUC Score 0.8568782023367005\n"
          ]
        },
        {
          "name": "stderr",
          "output_type": "stream",
          "text": [
            "/usr/local/lib/python3.7/dist-packages/sklearn/preprocessing/_label.py:235: DataConversionWarning:\n",
            "\n",
            "A column-vector y was passed when a 1d array was expected. Please change the shape of y to (n_samples, ), for example using ravel().\n",
            "\n",
            "/usr/local/lib/python3.7/dist-packages/sklearn/preprocessing/_label.py:268: DataConversionWarning:\n",
            "\n",
            "A column-vector y was passed when a 1d array was expected. Please change the shape of y to (n_samples, ), for example using ravel().\n",
            "\n"
          ]
        },
        {
          "name": "stdout",
          "output_type": "stream",
          "text": [
            "[LightGBM] [Warning] feature_fraction is set=0.6294581571518032, colsample_bytree=1.0 will be ignored. Current value: feature_fraction=0.6294581571518032\n",
            "[LightGBM] [Warning] feature_fraction is set=0.6294581571518032, colsample_bytree=1.0 will be ignored. Current value: feature_fraction=0.6294581571518032\n",
            "New AUC Score 0.8573662144958711\n"
          ]
        },
        {
          "name": "stderr",
          "output_type": "stream",
          "text": [
            "/usr/local/lib/python3.7/dist-packages/sklearn/preprocessing/_label.py:235: DataConversionWarning:\n",
            "\n",
            "A column-vector y was passed when a 1d array was expected. Please change the shape of y to (n_samples, ), for example using ravel().\n",
            "\n",
            "/usr/local/lib/python3.7/dist-packages/sklearn/preprocessing/_label.py:268: DataConversionWarning:\n",
            "\n",
            "A column-vector y was passed when a 1d array was expected. Please change the shape of y to (n_samples, ), for example using ravel().\n",
            "\n"
          ]
        },
        {
          "name": "stdout",
          "output_type": "stream",
          "text": [
            "[LightGBM] [Warning] feature_fraction is set=0.6294581571518032, colsample_bytree=1.0 will be ignored. Current value: feature_fraction=0.6294581571518032\n",
            "[LightGBM] [Warning] feature_fraction is set=0.6294581571518032, colsample_bytree=1.0 will be ignored. Current value: feature_fraction=0.6294581571518032\n",
            "New AUC Score 0.8573961949240798\n",
            "all scores [0.8575005774222934, 0.8561639017646151, 0.8568782023367005, 0.8573662144958711, 0.8573961949240798]\n",
            "Roc AUC score 0.8575005774222934\n",
            "{'boosting_type': 'gbdt', 'class_weight': None, 'colsample_bytree': 1.0, 'importance_type': 'split', 'learning_rate': 0.014586478284397833, 'max_depth': 8, 'min_child_samples': 95, 'min_child_weight': 0.001, 'min_split_gain': 0.0, 'n_estimators': 7625, 'n_jobs': -1, 'num_leaves': 10, 'objective': 'binary', 'random_state': 42, 'reg_alpha': 18, 'reg_lambda': 17, 'silent': True, 'subsample': 0.5416106055049542, 'subsample_for_bin': 200000, 'subsample_freq': 1, 'metric': 'AUC', 'verbosity': 0, 'device': 'gpu', 'feature_fraction': 0.6294581571518032}\n"
          ]
        },
        {
          "name": "stderr",
          "output_type": "stream",
          "text": [
            "\u001b[32m[I 2021-10-03 15:39:37,574]\u001b[0m Trial 42 finished with value: 0.8575005774222934 and parameters: {'boosting_type': 'gbdt', 'subsample': 0.5416106055049542, 'eta': 0.014586478284397833, 'n_estimators': 7625, 'reg_alpha': 18, 'reg_lambda': 17, 'max_depth': 8, 'num_leaves': 10, 'feature_fraction': 0.6294581571518032, 'min_child_samples': 95}. Best is trial 36 with value: 0.8592082549290472.\u001b[0m\n"
          ]
        },
        {
          "name": "stdout",
          "output_type": "stream",
          "text": [
            "filename ./models/lgbm_42 best_model_name./models/best_lgbm  best_trial_number 36\n",
            "STARTING Params: {'metric': 'AUC', 'verbosity': 0, 'device': 'gpu', 'boosting_type': 'gbdt', 'subsample': 0.5362429521279154, 'learning_rate': 0.01334986783021902, 'n_estimators': 6943, 'subsample_freq': 1, 'reg_alpha': 10, 'reg_lambda': 18, 'max_depth': 9, 'num_leaves': 8, 'feature_fraction': 0.6915415525463973, 'min_child_samples': 43, 'objective': 'binary'}\n",
            "Param: {'metric': 'AUC', 'verbosity': 0, 'device': 'gpu', 'boosting_type': 'gbdt', 'subsample': 0.5362429521279154, 'learning_rate': 0.01334986783021902, 'n_estimators': 6943, 'subsample_freq': 1, 'reg_alpha': 10, 'reg_lambda': 18, 'max_depth': 9, 'num_leaves': 8, 'feature_fraction': 0.6915415525463973, 'min_child_samples': 43, 'objective': 'binary'}\n"
          ]
        },
        {
          "name": "stderr",
          "output_type": "stream",
          "text": [
            "/usr/local/lib/python3.7/dist-packages/sklearn/preprocessing/_label.py:235: DataConversionWarning:\n",
            "\n",
            "A column-vector y was passed when a 1d array was expected. Please change the shape of y to (n_samples, ), for example using ravel().\n",
            "\n",
            "/usr/local/lib/python3.7/dist-packages/sklearn/preprocessing/_label.py:268: DataConversionWarning:\n",
            "\n",
            "A column-vector y was passed when a 1d array was expected. Please change the shape of y to (n_samples, ), for example using ravel().\n",
            "\n"
          ]
        },
        {
          "name": "stdout",
          "output_type": "stream",
          "text": [
            "[LightGBM] [Warning] feature_fraction is set=0.6915415525463973, colsample_bytree=1.0 will be ignored. Current value: feature_fraction=0.6915415525463973\n",
            "[LightGBM] [Warning] feature_fraction is set=0.6915415525463973, colsample_bytree=1.0 will be ignored. Current value: feature_fraction=0.6915415525463973\n",
            "New AUC Score 0.8573882572166112\n"
          ]
        },
        {
          "name": "stderr",
          "output_type": "stream",
          "text": [
            "/usr/local/lib/python3.7/dist-packages/sklearn/preprocessing/_label.py:235: DataConversionWarning:\n",
            "\n",
            "A column-vector y was passed when a 1d array was expected. Please change the shape of y to (n_samples, ), for example using ravel().\n",
            "\n",
            "/usr/local/lib/python3.7/dist-packages/sklearn/preprocessing/_label.py:268: DataConversionWarning:\n",
            "\n",
            "A column-vector y was passed when a 1d array was expected. Please change the shape of y to (n_samples, ), for example using ravel().\n",
            "\n"
          ]
        },
        {
          "name": "stdout",
          "output_type": "stream",
          "text": [
            "[LightGBM] [Warning] feature_fraction is set=0.6915415525463973, colsample_bytree=1.0 will be ignored. Current value: feature_fraction=0.6915415525463973\n",
            "[LightGBM] [Warning] feature_fraction is set=0.6915415525463973, colsample_bytree=1.0 will be ignored. Current value: feature_fraction=0.6915415525463973\n",
            "New AUC Score 0.8572604094963192\n"
          ]
        },
        {
          "name": "stderr",
          "output_type": "stream",
          "text": [
            "/usr/local/lib/python3.7/dist-packages/sklearn/preprocessing/_label.py:235: DataConversionWarning:\n",
            "\n",
            "A column-vector y was passed when a 1d array was expected. Please change the shape of y to (n_samples, ), for example using ravel().\n",
            "\n",
            "/usr/local/lib/python3.7/dist-packages/sklearn/preprocessing/_label.py:268: DataConversionWarning:\n",
            "\n",
            "A column-vector y was passed when a 1d array was expected. Please change the shape of y to (n_samples, ), for example using ravel().\n",
            "\n"
          ]
        },
        {
          "name": "stdout",
          "output_type": "stream",
          "text": [
            "[LightGBM] [Warning] feature_fraction is set=0.6915415525463973, colsample_bytree=1.0 will be ignored. Current value: feature_fraction=0.6915415525463973\n",
            "[LightGBM] [Warning] feature_fraction is set=0.6915415525463973, colsample_bytree=1.0 will be ignored. Current value: feature_fraction=0.6915415525463973\n",
            "New AUC Score 0.8559451678588084\n"
          ]
        },
        {
          "name": "stderr",
          "output_type": "stream",
          "text": [
            "/usr/local/lib/python3.7/dist-packages/sklearn/preprocessing/_label.py:235: DataConversionWarning:\n",
            "\n",
            "A column-vector y was passed when a 1d array was expected. Please change the shape of y to (n_samples, ), for example using ravel().\n",
            "\n",
            "/usr/local/lib/python3.7/dist-packages/sklearn/preprocessing/_label.py:268: DataConversionWarning:\n",
            "\n",
            "A column-vector y was passed when a 1d array was expected. Please change the shape of y to (n_samples, ), for example using ravel().\n",
            "\n"
          ]
        },
        {
          "name": "stdout",
          "output_type": "stream",
          "text": [
            "[LightGBM] [Warning] feature_fraction is set=0.6915415525463973, colsample_bytree=1.0 will be ignored. Current value: feature_fraction=0.6915415525463973\n",
            "[LightGBM] [Warning] feature_fraction is set=0.6915415525463973, colsample_bytree=1.0 will be ignored. Current value: feature_fraction=0.6915415525463973\n",
            "New AUC Score 0.8576030595187186\n"
          ]
        },
        {
          "name": "stderr",
          "output_type": "stream",
          "text": [
            "/usr/local/lib/python3.7/dist-packages/sklearn/preprocessing/_label.py:235: DataConversionWarning:\n",
            "\n",
            "A column-vector y was passed when a 1d array was expected. Please change the shape of y to (n_samples, ), for example using ravel().\n",
            "\n",
            "/usr/local/lib/python3.7/dist-packages/sklearn/preprocessing/_label.py:268: DataConversionWarning:\n",
            "\n",
            "A column-vector y was passed when a 1d array was expected. Please change the shape of y to (n_samples, ), for example using ravel().\n",
            "\n"
          ]
        },
        {
          "name": "stdout",
          "output_type": "stream",
          "text": [
            "[LightGBM] [Warning] feature_fraction is set=0.6915415525463973, colsample_bytree=1.0 will be ignored. Current value: feature_fraction=0.6915415525463973\n",
            "[LightGBM] [Warning] feature_fraction is set=0.6915415525463973, colsample_bytree=1.0 will be ignored. Current value: feature_fraction=0.6915415525463973\n",
            "New AUC Score 0.8567094308779035\n",
            "all scores [0.8573882572166112, 0.8572604094963192, 0.8559451678588084, 0.8576030595187186, 0.8567094308779035]\n",
            "Roc AUC score 0.8576030595187186\n",
            "{'boosting_type': 'gbdt', 'class_weight': None, 'colsample_bytree': 1.0, 'importance_type': 'split', 'learning_rate': 0.01334986783021902, 'max_depth': 9, 'min_child_samples': 43, 'min_child_weight': 0.001, 'min_split_gain': 0.0, 'n_estimators': 6943, 'n_jobs': -1, 'num_leaves': 8, 'objective': 'binary', 'random_state': 42, 'reg_alpha': 10, 'reg_lambda': 18, 'silent': True, 'subsample': 0.5362429521279154, 'subsample_for_bin': 200000, 'subsample_freq': 1, 'metric': 'AUC', 'verbosity': 0, 'device': 'gpu', 'feature_fraction': 0.6915415525463973}\n"
          ]
        },
        {
          "name": "stderr",
          "output_type": "stream",
          "text": [
            "\u001b[32m[I 2021-10-03 15:51:43,022]\u001b[0m Trial 43 finished with value: 0.8576030595187186 and parameters: {'boosting_type': 'gbdt', 'subsample': 0.5362429521279154, 'eta': 0.01334986783021902, 'n_estimators': 6943, 'reg_alpha': 10, 'reg_lambda': 18, 'max_depth': 9, 'num_leaves': 8, 'feature_fraction': 0.6915415525463973, 'min_child_samples': 43}. Best is trial 36 with value: 0.8592082549290472.\u001b[0m\n"
          ]
        },
        {
          "name": "stdout",
          "output_type": "stream",
          "text": [
            "filename ./models/lgbm_43 best_model_name./models/best_lgbm  best_trial_number 36\n",
            "STARTING Params: {'metric': 'AUC', 'verbosity': 0, 'device': 'gpu', 'boosting_type': 'gbdt', 'subsample': 0.5609689253831693, 'learning_rate': 0.014434327666301521, 'n_estimators': 9470, 'subsample_freq': 1, 'reg_alpha': 14, 'reg_lambda': 16, 'max_depth': 8, 'num_leaves': 7, 'feature_fraction': 0.4950726471952205, 'min_child_samples': 59, 'objective': 'binary'}\n",
            "Param: {'metric': 'AUC', 'verbosity': 0, 'device': 'gpu', 'boosting_type': 'gbdt', 'subsample': 0.5609689253831693, 'learning_rate': 0.014434327666301521, 'n_estimators': 9470, 'subsample_freq': 1, 'reg_alpha': 14, 'reg_lambda': 16, 'max_depth': 8, 'num_leaves': 7, 'feature_fraction': 0.4950726471952205, 'min_child_samples': 59, 'objective': 'binary'}\n"
          ]
        },
        {
          "name": "stderr",
          "output_type": "stream",
          "text": [
            "/usr/local/lib/python3.7/dist-packages/sklearn/preprocessing/_label.py:235: DataConversionWarning:\n",
            "\n",
            "A column-vector y was passed when a 1d array was expected. Please change the shape of y to (n_samples, ), for example using ravel().\n",
            "\n",
            "/usr/local/lib/python3.7/dist-packages/sklearn/preprocessing/_label.py:268: DataConversionWarning:\n",
            "\n",
            "A column-vector y was passed when a 1d array was expected. Please change the shape of y to (n_samples, ), for example using ravel().\n",
            "\n"
          ]
        },
        {
          "name": "stdout",
          "output_type": "stream",
          "text": [
            "[LightGBM] [Warning] feature_fraction is set=0.4950726471952205, colsample_bytree=1.0 will be ignored. Current value: feature_fraction=0.4950726471952205\n",
            "[LightGBM] [Warning] feature_fraction is set=0.4950726471952205, colsample_bytree=1.0 will be ignored. Current value: feature_fraction=0.4950726471952205\n",
            "New AUC Score 0.8567737663384367\n"
          ]
        },
        {
          "name": "stderr",
          "output_type": "stream",
          "text": [
            "/usr/local/lib/python3.7/dist-packages/sklearn/preprocessing/_label.py:235: DataConversionWarning:\n",
            "\n",
            "A column-vector y was passed when a 1d array was expected. Please change the shape of y to (n_samples, ), for example using ravel().\n",
            "\n",
            "/usr/local/lib/python3.7/dist-packages/sklearn/preprocessing/_label.py:268: DataConversionWarning:\n",
            "\n",
            "A column-vector y was passed when a 1d array was expected. Please change the shape of y to (n_samples, ), for example using ravel().\n",
            "\n"
          ]
        },
        {
          "name": "stdout",
          "output_type": "stream",
          "text": [
            "[LightGBM] [Warning] feature_fraction is set=0.4950726471952205, colsample_bytree=1.0 will be ignored. Current value: feature_fraction=0.4950726471952205\n",
            "[LightGBM] [Warning] feature_fraction is set=0.4950726471952205, colsample_bytree=1.0 will be ignored. Current value: feature_fraction=0.4950726471952205\n",
            "New AUC Score 0.8572831282176954\n"
          ]
        },
        {
          "name": "stderr",
          "output_type": "stream",
          "text": [
            "/usr/local/lib/python3.7/dist-packages/sklearn/preprocessing/_label.py:235: DataConversionWarning:\n",
            "\n",
            "A column-vector y was passed when a 1d array was expected. Please change the shape of y to (n_samples, ), for example using ravel().\n",
            "\n",
            "/usr/local/lib/python3.7/dist-packages/sklearn/preprocessing/_label.py:268: DataConversionWarning:\n",
            "\n",
            "A column-vector y was passed when a 1d array was expected. Please change the shape of y to (n_samples, ), for example using ravel().\n",
            "\n"
          ]
        },
        {
          "name": "stdout",
          "output_type": "stream",
          "text": [
            "[LightGBM] [Warning] feature_fraction is set=0.4950726471952205, colsample_bytree=1.0 will be ignored. Current value: feature_fraction=0.4950726471952205\n",
            "[LightGBM] [Warning] feature_fraction is set=0.4950726471952205, colsample_bytree=1.0 will be ignored. Current value: feature_fraction=0.4950726471952205\n",
            "New AUC Score 0.8571132304578386\n"
          ]
        },
        {
          "name": "stderr",
          "output_type": "stream",
          "text": [
            "/usr/local/lib/python3.7/dist-packages/sklearn/preprocessing/_label.py:235: DataConversionWarning:\n",
            "\n",
            "A column-vector y was passed when a 1d array was expected. Please change the shape of y to (n_samples, ), for example using ravel().\n",
            "\n",
            "/usr/local/lib/python3.7/dist-packages/sklearn/preprocessing/_label.py:268: DataConversionWarning:\n",
            "\n",
            "A column-vector y was passed when a 1d array was expected. Please change the shape of y to (n_samples, ), for example using ravel().\n",
            "\n"
          ]
        },
        {
          "name": "stdout",
          "output_type": "stream",
          "text": [
            "[LightGBM] [Warning] feature_fraction is set=0.4950726471952205, colsample_bytree=1.0 will be ignored. Current value: feature_fraction=0.4950726471952205\n",
            "[LightGBM] [Warning] feature_fraction is set=0.4950726471952205, colsample_bytree=1.0 will be ignored. Current value: feature_fraction=0.4950726471952205\n",
            "New AUC Score 0.8569704068234558\n"
          ]
        },
        {
          "name": "stderr",
          "output_type": "stream",
          "text": [
            "/usr/local/lib/python3.7/dist-packages/sklearn/preprocessing/_label.py:235: DataConversionWarning:\n",
            "\n",
            "A column-vector y was passed when a 1d array was expected. Please change the shape of y to (n_samples, ), for example using ravel().\n",
            "\n",
            "/usr/local/lib/python3.7/dist-packages/sklearn/preprocessing/_label.py:268: DataConversionWarning:\n",
            "\n",
            "A column-vector y was passed when a 1d array was expected. Please change the shape of y to (n_samples, ), for example using ravel().\n",
            "\n"
          ]
        },
        {
          "name": "stdout",
          "output_type": "stream",
          "text": [
            "[LightGBM] [Warning] feature_fraction is set=0.4950726471952205, colsample_bytree=1.0 will be ignored. Current value: feature_fraction=0.4950726471952205\n",
            "[LightGBM] [Warning] feature_fraction is set=0.4950726471952205, colsample_bytree=1.0 will be ignored. Current value: feature_fraction=0.4950726471952205\n",
            "New AUC Score 0.857178891419619\n",
            "all scores [0.8567737663384367, 0.8572831282176954, 0.8571132304578386, 0.8569704068234558, 0.857178891419619]\n",
            "Roc AUC score 0.8572831282176954\n",
            "{'boosting_type': 'gbdt', 'class_weight': None, 'colsample_bytree': 1.0, 'importance_type': 'split', 'learning_rate': 0.014434327666301521, 'max_depth': 8, 'min_child_samples': 59, 'min_child_weight': 0.001, 'min_split_gain': 0.0, 'n_estimators': 9470, 'n_jobs': -1, 'num_leaves': 7, 'objective': 'binary', 'random_state': 42, 'reg_alpha': 14, 'reg_lambda': 16, 'silent': True, 'subsample': 0.5609689253831693, 'subsample_for_bin': 200000, 'subsample_freq': 1, 'metric': 'AUC', 'verbosity': 0, 'device': 'gpu', 'feature_fraction': 0.4950726471952205}\n"
          ]
        },
        {
          "name": "stderr",
          "output_type": "stream",
          "text": [
            "\u001b[32m[I 2021-10-03 16:13:49,899]\u001b[0m Trial 44 finished with value: 0.8572831282176954 and parameters: {'boosting_type': 'gbdt', 'subsample': 0.5609689253831693, 'eta': 0.014434327666301521, 'n_estimators': 9470, 'reg_alpha': 14, 'reg_lambda': 16, 'max_depth': 8, 'num_leaves': 7, 'feature_fraction': 0.4950726471952205, 'min_child_samples': 59}. Best is trial 36 with value: 0.8592082549290472.\u001b[0m\n"
          ]
        },
        {
          "name": "stdout",
          "output_type": "stream",
          "text": [
            "filename ./models/lgbm_44 best_model_name./models/best_lgbm  best_trial_number 36\n",
            "STARTING Params: {'metric': 'AUC', 'verbosity': 0, 'device': 'gpu', 'boosting_type': 'gbdt', 'subsample': 0.5714851037754516, 'learning_rate': 0.012792043837912808, 'n_estimators': 8976, 'subsample_freq': 1, 'reg_alpha': 17, 'reg_lambda': 18, 'max_depth': 6, 'num_leaves': 5, 'feature_fraction': 0.7694039915967423, 'min_child_samples': 85, 'objective': 'binary'}\n",
            "Param: {'metric': 'AUC', 'verbosity': 0, 'device': 'gpu', 'boosting_type': 'gbdt', 'subsample': 0.5714851037754516, 'learning_rate': 0.012792043837912808, 'n_estimators': 8976, 'subsample_freq': 1, 'reg_alpha': 17, 'reg_lambda': 18, 'max_depth': 6, 'num_leaves': 5, 'feature_fraction': 0.7694039915967423, 'min_child_samples': 85, 'objective': 'binary'}\n"
          ]
        },
        {
          "name": "stderr",
          "output_type": "stream",
          "text": [
            "/usr/local/lib/python3.7/dist-packages/sklearn/preprocessing/_label.py:235: DataConversionWarning:\n",
            "\n",
            "A column-vector y was passed when a 1d array was expected. Please change the shape of y to (n_samples, ), for example using ravel().\n",
            "\n",
            "/usr/local/lib/python3.7/dist-packages/sklearn/preprocessing/_label.py:268: DataConversionWarning:\n",
            "\n",
            "A column-vector y was passed when a 1d array was expected. Please change the shape of y to (n_samples, ), for example using ravel().\n",
            "\n"
          ]
        },
        {
          "name": "stdout",
          "output_type": "stream",
          "text": [
            "[LightGBM] [Warning] feature_fraction is set=0.7694039915967423, colsample_bytree=1.0 will be ignored. Current value: feature_fraction=0.7694039915967423\n",
            "[LightGBM] [Warning] feature_fraction is set=0.7694039915967423, colsample_bytree=1.0 will be ignored. Current value: feature_fraction=0.7694039915967423\n",
            "New AUC Score 0.8576491955621282\n"
          ]
        },
        {
          "name": "stderr",
          "output_type": "stream",
          "text": [
            "/usr/local/lib/python3.7/dist-packages/sklearn/preprocessing/_label.py:235: DataConversionWarning:\n",
            "\n",
            "A column-vector y was passed when a 1d array was expected. Please change the shape of y to (n_samples, ), for example using ravel().\n",
            "\n",
            "/usr/local/lib/python3.7/dist-packages/sklearn/preprocessing/_label.py:268: DataConversionWarning:\n",
            "\n",
            "A column-vector y was passed when a 1d array was expected. Please change the shape of y to (n_samples, ), for example using ravel().\n",
            "\n"
          ]
        },
        {
          "name": "stdout",
          "output_type": "stream",
          "text": [
            "[LightGBM] [Warning] feature_fraction is set=0.7694039915967423, colsample_bytree=1.0 will be ignored. Current value: feature_fraction=0.7694039915967423\n",
            "[LightGBM] [Warning] feature_fraction is set=0.7694039915967423, colsample_bytree=1.0 will be ignored. Current value: feature_fraction=0.7694039915967423\n",
            "New AUC Score 0.8574590054831782\n"
          ]
        },
        {
          "name": "stderr",
          "output_type": "stream",
          "text": [
            "/usr/local/lib/python3.7/dist-packages/sklearn/preprocessing/_label.py:235: DataConversionWarning:\n",
            "\n",
            "A column-vector y was passed when a 1d array was expected. Please change the shape of y to (n_samples, ), for example using ravel().\n",
            "\n",
            "/usr/local/lib/python3.7/dist-packages/sklearn/preprocessing/_label.py:268: DataConversionWarning:\n",
            "\n",
            "A column-vector y was passed when a 1d array was expected. Please change the shape of y to (n_samples, ), for example using ravel().\n",
            "\n"
          ]
        },
        {
          "name": "stdout",
          "output_type": "stream",
          "text": [
            "[LightGBM] [Warning] feature_fraction is set=0.7694039915967423, colsample_bytree=1.0 will be ignored. Current value: feature_fraction=0.7694039915967423\n",
            "[LightGBM] [Warning] feature_fraction is set=0.7694039915967423, colsample_bytree=1.0 will be ignored. Current value: feature_fraction=0.7694039915967423\n",
            "New AUC Score 0.8563249547161499\n"
          ]
        },
        {
          "name": "stderr",
          "output_type": "stream",
          "text": [
            "/usr/local/lib/python3.7/dist-packages/sklearn/preprocessing/_label.py:235: DataConversionWarning:\n",
            "\n",
            "A column-vector y was passed when a 1d array was expected. Please change the shape of y to (n_samples, ), for example using ravel().\n",
            "\n",
            "/usr/local/lib/python3.7/dist-packages/sklearn/preprocessing/_label.py:268: DataConversionWarning:\n",
            "\n",
            "A column-vector y was passed when a 1d array was expected. Please change the shape of y to (n_samples, ), for example using ravel().\n",
            "\n"
          ]
        },
        {
          "name": "stdout",
          "output_type": "stream",
          "text": [
            "[LightGBM] [Warning] feature_fraction is set=0.7694039915967423, colsample_bytree=1.0 will be ignored. Current value: feature_fraction=0.7694039915967423\n",
            "[LightGBM] [Warning] feature_fraction is set=0.7694039915967423, colsample_bytree=1.0 will be ignored. Current value: feature_fraction=0.7694039915967423\n",
            "New AUC Score 0.856532279911222\n"
          ]
        },
        {
          "name": "stderr",
          "output_type": "stream",
          "text": [
            "/usr/local/lib/python3.7/dist-packages/sklearn/preprocessing/_label.py:235: DataConversionWarning:\n",
            "\n",
            "A column-vector y was passed when a 1d array was expected. Please change the shape of y to (n_samples, ), for example using ravel().\n",
            "\n",
            "/usr/local/lib/python3.7/dist-packages/sklearn/preprocessing/_label.py:268: DataConversionWarning:\n",
            "\n",
            "A column-vector y was passed when a 1d array was expected. Please change the shape of y to (n_samples, ), for example using ravel().\n",
            "\n"
          ]
        },
        {
          "name": "stdout",
          "output_type": "stream",
          "text": [
            "[LightGBM] [Warning] feature_fraction is set=0.7694039915967423, colsample_bytree=1.0 will be ignored. Current value: feature_fraction=0.7694039915967423\n",
            "[LightGBM] [Warning] feature_fraction is set=0.7694039915967423, colsample_bytree=1.0 will be ignored. Current value: feature_fraction=0.7694039915967423\n",
            "New AUC Score 0.855969563281762\n",
            "all scores [0.8576491955621282, 0.8574590054831782, 0.8563249547161499, 0.856532279911222, 0.855969563281762]\n",
            "Roc AUC score 0.8576491955621282\n",
            "{'boosting_type': 'gbdt', 'class_weight': None, 'colsample_bytree': 1.0, 'importance_type': 'split', 'learning_rate': 0.012792043837912808, 'max_depth': 6, 'min_child_samples': 85, 'min_child_weight': 0.001, 'min_split_gain': 0.0, 'n_estimators': 8976, 'n_jobs': -1, 'num_leaves': 5, 'objective': 'binary', 'random_state': 42, 'reg_alpha': 17, 'reg_lambda': 18, 'silent': True, 'subsample': 0.5714851037754516, 'subsample_for_bin': 200000, 'subsample_freq': 1, 'metric': 'AUC', 'verbosity': 0, 'device': 'gpu', 'feature_fraction': 0.7694039915967423}\n"
          ]
        },
        {
          "name": "stderr",
          "output_type": "stream",
          "text": [
            "\u001b[32m[I 2021-10-03 16:26:00,767]\u001b[0m Trial 45 finished with value: 0.8576491955621282 and parameters: {'boosting_type': 'gbdt', 'subsample': 0.5714851037754516, 'eta': 0.012792043837912808, 'n_estimators': 8976, 'reg_alpha': 17, 'reg_lambda': 18, 'max_depth': 6, 'num_leaves': 5, 'feature_fraction': 0.7694039915967423, 'min_child_samples': 85}. Best is trial 36 with value: 0.8592082549290472.\u001b[0m\n"
          ]
        },
        {
          "name": "stdout",
          "output_type": "stream",
          "text": [
            "filename ./models/lgbm_45 best_model_name./models/best_lgbm  best_trial_number 36\n",
            "STARTING Params: {'metric': 'AUC', 'verbosity': 0, 'device': 'gpu', 'boosting_type': 'gbdt', 'subsample': 0.5787765536165163, 'learning_rate': 0.013505238653958756, 'n_estimators': 8471, 'subsample_freq': 1, 'reg_alpha': 18, 'reg_lambda': 17, 'max_depth': 7, 'num_leaves': 8, 'feature_fraction': 0.800437108814948, 'min_child_samples': 36, 'objective': 'binary'}\n",
            "Param: {'metric': 'AUC', 'verbosity': 0, 'device': 'gpu', 'boosting_type': 'gbdt', 'subsample': 0.5787765536165163, 'learning_rate': 0.013505238653958756, 'n_estimators': 8471, 'subsample_freq': 1, 'reg_alpha': 18, 'reg_lambda': 17, 'max_depth': 7, 'num_leaves': 8, 'feature_fraction': 0.800437108814948, 'min_child_samples': 36, 'objective': 'binary'}\n"
          ]
        },
        {
          "name": "stderr",
          "output_type": "stream",
          "text": [
            "/usr/local/lib/python3.7/dist-packages/sklearn/preprocessing/_label.py:235: DataConversionWarning:\n",
            "\n",
            "A column-vector y was passed when a 1d array was expected. Please change the shape of y to (n_samples, ), for example using ravel().\n",
            "\n",
            "/usr/local/lib/python3.7/dist-packages/sklearn/preprocessing/_label.py:268: DataConversionWarning:\n",
            "\n",
            "A column-vector y was passed when a 1d array was expected. Please change the shape of y to (n_samples, ), for example using ravel().\n",
            "\n"
          ]
        },
        {
          "name": "stdout",
          "output_type": "stream",
          "text": [
            "[LightGBM] [Warning] feature_fraction is set=0.800437108814948, colsample_bytree=1.0 will be ignored. Current value: feature_fraction=0.800437108814948\n",
            "[LightGBM] [Warning] feature_fraction is set=0.800437108814948, colsample_bytree=1.0 will be ignored. Current value: feature_fraction=0.800437108814948\n",
            "New AUC Score 0.8571991459386763\n"
          ]
        },
        {
          "name": "stderr",
          "output_type": "stream",
          "text": [
            "/usr/local/lib/python3.7/dist-packages/sklearn/preprocessing/_label.py:235: DataConversionWarning:\n",
            "\n",
            "A column-vector y was passed when a 1d array was expected. Please change the shape of y to (n_samples, ), for example using ravel().\n",
            "\n",
            "/usr/local/lib/python3.7/dist-packages/sklearn/preprocessing/_label.py:268: DataConversionWarning:\n",
            "\n",
            "A column-vector y was passed when a 1d array was expected. Please change the shape of y to (n_samples, ), for example using ravel().\n",
            "\n"
          ]
        },
        {
          "name": "stdout",
          "output_type": "stream",
          "text": [
            "[LightGBM] [Warning] feature_fraction is set=0.800437108814948, colsample_bytree=1.0 will be ignored. Current value: feature_fraction=0.800437108814948\n",
            "[LightGBM] [Warning] feature_fraction is set=0.800437108814948, colsample_bytree=1.0 will be ignored. Current value: feature_fraction=0.800437108814948\n",
            "New AUC Score 0.8573715000008444\n"
          ]
        },
        {
          "name": "stderr",
          "output_type": "stream",
          "text": [
            "/usr/local/lib/python3.7/dist-packages/sklearn/preprocessing/_label.py:235: DataConversionWarning:\n",
            "\n",
            "A column-vector y was passed when a 1d array was expected. Please change the shape of y to (n_samples, ), for example using ravel().\n",
            "\n",
            "/usr/local/lib/python3.7/dist-packages/sklearn/preprocessing/_label.py:268: DataConversionWarning:\n",
            "\n",
            "A column-vector y was passed when a 1d array was expected. Please change the shape of y to (n_samples, ), for example using ravel().\n",
            "\n"
          ]
        },
        {
          "name": "stdout",
          "output_type": "stream",
          "text": [
            "[LightGBM] [Warning] feature_fraction is set=0.800437108814948, colsample_bytree=1.0 will be ignored. Current value: feature_fraction=0.800437108814948\n",
            "[LightGBM] [Warning] feature_fraction is set=0.800437108814948, colsample_bytree=1.0 will be ignored. Current value: feature_fraction=0.800437108814948\n",
            "New AUC Score 0.8561037406080094\n"
          ]
        },
        {
          "name": "stderr",
          "output_type": "stream",
          "text": [
            "/usr/local/lib/python3.7/dist-packages/sklearn/preprocessing/_label.py:235: DataConversionWarning:\n",
            "\n",
            "A column-vector y was passed when a 1d array was expected. Please change the shape of y to (n_samples, ), for example using ravel().\n",
            "\n",
            "/usr/local/lib/python3.7/dist-packages/sklearn/preprocessing/_label.py:268: DataConversionWarning:\n",
            "\n",
            "A column-vector y was passed when a 1d array was expected. Please change the shape of y to (n_samples, ), for example using ravel().\n",
            "\n"
          ]
        },
        {
          "name": "stdout",
          "output_type": "stream",
          "text": [
            "[LightGBM] [Warning] feature_fraction is set=0.800437108814948, colsample_bytree=1.0 will be ignored. Current value: feature_fraction=0.800437108814948\n",
            "[LightGBM] [Warning] feature_fraction is set=0.800437108814948, colsample_bytree=1.0 will be ignored. Current value: feature_fraction=0.800437108814948\n",
            "New AUC Score 0.8572962622300531\n"
          ]
        },
        {
          "name": "stderr",
          "output_type": "stream",
          "text": [
            "/usr/local/lib/python3.7/dist-packages/sklearn/preprocessing/_label.py:235: DataConversionWarning:\n",
            "\n",
            "A column-vector y was passed when a 1d array was expected. Please change the shape of y to (n_samples, ), for example using ravel().\n",
            "\n",
            "/usr/local/lib/python3.7/dist-packages/sklearn/preprocessing/_label.py:268: DataConversionWarning:\n",
            "\n",
            "A column-vector y was passed when a 1d array was expected. Please change the shape of y to (n_samples, ), for example using ravel().\n",
            "\n"
          ]
        },
        {
          "name": "stdout",
          "output_type": "stream",
          "text": [
            "[LightGBM] [Warning] feature_fraction is set=0.800437108814948, colsample_bytree=1.0 will be ignored. Current value: feature_fraction=0.800437108814948\n",
            "[LightGBM] [Warning] feature_fraction is set=0.800437108814948, colsample_bytree=1.0 will be ignored. Current value: feature_fraction=0.800437108814948\n",
            "New AUC Score 0.8572348930723109\n",
            "all scores [0.8571991459386763, 0.8573715000008444, 0.8561037406080094, 0.8572962622300531, 0.8572348930723109]\n",
            "Roc AUC score 0.8573715000008444\n",
            "{'boosting_type': 'gbdt', 'class_weight': None, 'colsample_bytree': 1.0, 'importance_type': 'split', 'learning_rate': 0.013505238653958756, 'max_depth': 7, 'min_child_samples': 36, 'min_child_weight': 0.001, 'min_split_gain': 0.0, 'n_estimators': 8471, 'n_jobs': -1, 'num_leaves': 8, 'objective': 'binary', 'random_state': 42, 'reg_alpha': 18, 'reg_lambda': 17, 'silent': True, 'subsample': 0.5787765536165163, 'subsample_for_bin': 200000, 'subsample_freq': 1, 'metric': 'AUC', 'verbosity': 0, 'device': 'gpu', 'feature_fraction': 0.800437108814948}\n"
          ]
        },
        {
          "name": "stderr",
          "output_type": "stream",
          "text": [
            "\u001b[32m[I 2021-10-03 16:39:32,430]\u001b[0m Trial 46 finished with value: 0.8573715000008444 and parameters: {'boosting_type': 'gbdt', 'subsample': 0.5787765536165163, 'eta': 0.013505238653958756, 'n_estimators': 8471, 'reg_alpha': 18, 'reg_lambda': 17, 'max_depth': 7, 'num_leaves': 8, 'feature_fraction': 0.800437108814948, 'min_child_samples': 36}. Best is trial 36 with value: 0.8592082549290472.\u001b[0m\n"
          ]
        },
        {
          "name": "stdout",
          "output_type": "stream",
          "text": [
            "filename ./models/lgbm_46 best_model_name./models/best_lgbm  best_trial_number 36\n",
            "STARTING Params: {'metric': 'AUC', 'verbosity': 0, 'device': 'gpu', 'boosting_type': 'gbdt', 'subsample': 0.546085275169453, 'learning_rate': 0.012263890733600132, 'n_estimators': 5280, 'subsample_freq': 1, 'reg_alpha': 16, 'reg_lambda': 19, 'max_depth': 9, 'num_leaves': 4, 'feature_fraction': 0.5352238681482697, 'min_child_samples': 89, 'objective': 'binary'}\n",
            "Param: {'metric': 'AUC', 'verbosity': 0, 'device': 'gpu', 'boosting_type': 'gbdt', 'subsample': 0.546085275169453, 'learning_rate': 0.012263890733600132, 'n_estimators': 5280, 'subsample_freq': 1, 'reg_alpha': 16, 'reg_lambda': 19, 'max_depth': 9, 'num_leaves': 4, 'feature_fraction': 0.5352238681482697, 'min_child_samples': 89, 'objective': 'binary'}\n"
          ]
        },
        {
          "name": "stderr",
          "output_type": "stream",
          "text": [
            "/usr/local/lib/python3.7/dist-packages/sklearn/preprocessing/_label.py:235: DataConversionWarning:\n",
            "\n",
            "A column-vector y was passed when a 1d array was expected. Please change the shape of y to (n_samples, ), for example using ravel().\n",
            "\n",
            "/usr/local/lib/python3.7/dist-packages/sklearn/preprocessing/_label.py:268: DataConversionWarning:\n",
            "\n",
            "A column-vector y was passed when a 1d array was expected. Please change the shape of y to (n_samples, ), for example using ravel().\n",
            "\n"
          ]
        },
        {
          "name": "stdout",
          "output_type": "stream",
          "text": [
            "[LightGBM] [Warning] feature_fraction is set=0.5352238681482697, colsample_bytree=1.0 will be ignored. Current value: feature_fraction=0.5352238681482697\n",
            "[LightGBM] [Warning] feature_fraction is set=0.5352238681482697, colsample_bytree=1.0 will be ignored. Current value: feature_fraction=0.5352238681482697\n",
            "New AUC Score 0.8548062952872433\n"
          ]
        },
        {
          "name": "stderr",
          "output_type": "stream",
          "text": [
            "/usr/local/lib/python3.7/dist-packages/sklearn/preprocessing/_label.py:235: DataConversionWarning:\n",
            "\n",
            "A column-vector y was passed when a 1d array was expected. Please change the shape of y to (n_samples, ), for example using ravel().\n",
            "\n",
            "/usr/local/lib/python3.7/dist-packages/sklearn/preprocessing/_label.py:268: DataConversionWarning:\n",
            "\n",
            "A column-vector y was passed when a 1d array was expected. Please change the shape of y to (n_samples, ), for example using ravel().\n",
            "\n"
          ]
        },
        {
          "name": "stdout",
          "output_type": "stream",
          "text": [
            "[LightGBM] [Warning] feature_fraction is set=0.5352238681482697, colsample_bytree=1.0 will be ignored. Current value: feature_fraction=0.5352238681482697\n",
            "[LightGBM] [Warning] feature_fraction is set=0.5352238681482697, colsample_bytree=1.0 will be ignored. Current value: feature_fraction=0.5352238681482697\n",
            "New AUC Score 0.8542756538879628\n"
          ]
        },
        {
          "name": "stderr",
          "output_type": "stream",
          "text": [
            "/usr/local/lib/python3.7/dist-packages/sklearn/preprocessing/_label.py:235: DataConversionWarning:\n",
            "\n",
            "A column-vector y was passed when a 1d array was expected. Please change the shape of y to (n_samples, ), for example using ravel().\n",
            "\n",
            "/usr/local/lib/python3.7/dist-packages/sklearn/preprocessing/_label.py:268: DataConversionWarning:\n",
            "\n",
            "A column-vector y was passed when a 1d array was expected. Please change the shape of y to (n_samples, ), for example using ravel().\n",
            "\n"
          ]
        },
        {
          "name": "stdout",
          "output_type": "stream",
          "text": [
            "[LightGBM] [Warning] feature_fraction is set=0.5352238681482697, colsample_bytree=1.0 will be ignored. Current value: feature_fraction=0.5352238681482697\n",
            "[LightGBM] [Warning] feature_fraction is set=0.5352238681482697, colsample_bytree=1.0 will be ignored. Current value: feature_fraction=0.5352238681482697\n",
            "New AUC Score 0.855448985991951\n"
          ]
        },
        {
          "name": "stderr",
          "output_type": "stream",
          "text": [
            "/usr/local/lib/python3.7/dist-packages/sklearn/preprocessing/_label.py:235: DataConversionWarning:\n",
            "\n",
            "A column-vector y was passed when a 1d array was expected. Please change the shape of y to (n_samples, ), for example using ravel().\n",
            "\n",
            "/usr/local/lib/python3.7/dist-packages/sklearn/preprocessing/_label.py:268: DataConversionWarning:\n",
            "\n",
            "A column-vector y was passed when a 1d array was expected. Please change the shape of y to (n_samples, ), for example using ravel().\n",
            "\n"
          ]
        },
        {
          "name": "stdout",
          "output_type": "stream",
          "text": [
            "[LightGBM] [Warning] feature_fraction is set=0.5352238681482697, colsample_bytree=1.0 will be ignored. Current value: feature_fraction=0.5352238681482697\n",
            "[LightGBM] [Warning] feature_fraction is set=0.5352238681482697, colsample_bytree=1.0 will be ignored. Current value: feature_fraction=0.5352238681482697\n",
            "New AUC Score 0.8535916764444084\n"
          ]
        },
        {
          "name": "stderr",
          "output_type": "stream",
          "text": [
            "/usr/local/lib/python3.7/dist-packages/sklearn/preprocessing/_label.py:235: DataConversionWarning:\n",
            "\n",
            "A column-vector y was passed when a 1d array was expected. Please change the shape of y to (n_samples, ), for example using ravel().\n",
            "\n",
            "/usr/local/lib/python3.7/dist-packages/sklearn/preprocessing/_label.py:268: DataConversionWarning:\n",
            "\n",
            "A column-vector y was passed when a 1d array was expected. Please change the shape of y to (n_samples, ), for example using ravel().\n",
            "\n"
          ]
        },
        {
          "name": "stdout",
          "output_type": "stream",
          "text": [
            "[LightGBM] [Warning] feature_fraction is set=0.5352238681482697, colsample_bytree=1.0 will be ignored. Current value: feature_fraction=0.5352238681482697\n",
            "[LightGBM] [Warning] feature_fraction is set=0.5352238681482697, colsample_bytree=1.0 will be ignored. Current value: feature_fraction=0.5352238681482697\n"
          ]
        },
        {
          "name": "stderr",
          "output_type": "stream",
          "text": [
            "\u001b[32m[I 2021-10-03 16:50:26,140]\u001b[0m Trial 47 finished with value: 0.8558764232941267 and parameters: {'boosting_type': 'gbdt', 'subsample': 0.546085275169453, 'eta': 0.012263890733600132, 'n_estimators': 5280, 'reg_alpha': 16, 'reg_lambda': 19, 'max_depth': 9, 'num_leaves': 4, 'feature_fraction': 0.5352238681482697, 'min_child_samples': 89}. Best is trial 36 with value: 0.8592082549290472.\u001b[0m\n"
          ]
        },
        {
          "name": "stdout",
          "output_type": "stream",
          "text": [
            "New AUC Score 0.8558764232941267\n",
            "all scores [0.8548062952872433, 0.8542756538879628, 0.855448985991951, 0.8535916764444084, 0.8558764232941267]\n",
            "Roc AUC score 0.8558764232941267\n",
            "{'boosting_type': 'gbdt', 'class_weight': None, 'colsample_bytree': 1.0, 'importance_type': 'split', 'learning_rate': 0.012263890733600132, 'max_depth': 9, 'min_child_samples': 89, 'min_child_weight': 0.001, 'min_split_gain': 0.0, 'n_estimators': 5280, 'n_jobs': -1, 'num_leaves': 4, 'objective': 'binary', 'random_state': 42, 'reg_alpha': 16, 'reg_lambda': 19, 'silent': True, 'subsample': 0.546085275169453, 'subsample_for_bin': 200000, 'subsample_freq': 1, 'metric': 'AUC', 'verbosity': 0, 'device': 'gpu', 'feature_fraction': 0.5352238681482697}\n",
            "filename ./models/lgbm_47 best_model_name./models/best_lgbm  best_trial_number 36\n",
            "STARTING Params: {'metric': 'AUC', 'verbosity': 0, 'device': 'gpu', 'boosting_type': 'gbdt', 'subsample': 0.5547321163860348, 'learning_rate': 0.01106439696110251, 'n_estimators': 9641, 'subsample_freq': 1, 'reg_alpha': 20, 'reg_lambda': 15, 'max_depth': 8, 'num_leaves': 3, 'feature_fraction': 0.7356195954562049, 'min_child_samples': 23, 'objective': 'binary'}\n",
            "Param: {'metric': 'AUC', 'verbosity': 0, 'device': 'gpu', 'boosting_type': 'gbdt', 'subsample': 0.5547321163860348, 'learning_rate': 0.01106439696110251, 'n_estimators': 9641, 'subsample_freq': 1, 'reg_alpha': 20, 'reg_lambda': 15, 'max_depth': 8, 'num_leaves': 3, 'feature_fraction': 0.7356195954562049, 'min_child_samples': 23, 'objective': 'binary'}\n"
          ]
        },
        {
          "name": "stderr",
          "output_type": "stream",
          "text": [
            "/usr/local/lib/python3.7/dist-packages/sklearn/preprocessing/_label.py:235: DataConversionWarning:\n",
            "\n",
            "A column-vector y was passed when a 1d array was expected. Please change the shape of y to (n_samples, ), for example using ravel().\n",
            "\n",
            "/usr/local/lib/python3.7/dist-packages/sklearn/preprocessing/_label.py:268: DataConversionWarning:\n",
            "\n",
            "A column-vector y was passed when a 1d array was expected. Please change the shape of y to (n_samples, ), for example using ravel().\n",
            "\n"
          ]
        },
        {
          "name": "stdout",
          "output_type": "stream",
          "text": [
            "[LightGBM] [Warning] feature_fraction is set=0.7356195954562049, colsample_bytree=1.0 will be ignored. Current value: feature_fraction=0.7356195954562049\n",
            "[LightGBM] [Warning] feature_fraction is set=0.7356195954562049, colsample_bytree=1.0 will be ignored. Current value: feature_fraction=0.7356195954562049\n",
            "New AUC Score 0.8549275700013507\n"
          ]
        },
        {
          "name": "stderr",
          "output_type": "stream",
          "text": [
            "/usr/local/lib/python3.7/dist-packages/sklearn/preprocessing/_label.py:235: DataConversionWarning:\n",
            "\n",
            "A column-vector y was passed when a 1d array was expected. Please change the shape of y to (n_samples, ), for example using ravel().\n",
            "\n",
            "/usr/local/lib/python3.7/dist-packages/sklearn/preprocessing/_label.py:268: DataConversionWarning:\n",
            "\n",
            "A column-vector y was passed when a 1d array was expected. Please change the shape of y to (n_samples, ), for example using ravel().\n",
            "\n"
          ]
        },
        {
          "name": "stdout",
          "output_type": "stream",
          "text": [
            "[LightGBM] [Warning] feature_fraction is set=0.7356195954562049, colsample_bytree=1.0 will be ignored. Current value: feature_fraction=0.7356195954562049\n",
            "[LightGBM] [Warning] feature_fraction is set=0.7356195954562049, colsample_bytree=1.0 will be ignored. Current value: feature_fraction=0.7356195954562049\n",
            "New AUC Score 0.8554829192238788\n"
          ]
        },
        {
          "name": "stderr",
          "output_type": "stream",
          "text": [
            "/usr/local/lib/python3.7/dist-packages/sklearn/preprocessing/_label.py:235: DataConversionWarning:\n",
            "\n",
            "A column-vector y was passed when a 1d array was expected. Please change the shape of y to (n_samples, ), for example using ravel().\n",
            "\n",
            "/usr/local/lib/python3.7/dist-packages/sklearn/preprocessing/_label.py:268: DataConversionWarning:\n",
            "\n",
            "A column-vector y was passed when a 1d array was expected. Please change the shape of y to (n_samples, ), for example using ravel().\n",
            "\n"
          ]
        },
        {
          "name": "stdout",
          "output_type": "stream",
          "text": [
            "[LightGBM] [Warning] feature_fraction is set=0.7356195954562049, colsample_bytree=1.0 will be ignored. Current value: feature_fraction=0.7356195954562049\n",
            "[LightGBM] [Warning] feature_fraction is set=0.7356195954562049, colsample_bytree=1.0 will be ignored. Current value: feature_fraction=0.7356195954562049\n",
            "New AUC Score 0.855398178244146\n"
          ]
        },
        {
          "name": "stderr",
          "output_type": "stream",
          "text": [
            "/usr/local/lib/python3.7/dist-packages/sklearn/preprocessing/_label.py:235: DataConversionWarning:\n",
            "\n",
            "A column-vector y was passed when a 1d array was expected. Please change the shape of y to (n_samples, ), for example using ravel().\n",
            "\n",
            "/usr/local/lib/python3.7/dist-packages/sklearn/preprocessing/_label.py:268: DataConversionWarning:\n",
            "\n",
            "A column-vector y was passed when a 1d array was expected. Please change the shape of y to (n_samples, ), for example using ravel().\n",
            "\n"
          ]
        },
        {
          "name": "stdout",
          "output_type": "stream",
          "text": [
            "[LightGBM] [Warning] feature_fraction is set=0.7356195954562049, colsample_bytree=1.0 will be ignored. Current value: feature_fraction=0.7356195954562049\n",
            "[LightGBM] [Warning] feature_fraction is set=0.7356195954562049, colsample_bytree=1.0 will be ignored. Current value: feature_fraction=0.7356195954562049\n",
            "New AUC Score 0.8555077604472517\n"
          ]
        },
        {
          "name": "stderr",
          "output_type": "stream",
          "text": [
            "/usr/local/lib/python3.7/dist-packages/sklearn/preprocessing/_label.py:235: DataConversionWarning:\n",
            "\n",
            "A column-vector y was passed when a 1d array was expected. Please change the shape of y to (n_samples, ), for example using ravel().\n",
            "\n",
            "/usr/local/lib/python3.7/dist-packages/sklearn/preprocessing/_label.py:268: DataConversionWarning:\n",
            "\n",
            "A column-vector y was passed when a 1d array was expected. Please change the shape of y to (n_samples, ), for example using ravel().\n",
            "\n"
          ]
        },
        {
          "name": "stdout",
          "output_type": "stream",
          "text": [
            "[LightGBM] [Warning] feature_fraction is set=0.7356195954562049, colsample_bytree=1.0 will be ignored. Current value: feature_fraction=0.7356195954562049\n",
            "[LightGBM] [Warning] feature_fraction is set=0.7356195954562049, colsample_bytree=1.0 will be ignored. Current value: feature_fraction=0.7356195954562049\n",
            "New AUC Score 0.8555426093800411\n",
            "all scores [0.8549275700013507, 0.8554829192238788, 0.855398178244146, 0.8555077604472517, 0.8555426093800411]\n",
            "Roc AUC score 0.8555426093800411\n",
            "{'boosting_type': 'gbdt', 'class_weight': None, 'colsample_bytree': 1.0, 'importance_type': 'split', 'learning_rate': 0.01106439696110251, 'max_depth': 8, 'min_child_samples': 23, 'min_child_weight': 0.001, 'min_split_gain': 0.0, 'n_estimators': 9641, 'n_jobs': -1, 'num_leaves': 3, 'objective': 'binary', 'random_state': 42, 'reg_alpha': 20, 'reg_lambda': 15, 'silent': True, 'subsample': 0.5547321163860348, 'subsample_for_bin': 200000, 'subsample_freq': 1, 'metric': 'AUC', 'verbosity': 0, 'device': 'gpu', 'feature_fraction': 0.7356195954562049}\n"
          ]
        },
        {
          "name": "stderr",
          "output_type": "stream",
          "text": [
            "\u001b[32m[I 2021-10-03 17:01:25,729]\u001b[0m Trial 48 finished with value: 0.8555426093800411 and parameters: {'boosting_type': 'gbdt', 'subsample': 0.5547321163860348, 'eta': 0.01106439696110251, 'n_estimators': 9641, 'reg_alpha': 20, 'reg_lambda': 15, 'max_depth': 8, 'num_leaves': 3, 'feature_fraction': 0.7356195954562049, 'min_child_samples': 23}. Best is trial 36 with value: 0.8592082549290472.\u001b[0m\n"
          ]
        },
        {
          "name": "stdout",
          "output_type": "stream",
          "text": [
            "filename ./models/lgbm_48 best_model_name./models/best_lgbm  best_trial_number 36\n",
            "STARTING Params: {'metric': 'AUC', 'verbosity': 0, 'device': 'gpu', 'boosting_type': 'gbdt', 'subsample': 0.5295971108508316, 'learning_rate': 0.008843422563764223, 'n_estimators': 8242, 'subsample_freq': 1, 'reg_alpha': 17, 'reg_lambda': 17, 'max_depth': 10, 'num_leaves': 9, 'feature_fraction': 0.8587393673663257, 'min_child_samples': 97, 'objective': 'binary'}\n",
            "Param: {'metric': 'AUC', 'verbosity': 0, 'device': 'gpu', 'boosting_type': 'gbdt', 'subsample': 0.5295971108508316, 'learning_rate': 0.008843422563764223, 'n_estimators': 8242, 'subsample_freq': 1, 'reg_alpha': 17, 'reg_lambda': 17, 'max_depth': 10, 'num_leaves': 9, 'feature_fraction': 0.8587393673663257, 'min_child_samples': 97, 'objective': 'binary'}\n"
          ]
        },
        {
          "name": "stderr",
          "output_type": "stream",
          "text": [
            "/usr/local/lib/python3.7/dist-packages/sklearn/preprocessing/_label.py:235: DataConversionWarning:\n",
            "\n",
            "A column-vector y was passed when a 1d array was expected. Please change the shape of y to (n_samples, ), for example using ravel().\n",
            "\n",
            "/usr/local/lib/python3.7/dist-packages/sklearn/preprocessing/_label.py:268: DataConversionWarning:\n",
            "\n",
            "A column-vector y was passed when a 1d array was expected. Please change the shape of y to (n_samples, ), for example using ravel().\n",
            "\n"
          ]
        },
        {
          "name": "stdout",
          "output_type": "stream",
          "text": [
            "[LightGBM] [Warning] feature_fraction is set=0.8587393673663257, colsample_bytree=1.0 will be ignored. Current value: feature_fraction=0.8587393673663257\n",
            "[LightGBM] [Warning] feature_fraction is set=0.8587393673663257, colsample_bytree=1.0 will be ignored. Current value: feature_fraction=0.8587393673663257\n",
            "New AUC Score 0.8565054046859353\n"
          ]
        },
        {
          "name": "stderr",
          "output_type": "stream",
          "text": [
            "/usr/local/lib/python3.7/dist-packages/sklearn/preprocessing/_label.py:235: DataConversionWarning:\n",
            "\n",
            "A column-vector y was passed when a 1d array was expected. Please change the shape of y to (n_samples, ), for example using ravel().\n",
            "\n",
            "/usr/local/lib/python3.7/dist-packages/sklearn/preprocessing/_label.py:268: DataConversionWarning:\n",
            "\n",
            "A column-vector y was passed when a 1d array was expected. Please change the shape of y to (n_samples, ), for example using ravel().\n",
            "\n"
          ]
        },
        {
          "name": "stdout",
          "output_type": "stream",
          "text": [
            "[LightGBM] [Warning] feature_fraction is set=0.8587393673663257, colsample_bytree=1.0 will be ignored. Current value: feature_fraction=0.8587393673663257\n",
            "[LightGBM] [Warning] feature_fraction is set=0.8587393673663257, colsample_bytree=1.0 will be ignored. Current value: feature_fraction=0.8587393673663257\n",
            "New AUC Score 0.8574656566894364\n"
          ]
        },
        {
          "name": "stderr",
          "output_type": "stream",
          "text": [
            "/usr/local/lib/python3.7/dist-packages/sklearn/preprocessing/_label.py:235: DataConversionWarning:\n",
            "\n",
            "A column-vector y was passed when a 1d array was expected. Please change the shape of y to (n_samples, ), for example using ravel().\n",
            "\n",
            "/usr/local/lib/python3.7/dist-packages/sklearn/preprocessing/_label.py:268: DataConversionWarning:\n",
            "\n",
            "A column-vector y was passed when a 1d array was expected. Please change the shape of y to (n_samples, ), for example using ravel().\n",
            "\n"
          ]
        },
        {
          "name": "stdout",
          "output_type": "stream",
          "text": [
            "[LightGBM] [Warning] feature_fraction is set=0.8587393673663257, colsample_bytree=1.0 will be ignored. Current value: feature_fraction=0.8587393673663257\n",
            "[LightGBM] [Warning] feature_fraction is set=0.8587393673663257, colsample_bytree=1.0 will be ignored. Current value: feature_fraction=0.8587393673663257\n",
            "New AUC Score 0.8560280583368001\n"
          ]
        },
        {
          "name": "stderr",
          "output_type": "stream",
          "text": [
            "/usr/local/lib/python3.7/dist-packages/sklearn/preprocessing/_label.py:235: DataConversionWarning:\n",
            "\n",
            "A column-vector y was passed when a 1d array was expected. Please change the shape of y to (n_samples, ), for example using ravel().\n",
            "\n",
            "/usr/local/lib/python3.7/dist-packages/sklearn/preprocessing/_label.py:268: DataConversionWarning:\n",
            "\n",
            "A column-vector y was passed when a 1d array was expected. Please change the shape of y to (n_samples, ), for example using ravel().\n",
            "\n"
          ]
        },
        {
          "name": "stdout",
          "output_type": "stream",
          "text": [
            "[LightGBM] [Warning] feature_fraction is set=0.8587393673663257, colsample_bytree=1.0 will be ignored. Current value: feature_fraction=0.8587393673663257\n",
            "[LightGBM] [Warning] feature_fraction is set=0.8587393673663257, colsample_bytree=1.0 will be ignored. Current value: feature_fraction=0.8587393673663257\n",
            "New AUC Score 0.8578501800512345\n"
          ]
        },
        {
          "name": "stderr",
          "output_type": "stream",
          "text": [
            "/usr/local/lib/python3.7/dist-packages/sklearn/preprocessing/_label.py:235: DataConversionWarning:\n",
            "\n",
            "A column-vector y was passed when a 1d array was expected. Please change the shape of y to (n_samples, ), for example using ravel().\n",
            "\n",
            "/usr/local/lib/python3.7/dist-packages/sklearn/preprocessing/_label.py:268: DataConversionWarning:\n",
            "\n",
            "A column-vector y was passed when a 1d array was expected. Please change the shape of y to (n_samples, ), for example using ravel().\n",
            "\n"
          ]
        },
        {
          "name": "stdout",
          "output_type": "stream",
          "text": [
            "[LightGBM] [Warning] feature_fraction is set=0.8587393673663257, colsample_bytree=1.0 will be ignored. Current value: feature_fraction=0.8587393673663257\n",
            "[LightGBM] [Warning] feature_fraction is set=0.8587393673663257, colsample_bytree=1.0 will be ignored. Current value: feature_fraction=0.8587393673663257\n",
            "New AUC Score 0.8566803477505391\n",
            "all scores [0.8565054046859353, 0.8574656566894364, 0.8560280583368001, 0.8578501800512345, 0.8566803477505391]\n",
            "Roc AUC score 0.8578501800512345\n",
            "{'boosting_type': 'gbdt', 'class_weight': None, 'colsample_bytree': 1.0, 'importance_type': 'split', 'learning_rate': 0.008843422563764223, 'max_depth': 10, 'min_child_samples': 97, 'min_child_weight': 0.001, 'min_split_gain': 0.0, 'n_estimators': 8242, 'n_jobs': -1, 'num_leaves': 9, 'objective': 'binary', 'random_state': 42, 'reg_alpha': 17, 'reg_lambda': 17, 'silent': True, 'subsample': 0.5295971108508316, 'subsample_for_bin': 200000, 'subsample_freq': 1, 'metric': 'AUC', 'verbosity': 0, 'device': 'gpu', 'feature_fraction': 0.8587393673663257}\n"
          ]
        },
        {
          "name": "stderr",
          "output_type": "stream",
          "text": [
            "\u001b[32m[I 2021-10-03 17:15:25,597]\u001b[0m Trial 49 finished with value: 0.8578501800512345 and parameters: {'boosting_type': 'gbdt', 'subsample': 0.5295971108508316, 'eta': 0.008843422563764223, 'n_estimators': 8242, 'reg_alpha': 17, 'reg_lambda': 17, 'max_depth': 10, 'num_leaves': 9, 'feature_fraction': 0.8587393673663257, 'min_child_samples': 97}. Best is trial 36 with value: 0.8592082549290472.\u001b[0m\n"
          ]
        },
        {
          "name": "stdout",
          "output_type": "stream",
          "text": [
            "filename ./models/lgbm_49 best_model_name./models/best_lgbm  best_trial_number 36\n",
            "STARTING Params: {'metric': 'AUC', 'verbosity': 0, 'device': 'gpu', 'boosting_type': 'gbdt', 'subsample': 0.5081638760156305, 'learning_rate': 0.011794106048209277, 'n_estimators': 6457, 'subsample_freq': 1, 'reg_alpha': 18, 'reg_lambda': 20, 'max_depth': 7, 'num_leaves': 6, 'feature_fraction': 0.6017630213253372, 'min_child_samples': 68, 'objective': 'binary'}\n",
            "Param: {'metric': 'AUC', 'verbosity': 0, 'device': 'gpu', 'boosting_type': 'gbdt', 'subsample': 0.5081638760156305, 'learning_rate': 0.011794106048209277, 'n_estimators': 6457, 'subsample_freq': 1, 'reg_alpha': 18, 'reg_lambda': 20, 'max_depth': 7, 'num_leaves': 6, 'feature_fraction': 0.6017630213253372, 'min_child_samples': 68, 'objective': 'binary'}\n"
          ]
        },
        {
          "name": "stderr",
          "output_type": "stream",
          "text": [
            "/usr/local/lib/python3.7/dist-packages/sklearn/preprocessing/_label.py:235: DataConversionWarning:\n",
            "\n",
            "A column-vector y was passed when a 1d array was expected. Please change the shape of y to (n_samples, ), for example using ravel().\n",
            "\n",
            "/usr/local/lib/python3.7/dist-packages/sklearn/preprocessing/_label.py:268: DataConversionWarning:\n",
            "\n",
            "A column-vector y was passed when a 1d array was expected. Please change the shape of y to (n_samples, ), for example using ravel().\n",
            "\n"
          ]
        },
        {
          "name": "stdout",
          "output_type": "stream",
          "text": [
            "[LightGBM] [Warning] feature_fraction is set=0.6017630213253372, colsample_bytree=1.0 will be ignored. Current value: feature_fraction=0.6017630213253372\n",
            "[LightGBM] [Warning] feature_fraction is set=0.6017630213253372, colsample_bytree=1.0 will be ignored. Current value: feature_fraction=0.6017630213253372\n",
            "New AUC Score 0.8571197535639763\n"
          ]
        },
        {
          "name": "stderr",
          "output_type": "stream",
          "text": [
            "/usr/local/lib/python3.7/dist-packages/sklearn/preprocessing/_label.py:235: DataConversionWarning:\n",
            "\n",
            "A column-vector y was passed when a 1d array was expected. Please change the shape of y to (n_samples, ), for example using ravel().\n",
            "\n",
            "/usr/local/lib/python3.7/dist-packages/sklearn/preprocessing/_label.py:268: DataConversionWarning:\n",
            "\n",
            "A column-vector y was passed when a 1d array was expected. Please change the shape of y to (n_samples, ), for example using ravel().\n",
            "\n"
          ]
        },
        {
          "name": "stdout",
          "output_type": "stream",
          "text": [
            "[LightGBM] [Warning] feature_fraction is set=0.6017630213253372, colsample_bytree=1.0 will be ignored. Current value: feature_fraction=0.6017630213253372\n",
            "[LightGBM] [Warning] feature_fraction is set=0.6017630213253372, colsample_bytree=1.0 will be ignored. Current value: feature_fraction=0.6017630213253372\n",
            "New AUC Score 0.8563278527188766\n"
          ]
        },
        {
          "name": "stderr",
          "output_type": "stream",
          "text": [
            "/usr/local/lib/python3.7/dist-packages/sklearn/preprocessing/_label.py:235: DataConversionWarning:\n",
            "\n",
            "A column-vector y was passed when a 1d array was expected. Please change the shape of y to (n_samples, ), for example using ravel().\n",
            "\n",
            "/usr/local/lib/python3.7/dist-packages/sklearn/preprocessing/_label.py:268: DataConversionWarning:\n",
            "\n",
            "A column-vector y was passed when a 1d array was expected. Please change the shape of y to (n_samples, ), for example using ravel().\n",
            "\n"
          ]
        },
        {
          "name": "stdout",
          "output_type": "stream",
          "text": [
            "[LightGBM] [Warning] feature_fraction is set=0.6017630213253372, colsample_bytree=1.0 will be ignored. Current value: feature_fraction=0.6017630213253372\n",
            "[LightGBM] [Warning] feature_fraction is set=0.6017630213253372, colsample_bytree=1.0 will be ignored. Current value: feature_fraction=0.6017630213253372\n",
            "New AUC Score 0.8565604949377696\n"
          ]
        },
        {
          "name": "stderr",
          "output_type": "stream",
          "text": [
            "/usr/local/lib/python3.7/dist-packages/sklearn/preprocessing/_label.py:235: DataConversionWarning:\n",
            "\n",
            "A column-vector y was passed when a 1d array was expected. Please change the shape of y to (n_samples, ), for example using ravel().\n",
            "\n",
            "/usr/local/lib/python3.7/dist-packages/sklearn/preprocessing/_label.py:268: DataConversionWarning:\n",
            "\n",
            "A column-vector y was passed when a 1d array was expected. Please change the shape of y to (n_samples, ), for example using ravel().\n",
            "\n"
          ]
        },
        {
          "name": "stdout",
          "output_type": "stream",
          "text": [
            "[LightGBM] [Warning] feature_fraction is set=0.6017630213253372, colsample_bytree=1.0 will be ignored. Current value: feature_fraction=0.6017630213253372\n",
            "[LightGBM] [Warning] feature_fraction is set=0.6017630213253372, colsample_bytree=1.0 will be ignored. Current value: feature_fraction=0.6017630213253372\n",
            "New AUC Score 0.8561173813208441\n"
          ]
        },
        {
          "name": "stderr",
          "output_type": "stream",
          "text": [
            "/usr/local/lib/python3.7/dist-packages/sklearn/preprocessing/_label.py:235: DataConversionWarning:\n",
            "\n",
            "A column-vector y was passed when a 1d array was expected. Please change the shape of y to (n_samples, ), for example using ravel().\n",
            "\n",
            "/usr/local/lib/python3.7/dist-packages/sklearn/preprocessing/_label.py:268: DataConversionWarning:\n",
            "\n",
            "A column-vector y was passed when a 1d array was expected. Please change the shape of y to (n_samples, ), for example using ravel().\n",
            "\n"
          ]
        },
        {
          "name": "stdout",
          "output_type": "stream",
          "text": [
            "[LightGBM] [Warning] feature_fraction is set=0.6017630213253372, colsample_bytree=1.0 will be ignored. Current value: feature_fraction=0.6017630213253372\n",
            "[LightGBM] [Warning] feature_fraction is set=0.6017630213253372, colsample_bytree=1.0 will be ignored. Current value: feature_fraction=0.6017630213253372\n",
            "New AUC Score 0.8562383460346599\n",
            "all scores [0.8571197535639763, 0.8563278527188766, 0.8565604949377696, 0.8561173813208441, 0.8562383460346599]\n",
            "Roc AUC score 0.8571197535639763\n",
            "{'boosting_type': 'gbdt', 'class_weight': None, 'colsample_bytree': 1.0, 'importance_type': 'split', 'learning_rate': 0.011794106048209277, 'max_depth': 7, 'min_child_samples': 68, 'min_child_weight': 0.001, 'min_split_gain': 0.0, 'n_estimators': 6457, 'n_jobs': -1, 'num_leaves': 6, 'objective': 'binary', 'random_state': 42, 'reg_alpha': 18, 'reg_lambda': 20, 'silent': True, 'subsample': 0.5081638760156305, 'subsample_for_bin': 200000, 'subsample_freq': 1, 'metric': 'AUC', 'verbosity': 0, 'device': 'gpu', 'feature_fraction': 0.6017630213253372}\n"
          ]
        },
        {
          "name": "stderr",
          "output_type": "stream",
          "text": [
            "\u001b[32m[I 2021-10-03 17:28:04,060]\u001b[0m Trial 50 finished with value: 0.8571197535639763 and parameters: {'boosting_type': 'gbdt', 'subsample': 0.5081638760156305, 'eta': 0.011794106048209277, 'n_estimators': 6457, 'reg_alpha': 18, 'reg_lambda': 20, 'max_depth': 7, 'num_leaves': 6, 'feature_fraction': 0.6017630213253372, 'min_child_samples': 68}. Best is trial 36 with value: 0.8592082549290472.\u001b[0m\n"
          ]
        },
        {
          "name": "stdout",
          "output_type": "stream",
          "text": [
            "filename ./models/lgbm_50 best_model_name./models/best_lgbm  best_trial_number 36\n",
            "STARTING Params: {'metric': 'AUC', 'verbosity': 0, 'device': 'gpu', 'boosting_type': 'gbdt', 'subsample': 0.5848905135562452, 'learning_rate': 0.01449547888177158, 'n_estimators': 8018, 'subsample_freq': 1, 'reg_alpha': 19, 'reg_lambda': 14, 'max_depth': 8, 'num_leaves': 7, 'feature_fraction': 0.6893252685710455, 'min_child_samples': 79, 'objective': 'binary'}\n",
            "Param: {'metric': 'AUC', 'verbosity': 0, 'device': 'gpu', 'boosting_type': 'gbdt', 'subsample': 0.5848905135562452, 'learning_rate': 0.01449547888177158, 'n_estimators': 8018, 'subsample_freq': 1, 'reg_alpha': 19, 'reg_lambda': 14, 'max_depth': 8, 'num_leaves': 7, 'feature_fraction': 0.6893252685710455, 'min_child_samples': 79, 'objective': 'binary'}\n"
          ]
        },
        {
          "name": "stderr",
          "output_type": "stream",
          "text": [
            "/usr/local/lib/python3.7/dist-packages/sklearn/preprocessing/_label.py:235: DataConversionWarning:\n",
            "\n",
            "A column-vector y was passed when a 1d array was expected. Please change the shape of y to (n_samples, ), for example using ravel().\n",
            "\n",
            "/usr/local/lib/python3.7/dist-packages/sklearn/preprocessing/_label.py:268: DataConversionWarning:\n",
            "\n",
            "A column-vector y was passed when a 1d array was expected. Please change the shape of y to (n_samples, ), for example using ravel().\n",
            "\n"
          ]
        },
        {
          "name": "stdout",
          "output_type": "stream",
          "text": [
            "[LightGBM] [Warning] feature_fraction is set=0.6893252685710455, colsample_bytree=1.0 will be ignored. Current value: feature_fraction=0.6893252685710455\n",
            "[LightGBM] [Warning] feature_fraction is set=0.6893252685710455, colsample_bytree=1.0 will be ignored. Current value: feature_fraction=0.6893252685710455\n",
            "New AUC Score 0.8578496431507292\n"
          ]
        },
        {
          "name": "stderr",
          "output_type": "stream",
          "text": [
            "/usr/local/lib/python3.7/dist-packages/sklearn/preprocessing/_label.py:235: DataConversionWarning:\n",
            "\n",
            "A column-vector y was passed when a 1d array was expected. Please change the shape of y to (n_samples, ), for example using ravel().\n",
            "\n",
            "/usr/local/lib/python3.7/dist-packages/sklearn/preprocessing/_label.py:268: DataConversionWarning:\n",
            "\n",
            "A column-vector y was passed when a 1d array was expected. Please change the shape of y to (n_samples, ), for example using ravel().\n",
            "\n"
          ]
        },
        {
          "name": "stdout",
          "output_type": "stream",
          "text": [
            "[LightGBM] [Warning] feature_fraction is set=0.6893252685710455, colsample_bytree=1.0 will be ignored. Current value: feature_fraction=0.6893252685710455\n",
            "[LightGBM] [Warning] feature_fraction is set=0.6893252685710455, colsample_bytree=1.0 will be ignored. Current value: feature_fraction=0.6893252685710455\n",
            "New AUC Score 0.8571945333343365\n"
          ]
        },
        {
          "name": "stderr",
          "output_type": "stream",
          "text": [
            "/usr/local/lib/python3.7/dist-packages/sklearn/preprocessing/_label.py:235: DataConversionWarning:\n",
            "\n",
            "A column-vector y was passed when a 1d array was expected. Please change the shape of y to (n_samples, ), for example using ravel().\n",
            "\n",
            "/usr/local/lib/python3.7/dist-packages/sklearn/preprocessing/_label.py:268: DataConversionWarning:\n",
            "\n",
            "A column-vector y was passed when a 1d array was expected. Please change the shape of y to (n_samples, ), for example using ravel().\n",
            "\n"
          ]
        },
        {
          "name": "stdout",
          "output_type": "stream",
          "text": [
            "[LightGBM] [Warning] feature_fraction is set=0.6893252685710455, colsample_bytree=1.0 will be ignored. Current value: feature_fraction=0.6893252685710455\n",
            "[LightGBM] [Warning] feature_fraction is set=0.6893252685710455, colsample_bytree=1.0 will be ignored. Current value: feature_fraction=0.6893252685710455\n",
            "New AUC Score 0.8567897148534427\n"
          ]
        },
        {
          "name": "stderr",
          "output_type": "stream",
          "text": [
            "/usr/local/lib/python3.7/dist-packages/sklearn/preprocessing/_label.py:235: DataConversionWarning:\n",
            "\n",
            "A column-vector y was passed when a 1d array was expected. Please change the shape of y to (n_samples, ), for example using ravel().\n",
            "\n",
            "/usr/local/lib/python3.7/dist-packages/sklearn/preprocessing/_label.py:268: DataConversionWarning:\n",
            "\n",
            "A column-vector y was passed when a 1d array was expected. Please change the shape of y to (n_samples, ), for example using ravel().\n",
            "\n"
          ]
        },
        {
          "name": "stdout",
          "output_type": "stream",
          "text": [
            "[LightGBM] [Warning] feature_fraction is set=0.6893252685710455, colsample_bytree=1.0 will be ignored. Current value: feature_fraction=0.6893252685710455\n",
            "[LightGBM] [Warning] feature_fraction is set=0.6893252685710455, colsample_bytree=1.0 will be ignored. Current value: feature_fraction=0.6893252685710455\n",
            "New AUC Score 0.8570445121931816\n"
          ]
        },
        {
          "name": "stderr",
          "output_type": "stream",
          "text": [
            "/usr/local/lib/python3.7/dist-packages/sklearn/preprocessing/_label.py:235: DataConversionWarning:\n",
            "\n",
            "A column-vector y was passed when a 1d array was expected. Please change the shape of y to (n_samples, ), for example using ravel().\n",
            "\n",
            "/usr/local/lib/python3.7/dist-packages/sklearn/preprocessing/_label.py:268: DataConversionWarning:\n",
            "\n",
            "A column-vector y was passed when a 1d array was expected. Please change the shape of y to (n_samples, ), for example using ravel().\n",
            "\n"
          ]
        },
        {
          "name": "stdout",
          "output_type": "stream",
          "text": [
            "[LightGBM] [Warning] feature_fraction is set=0.6893252685710455, colsample_bytree=1.0 will be ignored. Current value: feature_fraction=0.6893252685710455\n",
            "[LightGBM] [Warning] feature_fraction is set=0.6893252685710455, colsample_bytree=1.0 will be ignored. Current value: feature_fraction=0.6893252685710455\n",
            "New AUC Score 0.8561579562590211\n",
            "all scores [0.8578496431507292, 0.8571945333343365, 0.8567897148534427, 0.8570445121931816, 0.8561579562590211]\n",
            "Roc AUC score 0.8578496431507292\n",
            "{'boosting_type': 'gbdt', 'class_weight': None, 'colsample_bytree': 1.0, 'importance_type': 'split', 'learning_rate': 0.01449547888177158, 'max_depth': 8, 'min_child_samples': 79, 'min_child_weight': 0.001, 'min_split_gain': 0.0, 'n_estimators': 8018, 'n_jobs': -1, 'num_leaves': 7, 'objective': 'binary', 'random_state': 42, 'reg_alpha': 19, 'reg_lambda': 14, 'silent': True, 'subsample': 0.5848905135562452, 'subsample_for_bin': 200000, 'subsample_freq': 1, 'metric': 'AUC', 'verbosity': 0, 'device': 'gpu', 'feature_fraction': 0.6893252685710455}\n"
          ]
        },
        {
          "name": "stderr",
          "output_type": "stream",
          "text": [
            "\u001b[32m[I 2021-10-03 17:41:34,336]\u001b[0m Trial 51 finished with value: 0.8578496431507292 and parameters: {'boosting_type': 'gbdt', 'subsample': 0.5848905135562452, 'eta': 0.01449547888177158, 'n_estimators': 8018, 'reg_alpha': 19, 'reg_lambda': 14, 'max_depth': 8, 'num_leaves': 7, 'feature_fraction': 0.6893252685710455, 'min_child_samples': 79}. Best is trial 36 with value: 0.8592082549290472.\u001b[0m\n"
          ]
        },
        {
          "name": "stdout",
          "output_type": "stream",
          "text": [
            "filename ./models/lgbm_51 best_model_name./models/best_lgbm  best_trial_number 36\n",
            "STARTING Params: {'metric': 'AUC', 'verbosity': 0, 'device': 'gpu', 'boosting_type': 'gbdt', 'subsample': 0.599079259615168, 'learning_rate': 0.013856209438690105, 'n_estimators': 6894, 'subsample_freq': 1, 'reg_alpha': 19, 'reg_lambda': 13, 'max_depth': 8, 'num_leaves': 7, 'feature_fraction': 0.6548401382735816, 'min_child_samples': 82, 'objective': 'binary'}\n",
            "Param: {'metric': 'AUC', 'verbosity': 0, 'device': 'gpu', 'boosting_type': 'gbdt', 'subsample': 0.599079259615168, 'learning_rate': 0.013856209438690105, 'n_estimators': 6894, 'subsample_freq': 1, 'reg_alpha': 19, 'reg_lambda': 13, 'max_depth': 8, 'num_leaves': 7, 'feature_fraction': 0.6548401382735816, 'min_child_samples': 82, 'objective': 'binary'}\n"
          ]
        },
        {
          "name": "stderr",
          "output_type": "stream",
          "text": [
            "/usr/local/lib/python3.7/dist-packages/sklearn/preprocessing/_label.py:235: DataConversionWarning:\n",
            "\n",
            "A column-vector y was passed when a 1d array was expected. Please change the shape of y to (n_samples, ), for example using ravel().\n",
            "\n",
            "/usr/local/lib/python3.7/dist-packages/sklearn/preprocessing/_label.py:268: DataConversionWarning:\n",
            "\n",
            "A column-vector y was passed when a 1d array was expected. Please change the shape of y to (n_samples, ), for example using ravel().\n",
            "\n"
          ]
        },
        {
          "name": "stdout",
          "output_type": "stream",
          "text": [
            "[LightGBM] [Warning] feature_fraction is set=0.6548401382735816, colsample_bytree=1.0 will be ignored. Current value: feature_fraction=0.6548401382735816\n",
            "[LightGBM] [Warning] feature_fraction is set=0.6548401382735816, colsample_bytree=1.0 will be ignored. Current value: feature_fraction=0.6548401382735816\n",
            "New AUC Score 0.8564858301675176\n"
          ]
        },
        {
          "name": "stderr",
          "output_type": "stream",
          "text": [
            "/usr/local/lib/python3.7/dist-packages/sklearn/preprocessing/_label.py:235: DataConversionWarning:\n",
            "\n",
            "A column-vector y was passed when a 1d array was expected. Please change the shape of y to (n_samples, ), for example using ravel().\n",
            "\n",
            "/usr/local/lib/python3.7/dist-packages/sklearn/preprocessing/_label.py:268: DataConversionWarning:\n",
            "\n",
            "A column-vector y was passed when a 1d array was expected. Please change the shape of y to (n_samples, ), for example using ravel().\n",
            "\n"
          ]
        },
        {
          "name": "stdout",
          "output_type": "stream",
          "text": [
            "[LightGBM] [Warning] feature_fraction is set=0.6548401382735816, colsample_bytree=1.0 will be ignored. Current value: feature_fraction=0.6548401382735816\n",
            "[LightGBM] [Warning] feature_fraction is set=0.6548401382735816, colsample_bytree=1.0 will be ignored. Current value: feature_fraction=0.6548401382735816\n",
            "New AUC Score 0.8579450195404689\n"
          ]
        },
        {
          "name": "stderr",
          "output_type": "stream",
          "text": [
            "/usr/local/lib/python3.7/dist-packages/sklearn/preprocessing/_label.py:235: DataConversionWarning:\n",
            "\n",
            "A column-vector y was passed when a 1d array was expected. Please change the shape of y to (n_samples, ), for example using ravel().\n",
            "\n",
            "/usr/local/lib/python3.7/dist-packages/sklearn/preprocessing/_label.py:268: DataConversionWarning:\n",
            "\n",
            "A column-vector y was passed when a 1d array was expected. Please change the shape of y to (n_samples, ), for example using ravel().\n",
            "\n"
          ]
        },
        {
          "name": "stdout",
          "output_type": "stream",
          "text": [
            "[LightGBM] [Warning] feature_fraction is set=0.6548401382735816, colsample_bytree=1.0 will be ignored. Current value: feature_fraction=0.6548401382735816\n",
            "[LightGBM] [Warning] feature_fraction is set=0.6548401382735816, colsample_bytree=1.0 will be ignored. Current value: feature_fraction=0.6548401382735816\n",
            "New AUC Score 0.8573137480465055\n"
          ]
        },
        {
          "name": "stderr",
          "output_type": "stream",
          "text": [
            "/usr/local/lib/python3.7/dist-packages/sklearn/preprocessing/_label.py:235: DataConversionWarning:\n",
            "\n",
            "A column-vector y was passed when a 1d array was expected. Please change the shape of y to (n_samples, ), for example using ravel().\n",
            "\n",
            "/usr/local/lib/python3.7/dist-packages/sklearn/preprocessing/_label.py:268: DataConversionWarning:\n",
            "\n",
            "A column-vector y was passed when a 1d array was expected. Please change the shape of y to (n_samples, ), for example using ravel().\n",
            "\n"
          ]
        },
        {
          "name": "stdout",
          "output_type": "stream",
          "text": [
            "[LightGBM] [Warning] feature_fraction is set=0.6548401382735816, colsample_bytree=1.0 will be ignored. Current value: feature_fraction=0.6548401382735816\n",
            "[LightGBM] [Warning] feature_fraction is set=0.6548401382735816, colsample_bytree=1.0 will be ignored. Current value: feature_fraction=0.6548401382735816\n",
            "New AUC Score 0.8562515555470886\n"
          ]
        },
        {
          "name": "stderr",
          "output_type": "stream",
          "text": [
            "/usr/local/lib/python3.7/dist-packages/sklearn/preprocessing/_label.py:235: DataConversionWarning:\n",
            "\n",
            "A column-vector y was passed when a 1d array was expected. Please change the shape of y to (n_samples, ), for example using ravel().\n",
            "\n",
            "/usr/local/lib/python3.7/dist-packages/sklearn/preprocessing/_label.py:268: DataConversionWarning:\n",
            "\n",
            "A column-vector y was passed when a 1d array was expected. Please change the shape of y to (n_samples, ), for example using ravel().\n",
            "\n"
          ]
        },
        {
          "name": "stdout",
          "output_type": "stream",
          "text": [
            "[LightGBM] [Warning] feature_fraction is set=0.6548401382735816, colsample_bytree=1.0 will be ignored. Current value: feature_fraction=0.6548401382735816\n",
            "[LightGBM] [Warning] feature_fraction is set=0.6548401382735816, colsample_bytree=1.0 will be ignored. Current value: feature_fraction=0.6548401382735816\n",
            "New AUC Score 0.8565256819050142\n",
            "all scores [0.8564858301675176, 0.8579450195404689, 0.8573137480465055, 0.8562515555470886, 0.8565256819050142]\n",
            "Roc AUC score 0.8579450195404689\n",
            "{'boosting_type': 'gbdt', 'class_weight': None, 'colsample_bytree': 1.0, 'importance_type': 'split', 'learning_rate': 0.013856209438690105, 'max_depth': 8, 'min_child_samples': 82, 'min_child_weight': 0.001, 'min_split_gain': 0.0, 'n_estimators': 6894, 'n_jobs': -1, 'num_leaves': 7, 'objective': 'binary', 'random_state': 42, 'reg_alpha': 19, 'reg_lambda': 13, 'silent': True, 'subsample': 0.599079259615168, 'subsample_for_bin': 200000, 'subsample_freq': 1, 'metric': 'AUC', 'verbosity': 0, 'device': 'gpu', 'feature_fraction': 0.6548401382735816}\n"
          ]
        },
        {
          "name": "stderr",
          "output_type": "stream",
          "text": [
            "\u001b[32m[I 2021-10-03 17:54:19,162]\u001b[0m Trial 52 finished with value: 0.8579450195404689 and parameters: {'boosting_type': 'gbdt', 'subsample': 0.599079259615168, 'eta': 0.013856209438690105, 'n_estimators': 6894, 'reg_alpha': 19, 'reg_lambda': 13, 'max_depth': 8, 'num_leaves': 7, 'feature_fraction': 0.6548401382735816, 'min_child_samples': 82}. Best is trial 36 with value: 0.8592082549290472.\u001b[0m\n"
          ]
        },
        {
          "name": "stdout",
          "output_type": "stream",
          "text": [
            "filename ./models/lgbm_52 best_model_name./models/best_lgbm  best_trial_number 36\n",
            "STARTING Params: {'metric': 'AUC', 'verbosity': 0, 'device': 'gpu', 'boosting_type': 'gbdt', 'subsample': 0.5740487255669898, 'learning_rate': 0.01321498016389808, 'n_estimators': 7052, 'subsample_freq': 1, 'reg_alpha': 19, 'reg_lambda': 13, 'max_depth': 7, 'num_leaves': 5, 'feature_fraction': 0.6412268519712152, 'min_child_samples': 83, 'objective': 'binary'}\n",
            "Param: {'metric': 'AUC', 'verbosity': 0, 'device': 'gpu', 'boosting_type': 'gbdt', 'subsample': 0.5740487255669898, 'learning_rate': 0.01321498016389808, 'n_estimators': 7052, 'subsample_freq': 1, 'reg_alpha': 19, 'reg_lambda': 13, 'max_depth': 7, 'num_leaves': 5, 'feature_fraction': 0.6412268519712152, 'min_child_samples': 83, 'objective': 'binary'}\n"
          ]
        },
        {
          "name": "stderr",
          "output_type": "stream",
          "text": [
            "/usr/local/lib/python3.7/dist-packages/sklearn/preprocessing/_label.py:235: DataConversionWarning:\n",
            "\n",
            "A column-vector y was passed when a 1d array was expected. Please change the shape of y to (n_samples, ), for example using ravel().\n",
            "\n",
            "/usr/local/lib/python3.7/dist-packages/sklearn/preprocessing/_label.py:268: DataConversionWarning:\n",
            "\n",
            "A column-vector y was passed when a 1d array was expected. Please change the shape of y to (n_samples, ), for example using ravel().\n",
            "\n"
          ]
        },
        {
          "name": "stdout",
          "output_type": "stream",
          "text": [
            "[LightGBM] [Warning] feature_fraction is set=0.6412268519712152, colsample_bytree=1.0 will be ignored. Current value: feature_fraction=0.6412268519712152\n",
            "[LightGBM] [Warning] feature_fraction is set=0.6412268519712152, colsample_bytree=1.0 will be ignored. Current value: feature_fraction=0.6412268519712152\n",
            "New AUC Score 0.857196027135742\n"
          ]
        },
        {
          "name": "stderr",
          "output_type": "stream",
          "text": [
            "/usr/local/lib/python3.7/dist-packages/sklearn/preprocessing/_label.py:235: DataConversionWarning:\n",
            "\n",
            "A column-vector y was passed when a 1d array was expected. Please change the shape of y to (n_samples, ), for example using ravel().\n",
            "\n",
            "/usr/local/lib/python3.7/dist-packages/sklearn/preprocessing/_label.py:268: DataConversionWarning:\n",
            "\n",
            "A column-vector y was passed when a 1d array was expected. Please change the shape of y to (n_samples, ), for example using ravel().\n",
            "\n"
          ]
        },
        {
          "name": "stdout",
          "output_type": "stream",
          "text": [
            "[LightGBM] [Warning] feature_fraction is set=0.6412268519712152, colsample_bytree=1.0 will be ignored. Current value: feature_fraction=0.6412268519712152\n",
            "[LightGBM] [Warning] feature_fraction is set=0.6412268519712152, colsample_bytree=1.0 will be ignored. Current value: feature_fraction=0.6412268519712152\n",
            "New AUC Score 0.8567579787235823\n"
          ]
        },
        {
          "name": "stderr",
          "output_type": "stream",
          "text": [
            "/usr/local/lib/python3.7/dist-packages/sklearn/preprocessing/_label.py:235: DataConversionWarning:\n",
            "\n",
            "A column-vector y was passed when a 1d array was expected. Please change the shape of y to (n_samples, ), for example using ravel().\n",
            "\n",
            "/usr/local/lib/python3.7/dist-packages/sklearn/preprocessing/_label.py:268: DataConversionWarning:\n",
            "\n",
            "A column-vector y was passed when a 1d array was expected. Please change the shape of y to (n_samples, ), for example using ravel().\n",
            "\n"
          ]
        },
        {
          "name": "stdout",
          "output_type": "stream",
          "text": [
            "[LightGBM] [Warning] feature_fraction is set=0.6412268519712152, colsample_bytree=1.0 will be ignored. Current value: feature_fraction=0.6412268519712152\n",
            "[LightGBM] [Warning] feature_fraction is set=0.6412268519712152, colsample_bytree=1.0 will be ignored. Current value: feature_fraction=0.6412268519712152\n",
            "New AUC Score 0.855924599839456\n"
          ]
        },
        {
          "name": "stderr",
          "output_type": "stream",
          "text": [
            "/usr/local/lib/python3.7/dist-packages/sklearn/preprocessing/_label.py:235: DataConversionWarning:\n",
            "\n",
            "A column-vector y was passed when a 1d array was expected. Please change the shape of y to (n_samples, ), for example using ravel().\n",
            "\n",
            "/usr/local/lib/python3.7/dist-packages/sklearn/preprocessing/_label.py:268: DataConversionWarning:\n",
            "\n",
            "A column-vector y was passed when a 1d array was expected. Please change the shape of y to (n_samples, ), for example using ravel().\n",
            "\n"
          ]
        },
        {
          "name": "stdout",
          "output_type": "stream",
          "text": [
            "[LightGBM] [Warning] feature_fraction is set=0.6412268519712152, colsample_bytree=1.0 will be ignored. Current value: feature_fraction=0.6412268519712152\n",
            "[LightGBM] [Warning] feature_fraction is set=0.6412268519712152, colsample_bytree=1.0 will be ignored. Current value: feature_fraction=0.6412268519712152\n",
            "New AUC Score 0.8571283329720485\n"
          ]
        },
        {
          "name": "stderr",
          "output_type": "stream",
          "text": [
            "/usr/local/lib/python3.7/dist-packages/sklearn/preprocessing/_label.py:235: DataConversionWarning:\n",
            "\n",
            "A column-vector y was passed when a 1d array was expected. Please change the shape of y to (n_samples, ), for example using ravel().\n",
            "\n",
            "/usr/local/lib/python3.7/dist-packages/sklearn/preprocessing/_label.py:268: DataConversionWarning:\n",
            "\n",
            "A column-vector y was passed when a 1d array was expected. Please change the shape of y to (n_samples, ), for example using ravel().\n",
            "\n"
          ]
        },
        {
          "name": "stdout",
          "output_type": "stream",
          "text": [
            "[LightGBM] [Warning] feature_fraction is set=0.6412268519712152, colsample_bytree=1.0 will be ignored. Current value: feature_fraction=0.6412268519712152\n",
            "[LightGBM] [Warning] feature_fraction is set=0.6412268519712152, colsample_bytree=1.0 will be ignored. Current value: feature_fraction=0.6412268519712152\n",
            "New AUC Score 0.8555336461716077\n",
            "all scores [0.857196027135742, 0.8567579787235823, 0.855924599839456, 0.8571283329720485, 0.8555336461716077]\n",
            "Roc AUC score 0.857196027135742\n",
            "{'boosting_type': 'gbdt', 'class_weight': None, 'colsample_bytree': 1.0, 'importance_type': 'split', 'learning_rate': 0.01321498016389808, 'max_depth': 7, 'min_child_samples': 83, 'min_child_weight': 0.001, 'min_split_gain': 0.0, 'n_estimators': 7052, 'n_jobs': -1, 'num_leaves': 5, 'objective': 'binary', 'random_state': 42, 'reg_alpha': 19, 'reg_lambda': 13, 'silent': True, 'subsample': 0.5740487255669898, 'subsample_for_bin': 200000, 'subsample_freq': 1, 'metric': 'AUC', 'verbosity': 0, 'device': 'gpu', 'feature_fraction': 0.6412268519712152}\n"
          ]
        },
        {
          "name": "stderr",
          "output_type": "stream",
          "text": [
            "\u001b[32m[I 2021-10-03 18:06:24,171]\u001b[0m Trial 53 finished with value: 0.857196027135742 and parameters: {'boosting_type': 'gbdt', 'subsample': 0.5740487255669898, 'eta': 0.01321498016389808, 'n_estimators': 7052, 'reg_alpha': 19, 'reg_lambda': 13, 'max_depth': 7, 'num_leaves': 5, 'feature_fraction': 0.6412268519712152, 'min_child_samples': 83}. Best is trial 36 with value: 0.8592082549290472.\u001b[0m\n"
          ]
        },
        {
          "name": "stdout",
          "output_type": "stream",
          "text": [
            "filename ./models/lgbm_53 best_model_name./models/best_lgbm  best_trial_number 36\n",
            "STARTING Params: {'metric': 'AUC', 'verbosity': 0, 'device': 'gpu', 'boosting_type': 'gbdt', 'subsample': 0.5935204409270327, 'learning_rate': 0.014268181161452344, 'n_estimators': 6745, 'subsample_freq': 1, 'reg_alpha': 20, 'reg_lambda': 10, 'max_depth': 8, 'num_leaves': 6, 'feature_fraction': 0.5712971963294078, 'min_child_samples': 90, 'objective': 'binary'}\n",
            "Param: {'metric': 'AUC', 'verbosity': 0, 'device': 'gpu', 'boosting_type': 'gbdt', 'subsample': 0.5935204409270327, 'learning_rate': 0.014268181161452344, 'n_estimators': 6745, 'subsample_freq': 1, 'reg_alpha': 20, 'reg_lambda': 10, 'max_depth': 8, 'num_leaves': 6, 'feature_fraction': 0.5712971963294078, 'min_child_samples': 90, 'objective': 'binary'}\n"
          ]
        },
        {
          "name": "stderr",
          "output_type": "stream",
          "text": [
            "/usr/local/lib/python3.7/dist-packages/sklearn/preprocessing/_label.py:235: DataConversionWarning:\n",
            "\n",
            "A column-vector y was passed when a 1d array was expected. Please change the shape of y to (n_samples, ), for example using ravel().\n",
            "\n",
            "/usr/local/lib/python3.7/dist-packages/sklearn/preprocessing/_label.py:268: DataConversionWarning:\n",
            "\n",
            "A column-vector y was passed when a 1d array was expected. Please change the shape of y to (n_samples, ), for example using ravel().\n",
            "\n"
          ]
        },
        {
          "name": "stdout",
          "output_type": "stream",
          "text": [
            "[LightGBM] [Warning] feature_fraction is set=0.5712971963294078, colsample_bytree=1.0 will be ignored. Current value: feature_fraction=0.5712971963294078\n",
            "[LightGBM] [Warning] feature_fraction is set=0.5712971963294078, colsample_bytree=1.0 will be ignored. Current value: feature_fraction=0.5712971963294078\n",
            "New AUC Score 0.8579661812603799\n"
          ]
        },
        {
          "name": "stderr",
          "output_type": "stream",
          "text": [
            "/usr/local/lib/python3.7/dist-packages/sklearn/preprocessing/_label.py:235: DataConversionWarning:\n",
            "\n",
            "A column-vector y was passed when a 1d array was expected. Please change the shape of y to (n_samples, ), for example using ravel().\n",
            "\n",
            "/usr/local/lib/python3.7/dist-packages/sklearn/preprocessing/_label.py:268: DataConversionWarning:\n",
            "\n",
            "A column-vector y was passed when a 1d array was expected. Please change the shape of y to (n_samples, ), for example using ravel().\n",
            "\n"
          ]
        },
        {
          "name": "stdout",
          "output_type": "stream",
          "text": [
            "[LightGBM] [Warning] feature_fraction is set=0.5712971963294078, colsample_bytree=1.0 will be ignored. Current value: feature_fraction=0.5712971963294078\n",
            "[LightGBM] [Warning] feature_fraction is set=0.5712971963294078, colsample_bytree=1.0 will be ignored. Current value: feature_fraction=0.5712971963294078\n",
            "New AUC Score 0.8563591568483306\n"
          ]
        },
        {
          "name": "stderr",
          "output_type": "stream",
          "text": [
            "/usr/local/lib/python3.7/dist-packages/sklearn/preprocessing/_label.py:235: DataConversionWarning:\n",
            "\n",
            "A column-vector y was passed when a 1d array was expected. Please change the shape of y to (n_samples, ), for example using ravel().\n",
            "\n",
            "/usr/local/lib/python3.7/dist-packages/sklearn/preprocessing/_label.py:268: DataConversionWarning:\n",
            "\n",
            "A column-vector y was passed when a 1d array was expected. Please change the shape of y to (n_samples, ), for example using ravel().\n",
            "\n"
          ]
        },
        {
          "name": "stdout",
          "output_type": "stream",
          "text": [
            "[LightGBM] [Warning] feature_fraction is set=0.5712971963294078, colsample_bytree=1.0 will be ignored. Current value: feature_fraction=0.5712971963294078\n",
            "[LightGBM] [Warning] feature_fraction is set=0.5712971963294078, colsample_bytree=1.0 will be ignored. Current value: feature_fraction=0.5712971963294078\n",
            "New AUC Score 0.8564805249625259\n"
          ]
        },
        {
          "name": "stderr",
          "output_type": "stream",
          "text": [
            "/usr/local/lib/python3.7/dist-packages/sklearn/preprocessing/_label.py:235: DataConversionWarning:\n",
            "\n",
            "A column-vector y was passed when a 1d array was expected. Please change the shape of y to (n_samples, ), for example using ravel().\n",
            "\n",
            "/usr/local/lib/python3.7/dist-packages/sklearn/preprocessing/_label.py:268: DataConversionWarning:\n",
            "\n",
            "A column-vector y was passed when a 1d array was expected. Please change the shape of y to (n_samples, ), for example using ravel().\n",
            "\n"
          ]
        },
        {
          "name": "stdout",
          "output_type": "stream",
          "text": [
            "[LightGBM] [Warning] feature_fraction is set=0.5712971963294078, colsample_bytree=1.0 will be ignored. Current value: feature_fraction=0.5712971963294078\n",
            "[LightGBM] [Warning] feature_fraction is set=0.5712971963294078, colsample_bytree=1.0 will be ignored. Current value: feature_fraction=0.5712971963294078\n",
            "New AUC Score 0.8560696558759392\n"
          ]
        },
        {
          "name": "stderr",
          "output_type": "stream",
          "text": [
            "/usr/local/lib/python3.7/dist-packages/sklearn/preprocessing/_label.py:235: DataConversionWarning:\n",
            "\n",
            "A column-vector y was passed when a 1d array was expected. Please change the shape of y to (n_samples, ), for example using ravel().\n",
            "\n",
            "/usr/local/lib/python3.7/dist-packages/sklearn/preprocessing/_label.py:268: DataConversionWarning:\n",
            "\n",
            "A column-vector y was passed when a 1d array was expected. Please change the shape of y to (n_samples, ), for example using ravel().\n",
            "\n"
          ]
        },
        {
          "name": "stdout",
          "output_type": "stream",
          "text": [
            "[LightGBM] [Warning] feature_fraction is set=0.5712971963294078, colsample_bytree=1.0 will be ignored. Current value: feature_fraction=0.5712971963294078\n",
            "[LightGBM] [Warning] feature_fraction is set=0.5712971963294078, colsample_bytree=1.0 will be ignored. Current value: feature_fraction=0.5712971963294078\n",
            "New AUC Score 0.8570738504207859\n",
            "all scores [0.8579661812603799, 0.8563591568483306, 0.8564805249625259, 0.8560696558759392, 0.8570738504207859]\n",
            "Roc AUC score 0.8579661812603799\n",
            "{'boosting_type': 'gbdt', 'class_weight': None, 'colsample_bytree': 1.0, 'importance_type': 'split', 'learning_rate': 0.014268181161452344, 'max_depth': 8, 'min_child_samples': 90, 'min_child_weight': 0.001, 'min_split_gain': 0.0, 'n_estimators': 6745, 'n_jobs': -1, 'num_leaves': 6, 'objective': 'binary', 'random_state': 42, 'reg_alpha': 20, 'reg_lambda': 10, 'silent': True, 'subsample': 0.5935204409270327, 'subsample_for_bin': 200000, 'subsample_freq': 1, 'metric': 'AUC', 'verbosity': 0, 'device': 'gpu', 'feature_fraction': 0.5712971963294078}\n"
          ]
        },
        {
          "name": "stderr",
          "output_type": "stream",
          "text": [
            "\u001b[32m[I 2021-10-03 18:20:47,801]\u001b[0m Trial 54 finished with value: 0.8579661812603799 and parameters: {'boosting_type': 'gbdt', 'subsample': 0.5935204409270327, 'eta': 0.014268181161452344, 'n_estimators': 6745, 'reg_alpha': 20, 'reg_lambda': 10, 'max_depth': 8, 'num_leaves': 6, 'feature_fraction': 0.5712971963294078, 'min_child_samples': 90}. Best is trial 36 with value: 0.8592082549290472.\u001b[0m\n"
          ]
        },
        {
          "name": "stdout",
          "output_type": "stream",
          "text": [
            "filename ./models/lgbm_54 best_model_name./models/best_lgbm  best_trial_number 36\n",
            "STARTING Params: {'metric': 'AUC', 'verbosity': 0, 'device': 'gpu', 'boosting_type': 'gbdt', 'subsample': 0.5630178278295919, 'learning_rate': 0.014770049865535342, 'n_estimators': 7544, 'subsample_freq': 1, 'reg_alpha': 20, 'reg_lambda': 11, 'max_depth': 9, 'num_leaves': 6, 'feature_fraction': 0.5670417250822146, 'min_child_samples': 92, 'objective': 'binary'}\n",
            "Param: {'metric': 'AUC', 'verbosity': 0, 'device': 'gpu', 'boosting_type': 'gbdt', 'subsample': 0.5630178278295919, 'learning_rate': 0.014770049865535342, 'n_estimators': 7544, 'subsample_freq': 1, 'reg_alpha': 20, 'reg_lambda': 11, 'max_depth': 9, 'num_leaves': 6, 'feature_fraction': 0.5670417250822146, 'min_child_samples': 92, 'objective': 'binary'}\n"
          ]
        },
        {
          "name": "stderr",
          "output_type": "stream",
          "text": [
            "/usr/local/lib/python3.7/dist-packages/sklearn/preprocessing/_label.py:235: DataConversionWarning:\n",
            "\n",
            "A column-vector y was passed when a 1d array was expected. Please change the shape of y to (n_samples, ), for example using ravel().\n",
            "\n",
            "/usr/local/lib/python3.7/dist-packages/sklearn/preprocessing/_label.py:268: DataConversionWarning:\n",
            "\n",
            "A column-vector y was passed when a 1d array was expected. Please change the shape of y to (n_samples, ), for example using ravel().\n",
            "\n"
          ]
        },
        {
          "name": "stdout",
          "output_type": "stream",
          "text": [
            "[LightGBM] [Warning] feature_fraction is set=0.5670417250822146, colsample_bytree=1.0 will be ignored. Current value: feature_fraction=0.5670417250822146\n",
            "[LightGBM] [Warning] feature_fraction is set=0.5670417250822146, colsample_bytree=1.0 will be ignored. Current value: feature_fraction=0.5670417250822146\n",
            "New AUC Score 0.8565851237609429\n"
          ]
        },
        {
          "name": "stderr",
          "output_type": "stream",
          "text": [
            "/usr/local/lib/python3.7/dist-packages/sklearn/preprocessing/_label.py:235: DataConversionWarning:\n",
            "\n",
            "A column-vector y was passed when a 1d array was expected. Please change the shape of y to (n_samples, ), for example using ravel().\n",
            "\n",
            "/usr/local/lib/python3.7/dist-packages/sklearn/preprocessing/_label.py:268: DataConversionWarning:\n",
            "\n",
            "A column-vector y was passed when a 1d array was expected. Please change the shape of y to (n_samples, ), for example using ravel().\n",
            "\n"
          ]
        },
        {
          "name": "stdout",
          "output_type": "stream",
          "text": [
            "[LightGBM] [Warning] feature_fraction is set=0.5670417250822146, colsample_bytree=1.0 will be ignored. Current value: feature_fraction=0.5670417250822146\n",
            "[LightGBM] [Warning] feature_fraction is set=0.5670417250822146, colsample_bytree=1.0 will be ignored. Current value: feature_fraction=0.5670417250822146\n",
            "New AUC Score 0.857302340335772\n"
          ]
        },
        {
          "name": "stderr",
          "output_type": "stream",
          "text": [
            "/usr/local/lib/python3.7/dist-packages/sklearn/preprocessing/_label.py:235: DataConversionWarning:\n",
            "\n",
            "A column-vector y was passed when a 1d array was expected. Please change the shape of y to (n_samples, ), for example using ravel().\n",
            "\n",
            "/usr/local/lib/python3.7/dist-packages/sklearn/preprocessing/_label.py:268: DataConversionWarning:\n",
            "\n",
            "A column-vector y was passed when a 1d array was expected. Please change the shape of y to (n_samples, ), for example using ravel().\n",
            "\n"
          ]
        },
        {
          "name": "stdout",
          "output_type": "stream",
          "text": [
            "[LightGBM] [Warning] feature_fraction is set=0.5670417250822146, colsample_bytree=1.0 will be ignored. Current value: feature_fraction=0.5670417250822146\n",
            "[LightGBM] [Warning] feature_fraction is set=0.5670417250822146, colsample_bytree=1.0 will be ignored. Current value: feature_fraction=0.5670417250822146\n",
            "New AUC Score 0.8560268314356457\n"
          ]
        },
        {
          "name": "stderr",
          "output_type": "stream",
          "text": [
            "/usr/local/lib/python3.7/dist-packages/sklearn/preprocessing/_label.py:235: DataConversionWarning:\n",
            "\n",
            "A column-vector y was passed when a 1d array was expected. Please change the shape of y to (n_samples, ), for example using ravel().\n",
            "\n",
            "/usr/local/lib/python3.7/dist-packages/sklearn/preprocessing/_label.py:268: DataConversionWarning:\n",
            "\n",
            "A column-vector y was passed when a 1d array was expected. Please change the shape of y to (n_samples, ), for example using ravel().\n",
            "\n"
          ]
        },
        {
          "name": "stdout",
          "output_type": "stream",
          "text": [
            "[LightGBM] [Warning] feature_fraction is set=0.5670417250822146, colsample_bytree=1.0 will be ignored. Current value: feature_fraction=0.5670417250822146\n",
            "[LightGBM] [Warning] feature_fraction is set=0.5670417250822146, colsample_bytree=1.0 will be ignored. Current value: feature_fraction=0.5670417250822146\n",
            "New AUC Score 0.8576601460724314\n"
          ]
        },
        {
          "name": "stderr",
          "output_type": "stream",
          "text": [
            "/usr/local/lib/python3.7/dist-packages/sklearn/preprocessing/_label.py:235: DataConversionWarning:\n",
            "\n",
            "A column-vector y was passed when a 1d array was expected. Please change the shape of y to (n_samples, ), for example using ravel().\n",
            "\n",
            "/usr/local/lib/python3.7/dist-packages/sklearn/preprocessing/_label.py:268: DataConversionWarning:\n",
            "\n",
            "A column-vector y was passed when a 1d array was expected. Please change the shape of y to (n_samples, ), for example using ravel().\n",
            "\n"
          ]
        },
        {
          "name": "stdout",
          "output_type": "stream",
          "text": [
            "[LightGBM] [Warning] feature_fraction is set=0.5670417250822146, colsample_bytree=1.0 will be ignored. Current value: feature_fraction=0.5670417250822146\n",
            "[LightGBM] [Warning] feature_fraction is set=0.5670417250822146, colsample_bytree=1.0 will be ignored. Current value: feature_fraction=0.5670417250822146\n",
            "New AUC Score 0.8568813373396502\n",
            "all scores [0.8565851237609429, 0.857302340335772, 0.8560268314356457, 0.8576601460724314, 0.8568813373396502]\n",
            "Roc AUC score 0.8576601460724314\n",
            "{'boosting_type': 'gbdt', 'class_weight': None, 'colsample_bytree': 1.0, 'importance_type': 'split', 'learning_rate': 0.014770049865535342, 'max_depth': 9, 'min_child_samples': 92, 'min_child_weight': 0.001, 'min_split_gain': 0.0, 'n_estimators': 7544, 'n_jobs': -1, 'num_leaves': 6, 'objective': 'binary', 'random_state': 42, 'reg_alpha': 20, 'reg_lambda': 11, 'silent': True, 'subsample': 0.5630178278295919, 'subsample_for_bin': 200000, 'subsample_freq': 1, 'metric': 'AUC', 'verbosity': 0, 'device': 'gpu', 'feature_fraction': 0.5670417250822146}\n"
          ]
        },
        {
          "name": "stderr",
          "output_type": "stream",
          "text": [
            "\u001b[32m[I 2021-10-03 18:36:44,030]\u001b[0m Trial 55 finished with value: 0.8576601460724314 and parameters: {'boosting_type': 'gbdt', 'subsample': 0.5630178278295919, 'eta': 0.014770049865535342, 'n_estimators': 7544, 'reg_alpha': 20, 'reg_lambda': 11, 'max_depth': 9, 'num_leaves': 6, 'feature_fraction': 0.5670417250822146, 'min_child_samples': 92}. Best is trial 36 with value: 0.8592082549290472.\u001b[0m\n"
          ]
        },
        {
          "name": "stdout",
          "output_type": "stream",
          "text": [
            "filename ./models/lgbm_55 best_model_name./models/best_lgbm  best_trial_number 36\n",
            "STARTING Params: {'metric': 'AUC', 'verbosity': 0, 'device': 'gpu', 'boosting_type': 'gbdt', 'subsample': 0.5529668976281651, 'learning_rate': 0.01434050221744636, 'n_estimators': 5876, 'subsample_freq': 1, 'reg_alpha': 20, 'reg_lambda': 10, 'max_depth': 7, 'num_leaves': 5, 'feature_fraction': 0.6158325445087947, 'min_child_samples': 90, 'objective': 'binary'}\n",
            "Param: {'metric': 'AUC', 'verbosity': 0, 'device': 'gpu', 'boosting_type': 'gbdt', 'subsample': 0.5529668976281651, 'learning_rate': 0.01434050221744636, 'n_estimators': 5876, 'subsample_freq': 1, 'reg_alpha': 20, 'reg_lambda': 10, 'max_depth': 7, 'num_leaves': 5, 'feature_fraction': 0.6158325445087947, 'min_child_samples': 90, 'objective': 'binary'}\n"
          ]
        },
        {
          "name": "stderr",
          "output_type": "stream",
          "text": [
            "/usr/local/lib/python3.7/dist-packages/sklearn/preprocessing/_label.py:235: DataConversionWarning:\n",
            "\n",
            "A column-vector y was passed when a 1d array was expected. Please change the shape of y to (n_samples, ), for example using ravel().\n",
            "\n",
            "/usr/local/lib/python3.7/dist-packages/sklearn/preprocessing/_label.py:268: DataConversionWarning:\n",
            "\n",
            "A column-vector y was passed when a 1d array was expected. Please change the shape of y to (n_samples, ), for example using ravel().\n",
            "\n"
          ]
        },
        {
          "name": "stdout",
          "output_type": "stream",
          "text": [
            "[LightGBM] [Warning] feature_fraction is set=0.6158325445087947, colsample_bytree=1.0 will be ignored. Current value: feature_fraction=0.6158325445087947\n",
            "[LightGBM] [Warning] feature_fraction is set=0.6158325445087947, colsample_bytree=1.0 will be ignored. Current value: feature_fraction=0.6158325445087947\n",
            "New AUC Score 0.8566169597908975\n"
          ]
        },
        {
          "name": "stderr",
          "output_type": "stream",
          "text": [
            "/usr/local/lib/python3.7/dist-packages/sklearn/preprocessing/_label.py:235: DataConversionWarning:\n",
            "\n",
            "A column-vector y was passed when a 1d array was expected. Please change the shape of y to (n_samples, ), for example using ravel().\n",
            "\n",
            "/usr/local/lib/python3.7/dist-packages/sklearn/preprocessing/_label.py:268: DataConversionWarning:\n",
            "\n",
            "A column-vector y was passed when a 1d array was expected. Please change the shape of y to (n_samples, ), for example using ravel().\n",
            "\n"
          ]
        },
        {
          "name": "stdout",
          "output_type": "stream",
          "text": [
            "[LightGBM] [Warning] feature_fraction is set=0.6158325445087947, colsample_bytree=1.0 will be ignored. Current value: feature_fraction=0.6158325445087947\n",
            "[LightGBM] [Warning] feature_fraction is set=0.6158325445087947, colsample_bytree=1.0 will be ignored. Current value: feature_fraction=0.6158325445087947\n",
            "New AUC Score 0.8567727272374591\n"
          ]
        },
        {
          "name": "stderr",
          "output_type": "stream",
          "text": [
            "/usr/local/lib/python3.7/dist-packages/sklearn/preprocessing/_label.py:235: DataConversionWarning:\n",
            "\n",
            "A column-vector y was passed when a 1d array was expected. Please change the shape of y to (n_samples, ), for example using ravel().\n",
            "\n",
            "/usr/local/lib/python3.7/dist-packages/sklearn/preprocessing/_label.py:268: DataConversionWarning:\n",
            "\n",
            "A column-vector y was passed when a 1d array was expected. Please change the shape of y to (n_samples, ), for example using ravel().\n",
            "\n"
          ]
        },
        {
          "name": "stdout",
          "output_type": "stream",
          "text": [
            "[LightGBM] [Warning] feature_fraction is set=0.6158325445087947, colsample_bytree=1.0 will be ignored. Current value: feature_fraction=0.6158325445087947\n",
            "[LightGBM] [Warning] feature_fraction is set=0.6158325445087947, colsample_bytree=1.0 will be ignored. Current value: feature_fraction=0.6158325445087947\n",
            "New AUC Score 0.8562914579846328\n"
          ]
        },
        {
          "name": "stderr",
          "output_type": "stream",
          "text": [
            "/usr/local/lib/python3.7/dist-packages/sklearn/preprocessing/_label.py:235: DataConversionWarning:\n",
            "\n",
            "A column-vector y was passed when a 1d array was expected. Please change the shape of y to (n_samples, ), for example using ravel().\n",
            "\n",
            "/usr/local/lib/python3.7/dist-packages/sklearn/preprocessing/_label.py:268: DataConversionWarning:\n",
            "\n",
            "A column-vector y was passed when a 1d array was expected. Please change the shape of y to (n_samples, ), for example using ravel().\n",
            "\n"
          ]
        },
        {
          "name": "stdout",
          "output_type": "stream",
          "text": [
            "[LightGBM] [Warning] feature_fraction is set=0.6158325445087947, colsample_bytree=1.0 will be ignored. Current value: feature_fraction=0.6158325445087947\n",
            "[LightGBM] [Warning] feature_fraction is set=0.6158325445087947, colsample_bytree=1.0 will be ignored. Current value: feature_fraction=0.6158325445087947\n",
            "New AUC Score 0.855903614619711\n"
          ]
        },
        {
          "name": "stderr",
          "output_type": "stream",
          "text": [
            "/usr/local/lib/python3.7/dist-packages/sklearn/preprocessing/_label.py:235: DataConversionWarning:\n",
            "\n",
            "A column-vector y was passed when a 1d array was expected. Please change the shape of y to (n_samples, ), for example using ravel().\n",
            "\n",
            "/usr/local/lib/python3.7/dist-packages/sklearn/preprocessing/_label.py:268: DataConversionWarning:\n",
            "\n",
            "A column-vector y was passed when a 1d array was expected. Please change the shape of y to (n_samples, ), for example using ravel().\n",
            "\n"
          ]
        },
        {
          "name": "stdout",
          "output_type": "stream",
          "text": [
            "[LightGBM] [Warning] feature_fraction is set=0.6158325445087947, colsample_bytree=1.0 will be ignored. Current value: feature_fraction=0.6158325445087947\n",
            "[LightGBM] [Warning] feature_fraction is set=0.6158325445087947, colsample_bytree=1.0 will be ignored. Current value: feature_fraction=0.6158325445087947\n"
          ]
        },
        {
          "name": "stderr",
          "output_type": "stream",
          "text": [
            "\u001b[32m[I 2021-10-03 18:47:28,142]\u001b[0m Trial 56 finished with value: 0.8567727272374591 and parameters: {'boosting_type': 'gbdt', 'subsample': 0.5529668976281651, 'eta': 0.01434050221744636, 'n_estimators': 5876, 'reg_alpha': 20, 'reg_lambda': 10, 'max_depth': 7, 'num_leaves': 5, 'feature_fraction': 0.6158325445087947, 'min_child_samples': 90}. Best is trial 36 with value: 0.8592082549290472.\u001b[0m\n"
          ]
        },
        {
          "name": "stdout",
          "output_type": "stream",
          "text": [
            "New AUC Score 0.8559782339899203\n",
            "all scores [0.8566169597908975, 0.8567727272374591, 0.8562914579846328, 0.855903614619711, 0.8559782339899203]\n",
            "Roc AUC score 0.8567727272374591\n",
            "{'boosting_type': 'gbdt', 'class_weight': None, 'colsample_bytree': 1.0, 'importance_type': 'split', 'learning_rate': 0.01434050221744636, 'max_depth': 7, 'min_child_samples': 90, 'min_child_weight': 0.001, 'min_split_gain': 0.0, 'n_estimators': 5876, 'n_jobs': -1, 'num_leaves': 5, 'objective': 'binary', 'random_state': 42, 'reg_alpha': 20, 'reg_lambda': 10, 'silent': True, 'subsample': 0.5529668976281651, 'subsample_for_bin': 200000, 'subsample_freq': 1, 'metric': 'AUC', 'verbosity': 0, 'device': 'gpu', 'feature_fraction': 0.6158325445087947}\n",
            "filename ./models/lgbm_56 best_model_name./models/best_lgbm  best_trial_number 36\n",
            "STARTING Params: {'metric': 'AUC', 'verbosity': 0, 'device': 'gpu', 'boosting_type': 'gbdt', 'subsample': 0.5577687181961775, 'learning_rate': 0.0051705441988125125, 'n_estimators': 6623, 'subsample_freq': 1, 'reg_alpha': 12, 'reg_lambda': 15, 'max_depth': 8, 'num_leaves': 4, 'feature_fraction': 0.4617364104690741, 'min_child_samples': 100, 'objective': 'binary'}\n",
            "Param: {'metric': 'AUC', 'verbosity': 0, 'device': 'gpu', 'boosting_type': 'gbdt', 'subsample': 0.5577687181961775, 'learning_rate': 0.0051705441988125125, 'n_estimators': 6623, 'subsample_freq': 1, 'reg_alpha': 12, 'reg_lambda': 15, 'max_depth': 8, 'num_leaves': 4, 'feature_fraction': 0.4617364104690741, 'min_child_samples': 100, 'objective': 'binary'}\n"
          ]
        },
        {
          "name": "stderr",
          "output_type": "stream",
          "text": [
            "/usr/local/lib/python3.7/dist-packages/sklearn/preprocessing/_label.py:235: DataConversionWarning:\n",
            "\n",
            "A column-vector y was passed when a 1d array was expected. Please change the shape of y to (n_samples, ), for example using ravel().\n",
            "\n",
            "/usr/local/lib/python3.7/dist-packages/sklearn/preprocessing/_label.py:268: DataConversionWarning:\n",
            "\n",
            "A column-vector y was passed when a 1d array was expected. Please change the shape of y to (n_samples, ), for example using ravel().\n",
            "\n"
          ]
        },
        {
          "name": "stdout",
          "output_type": "stream",
          "text": [
            "[LightGBM] [Warning] feature_fraction is set=0.4617364104690741, colsample_bytree=1.0 will be ignored. Current value: feature_fraction=0.4617364104690741\n",
            "[LightGBM] [Warning] feature_fraction is set=0.4617364104690741, colsample_bytree=1.0 will be ignored. Current value: feature_fraction=0.4617364104690741\n",
            "New AUC Score 0.8514433367230355\n"
          ]
        },
        {
          "name": "stderr",
          "output_type": "stream",
          "text": [
            "/usr/local/lib/python3.7/dist-packages/sklearn/preprocessing/_label.py:235: DataConversionWarning:\n",
            "\n",
            "A column-vector y was passed when a 1d array was expected. Please change the shape of y to (n_samples, ), for example using ravel().\n",
            "\n",
            "/usr/local/lib/python3.7/dist-packages/sklearn/preprocessing/_label.py:268: DataConversionWarning:\n",
            "\n",
            "A column-vector y was passed when a 1d array was expected. Please change the shape of y to (n_samples, ), for example using ravel().\n",
            "\n"
          ]
        },
        {
          "name": "stdout",
          "output_type": "stream",
          "text": [
            "[LightGBM] [Warning] feature_fraction is set=0.4617364104690741, colsample_bytree=1.0 will be ignored. Current value: feature_fraction=0.4617364104690741\n",
            "[LightGBM] [Warning] feature_fraction is set=0.4617364104690741, colsample_bytree=1.0 will be ignored. Current value: feature_fraction=0.4617364104690741\n",
            "New AUC Score 0.8504243093642327\n"
          ]
        },
        {
          "name": "stderr",
          "output_type": "stream",
          "text": [
            "/usr/local/lib/python3.7/dist-packages/sklearn/preprocessing/_label.py:235: DataConversionWarning:\n",
            "\n",
            "A column-vector y was passed when a 1d array was expected. Please change the shape of y to (n_samples, ), for example using ravel().\n",
            "\n",
            "/usr/local/lib/python3.7/dist-packages/sklearn/preprocessing/_label.py:268: DataConversionWarning:\n",
            "\n",
            "A column-vector y was passed when a 1d array was expected. Please change the shape of y to (n_samples, ), for example using ravel().\n",
            "\n"
          ]
        },
        {
          "name": "stdout",
          "output_type": "stream",
          "text": [
            "[LightGBM] [Warning] feature_fraction is set=0.4617364104690741, colsample_bytree=1.0 will be ignored. Current value: feature_fraction=0.4617364104690741\n",
            "[LightGBM] [Warning] feature_fraction is set=0.4617364104690741, colsample_bytree=1.0 will be ignored. Current value: feature_fraction=0.4617364104690741\n",
            "New AUC Score 0.8525334056486814\n"
          ]
        },
        {
          "name": "stderr",
          "output_type": "stream",
          "text": [
            "/usr/local/lib/python3.7/dist-packages/sklearn/preprocessing/_label.py:235: DataConversionWarning:\n",
            "\n",
            "A column-vector y was passed when a 1d array was expected. Please change the shape of y to (n_samples, ), for example using ravel().\n",
            "\n",
            "/usr/local/lib/python3.7/dist-packages/sklearn/preprocessing/_label.py:268: DataConversionWarning:\n",
            "\n",
            "A column-vector y was passed when a 1d array was expected. Please change the shape of y to (n_samples, ), for example using ravel().\n",
            "\n"
          ]
        },
        {
          "name": "stdout",
          "output_type": "stream",
          "text": [
            "[LightGBM] [Warning] feature_fraction is set=0.4617364104690741, colsample_bytree=1.0 will be ignored. Current value: feature_fraction=0.4617364104690741\n",
            "[LightGBM] [Warning] feature_fraction is set=0.4617364104690741, colsample_bytree=1.0 will be ignored. Current value: feature_fraction=0.4617364104690741\n",
            "New AUC Score 0.8504607909985582\n"
          ]
        },
        {
          "name": "stderr",
          "output_type": "stream",
          "text": [
            "/usr/local/lib/python3.7/dist-packages/sklearn/preprocessing/_label.py:235: DataConversionWarning:\n",
            "\n",
            "A column-vector y was passed when a 1d array was expected. Please change the shape of y to (n_samples, ), for example using ravel().\n",
            "\n",
            "/usr/local/lib/python3.7/dist-packages/sklearn/preprocessing/_label.py:268: DataConversionWarning:\n",
            "\n",
            "A column-vector y was passed when a 1d array was expected. Please change the shape of y to (n_samples, ), for example using ravel().\n",
            "\n"
          ]
        },
        {
          "name": "stdout",
          "output_type": "stream",
          "text": [
            "[LightGBM] [Warning] feature_fraction is set=0.4617364104690741, colsample_bytree=1.0 will be ignored. Current value: feature_fraction=0.4617364104690741\n",
            "[LightGBM] [Warning] feature_fraction is set=0.4617364104690741, colsample_bytree=1.0 will be ignored. Current value: feature_fraction=0.4617364104690741\n",
            "New AUC Score 0.8511746267702063\n",
            "all scores [0.8514433367230355, 0.8504243093642327, 0.8525334056486814, 0.8504607909985582, 0.8511746267702063]\n",
            "Roc AUC score 0.8525334056486814\n",
            "{'boosting_type': 'gbdt', 'class_weight': None, 'colsample_bytree': 1.0, 'importance_type': 'split', 'learning_rate': 0.0051705441988125125, 'max_depth': 8, 'min_child_samples': 100, 'min_child_weight': 0.001, 'min_split_gain': 0.0, 'n_estimators': 6623, 'n_jobs': -1, 'num_leaves': 4, 'objective': 'binary', 'random_state': 42, 'reg_alpha': 12, 'reg_lambda': 15, 'silent': True, 'subsample': 0.5577687181961775, 'subsample_for_bin': 200000, 'subsample_freq': 1, 'metric': 'AUC', 'verbosity': 0, 'device': 'gpu', 'feature_fraction': 0.4617364104690741}\n"
          ]
        },
        {
          "name": "stderr",
          "output_type": "stream",
          "text": [
            "\u001b[32m[I 2021-10-03 19:01:59,233]\u001b[0m Trial 57 finished with value: 0.8525334056486814 and parameters: {'boosting_type': 'gbdt', 'subsample': 0.5577687181961775, 'eta': 0.0051705441988125125, 'n_estimators': 6623, 'reg_alpha': 12, 'reg_lambda': 15, 'max_depth': 8, 'num_leaves': 4, 'feature_fraction': 0.4617364104690741, 'min_child_samples': 100}. Best is trial 36 with value: 0.8592082549290472.\u001b[0m\n"
          ]
        },
        {
          "name": "stdout",
          "output_type": "stream",
          "text": [
            "filename ./models/lgbm_57 best_model_name./models/best_lgbm  best_trial_number 36\n",
            "STARTING Params: {'metric': 'AUC', 'verbosity': 0, 'device': 'gpu', 'boosting_type': 'gbdt', 'subsample': 0.5454227280378222, 'learning_rate': 0.013634027183089528, 'n_estimators': 1913, 'subsample_freq': 1, 'reg_alpha': 18, 'reg_lambda': 18, 'max_depth': 7, 'num_leaves': 6, 'feature_fraction': 0.7146088402987475, 'min_child_samples': 12, 'objective': 'binary'}\n",
            "Param: {'metric': 'AUC', 'verbosity': 0, 'device': 'gpu', 'boosting_type': 'gbdt', 'subsample': 0.5454227280378222, 'learning_rate': 0.013634027183089528, 'n_estimators': 1913, 'subsample_freq': 1, 'reg_alpha': 18, 'reg_lambda': 18, 'max_depth': 7, 'num_leaves': 6, 'feature_fraction': 0.7146088402987475, 'min_child_samples': 12, 'objective': 'binary'}\n"
          ]
        },
        {
          "name": "stderr",
          "output_type": "stream",
          "text": [
            "/usr/local/lib/python3.7/dist-packages/sklearn/preprocessing/_label.py:235: DataConversionWarning:\n",
            "\n",
            "A column-vector y was passed when a 1d array was expected. Please change the shape of y to (n_samples, ), for example using ravel().\n",
            "\n",
            "/usr/local/lib/python3.7/dist-packages/sklearn/preprocessing/_label.py:268: DataConversionWarning:\n",
            "\n",
            "A column-vector y was passed when a 1d array was expected. Please change the shape of y to (n_samples, ), for example using ravel().\n",
            "\n"
          ]
        },
        {
          "name": "stdout",
          "output_type": "stream",
          "text": [
            "[LightGBM] [Warning] feature_fraction is set=0.7146088402987475, colsample_bytree=1.0 will be ignored. Current value: feature_fraction=0.7146088402987475\n",
            "[LightGBM] [Warning] feature_fraction is set=0.7146088402987475, colsample_bytree=1.0 will be ignored. Current value: feature_fraction=0.7146088402987475\n",
            "New AUC Score 0.8519535611031056\n"
          ]
        },
        {
          "name": "stderr",
          "output_type": "stream",
          "text": [
            "/usr/local/lib/python3.7/dist-packages/sklearn/preprocessing/_label.py:235: DataConversionWarning:\n",
            "\n",
            "A column-vector y was passed when a 1d array was expected. Please change the shape of y to (n_samples, ), for example using ravel().\n",
            "\n",
            "/usr/local/lib/python3.7/dist-packages/sklearn/preprocessing/_label.py:268: DataConversionWarning:\n",
            "\n",
            "A column-vector y was passed when a 1d array was expected. Please change the shape of y to (n_samples, ), for example using ravel().\n",
            "\n"
          ]
        },
        {
          "name": "stdout",
          "output_type": "stream",
          "text": [
            "[LightGBM] [Warning] feature_fraction is set=0.7146088402987475, colsample_bytree=1.0 will be ignored. Current value: feature_fraction=0.7146088402987475\n",
            "[LightGBM] [Warning] feature_fraction is set=0.7146088402987475, colsample_bytree=1.0 will be ignored. Current value: feature_fraction=0.7146088402987475\n",
            "New AUC Score 0.8518163387739932\n"
          ]
        },
        {
          "name": "stderr",
          "output_type": "stream",
          "text": [
            "/usr/local/lib/python3.7/dist-packages/sklearn/preprocessing/_label.py:235: DataConversionWarning:\n",
            "\n",
            "A column-vector y was passed when a 1d array was expected. Please change the shape of y to (n_samples, ), for example using ravel().\n",
            "\n",
            "/usr/local/lib/python3.7/dist-packages/sklearn/preprocessing/_label.py:268: DataConversionWarning:\n",
            "\n",
            "A column-vector y was passed when a 1d array was expected. Please change the shape of y to (n_samples, ), for example using ravel().\n",
            "\n"
          ]
        },
        {
          "name": "stdout",
          "output_type": "stream",
          "text": [
            "[LightGBM] [Warning] feature_fraction is set=0.7146088402987475, colsample_bytree=1.0 will be ignored. Current value: feature_fraction=0.7146088402987475\n",
            "[LightGBM] [Warning] feature_fraction is set=0.7146088402987475, colsample_bytree=1.0 will be ignored. Current value: feature_fraction=0.7146088402987475\n",
            "New AUC Score 0.8524774540960366\n"
          ]
        },
        {
          "name": "stderr",
          "output_type": "stream",
          "text": [
            "/usr/local/lib/python3.7/dist-packages/sklearn/preprocessing/_label.py:235: DataConversionWarning:\n",
            "\n",
            "A column-vector y was passed when a 1d array was expected. Please change the shape of y to (n_samples, ), for example using ravel().\n",
            "\n",
            "/usr/local/lib/python3.7/dist-packages/sklearn/preprocessing/_label.py:268: DataConversionWarning:\n",
            "\n",
            "A column-vector y was passed when a 1d array was expected. Please change the shape of y to (n_samples, ), for example using ravel().\n",
            "\n"
          ]
        },
        {
          "name": "stdout",
          "output_type": "stream",
          "text": [
            "[LightGBM] [Warning] feature_fraction is set=0.7146088402987475, colsample_bytree=1.0 will be ignored. Current value: feature_fraction=0.7146088402987475\n",
            "[LightGBM] [Warning] feature_fraction is set=0.7146088402987475, colsample_bytree=1.0 will be ignored. Current value: feature_fraction=0.7146088402987475\n",
            "New AUC Score 0.8503022991494333\n"
          ]
        },
        {
          "name": "stderr",
          "output_type": "stream",
          "text": [
            "/usr/local/lib/python3.7/dist-packages/sklearn/preprocessing/_label.py:235: DataConversionWarning:\n",
            "\n",
            "A column-vector y was passed when a 1d array was expected. Please change the shape of y to (n_samples, ), for example using ravel().\n",
            "\n",
            "/usr/local/lib/python3.7/dist-packages/sklearn/preprocessing/_label.py:268: DataConversionWarning:\n",
            "\n",
            "A column-vector y was passed when a 1d array was expected. Please change the shape of y to (n_samples, ), for example using ravel().\n",
            "\n"
          ]
        },
        {
          "name": "stdout",
          "output_type": "stream",
          "text": [
            "[LightGBM] [Warning] feature_fraction is set=0.7146088402987475, colsample_bytree=1.0 will be ignored. Current value: feature_fraction=0.7146088402987475\n",
            "[LightGBM] [Warning] feature_fraction is set=0.7146088402987475, colsample_bytree=1.0 will be ignored. Current value: feature_fraction=0.7146088402987475\n"
          ]
        },
        {
          "name": "stderr",
          "output_type": "stream",
          "text": [
            "\u001b[32m[I 2021-10-03 19:05:29,165]\u001b[0m Trial 58 finished with value: 0.8524774540960366 and parameters: {'boosting_type': 'gbdt', 'subsample': 0.5454227280378222, 'eta': 0.013634027183089528, 'n_estimators': 1913, 'reg_alpha': 18, 'reg_lambda': 18, 'max_depth': 7, 'num_leaves': 6, 'feature_fraction': 0.7146088402987475, 'min_child_samples': 12}. Best is trial 36 with value: 0.8592082549290472.\u001b[0m\n"
          ]
        },
        {
          "name": "stdout",
          "output_type": "stream",
          "text": [
            "New AUC Score 0.8508657302795657\n",
            "all scores [0.8519535611031056, 0.8518163387739932, 0.8524774540960366, 0.8503022991494333, 0.8508657302795657]\n",
            "Roc AUC score 0.8524774540960366\n",
            "{'boosting_type': 'gbdt', 'class_weight': None, 'colsample_bytree': 1.0, 'importance_type': 'split', 'learning_rate': 0.013634027183089528, 'max_depth': 7, 'min_child_samples': 12, 'min_child_weight': 0.001, 'min_split_gain': 0.0, 'n_estimators': 1913, 'n_jobs': -1, 'num_leaves': 6, 'objective': 'binary', 'random_state': 42, 'reg_alpha': 18, 'reg_lambda': 18, 'silent': True, 'subsample': 0.5454227280378222, 'subsample_for_bin': 200000, 'subsample_freq': 1, 'metric': 'AUC', 'verbosity': 0, 'device': 'gpu', 'feature_fraction': 0.7146088402987475}\n",
            "filename ./models/lgbm_58 best_model_name./models/best_lgbm  best_trial_number 36\n",
            "STARTING Params: {'metric': 'AUC', 'verbosity': 0, 'device': 'gpu', 'boosting_type': 'gbdt', 'subsample': 0.5938572542292402, 'learning_rate': 0.014960922317452668, 'n_estimators': 9258, 'subsample_freq': 1, 'reg_alpha': 20, 'reg_lambda': 16, 'max_depth': 8, 'num_leaves': 3, 'feature_fraction': 0.5827551917618244, 'min_child_samples': 55, 'objective': 'binary'}\n",
            "Param: {'metric': 'AUC', 'verbosity': 0, 'device': 'gpu', 'boosting_type': 'gbdt', 'subsample': 0.5938572542292402, 'learning_rate': 0.014960922317452668, 'n_estimators': 9258, 'subsample_freq': 1, 'reg_alpha': 20, 'reg_lambda': 16, 'max_depth': 8, 'num_leaves': 3, 'feature_fraction': 0.5827551917618244, 'min_child_samples': 55, 'objective': 'binary'}\n"
          ]
        },
        {
          "name": "stderr",
          "output_type": "stream",
          "text": [
            "/usr/local/lib/python3.7/dist-packages/sklearn/preprocessing/_label.py:235: DataConversionWarning:\n",
            "\n",
            "A column-vector y was passed when a 1d array was expected. Please change the shape of y to (n_samples, ), for example using ravel().\n",
            "\n",
            "/usr/local/lib/python3.7/dist-packages/sklearn/preprocessing/_label.py:268: DataConversionWarning:\n",
            "\n",
            "A column-vector y was passed when a 1d array was expected. Please change the shape of y to (n_samples, ), for example using ravel().\n",
            "\n"
          ]
        },
        {
          "name": "stdout",
          "output_type": "stream",
          "text": [
            "[LightGBM] [Warning] feature_fraction is set=0.5827551917618244, colsample_bytree=1.0 will be ignored. Current value: feature_fraction=0.5827551917618244\n",
            "[LightGBM] [Warning] feature_fraction is set=0.5827551917618244, colsample_bytree=1.0 will be ignored. Current value: feature_fraction=0.5827551917618244\n",
            "New AUC Score 0.8560077475176897\n"
          ]
        },
        {
          "name": "stderr",
          "output_type": "stream",
          "text": [
            "/usr/local/lib/python3.7/dist-packages/sklearn/preprocessing/_label.py:235: DataConversionWarning:\n",
            "\n",
            "A column-vector y was passed when a 1d array was expected. Please change the shape of y to (n_samples, ), for example using ravel().\n",
            "\n",
            "/usr/local/lib/python3.7/dist-packages/sklearn/preprocessing/_label.py:268: DataConversionWarning:\n",
            "\n",
            "A column-vector y was passed when a 1d array was expected. Please change the shape of y to (n_samples, ), for example using ravel().\n",
            "\n"
          ]
        },
        {
          "name": "stdout",
          "output_type": "stream",
          "text": [
            "[LightGBM] [Warning] feature_fraction is set=0.5827551917618244, colsample_bytree=1.0 will be ignored. Current value: feature_fraction=0.5827551917618244\n",
            "[LightGBM] [Warning] feature_fraction is set=0.5827551917618244, colsample_bytree=1.0 will be ignored. Current value: feature_fraction=0.5827551917618244\n",
            "New AUC Score 0.8548201163002473\n"
          ]
        },
        {
          "name": "stderr",
          "output_type": "stream",
          "text": [
            "/usr/local/lib/python3.7/dist-packages/sklearn/preprocessing/_label.py:235: DataConversionWarning:\n",
            "\n",
            "A column-vector y was passed when a 1d array was expected. Please change the shape of y to (n_samples, ), for example using ravel().\n",
            "\n",
            "/usr/local/lib/python3.7/dist-packages/sklearn/preprocessing/_label.py:268: DataConversionWarning:\n",
            "\n",
            "A column-vector y was passed when a 1d array was expected. Please change the shape of y to (n_samples, ), for example using ravel().\n",
            "\n"
          ]
        },
        {
          "name": "stdout",
          "output_type": "stream",
          "text": [
            "[LightGBM] [Warning] feature_fraction is set=0.5827551917618244, colsample_bytree=1.0 will be ignored. Current value: feature_fraction=0.5827551917618244\n",
            "[LightGBM] [Warning] feature_fraction is set=0.5827551917618244, colsample_bytree=1.0 will be ignored. Current value: feature_fraction=0.5827551917618244\n",
            "New AUC Score 0.8555795272147771\n"
          ]
        },
        {
          "name": "stderr",
          "output_type": "stream",
          "text": [
            "/usr/local/lib/python3.7/dist-packages/sklearn/preprocessing/_label.py:235: DataConversionWarning:\n",
            "\n",
            "A column-vector y was passed when a 1d array was expected. Please change the shape of y to (n_samples, ), for example using ravel().\n",
            "\n",
            "/usr/local/lib/python3.7/dist-packages/sklearn/preprocessing/_label.py:268: DataConversionWarning:\n",
            "\n",
            "A column-vector y was passed when a 1d array was expected. Please change the shape of y to (n_samples, ), for example using ravel().\n",
            "\n"
          ]
        },
        {
          "name": "stdout",
          "output_type": "stream",
          "text": [
            "[LightGBM] [Warning] feature_fraction is set=0.5827551917618244, colsample_bytree=1.0 will be ignored. Current value: feature_fraction=0.5827551917618244\n",
            "[LightGBM] [Warning] feature_fraction is set=0.5827551917618244, colsample_bytree=1.0 will be ignored. Current value: feature_fraction=0.5827551917618244\n",
            "New AUC Score 0.8572380108752444\n"
          ]
        },
        {
          "name": "stderr",
          "output_type": "stream",
          "text": [
            "/usr/local/lib/python3.7/dist-packages/sklearn/preprocessing/_label.py:235: DataConversionWarning:\n",
            "\n",
            "A column-vector y was passed when a 1d array was expected. Please change the shape of y to (n_samples, ), for example using ravel().\n",
            "\n",
            "/usr/local/lib/python3.7/dist-packages/sklearn/preprocessing/_label.py:268: DataConversionWarning:\n",
            "\n",
            "A column-vector y was passed when a 1d array was expected. Please change the shape of y to (n_samples, ), for example using ravel().\n",
            "\n"
          ]
        },
        {
          "name": "stdout",
          "output_type": "stream",
          "text": [
            "[LightGBM] [Warning] feature_fraction is set=0.5827551917618244, colsample_bytree=1.0 will be ignored. Current value: feature_fraction=0.5827551917618244\n",
            "[LightGBM] [Warning] feature_fraction is set=0.5827551917618244, colsample_bytree=1.0 will be ignored. Current value: feature_fraction=0.5827551917618244\n",
            "New AUC Score 0.8560364353446821\n",
            "all scores [0.8560077475176897, 0.8548201163002473, 0.8555795272147771, 0.8572380108752444, 0.8560364353446821]\n",
            "Roc AUC score 0.8572380108752444\n",
            "{'boosting_type': 'gbdt', 'class_weight': None, 'colsample_bytree': 1.0, 'importance_type': 'split', 'learning_rate': 0.014960922317452668, 'max_depth': 8, 'min_child_samples': 55, 'min_child_weight': 0.001, 'min_split_gain': 0.0, 'n_estimators': 9258, 'n_jobs': -1, 'num_leaves': 3, 'objective': 'binary', 'random_state': 42, 'reg_alpha': 20, 'reg_lambda': 16, 'silent': True, 'subsample': 0.5938572542292402, 'subsample_for_bin': 200000, 'subsample_freq': 1, 'metric': 'AUC', 'verbosity': 0, 'device': 'gpu', 'feature_fraction': 0.5827551917618244}\n"
          ]
        },
        {
          "name": "stderr",
          "output_type": "stream",
          "text": [
            "\u001b[32m[I 2021-10-03 19:21:06,173]\u001b[0m Trial 59 finished with value: 0.8572380108752444 and parameters: {'boosting_type': 'gbdt', 'subsample': 0.5938572542292402, 'eta': 0.014960922317452668, 'n_estimators': 9258, 'reg_alpha': 20, 'reg_lambda': 16, 'max_depth': 8, 'num_leaves': 3, 'feature_fraction': 0.5827551917618244, 'min_child_samples': 55}. Best is trial 36 with value: 0.8592082549290472.\u001b[0m\n"
          ]
        },
        {
          "name": "stdout",
          "output_type": "stream",
          "text": [
            "filename ./models/lgbm_59 best_model_name./models/best_lgbm  best_trial_number 36\n",
            "STARTING Params: {'metric': 'AUC', 'verbosity': 0, 'device': 'gpu', 'boosting_type': 'gbdt', 'subsample': 0.5665242610861405, 'learning_rate': 0.012985761547575784, 'n_estimators': 9806, 'subsample_freq': 1, 'reg_alpha': 19, 'reg_lambda': 17, 'max_depth': 6, 'num_leaves': 4, 'feature_fraction': 0.5500437010000064, 'min_child_samples': 74, 'objective': 'binary'}\n",
            "Param: {'metric': 'AUC', 'verbosity': 0, 'device': 'gpu', 'boosting_type': 'gbdt', 'subsample': 0.5665242610861405, 'learning_rate': 0.012985761547575784, 'n_estimators': 9806, 'subsample_freq': 1, 'reg_alpha': 19, 'reg_lambda': 17, 'max_depth': 6, 'num_leaves': 4, 'feature_fraction': 0.5500437010000064, 'min_child_samples': 74, 'objective': 'binary'}\n"
          ]
        },
        {
          "name": "stderr",
          "output_type": "stream",
          "text": [
            "/usr/local/lib/python3.7/dist-packages/sklearn/preprocessing/_label.py:235: DataConversionWarning:\n",
            "\n",
            "A column-vector y was passed when a 1d array was expected. Please change the shape of y to (n_samples, ), for example using ravel().\n",
            "\n",
            "/usr/local/lib/python3.7/dist-packages/sklearn/preprocessing/_label.py:268: DataConversionWarning:\n",
            "\n",
            "A column-vector y was passed when a 1d array was expected. Please change the shape of y to (n_samples, ), for example using ravel().\n",
            "\n"
          ]
        },
        {
          "name": "stdout",
          "output_type": "stream",
          "text": [
            "[LightGBM] [Warning] feature_fraction is set=0.5500437010000064, colsample_bytree=1.0 will be ignored. Current value: feature_fraction=0.5500437010000064\n",
            "[LightGBM] [Warning] feature_fraction is set=0.5500437010000064, colsample_bytree=1.0 will be ignored. Current value: feature_fraction=0.5500437010000064\n",
            "New AUC Score 0.8561226803258298\n"
          ]
        },
        {
          "name": "stderr",
          "output_type": "stream",
          "text": [
            "/usr/local/lib/python3.7/dist-packages/sklearn/preprocessing/_label.py:235: DataConversionWarning:\n",
            "\n",
            "A column-vector y was passed when a 1d array was expected. Please change the shape of y to (n_samples, ), for example using ravel().\n",
            "\n",
            "/usr/local/lib/python3.7/dist-packages/sklearn/preprocessing/_label.py:268: DataConversionWarning:\n",
            "\n",
            "A column-vector y was passed when a 1d array was expected. Please change the shape of y to (n_samples, ), for example using ravel().\n",
            "\n"
          ]
        },
        {
          "name": "stdout",
          "output_type": "stream",
          "text": [
            "[LightGBM] [Warning] feature_fraction is set=0.5500437010000064, colsample_bytree=1.0 will be ignored. Current value: feature_fraction=0.5500437010000064\n",
            "[LightGBM] [Warning] feature_fraction is set=0.5500437010000064, colsample_bytree=1.0 will be ignored. Current value: feature_fraction=0.5500437010000064\n",
            "New AUC Score 0.8555704502062367\n"
          ]
        },
        {
          "name": "stderr",
          "output_type": "stream",
          "text": [
            "/usr/local/lib/python3.7/dist-packages/sklearn/preprocessing/_label.py:235: DataConversionWarning:\n",
            "\n",
            "A column-vector y was passed when a 1d array was expected. Please change the shape of y to (n_samples, ), for example using ravel().\n",
            "\n",
            "/usr/local/lib/python3.7/dist-packages/sklearn/preprocessing/_label.py:268: DataConversionWarning:\n",
            "\n",
            "A column-vector y was passed when a 1d array was expected. Please change the shape of y to (n_samples, ), for example using ravel().\n",
            "\n"
          ]
        },
        {
          "name": "stdout",
          "output_type": "stream",
          "text": [
            "[LightGBM] [Warning] feature_fraction is set=0.5500437010000064, colsample_bytree=1.0 will be ignored. Current value: feature_fraction=0.5500437010000064\n",
            "[LightGBM] [Warning] feature_fraction is set=0.5500437010000064, colsample_bytree=1.0 will be ignored. Current value: feature_fraction=0.5500437010000064\n",
            "New AUC Score 0.8576546452672558\n"
          ]
        },
        {
          "name": "stderr",
          "output_type": "stream",
          "text": [
            "/usr/local/lib/python3.7/dist-packages/sklearn/preprocessing/_label.py:235: DataConversionWarning:\n",
            "\n",
            "A column-vector y was passed when a 1d array was expected. Please change the shape of y to (n_samples, ), for example using ravel().\n",
            "\n",
            "/usr/local/lib/python3.7/dist-packages/sklearn/preprocessing/_label.py:268: DataConversionWarning:\n",
            "\n",
            "A column-vector y was passed when a 1d array was expected. Please change the shape of y to (n_samples, ), for example using ravel().\n",
            "\n"
          ]
        },
        {
          "name": "stdout",
          "output_type": "stream",
          "text": [
            "[LightGBM] [Warning] feature_fraction is set=0.5500437010000064, colsample_bytree=1.0 will be ignored. Current value: feature_fraction=0.5500437010000064\n",
            "[LightGBM] [Warning] feature_fraction is set=0.5500437010000064, colsample_bytree=1.0 will be ignored. Current value: feature_fraction=0.5500437010000064\n",
            "New AUC Score 0.8561469710486851\n"
          ]
        },
        {
          "name": "stderr",
          "output_type": "stream",
          "text": [
            "/usr/local/lib/python3.7/dist-packages/sklearn/preprocessing/_label.py:235: DataConversionWarning:\n",
            "\n",
            "A column-vector y was passed when a 1d array was expected. Please change the shape of y to (n_samples, ), for example using ravel().\n",
            "\n",
            "/usr/local/lib/python3.7/dist-packages/sklearn/preprocessing/_label.py:268: DataConversionWarning:\n",
            "\n",
            "A column-vector y was passed when a 1d array was expected. Please change the shape of y to (n_samples, ), for example using ravel().\n",
            "\n"
          ]
        },
        {
          "name": "stdout",
          "output_type": "stream",
          "text": [
            "[LightGBM] [Warning] feature_fraction is set=0.5500437010000064, colsample_bytree=1.0 will be ignored. Current value: feature_fraction=0.5500437010000064\n",
            "[LightGBM] [Warning] feature_fraction is set=0.5500437010000064, colsample_bytree=1.0 will be ignored. Current value: feature_fraction=0.5500437010000064\n",
            "New AUC Score 0.8574411391663679\n",
            "all scores [0.8561226803258298, 0.8555704502062367, 0.8576546452672558, 0.8561469710486851, 0.8574411391663679]\n",
            "Roc AUC score 0.8576546452672558\n",
            "{'boosting_type': 'gbdt', 'class_weight': None, 'colsample_bytree': 1.0, 'importance_type': 'split', 'learning_rate': 0.012985761547575784, 'max_depth': 6, 'min_child_samples': 74, 'min_child_weight': 0.001, 'min_split_gain': 0.0, 'n_estimators': 9806, 'n_jobs': -1, 'num_leaves': 4, 'objective': 'binary', 'random_state': 42, 'reg_alpha': 19, 'reg_lambda': 17, 'silent': True, 'subsample': 0.5665242610861405, 'subsample_for_bin': 200000, 'subsample_freq': 1, 'metric': 'AUC', 'verbosity': 0, 'device': 'gpu', 'feature_fraction': 0.5500437010000064}\n"
          ]
        },
        {
          "name": "stderr",
          "output_type": "stream",
          "text": [
            "\u001b[32m[I 2021-10-03 19:40:18,380]\u001b[0m Trial 60 finished with value: 0.8576546452672558 and parameters: {'boosting_type': 'gbdt', 'subsample': 0.5665242610861405, 'eta': 0.012985761547575784, 'n_estimators': 9806, 'reg_alpha': 19, 'reg_lambda': 17, 'max_depth': 6, 'num_leaves': 4, 'feature_fraction': 0.5500437010000064, 'min_child_samples': 74}. Best is trial 36 with value: 0.8592082549290472.\u001b[0m\n"
          ]
        },
        {
          "name": "stdout",
          "output_type": "stream",
          "text": [
            "filename ./models/lgbm_60 best_model_name./models/best_lgbm  best_trial_number 36\n",
            "STARTING Params: {'metric': 'AUC', 'verbosity': 0, 'device': 'gpu', 'boosting_type': 'gbdt', 'subsample': 0.5954062285595902, 'learning_rate': 0.014152393807556443, 'n_estimators': 6840, 'subsample_freq': 1, 'reg_alpha': 19, 'reg_lambda': 11, 'max_depth': 8, 'num_leaves': 7, 'feature_fraction': 0.665581617301843, 'min_child_samples': 84, 'objective': 'binary'}\n",
            "Param: {'metric': 'AUC', 'verbosity': 0, 'device': 'gpu', 'boosting_type': 'gbdt', 'subsample': 0.5954062285595902, 'learning_rate': 0.014152393807556443, 'n_estimators': 6840, 'subsample_freq': 1, 'reg_alpha': 19, 'reg_lambda': 11, 'max_depth': 8, 'num_leaves': 7, 'feature_fraction': 0.665581617301843, 'min_child_samples': 84, 'objective': 'binary'}\n"
          ]
        },
        {
          "name": "stderr",
          "output_type": "stream",
          "text": [
            "/usr/local/lib/python3.7/dist-packages/sklearn/preprocessing/_label.py:235: DataConversionWarning:\n",
            "\n",
            "A column-vector y was passed when a 1d array was expected. Please change the shape of y to (n_samples, ), for example using ravel().\n",
            "\n",
            "/usr/local/lib/python3.7/dist-packages/sklearn/preprocessing/_label.py:268: DataConversionWarning:\n",
            "\n",
            "A column-vector y was passed when a 1d array was expected. Please change the shape of y to (n_samples, ), for example using ravel().\n",
            "\n"
          ]
        },
        {
          "name": "stdout",
          "output_type": "stream",
          "text": [
            "[LightGBM] [Warning] feature_fraction is set=0.665581617301843, colsample_bytree=1.0 will be ignored. Current value: feature_fraction=0.665581617301843\n",
            "[LightGBM] [Warning] feature_fraction is set=0.665581617301843, colsample_bytree=1.0 will be ignored. Current value: feature_fraction=0.665581617301843\n",
            "New AUC Score 0.857025327975131\n"
          ]
        },
        {
          "name": "stderr",
          "output_type": "stream",
          "text": [
            "/usr/local/lib/python3.7/dist-packages/sklearn/preprocessing/_label.py:235: DataConversionWarning:\n",
            "\n",
            "A column-vector y was passed when a 1d array was expected. Please change the shape of y to (n_samples, ), for example using ravel().\n",
            "\n",
            "/usr/local/lib/python3.7/dist-packages/sklearn/preprocessing/_label.py:268: DataConversionWarning:\n",
            "\n",
            "A column-vector y was passed when a 1d array was expected. Please change the shape of y to (n_samples, ), for example using ravel().\n",
            "\n"
          ]
        },
        {
          "name": "stdout",
          "output_type": "stream",
          "text": [
            "[LightGBM] [Warning] feature_fraction is set=0.665581617301843, colsample_bytree=1.0 will be ignored. Current value: feature_fraction=0.665581617301843\n",
            "[LightGBM] [Warning] feature_fraction is set=0.665581617301843, colsample_bytree=1.0 will be ignored. Current value: feature_fraction=0.665581617301843\n",
            "New AUC Score 0.8573413541724801\n"
          ]
        },
        {
          "name": "stderr",
          "output_type": "stream",
          "text": [
            "/usr/local/lib/python3.7/dist-packages/sklearn/preprocessing/_label.py:235: DataConversionWarning:\n",
            "\n",
            "A column-vector y was passed when a 1d array was expected. Please change the shape of y to (n_samples, ), for example using ravel().\n",
            "\n",
            "/usr/local/lib/python3.7/dist-packages/sklearn/preprocessing/_label.py:268: DataConversionWarning:\n",
            "\n",
            "A column-vector y was passed when a 1d array was expected. Please change the shape of y to (n_samples, ), for example using ravel().\n",
            "\n"
          ]
        },
        {
          "name": "stdout",
          "output_type": "stream",
          "text": [
            "[LightGBM] [Warning] feature_fraction is set=0.665581617301843, colsample_bytree=1.0 will be ignored. Current value: feature_fraction=0.665581617301843\n",
            "[LightGBM] [Warning] feature_fraction is set=0.665581617301843, colsample_bytree=1.0 will be ignored. Current value: feature_fraction=0.665581617301843\n",
            "New AUC Score 0.8572423589793357\n"
          ]
        },
        {
          "name": "stderr",
          "output_type": "stream",
          "text": [
            "/usr/local/lib/python3.7/dist-packages/sklearn/preprocessing/_label.py:235: DataConversionWarning:\n",
            "\n",
            "A column-vector y was passed when a 1d array was expected. Please change the shape of y to (n_samples, ), for example using ravel().\n",
            "\n",
            "/usr/local/lib/python3.7/dist-packages/sklearn/preprocessing/_label.py:268: DataConversionWarning:\n",
            "\n",
            "A column-vector y was passed when a 1d array was expected. Please change the shape of y to (n_samples, ), for example using ravel().\n",
            "\n"
          ]
        },
        {
          "name": "stdout",
          "output_type": "stream",
          "text": [
            "[LightGBM] [Warning] feature_fraction is set=0.665581617301843, colsample_bytree=1.0 will be ignored. Current value: feature_fraction=0.665581617301843\n",
            "[LightGBM] [Warning] feature_fraction is set=0.665581617301843, colsample_bytree=1.0 will be ignored. Current value: feature_fraction=0.665581617301843\n",
            "New AUC Score 0.8566973135665024\n"
          ]
        },
        {
          "name": "stderr",
          "output_type": "stream",
          "text": [
            "/usr/local/lib/python3.7/dist-packages/sklearn/preprocessing/_label.py:235: DataConversionWarning:\n",
            "\n",
            "A column-vector y was passed when a 1d array was expected. Please change the shape of y to (n_samples, ), for example using ravel().\n",
            "\n",
            "/usr/local/lib/python3.7/dist-packages/sklearn/preprocessing/_label.py:268: DataConversionWarning:\n",
            "\n",
            "A column-vector y was passed when a 1d array was expected. Please change the shape of y to (n_samples, ), for example using ravel().\n",
            "\n"
          ]
        },
        {
          "name": "stdout",
          "output_type": "stream",
          "text": [
            "[LightGBM] [Warning] feature_fraction is set=0.665581617301843, colsample_bytree=1.0 will be ignored. Current value: feature_fraction=0.665581617301843\n",
            "[LightGBM] [Warning] feature_fraction is set=0.665581617301843, colsample_bytree=1.0 will be ignored. Current value: feature_fraction=0.665581617301843\n",
            "New AUC Score 0.8563303595212353\n",
            "all scores [0.857025327975131, 0.8573413541724801, 0.8572423589793357, 0.8566973135665024, 0.8563303595212353]\n",
            "Roc AUC score 0.8573413541724801\n",
            "{'boosting_type': 'gbdt', 'class_weight': None, 'colsample_bytree': 1.0, 'importance_type': 'split', 'learning_rate': 0.014152393807556443, 'max_depth': 8, 'min_child_samples': 84, 'min_child_weight': 0.001, 'min_split_gain': 0.0, 'n_estimators': 6840, 'n_jobs': -1, 'num_leaves': 7, 'objective': 'binary', 'random_state': 42, 'reg_alpha': 19, 'reg_lambda': 11, 'silent': True, 'subsample': 0.5954062285595902, 'subsample_for_bin': 200000, 'subsample_freq': 1, 'metric': 'AUC', 'verbosity': 0, 'device': 'gpu', 'feature_fraction': 0.665581617301843}\n"
          ]
        },
        {
          "name": "stderr",
          "output_type": "stream",
          "text": [
            "\u001b[32m[I 2021-10-03 19:52:41,105]\u001b[0m Trial 61 finished with value: 0.8573413541724801 and parameters: {'boosting_type': 'gbdt', 'subsample': 0.5954062285595902, 'eta': 0.014152393807556443, 'n_estimators': 6840, 'reg_alpha': 19, 'reg_lambda': 11, 'max_depth': 8, 'num_leaves': 7, 'feature_fraction': 0.665581617301843, 'min_child_samples': 84}. Best is trial 36 with value: 0.8592082549290472.\u001b[0m\n"
          ]
        },
        {
          "name": "stdout",
          "output_type": "stream",
          "text": [
            "filename ./models/lgbm_61 best_model_name./models/best_lgbm  best_trial_number 36\n",
            "STARTING Params: {'metric': 'AUC', 'verbosity': 0, 'device': 'gpu', 'boosting_type': 'gbdt', 'subsample': 0.5863107497450987, 'learning_rate': 0.013781055719588283, 'n_estimators': 7251, 'subsample_freq': 1, 'reg_alpha': 18, 'reg_lambda': 12, 'max_depth': 8, 'num_leaves': 8, 'feature_fraction': 0.6408829901212723, 'min_child_samples': 96, 'objective': 'binary'}\n",
            "Param: {'metric': 'AUC', 'verbosity': 0, 'device': 'gpu', 'boosting_type': 'gbdt', 'subsample': 0.5863107497450987, 'learning_rate': 0.013781055719588283, 'n_estimators': 7251, 'subsample_freq': 1, 'reg_alpha': 18, 'reg_lambda': 12, 'max_depth': 8, 'num_leaves': 8, 'feature_fraction': 0.6408829901212723, 'min_child_samples': 96, 'objective': 'binary'}\n"
          ]
        },
        {
          "name": "stderr",
          "output_type": "stream",
          "text": [
            "/usr/local/lib/python3.7/dist-packages/sklearn/preprocessing/_label.py:235: DataConversionWarning:\n",
            "\n",
            "A column-vector y was passed when a 1d array was expected. Please change the shape of y to (n_samples, ), for example using ravel().\n",
            "\n",
            "/usr/local/lib/python3.7/dist-packages/sklearn/preprocessing/_label.py:268: DataConversionWarning:\n",
            "\n",
            "A column-vector y was passed when a 1d array was expected. Please change the shape of y to (n_samples, ), for example using ravel().\n",
            "\n"
          ]
        },
        {
          "name": "stdout",
          "output_type": "stream",
          "text": [
            "[LightGBM] [Warning] feature_fraction is set=0.6408829901212723, colsample_bytree=1.0 will be ignored. Current value: feature_fraction=0.6408829901212723\n",
            "[LightGBM] [Warning] feature_fraction is set=0.6408829901212723, colsample_bytree=1.0 will be ignored. Current value: feature_fraction=0.6408829901212723\n",
            "New AUC Score 0.8573984427261948\n"
          ]
        },
        {
          "name": "stderr",
          "output_type": "stream",
          "text": [
            "/usr/local/lib/python3.7/dist-packages/sklearn/preprocessing/_label.py:235: DataConversionWarning:\n",
            "\n",
            "A column-vector y was passed when a 1d array was expected. Please change the shape of y to (n_samples, ), for example using ravel().\n",
            "\n",
            "/usr/local/lib/python3.7/dist-packages/sklearn/preprocessing/_label.py:268: DataConversionWarning:\n",
            "\n",
            "A column-vector y was passed when a 1d array was expected. Please change the shape of y to (n_samples, ), for example using ravel().\n",
            "\n"
          ]
        },
        {
          "name": "stdout",
          "output_type": "stream",
          "text": [
            "[LightGBM] [Warning] feature_fraction is set=0.6408829901212723, colsample_bytree=1.0 will be ignored. Current value: feature_fraction=0.6408829901212723\n",
            "[LightGBM] [Warning] feature_fraction is set=0.6408829901212723, colsample_bytree=1.0 will be ignored. Current value: feature_fraction=0.6408829901212723\n",
            "New AUC Score 0.8580043886963293\n"
          ]
        },
        {
          "name": "stderr",
          "output_type": "stream",
          "text": [
            "/usr/local/lib/python3.7/dist-packages/sklearn/preprocessing/_label.py:235: DataConversionWarning:\n",
            "\n",
            "A column-vector y was passed when a 1d array was expected. Please change the shape of y to (n_samples, ), for example using ravel().\n",
            "\n",
            "/usr/local/lib/python3.7/dist-packages/sklearn/preprocessing/_label.py:268: DataConversionWarning:\n",
            "\n",
            "A column-vector y was passed when a 1d array was expected. Please change the shape of y to (n_samples, ), for example using ravel().\n",
            "\n"
          ]
        },
        {
          "name": "stdout",
          "output_type": "stream",
          "text": [
            "[LightGBM] [Warning] feature_fraction is set=0.6408829901212723, colsample_bytree=1.0 will be ignored. Current value: feature_fraction=0.6408829901212723\n",
            "[LightGBM] [Warning] feature_fraction is set=0.6408829901212723, colsample_bytree=1.0 will be ignored. Current value: feature_fraction=0.6408829901212723\n",
            "New AUC Score 0.8560360194442906\n"
          ]
        },
        {
          "name": "stderr",
          "output_type": "stream",
          "text": [
            "/usr/local/lib/python3.7/dist-packages/sklearn/preprocessing/_label.py:235: DataConversionWarning:\n",
            "\n",
            "A column-vector y was passed when a 1d array was expected. Please change the shape of y to (n_samples, ), for example using ravel().\n",
            "\n",
            "/usr/local/lib/python3.7/dist-packages/sklearn/preprocessing/_label.py:268: DataConversionWarning:\n",
            "\n",
            "A column-vector y was passed when a 1d array was expected. Please change the shape of y to (n_samples, ), for example using ravel().\n",
            "\n"
          ]
        },
        {
          "name": "stdout",
          "output_type": "stream",
          "text": [
            "[LightGBM] [Warning] feature_fraction is set=0.6408829901212723, colsample_bytree=1.0 will be ignored. Current value: feature_fraction=0.6408829901212723\n",
            "[LightGBM] [Warning] feature_fraction is set=0.6408829901212723, colsample_bytree=1.0 will be ignored. Current value: feature_fraction=0.6408829901212723\n",
            "New AUC Score 0.8559347303489878\n"
          ]
        },
        {
          "name": "stderr",
          "output_type": "stream",
          "text": [
            "/usr/local/lib/python3.7/dist-packages/sklearn/preprocessing/_label.py:235: DataConversionWarning:\n",
            "\n",
            "A column-vector y was passed when a 1d array was expected. Please change the shape of y to (n_samples, ), for example using ravel().\n",
            "\n",
            "/usr/local/lib/python3.7/dist-packages/sklearn/preprocessing/_label.py:268: DataConversionWarning:\n",
            "\n",
            "A column-vector y was passed when a 1d array was expected. Please change the shape of y to (n_samples, ), for example using ravel().\n",
            "\n"
          ]
        },
        {
          "name": "stdout",
          "output_type": "stream",
          "text": [
            "[LightGBM] [Warning] feature_fraction is set=0.6408829901212723, colsample_bytree=1.0 will be ignored. Current value: feature_fraction=0.6408829901212723\n",
            "[LightGBM] [Warning] feature_fraction is set=0.6408829901212723, colsample_bytree=1.0 will be ignored. Current value: feature_fraction=0.6408829901212723\n",
            "New AUC Score 0.8576064900219464\n",
            "all scores [0.8573984427261948, 0.8580043886963293, 0.8560360194442906, 0.8559347303489878, 0.8576064900219464]\n",
            "Roc AUC score 0.8580043886963293\n",
            "{'boosting_type': 'gbdt', 'class_weight': None, 'colsample_bytree': 1.0, 'importance_type': 'split', 'learning_rate': 0.013781055719588283, 'max_depth': 8, 'min_child_samples': 96, 'min_child_weight': 0.001, 'min_split_gain': 0.0, 'n_estimators': 7251, 'n_jobs': -1, 'num_leaves': 8, 'objective': 'binary', 'random_state': 42, 'reg_alpha': 18, 'reg_lambda': 12, 'silent': True, 'subsample': 0.5863107497450987, 'subsample_for_bin': 200000, 'subsample_freq': 1, 'metric': 'AUC', 'verbosity': 0, 'device': 'gpu', 'feature_fraction': 0.6408829901212723}\n"
          ]
        },
        {
          "name": "stderr",
          "output_type": "stream",
          "text": [
            "\u001b[32m[I 2021-10-03 20:06:54,095]\u001b[0m Trial 62 finished with value: 0.8580043886963293 and parameters: {'boosting_type': 'gbdt', 'subsample': 0.5863107497450987, 'eta': 0.013781055719588283, 'n_estimators': 7251, 'reg_alpha': 18, 'reg_lambda': 12, 'max_depth': 8, 'num_leaves': 8, 'feature_fraction': 0.6408829901212723, 'min_child_samples': 96}. Best is trial 36 with value: 0.8592082549290472.\u001b[0m\n"
          ]
        },
        {
          "name": "stdout",
          "output_type": "stream",
          "text": [
            "filename ./models/lgbm_62 best_model_name./models/best_lgbm  best_trial_number 36\n",
            "STARTING Params: {'metric': 'AUC', 'verbosity': 0, 'device': 'gpu', 'boosting_type': 'gbdt', 'subsample': 0.5869656126529645, 'learning_rate': 0.007448142967005813, 'n_estimators': 7373, 'subsample_freq': 1, 'reg_alpha': 18, 'reg_lambda': 10, 'max_depth': 7, 'num_leaves': 8, 'feature_fraction': 0.6150061523086499, 'min_child_samples': 87, 'objective': 'binary'}\n",
            "Param: {'metric': 'AUC', 'verbosity': 0, 'device': 'gpu', 'boosting_type': 'gbdt', 'subsample': 0.5869656126529645, 'learning_rate': 0.007448142967005813, 'n_estimators': 7373, 'subsample_freq': 1, 'reg_alpha': 18, 'reg_lambda': 10, 'max_depth': 7, 'num_leaves': 8, 'feature_fraction': 0.6150061523086499, 'min_child_samples': 87, 'objective': 'binary'}\n"
          ]
        },
        {
          "name": "stderr",
          "output_type": "stream",
          "text": [
            "/usr/local/lib/python3.7/dist-packages/sklearn/preprocessing/_label.py:235: DataConversionWarning:\n",
            "\n",
            "A column-vector y was passed when a 1d array was expected. Please change the shape of y to (n_samples, ), for example using ravel().\n",
            "\n",
            "/usr/local/lib/python3.7/dist-packages/sklearn/preprocessing/_label.py:268: DataConversionWarning:\n",
            "\n",
            "A column-vector y was passed when a 1d array was expected. Please change the shape of y to (n_samples, ), for example using ravel().\n",
            "\n"
          ]
        },
        {
          "name": "stdout",
          "output_type": "stream",
          "text": [
            "[LightGBM] [Warning] feature_fraction is set=0.6150061523086499, colsample_bytree=1.0 will be ignored. Current value: feature_fraction=0.6150061523086499\n",
            "[LightGBM] [Warning] feature_fraction is set=0.6150061523086499, colsample_bytree=1.0 will be ignored. Current value: feature_fraction=0.6150061523086499\n",
            "New AUC Score 0.8567837203478025\n"
          ]
        },
        {
          "name": "stderr",
          "output_type": "stream",
          "text": [
            "/usr/local/lib/python3.7/dist-packages/sklearn/preprocessing/_label.py:235: DataConversionWarning:\n",
            "\n",
            "A column-vector y was passed when a 1d array was expected. Please change the shape of y to (n_samples, ), for example using ravel().\n",
            "\n",
            "/usr/local/lib/python3.7/dist-packages/sklearn/preprocessing/_label.py:268: DataConversionWarning:\n",
            "\n",
            "A column-vector y was passed when a 1d array was expected. Please change the shape of y to (n_samples, ), for example using ravel().\n",
            "\n"
          ]
        },
        {
          "name": "stdout",
          "output_type": "stream",
          "text": [
            "[LightGBM] [Warning] feature_fraction is set=0.6150061523086499, colsample_bytree=1.0 will be ignored. Current value: feature_fraction=0.6150061523086499\n",
            "[LightGBM] [Warning] feature_fraction is set=0.6150061523086499, colsample_bytree=1.0 will be ignored. Current value: feature_fraction=0.6150061523086499\n",
            "New AUC Score 0.8549777895486023\n"
          ]
        },
        {
          "name": "stderr",
          "output_type": "stream",
          "text": [
            "/usr/local/lib/python3.7/dist-packages/sklearn/preprocessing/_label.py:235: DataConversionWarning:\n",
            "\n",
            "A column-vector y was passed when a 1d array was expected. Please change the shape of y to (n_samples, ), for example using ravel().\n",
            "\n",
            "/usr/local/lib/python3.7/dist-packages/sklearn/preprocessing/_label.py:268: DataConversionWarning:\n",
            "\n",
            "A column-vector y was passed when a 1d array was expected. Please change the shape of y to (n_samples, ), for example using ravel().\n",
            "\n"
          ]
        },
        {
          "name": "stdout",
          "output_type": "stream",
          "text": [
            "[LightGBM] [Warning] feature_fraction is set=0.6150061523086499, colsample_bytree=1.0 will be ignored. Current value: feature_fraction=0.6150061523086499\n",
            "[LightGBM] [Warning] feature_fraction is set=0.6150061523086499, colsample_bytree=1.0 will be ignored. Current value: feature_fraction=0.6150061523086499\n",
            "New AUC Score 0.8558931993099113\n"
          ]
        },
        {
          "name": "stderr",
          "output_type": "stream",
          "text": [
            "/usr/local/lib/python3.7/dist-packages/sklearn/preprocessing/_label.py:235: DataConversionWarning:\n",
            "\n",
            "A column-vector y was passed when a 1d array was expected. Please change the shape of y to (n_samples, ), for example using ravel().\n",
            "\n",
            "/usr/local/lib/python3.7/dist-packages/sklearn/preprocessing/_label.py:268: DataConversionWarning:\n",
            "\n",
            "A column-vector y was passed when a 1d array was expected. Please change the shape of y to (n_samples, ), for example using ravel().\n",
            "\n"
          ]
        },
        {
          "name": "stdout",
          "output_type": "stream",
          "text": [
            "[LightGBM] [Warning] feature_fraction is set=0.6150061523086499, colsample_bytree=1.0 will be ignored. Current value: feature_fraction=0.6150061523086499\n",
            "[LightGBM] [Warning] feature_fraction is set=0.6150061523086499, colsample_bytree=1.0 will be ignored. Current value: feature_fraction=0.6150061523086499\n",
            "New AUC Score 0.856959712913394\n"
          ]
        },
        {
          "name": "stderr",
          "output_type": "stream",
          "text": [
            "/usr/local/lib/python3.7/dist-packages/sklearn/preprocessing/_label.py:235: DataConversionWarning:\n",
            "\n",
            "A column-vector y was passed when a 1d array was expected. Please change the shape of y to (n_samples, ), for example using ravel().\n",
            "\n",
            "/usr/local/lib/python3.7/dist-packages/sklearn/preprocessing/_label.py:268: DataConversionWarning:\n",
            "\n",
            "A column-vector y was passed when a 1d array was expected. Please change the shape of y to (n_samples, ), for example using ravel().\n",
            "\n"
          ]
        },
        {
          "name": "stdout",
          "output_type": "stream",
          "text": [
            "[LightGBM] [Warning] feature_fraction is set=0.6150061523086499, colsample_bytree=1.0 will be ignored. Current value: feature_fraction=0.6150061523086499\n",
            "[LightGBM] [Warning] feature_fraction is set=0.6150061523086499, colsample_bytree=1.0 will be ignored. Current value: feature_fraction=0.6150061523086499\n",
            "New AUC Score 0.8561235840266801\n",
            "all scores [0.8567837203478025, 0.8549777895486023, 0.8558931993099113, 0.856959712913394, 0.8561235840266801]\n",
            "Roc AUC score 0.856959712913394\n",
            "{'boosting_type': 'gbdt', 'class_weight': None, 'colsample_bytree': 1.0, 'importance_type': 'split', 'learning_rate': 0.007448142967005813, 'max_depth': 7, 'min_child_samples': 87, 'min_child_weight': 0.001, 'min_split_gain': 0.0, 'n_estimators': 7373, 'n_jobs': -1, 'num_leaves': 8, 'objective': 'binary', 'random_state': 42, 'reg_alpha': 18, 'reg_lambda': 10, 'silent': True, 'subsample': 0.5869656126529645, 'subsample_for_bin': 200000, 'subsample_freq': 1, 'metric': 'AUC', 'verbosity': 0, 'device': 'gpu', 'feature_fraction': 0.6150061523086499}\n"
          ]
        },
        {
          "name": "stderr",
          "output_type": "stream",
          "text": [
            "\u001b[32m[I 2021-10-03 20:22:27,816]\u001b[0m Trial 63 finished with value: 0.856959712913394 and parameters: {'boosting_type': 'gbdt', 'subsample': 0.5869656126529645, 'eta': 0.007448142967005813, 'n_estimators': 7373, 'reg_alpha': 18, 'reg_lambda': 10, 'max_depth': 7, 'num_leaves': 8, 'feature_fraction': 0.6150061523086499, 'min_child_samples': 87}. Best is trial 36 with value: 0.8592082549290472.\u001b[0m\n"
          ]
        },
        {
          "name": "stdout",
          "output_type": "stream",
          "text": [
            "filename ./models/lgbm_63 best_model_name./models/best_lgbm  best_trial_number 36\n",
            "STARTING Params: {'metric': 'AUC', 'verbosity': 0, 'device': 'gpu', 'boosting_type': 'gbdt', 'subsample': 0.5805755378061551, 'learning_rate': 0.005900853223279476, 'n_estimators': 7694, 'subsample_freq': 1, 'reg_alpha': 17, 'reg_lambda': 10, 'max_depth': 8, 'num_leaves': 9, 'feature_fraction': 0.49459006050602705, 'min_child_samples': 97, 'objective': 'binary'}\n",
            "Param: {'metric': 'AUC', 'verbosity': 0, 'device': 'gpu', 'boosting_type': 'gbdt', 'subsample': 0.5805755378061551, 'learning_rate': 0.005900853223279476, 'n_estimators': 7694, 'subsample_freq': 1, 'reg_alpha': 17, 'reg_lambda': 10, 'max_depth': 8, 'num_leaves': 9, 'feature_fraction': 0.49459006050602705, 'min_child_samples': 97, 'objective': 'binary'}\n"
          ]
        },
        {
          "name": "stderr",
          "output_type": "stream",
          "text": [
            "/usr/local/lib/python3.7/dist-packages/sklearn/preprocessing/_label.py:235: DataConversionWarning:\n",
            "\n",
            "A column-vector y was passed when a 1d array was expected. Please change the shape of y to (n_samples, ), for example using ravel().\n",
            "\n",
            "/usr/local/lib/python3.7/dist-packages/sklearn/preprocessing/_label.py:268: DataConversionWarning:\n",
            "\n",
            "A column-vector y was passed when a 1d array was expected. Please change the shape of y to (n_samples, ), for example using ravel().\n",
            "\n"
          ]
        },
        {
          "name": "stdout",
          "output_type": "stream",
          "text": [
            "[LightGBM] [Warning] feature_fraction is set=0.49459006050602705, colsample_bytree=1.0 will be ignored. Current value: feature_fraction=0.49459006050602705\n",
            "[LightGBM] [Warning] feature_fraction is set=0.49459006050602705, colsample_bytree=1.0 will be ignored. Current value: feature_fraction=0.49459006050602705\n",
            "New AUC Score 0.8551558848161721\n"
          ]
        },
        {
          "name": "stderr",
          "output_type": "stream",
          "text": [
            "/usr/local/lib/python3.7/dist-packages/sklearn/preprocessing/_label.py:235: DataConversionWarning:\n",
            "\n",
            "A column-vector y was passed when a 1d array was expected. Please change the shape of y to (n_samples, ), for example using ravel().\n",
            "\n",
            "/usr/local/lib/python3.7/dist-packages/sklearn/preprocessing/_label.py:268: DataConversionWarning:\n",
            "\n",
            "A column-vector y was passed when a 1d array was expected. Please change the shape of y to (n_samples, ), for example using ravel().\n",
            "\n"
          ]
        },
        {
          "name": "stdout",
          "output_type": "stream",
          "text": [
            "[LightGBM] [Warning] feature_fraction is set=0.49459006050602705, colsample_bytree=1.0 will be ignored. Current value: feature_fraction=0.49459006050602705\n",
            "[LightGBM] [Warning] feature_fraction is set=0.49459006050602705, colsample_bytree=1.0 will be ignored. Current value: feature_fraction=0.49459006050602705\n",
            "New AUC Score 0.8567579380235439\n"
          ]
        },
        {
          "name": "stderr",
          "output_type": "stream",
          "text": [
            "/usr/local/lib/python3.7/dist-packages/sklearn/preprocessing/_label.py:235: DataConversionWarning:\n",
            "\n",
            "A column-vector y was passed when a 1d array was expected. Please change the shape of y to (n_samples, ), for example using ravel().\n",
            "\n",
            "/usr/local/lib/python3.7/dist-packages/sklearn/preprocessing/_label.py:268: DataConversionWarning:\n",
            "\n",
            "A column-vector y was passed when a 1d array was expected. Please change the shape of y to (n_samples, ), for example using ravel().\n",
            "\n"
          ]
        },
        {
          "name": "stdout",
          "output_type": "stream",
          "text": [
            "[LightGBM] [Warning] feature_fraction is set=0.49459006050602705, colsample_bytree=1.0 will be ignored. Current value: feature_fraction=0.49459006050602705\n",
            "[LightGBM] [Warning] feature_fraction is set=0.49459006050602705, colsample_bytree=1.0 will be ignored. Current value: feature_fraction=0.49459006050602705\n",
            "New AUC Score 0.8561045808088001\n"
          ]
        },
        {
          "name": "stderr",
          "output_type": "stream",
          "text": [
            "/usr/local/lib/python3.7/dist-packages/sklearn/preprocessing/_label.py:235: DataConversionWarning:\n",
            "\n",
            "A column-vector y was passed when a 1d array was expected. Please change the shape of y to (n_samples, ), for example using ravel().\n",
            "\n",
            "/usr/local/lib/python3.7/dist-packages/sklearn/preprocessing/_label.py:268: DataConversionWarning:\n",
            "\n",
            "A column-vector y was passed when a 1d array was expected. Please change the shape of y to (n_samples, ), for example using ravel().\n",
            "\n"
          ]
        },
        {
          "name": "stdout",
          "output_type": "stream",
          "text": [
            "[LightGBM] [Warning] feature_fraction is set=0.49459006050602705, colsample_bytree=1.0 will be ignored. Current value: feature_fraction=0.49459006050602705\n",
            "[LightGBM] [Warning] feature_fraction is set=0.49459006050602705, colsample_bytree=1.0 will be ignored. Current value: feature_fraction=0.49459006050602705\n",
            "New AUC Score 0.8556017399356771\n"
          ]
        },
        {
          "name": "stderr",
          "output_type": "stream",
          "text": [
            "/usr/local/lib/python3.7/dist-packages/sklearn/preprocessing/_label.py:235: DataConversionWarning:\n",
            "\n",
            "A column-vector y was passed when a 1d array was expected. Please change the shape of y to (n_samples, ), for example using ravel().\n",
            "\n",
            "/usr/local/lib/python3.7/dist-packages/sklearn/preprocessing/_label.py:268: DataConversionWarning:\n",
            "\n",
            "A column-vector y was passed when a 1d array was expected. Please change the shape of y to (n_samples, ), for example using ravel().\n",
            "\n"
          ]
        },
        {
          "name": "stdout",
          "output_type": "stream",
          "text": [
            "[LightGBM] [Warning] feature_fraction is set=0.49459006050602705, colsample_bytree=1.0 will be ignored. Current value: feature_fraction=0.49459006050602705\n",
            "[LightGBM] [Warning] feature_fraction is set=0.49459006050602705, colsample_bytree=1.0 will be ignored. Current value: feature_fraction=0.49459006050602705\n",
            "New AUC Score 0.8554833773243098\n",
            "all scores [0.8551558848161721, 0.8567579380235439, 0.8561045808088001, 0.8556017399356771, 0.8554833773243098]\n",
            "Roc AUC score 0.8567579380235439\n",
            "{'boosting_type': 'gbdt', 'class_weight': None, 'colsample_bytree': 1.0, 'importance_type': 'split', 'learning_rate': 0.005900853223279476, 'max_depth': 8, 'min_child_samples': 97, 'min_child_weight': 0.001, 'min_split_gain': 0.0, 'n_estimators': 7694, 'n_jobs': -1, 'num_leaves': 9, 'objective': 'binary', 'random_state': 42, 'reg_alpha': 17, 'reg_lambda': 10, 'silent': True, 'subsample': 0.5805755378061551, 'subsample_for_bin': 200000, 'subsample_freq': 1, 'metric': 'AUC', 'verbosity': 0, 'device': 'gpu', 'feature_fraction': 0.49459006050602705}\n"
          ]
        },
        {
          "name": "stderr",
          "output_type": "stream",
          "text": [
            "\u001b[32m[I 2021-10-03 20:42:23,092]\u001b[0m Trial 64 finished with value: 0.8567579380235439 and parameters: {'boosting_type': 'gbdt', 'subsample': 0.5805755378061551, 'eta': 0.005900853223279476, 'n_estimators': 7694, 'reg_alpha': 17, 'reg_lambda': 10, 'max_depth': 8, 'num_leaves': 9, 'feature_fraction': 0.49459006050602705, 'min_child_samples': 97}. Best is trial 36 with value: 0.8592082549290472.\u001b[0m\n"
          ]
        },
        {
          "name": "stdout",
          "output_type": "stream",
          "text": [
            "filename ./models/lgbm_64 best_model_name./models/best_lgbm  best_trial_number 36\n",
            "STARTING Params: {'metric': 'AUC', 'verbosity': 0, 'device': 'gpu', 'boosting_type': 'gbdt', 'subsample': 0.5697460948953877, 'learning_rate': 0.013314748299814421, 'n_estimators': 4860, 'subsample_freq': 1, 'reg_alpha': 16, 'reg_lambda': 16, 'max_depth': 9, 'num_leaves': 8, 'feature_fraction': 0.8888246865299594, 'min_child_samples': 91, 'objective': 'binary'}\n",
            "Param: {'metric': 'AUC', 'verbosity': 0, 'device': 'gpu', 'boosting_type': 'gbdt', 'subsample': 0.5697460948953877, 'learning_rate': 0.013314748299814421, 'n_estimators': 4860, 'subsample_freq': 1, 'reg_alpha': 16, 'reg_lambda': 16, 'max_depth': 9, 'num_leaves': 8, 'feature_fraction': 0.8888246865299594, 'min_child_samples': 91, 'objective': 'binary'}\n"
          ]
        },
        {
          "name": "stderr",
          "output_type": "stream",
          "text": [
            "/usr/local/lib/python3.7/dist-packages/sklearn/preprocessing/_label.py:235: DataConversionWarning:\n",
            "\n",
            "A column-vector y was passed when a 1d array was expected. Please change the shape of y to (n_samples, ), for example using ravel().\n",
            "\n",
            "/usr/local/lib/python3.7/dist-packages/sklearn/preprocessing/_label.py:268: DataConversionWarning:\n",
            "\n",
            "A column-vector y was passed when a 1d array was expected. Please change the shape of y to (n_samples, ), for example using ravel().\n",
            "\n"
          ]
        },
        {
          "name": "stdout",
          "output_type": "stream",
          "text": [
            "[LightGBM] [Warning] feature_fraction is set=0.8888246865299594, colsample_bytree=1.0 will be ignored. Current value: feature_fraction=0.8888246865299594\n",
            "[LightGBM] [Warning] feature_fraction is set=0.8888246865299594, colsample_bytree=1.0 will be ignored. Current value: feature_fraction=0.8888246865299594\n",
            "New AUC Score 0.8564745287568842\n"
          ]
        },
        {
          "name": "stderr",
          "output_type": "stream",
          "text": [
            "/usr/local/lib/python3.7/dist-packages/sklearn/preprocessing/_label.py:235: DataConversionWarning:\n",
            "\n",
            "A column-vector y was passed when a 1d array was expected. Please change the shape of y to (n_samples, ), for example using ravel().\n",
            "\n",
            "/usr/local/lib/python3.7/dist-packages/sklearn/preprocessing/_label.py:268: DataConversionWarning:\n",
            "\n",
            "A column-vector y was passed when a 1d array was expected. Please change the shape of y to (n_samples, ), for example using ravel().\n",
            "\n"
          ]
        },
        {
          "name": "stdout",
          "output_type": "stream",
          "text": [
            "[LightGBM] [Warning] feature_fraction is set=0.8888246865299594, colsample_bytree=1.0 will be ignored. Current value: feature_fraction=0.8888246865299594\n",
            "[LightGBM] [Warning] feature_fraction is set=0.8888246865299594, colsample_bytree=1.0 will be ignored. Current value: feature_fraction=0.8888246865299594\n",
            "New AUC Score 0.8566502939222617\n"
          ]
        },
        {
          "name": "stderr",
          "output_type": "stream",
          "text": [
            "/usr/local/lib/python3.7/dist-packages/sklearn/preprocessing/_label.py:235: DataConversionWarning:\n",
            "\n",
            "A column-vector y was passed when a 1d array was expected. Please change the shape of y to (n_samples, ), for example using ravel().\n",
            "\n",
            "/usr/local/lib/python3.7/dist-packages/sklearn/preprocessing/_label.py:268: DataConversionWarning:\n",
            "\n",
            "A column-vector y was passed when a 1d array was expected. Please change the shape of y to (n_samples, ), for example using ravel().\n",
            "\n"
          ]
        },
        {
          "name": "stdout",
          "output_type": "stream",
          "text": [
            "[LightGBM] [Warning] feature_fraction is set=0.8888246865299594, colsample_bytree=1.0 will be ignored. Current value: feature_fraction=0.8888246865299594\n",
            "[LightGBM] [Warning] feature_fraction is set=0.8888246865299594, colsample_bytree=1.0 will be ignored. Current value: feature_fraction=0.8888246865299594\n",
            "New AUC Score 0.8572502046867176\n"
          ]
        },
        {
          "name": "stderr",
          "output_type": "stream",
          "text": [
            "/usr/local/lib/python3.7/dist-packages/sklearn/preprocessing/_label.py:235: DataConversionWarning:\n",
            "\n",
            "A column-vector y was passed when a 1d array was expected. Please change the shape of y to (n_samples, ), for example using ravel().\n",
            "\n",
            "/usr/local/lib/python3.7/dist-packages/sklearn/preprocessing/_label.py:268: DataConversionWarning:\n",
            "\n",
            "A column-vector y was passed when a 1d array was expected. Please change the shape of y to (n_samples, ), for example using ravel().\n",
            "\n"
          ]
        },
        {
          "name": "stdout",
          "output_type": "stream",
          "text": [
            "[LightGBM] [Warning] feature_fraction is set=0.8888246865299594, colsample_bytree=1.0 will be ignored. Current value: feature_fraction=0.8888246865299594\n",
            "[LightGBM] [Warning] feature_fraction is set=0.8888246865299594, colsample_bytree=1.0 will be ignored. Current value: feature_fraction=0.8888246865299594\n",
            "New AUC Score 0.8555133318524939\n"
          ]
        },
        {
          "name": "stderr",
          "output_type": "stream",
          "text": [
            "/usr/local/lib/python3.7/dist-packages/sklearn/preprocessing/_label.py:235: DataConversionWarning:\n",
            "\n",
            "A column-vector y was passed when a 1d array was expected. Please change the shape of y to (n_samples, ), for example using ravel().\n",
            "\n",
            "/usr/local/lib/python3.7/dist-packages/sklearn/preprocessing/_label.py:268: DataConversionWarning:\n",
            "\n",
            "A column-vector y was passed when a 1d array was expected. Please change the shape of y to (n_samples, ), for example using ravel().\n",
            "\n"
          ]
        },
        {
          "name": "stdout",
          "output_type": "stream",
          "text": [
            "[LightGBM] [Warning] feature_fraction is set=0.8888246865299594, colsample_bytree=1.0 will be ignored. Current value: feature_fraction=0.8888246865299594\n",
            "[LightGBM] [Warning] feature_fraction is set=0.8888246865299594, colsample_bytree=1.0 will be ignored. Current value: feature_fraction=0.8888246865299594\n"
          ]
        },
        {
          "name": "stderr",
          "output_type": "stream",
          "text": [
            "\u001b[32m[I 2021-10-03 20:50:44,009]\u001b[0m Trial 65 finished with value: 0.8572502046867176 and parameters: {'boosting_type': 'gbdt', 'subsample': 0.5697460948953877, 'eta': 0.013314748299814421, 'n_estimators': 4860, 'reg_alpha': 16, 'reg_lambda': 16, 'max_depth': 9, 'num_leaves': 8, 'feature_fraction': 0.8888246865299594, 'min_child_samples': 91}. Best is trial 36 with value: 0.8592082549290472.\u001b[0m\n"
          ]
        },
        {
          "name": "stdout",
          "output_type": "stream",
          "text": [
            "New AUC Score 0.8567711389359646\n",
            "all scores [0.8564745287568842, 0.8566502939222617, 0.8572502046867176, 0.8555133318524939, 0.8567711389359646]\n",
            "Roc AUC score 0.8572502046867176\n",
            "{'boosting_type': 'gbdt', 'class_weight': None, 'colsample_bytree': 1.0, 'importance_type': 'split', 'learning_rate': 0.013314748299814421, 'max_depth': 9, 'min_child_samples': 91, 'min_child_weight': 0.001, 'min_split_gain': 0.0, 'n_estimators': 4860, 'n_jobs': -1, 'num_leaves': 8, 'objective': 'binary', 'random_state': 42, 'reg_alpha': 16, 'reg_lambda': 16, 'silent': True, 'subsample': 0.5697460948953877, 'subsample_for_bin': 200000, 'subsample_freq': 1, 'metric': 'AUC', 'verbosity': 0, 'device': 'gpu', 'feature_fraction': 0.8888246865299594}\n",
            "filename ./models/lgbm_65 best_model_name./models/best_lgbm  best_trial_number 36\n",
            "STARTING Params: {'metric': 'AUC', 'verbosity': 0, 'device': 'gpu', 'boosting_type': 'gbdt', 'subsample': 0.5925061627916844, 'learning_rate': 0.012459488879911945, 'n_estimators': 8705, 'subsample_freq': 1, 'reg_alpha': 18, 'reg_lambda': 12, 'max_depth': 9, 'num_leaves': 5, 'feature_fraction': 0.588740192773645, 'min_child_samples': 97, 'objective': 'binary'}\n",
            "Param: {'metric': 'AUC', 'verbosity': 0, 'device': 'gpu', 'boosting_type': 'gbdt', 'subsample': 0.5925061627916844, 'learning_rate': 0.012459488879911945, 'n_estimators': 8705, 'subsample_freq': 1, 'reg_alpha': 18, 'reg_lambda': 12, 'max_depth': 9, 'num_leaves': 5, 'feature_fraction': 0.588740192773645, 'min_child_samples': 97, 'objective': 'binary'}\n"
          ]
        },
        {
          "name": "stderr",
          "output_type": "stream",
          "text": [
            "/usr/local/lib/python3.7/dist-packages/sklearn/preprocessing/_label.py:235: DataConversionWarning:\n",
            "\n",
            "A column-vector y was passed when a 1d array was expected. Please change the shape of y to (n_samples, ), for example using ravel().\n",
            "\n",
            "/usr/local/lib/python3.7/dist-packages/sklearn/preprocessing/_label.py:268: DataConversionWarning:\n",
            "\n",
            "A column-vector y was passed when a 1d array was expected. Please change the shape of y to (n_samples, ), for example using ravel().\n",
            "\n"
          ]
        },
        {
          "name": "stdout",
          "output_type": "stream",
          "text": [
            "[LightGBM] [Warning] feature_fraction is set=0.588740192773645, colsample_bytree=1.0 will be ignored. Current value: feature_fraction=0.588740192773645\n",
            "[LightGBM] [Warning] feature_fraction is set=0.588740192773645, colsample_bytree=1.0 will be ignored. Current value: feature_fraction=0.588740192773645\n",
            "New AUC Score 0.8569714773244629\n"
          ]
        },
        {
          "name": "stderr",
          "output_type": "stream",
          "text": [
            "/usr/local/lib/python3.7/dist-packages/sklearn/preprocessing/_label.py:235: DataConversionWarning:\n",
            "\n",
            "A column-vector y was passed when a 1d array was expected. Please change the shape of y to (n_samples, ), for example using ravel().\n",
            "\n",
            "/usr/local/lib/python3.7/dist-packages/sklearn/preprocessing/_label.py:268: DataConversionWarning:\n",
            "\n",
            "A column-vector y was passed when a 1d array was expected. Please change the shape of y to (n_samples, ), for example using ravel().\n",
            "\n"
          ]
        },
        {
          "name": "stdout",
          "output_type": "stream",
          "text": [
            "[LightGBM] [Warning] feature_fraction is set=0.588740192773645, colsample_bytree=1.0 will be ignored. Current value: feature_fraction=0.588740192773645\n",
            "[LightGBM] [Warning] feature_fraction is set=0.588740192773645, colsample_bytree=1.0 will be ignored. Current value: feature_fraction=0.588740192773645\n",
            "New AUC Score 0.8565960118711875\n"
          ]
        },
        {
          "name": "stderr",
          "output_type": "stream",
          "text": [
            "/usr/local/lib/python3.7/dist-packages/sklearn/preprocessing/_label.py:235: DataConversionWarning:\n",
            "\n",
            "A column-vector y was passed when a 1d array was expected. Please change the shape of y to (n_samples, ), for example using ravel().\n",
            "\n",
            "/usr/local/lib/python3.7/dist-packages/sklearn/preprocessing/_label.py:268: DataConversionWarning:\n",
            "\n",
            "A column-vector y was passed when a 1d array was expected. Please change the shape of y to (n_samples, ), for example using ravel().\n",
            "\n"
          ]
        },
        {
          "name": "stdout",
          "output_type": "stream",
          "text": [
            "[LightGBM] [Warning] feature_fraction is set=0.588740192773645, colsample_bytree=1.0 will be ignored. Current value: feature_fraction=0.588740192773645\n",
            "[LightGBM] [Warning] feature_fraction is set=0.588740192773645, colsample_bytree=1.0 will be ignored. Current value: feature_fraction=0.588740192773645\n",
            "New AUC Score 0.8577067632162936\n"
          ]
        },
        {
          "name": "stderr",
          "output_type": "stream",
          "text": [
            "/usr/local/lib/python3.7/dist-packages/sklearn/preprocessing/_label.py:235: DataConversionWarning:\n",
            "\n",
            "A column-vector y was passed when a 1d array was expected. Please change the shape of y to (n_samples, ), for example using ravel().\n",
            "\n",
            "/usr/local/lib/python3.7/dist-packages/sklearn/preprocessing/_label.py:268: DataConversionWarning:\n",
            "\n",
            "A column-vector y was passed when a 1d array was expected. Please change the shape of y to (n_samples, ), for example using ravel().\n",
            "\n"
          ]
        },
        {
          "name": "stdout",
          "output_type": "stream",
          "text": [
            "[LightGBM] [Warning] feature_fraction is set=0.588740192773645, colsample_bytree=1.0 will be ignored. Current value: feature_fraction=0.588740192773645\n",
            "[LightGBM] [Warning] feature_fraction is set=0.588740192773645, colsample_bytree=1.0 will be ignored. Current value: feature_fraction=0.588740192773645\n",
            "New AUC Score 0.8566038765785875\n"
          ]
        },
        {
          "name": "stderr",
          "output_type": "stream",
          "text": [
            "/usr/local/lib/python3.7/dist-packages/sklearn/preprocessing/_label.py:235: DataConversionWarning:\n",
            "\n",
            "A column-vector y was passed when a 1d array was expected. Please change the shape of y to (n_samples, ), for example using ravel().\n",
            "\n",
            "/usr/local/lib/python3.7/dist-packages/sklearn/preprocessing/_label.py:268: DataConversionWarning:\n",
            "\n",
            "A column-vector y was passed when a 1d array was expected. Please change the shape of y to (n_samples, ), for example using ravel().\n",
            "\n"
          ]
        },
        {
          "name": "stdout",
          "output_type": "stream",
          "text": [
            "[LightGBM] [Warning] feature_fraction is set=0.588740192773645, colsample_bytree=1.0 will be ignored. Current value: feature_fraction=0.588740192773645\n",
            "[LightGBM] [Warning] feature_fraction is set=0.588740192773645, colsample_bytree=1.0 will be ignored. Current value: feature_fraction=0.588740192773645\n",
            "New AUC Score 0.8559241979390779\n",
            "all scores [0.8569714773244629, 0.8565960118711875, 0.8577067632162936, 0.8566038765785875, 0.8559241979390779]\n",
            "Roc AUC score 0.8577067632162936\n",
            "{'boosting_type': 'gbdt', 'class_weight': None, 'colsample_bytree': 1.0, 'importance_type': 'split', 'learning_rate': 0.012459488879911945, 'max_depth': 9, 'min_child_samples': 97, 'min_child_weight': 0.001, 'min_split_gain': 0.0, 'n_estimators': 8705, 'n_jobs': -1, 'num_leaves': 5, 'objective': 'binary', 'random_state': 42, 'reg_alpha': 18, 'reg_lambda': 12, 'silent': True, 'subsample': 0.5925061627916844, 'subsample_for_bin': 200000, 'subsample_freq': 1, 'metric': 'AUC', 'verbosity': 0, 'device': 'gpu', 'feature_fraction': 0.588740192773645}\n"
          ]
        },
        {
          "name": "stderr",
          "output_type": "stream",
          "text": [
            "\u001b[32m[I 2021-10-03 21:07:30,259]\u001b[0m Trial 66 finished with value: 0.8577067632162936 and parameters: {'boosting_type': 'gbdt', 'subsample': 0.5925061627916844, 'eta': 0.012459488879911945, 'n_estimators': 8705, 'reg_alpha': 18, 'reg_lambda': 12, 'max_depth': 9, 'num_leaves': 5, 'feature_fraction': 0.588740192773645, 'min_child_samples': 97}. Best is trial 36 with value: 0.8592082549290472.\u001b[0m\n"
          ]
        },
        {
          "name": "stdout",
          "output_type": "stream",
          "text": [
            "filename ./models/lgbm_66 best_model_name./models/best_lgbm  best_trial_number 36\n",
            "STARTING Params: {'metric': 'AUC', 'verbosity': 0, 'device': 'gpu', 'boosting_type': 'gbdt', 'subsample': 0.5760569713158805, 'learning_rate': 0.014142749383810336, 'n_estimators': 6175, 'subsample_freq': 1, 'reg_alpha': 20, 'reg_lambda': 15, 'max_depth': 8, 'num_leaves': 6, 'feature_fraction': 0.8138258778133586, 'min_child_samples': 88, 'objective': 'binary'}\n",
            "Param: {'metric': 'AUC', 'verbosity': 0, 'device': 'gpu', 'boosting_type': 'gbdt', 'subsample': 0.5760569713158805, 'learning_rate': 0.014142749383810336, 'n_estimators': 6175, 'subsample_freq': 1, 'reg_alpha': 20, 'reg_lambda': 15, 'max_depth': 8, 'num_leaves': 6, 'feature_fraction': 0.8138258778133586, 'min_child_samples': 88, 'objective': 'binary'}\n"
          ]
        },
        {
          "name": "stderr",
          "output_type": "stream",
          "text": [
            "/usr/local/lib/python3.7/dist-packages/sklearn/preprocessing/_label.py:235: DataConversionWarning:\n",
            "\n",
            "A column-vector y was passed when a 1d array was expected. Please change the shape of y to (n_samples, ), for example using ravel().\n",
            "\n",
            "/usr/local/lib/python3.7/dist-packages/sklearn/preprocessing/_label.py:268: DataConversionWarning:\n",
            "\n",
            "A column-vector y was passed when a 1d array was expected. Please change the shape of y to (n_samples, ), for example using ravel().\n",
            "\n"
          ]
        },
        {
          "name": "stdout",
          "output_type": "stream",
          "text": [
            "[LightGBM] [Warning] feature_fraction is set=0.8138258778133586, colsample_bytree=1.0 will be ignored. Current value: feature_fraction=0.8138258778133586\n",
            "[LightGBM] [Warning] feature_fraction is set=0.8138258778133586, colsample_bytree=1.0 will be ignored. Current value: feature_fraction=0.8138258778133586\n",
            "New AUC Score 0.8579266899232224\n"
          ]
        },
        {
          "name": "stderr",
          "output_type": "stream",
          "text": [
            "/usr/local/lib/python3.7/dist-packages/sklearn/preprocessing/_label.py:235: DataConversionWarning:\n",
            "\n",
            "A column-vector y was passed when a 1d array was expected. Please change the shape of y to (n_samples, ), for example using ravel().\n",
            "\n",
            "/usr/local/lib/python3.7/dist-packages/sklearn/preprocessing/_label.py:268: DataConversionWarning:\n",
            "\n",
            "A column-vector y was passed when a 1d array was expected. Please change the shape of y to (n_samples, ), for example using ravel().\n",
            "\n"
          ]
        },
        {
          "name": "stdout",
          "output_type": "stream",
          "text": [
            "[LightGBM] [Warning] feature_fraction is set=0.8138258778133586, colsample_bytree=1.0 will be ignored. Current value: feature_fraction=0.8138258778133586\n",
            "[LightGBM] [Warning] feature_fraction is set=0.8138258778133586, colsample_bytree=1.0 will be ignored. Current value: feature_fraction=0.8138258778133586\n",
            "New AUC Score 0.8577740126795685\n"
          ]
        },
        {
          "name": "stderr",
          "output_type": "stream",
          "text": [
            "/usr/local/lib/python3.7/dist-packages/sklearn/preprocessing/_label.py:235: DataConversionWarning:\n",
            "\n",
            "A column-vector y was passed when a 1d array was expected. Please change the shape of y to (n_samples, ), for example using ravel().\n",
            "\n",
            "/usr/local/lib/python3.7/dist-packages/sklearn/preprocessing/_label.py:268: DataConversionWarning:\n",
            "\n",
            "A column-vector y was passed when a 1d array was expected. Please change the shape of y to (n_samples, ), for example using ravel().\n",
            "\n"
          ]
        },
        {
          "name": "stdout",
          "output_type": "stream",
          "text": [
            "[LightGBM] [Warning] feature_fraction is set=0.8138258778133586, colsample_bytree=1.0 will be ignored. Current value: feature_fraction=0.8138258778133586\n",
            "[LightGBM] [Warning] feature_fraction is set=0.8138258778133586, colsample_bytree=1.0 will be ignored. Current value: feature_fraction=0.8138258778133586\n",
            "New AUC Score 0.8564080573943412\n"
          ]
        },
        {
          "name": "stderr",
          "output_type": "stream",
          "text": [
            "/usr/local/lib/python3.7/dist-packages/sklearn/preprocessing/_label.py:235: DataConversionWarning:\n",
            "\n",
            "A column-vector y was passed when a 1d array was expected. Please change the shape of y to (n_samples, ), for example using ravel().\n",
            "\n",
            "/usr/local/lib/python3.7/dist-packages/sklearn/preprocessing/_label.py:268: DataConversionWarning:\n",
            "\n",
            "A column-vector y was passed when a 1d array was expected. Please change the shape of y to (n_samples, ), for example using ravel().\n",
            "\n"
          ]
        },
        {
          "name": "stdout",
          "output_type": "stream",
          "text": [
            "[LightGBM] [Warning] feature_fraction is set=0.8138258778133586, colsample_bytree=1.0 will be ignored. Current value: feature_fraction=0.8138258778133586\n",
            "[LightGBM] [Warning] feature_fraction is set=0.8138258778133586, colsample_bytree=1.0 will be ignored. Current value: feature_fraction=0.8138258778133586\n",
            "New AUC Score 0.854859482537287\n"
          ]
        },
        {
          "name": "stderr",
          "output_type": "stream",
          "text": [
            "/usr/local/lib/python3.7/dist-packages/sklearn/preprocessing/_label.py:235: DataConversionWarning:\n",
            "\n",
            "A column-vector y was passed when a 1d array was expected. Please change the shape of y to (n_samples, ), for example using ravel().\n",
            "\n",
            "/usr/local/lib/python3.7/dist-packages/sklearn/preprocessing/_label.py:268: DataConversionWarning:\n",
            "\n",
            "A column-vector y was passed when a 1d array was expected. Please change the shape of y to (n_samples, ), for example using ravel().\n",
            "\n"
          ]
        },
        {
          "name": "stdout",
          "output_type": "stream",
          "text": [
            "[LightGBM] [Warning] feature_fraction is set=0.8138258778133586, colsample_bytree=1.0 will be ignored. Current value: feature_fraction=0.8138258778133586\n",
            "[LightGBM] [Warning] feature_fraction is set=0.8138258778133586, colsample_bytree=1.0 will be ignored. Current value: feature_fraction=0.8138258778133586\n",
            "New AUC Score 0.8565643996414436\n",
            "all scores [0.8579266899232224, 0.8577740126795685, 0.8564080573943412, 0.854859482537287, 0.8565643996414436]\n",
            "Roc AUC score 0.8579266899232224\n",
            "{'boosting_type': 'gbdt', 'class_weight': None, 'colsample_bytree': 1.0, 'importance_type': 'split', 'learning_rate': 0.014142749383810336, 'max_depth': 8, 'min_child_samples': 88, 'min_child_weight': 0.001, 'min_split_gain': 0.0, 'n_estimators': 6175, 'n_jobs': -1, 'num_leaves': 6, 'objective': 'binary', 'random_state': 42, 'reg_alpha': 20, 'reg_lambda': 15, 'silent': True, 'subsample': 0.5760569713158805, 'subsample_for_bin': 200000, 'subsample_freq': 1, 'metric': 'AUC', 'verbosity': 0, 'device': 'gpu', 'feature_fraction': 0.8138258778133586}\n"
          ]
        },
        {
          "name": "stderr",
          "output_type": "stream",
          "text": [
            "\u001b[32m[I 2021-10-03 21:16:50,981]\u001b[0m Trial 67 finished with value: 0.8579266899232224 and parameters: {'boosting_type': 'gbdt', 'subsample': 0.5760569713158805, 'eta': 0.014142749383810336, 'n_estimators': 6175, 'reg_alpha': 20, 'reg_lambda': 15, 'max_depth': 8, 'num_leaves': 6, 'feature_fraction': 0.8138258778133586, 'min_child_samples': 88}. Best is trial 36 with value: 0.8592082549290472.\u001b[0m\n"
          ]
        },
        {
          "name": "stdout",
          "output_type": "stream",
          "text": [
            "filename ./models/lgbm_67 best_model_name./models/best_lgbm  best_trial_number 36\n",
            "STARTING Params: {'metric': 'AUC', 'verbosity': 0, 'device': 'gpu', 'boosting_type': 'gbdt', 'subsample': 0.549617753409593, 'learning_rate': 0.013720946014227416, 'n_estimators': 7862, 'subsample_freq': 1, 'reg_alpha': 17, 'reg_lambda': 11, 'max_depth': 7, 'num_leaves': 12, 'feature_fraction': 0.7137550380606502, 'min_child_samples': 77, 'objective': 'binary'}\n",
            "Param: {'metric': 'AUC', 'verbosity': 0, 'device': 'gpu', 'boosting_type': 'gbdt', 'subsample': 0.549617753409593, 'learning_rate': 0.013720946014227416, 'n_estimators': 7862, 'subsample_freq': 1, 'reg_alpha': 17, 'reg_lambda': 11, 'max_depth': 7, 'num_leaves': 12, 'feature_fraction': 0.7137550380606502, 'min_child_samples': 77, 'objective': 'binary'}\n"
          ]
        },
        {
          "name": "stderr",
          "output_type": "stream",
          "text": [
            "/usr/local/lib/python3.7/dist-packages/sklearn/preprocessing/_label.py:235: DataConversionWarning:\n",
            "\n",
            "A column-vector y was passed when a 1d array was expected. Please change the shape of y to (n_samples, ), for example using ravel().\n",
            "\n",
            "/usr/local/lib/python3.7/dist-packages/sklearn/preprocessing/_label.py:268: DataConversionWarning:\n",
            "\n",
            "A column-vector y was passed when a 1d array was expected. Please change the shape of y to (n_samples, ), for example using ravel().\n",
            "\n"
          ]
        },
        {
          "name": "stdout",
          "output_type": "stream",
          "text": [
            "[LightGBM] [Warning] feature_fraction is set=0.7137550380606502, colsample_bytree=1.0 will be ignored. Current value: feature_fraction=0.7137550380606502\n",
            "[LightGBM] [Warning] feature_fraction is set=0.7137550380606502, colsample_bytree=1.0 will be ignored. Current value: feature_fraction=0.7137550380606502\n",
            "New AUC Score 0.8558259923466763\n"
          ]
        },
        {
          "name": "stderr",
          "output_type": "stream",
          "text": [
            "/usr/local/lib/python3.7/dist-packages/sklearn/preprocessing/_label.py:235: DataConversionWarning:\n",
            "\n",
            "A column-vector y was passed when a 1d array was expected. Please change the shape of y to (n_samples, ), for example using ravel().\n",
            "\n",
            "/usr/local/lib/python3.7/dist-packages/sklearn/preprocessing/_label.py:268: DataConversionWarning:\n",
            "\n",
            "A column-vector y was passed when a 1d array was expected. Please change the shape of y to (n_samples, ), for example using ravel().\n",
            "\n"
          ]
        },
        {
          "name": "stdout",
          "output_type": "stream",
          "text": [
            "[LightGBM] [Warning] feature_fraction is set=0.7137550380606502, colsample_bytree=1.0 will be ignored. Current value: feature_fraction=0.7137550380606502\n",
            "[LightGBM] [Warning] feature_fraction is set=0.7137550380606502, colsample_bytree=1.0 will be ignored. Current value: feature_fraction=0.7137550380606502\n",
            "New AUC Score 0.8573207415530857\n"
          ]
        },
        {
          "name": "stderr",
          "output_type": "stream",
          "text": [
            "/usr/local/lib/python3.7/dist-packages/sklearn/preprocessing/_label.py:235: DataConversionWarning:\n",
            "\n",
            "A column-vector y was passed when a 1d array was expected. Please change the shape of y to (n_samples, ), for example using ravel().\n",
            "\n",
            "/usr/local/lib/python3.7/dist-packages/sklearn/preprocessing/_label.py:268: DataConversionWarning:\n",
            "\n",
            "A column-vector y was passed when a 1d array was expected. Please change the shape of y to (n_samples, ), for example using ravel().\n",
            "\n"
          ]
        },
        {
          "name": "stdout",
          "output_type": "stream",
          "text": [
            "[LightGBM] [Warning] feature_fraction is set=0.7137550380606502, colsample_bytree=1.0 will be ignored. Current value: feature_fraction=0.7137550380606502\n",
            "[LightGBM] [Warning] feature_fraction is set=0.7137550380606502, colsample_bytree=1.0 will be ignored. Current value: feature_fraction=0.7137550380606502\n",
            "New AUC Score 0.8564402421246238\n"
          ]
        },
        {
          "name": "stderr",
          "output_type": "stream",
          "text": [
            "/usr/local/lib/python3.7/dist-packages/sklearn/preprocessing/_label.py:235: DataConversionWarning:\n",
            "\n",
            "A column-vector y was passed when a 1d array was expected. Please change the shape of y to (n_samples, ), for example using ravel().\n",
            "\n",
            "/usr/local/lib/python3.7/dist-packages/sklearn/preprocessing/_label.py:268: DataConversionWarning:\n",
            "\n",
            "A column-vector y was passed when a 1d array was expected. Please change the shape of y to (n_samples, ), for example using ravel().\n",
            "\n"
          ]
        },
        {
          "name": "stdout",
          "output_type": "stream",
          "text": [
            "[LightGBM] [Warning] feature_fraction is set=0.7137550380606502, colsample_bytree=1.0 will be ignored. Current value: feature_fraction=0.7137550380606502\n",
            "[LightGBM] [Warning] feature_fraction is set=0.7137550380606502, colsample_bytree=1.0 will be ignored. Current value: feature_fraction=0.7137550380606502\n",
            "New AUC Score 0.85885497929665\n"
          ]
        },
        {
          "name": "stderr",
          "output_type": "stream",
          "text": [
            "/usr/local/lib/python3.7/dist-packages/sklearn/preprocessing/_label.py:235: DataConversionWarning:\n",
            "\n",
            "A column-vector y was passed when a 1d array was expected. Please change the shape of y to (n_samples, ), for example using ravel().\n",
            "\n",
            "/usr/local/lib/python3.7/dist-packages/sklearn/preprocessing/_label.py:268: DataConversionWarning:\n",
            "\n",
            "A column-vector y was passed when a 1d array was expected. Please change the shape of y to (n_samples, ), for example using ravel().\n",
            "\n"
          ]
        },
        {
          "name": "stdout",
          "output_type": "stream",
          "text": [
            "[LightGBM] [Warning] feature_fraction is set=0.7137550380606502, colsample_bytree=1.0 will be ignored. Current value: feature_fraction=0.7137550380606502\n",
            "[LightGBM] [Warning] feature_fraction is set=0.7137550380606502, colsample_bytree=1.0 will be ignored. Current value: feature_fraction=0.7137550380606502\n",
            "New AUC Score 0.8565758209521899\n",
            "all scores [0.8558259923466763, 0.8573207415530857, 0.8564402421246238, 0.85885497929665, 0.8565758209521899]\n",
            "Roc AUC score 0.85885497929665\n",
            "{'boosting_type': 'gbdt', 'class_weight': None, 'colsample_bytree': 1.0, 'importance_type': 'split', 'learning_rate': 0.013720946014227416, 'max_depth': 7, 'min_child_samples': 77, 'min_child_weight': 0.001, 'min_split_gain': 0.0, 'n_estimators': 7862, 'n_jobs': -1, 'num_leaves': 12, 'objective': 'binary', 'random_state': 42, 'reg_alpha': 17, 'reg_lambda': 11, 'silent': True, 'subsample': 0.549617753409593, 'subsample_for_bin': 200000, 'subsample_freq': 1, 'metric': 'AUC', 'verbosity': 0, 'device': 'gpu', 'feature_fraction': 0.7137550380606502}\n"
          ]
        },
        {
          "name": "stderr",
          "output_type": "stream",
          "text": [
            "\u001b[32m[I 2021-10-03 21:31:26,573]\u001b[0m Trial 68 finished with value: 0.85885497929665 and parameters: {'boosting_type': 'gbdt', 'subsample': 0.549617753409593, 'eta': 0.013720946014227416, 'n_estimators': 7862, 'reg_alpha': 17, 'reg_lambda': 11, 'max_depth': 7, 'num_leaves': 12, 'feature_fraction': 0.7137550380606502, 'min_child_samples': 77}. Best is trial 36 with value: 0.8592082549290472.\u001b[0m\n"
          ]
        },
        {
          "name": "stdout",
          "output_type": "stream",
          "text": [
            "filename ./models/lgbm_68 best_model_name./models/best_lgbm  best_trial_number 36\n",
            "STARTING Params: {'metric': 'AUC', 'verbosity': 0, 'device': 'gpu', 'boosting_type': 'gbdt', 'subsample': 0.5489768089909832, 'learning_rate': 0.013715616558391737, 'n_estimators': 7879, 'subsample_freq': 1, 'reg_alpha': 17, 'reg_lambda': 11, 'max_depth': 7, 'num_leaves': 12, 'feature_fraction': 0.7500093741703384, 'min_child_samples': 77, 'objective': 'binary'}\n",
            "Param: {'metric': 'AUC', 'verbosity': 0, 'device': 'gpu', 'boosting_type': 'gbdt', 'subsample': 0.5489768089909832, 'learning_rate': 0.013715616558391737, 'n_estimators': 7879, 'subsample_freq': 1, 'reg_alpha': 17, 'reg_lambda': 11, 'max_depth': 7, 'num_leaves': 12, 'feature_fraction': 0.7500093741703384, 'min_child_samples': 77, 'objective': 'binary'}\n"
          ]
        },
        {
          "name": "stderr",
          "output_type": "stream",
          "text": [
            "/usr/local/lib/python3.7/dist-packages/sklearn/preprocessing/_label.py:235: DataConversionWarning:\n",
            "\n",
            "A column-vector y was passed when a 1d array was expected. Please change the shape of y to (n_samples, ), for example using ravel().\n",
            "\n",
            "/usr/local/lib/python3.7/dist-packages/sklearn/preprocessing/_label.py:268: DataConversionWarning:\n",
            "\n",
            "A column-vector y was passed when a 1d array was expected. Please change the shape of y to (n_samples, ), for example using ravel().\n",
            "\n"
          ]
        },
        {
          "name": "stdout",
          "output_type": "stream",
          "text": [
            "[LightGBM] [Warning] feature_fraction is set=0.7500093741703384, colsample_bytree=1.0 will be ignored. Current value: feature_fraction=0.7500093741703384\n",
            "[LightGBM] [Warning] feature_fraction is set=0.7500093741703384, colsample_bytree=1.0 will be ignored. Current value: feature_fraction=0.7500093741703384\n",
            "New AUC Score 0.8572996087332019\n"
          ]
        },
        {
          "name": "stderr",
          "output_type": "stream",
          "text": [
            "/usr/local/lib/python3.7/dist-packages/sklearn/preprocessing/_label.py:235: DataConversionWarning:\n",
            "\n",
            "A column-vector y was passed when a 1d array was expected. Please change the shape of y to (n_samples, ), for example using ravel().\n",
            "\n",
            "/usr/local/lib/python3.7/dist-packages/sklearn/preprocessing/_label.py:268: DataConversionWarning:\n",
            "\n",
            "A column-vector y was passed when a 1d array was expected. Please change the shape of y to (n_samples, ), for example using ravel().\n",
            "\n"
          ]
        },
        {
          "name": "stdout",
          "output_type": "stream",
          "text": [
            "[LightGBM] [Warning] feature_fraction is set=0.7500093741703384, colsample_bytree=1.0 will be ignored. Current value: feature_fraction=0.7500093741703384\n",
            "[LightGBM] [Warning] feature_fraction is set=0.7500093741703384, colsample_bytree=1.0 will be ignored. Current value: feature_fraction=0.7500093741703384\n",
            "New AUC Score 0.8563063947986869\n"
          ]
        },
        {
          "name": "stderr",
          "output_type": "stream",
          "text": [
            "/usr/local/lib/python3.7/dist-packages/sklearn/preprocessing/_label.py:235: DataConversionWarning:\n",
            "\n",
            "A column-vector y was passed when a 1d array was expected. Please change the shape of y to (n_samples, ), for example using ravel().\n",
            "\n",
            "/usr/local/lib/python3.7/dist-packages/sklearn/preprocessing/_label.py:268: DataConversionWarning:\n",
            "\n",
            "A column-vector y was passed when a 1d array was expected. Please change the shape of y to (n_samples, ), for example using ravel().\n",
            "\n"
          ]
        },
        {
          "name": "stdout",
          "output_type": "stream",
          "text": [
            "[LightGBM] [Warning] feature_fraction is set=0.7500093741703384, colsample_bytree=1.0 will be ignored. Current value: feature_fraction=0.7500093741703384\n",
            "[LightGBM] [Warning] feature_fraction is set=0.7500093741703384, colsample_bytree=1.0 will be ignored. Current value: feature_fraction=0.7500093741703384\n",
            "New AUC Score 0.8567324714995824\n"
          ]
        },
        {
          "name": "stderr",
          "output_type": "stream",
          "text": [
            "/usr/local/lib/python3.7/dist-packages/sklearn/preprocessing/_label.py:235: DataConversionWarning:\n",
            "\n",
            "A column-vector y was passed when a 1d array was expected. Please change the shape of y to (n_samples, ), for example using ravel().\n",
            "\n",
            "/usr/local/lib/python3.7/dist-packages/sklearn/preprocessing/_label.py:268: DataConversionWarning:\n",
            "\n",
            "A column-vector y was passed when a 1d array was expected. Please change the shape of y to (n_samples, ), for example using ravel().\n",
            "\n"
          ]
        },
        {
          "name": "stdout",
          "output_type": "stream",
          "text": [
            "[LightGBM] [Warning] feature_fraction is set=0.7500093741703384, colsample_bytree=1.0 will be ignored. Current value: feature_fraction=0.7500093741703384\n",
            "[LightGBM] [Warning] feature_fraction is set=0.7500093741703384, colsample_bytree=1.0 will be ignored. Current value: feature_fraction=0.7500093741703384\n",
            "New AUC Score 0.8579154111126103\n"
          ]
        },
        {
          "name": "stderr",
          "output_type": "stream",
          "text": [
            "/usr/local/lib/python3.7/dist-packages/sklearn/preprocessing/_label.py:235: DataConversionWarning:\n",
            "\n",
            "A column-vector y was passed when a 1d array was expected. Please change the shape of y to (n_samples, ), for example using ravel().\n",
            "\n",
            "/usr/local/lib/python3.7/dist-packages/sklearn/preprocessing/_label.py:268: DataConversionWarning:\n",
            "\n",
            "A column-vector y was passed when a 1d array was expected. Please change the shape of y to (n_samples, ), for example using ravel().\n",
            "\n"
          ]
        },
        {
          "name": "stdout",
          "output_type": "stream",
          "text": [
            "[LightGBM] [Warning] feature_fraction is set=0.7500093741703384, colsample_bytree=1.0 will be ignored. Current value: feature_fraction=0.7500093741703384\n",
            "[LightGBM] [Warning] feature_fraction is set=0.7500093741703384, colsample_bytree=1.0 will be ignored. Current value: feature_fraction=0.7500093741703384\n",
            "New AUC Score 0.8569861512382697\n",
            "all scores [0.8572996087332019, 0.8563063947986869, 0.8567324714995824, 0.8579154111126103, 0.8569861512382697]\n",
            "Roc AUC score 0.8579154111126103\n",
            "{'boosting_type': 'gbdt', 'class_weight': None, 'colsample_bytree': 1.0, 'importance_type': 'split', 'learning_rate': 0.013715616558391737, 'max_depth': 7, 'min_child_samples': 77, 'min_child_weight': 0.001, 'min_split_gain': 0.0, 'n_estimators': 7879, 'n_jobs': -1, 'num_leaves': 12, 'objective': 'binary', 'random_state': 42, 'reg_alpha': 17, 'reg_lambda': 11, 'silent': True, 'subsample': 0.5489768089909832, 'subsample_for_bin': 200000, 'subsample_freq': 1, 'metric': 'AUC', 'verbosity': 0, 'device': 'gpu', 'feature_fraction': 0.7500093741703384}\n"
          ]
        },
        {
          "name": "stderr",
          "output_type": "stream",
          "text": [
            "\u001b[32m[I 2021-10-03 21:45:39,490]\u001b[0m Trial 69 finished with value: 0.8579154111126103 and parameters: {'boosting_type': 'gbdt', 'subsample': 0.5489768089909832, 'eta': 0.013715616558391737, 'n_estimators': 7879, 'reg_alpha': 17, 'reg_lambda': 11, 'max_depth': 7, 'num_leaves': 12, 'feature_fraction': 0.7500093741703384, 'min_child_samples': 77}. Best is trial 36 with value: 0.8592082549290472.\u001b[0m\n"
          ]
        },
        {
          "name": "stdout",
          "output_type": "stream",
          "text": [
            "filename ./models/lgbm_69 best_model_name./models/best_lgbm  best_trial_number 36\n",
            "STARTING Params: {'metric': 'AUC', 'verbosity': 0, 'device': 'gpu', 'boosting_type': 'gbdt', 'subsample': 0.5400474963541795, 'learning_rate': 0.012020462158458168, 'n_estimators': 8404, 'subsample_freq': 1, 'reg_alpha': 16, 'reg_lambda': 19, 'max_depth': 7, 'num_leaves': 2, 'feature_fraction': 0.7912493051549563, 'min_child_samples': 65, 'objective': 'binary'}\n",
            "Param: {'metric': 'AUC', 'verbosity': 0, 'device': 'gpu', 'boosting_type': 'gbdt', 'subsample': 0.5400474963541795, 'learning_rate': 0.012020462158458168, 'n_estimators': 8404, 'subsample_freq': 1, 'reg_alpha': 16, 'reg_lambda': 19, 'max_depth': 7, 'num_leaves': 2, 'feature_fraction': 0.7912493051549563, 'min_child_samples': 65, 'objective': 'binary'}\n"
          ]
        },
        {
          "name": "stderr",
          "output_type": "stream",
          "text": [
            "/usr/local/lib/python3.7/dist-packages/sklearn/preprocessing/_label.py:235: DataConversionWarning:\n",
            "\n",
            "A column-vector y was passed when a 1d array was expected. Please change the shape of y to (n_samples, ), for example using ravel().\n",
            "\n",
            "/usr/local/lib/python3.7/dist-packages/sklearn/preprocessing/_label.py:268: DataConversionWarning:\n",
            "\n",
            "A column-vector y was passed when a 1d array was expected. Please change the shape of y to (n_samples, ), for example using ravel().\n",
            "\n"
          ]
        },
        {
          "name": "stdout",
          "output_type": "stream",
          "text": [
            "[LightGBM] [Warning] feature_fraction is set=0.7912493051549563, colsample_bytree=1.0 will be ignored. Current value: feature_fraction=0.7912493051549563\n",
            "[LightGBM] [Warning] feature_fraction is set=0.7912493051549563, colsample_bytree=1.0 will be ignored. Current value: feature_fraction=0.7912493051549563\n",
            "New AUC Score 0.8518825095362532\n"
          ]
        },
        {
          "name": "stderr",
          "output_type": "stream",
          "text": [
            "/usr/local/lib/python3.7/dist-packages/sklearn/preprocessing/_label.py:235: DataConversionWarning:\n",
            "\n",
            "A column-vector y was passed when a 1d array was expected. Please change the shape of y to (n_samples, ), for example using ravel().\n",
            "\n",
            "/usr/local/lib/python3.7/dist-packages/sklearn/preprocessing/_label.py:268: DataConversionWarning:\n",
            "\n",
            "A column-vector y was passed when a 1d array was expected. Please change the shape of y to (n_samples, ), for example using ravel().\n",
            "\n"
          ]
        },
        {
          "name": "stdout",
          "output_type": "stream",
          "text": [
            "[LightGBM] [Warning] feature_fraction is set=0.7912493051549563, colsample_bytree=1.0 will be ignored. Current value: feature_fraction=0.7912493051549563\n",
            "[LightGBM] [Warning] feature_fraction is set=0.7912493051549563, colsample_bytree=1.0 will be ignored. Current value: feature_fraction=0.7912493051549563\n",
            "New AUC Score 0.8513591385438134\n"
          ]
        },
        {
          "name": "stderr",
          "output_type": "stream",
          "text": [
            "/usr/local/lib/python3.7/dist-packages/sklearn/preprocessing/_label.py:235: DataConversionWarning:\n",
            "\n",
            "A column-vector y was passed when a 1d array was expected. Please change the shape of y to (n_samples, ), for example using ravel().\n",
            "\n",
            "/usr/local/lib/python3.7/dist-packages/sklearn/preprocessing/_label.py:268: DataConversionWarning:\n",
            "\n",
            "A column-vector y was passed when a 1d array was expected. Please change the shape of y to (n_samples, ), for example using ravel().\n",
            "\n"
          ]
        },
        {
          "name": "stdout",
          "output_type": "stream",
          "text": [
            "[LightGBM] [Warning] feature_fraction is set=0.7912493051549563, colsample_bytree=1.0 will be ignored. Current value: feature_fraction=0.7912493051549563\n",
            "[LightGBM] [Warning] feature_fraction is set=0.7912493051549563, colsample_bytree=1.0 will be ignored. Current value: feature_fraction=0.7912493051549563\n",
            "New AUC Score 0.8522959007252129\n"
          ]
        },
        {
          "name": "stderr",
          "output_type": "stream",
          "text": [
            "/usr/local/lib/python3.7/dist-packages/sklearn/preprocessing/_label.py:235: DataConversionWarning:\n",
            "\n",
            "A column-vector y was passed when a 1d array was expected. Please change the shape of y to (n_samples, ), for example using ravel().\n",
            "\n",
            "/usr/local/lib/python3.7/dist-packages/sklearn/preprocessing/_label.py:268: DataConversionWarning:\n",
            "\n",
            "A column-vector y was passed when a 1d array was expected. Please change the shape of y to (n_samples, ), for example using ravel().\n",
            "\n"
          ]
        },
        {
          "name": "stdout",
          "output_type": "stream",
          "text": [
            "[LightGBM] [Warning] feature_fraction is set=0.7912493051549563, colsample_bytree=1.0 will be ignored. Current value: feature_fraction=0.7912493051549563\n",
            "[LightGBM] [Warning] feature_fraction is set=0.7912493051549563, colsample_bytree=1.0 will be ignored. Current value: feature_fraction=0.7912493051549563\n",
            "New AUC Score 0.8510164267213559\n"
          ]
        },
        {
          "name": "stderr",
          "output_type": "stream",
          "text": [
            "/usr/local/lib/python3.7/dist-packages/sklearn/preprocessing/_label.py:235: DataConversionWarning:\n",
            "\n",
            "A column-vector y was passed when a 1d array was expected. Please change the shape of y to (n_samples, ), for example using ravel().\n",
            "\n",
            "/usr/local/lib/python3.7/dist-packages/sklearn/preprocessing/_label.py:268: DataConversionWarning:\n",
            "\n",
            "A column-vector y was passed when a 1d array was expected. Please change the shape of y to (n_samples, ), for example using ravel().\n",
            "\n"
          ]
        },
        {
          "name": "stdout",
          "output_type": "stream",
          "text": [
            "[LightGBM] [Warning] feature_fraction is set=0.7912493051549563, colsample_bytree=1.0 will be ignored. Current value: feature_fraction=0.7912493051549563\n",
            "[LightGBM] [Warning] feature_fraction is set=0.7912493051549563, colsample_bytree=1.0 will be ignored. Current value: feature_fraction=0.7912493051549563\n",
            "New AUC Score 0.8524430496636655\n",
            "all scores [0.8518825095362532, 0.8513591385438134, 0.8522959007252129, 0.8510164267213559, 0.8524430496636655]\n",
            "Roc AUC score 0.8524430496636655\n",
            "{'boosting_type': 'gbdt', 'class_weight': None, 'colsample_bytree': 1.0, 'importance_type': 'split', 'learning_rate': 0.012020462158458168, 'max_depth': 7, 'min_child_samples': 65, 'min_child_weight': 0.001, 'min_split_gain': 0.0, 'n_estimators': 8404, 'n_jobs': -1, 'num_leaves': 2, 'objective': 'binary', 'random_state': 42, 'reg_alpha': 16, 'reg_lambda': 19, 'silent': True, 'subsample': 0.5400474963541795, 'subsample_for_bin': 200000, 'subsample_freq': 1, 'metric': 'AUC', 'verbosity': 0, 'device': 'gpu', 'feature_fraction': 0.7912493051549563}\n"
          ]
        },
        {
          "name": "stderr",
          "output_type": "stream",
          "text": [
            "\u001b[32m[I 2021-10-03 21:53:25,468]\u001b[0m Trial 70 finished with value: 0.8524430496636655 and parameters: {'boosting_type': 'gbdt', 'subsample': 0.5400474963541795, 'eta': 0.012020462158458168, 'n_estimators': 8404, 'reg_alpha': 16, 'reg_lambda': 19, 'max_depth': 7, 'num_leaves': 2, 'feature_fraction': 0.7912493051549563, 'min_child_samples': 65}. Best is trial 36 with value: 0.8592082549290472.\u001b[0m\n"
          ]
        },
        {
          "name": "stdout",
          "output_type": "stream",
          "text": [
            "filename ./models/lgbm_70 best_model_name./models/best_lgbm  best_trial_number 36\n",
            "STARTING Params: {'metric': 'AUC', 'verbosity': 0, 'device': 'gpu', 'boosting_type': 'gbdt', 'subsample': 0.5648448107874984, 'learning_rate': 0.014590498680467424, 'n_estimators': 7127, 'subsample_freq': 1, 'reg_alpha': 17, 'reg_lambda': 12, 'max_depth': 7, 'num_leaves': 11, 'feature_fraction': 0.7108572381197386, 'min_child_samples': 93, 'objective': 'binary'}\n",
            "Param: {'metric': 'AUC', 'verbosity': 0, 'device': 'gpu', 'boosting_type': 'gbdt', 'subsample': 0.5648448107874984, 'learning_rate': 0.014590498680467424, 'n_estimators': 7127, 'subsample_freq': 1, 'reg_alpha': 17, 'reg_lambda': 12, 'max_depth': 7, 'num_leaves': 11, 'feature_fraction': 0.7108572381197386, 'min_child_samples': 93, 'objective': 'binary'}\n"
          ]
        },
        {
          "name": "stderr",
          "output_type": "stream",
          "text": [
            "/usr/local/lib/python3.7/dist-packages/sklearn/preprocessing/_label.py:235: DataConversionWarning:\n",
            "\n",
            "A column-vector y was passed when a 1d array was expected. Please change the shape of y to (n_samples, ), for example using ravel().\n",
            "\n",
            "/usr/local/lib/python3.7/dist-packages/sklearn/preprocessing/_label.py:268: DataConversionWarning:\n",
            "\n",
            "A column-vector y was passed when a 1d array was expected. Please change the shape of y to (n_samples, ), for example using ravel().\n",
            "\n"
          ]
        },
        {
          "name": "stdout",
          "output_type": "stream",
          "text": [
            "[LightGBM] [Warning] feature_fraction is set=0.7108572381197386, colsample_bytree=1.0 will be ignored. Current value: feature_fraction=0.7108572381197386\n",
            "[LightGBM] [Warning] feature_fraction is set=0.7108572381197386, colsample_bytree=1.0 will be ignored. Current value: feature_fraction=0.7108572381197386\n",
            "New AUC Score 0.8571661756076546\n"
          ]
        },
        {
          "name": "stderr",
          "output_type": "stream",
          "text": [
            "/usr/local/lib/python3.7/dist-packages/sklearn/preprocessing/_label.py:235: DataConversionWarning:\n",
            "\n",
            "A column-vector y was passed when a 1d array was expected. Please change the shape of y to (n_samples, ), for example using ravel().\n",
            "\n",
            "/usr/local/lib/python3.7/dist-packages/sklearn/preprocessing/_label.py:268: DataConversionWarning:\n",
            "\n",
            "A column-vector y was passed when a 1d array was expected. Please change the shape of y to (n_samples, ), for example using ravel().\n",
            "\n"
          ]
        },
        {
          "name": "stdout",
          "output_type": "stream",
          "text": [
            "[LightGBM] [Warning] feature_fraction is set=0.7108572381197386, colsample_bytree=1.0 will be ignored. Current value: feature_fraction=0.7108572381197386\n",
            "[LightGBM] [Warning] feature_fraction is set=0.7108572381197386, colsample_bytree=1.0 will be ignored. Current value: feature_fraction=0.7108572381197386\n",
            "New AUC Score 0.8554082175535919\n"
          ]
        },
        {
          "name": "stderr",
          "output_type": "stream",
          "text": [
            "/usr/local/lib/python3.7/dist-packages/sklearn/preprocessing/_label.py:235: DataConversionWarning:\n",
            "\n",
            "A column-vector y was passed when a 1d array was expected. Please change the shape of y to (n_samples, ), for example using ravel().\n",
            "\n",
            "/usr/local/lib/python3.7/dist-packages/sklearn/preprocessing/_label.py:268: DataConversionWarning:\n",
            "\n",
            "A column-vector y was passed when a 1d array was expected. Please change the shape of y to (n_samples, ), for example using ravel().\n",
            "\n"
          ]
        },
        {
          "name": "stdout",
          "output_type": "stream",
          "text": [
            "[LightGBM] [Warning] feature_fraction is set=0.7108572381197386, colsample_bytree=1.0 will be ignored. Current value: feature_fraction=0.7108572381197386\n",
            "[LightGBM] [Warning] feature_fraction is set=0.7108572381197386, colsample_bytree=1.0 will be ignored. Current value: feature_fraction=0.7108572381197386\n",
            "New AUC Score 0.8571166560610617\n"
          ]
        },
        {
          "name": "stderr",
          "output_type": "stream",
          "text": [
            "/usr/local/lib/python3.7/dist-packages/sklearn/preprocessing/_label.py:235: DataConversionWarning:\n",
            "\n",
            "A column-vector y was passed when a 1d array was expected. Please change the shape of y to (n_samples, ), for example using ravel().\n",
            "\n",
            "/usr/local/lib/python3.7/dist-packages/sklearn/preprocessing/_label.py:268: DataConversionWarning:\n",
            "\n",
            "A column-vector y was passed when a 1d array was expected. Please change the shape of y to (n_samples, ), for example using ravel().\n",
            "\n"
          ]
        },
        {
          "name": "stdout",
          "output_type": "stream",
          "text": [
            "[LightGBM] [Warning] feature_fraction is set=0.7108572381197386, colsample_bytree=1.0 will be ignored. Current value: feature_fraction=0.7108572381197386\n",
            "[LightGBM] [Warning] feature_fraction is set=0.7108572381197386, colsample_bytree=1.0 will be ignored. Current value: feature_fraction=0.7108572381197386\n",
            "New AUC Score 0.8567345600015476\n"
          ]
        },
        {
          "name": "stderr",
          "output_type": "stream",
          "text": [
            "/usr/local/lib/python3.7/dist-packages/sklearn/preprocessing/_label.py:235: DataConversionWarning:\n",
            "\n",
            "A column-vector y was passed when a 1d array was expected. Please change the shape of y to (n_samples, ), for example using ravel().\n",
            "\n",
            "/usr/local/lib/python3.7/dist-packages/sklearn/preprocessing/_label.py:268: DataConversionWarning:\n",
            "\n",
            "A column-vector y was passed when a 1d array was expected. Please change the shape of y to (n_samples, ), for example using ravel().\n",
            "\n"
          ]
        },
        {
          "name": "stdout",
          "output_type": "stream",
          "text": [
            "[LightGBM] [Warning] feature_fraction is set=0.7108572381197386, colsample_bytree=1.0 will be ignored. Current value: feature_fraction=0.7108572381197386\n",
            "[LightGBM] [Warning] feature_fraction is set=0.7108572381197386, colsample_bytree=1.0 will be ignored. Current value: feature_fraction=0.7108572381197386\n",
            "New AUC Score 0.8587218556713939\n",
            "all scores [0.8571661756076546, 0.8554082175535919, 0.8571166560610617, 0.8567345600015476, 0.8587218556713939]\n",
            "Roc AUC score 0.8587218556713939\n",
            "{'boosting_type': 'gbdt', 'class_weight': None, 'colsample_bytree': 1.0, 'importance_type': 'split', 'learning_rate': 0.014590498680467424, 'max_depth': 7, 'min_child_samples': 93, 'min_child_weight': 0.001, 'min_split_gain': 0.0, 'n_estimators': 7127, 'n_jobs': -1, 'num_leaves': 11, 'objective': 'binary', 'random_state': 42, 'reg_alpha': 17, 'reg_lambda': 12, 'silent': True, 'subsample': 0.5648448107874984, 'subsample_for_bin': 200000, 'subsample_freq': 1, 'metric': 'AUC', 'verbosity': 0, 'device': 'gpu', 'feature_fraction': 0.7108572381197386}\n"
          ]
        },
        {
          "name": "stderr",
          "output_type": "stream",
          "text": [
            "\u001b[32m[I 2021-10-03 22:06:33,382]\u001b[0m Trial 71 finished with value: 0.8587218556713939 and parameters: {'boosting_type': 'gbdt', 'subsample': 0.5648448107874984, 'eta': 0.014590498680467424, 'n_estimators': 7127, 'reg_alpha': 17, 'reg_lambda': 12, 'max_depth': 7, 'num_leaves': 11, 'feature_fraction': 0.7108572381197386, 'min_child_samples': 93}. Best is trial 36 with value: 0.8592082549290472.\u001b[0m\n"
          ]
        },
        {
          "name": "stdout",
          "output_type": "stream",
          "text": [
            "filename ./models/lgbm_71 best_model_name./models/best_lgbm  best_trial_number 36\n",
            "STARTING Params: {'metric': 'AUC', 'verbosity': 0, 'device': 'gpu', 'boosting_type': 'gbdt', 'subsample': 0.5650527299856163, 'learning_rate': 0.014648698867944763, 'n_estimators': 7187, 'subsample_freq': 1, 'reg_alpha': 17, 'reg_lambda': 11, 'max_depth': 6, 'num_leaves': 12, 'feature_fraction': 0.679458621971901, 'min_child_samples': 96, 'objective': 'binary'}\n",
            "Param: {'metric': 'AUC', 'verbosity': 0, 'device': 'gpu', 'boosting_type': 'gbdt', 'subsample': 0.5650527299856163, 'learning_rate': 0.014648698867944763, 'n_estimators': 7187, 'subsample_freq': 1, 'reg_alpha': 17, 'reg_lambda': 11, 'max_depth': 6, 'num_leaves': 12, 'feature_fraction': 0.679458621971901, 'min_child_samples': 96, 'objective': 'binary'}\n"
          ]
        },
        {
          "name": "stderr",
          "output_type": "stream",
          "text": [
            "/usr/local/lib/python3.7/dist-packages/sklearn/preprocessing/_label.py:235: DataConversionWarning:\n",
            "\n",
            "A column-vector y was passed when a 1d array was expected. Please change the shape of y to (n_samples, ), for example using ravel().\n",
            "\n",
            "/usr/local/lib/python3.7/dist-packages/sklearn/preprocessing/_label.py:268: DataConversionWarning:\n",
            "\n",
            "A column-vector y was passed when a 1d array was expected. Please change the shape of y to (n_samples, ), for example using ravel().\n",
            "\n"
          ]
        },
        {
          "name": "stdout",
          "output_type": "stream",
          "text": [
            "[LightGBM] [Warning] feature_fraction is set=0.679458621971901, colsample_bytree=1.0 will be ignored. Current value: feature_fraction=0.679458621971901\n",
            "[LightGBM] [Warning] feature_fraction is set=0.679458621971901, colsample_bytree=1.0 will be ignored. Current value: feature_fraction=0.679458621971901\n",
            "New AUC Score 0.8582646596412182\n"
          ]
        },
        {
          "name": "stderr",
          "output_type": "stream",
          "text": [
            "/usr/local/lib/python3.7/dist-packages/sklearn/preprocessing/_label.py:235: DataConversionWarning:\n",
            "\n",
            "A column-vector y was passed when a 1d array was expected. Please change the shape of y to (n_samples, ), for example using ravel().\n",
            "\n",
            "/usr/local/lib/python3.7/dist-packages/sklearn/preprocessing/_label.py:268: DataConversionWarning:\n",
            "\n",
            "A column-vector y was passed when a 1d array was expected. Please change the shape of y to (n_samples, ), for example using ravel().\n",
            "\n"
          ]
        },
        {
          "name": "stdout",
          "output_type": "stream",
          "text": [
            "[LightGBM] [Warning] feature_fraction is set=0.679458621971901, colsample_bytree=1.0 will be ignored. Current value: feature_fraction=0.679458621971901\n",
            "[LightGBM] [Warning] feature_fraction is set=0.679458621971901, colsample_bytree=1.0 will be ignored. Current value: feature_fraction=0.679458621971901\n",
            "New AUC Score 0.8562892896825927\n"
          ]
        },
        {
          "name": "stderr",
          "output_type": "stream",
          "text": [
            "/usr/local/lib/python3.7/dist-packages/sklearn/preprocessing/_label.py:235: DataConversionWarning:\n",
            "\n",
            "A column-vector y was passed when a 1d array was expected. Please change the shape of y to (n_samples, ), for example using ravel().\n",
            "\n",
            "/usr/local/lib/python3.7/dist-packages/sklearn/preprocessing/_label.py:268: DataConversionWarning:\n",
            "\n",
            "A column-vector y was passed when a 1d array was expected. Please change the shape of y to (n_samples, ), for example using ravel().\n",
            "\n"
          ]
        },
        {
          "name": "stdout",
          "output_type": "stream",
          "text": [
            "[LightGBM] [Warning] feature_fraction is set=0.679458621971901, colsample_bytree=1.0 will be ignored. Current value: feature_fraction=0.679458621971901\n",
            "[LightGBM] [Warning] feature_fraction is set=0.679458621971901, colsample_bytree=1.0 will be ignored. Current value: feature_fraction=0.679458621971901\n",
            "New AUC Score 0.8564983689793153\n"
          ]
        },
        {
          "name": "stderr",
          "output_type": "stream",
          "text": [
            "/usr/local/lib/python3.7/dist-packages/sklearn/preprocessing/_label.py:235: DataConversionWarning:\n",
            "\n",
            "A column-vector y was passed when a 1d array was expected. Please change the shape of y to (n_samples, ), for example using ravel().\n",
            "\n",
            "/usr/local/lib/python3.7/dist-packages/sklearn/preprocessing/_label.py:268: DataConversionWarning:\n",
            "\n",
            "A column-vector y was passed when a 1d array was expected. Please change the shape of y to (n_samples, ), for example using ravel().\n",
            "\n"
          ]
        },
        {
          "name": "stdout",
          "output_type": "stream",
          "text": [
            "[LightGBM] [Warning] feature_fraction is set=0.679458621971901, colsample_bytree=1.0 will be ignored. Current value: feature_fraction=0.679458621971901\n",
            "[LightGBM] [Warning] feature_fraction is set=0.679458621971901, colsample_bytree=1.0 will be ignored. Current value: feature_fraction=0.679458621971901\n",
            "New AUC Score 0.8563386379290244\n"
          ]
        },
        {
          "name": "stderr",
          "output_type": "stream",
          "text": [
            "/usr/local/lib/python3.7/dist-packages/sklearn/preprocessing/_label.py:235: DataConversionWarning:\n",
            "\n",
            "A column-vector y was passed when a 1d array was expected. Please change the shape of y to (n_samples, ), for example using ravel().\n",
            "\n",
            "/usr/local/lib/python3.7/dist-packages/sklearn/preprocessing/_label.py:268: DataConversionWarning:\n",
            "\n",
            "A column-vector y was passed when a 1d array was expected. Please change the shape of y to (n_samples, ), for example using ravel().\n",
            "\n"
          ]
        },
        {
          "name": "stdout",
          "output_type": "stream",
          "text": [
            "[LightGBM] [Warning] feature_fraction is set=0.679458621971901, colsample_bytree=1.0 will be ignored. Current value: feature_fraction=0.679458621971901\n",
            "[LightGBM] [Warning] feature_fraction is set=0.679458621971901, colsample_bytree=1.0 will be ignored. Current value: feature_fraction=0.679458621971901\n",
            "New AUC Score 0.8576595022718257\n",
            "all scores [0.8582646596412182, 0.8562892896825927, 0.8564983689793153, 0.8563386379290244, 0.8576595022718257]\n",
            "Roc AUC score 0.8582646596412182\n",
            "{'boosting_type': 'gbdt', 'class_weight': None, 'colsample_bytree': 1.0, 'importance_type': 'split', 'learning_rate': 0.014648698867944763, 'max_depth': 6, 'min_child_samples': 96, 'min_child_weight': 0.001, 'min_split_gain': 0.0, 'n_estimators': 7187, 'n_jobs': -1, 'num_leaves': 12, 'objective': 'binary', 'random_state': 42, 'reg_alpha': 17, 'reg_lambda': 11, 'silent': True, 'subsample': 0.5650527299856163, 'subsample_for_bin': 200000, 'subsample_freq': 1, 'metric': 'AUC', 'verbosity': 0, 'device': 'gpu', 'feature_fraction': 0.679458621971901}\n"
          ]
        },
        {
          "name": "stderr",
          "output_type": "stream",
          "text": [
            "\u001b[32m[I 2021-10-03 22:20:31,961]\u001b[0m Trial 72 finished with value: 0.8582646596412182 and parameters: {'boosting_type': 'gbdt', 'subsample': 0.5650527299856163, 'eta': 0.014648698867944763, 'n_estimators': 7187, 'reg_alpha': 17, 'reg_lambda': 11, 'max_depth': 6, 'num_leaves': 12, 'feature_fraction': 0.679458621971901, 'min_child_samples': 96}. Best is trial 36 with value: 0.8592082549290472.\u001b[0m\n"
          ]
        },
        {
          "name": "stdout",
          "output_type": "stream",
          "text": [
            "filename ./models/lgbm_72 best_model_name./models/best_lgbm  best_trial_number 36\n",
            "STARTING Params: {'metric': 'AUC', 'verbosity': 0, 'device': 'gpu', 'boosting_type': 'gbdt', 'subsample': 0.5634987003811819, 'learning_rate': 0.01464887733280272, 'n_estimators': 5712, 'subsample_freq': 1, 'reg_alpha': 17, 'reg_lambda': 11, 'max_depth': 5, 'num_leaves': 12, 'feature_fraction': 0.716602848253638, 'min_child_samples': 93, 'objective': 'binary'}\n",
            "Param: {'metric': 'AUC', 'verbosity': 0, 'device': 'gpu', 'boosting_type': 'gbdt', 'subsample': 0.5634987003811819, 'learning_rate': 0.01464887733280272, 'n_estimators': 5712, 'subsample_freq': 1, 'reg_alpha': 17, 'reg_lambda': 11, 'max_depth': 5, 'num_leaves': 12, 'feature_fraction': 0.716602848253638, 'min_child_samples': 93, 'objective': 'binary'}\n"
          ]
        },
        {
          "name": "stderr",
          "output_type": "stream",
          "text": [
            "/usr/local/lib/python3.7/dist-packages/sklearn/preprocessing/_label.py:235: DataConversionWarning:\n",
            "\n",
            "A column-vector y was passed when a 1d array was expected. Please change the shape of y to (n_samples, ), for example using ravel().\n",
            "\n",
            "/usr/local/lib/python3.7/dist-packages/sklearn/preprocessing/_label.py:268: DataConversionWarning:\n",
            "\n",
            "A column-vector y was passed when a 1d array was expected. Please change the shape of y to (n_samples, ), for example using ravel().\n",
            "\n"
          ]
        },
        {
          "name": "stdout",
          "output_type": "stream",
          "text": [
            "[LightGBM] [Warning] feature_fraction is set=0.716602848253638, colsample_bytree=1.0 will be ignored. Current value: feature_fraction=0.716602848253638\n",
            "[LightGBM] [Warning] feature_fraction is set=0.716602848253638, colsample_bytree=1.0 will be ignored. Current value: feature_fraction=0.716602848253638\n",
            "New AUC Score 0.857230067967771\n"
          ]
        },
        {
          "name": "stderr",
          "output_type": "stream",
          "text": [
            "/usr/local/lib/python3.7/dist-packages/sklearn/preprocessing/_label.py:235: DataConversionWarning:\n",
            "\n",
            "A column-vector y was passed when a 1d array was expected. Please change the shape of y to (n_samples, ), for example using ravel().\n",
            "\n",
            "/usr/local/lib/python3.7/dist-packages/sklearn/preprocessing/_label.py:268: DataConversionWarning:\n",
            "\n",
            "A column-vector y was passed when a 1d array was expected. Please change the shape of y to (n_samples, ), for example using ravel().\n",
            "\n"
          ]
        },
        {
          "name": "stdout",
          "output_type": "stream",
          "text": [
            "[LightGBM] [Warning] feature_fraction is set=0.716602848253638, colsample_bytree=1.0 will be ignored. Current value: feature_fraction=0.716602848253638\n",
            "[LightGBM] [Warning] feature_fraction is set=0.716602848253638, colsample_bytree=1.0 will be ignored. Current value: feature_fraction=0.716602848253638\n",
            "New AUC Score 0.8578157258188164\n"
          ]
        },
        {
          "name": "stderr",
          "output_type": "stream",
          "text": [
            "/usr/local/lib/python3.7/dist-packages/sklearn/preprocessing/_label.py:235: DataConversionWarning:\n",
            "\n",
            "A column-vector y was passed when a 1d array was expected. Please change the shape of y to (n_samples, ), for example using ravel().\n",
            "\n",
            "/usr/local/lib/python3.7/dist-packages/sklearn/preprocessing/_label.py:268: DataConversionWarning:\n",
            "\n",
            "A column-vector y was passed when a 1d array was expected. Please change the shape of y to (n_samples, ), for example using ravel().\n",
            "\n"
          ]
        },
        {
          "name": "stdout",
          "output_type": "stream",
          "text": [
            "[LightGBM] [Warning] feature_fraction is set=0.716602848253638, colsample_bytree=1.0 will be ignored. Current value: feature_fraction=0.716602848253638\n",
            "[LightGBM] [Warning] feature_fraction is set=0.716602848253638, colsample_bytree=1.0 will be ignored. Current value: feature_fraction=0.716602848253638\n",
            "New AUC Score 0.8555109526502553\n"
          ]
        },
        {
          "name": "stderr",
          "output_type": "stream",
          "text": [
            "/usr/local/lib/python3.7/dist-packages/sklearn/preprocessing/_label.py:235: DataConversionWarning:\n",
            "\n",
            "A column-vector y was passed when a 1d array was expected. Please change the shape of y to (n_samples, ), for example using ravel().\n",
            "\n",
            "/usr/local/lib/python3.7/dist-packages/sklearn/preprocessing/_label.py:268: DataConversionWarning:\n",
            "\n",
            "A column-vector y was passed when a 1d array was expected. Please change the shape of y to (n_samples, ), for example using ravel().\n",
            "\n"
          ]
        },
        {
          "name": "stdout",
          "output_type": "stream",
          "text": [
            "[LightGBM] [Warning] feature_fraction is set=0.716602848253638, colsample_bytree=1.0 will be ignored. Current value: feature_fraction=0.716602848253638\n",
            "[LightGBM] [Warning] feature_fraction is set=0.716602848253638, colsample_bytree=1.0 will be ignored. Current value: feature_fraction=0.716602848253638\n",
            "New AUC Score 0.8573858176143158\n"
          ]
        },
        {
          "name": "stderr",
          "output_type": "stream",
          "text": [
            "/usr/local/lib/python3.7/dist-packages/sklearn/preprocessing/_label.py:235: DataConversionWarning:\n",
            "\n",
            "A column-vector y was passed when a 1d array was expected. Please change the shape of y to (n_samples, ), for example using ravel().\n",
            "\n",
            "/usr/local/lib/python3.7/dist-packages/sklearn/preprocessing/_label.py:268: DataConversionWarning:\n",
            "\n",
            "A column-vector y was passed when a 1d array was expected. Please change the shape of y to (n_samples, ), for example using ravel().\n",
            "\n"
          ]
        },
        {
          "name": "stdout",
          "output_type": "stream",
          "text": [
            "[LightGBM] [Warning] feature_fraction is set=0.716602848253638, colsample_bytree=1.0 will be ignored. Current value: feature_fraction=0.716602848253638\n",
            "[LightGBM] [Warning] feature_fraction is set=0.716602848253638, colsample_bytree=1.0 will be ignored. Current value: feature_fraction=0.716602848253638\n",
            "New AUC Score 0.8570826177290349\n",
            "all scores [0.857230067967771, 0.8578157258188164, 0.8555109526502553, 0.8573858176143158, 0.8570826177290349]\n",
            "Roc AUC score 0.8578157258188164\n",
            "{'boosting_type': 'gbdt', 'class_weight': None, 'colsample_bytree': 1.0, 'importance_type': 'split', 'learning_rate': 0.01464887733280272, 'max_depth': 5, 'min_child_samples': 93, 'min_child_weight': 0.001, 'min_split_gain': 0.0, 'n_estimators': 5712, 'n_jobs': -1, 'num_leaves': 12, 'objective': 'binary', 'random_state': 42, 'reg_alpha': 17, 'reg_lambda': 11, 'silent': True, 'subsample': 0.5634987003811819, 'subsample_for_bin': 200000, 'subsample_freq': 1, 'metric': 'AUC', 'verbosity': 0, 'device': 'gpu', 'feature_fraction': 0.716602848253638}\n"
          ]
        },
        {
          "name": "stderr",
          "output_type": "stream",
          "text": [
            "\u001b[32m[I 2021-10-03 22:31:09,748]\u001b[0m Trial 73 finished with value: 0.8578157258188164 and parameters: {'boosting_type': 'gbdt', 'subsample': 0.5634987003811819, 'eta': 0.01464887733280272, 'n_estimators': 5712, 'reg_alpha': 17, 'reg_lambda': 11, 'max_depth': 5, 'num_leaves': 12, 'feature_fraction': 0.716602848253638, 'min_child_samples': 93}. Best is trial 36 with value: 0.8592082549290472.\u001b[0m\n"
          ]
        },
        {
          "name": "stdout",
          "output_type": "stream",
          "text": [
            "filename ./models/lgbm_73 best_model_name./models/best_lgbm  best_trial_number 36\n",
            "STARTING Params: {'metric': 'AUC', 'verbosity': 0, 'device': 'gpu', 'boosting_type': 'gbdt', 'subsample': 0.5154262587879241, 'learning_rate': 0.012994806366742974, 'n_estimators': 8912, 'subsample_freq': 1, 'reg_alpha': 16, 'reg_lambda': 12, 'max_depth': 6, 'num_leaves': 11, 'feature_fraction': 0.676385210228119, 'min_child_samples': 86, 'objective': 'binary'}\n",
            "Param: {'metric': 'AUC', 'verbosity': 0, 'device': 'gpu', 'boosting_type': 'gbdt', 'subsample': 0.5154262587879241, 'learning_rate': 0.012994806366742974, 'n_estimators': 8912, 'subsample_freq': 1, 'reg_alpha': 16, 'reg_lambda': 12, 'max_depth': 6, 'num_leaves': 11, 'feature_fraction': 0.676385210228119, 'min_child_samples': 86, 'objective': 'binary'}\n"
          ]
        },
        {
          "name": "stderr",
          "output_type": "stream",
          "text": [
            "/usr/local/lib/python3.7/dist-packages/sklearn/preprocessing/_label.py:235: DataConversionWarning:\n",
            "\n",
            "A column-vector y was passed when a 1d array was expected. Please change the shape of y to (n_samples, ), for example using ravel().\n",
            "\n",
            "/usr/local/lib/python3.7/dist-packages/sklearn/preprocessing/_label.py:268: DataConversionWarning:\n",
            "\n",
            "A column-vector y was passed when a 1d array was expected. Please change the shape of y to (n_samples, ), for example using ravel().\n",
            "\n"
          ]
        },
        {
          "name": "stdout",
          "output_type": "stream",
          "text": [
            "[LightGBM] [Warning] feature_fraction is set=0.676385210228119, colsample_bytree=1.0 will be ignored. Current value: feature_fraction=0.676385210228119\n",
            "[LightGBM] [Warning] feature_fraction is set=0.676385210228119, colsample_bytree=1.0 will be ignored. Current value: feature_fraction=0.676385210228119\n",
            "New AUC Score 0.8566340199069493\n"
          ]
        },
        {
          "name": "stderr",
          "output_type": "stream",
          "text": [
            "/usr/local/lib/python3.7/dist-packages/sklearn/preprocessing/_label.py:235: DataConversionWarning:\n",
            "\n",
            "A column-vector y was passed when a 1d array was expected. Please change the shape of y to (n_samples, ), for example using ravel().\n",
            "\n",
            "/usr/local/lib/python3.7/dist-packages/sklearn/preprocessing/_label.py:268: DataConversionWarning:\n",
            "\n",
            "A column-vector y was passed when a 1d array was expected. Please change the shape of y to (n_samples, ), for example using ravel().\n",
            "\n"
          ]
        },
        {
          "name": "stdout",
          "output_type": "stream",
          "text": [
            "[LightGBM] [Warning] feature_fraction is set=0.676385210228119, colsample_bytree=1.0 will be ignored. Current value: feature_fraction=0.676385210228119\n",
            "[LightGBM] [Warning] feature_fraction is set=0.676385210228119, colsample_bytree=1.0 will be ignored. Current value: feature_fraction=0.676385210228119\n",
            "New AUC Score 0.8578937145921961\n"
          ]
        },
        {
          "name": "stderr",
          "output_type": "stream",
          "text": [
            "/usr/local/lib/python3.7/dist-packages/sklearn/preprocessing/_label.py:235: DataConversionWarning:\n",
            "\n",
            "A column-vector y was passed when a 1d array was expected. Please change the shape of y to (n_samples, ), for example using ravel().\n",
            "\n",
            "/usr/local/lib/python3.7/dist-packages/sklearn/preprocessing/_label.py:268: DataConversionWarning:\n",
            "\n",
            "A column-vector y was passed when a 1d array was expected. Please change the shape of y to (n_samples, ), for example using ravel().\n",
            "\n"
          ]
        },
        {
          "name": "stdout",
          "output_type": "stream",
          "text": [
            "[LightGBM] [Warning] feature_fraction is set=0.676385210228119, colsample_bytree=1.0 will be ignored. Current value: feature_fraction=0.676385210228119\n",
            "[LightGBM] [Warning] feature_fraction is set=0.676385210228119, colsample_bytree=1.0 will be ignored. Current value: feature_fraction=0.676385210228119\n",
            "New AUC Score 0.8560605657673863\n"
          ]
        },
        {
          "name": "stderr",
          "output_type": "stream",
          "text": [
            "/usr/local/lib/python3.7/dist-packages/sklearn/preprocessing/_label.py:235: DataConversionWarning:\n",
            "\n",
            "A column-vector y was passed when a 1d array was expected. Please change the shape of y to (n_samples, ), for example using ravel().\n",
            "\n",
            "/usr/local/lib/python3.7/dist-packages/sklearn/preprocessing/_label.py:268: DataConversionWarning:\n",
            "\n",
            "A column-vector y was passed when a 1d array was expected. Please change the shape of y to (n_samples, ), for example using ravel().\n",
            "\n"
          ]
        },
        {
          "name": "stdout",
          "output_type": "stream",
          "text": [
            "[LightGBM] [Warning] feature_fraction is set=0.676385210228119, colsample_bytree=1.0 will be ignored. Current value: feature_fraction=0.676385210228119\n",
            "[LightGBM] [Warning] feature_fraction is set=0.676385210228119, colsample_bytree=1.0 will be ignored. Current value: feature_fraction=0.676385210228119\n",
            "New AUC Score 0.8576017820175167\n"
          ]
        },
        {
          "name": "stderr",
          "output_type": "stream",
          "text": [
            "/usr/local/lib/python3.7/dist-packages/sklearn/preprocessing/_label.py:235: DataConversionWarning:\n",
            "\n",
            "A column-vector y was passed when a 1d array was expected. Please change the shape of y to (n_samples, ), for example using ravel().\n",
            "\n",
            "/usr/local/lib/python3.7/dist-packages/sklearn/preprocessing/_label.py:268: DataConversionWarning:\n",
            "\n",
            "A column-vector y was passed when a 1d array was expected. Please change the shape of y to (n_samples, ), for example using ravel().\n",
            "\n"
          ]
        },
        {
          "name": "stdout",
          "output_type": "stream",
          "text": [
            "[LightGBM] [Warning] feature_fraction is set=0.676385210228119, colsample_bytree=1.0 will be ignored. Current value: feature_fraction=0.676385210228119\n",
            "[LightGBM] [Warning] feature_fraction is set=0.676385210228119, colsample_bytree=1.0 will be ignored. Current value: feature_fraction=0.676385210228119\n",
            "New AUC Score 0.8570312617807142\n",
            "all scores [0.8566340199069493, 0.8578937145921961, 0.8560605657673863, 0.8576017820175167, 0.8570312617807142]\n",
            "Roc AUC score 0.8578937145921961\n",
            "{'boosting_type': 'gbdt', 'class_weight': None, 'colsample_bytree': 1.0, 'importance_type': 'split', 'learning_rate': 0.012994806366742974, 'max_depth': 6, 'min_child_samples': 86, 'min_child_weight': 0.001, 'min_split_gain': 0.0, 'n_estimators': 8912, 'n_jobs': -1, 'num_leaves': 11, 'objective': 'binary', 'random_state': 42, 'reg_alpha': 16, 'reg_lambda': 12, 'silent': True, 'subsample': 0.5154262587879241, 'subsample_for_bin': 200000, 'subsample_freq': 1, 'metric': 'AUC', 'verbosity': 0, 'device': 'gpu', 'feature_fraction': 0.676385210228119}\n"
          ]
        },
        {
          "name": "stderr",
          "output_type": "stream",
          "text": [
            "\u001b[32m[I 2021-10-03 22:47:44,076]\u001b[0m Trial 74 finished with value: 0.8578937145921961 and parameters: {'boosting_type': 'gbdt', 'subsample': 0.5154262587879241, 'eta': 0.012994806366742974, 'n_estimators': 8912, 'reg_alpha': 16, 'reg_lambda': 12, 'max_depth': 6, 'num_leaves': 11, 'feature_fraction': 0.676385210228119, 'min_child_samples': 86}. Best is trial 36 with value: 0.8592082549290472.\u001b[0m\n"
          ]
        },
        {
          "name": "stdout",
          "output_type": "stream",
          "text": [
            "filename ./models/lgbm_74 best_model_name./models/best_lgbm  best_trial_number 36\n",
            "STARTING Params: {'metric': 'AUC', 'verbosity': 0, 'device': 'gpu', 'boosting_type': 'gbdt', 'subsample': 0.5577241629852601, 'learning_rate': 0.014697977246917241, 'n_estimators': 8126, 'subsample_freq': 1, 'reg_alpha': 17, 'reg_lambda': 16, 'max_depth': 6, 'num_leaves': 11, 'feature_fraction': 0.7731920572320682, 'min_child_samples': 44, 'objective': 'binary'}\n",
            "Param: {'metric': 'AUC', 'verbosity': 0, 'device': 'gpu', 'boosting_type': 'gbdt', 'subsample': 0.5577241629852601, 'learning_rate': 0.014697977246917241, 'n_estimators': 8126, 'subsample_freq': 1, 'reg_alpha': 17, 'reg_lambda': 16, 'max_depth': 6, 'num_leaves': 11, 'feature_fraction': 0.7731920572320682, 'min_child_samples': 44, 'objective': 'binary'}\n"
          ]
        },
        {
          "name": "stderr",
          "output_type": "stream",
          "text": [
            "/usr/local/lib/python3.7/dist-packages/sklearn/preprocessing/_label.py:235: DataConversionWarning:\n",
            "\n",
            "A column-vector y was passed when a 1d array was expected. Please change the shape of y to (n_samples, ), for example using ravel().\n",
            "\n",
            "/usr/local/lib/python3.7/dist-packages/sklearn/preprocessing/_label.py:268: DataConversionWarning:\n",
            "\n",
            "A column-vector y was passed when a 1d array was expected. Please change the shape of y to (n_samples, ), for example using ravel().\n",
            "\n"
          ]
        },
        {
          "name": "stdout",
          "output_type": "stream",
          "text": [
            "[LightGBM] [Warning] feature_fraction is set=0.7731920572320682, colsample_bytree=1.0 will be ignored. Current value: feature_fraction=0.7731920572320682\n",
            "[LightGBM] [Warning] feature_fraction is set=0.7731920572320682, colsample_bytree=1.0 will be ignored. Current value: feature_fraction=0.7731920572320682\n",
            "New AUC Score 0.8592430823618162\n"
          ]
        },
        {
          "name": "stderr",
          "output_type": "stream",
          "text": [
            "/usr/local/lib/python3.7/dist-packages/sklearn/preprocessing/_label.py:235: DataConversionWarning:\n",
            "\n",
            "A column-vector y was passed when a 1d array was expected. Please change the shape of y to (n_samples, ), for example using ravel().\n",
            "\n",
            "/usr/local/lib/python3.7/dist-packages/sklearn/preprocessing/_label.py:268: DataConversionWarning:\n",
            "\n",
            "A column-vector y was passed when a 1d array was expected. Please change the shape of y to (n_samples, ), for example using ravel().\n",
            "\n"
          ]
        },
        {
          "name": "stdout",
          "output_type": "stream",
          "text": [
            "[LightGBM] [Warning] feature_fraction is set=0.7731920572320682, colsample_bytree=1.0 will be ignored. Current value: feature_fraction=0.7731920572320682\n",
            "[LightGBM] [Warning] feature_fraction is set=0.7731920572320682, colsample_bytree=1.0 will be ignored. Current value: feature_fraction=0.7731920572320682\n",
            "New AUC Score 0.8556702715001585\n"
          ]
        },
        {
          "name": "stderr",
          "output_type": "stream",
          "text": [
            "/usr/local/lib/python3.7/dist-packages/sklearn/preprocessing/_label.py:235: DataConversionWarning:\n",
            "\n",
            "A column-vector y was passed when a 1d array was expected. Please change the shape of y to (n_samples, ), for example using ravel().\n",
            "\n",
            "/usr/local/lib/python3.7/dist-packages/sklearn/preprocessing/_label.py:268: DataConversionWarning:\n",
            "\n",
            "A column-vector y was passed when a 1d array was expected. Please change the shape of y to (n_samples, ), for example using ravel().\n",
            "\n"
          ]
        },
        {
          "name": "stdout",
          "output_type": "stream",
          "text": [
            "[LightGBM] [Warning] feature_fraction is set=0.7731920572320682, colsample_bytree=1.0 will be ignored. Current value: feature_fraction=0.7731920572320682\n",
            "[LightGBM] [Warning] feature_fraction is set=0.7731920572320682, colsample_bytree=1.0 will be ignored. Current value: feature_fraction=0.7731920572320682\n",
            "New AUC Score 0.85741420984103\n"
          ]
        },
        {
          "name": "stderr",
          "output_type": "stream",
          "text": [
            "/usr/local/lib/python3.7/dist-packages/sklearn/preprocessing/_label.py:235: DataConversionWarning:\n",
            "\n",
            "A column-vector y was passed when a 1d array was expected. Please change the shape of y to (n_samples, ), for example using ravel().\n",
            "\n",
            "/usr/local/lib/python3.7/dist-packages/sklearn/preprocessing/_label.py:268: DataConversionWarning:\n",
            "\n",
            "A column-vector y was passed when a 1d array was expected. Please change the shape of y to (n_samples, ), for example using ravel().\n",
            "\n"
          ]
        },
        {
          "name": "stdout",
          "output_type": "stream",
          "text": [
            "[LightGBM] [Warning] feature_fraction is set=0.7731920572320682, colsample_bytree=1.0 will be ignored. Current value: feature_fraction=0.7731920572320682\n",
            "[LightGBM] [Warning] feature_fraction is set=0.7731920572320682, colsample_bytree=1.0 will be ignored. Current value: feature_fraction=0.7731920572320682\n",
            "New AUC Score 0.8564568226402244\n"
          ]
        },
        {
          "name": "stderr",
          "output_type": "stream",
          "text": [
            "/usr/local/lib/python3.7/dist-packages/sklearn/preprocessing/_label.py:235: DataConversionWarning:\n",
            "\n",
            "A column-vector y was passed when a 1d array was expected. Please change the shape of y to (n_samples, ), for example using ravel().\n",
            "\n",
            "/usr/local/lib/python3.7/dist-packages/sklearn/preprocessing/_label.py:268: DataConversionWarning:\n",
            "\n",
            "A column-vector y was passed when a 1d array was expected. Please change the shape of y to (n_samples, ), for example using ravel().\n",
            "\n"
          ]
        },
        {
          "name": "stdout",
          "output_type": "stream",
          "text": [
            "[LightGBM] [Warning] feature_fraction is set=0.7731920572320682, colsample_bytree=1.0 will be ignored. Current value: feature_fraction=0.7731920572320682\n",
            "[LightGBM] [Warning] feature_fraction is set=0.7731920572320682, colsample_bytree=1.0 will be ignored. Current value: feature_fraction=0.7731920572320682\n",
            "New AUC Score 0.8561597836607405\n",
            "all scores [0.8592430823618162, 0.8556702715001585, 0.85741420984103, 0.8564568226402244, 0.8561597836607405]\n",
            "Roc AUC score 0.8592430823618162\n",
            "{'boosting_type': 'gbdt', 'class_weight': None, 'colsample_bytree': 1.0, 'importance_type': 'split', 'learning_rate': 0.014697977246917241, 'max_depth': 6, 'min_child_samples': 44, 'min_child_weight': 0.001, 'min_split_gain': 0.0, 'n_estimators': 8126, 'n_jobs': -1, 'num_leaves': 11, 'objective': 'binary', 'random_state': 42, 'reg_alpha': 17, 'reg_lambda': 16, 'silent': True, 'subsample': 0.5577241629852601, 'subsample_for_bin': 200000, 'subsample_freq': 1, 'metric': 'AUC', 'verbosity': 0, 'device': 'gpu', 'feature_fraction': 0.7731920572320682}\n"
          ]
        },
        {
          "name": "stderr",
          "output_type": "stream",
          "text": [
            "\u001b[32m[I 2021-10-03 23:01:40,224]\u001b[0m Trial 75 finished with value: 0.8592430823618162 and parameters: {'boosting_type': 'gbdt', 'subsample': 0.5577241629852601, 'eta': 0.014697977246917241, 'n_estimators': 8126, 'reg_alpha': 17, 'reg_lambda': 16, 'max_depth': 6, 'num_leaves': 11, 'feature_fraction': 0.7731920572320682, 'min_child_samples': 44}. Best is trial 75 with value: 0.8592430823618162.\u001b[0m\n"
          ]
        },
        {
          "name": "stdout",
          "output_type": "stream",
          "text": [
            "filename ./models/lgbm_75 best_model_name./models/best_lgbm  best_trial_number 75\n",
            "STARTING Params: {'metric': 'AUC', 'verbosity': 0, 'device': 'gpu', 'boosting_type': 'gbdt', 'subsample': 0.5574763159240445, 'learning_rate': 0.01470492666400901, 'n_estimators': 8041, 'subsample_freq': 1, 'reg_alpha': 17, 'reg_lambda': 16, 'max_depth': 6, 'num_leaves': 11, 'feature_fraction': 0.7108023453236114, 'min_child_samples': 50, 'objective': 'binary'}\n",
            "Param: {'metric': 'AUC', 'verbosity': 0, 'device': 'gpu', 'boosting_type': 'gbdt', 'subsample': 0.5574763159240445, 'learning_rate': 0.01470492666400901, 'n_estimators': 8041, 'subsample_freq': 1, 'reg_alpha': 17, 'reg_lambda': 16, 'max_depth': 6, 'num_leaves': 11, 'feature_fraction': 0.7108023453236114, 'min_child_samples': 50, 'objective': 'binary'}\n"
          ]
        },
        {
          "name": "stderr",
          "output_type": "stream",
          "text": [
            "/usr/local/lib/python3.7/dist-packages/sklearn/preprocessing/_label.py:235: DataConversionWarning:\n",
            "\n",
            "A column-vector y was passed when a 1d array was expected. Please change the shape of y to (n_samples, ), for example using ravel().\n",
            "\n",
            "/usr/local/lib/python3.7/dist-packages/sklearn/preprocessing/_label.py:268: DataConversionWarning:\n",
            "\n",
            "A column-vector y was passed when a 1d array was expected. Please change the shape of y to (n_samples, ), for example using ravel().\n",
            "\n"
          ]
        },
        {
          "name": "stdout",
          "output_type": "stream",
          "text": [
            "[LightGBM] [Warning] feature_fraction is set=0.7108023453236114, colsample_bytree=1.0 will be ignored. Current value: feature_fraction=0.7108023453236114\n",
            "[LightGBM] [Warning] feature_fraction is set=0.7108023453236114, colsample_bytree=1.0 will be ignored. Current value: feature_fraction=0.7108023453236114\n",
            "New AUC Score 0.8566141520882556\n"
          ]
        },
        {
          "name": "stderr",
          "output_type": "stream",
          "text": [
            "/usr/local/lib/python3.7/dist-packages/sklearn/preprocessing/_label.py:235: DataConversionWarning:\n",
            "\n",
            "A column-vector y was passed when a 1d array was expected. Please change the shape of y to (n_samples, ), for example using ravel().\n",
            "\n",
            "/usr/local/lib/python3.7/dist-packages/sklearn/preprocessing/_label.py:268: DataConversionWarning:\n",
            "\n",
            "A column-vector y was passed when a 1d array was expected. Please change the shape of y to (n_samples, ), for example using ravel().\n",
            "\n"
          ]
        },
        {
          "name": "stdout",
          "output_type": "stream",
          "text": [
            "[LightGBM] [Warning] feature_fraction is set=0.7108023453236114, colsample_bytree=1.0 will be ignored. Current value: feature_fraction=0.7108023453236114\n",
            "[LightGBM] [Warning] feature_fraction is set=0.7108023453236114, colsample_bytree=1.0 will be ignored. Current value: feature_fraction=0.7108023453236114\n",
            "New AUC Score 0.8563991003859135\n"
          ]
        },
        {
          "name": "stderr",
          "output_type": "stream",
          "text": [
            "/usr/local/lib/python3.7/dist-packages/sklearn/preprocessing/_label.py:235: DataConversionWarning:\n",
            "\n",
            "A column-vector y was passed when a 1d array was expected. Please change the shape of y to (n_samples, ), for example using ravel().\n",
            "\n",
            "/usr/local/lib/python3.7/dist-packages/sklearn/preprocessing/_label.py:268: DataConversionWarning:\n",
            "\n",
            "A column-vector y was passed when a 1d array was expected. Please change the shape of y to (n_samples, ), for example using ravel().\n",
            "\n"
          ]
        },
        {
          "name": "stdout",
          "output_type": "stream",
          "text": [
            "[LightGBM] [Warning] feature_fraction is set=0.7108023453236114, colsample_bytree=1.0 will be ignored. Current value: feature_fraction=0.7108023453236114\n",
            "[LightGBM] [Warning] feature_fraction is set=0.7108023453236114, colsample_bytree=1.0 will be ignored. Current value: feature_fraction=0.7108023453236114\n",
            "New AUC Score 0.857739050846673\n"
          ]
        },
        {
          "name": "stderr",
          "output_type": "stream",
          "text": [
            "/usr/local/lib/python3.7/dist-packages/sklearn/preprocessing/_label.py:235: DataConversionWarning:\n",
            "\n",
            "A column-vector y was passed when a 1d array was expected. Please change the shape of y to (n_samples, ), for example using ravel().\n",
            "\n",
            "/usr/local/lib/python3.7/dist-packages/sklearn/preprocessing/_label.py:268: DataConversionWarning:\n",
            "\n",
            "A column-vector y was passed when a 1d array was expected. Please change the shape of y to (n_samples, ), for example using ravel().\n",
            "\n"
          ]
        },
        {
          "name": "stdout",
          "output_type": "stream",
          "text": [
            "[LightGBM] [Warning] feature_fraction is set=0.7108023453236114, colsample_bytree=1.0 will be ignored. Current value: feature_fraction=0.7108023453236114\n",
            "[LightGBM] [Warning] feature_fraction is set=0.7108023453236114, colsample_bytree=1.0 will be ignored. Current value: feature_fraction=0.7108023453236114\n",
            "New AUC Score 0.8569209455769178\n"
          ]
        },
        {
          "name": "stderr",
          "output_type": "stream",
          "text": [
            "/usr/local/lib/python3.7/dist-packages/sklearn/preprocessing/_label.py:235: DataConversionWarning:\n",
            "\n",
            "A column-vector y was passed when a 1d array was expected. Please change the shape of y to (n_samples, ), for example using ravel().\n",
            "\n",
            "/usr/local/lib/python3.7/dist-packages/sklearn/preprocessing/_label.py:268: DataConversionWarning:\n",
            "\n",
            "A column-vector y was passed when a 1d array was expected. Please change the shape of y to (n_samples, ), for example using ravel().\n",
            "\n"
          ]
        },
        {
          "name": "stdout",
          "output_type": "stream",
          "text": [
            "[LightGBM] [Warning] feature_fraction is set=0.7108023453236114, colsample_bytree=1.0 will be ignored. Current value: feature_fraction=0.7108023453236114\n",
            "[LightGBM] [Warning] feature_fraction is set=0.7108023453236114, colsample_bytree=1.0 will be ignored. Current value: feature_fraction=0.7108023453236114\n",
            "New AUC Score 0.8572266577645623\n",
            "all scores [0.8566141520882556, 0.8563991003859135, 0.857739050846673, 0.8569209455769178, 0.8572266577645623]\n",
            "Roc AUC score 0.857739050846673\n",
            "{'boosting_type': 'gbdt', 'class_weight': None, 'colsample_bytree': 1.0, 'importance_type': 'split', 'learning_rate': 0.01470492666400901, 'max_depth': 6, 'min_child_samples': 50, 'min_child_weight': 0.001, 'min_split_gain': 0.0, 'n_estimators': 8041, 'n_jobs': -1, 'num_leaves': 11, 'objective': 'binary', 'random_state': 42, 'reg_alpha': 17, 'reg_lambda': 16, 'silent': True, 'subsample': 0.5574763159240445, 'subsample_for_bin': 200000, 'subsample_freq': 1, 'metric': 'AUC', 'verbosity': 0, 'device': 'gpu', 'feature_fraction': 0.7108023453236114}\n"
          ]
        },
        {
          "name": "stderr",
          "output_type": "stream",
          "text": [
            "\u001b[32m[I 2021-10-03 23:16:06,343]\u001b[0m Trial 76 finished with value: 0.857739050846673 and parameters: {'boosting_type': 'gbdt', 'subsample': 0.5574763159240445, 'eta': 0.01470492666400901, 'n_estimators': 8041, 'reg_alpha': 17, 'reg_lambda': 16, 'max_depth': 6, 'num_leaves': 11, 'feature_fraction': 0.7108023453236114, 'min_child_samples': 50}. Best is trial 75 with value: 0.8592430823618162.\u001b[0m\n"
          ]
        },
        {
          "name": "stdout",
          "output_type": "stream",
          "text": [
            "filename ./models/lgbm_76 best_model_name./models/best_lgbm  best_trial_number 75\n",
            "STARTING Params: {'metric': 'AUC', 'verbosity': 0, 'device': 'gpu', 'boosting_type': 'gbdt', 'subsample': 0.5609576654496125, 'learning_rate': 0.014970394648959854, 'n_estimators': 7138, 'subsample_freq': 1, 'reg_alpha': 15, 'reg_lambda': 11, 'max_depth': 5, 'num_leaves': 11, 'feature_fraction': 0.7473098100389317, 'min_child_samples': 42, 'objective': 'binary'}\n",
            "Param: {'metric': 'AUC', 'verbosity': 0, 'device': 'gpu', 'boosting_type': 'gbdt', 'subsample': 0.5609576654496125, 'learning_rate': 0.014970394648959854, 'n_estimators': 7138, 'subsample_freq': 1, 'reg_alpha': 15, 'reg_lambda': 11, 'max_depth': 5, 'num_leaves': 11, 'feature_fraction': 0.7473098100389317, 'min_child_samples': 42, 'objective': 'binary'}\n"
          ]
        },
        {
          "name": "stderr",
          "output_type": "stream",
          "text": [
            "/usr/local/lib/python3.7/dist-packages/sklearn/preprocessing/_label.py:235: DataConversionWarning:\n",
            "\n",
            "A column-vector y was passed when a 1d array was expected. Please change the shape of y to (n_samples, ), for example using ravel().\n",
            "\n",
            "/usr/local/lib/python3.7/dist-packages/sklearn/preprocessing/_label.py:268: DataConversionWarning:\n",
            "\n",
            "A column-vector y was passed when a 1d array was expected. Please change the shape of y to (n_samples, ), for example using ravel().\n",
            "\n"
          ]
        },
        {
          "name": "stdout",
          "output_type": "stream",
          "text": [
            "[LightGBM] [Warning] feature_fraction is set=0.7473098100389317, colsample_bytree=1.0 will be ignored. Current value: feature_fraction=0.7473098100389317\n",
            "[LightGBM] [Warning] feature_fraction is set=0.7473098100389317, colsample_bytree=1.0 will be ignored. Current value: feature_fraction=0.7473098100389317\n",
            "New AUC Score 0.8561580245590853\n"
          ]
        },
        {
          "name": "stderr",
          "output_type": "stream",
          "text": [
            "/usr/local/lib/python3.7/dist-packages/sklearn/preprocessing/_label.py:235: DataConversionWarning:\n",
            "\n",
            "A column-vector y was passed when a 1d array was expected. Please change the shape of y to (n_samples, ), for example using ravel().\n",
            "\n",
            "/usr/local/lib/python3.7/dist-packages/sklearn/preprocessing/_label.py:268: DataConversionWarning:\n",
            "\n",
            "A column-vector y was passed when a 1d array was expected. Please change the shape of y to (n_samples, ), for example using ravel().\n",
            "\n"
          ]
        },
        {
          "name": "stdout",
          "output_type": "stream",
          "text": [
            "[LightGBM] [Warning] feature_fraction is set=0.7473098100389317, colsample_bytree=1.0 will be ignored. Current value: feature_fraction=0.7473098100389317\n",
            "[LightGBM] [Warning] feature_fraction is set=0.7473098100389317, colsample_bytree=1.0 will be ignored. Current value: feature_fraction=0.7473098100389317\n",
            "New AUC Score 0.8579416362372856\n"
          ]
        },
        {
          "name": "stderr",
          "output_type": "stream",
          "text": [
            "/usr/local/lib/python3.7/dist-packages/sklearn/preprocessing/_label.py:235: DataConversionWarning:\n",
            "\n",
            "A column-vector y was passed when a 1d array was expected. Please change the shape of y to (n_samples, ), for example using ravel().\n",
            "\n",
            "/usr/local/lib/python3.7/dist-packages/sklearn/preprocessing/_label.py:268: DataConversionWarning:\n",
            "\n",
            "A column-vector y was passed when a 1d array was expected. Please change the shape of y to (n_samples, ), for example using ravel().\n",
            "\n"
          ]
        },
        {
          "name": "stdout",
          "output_type": "stream",
          "text": [
            "[LightGBM] [Warning] feature_fraction is set=0.7473098100389317, colsample_bytree=1.0 will be ignored. Current value: feature_fraction=0.7473098100389317\n",
            "[LightGBM] [Warning] feature_fraction is set=0.7473098100389317, colsample_bytree=1.0 will be ignored. Current value: feature_fraction=0.7473098100389317\n",
            "New AUC Score 0.8567444231108277\n"
          ]
        },
        {
          "name": "stderr",
          "output_type": "stream",
          "text": [
            "/usr/local/lib/python3.7/dist-packages/sklearn/preprocessing/_label.py:235: DataConversionWarning:\n",
            "\n",
            "A column-vector y was passed when a 1d array was expected. Please change the shape of y to (n_samples, ), for example using ravel().\n",
            "\n",
            "/usr/local/lib/python3.7/dist-packages/sklearn/preprocessing/_label.py:268: DataConversionWarning:\n",
            "\n",
            "A column-vector y was passed when a 1d array was expected. Please change the shape of y to (n_samples, ), for example using ravel().\n",
            "\n"
          ]
        },
        {
          "name": "stdout",
          "output_type": "stream",
          "text": [
            "[LightGBM] [Warning] feature_fraction is set=0.7473098100389317, colsample_bytree=1.0 will be ignored. Current value: feature_fraction=0.7473098100389317\n",
            "[LightGBM] [Warning] feature_fraction is set=0.7473098100389317, colsample_bytree=1.0 will be ignored. Current value: feature_fraction=0.7473098100389317\n",
            "New AUC Score 0.8563543574438148\n"
          ]
        },
        {
          "name": "stderr",
          "output_type": "stream",
          "text": [
            "/usr/local/lib/python3.7/dist-packages/sklearn/preprocessing/_label.py:235: DataConversionWarning:\n",
            "\n",
            "A column-vector y was passed when a 1d array was expected. Please change the shape of y to (n_samples, ), for example using ravel().\n",
            "\n",
            "/usr/local/lib/python3.7/dist-packages/sklearn/preprocessing/_label.py:268: DataConversionWarning:\n",
            "\n",
            "A column-vector y was passed when a 1d array was expected. Please change the shape of y to (n_samples, ), for example using ravel().\n",
            "\n"
          ]
        },
        {
          "name": "stdout",
          "output_type": "stream",
          "text": [
            "[LightGBM] [Warning] feature_fraction is set=0.7473098100389317, colsample_bytree=1.0 will be ignored. Current value: feature_fraction=0.7473098100389317\n",
            "[LightGBM] [Warning] feature_fraction is set=0.7473098100389317, colsample_bytree=1.0 will be ignored. Current value: feature_fraction=0.7473098100389317\n",
            "New AUC Score 0.8580973338837814\n",
            "all scores [0.8561580245590853, 0.8579416362372856, 0.8567444231108277, 0.8563543574438148, 0.8580973338837814]\n",
            "Roc AUC score 0.8580973338837814\n",
            "{'boosting_type': 'gbdt', 'class_weight': None, 'colsample_bytree': 1.0, 'importance_type': 'split', 'learning_rate': 0.014970394648959854, 'max_depth': 5, 'min_child_samples': 42, 'min_child_weight': 0.001, 'min_split_gain': 0.0, 'n_estimators': 7138, 'n_jobs': -1, 'num_leaves': 11, 'objective': 'binary', 'random_state': 42, 'reg_alpha': 15, 'reg_lambda': 11, 'silent': True, 'subsample': 0.5609576654496125, 'subsample_for_bin': 200000, 'subsample_freq': 1, 'metric': 'AUC', 'verbosity': 0, 'device': 'gpu', 'feature_fraction': 0.7473098100389317}\n"
          ]
        },
        {
          "name": "stderr",
          "output_type": "stream",
          "text": [
            "\u001b[32m[I 2021-10-03 23:28:23,526]\u001b[0m Trial 77 finished with value: 0.8580973338837814 and parameters: {'boosting_type': 'gbdt', 'subsample': 0.5609576654496125, 'eta': 0.014970394648959854, 'n_estimators': 7138, 'reg_alpha': 15, 'reg_lambda': 11, 'max_depth': 5, 'num_leaves': 11, 'feature_fraction': 0.7473098100389317, 'min_child_samples': 42}. Best is trial 75 with value: 0.8592430823618162.\u001b[0m\n"
          ]
        },
        {
          "name": "stdout",
          "output_type": "stream",
          "text": [
            "filename ./models/lgbm_77 best_model_name./models/best_lgbm  best_trial_number 75\n",
            "STARTING Params: {'metric': 'AUC', 'verbosity': 0, 'device': 'gpu', 'boosting_type': 'gbdt', 'subsample': 0.561414520654675, 'learning_rate': 0.014995531450483608, 'n_estimators': 7107, 'subsample_freq': 1, 'reg_alpha': 15, 'reg_lambda': 11, 'max_depth': 5, 'num_leaves': 11, 'feature_fraction': 0.7508176986077512, 'min_child_samples': 44, 'objective': 'binary'}\n",
            "Param: {'metric': 'AUC', 'verbosity': 0, 'device': 'gpu', 'boosting_type': 'gbdt', 'subsample': 0.561414520654675, 'learning_rate': 0.014995531450483608, 'n_estimators': 7107, 'subsample_freq': 1, 'reg_alpha': 15, 'reg_lambda': 11, 'max_depth': 5, 'num_leaves': 11, 'feature_fraction': 0.7508176986077512, 'min_child_samples': 44, 'objective': 'binary'}\n"
          ]
        },
        {
          "name": "stderr",
          "output_type": "stream",
          "text": [
            "/usr/local/lib/python3.7/dist-packages/sklearn/preprocessing/_label.py:235: DataConversionWarning:\n",
            "\n",
            "A column-vector y was passed when a 1d array was expected. Please change the shape of y to (n_samples, ), for example using ravel().\n",
            "\n",
            "/usr/local/lib/python3.7/dist-packages/sklearn/preprocessing/_label.py:268: DataConversionWarning:\n",
            "\n",
            "A column-vector y was passed when a 1d array was expected. Please change the shape of y to (n_samples, ), for example using ravel().\n",
            "\n"
          ]
        },
        {
          "name": "stdout",
          "output_type": "stream",
          "text": [
            "[LightGBM] [Warning] feature_fraction is set=0.7508176986077512, colsample_bytree=1.0 will be ignored. Current value: feature_fraction=0.7508176986077512\n",
            "[LightGBM] [Warning] feature_fraction is set=0.7508176986077512, colsample_bytree=1.0 will be ignored. Current value: feature_fraction=0.7508176986077512\n",
            "New AUC Score 0.8573380215693445\n"
          ]
        },
        {
          "name": "stderr",
          "output_type": "stream",
          "text": [
            "/usr/local/lib/python3.7/dist-packages/sklearn/preprocessing/_label.py:235: DataConversionWarning:\n",
            "\n",
            "A column-vector y was passed when a 1d array was expected. Please change the shape of y to (n_samples, ), for example using ravel().\n",
            "\n",
            "/usr/local/lib/python3.7/dist-packages/sklearn/preprocessing/_label.py:268: DataConversionWarning:\n",
            "\n",
            "A column-vector y was passed when a 1d array was expected. Please change the shape of y to (n_samples, ), for example using ravel().\n",
            "\n"
          ]
        },
        {
          "name": "stdout",
          "output_type": "stream",
          "text": [
            "[LightGBM] [Warning] feature_fraction is set=0.7508176986077512, colsample_bytree=1.0 will be ignored. Current value: feature_fraction=0.7508176986077512\n",
            "[LightGBM] [Warning] feature_fraction is set=0.7508176986077512, colsample_bytree=1.0 will be ignored. Current value: feature_fraction=0.7508176986077512\n",
            "New AUC Score 0.8560551179622604\n"
          ]
        },
        {
          "name": "stderr",
          "output_type": "stream",
          "text": [
            "/usr/local/lib/python3.7/dist-packages/sklearn/preprocessing/_label.py:235: DataConversionWarning:\n",
            "\n",
            "A column-vector y was passed when a 1d array was expected. Please change the shape of y to (n_samples, ), for example using ravel().\n",
            "\n",
            "/usr/local/lib/python3.7/dist-packages/sklearn/preprocessing/_label.py:268: DataConversionWarning:\n",
            "\n",
            "A column-vector y was passed when a 1d array was expected. Please change the shape of y to (n_samples, ), for example using ravel().\n",
            "\n"
          ]
        },
        {
          "name": "stdout",
          "output_type": "stream",
          "text": [
            "[LightGBM] [Warning] feature_fraction is set=0.7508176986077512, colsample_bytree=1.0 will be ignored. Current value: feature_fraction=0.7508176986077512\n",
            "[LightGBM] [Warning] feature_fraction is set=0.7508176986077512, colsample_bytree=1.0 will be ignored. Current value: feature_fraction=0.7508176986077512\n",
            "New AUC Score 0.856222873820102\n"
          ]
        },
        {
          "name": "stderr",
          "output_type": "stream",
          "text": [
            "/usr/local/lib/python3.7/dist-packages/sklearn/preprocessing/_label.py:235: DataConversionWarning:\n",
            "\n",
            "A column-vector y was passed when a 1d array was expected. Please change the shape of y to (n_samples, ), for example using ravel().\n",
            "\n",
            "/usr/local/lib/python3.7/dist-packages/sklearn/preprocessing/_label.py:268: DataConversionWarning:\n",
            "\n",
            "A column-vector y was passed when a 1d array was expected. Please change the shape of y to (n_samples, ), for example using ravel().\n",
            "\n"
          ]
        },
        {
          "name": "stdout",
          "output_type": "stream",
          "text": [
            "[LightGBM] [Warning] feature_fraction is set=0.7508176986077512, colsample_bytree=1.0 will be ignored. Current value: feature_fraction=0.7508176986077512\n",
            "[LightGBM] [Warning] feature_fraction is set=0.7508176986077512, colsample_bytree=1.0 will be ignored. Current value: feature_fraction=0.7508176986077512\n",
            "New AUC Score 0.8579784636719365\n"
          ]
        },
        {
          "name": "stderr",
          "output_type": "stream",
          "text": [
            "/usr/local/lib/python3.7/dist-packages/sklearn/preprocessing/_label.py:235: DataConversionWarning:\n",
            "\n",
            "A column-vector y was passed when a 1d array was expected. Please change the shape of y to (n_samples, ), for example using ravel().\n",
            "\n",
            "/usr/local/lib/python3.7/dist-packages/sklearn/preprocessing/_label.py:268: DataConversionWarning:\n",
            "\n",
            "A column-vector y was passed when a 1d array was expected. Please change the shape of y to (n_samples, ), for example using ravel().\n",
            "\n"
          ]
        },
        {
          "name": "stdout",
          "output_type": "stream",
          "text": [
            "[LightGBM] [Warning] feature_fraction is set=0.7508176986077512, colsample_bytree=1.0 will be ignored. Current value: feature_fraction=0.7508176986077512\n",
            "[LightGBM] [Warning] feature_fraction is set=0.7508176986077512, colsample_bytree=1.0 will be ignored. Current value: feature_fraction=0.7508176986077512\n",
            "New AUC Score 0.8574224378487718\n",
            "all scores [0.8573380215693445, 0.8560551179622604, 0.856222873820102, 0.8579784636719365, 0.8574224378487718]\n",
            "Roc AUC score 0.8579784636719365\n",
            "{'boosting_type': 'gbdt', 'class_weight': None, 'colsample_bytree': 1.0, 'importance_type': 'split', 'learning_rate': 0.014995531450483608, 'max_depth': 5, 'min_child_samples': 44, 'min_child_weight': 0.001, 'min_split_gain': 0.0, 'n_estimators': 7107, 'n_jobs': -1, 'num_leaves': 11, 'objective': 'binary', 'random_state': 42, 'reg_alpha': 15, 'reg_lambda': 11, 'silent': True, 'subsample': 0.561414520654675, 'subsample_for_bin': 200000, 'subsample_freq': 1, 'metric': 'AUC', 'verbosity': 0, 'device': 'gpu', 'feature_fraction': 0.7508176986077512}\n"
          ]
        },
        {
          "name": "stderr",
          "output_type": "stream",
          "text": [
            "\u001b[32m[I 2021-10-03 23:40:35,825]\u001b[0m Trial 78 finished with value: 0.8579784636719365 and parameters: {'boosting_type': 'gbdt', 'subsample': 0.561414520654675, 'eta': 0.014995531450483608, 'n_estimators': 7107, 'reg_alpha': 15, 'reg_lambda': 11, 'max_depth': 5, 'num_leaves': 11, 'feature_fraction': 0.7508176986077512, 'min_child_samples': 44}. Best is trial 75 with value: 0.8592430823618162.\u001b[0m\n"
          ]
        },
        {
          "name": "stdout",
          "output_type": "stream",
          "text": [
            "filename ./models/lgbm_78 best_model_name./models/best_lgbm  best_trial_number 75\n",
            "STARTING Params: {'metric': 'AUC', 'verbosity': 0, 'device': 'gpu', 'boosting_type': 'gbdt', 'subsample': 0.5647955166524458, 'learning_rate': 0.014052037141758494, 'n_estimators': 7540, 'subsample_freq': 1, 'reg_alpha': 14, 'reg_lambda': 11, 'max_depth': 5, 'num_leaves': 11, 'feature_fraction': 0.7665173168238829, 'min_child_samples': 38, 'objective': 'binary'}\n",
            "Param: {'metric': 'AUC', 'verbosity': 0, 'device': 'gpu', 'boosting_type': 'gbdt', 'subsample': 0.5647955166524458, 'learning_rate': 0.014052037141758494, 'n_estimators': 7540, 'subsample_freq': 1, 'reg_alpha': 14, 'reg_lambda': 11, 'max_depth': 5, 'num_leaves': 11, 'feature_fraction': 0.7665173168238829, 'min_child_samples': 38, 'objective': 'binary'}\n"
          ]
        },
        {
          "name": "stderr",
          "output_type": "stream",
          "text": [
            "/usr/local/lib/python3.7/dist-packages/sklearn/preprocessing/_label.py:235: DataConversionWarning:\n",
            "\n",
            "A column-vector y was passed when a 1d array was expected. Please change the shape of y to (n_samples, ), for example using ravel().\n",
            "\n",
            "/usr/local/lib/python3.7/dist-packages/sklearn/preprocessing/_label.py:268: DataConversionWarning:\n",
            "\n",
            "A column-vector y was passed when a 1d array was expected. Please change the shape of y to (n_samples, ), for example using ravel().\n",
            "\n"
          ]
        },
        {
          "name": "stdout",
          "output_type": "stream",
          "text": [
            "[LightGBM] [Warning] feature_fraction is set=0.7665173168238829, colsample_bytree=1.0 will be ignored. Current value: feature_fraction=0.7665173168238829\n",
            "[LightGBM] [Warning] feature_fraction is set=0.7665173168238829, colsample_bytree=1.0 will be ignored. Current value: feature_fraction=0.7665173168238829\n",
            "New AUC Score 0.8564922410735496\n"
          ]
        },
        {
          "name": "stderr",
          "output_type": "stream",
          "text": [
            "/usr/local/lib/python3.7/dist-packages/sklearn/preprocessing/_label.py:235: DataConversionWarning:\n",
            "\n",
            "A column-vector y was passed when a 1d array was expected. Please change the shape of y to (n_samples, ), for example using ravel().\n",
            "\n",
            "/usr/local/lib/python3.7/dist-packages/sklearn/preprocessing/_label.py:268: DataConversionWarning:\n",
            "\n",
            "A column-vector y was passed when a 1d array was expected. Please change the shape of y to (n_samples, ), for example using ravel().\n",
            "\n"
          ]
        },
        {
          "name": "stdout",
          "output_type": "stream",
          "text": [
            "[LightGBM] [Warning] feature_fraction is set=0.7665173168238829, colsample_bytree=1.0 will be ignored. Current value: feature_fraction=0.7665173168238829\n",
            "[LightGBM] [Warning] feature_fraction is set=0.7665173168238829, colsample_bytree=1.0 will be ignored. Current value: feature_fraction=0.7665173168238829\n",
            "New AUC Score 0.8574333581590466\n"
          ]
        },
        {
          "name": "stderr",
          "output_type": "stream",
          "text": [
            "/usr/local/lib/python3.7/dist-packages/sklearn/preprocessing/_label.py:235: DataConversionWarning:\n",
            "\n",
            "A column-vector y was passed when a 1d array was expected. Please change the shape of y to (n_samples, ), for example using ravel().\n",
            "\n",
            "/usr/local/lib/python3.7/dist-packages/sklearn/preprocessing/_label.py:268: DataConversionWarning:\n",
            "\n",
            "A column-vector y was passed when a 1d array was expected. Please change the shape of y to (n_samples, ), for example using ravel().\n",
            "\n"
          ]
        },
        {
          "name": "stdout",
          "output_type": "stream",
          "text": [
            "[LightGBM] [Warning] feature_fraction is set=0.7665173168238829, colsample_bytree=1.0 will be ignored. Current value: feature_fraction=0.7665173168238829\n",
            "[LightGBM] [Warning] feature_fraction is set=0.7665173168238829, colsample_bytree=1.0 will be ignored. Current value: feature_fraction=0.7665173168238829\n",
            "New AUC Score 0.857925366221977\n"
          ]
        },
        {
          "name": "stderr",
          "output_type": "stream",
          "text": [
            "/usr/local/lib/python3.7/dist-packages/sklearn/preprocessing/_label.py:235: DataConversionWarning:\n",
            "\n",
            "A column-vector y was passed when a 1d array was expected. Please change the shape of y to (n_samples, ), for example using ravel().\n",
            "\n",
            "/usr/local/lib/python3.7/dist-packages/sklearn/preprocessing/_label.py:268: DataConversionWarning:\n",
            "\n",
            "A column-vector y was passed when a 1d array was expected. Please change the shape of y to (n_samples, ), for example using ravel().\n",
            "\n"
          ]
        },
        {
          "name": "stdout",
          "output_type": "stream",
          "text": [
            "[LightGBM] [Warning] feature_fraction is set=0.7665173168238829, colsample_bytree=1.0 will be ignored. Current value: feature_fraction=0.7665173168238829\n",
            "[LightGBM] [Warning] feature_fraction is set=0.7665173168238829, colsample_bytree=1.0 will be ignored. Current value: feature_fraction=0.7665173168238829\n",
            "New AUC Score 0.8563990679858831\n"
          ]
        },
        {
          "name": "stderr",
          "output_type": "stream",
          "text": [
            "/usr/local/lib/python3.7/dist-packages/sklearn/preprocessing/_label.py:235: DataConversionWarning:\n",
            "\n",
            "A column-vector y was passed when a 1d array was expected. Please change the shape of y to (n_samples, ), for example using ravel().\n",
            "\n",
            "/usr/local/lib/python3.7/dist-packages/sklearn/preprocessing/_label.py:268: DataConversionWarning:\n",
            "\n",
            "A column-vector y was passed when a 1d array was expected. Please change the shape of y to (n_samples, ), for example using ravel().\n",
            "\n"
          ]
        },
        {
          "name": "stdout",
          "output_type": "stream",
          "text": [
            "[LightGBM] [Warning] feature_fraction is set=0.7665173168238829, colsample_bytree=1.0 will be ignored. Current value: feature_fraction=0.7665173168238829\n",
            "[LightGBM] [Warning] feature_fraction is set=0.7665173168238829, colsample_bytree=1.0 will be ignored. Current value: feature_fraction=0.7665173168238829\n",
            "New AUC Score 0.8568018778648869\n",
            "all scores [0.8564922410735496, 0.8574333581590466, 0.857925366221977, 0.8563990679858831, 0.8568018778648869]\n",
            "Roc AUC score 0.857925366221977\n",
            "{'boosting_type': 'gbdt', 'class_weight': None, 'colsample_bytree': 1.0, 'importance_type': 'split', 'learning_rate': 0.014052037141758494, 'max_depth': 5, 'min_child_samples': 38, 'min_child_weight': 0.001, 'min_split_gain': 0.0, 'n_estimators': 7540, 'n_jobs': -1, 'num_leaves': 11, 'objective': 'binary', 'random_state': 42, 'reg_alpha': 14, 'reg_lambda': 11, 'silent': True, 'subsample': 0.5647955166524458, 'subsample_for_bin': 200000, 'subsample_freq': 1, 'metric': 'AUC', 'verbosity': 0, 'device': 'gpu', 'feature_fraction': 0.7665173168238829}\n"
          ]
        },
        {
          "name": "stderr",
          "output_type": "stream",
          "text": [
            "\u001b[32m[I 2021-10-03 23:53:27,007]\u001b[0m Trial 79 finished with value: 0.857925366221977 and parameters: {'boosting_type': 'gbdt', 'subsample': 0.5647955166524458, 'eta': 0.014052037141758494, 'n_estimators': 7540, 'reg_alpha': 14, 'reg_lambda': 11, 'max_depth': 5, 'num_leaves': 11, 'feature_fraction': 0.7665173168238829, 'min_child_samples': 38}. Best is trial 75 with value: 0.8592430823618162.\u001b[0m\n"
          ]
        },
        {
          "name": "stdout",
          "output_type": "stream",
          "text": [
            "filename ./models/lgbm_79 best_model_name./models/best_lgbm  best_trial_number 75\n",
            "STARTING Params: {'metric': 'AUC', 'verbosity': 0, 'device': 'gpu', 'boosting_type': 'gbdt', 'subsample': 0.5705246964018381, 'learning_rate': 0.014498993114573321, 'n_estimators': 7813, 'subsample_freq': 1, 'reg_alpha': 15, 'reg_lambda': 12, 'max_depth': 6, 'num_leaves': 12, 'feature_fraction': 0.7324774970115275, 'min_child_samples': 30, 'objective': 'binary'}\n",
            "Param: {'metric': 'AUC', 'verbosity': 0, 'device': 'gpu', 'boosting_type': 'gbdt', 'subsample': 0.5705246964018381, 'learning_rate': 0.014498993114573321, 'n_estimators': 7813, 'subsample_freq': 1, 'reg_alpha': 15, 'reg_lambda': 12, 'max_depth': 6, 'num_leaves': 12, 'feature_fraction': 0.7324774970115275, 'min_child_samples': 30, 'objective': 'binary'}\n"
          ]
        },
        {
          "name": "stderr",
          "output_type": "stream",
          "text": [
            "/usr/local/lib/python3.7/dist-packages/sklearn/preprocessing/_label.py:235: DataConversionWarning:\n",
            "\n",
            "A column-vector y was passed when a 1d array was expected. Please change the shape of y to (n_samples, ), for example using ravel().\n",
            "\n",
            "/usr/local/lib/python3.7/dist-packages/sklearn/preprocessing/_label.py:268: DataConversionWarning:\n",
            "\n",
            "A column-vector y was passed when a 1d array was expected. Please change the shape of y to (n_samples, ), for example using ravel().\n",
            "\n"
          ]
        },
        {
          "name": "stdout",
          "output_type": "stream",
          "text": [
            "[LightGBM] [Warning] feature_fraction is set=0.7324774970115275, colsample_bytree=1.0 will be ignored. Current value: feature_fraction=0.7324774970115275\n",
            "[LightGBM] [Warning] feature_fraction is set=0.7324774970115275, colsample_bytree=1.0 will be ignored. Current value: feature_fraction=0.7324774970115275\n",
            "New AUC Score 0.8573954505233794\n"
          ]
        },
        {
          "name": "stderr",
          "output_type": "stream",
          "text": [
            "/usr/local/lib/python3.7/dist-packages/sklearn/preprocessing/_label.py:235: DataConversionWarning:\n",
            "\n",
            "A column-vector y was passed when a 1d array was expected. Please change the shape of y to (n_samples, ), for example using ravel().\n",
            "\n",
            "/usr/local/lib/python3.7/dist-packages/sklearn/preprocessing/_label.py:268: DataConversionWarning:\n",
            "\n",
            "A column-vector y was passed when a 1d array was expected. Please change the shape of y to (n_samples, ), for example using ravel().\n",
            "\n"
          ]
        },
        {
          "name": "stdout",
          "output_type": "stream",
          "text": [
            "[LightGBM] [Warning] feature_fraction is set=0.7324774970115275, colsample_bytree=1.0 will be ignored. Current value: feature_fraction=0.7324774970115275\n",
            "[LightGBM] [Warning] feature_fraction is set=0.7324774970115275, colsample_bytree=1.0 will be ignored. Current value: feature_fraction=0.7324774970115275\n",
            "New AUC Score 0.8563304923213602\n"
          ]
        },
        {
          "name": "stderr",
          "output_type": "stream",
          "text": [
            "/usr/local/lib/python3.7/dist-packages/sklearn/preprocessing/_label.py:235: DataConversionWarning:\n",
            "\n",
            "A column-vector y was passed when a 1d array was expected. Please change the shape of y to (n_samples, ), for example using ravel().\n",
            "\n",
            "/usr/local/lib/python3.7/dist-packages/sklearn/preprocessing/_label.py:268: DataConversionWarning:\n",
            "\n",
            "A column-vector y was passed when a 1d array was expected. Please change the shape of y to (n_samples, ), for example using ravel().\n",
            "\n"
          ]
        },
        {
          "name": "stdout",
          "output_type": "stream",
          "text": [
            "[LightGBM] [Warning] feature_fraction is set=0.7324774970115275, colsample_bytree=1.0 will be ignored. Current value: feature_fraction=0.7324774970115275\n",
            "[LightGBM] [Warning] feature_fraction is set=0.7324774970115275, colsample_bytree=1.0 will be ignored. Current value: feature_fraction=0.7324774970115275\n",
            "New AUC Score 0.8566475159196477\n"
          ]
        },
        {
          "name": "stderr",
          "output_type": "stream",
          "text": [
            "/usr/local/lib/python3.7/dist-packages/sklearn/preprocessing/_label.py:235: DataConversionWarning:\n",
            "\n",
            "A column-vector y was passed when a 1d array was expected. Please change the shape of y to (n_samples, ), for example using ravel().\n",
            "\n",
            "/usr/local/lib/python3.7/dist-packages/sklearn/preprocessing/_label.py:268: DataConversionWarning:\n",
            "\n",
            "A column-vector y was passed when a 1d array was expected. Please change the shape of y to (n_samples, ), for example using ravel().\n",
            "\n"
          ]
        },
        {
          "name": "stdout",
          "output_type": "stream",
          "text": [
            "[LightGBM] [Warning] feature_fraction is set=0.7324774970115275, colsample_bytree=1.0 will be ignored. Current value: feature_fraction=0.7324774970115275\n",
            "[LightGBM] [Warning] feature_fraction is set=0.7324774970115275, colsample_bytree=1.0 will be ignored. Current value: feature_fraction=0.7324774970115275\n",
            "New AUC Score 0.8575911585075211\n"
          ]
        },
        {
          "name": "stderr",
          "output_type": "stream",
          "text": [
            "/usr/local/lib/python3.7/dist-packages/sklearn/preprocessing/_label.py:235: DataConversionWarning:\n",
            "\n",
            "A column-vector y was passed when a 1d array was expected. Please change the shape of y to (n_samples, ), for example using ravel().\n",
            "\n",
            "/usr/local/lib/python3.7/dist-packages/sklearn/preprocessing/_label.py:268: DataConversionWarning:\n",
            "\n",
            "A column-vector y was passed when a 1d array was expected. Please change the shape of y to (n_samples, ), for example using ravel().\n",
            "\n"
          ]
        },
        {
          "name": "stdout",
          "output_type": "stream",
          "text": [
            "[LightGBM] [Warning] feature_fraction is set=0.7324774970115275, colsample_bytree=1.0 will be ignored. Current value: feature_fraction=0.7324774970115275\n",
            "[LightGBM] [Warning] feature_fraction is set=0.7324774970115275, colsample_bytree=1.0 will be ignored. Current value: feature_fraction=0.7324774970115275\n",
            "New AUC Score 0.8570007334519901\n",
            "all scores [0.8573954505233794, 0.8563304923213602, 0.8566475159196477, 0.8575911585075211, 0.8570007334519901]\n",
            "Roc AUC score 0.8575911585075211\n",
            "{'boosting_type': 'gbdt', 'class_weight': None, 'colsample_bytree': 1.0, 'importance_type': 'split', 'learning_rate': 0.014498993114573321, 'max_depth': 6, 'min_child_samples': 30, 'min_child_weight': 0.001, 'min_split_gain': 0.0, 'n_estimators': 7813, 'n_jobs': -1, 'num_leaves': 12, 'objective': 'binary', 'random_state': 42, 'reg_alpha': 15, 'reg_lambda': 12, 'silent': True, 'subsample': 0.5705246964018381, 'subsample_for_bin': 200000, 'subsample_freq': 1, 'metric': 'AUC', 'verbosity': 0, 'device': 'gpu', 'feature_fraction': 0.7324774970115275}\n"
          ]
        },
        {
          "name": "stderr",
          "output_type": "stream",
          "text": [
            "\u001b[32m[I 2021-10-04 00:07:30,977]\u001b[0m Trial 80 finished with value: 0.8575911585075211 and parameters: {'boosting_type': 'gbdt', 'subsample': 0.5705246964018381, 'eta': 0.014498993114573321, 'n_estimators': 7813, 'reg_alpha': 15, 'reg_lambda': 12, 'max_depth': 6, 'num_leaves': 12, 'feature_fraction': 0.7324774970115275, 'min_child_samples': 30}. Best is trial 75 with value: 0.8592430823618162.\u001b[0m\n"
          ]
        },
        {
          "name": "stdout",
          "output_type": "stream",
          "text": [
            "filename ./models/lgbm_80 best_model_name./models/best_lgbm  best_trial_number 75\n",
            "STARTING Params: {'metric': 'AUC', 'verbosity': 0, 'device': 'gpu', 'boosting_type': 'gbdt', 'subsample': 0.5541567944600663, 'learning_rate': 0.014312777963866386, 'n_estimators': 7380, 'subsample_freq': 1, 'reg_alpha': 17, 'reg_lambda': 16, 'max_depth': 5, 'num_leaves': 12, 'feature_fraction': 0.7820117924163674, 'min_child_samples': 46, 'objective': 'binary'}\n",
            "Param: {'metric': 'AUC', 'verbosity': 0, 'device': 'gpu', 'boosting_type': 'gbdt', 'subsample': 0.5541567944600663, 'learning_rate': 0.014312777963866386, 'n_estimators': 7380, 'subsample_freq': 1, 'reg_alpha': 17, 'reg_lambda': 16, 'max_depth': 5, 'num_leaves': 12, 'feature_fraction': 0.7820117924163674, 'min_child_samples': 46, 'objective': 'binary'}\n"
          ]
        },
        {
          "name": "stderr",
          "output_type": "stream",
          "text": [
            "/usr/local/lib/python3.7/dist-packages/sklearn/preprocessing/_label.py:235: DataConversionWarning:\n",
            "\n",
            "A column-vector y was passed when a 1d array was expected. Please change the shape of y to (n_samples, ), for example using ravel().\n",
            "\n",
            "/usr/local/lib/python3.7/dist-packages/sklearn/preprocessing/_label.py:268: DataConversionWarning:\n",
            "\n",
            "A column-vector y was passed when a 1d array was expected. Please change the shape of y to (n_samples, ), for example using ravel().\n",
            "\n"
          ]
        },
        {
          "name": "stdout",
          "output_type": "stream",
          "text": [
            "[LightGBM] [Warning] feature_fraction is set=0.7820117924163674, colsample_bytree=1.0 will be ignored. Current value: feature_fraction=0.7820117924163674\n",
            "[LightGBM] [Warning] feature_fraction is set=0.7820117924163674, colsample_bytree=1.0 will be ignored. Current value: feature_fraction=0.7820117924163674\n",
            "New AUC Score 0.8580619600504982\n"
          ]
        },
        {
          "name": "stderr",
          "output_type": "stream",
          "text": [
            "/usr/local/lib/python3.7/dist-packages/sklearn/preprocessing/_label.py:235: DataConversionWarning:\n",
            "\n",
            "A column-vector y was passed when a 1d array was expected. Please change the shape of y to (n_samples, ), for example using ravel().\n",
            "\n",
            "/usr/local/lib/python3.7/dist-packages/sklearn/preprocessing/_label.py:268: DataConversionWarning:\n",
            "\n",
            "A column-vector y was passed when a 1d array was expected. Please change the shape of y to (n_samples, ), for example using ravel().\n",
            "\n"
          ]
        },
        {
          "name": "stdout",
          "output_type": "stream",
          "text": [
            "[LightGBM] [Warning] feature_fraction is set=0.7820117924163674, colsample_bytree=1.0 will be ignored. Current value: feature_fraction=0.7820117924163674\n",
            "[LightGBM] [Warning] feature_fraction is set=0.7820117924163674, colsample_bytree=1.0 will be ignored. Current value: feature_fraction=0.7820117924163674\n",
            "New AUC Score 0.8557943731169256\n"
          ]
        },
        {
          "name": "stderr",
          "output_type": "stream",
          "text": [
            "/usr/local/lib/python3.7/dist-packages/sklearn/preprocessing/_label.py:235: DataConversionWarning:\n",
            "\n",
            "A column-vector y was passed when a 1d array was expected. Please change the shape of y to (n_samples, ), for example using ravel().\n",
            "\n",
            "/usr/local/lib/python3.7/dist-packages/sklearn/preprocessing/_label.py:268: DataConversionWarning:\n",
            "\n",
            "A column-vector y was passed when a 1d array was expected. Please change the shape of y to (n_samples, ), for example using ravel().\n",
            "\n"
          ]
        },
        {
          "name": "stdout",
          "output_type": "stream",
          "text": [
            "[LightGBM] [Warning] feature_fraction is set=0.7820117924163674, colsample_bytree=1.0 will be ignored. Current value: feature_fraction=0.7820117924163674\n",
            "[LightGBM] [Warning] feature_fraction is set=0.7820117924163674, colsample_bytree=1.0 will be ignored. Current value: feature_fraction=0.7820117924163674\n",
            "New AUC Score 0.8569433151979653\n"
          ]
        },
        {
          "name": "stderr",
          "output_type": "stream",
          "text": [
            "/usr/local/lib/python3.7/dist-packages/sklearn/preprocessing/_label.py:235: DataConversionWarning:\n",
            "\n",
            "A column-vector y was passed when a 1d array was expected. Please change the shape of y to (n_samples, ), for example using ravel().\n",
            "\n",
            "/usr/local/lib/python3.7/dist-packages/sklearn/preprocessing/_label.py:268: DataConversionWarning:\n",
            "\n",
            "A column-vector y was passed when a 1d array was expected. Please change the shape of y to (n_samples, ), for example using ravel().\n",
            "\n"
          ]
        },
        {
          "name": "stdout",
          "output_type": "stream",
          "text": [
            "[LightGBM] [Warning] feature_fraction is set=0.7820117924163674, colsample_bytree=1.0 will be ignored. Current value: feature_fraction=0.7820117924163674\n",
            "[LightGBM] [Warning] feature_fraction is set=0.7820117924163674, colsample_bytree=1.0 will be ignored. Current value: feature_fraction=0.7820117924163674\n",
            "New AUC Score 0.8580223326132127\n"
          ]
        },
        {
          "name": "stderr",
          "output_type": "stream",
          "text": [
            "/usr/local/lib/python3.7/dist-packages/sklearn/preprocessing/_label.py:235: DataConversionWarning:\n",
            "\n",
            "A column-vector y was passed when a 1d array was expected. Please change the shape of y to (n_samples, ), for example using ravel().\n",
            "\n",
            "/usr/local/lib/python3.7/dist-packages/sklearn/preprocessing/_label.py:268: DataConversionWarning:\n",
            "\n",
            "A column-vector y was passed when a 1d array was expected. Please change the shape of y to (n_samples, ), for example using ravel().\n",
            "\n"
          ]
        },
        {
          "name": "stdout",
          "output_type": "stream",
          "text": [
            "[LightGBM] [Warning] feature_fraction is set=0.7820117924163674, colsample_bytree=1.0 will be ignored. Current value: feature_fraction=0.7820117924163674\n",
            "[LightGBM] [Warning] feature_fraction is set=0.7820117924163674, colsample_bytree=1.0 will be ignored. Current value: feature_fraction=0.7820117924163674\n",
            "New AUC Score 0.8560565406635992\n",
            "all scores [0.8580619600504982, 0.8557943731169256, 0.8569433151979653, 0.8580223326132127, 0.8560565406635992]\n",
            "Roc AUC score 0.8580619600504982\n",
            "{'boosting_type': 'gbdt', 'class_weight': None, 'colsample_bytree': 1.0, 'importance_type': 'split', 'learning_rate': 0.014312777963866386, 'max_depth': 5, 'min_child_samples': 46, 'min_child_weight': 0.001, 'min_split_gain': 0.0, 'n_estimators': 7380, 'n_jobs': -1, 'num_leaves': 12, 'objective': 'binary', 'random_state': 42, 'reg_alpha': 17, 'reg_lambda': 16, 'silent': True, 'subsample': 0.5541567944600663, 'subsample_for_bin': 200000, 'subsample_freq': 1, 'metric': 'AUC', 'verbosity': 0, 'device': 'gpu', 'feature_fraction': 0.7820117924163674}\n"
          ]
        },
        {
          "name": "stderr",
          "output_type": "stream",
          "text": [
            "\u001b[32m[I 2021-10-04 00:20:22,852]\u001b[0m Trial 81 finished with value: 0.8580619600504982 and parameters: {'boosting_type': 'gbdt', 'subsample': 0.5541567944600663, 'eta': 0.014312777963866386, 'n_estimators': 7380, 'reg_alpha': 17, 'reg_lambda': 16, 'max_depth': 5, 'num_leaves': 12, 'feature_fraction': 0.7820117924163674, 'min_child_samples': 46}. Best is trial 75 with value: 0.8592430823618162.\u001b[0m\n"
          ]
        },
        {
          "name": "stdout",
          "output_type": "stream",
          "text": [
            "filename ./models/lgbm_81 best_model_name./models/best_lgbm  best_trial_number 75\n",
            "STARTING Params: {'metric': 'AUC', 'verbosity': 0, 'device': 'gpu', 'boosting_type': 'gbdt', 'subsample': 0.5511212185675424, 'learning_rate': 0.013478868823353501, 'n_estimators': 8297, 'subsample_freq': 1, 'reg_alpha': 16, 'reg_lambda': 15, 'max_depth': 6, 'num_leaves': 10, 'feature_fraction': 0.6975221352044874, 'min_child_samples': 55, 'objective': 'binary'}\n",
            "Param: {'metric': 'AUC', 'verbosity': 0, 'device': 'gpu', 'boosting_type': 'gbdt', 'subsample': 0.5511212185675424, 'learning_rate': 0.013478868823353501, 'n_estimators': 8297, 'subsample_freq': 1, 'reg_alpha': 16, 'reg_lambda': 15, 'max_depth': 6, 'num_leaves': 10, 'feature_fraction': 0.6975221352044874, 'min_child_samples': 55, 'objective': 'binary'}\n"
          ]
        },
        {
          "name": "stderr",
          "output_type": "stream",
          "text": [
            "/usr/local/lib/python3.7/dist-packages/sklearn/preprocessing/_label.py:235: DataConversionWarning:\n",
            "\n",
            "A column-vector y was passed when a 1d array was expected. Please change the shape of y to (n_samples, ), for example using ravel().\n",
            "\n",
            "/usr/local/lib/python3.7/dist-packages/sklearn/preprocessing/_label.py:268: DataConversionWarning:\n",
            "\n",
            "A column-vector y was passed when a 1d array was expected. Please change the shape of y to (n_samples, ), for example using ravel().\n",
            "\n"
          ]
        },
        {
          "name": "stdout",
          "output_type": "stream",
          "text": [
            "[LightGBM] [Warning] feature_fraction is set=0.6975221352044874, colsample_bytree=1.0 will be ignored. Current value: feature_fraction=0.6975221352044874\n",
            "[LightGBM] [Warning] feature_fraction is set=0.6975221352044874, colsample_bytree=1.0 will be ignored. Current value: feature_fraction=0.6975221352044874\n",
            "New AUC Score 0.8570054421564204\n"
          ]
        },
        {
          "name": "stderr",
          "output_type": "stream",
          "text": [
            "/usr/local/lib/python3.7/dist-packages/sklearn/preprocessing/_label.py:235: DataConversionWarning:\n",
            "\n",
            "A column-vector y was passed when a 1d array was expected. Please change the shape of y to (n_samples, ), for example using ravel().\n",
            "\n",
            "/usr/local/lib/python3.7/dist-packages/sklearn/preprocessing/_label.py:268: DataConversionWarning:\n",
            "\n",
            "A column-vector y was passed when a 1d array was expected. Please change the shape of y to (n_samples, ), for example using ravel().\n",
            "\n"
          ]
        },
        {
          "name": "stdout",
          "output_type": "stream",
          "text": [
            "[LightGBM] [Warning] feature_fraction is set=0.6975221352044874, colsample_bytree=1.0 will be ignored. Current value: feature_fraction=0.6975221352044874\n",
            "[LightGBM] [Warning] feature_fraction is set=0.6975221352044874, colsample_bytree=1.0 will be ignored. Current value: feature_fraction=0.6975221352044874\n",
            "New AUC Score 0.8575393747587976\n"
          ]
        },
        {
          "name": "stderr",
          "output_type": "stream",
          "text": [
            "/usr/local/lib/python3.7/dist-packages/sklearn/preprocessing/_label.py:235: DataConversionWarning:\n",
            "\n",
            "A column-vector y was passed when a 1d array was expected. Please change the shape of y to (n_samples, ), for example using ravel().\n",
            "\n",
            "/usr/local/lib/python3.7/dist-packages/sklearn/preprocessing/_label.py:268: DataConversionWarning:\n",
            "\n",
            "A column-vector y was passed when a 1d array was expected. Please change the shape of y to (n_samples, ), for example using ravel().\n",
            "\n"
          ]
        },
        {
          "name": "stdout",
          "output_type": "stream",
          "text": [
            "[LightGBM] [Warning] feature_fraction is set=0.6975221352044874, colsample_bytree=1.0 will be ignored. Current value: feature_fraction=0.6975221352044874\n",
            "[LightGBM] [Warning] feature_fraction is set=0.6975221352044874, colsample_bytree=1.0 will be ignored. Current value: feature_fraction=0.6975221352044874\n",
            "New AUC Score 0.8568058932686649\n"
          ]
        },
        {
          "name": "stderr",
          "output_type": "stream",
          "text": [
            "/usr/local/lib/python3.7/dist-packages/sklearn/preprocessing/_label.py:235: DataConversionWarning:\n",
            "\n",
            "A column-vector y was passed when a 1d array was expected. Please change the shape of y to (n_samples, ), for example using ravel().\n",
            "\n",
            "/usr/local/lib/python3.7/dist-packages/sklearn/preprocessing/_label.py:268: DataConversionWarning:\n",
            "\n",
            "A column-vector y was passed when a 1d array was expected. Please change the shape of y to (n_samples, ), for example using ravel().\n",
            "\n"
          ]
        },
        {
          "name": "stdout",
          "output_type": "stream",
          "text": [
            "[LightGBM] [Warning] feature_fraction is set=0.6975221352044874, colsample_bytree=1.0 will be ignored. Current value: feature_fraction=0.6975221352044874\n",
            "[LightGBM] [Warning] feature_fraction is set=0.6975221352044874, colsample_bytree=1.0 will be ignored. Current value: feature_fraction=0.6975221352044874\n",
            "New AUC Score 0.8577374175451362\n"
          ]
        },
        {
          "name": "stderr",
          "output_type": "stream",
          "text": [
            "/usr/local/lib/python3.7/dist-packages/sklearn/preprocessing/_label.py:235: DataConversionWarning:\n",
            "\n",
            "A column-vector y was passed when a 1d array was expected. Please change the shape of y to (n_samples, ), for example using ravel().\n",
            "\n",
            "/usr/local/lib/python3.7/dist-packages/sklearn/preprocessing/_label.py:268: DataConversionWarning:\n",
            "\n",
            "A column-vector y was passed when a 1d array was expected. Please change the shape of y to (n_samples, ), for example using ravel().\n",
            "\n"
          ]
        },
        {
          "name": "stdout",
          "output_type": "stream",
          "text": [
            "[LightGBM] [Warning] feature_fraction is set=0.6975221352044874, colsample_bytree=1.0 will be ignored. Current value: feature_fraction=0.6975221352044874\n",
            "[LightGBM] [Warning] feature_fraction is set=0.6975221352044874, colsample_bytree=1.0 will be ignored. Current value: feature_fraction=0.6975221352044874\n",
            "New AUC Score 0.8562679501625143\n",
            "all scores [0.8570054421564204, 0.8575393747587976, 0.8568058932686649, 0.8577374175451362, 0.8562679501625143]\n",
            "Roc AUC score 0.8577374175451362\n",
            "{'boosting_type': 'gbdt', 'class_weight': None, 'colsample_bytree': 1.0, 'importance_type': 'split', 'learning_rate': 0.013478868823353501, 'max_depth': 6, 'min_child_samples': 55, 'min_child_weight': 0.001, 'min_split_gain': 0.0, 'n_estimators': 8297, 'n_jobs': -1, 'num_leaves': 10, 'objective': 'binary', 'random_state': 42, 'reg_alpha': 16, 'reg_lambda': 15, 'silent': True, 'subsample': 0.5511212185675424, 'subsample_for_bin': 200000, 'subsample_freq': 1, 'metric': 'AUC', 'verbosity': 0, 'device': 'gpu', 'feature_fraction': 0.6975221352044874}\n"
          ]
        },
        {
          "name": "stderr",
          "output_type": "stream",
          "text": [
            "\u001b[32m[I 2021-10-04 00:35:09,374]\u001b[0m Trial 82 finished with value: 0.8577374175451362 and parameters: {'boosting_type': 'gbdt', 'subsample': 0.5511212185675424, 'eta': 0.013478868823353501, 'n_estimators': 8297, 'reg_alpha': 16, 'reg_lambda': 15, 'max_depth': 6, 'num_leaves': 10, 'feature_fraction': 0.6975221352044874, 'min_child_samples': 55}. Best is trial 75 with value: 0.8592430823618162.\u001b[0m\n"
          ]
        },
        {
          "name": "stdout",
          "output_type": "stream",
          "text": [
            "filename ./models/lgbm_82 best_model_name./models/best_lgbm  best_trial_number 75\n",
            "STARTING Params: {'metric': 'AUC', 'verbosity': 0, 'device': 'gpu', 'boosting_type': 'gbdt', 'subsample': 0.5591312606024318, 'learning_rate': 0.014746873638195913, 'n_estimators': 6185, 'subsample_freq': 1, 'reg_alpha': 15, 'reg_lambda': 11, 'max_depth': 6, 'num_leaves': 12, 'feature_fraction': 0.6828497064290938, 'min_child_samples': 40, 'objective': 'binary'}\n",
            "Param: {'metric': 'AUC', 'verbosity': 0, 'device': 'gpu', 'boosting_type': 'gbdt', 'subsample': 0.5591312606024318, 'learning_rate': 0.014746873638195913, 'n_estimators': 6185, 'subsample_freq': 1, 'reg_alpha': 15, 'reg_lambda': 11, 'max_depth': 6, 'num_leaves': 12, 'feature_fraction': 0.6828497064290938, 'min_child_samples': 40, 'objective': 'binary'}\n"
          ]
        },
        {
          "name": "stderr",
          "output_type": "stream",
          "text": [
            "/usr/local/lib/python3.7/dist-packages/sklearn/preprocessing/_label.py:235: DataConversionWarning:\n",
            "\n",
            "A column-vector y was passed when a 1d array was expected. Please change the shape of y to (n_samples, ), for example using ravel().\n",
            "\n",
            "/usr/local/lib/python3.7/dist-packages/sklearn/preprocessing/_label.py:268: DataConversionWarning:\n",
            "\n",
            "A column-vector y was passed when a 1d array was expected. Please change the shape of y to (n_samples, ), for example using ravel().\n",
            "\n"
          ]
        },
        {
          "name": "stdout",
          "output_type": "stream",
          "text": [
            "[LightGBM] [Warning] feature_fraction is set=0.6828497064290938, colsample_bytree=1.0 will be ignored. Current value: feature_fraction=0.6828497064290938\n",
            "[LightGBM] [Warning] feature_fraction is set=0.6828497064290938, colsample_bytree=1.0 will be ignored. Current value: feature_fraction=0.6828497064290938\n",
            "New AUC Score 0.8566214691951404\n"
          ]
        },
        {
          "name": "stderr",
          "output_type": "stream",
          "text": [
            "/usr/local/lib/python3.7/dist-packages/sklearn/preprocessing/_label.py:235: DataConversionWarning:\n",
            "\n",
            "A column-vector y was passed when a 1d array was expected. Please change the shape of y to (n_samples, ), for example using ravel().\n",
            "\n",
            "/usr/local/lib/python3.7/dist-packages/sklearn/preprocessing/_label.py:268: DataConversionWarning:\n",
            "\n",
            "A column-vector y was passed when a 1d array was expected. Please change the shape of y to (n_samples, ), for example using ravel().\n",
            "\n"
          ]
        },
        {
          "name": "stdout",
          "output_type": "stream",
          "text": [
            "[LightGBM] [Warning] feature_fraction is set=0.6828497064290938, colsample_bytree=1.0 will be ignored. Current value: feature_fraction=0.6828497064290938\n",
            "[LightGBM] [Warning] feature_fraction is set=0.6828497064290938, colsample_bytree=1.0 will be ignored. Current value: feature_fraction=0.6828497064290938\n",
            "New AUC Score 0.8577168916258233\n"
          ]
        },
        {
          "name": "stderr",
          "output_type": "stream",
          "text": [
            "/usr/local/lib/python3.7/dist-packages/sklearn/preprocessing/_label.py:235: DataConversionWarning:\n",
            "\n",
            "A column-vector y was passed when a 1d array was expected. Please change the shape of y to (n_samples, ), for example using ravel().\n",
            "\n",
            "/usr/local/lib/python3.7/dist-packages/sklearn/preprocessing/_label.py:268: DataConversionWarning:\n",
            "\n",
            "A column-vector y was passed when a 1d array was expected. Please change the shape of y to (n_samples, ), for example using ravel().\n",
            "\n"
          ]
        },
        {
          "name": "stdout",
          "output_type": "stream",
          "text": [
            "[LightGBM] [Warning] feature_fraction is set=0.6828497064290938, colsample_bytree=1.0 will be ignored. Current value: feature_fraction=0.6828497064290938\n",
            "[LightGBM] [Warning] feature_fraction is set=0.6828497064290938, colsample_bytree=1.0 will be ignored. Current value: feature_fraction=0.6828497064290938\n",
            "New AUC Score 0.8577262336346132\n"
          ]
        },
        {
          "name": "stderr",
          "output_type": "stream",
          "text": [
            "/usr/local/lib/python3.7/dist-packages/sklearn/preprocessing/_label.py:235: DataConversionWarning:\n",
            "\n",
            "A column-vector y was passed when a 1d array was expected. Please change the shape of y to (n_samples, ), for example using ravel().\n",
            "\n",
            "/usr/local/lib/python3.7/dist-packages/sklearn/preprocessing/_label.py:268: DataConversionWarning:\n",
            "\n",
            "A column-vector y was passed when a 1d array was expected. Please change the shape of y to (n_samples, ), for example using ravel().\n",
            "\n"
          ]
        },
        {
          "name": "stdout",
          "output_type": "stream",
          "text": [
            "[LightGBM] [Warning] feature_fraction is set=0.6828497064290938, colsample_bytree=1.0 will be ignored. Current value: feature_fraction=0.6828497064290938\n",
            "[LightGBM] [Warning] feature_fraction is set=0.6828497064290938, colsample_bytree=1.0 will be ignored. Current value: feature_fraction=0.6828497064290938\n",
            "New AUC Score 0.8572735276086622\n"
          ]
        },
        {
          "name": "stderr",
          "output_type": "stream",
          "text": [
            "/usr/local/lib/python3.7/dist-packages/sklearn/preprocessing/_label.py:235: DataConversionWarning:\n",
            "\n",
            "A column-vector y was passed when a 1d array was expected. Please change the shape of y to (n_samples, ), for example using ravel().\n",
            "\n",
            "/usr/local/lib/python3.7/dist-packages/sklearn/preprocessing/_label.py:268: DataConversionWarning:\n",
            "\n",
            "A column-vector y was passed when a 1d array was expected. Please change the shape of y to (n_samples, ), for example using ravel().\n",
            "\n"
          ]
        },
        {
          "name": "stdout",
          "output_type": "stream",
          "text": [
            "[LightGBM] [Warning] feature_fraction is set=0.6828497064290938, colsample_bytree=1.0 will be ignored. Current value: feature_fraction=0.6828497064290938\n",
            "[LightGBM] [Warning] feature_fraction is set=0.6828497064290938, colsample_bytree=1.0 will be ignored. Current value: feature_fraction=0.6828497064290938\n",
            "New AUC Score 0.8562340764306424\n",
            "all scores [0.8566214691951404, 0.8577168916258233, 0.8577262336346132, 0.8572735276086622, 0.8562340764306424]\n",
            "Roc AUC score 0.8577262336346132\n",
            "{'boosting_type': 'gbdt', 'class_weight': None, 'colsample_bytree': 1.0, 'importance_type': 'split', 'learning_rate': 0.014746873638195913, 'max_depth': 6, 'min_child_samples': 40, 'min_child_weight': 0.001, 'min_split_gain': 0.0, 'n_estimators': 6185, 'n_jobs': -1, 'num_leaves': 12, 'objective': 'binary', 'random_state': 42, 'reg_alpha': 15, 'reg_lambda': 11, 'silent': True, 'subsample': 0.5591312606024318, 'subsample_for_bin': 200000, 'subsample_freq': 1, 'metric': 'AUC', 'verbosity': 0, 'device': 'gpu', 'feature_fraction': 0.6828497064290938}\n"
          ]
        },
        {
          "name": "stderr",
          "output_type": "stream",
          "text": [
            "\u001b[32m[I 2021-10-04 00:47:21,112]\u001b[0m Trial 83 finished with value: 0.8577262336346132 and parameters: {'boosting_type': 'gbdt', 'subsample': 0.5591312606024318, 'eta': 0.014746873638195913, 'n_estimators': 6185, 'reg_alpha': 15, 'reg_lambda': 11, 'max_depth': 6, 'num_leaves': 12, 'feature_fraction': 0.6828497064290938, 'min_child_samples': 40}. Best is trial 75 with value: 0.8592430823618162.\u001b[0m\n"
          ]
        },
        {
          "name": "stdout",
          "output_type": "stream",
          "text": [
            "filename ./models/lgbm_83 best_model_name./models/best_lgbm  best_trial_number 75\n",
            "STARTING Params: {'metric': 'AUC', 'verbosity': 0, 'device': 'gpu', 'boosting_type': 'gbdt', 'subsample': 0.5566671635771473, 'learning_rate': 0.01394006065327278, 'n_estimators': 6429, 'subsample_freq': 1, 'reg_alpha': 17, 'reg_lambda': 10, 'max_depth': 5, 'num_leaves': 11, 'feature_fraction': 0.7282906291719461, 'min_child_samples': 36, 'objective': 'binary'}\n",
            "Param: {'metric': 'AUC', 'verbosity': 0, 'device': 'gpu', 'boosting_type': 'gbdt', 'subsample': 0.5566671635771473, 'learning_rate': 0.01394006065327278, 'n_estimators': 6429, 'subsample_freq': 1, 'reg_alpha': 17, 'reg_lambda': 10, 'max_depth': 5, 'num_leaves': 11, 'feature_fraction': 0.7282906291719461, 'min_child_samples': 36, 'objective': 'binary'}\n"
          ]
        },
        {
          "name": "stderr",
          "output_type": "stream",
          "text": [
            "/usr/local/lib/python3.7/dist-packages/sklearn/preprocessing/_label.py:235: DataConversionWarning:\n",
            "\n",
            "A column-vector y was passed when a 1d array was expected. Please change the shape of y to (n_samples, ), for example using ravel().\n",
            "\n",
            "/usr/local/lib/python3.7/dist-packages/sklearn/preprocessing/_label.py:268: DataConversionWarning:\n",
            "\n",
            "A column-vector y was passed when a 1d array was expected. Please change the shape of y to (n_samples, ), for example using ravel().\n",
            "\n"
          ]
        },
        {
          "name": "stdout",
          "output_type": "stream",
          "text": [
            "[LightGBM] [Warning] feature_fraction is set=0.7282906291719461, colsample_bytree=1.0 will be ignored. Current value: feature_fraction=0.7282906291719461\n",
            "[LightGBM] [Warning] feature_fraction is set=0.7282906291719461, colsample_bytree=1.0 will be ignored. Current value: feature_fraction=0.7282906291719461\n",
            "New AUC Score 0.8572718495070832\n"
          ]
        },
        {
          "name": "stderr",
          "output_type": "stream",
          "text": [
            "/usr/local/lib/python3.7/dist-packages/sklearn/preprocessing/_label.py:235: DataConversionWarning:\n",
            "\n",
            "A column-vector y was passed when a 1d array was expected. Please change the shape of y to (n_samples, ), for example using ravel().\n",
            "\n",
            "/usr/local/lib/python3.7/dist-packages/sklearn/preprocessing/_label.py:268: DataConversionWarning:\n",
            "\n",
            "A column-vector y was passed when a 1d array was expected. Please change the shape of y to (n_samples, ), for example using ravel().\n",
            "\n"
          ]
        },
        {
          "name": "stdout",
          "output_type": "stream",
          "text": [
            "[LightGBM] [Warning] feature_fraction is set=0.7282906291719461, colsample_bytree=1.0 will be ignored. Current value: feature_fraction=0.7282906291719461\n",
            "[LightGBM] [Warning] feature_fraction is set=0.7282906291719461, colsample_bytree=1.0 will be ignored. Current value: feature_fraction=0.7282906291719461\n",
            "New AUC Score 0.857321715454002\n"
          ]
        },
        {
          "name": "stderr",
          "output_type": "stream",
          "text": [
            "/usr/local/lib/python3.7/dist-packages/sklearn/preprocessing/_label.py:235: DataConversionWarning:\n",
            "\n",
            "A column-vector y was passed when a 1d array was expected. Please change the shape of y to (n_samples, ), for example using ravel().\n",
            "\n",
            "/usr/local/lib/python3.7/dist-packages/sklearn/preprocessing/_label.py:268: DataConversionWarning:\n",
            "\n",
            "A column-vector y was passed when a 1d array was expected. Please change the shape of y to (n_samples, ), for example using ravel().\n",
            "\n"
          ]
        },
        {
          "name": "stdout",
          "output_type": "stream",
          "text": [
            "[LightGBM] [Warning] feature_fraction is set=0.7282906291719461, colsample_bytree=1.0 will be ignored. Current value: feature_fraction=0.7282906291719461\n",
            "[LightGBM] [Warning] feature_fraction is set=0.7282906291719461, colsample_bytree=1.0 will be ignored. Current value: feature_fraction=0.7282906291719461\n",
            "New AUC Score 0.8567198736877292\n"
          ]
        },
        {
          "name": "stderr",
          "output_type": "stream",
          "text": [
            "/usr/local/lib/python3.7/dist-packages/sklearn/preprocessing/_label.py:235: DataConversionWarning:\n",
            "\n",
            "A column-vector y was passed when a 1d array was expected. Please change the shape of y to (n_samples, ), for example using ravel().\n",
            "\n",
            "/usr/local/lib/python3.7/dist-packages/sklearn/preprocessing/_label.py:268: DataConversionWarning:\n",
            "\n",
            "A column-vector y was passed when a 1d array was expected. Please change the shape of y to (n_samples, ), for example using ravel().\n",
            "\n"
          ]
        },
        {
          "name": "stdout",
          "output_type": "stream",
          "text": [
            "[LightGBM] [Warning] feature_fraction is set=0.7282906291719461, colsample_bytree=1.0 will be ignored. Current value: feature_fraction=0.7282906291719461\n",
            "[LightGBM] [Warning] feature_fraction is set=0.7282906291719461, colsample_bytree=1.0 will be ignored. Current value: feature_fraction=0.7282906291719461\n",
            "New AUC Score 0.8571451681878888\n"
          ]
        },
        {
          "name": "stderr",
          "output_type": "stream",
          "text": [
            "/usr/local/lib/python3.7/dist-packages/sklearn/preprocessing/_label.py:235: DataConversionWarning:\n",
            "\n",
            "A column-vector y was passed when a 1d array was expected. Please change the shape of y to (n_samples, ), for example using ravel().\n",
            "\n",
            "/usr/local/lib/python3.7/dist-packages/sklearn/preprocessing/_label.py:268: DataConversionWarning:\n",
            "\n",
            "A column-vector y was passed when a 1d array was expected. Please change the shape of y to (n_samples, ), for example using ravel().\n",
            "\n"
          ]
        },
        {
          "name": "stdout",
          "output_type": "stream",
          "text": [
            "[LightGBM] [Warning] feature_fraction is set=0.7282906291719461, colsample_bytree=1.0 will be ignored. Current value: feature_fraction=0.7282906291719461\n",
            "[LightGBM] [Warning] feature_fraction is set=0.7282906291719461, colsample_bytree=1.0 will be ignored. Current value: feature_fraction=0.7282906291719461\n",
            "New AUC Score 0.8568269486884759\n",
            "all scores [0.8572718495070832, 0.857321715454002, 0.8567198736877292, 0.8571451681878888, 0.8568269486884759]\n",
            "Roc AUC score 0.857321715454002\n",
            "{'boosting_type': 'gbdt', 'class_weight': None, 'colsample_bytree': 1.0, 'importance_type': 'split', 'learning_rate': 0.01394006065327278, 'max_depth': 5, 'min_child_samples': 36, 'min_child_weight': 0.001, 'min_split_gain': 0.0, 'n_estimators': 6429, 'n_jobs': -1, 'num_leaves': 11, 'objective': 'binary', 'random_state': 42, 'reg_alpha': 17, 'reg_lambda': 10, 'silent': True, 'subsample': 0.5566671635771473, 'subsample_for_bin': 200000, 'subsample_freq': 1, 'metric': 'AUC', 'verbosity': 0, 'device': 'gpu', 'feature_fraction': 0.7282906291719461}\n"
          ]
        },
        {
          "name": "stderr",
          "output_type": "stream",
          "text": [
            "\u001b[32m[I 2021-10-04 00:58:47,958]\u001b[0m Trial 84 finished with value: 0.857321715454002 and parameters: {'boosting_type': 'gbdt', 'subsample': 0.5566671635771473, 'eta': 0.01394006065327278, 'n_estimators': 6429, 'reg_alpha': 17, 'reg_lambda': 10, 'max_depth': 5, 'num_leaves': 11, 'feature_fraction': 0.7282906291719461, 'min_child_samples': 36}. Best is trial 75 with value: 0.8592430823618162.\u001b[0m\n"
          ]
        },
        {
          "name": "stdout",
          "output_type": "stream",
          "text": [
            "filename ./models/lgbm_84 best_model_name./models/best_lgbm  best_trial_number 75\n",
            "STARTING Params: {'metric': 'AUC', 'verbosity': 0, 'device': 'gpu', 'boosting_type': 'gbdt', 'subsample': 0.5672005490039955, 'learning_rate': 0.01322484827403377, 'n_estimators': 8159, 'subsample_freq': 1, 'reg_alpha': 13, 'reg_lambda': 11, 'max_depth': 7, 'num_leaves': 10, 'feature_fraction': 0.6530745291714993, 'min_child_samples': 53, 'objective': 'binary'}\n",
            "Param: {'metric': 'AUC', 'verbosity': 0, 'device': 'gpu', 'boosting_type': 'gbdt', 'subsample': 0.5672005490039955, 'learning_rate': 0.01322484827403377, 'n_estimators': 8159, 'subsample_freq': 1, 'reg_alpha': 13, 'reg_lambda': 11, 'max_depth': 7, 'num_leaves': 10, 'feature_fraction': 0.6530745291714993, 'min_child_samples': 53, 'objective': 'binary'}\n"
          ]
        },
        {
          "name": "stderr",
          "output_type": "stream",
          "text": [
            "/usr/local/lib/python3.7/dist-packages/sklearn/preprocessing/_label.py:235: DataConversionWarning:\n",
            "\n",
            "A column-vector y was passed when a 1d array was expected. Please change the shape of y to (n_samples, ), for example using ravel().\n",
            "\n",
            "/usr/local/lib/python3.7/dist-packages/sklearn/preprocessing/_label.py:268: DataConversionWarning:\n",
            "\n",
            "A column-vector y was passed when a 1d array was expected. Please change the shape of y to (n_samples, ), for example using ravel().\n",
            "\n"
          ]
        },
        {
          "name": "stdout",
          "output_type": "stream",
          "text": [
            "[LightGBM] [Warning] feature_fraction is set=0.6530745291714993, colsample_bytree=1.0 will be ignored. Current value: feature_fraction=0.6530745291714993\n",
            "[LightGBM] [Warning] feature_fraction is set=0.6530745291714993, colsample_bytree=1.0 will be ignored. Current value: feature_fraction=0.6530745291714993\n",
            "New AUC Score 0.8572971693309066\n"
          ]
        },
        {
          "name": "stderr",
          "output_type": "stream",
          "text": [
            "/usr/local/lib/python3.7/dist-packages/sklearn/preprocessing/_label.py:235: DataConversionWarning:\n",
            "\n",
            "A column-vector y was passed when a 1d array was expected. Please change the shape of y to (n_samples, ), for example using ravel().\n",
            "\n",
            "/usr/local/lib/python3.7/dist-packages/sklearn/preprocessing/_label.py:268: DataConversionWarning:\n",
            "\n",
            "A column-vector y was passed when a 1d array was expected. Please change the shape of y to (n_samples, ), for example using ravel().\n",
            "\n"
          ]
        },
        {
          "name": "stdout",
          "output_type": "stream",
          "text": [
            "[LightGBM] [Warning] feature_fraction is set=0.6530745291714993, colsample_bytree=1.0 will be ignored. Current value: feature_fraction=0.6530745291714993\n",
            "[LightGBM] [Warning] feature_fraction is set=0.6530745291714993, colsample_bytree=1.0 will be ignored. Current value: feature_fraction=0.6530745291714993\n",
            "New AUC Score 0.8570398716888152\n"
          ]
        },
        {
          "name": "stderr",
          "output_type": "stream",
          "text": [
            "/usr/local/lib/python3.7/dist-packages/sklearn/preprocessing/_label.py:235: DataConversionWarning:\n",
            "\n",
            "A column-vector y was passed when a 1d array was expected. Please change the shape of y to (n_samples, ), for example using ravel().\n",
            "\n",
            "/usr/local/lib/python3.7/dist-packages/sklearn/preprocessing/_label.py:268: DataConversionWarning:\n",
            "\n",
            "A column-vector y was passed when a 1d array was expected. Please change the shape of y to (n_samples, ), for example using ravel().\n",
            "\n"
          ]
        },
        {
          "name": "stdout",
          "output_type": "stream",
          "text": [
            "[LightGBM] [Warning] feature_fraction is set=0.6530745291714993, colsample_bytree=1.0 will be ignored. Current value: feature_fraction=0.6530745291714993\n",
            "[LightGBM] [Warning] feature_fraction is set=0.6530745291714993, colsample_bytree=1.0 will be ignored. Current value: feature_fraction=0.6530745291714993\n",
            "New AUC Score 0.8560279820367283\n"
          ]
        },
        {
          "name": "stderr",
          "output_type": "stream",
          "text": [
            "/usr/local/lib/python3.7/dist-packages/sklearn/preprocessing/_label.py:235: DataConversionWarning:\n",
            "\n",
            "A column-vector y was passed when a 1d array was expected. Please change the shape of y to (n_samples, ), for example using ravel().\n",
            "\n",
            "/usr/local/lib/python3.7/dist-packages/sklearn/preprocessing/_label.py:268: DataConversionWarning:\n",
            "\n",
            "A column-vector y was passed when a 1d array was expected. Please change the shape of y to (n_samples, ), for example using ravel().\n",
            "\n"
          ]
        },
        {
          "name": "stdout",
          "output_type": "stream",
          "text": [
            "[LightGBM] [Warning] feature_fraction is set=0.6530745291714993, colsample_bytree=1.0 will be ignored. Current value: feature_fraction=0.6530745291714993\n",
            "[LightGBM] [Warning] feature_fraction is set=0.6530745291714993, colsample_bytree=1.0 will be ignored. Current value: feature_fraction=0.6530745291714993\n",
            "New AUC Score 0.8567979083611521\n"
          ]
        },
        {
          "name": "stderr",
          "output_type": "stream",
          "text": [
            "/usr/local/lib/python3.7/dist-packages/sklearn/preprocessing/_label.py:235: DataConversionWarning:\n",
            "\n",
            "A column-vector y was passed when a 1d array was expected. Please change the shape of y to (n_samples, ), for example using ravel().\n",
            "\n",
            "/usr/local/lib/python3.7/dist-packages/sklearn/preprocessing/_label.py:268: DataConversionWarning:\n",
            "\n",
            "A column-vector y was passed when a 1d array was expected. Please change the shape of y to (n_samples, ), for example using ravel().\n",
            "\n"
          ]
        },
        {
          "name": "stdout",
          "output_type": "stream",
          "text": [
            "[LightGBM] [Warning] feature_fraction is set=0.6530745291714993, colsample_bytree=1.0 will be ignored. Current value: feature_fraction=0.6530745291714993\n",
            "[LightGBM] [Warning] feature_fraction is set=0.6530745291714993, colsample_bytree=1.0 will be ignored. Current value: feature_fraction=0.6530745291714993\n",
            "New AUC Score 0.8580615442501071\n",
            "all scores [0.8572971693309066, 0.8570398716888152, 0.8560279820367283, 0.8567979083611521, 0.8580615442501071]\n",
            "Roc AUC score 0.8580615442501071\n",
            "{'boosting_type': 'gbdt', 'class_weight': None, 'colsample_bytree': 1.0, 'importance_type': 'split', 'learning_rate': 0.01322484827403377, 'max_depth': 7, 'min_child_samples': 53, 'min_child_weight': 0.001, 'min_split_gain': 0.0, 'n_estimators': 8159, 'n_jobs': -1, 'num_leaves': 10, 'objective': 'binary', 'random_state': 42, 'reg_alpha': 13, 'reg_lambda': 11, 'silent': True, 'subsample': 0.5672005490039955, 'subsample_for_bin': 200000, 'subsample_freq': 1, 'metric': 'AUC', 'verbosity': 0, 'device': 'gpu', 'feature_fraction': 0.6530745291714993}\n"
          ]
        },
        {
          "name": "stderr",
          "output_type": "stream",
          "text": [
            "\u001b[32m[I 2021-10-04 01:14:38,006]\u001b[0m Trial 85 finished with value: 0.8580615442501071 and parameters: {'boosting_type': 'gbdt', 'subsample': 0.5672005490039955, 'eta': 0.01322484827403377, 'n_estimators': 8159, 'reg_alpha': 13, 'reg_lambda': 11, 'max_depth': 7, 'num_leaves': 10, 'feature_fraction': 0.6530745291714993, 'min_child_samples': 53}. Best is trial 75 with value: 0.8592430823618162.\u001b[0m\n"
          ]
        },
        {
          "name": "stdout",
          "output_type": "stream",
          "text": [
            "filename ./models/lgbm_85 best_model_name./models/best_lgbm  best_trial_number 75\n",
            "STARTING Params: {'metric': 'AUC', 'verbosity': 0, 'device': 'gpu', 'boosting_type': 'gbdt', 'subsample': 0.5604500226341672, 'learning_rate': 0.014230755983383025, 'n_estimators': 7080, 'subsample_freq': 1, 'reg_alpha': 18, 'reg_lambda': 15, 'max_depth': 6, 'num_leaves': 12, 'feature_fraction': 0.8274373496156274, 'min_child_samples': 42, 'objective': 'binary'}\n",
            "Param: {'metric': 'AUC', 'verbosity': 0, 'device': 'gpu', 'boosting_type': 'gbdt', 'subsample': 0.5604500226341672, 'learning_rate': 0.014230755983383025, 'n_estimators': 7080, 'subsample_freq': 1, 'reg_alpha': 18, 'reg_lambda': 15, 'max_depth': 6, 'num_leaves': 12, 'feature_fraction': 0.8274373496156274, 'min_child_samples': 42, 'objective': 'binary'}\n"
          ]
        },
        {
          "name": "stderr",
          "output_type": "stream",
          "text": [
            "/usr/local/lib/python3.7/dist-packages/sklearn/preprocessing/_label.py:235: DataConversionWarning:\n",
            "\n",
            "A column-vector y was passed when a 1d array was expected. Please change the shape of y to (n_samples, ), for example using ravel().\n",
            "\n",
            "/usr/local/lib/python3.7/dist-packages/sklearn/preprocessing/_label.py:268: DataConversionWarning:\n",
            "\n",
            "A column-vector y was passed when a 1d array was expected. Please change the shape of y to (n_samples, ), for example using ravel().\n",
            "\n"
          ]
        },
        {
          "name": "stdout",
          "output_type": "stream",
          "text": [
            "[LightGBM] [Warning] feature_fraction is set=0.8274373496156274, colsample_bytree=1.0 will be ignored. Current value: feature_fraction=0.8274373496156274\n",
            "[LightGBM] [Warning] feature_fraction is set=0.8274373496156274, colsample_bytree=1.0 will be ignored. Current value: feature_fraction=0.8274373496156274\n",
            "New AUC Score 0.8552049666623531\n"
          ]
        },
        {
          "name": "stderr",
          "output_type": "stream",
          "text": [
            "/usr/local/lib/python3.7/dist-packages/sklearn/preprocessing/_label.py:235: DataConversionWarning:\n",
            "\n",
            "A column-vector y was passed when a 1d array was expected. Please change the shape of y to (n_samples, ), for example using ravel().\n",
            "\n",
            "/usr/local/lib/python3.7/dist-packages/sklearn/preprocessing/_label.py:268: DataConversionWarning:\n",
            "\n",
            "A column-vector y was passed when a 1d array was expected. Please change the shape of y to (n_samples, ), for example using ravel().\n",
            "\n"
          ]
        },
        {
          "name": "stdout",
          "output_type": "stream",
          "text": [
            "[LightGBM] [Warning] feature_fraction is set=0.8274373496156274, colsample_bytree=1.0 will be ignored. Current value: feature_fraction=0.8274373496156274\n",
            "[LightGBM] [Warning] feature_fraction is set=0.8274373496156274, colsample_bytree=1.0 will be ignored. Current value: feature_fraction=0.8274373496156274\n",
            "New AUC Score 0.8569659345192479\n"
          ]
        },
        {
          "name": "stderr",
          "output_type": "stream",
          "text": [
            "/usr/local/lib/python3.7/dist-packages/sklearn/preprocessing/_label.py:235: DataConversionWarning:\n",
            "\n",
            "A column-vector y was passed when a 1d array was expected. Please change the shape of y to (n_samples, ), for example using ravel().\n",
            "\n",
            "/usr/local/lib/python3.7/dist-packages/sklearn/preprocessing/_label.py:268: DataConversionWarning:\n",
            "\n",
            "A column-vector y was passed when a 1d array was expected. Please change the shape of y to (n_samples, ), for example using ravel().\n",
            "\n"
          ]
        },
        {
          "name": "stdout",
          "output_type": "stream",
          "text": [
            "[LightGBM] [Warning] feature_fraction is set=0.8274373496156274, colsample_bytree=1.0 will be ignored. Current value: feature_fraction=0.8274373496156274\n",
            "[LightGBM] [Warning] feature_fraction is set=0.8274373496156274, colsample_bytree=1.0 will be ignored. Current value: feature_fraction=0.8274373496156274\n",
            "New AUC Score 0.8580283043188315\n"
          ]
        },
        {
          "name": "stderr",
          "output_type": "stream",
          "text": [
            "/usr/local/lib/python3.7/dist-packages/sklearn/preprocessing/_label.py:235: DataConversionWarning:\n",
            "\n",
            "A column-vector y was passed when a 1d array was expected. Please change the shape of y to (n_samples, ), for example using ravel().\n",
            "\n",
            "/usr/local/lib/python3.7/dist-packages/sklearn/preprocessing/_label.py:268: DataConversionWarning:\n",
            "\n",
            "A column-vector y was passed when a 1d array was expected. Please change the shape of y to (n_samples, ), for example using ravel().\n",
            "\n"
          ]
        },
        {
          "name": "stdout",
          "output_type": "stream",
          "text": [
            "[LightGBM] [Warning] feature_fraction is set=0.8274373496156274, colsample_bytree=1.0 will be ignored. Current value: feature_fraction=0.8274373496156274\n",
            "[LightGBM] [Warning] feature_fraction is set=0.8274373496156274, colsample_bytree=1.0 will be ignored. Current value: feature_fraction=0.8274373496156274\n",
            "New AUC Score 0.8572573266934187\n"
          ]
        },
        {
          "name": "stderr",
          "output_type": "stream",
          "text": [
            "/usr/local/lib/python3.7/dist-packages/sklearn/preprocessing/_label.py:235: DataConversionWarning:\n",
            "\n",
            "A column-vector y was passed when a 1d array was expected. Please change the shape of y to (n_samples, ), for example using ravel().\n",
            "\n",
            "/usr/local/lib/python3.7/dist-packages/sklearn/preprocessing/_label.py:268: DataConversionWarning:\n",
            "\n",
            "A column-vector y was passed when a 1d array was expected. Please change the shape of y to (n_samples, ), for example using ravel().\n",
            "\n"
          ]
        },
        {
          "name": "stdout",
          "output_type": "stream",
          "text": [
            "[LightGBM] [Warning] feature_fraction is set=0.8274373496156274, colsample_bytree=1.0 will be ignored. Current value: feature_fraction=0.8274373496156274\n",
            "[LightGBM] [Warning] feature_fraction is set=0.8274373496156274, colsample_bytree=1.0 will be ignored. Current value: feature_fraction=0.8274373496156274\n",
            "New AUC Score 0.8573723719016648\n",
            "all scores [0.8552049666623531, 0.8569659345192479, 0.8580283043188315, 0.8572573266934187, 0.8573723719016648]\n",
            "Roc AUC score 0.8580283043188315\n",
            "{'boosting_type': 'gbdt', 'class_weight': None, 'colsample_bytree': 1.0, 'importance_type': 'split', 'learning_rate': 0.014230755983383025, 'max_depth': 6, 'min_child_samples': 42, 'min_child_weight': 0.001, 'min_split_gain': 0.0, 'n_estimators': 7080, 'n_jobs': -1, 'num_leaves': 12, 'objective': 'binary', 'random_state': 42, 'reg_alpha': 18, 'reg_lambda': 15, 'silent': True, 'subsample': 0.5604500226341672, 'subsample_for_bin': 200000, 'subsample_freq': 1, 'metric': 'AUC', 'verbosity': 0, 'device': 'gpu', 'feature_fraction': 0.8274373496156274}\n"
          ]
        },
        {
          "name": "stderr",
          "output_type": "stream",
          "text": [
            "\u001b[32m[I 2021-10-04 01:27:23,660]\u001b[0m Trial 86 finished with value: 0.8580283043188315 and parameters: {'boosting_type': 'gbdt', 'subsample': 0.5604500226341672, 'eta': 0.014230755983383025, 'n_estimators': 7080, 'reg_alpha': 18, 'reg_lambda': 15, 'max_depth': 6, 'num_leaves': 12, 'feature_fraction': 0.8274373496156274, 'min_child_samples': 42}. Best is trial 75 with value: 0.8592430823618162.\u001b[0m\n"
          ]
        },
        {
          "name": "stdout",
          "output_type": "stream",
          "text": [
            "filename ./models/lgbm_86 best_model_name./models/best_lgbm  best_trial_number 75\n",
            "STARTING Params: {'metric': 'AUC', 'verbosity': 0, 'device': 'gpu', 'boosting_type': 'gbdt', 'subsample': 0.565370182880762, 'learning_rate': 0.0128446805783558, 'n_estimators': 8560, 'subsample_freq': 1, 'reg_alpha': 16, 'reg_lambda': 14, 'max_depth': 5, 'num_leaves': 11, 'feature_fraction': 0.7652873459656295, 'min_child_samples': 46, 'objective': 'binary'}\n",
            "Param: {'metric': 'AUC', 'verbosity': 0, 'device': 'gpu', 'boosting_type': 'gbdt', 'subsample': 0.565370182880762, 'learning_rate': 0.0128446805783558, 'n_estimators': 8560, 'subsample_freq': 1, 'reg_alpha': 16, 'reg_lambda': 14, 'max_depth': 5, 'num_leaves': 11, 'feature_fraction': 0.7652873459656295, 'min_child_samples': 46, 'objective': 'binary'}\n"
          ]
        },
        {
          "name": "stderr",
          "output_type": "stream",
          "text": [
            "/usr/local/lib/python3.7/dist-packages/sklearn/preprocessing/_label.py:235: DataConversionWarning:\n",
            "\n",
            "A column-vector y was passed when a 1d array was expected. Please change the shape of y to (n_samples, ), for example using ravel().\n",
            "\n",
            "/usr/local/lib/python3.7/dist-packages/sklearn/preprocessing/_label.py:268: DataConversionWarning:\n",
            "\n",
            "A column-vector y was passed when a 1d array was expected. Please change the shape of y to (n_samples, ), for example using ravel().\n",
            "\n"
          ]
        },
        {
          "name": "stdout",
          "output_type": "stream",
          "text": [
            "[LightGBM] [Warning] feature_fraction is set=0.7652873459656295, colsample_bytree=1.0 will be ignored. Current value: feature_fraction=0.7652873459656295\n",
            "[LightGBM] [Warning] feature_fraction is set=0.7652873459656295, colsample_bytree=1.0 will be ignored. Current value: feature_fraction=0.7652873459656295\n",
            "New AUC Score 0.8569251936809148\n"
          ]
        },
        {
          "name": "stderr",
          "output_type": "stream",
          "text": [
            "/usr/local/lib/python3.7/dist-packages/sklearn/preprocessing/_label.py:235: DataConversionWarning:\n",
            "\n",
            "A column-vector y was passed when a 1d array was expected. Please change the shape of y to (n_samples, ), for example using ravel().\n",
            "\n",
            "/usr/local/lib/python3.7/dist-packages/sklearn/preprocessing/_label.py:268: DataConversionWarning:\n",
            "\n",
            "A column-vector y was passed when a 1d array was expected. Please change the shape of y to (n_samples, ), for example using ravel().\n",
            "\n"
          ]
        },
        {
          "name": "stdout",
          "output_type": "stream",
          "text": [
            "[LightGBM] [Warning] feature_fraction is set=0.7652873459656295, colsample_bytree=1.0 will be ignored. Current value: feature_fraction=0.7652873459656295\n",
            "[LightGBM] [Warning] feature_fraction is set=0.7652873459656295, colsample_bytree=1.0 will be ignored. Current value: feature_fraction=0.7652873459656295\n",
            "New AUC Score 0.8575265050466887\n"
          ]
        },
        {
          "name": "stderr",
          "output_type": "stream",
          "text": [
            "/usr/local/lib/python3.7/dist-packages/sklearn/preprocessing/_label.py:235: DataConversionWarning:\n",
            "\n",
            "A column-vector y was passed when a 1d array was expected. Please change the shape of y to (n_samples, ), for example using ravel().\n",
            "\n",
            "/usr/local/lib/python3.7/dist-packages/sklearn/preprocessing/_label.py:268: DataConversionWarning:\n",
            "\n",
            "A column-vector y was passed when a 1d array was expected. Please change the shape of y to (n_samples, ), for example using ravel().\n",
            "\n"
          ]
        },
        {
          "name": "stdout",
          "output_type": "stream",
          "text": [
            "[LightGBM] [Warning] feature_fraction is set=0.7652873459656295, colsample_bytree=1.0 will be ignored. Current value: feature_fraction=0.7652873459656295\n",
            "[LightGBM] [Warning] feature_fraction is set=0.7652873459656295, colsample_bytree=1.0 will be ignored. Current value: feature_fraction=0.7652873459656295\n",
            "New AUC Score 0.8580851401723083\n"
          ]
        },
        {
          "name": "stderr",
          "output_type": "stream",
          "text": [
            "/usr/local/lib/python3.7/dist-packages/sklearn/preprocessing/_label.py:235: DataConversionWarning:\n",
            "\n",
            "A column-vector y was passed when a 1d array was expected. Please change the shape of y to (n_samples, ), for example using ravel().\n",
            "\n",
            "/usr/local/lib/python3.7/dist-packages/sklearn/preprocessing/_label.py:268: DataConversionWarning:\n",
            "\n",
            "A column-vector y was passed when a 1d array was expected. Please change the shape of y to (n_samples, ), for example using ravel().\n",
            "\n"
          ]
        },
        {
          "name": "stdout",
          "output_type": "stream",
          "text": [
            "[LightGBM] [Warning] feature_fraction is set=0.7652873459656295, colsample_bytree=1.0 will be ignored. Current value: feature_fraction=0.7652873459656295\n",
            "[LightGBM] [Warning] feature_fraction is set=0.7652873459656295, colsample_bytree=1.0 will be ignored. Current value: feature_fraction=0.7652873459656295\n",
            "New AUC Score 0.8550941691581038\n"
          ]
        },
        {
          "name": "stderr",
          "output_type": "stream",
          "text": [
            "/usr/local/lib/python3.7/dist-packages/sklearn/preprocessing/_label.py:235: DataConversionWarning:\n",
            "\n",
            "A column-vector y was passed when a 1d array was expected. Please change the shape of y to (n_samples, ), for example using ravel().\n",
            "\n",
            "/usr/local/lib/python3.7/dist-packages/sklearn/preprocessing/_label.py:268: DataConversionWarning:\n",
            "\n",
            "A column-vector y was passed when a 1d array was expected. Please change the shape of y to (n_samples, ), for example using ravel().\n",
            "\n"
          ]
        },
        {
          "name": "stdout",
          "output_type": "stream",
          "text": [
            "[LightGBM] [Warning] feature_fraction is set=0.7652873459656295, colsample_bytree=1.0 will be ignored. Current value: feature_fraction=0.7652873459656295\n",
            "[LightGBM] [Warning] feature_fraction is set=0.7652873459656295, colsample_bytree=1.0 will be ignored. Current value: feature_fraction=0.7652873459656295\n",
            "New AUC Score 0.8574727048960681\n",
            "all scores [0.8569251936809148, 0.8575265050466887, 0.8580851401723083, 0.8550941691581038, 0.8574727048960681]\n",
            "Roc AUC score 0.8580851401723083\n",
            "{'boosting_type': 'gbdt', 'class_weight': None, 'colsample_bytree': 1.0, 'importance_type': 'split', 'learning_rate': 0.0128446805783558, 'max_depth': 5, 'min_child_samples': 46, 'min_child_weight': 0.001, 'min_split_gain': 0.0, 'n_estimators': 8560, 'n_jobs': -1, 'num_leaves': 11, 'objective': 'binary', 'random_state': 42, 'reg_alpha': 16, 'reg_lambda': 14, 'silent': True, 'subsample': 0.565370182880762, 'subsample_for_bin': 200000, 'subsample_freq': 1, 'metric': 'AUC', 'verbosity': 0, 'device': 'gpu', 'feature_fraction': 0.7652873459656295}\n"
          ]
        },
        {
          "name": "stderr",
          "output_type": "stream",
          "text": [
            "\u001b[32m[I 2021-10-04 01:41:50,639]\u001b[0m Trial 87 finished with value: 0.8580851401723083 and parameters: {'boosting_type': 'gbdt', 'subsample': 0.565370182880762, 'eta': 0.0128446805783558, 'n_estimators': 8560, 'reg_alpha': 16, 'reg_lambda': 14, 'max_depth': 5, 'num_leaves': 11, 'feature_fraction': 0.7652873459656295, 'min_child_samples': 46}. Best is trial 75 with value: 0.8592430823618162.\u001b[0m\n"
          ]
        },
        {
          "name": "stdout",
          "output_type": "stream",
          "text": [
            "filename ./models/lgbm_87 best_model_name./models/best_lgbm  best_trial_number 75\n",
            "STARTING Params: {'metric': 'AUC', 'verbosity': 0, 'device': 'gpu', 'boosting_type': 'gbdt', 'subsample': 0.5616549317667362, 'learning_rate': 0.014477078371613305, 'n_estimators': 7533, 'subsample_freq': 1, 'reg_alpha': 17, 'reg_lambda': 12, 'max_depth': 7, 'num_leaves': 12, 'feature_fraction': 0.7069144279647279, 'min_child_samples': 99, 'objective': 'binary'}\n",
            "Param: {'metric': 'AUC', 'verbosity': 0, 'device': 'gpu', 'boosting_type': 'gbdt', 'subsample': 0.5616549317667362, 'learning_rate': 0.014477078371613305, 'n_estimators': 7533, 'subsample_freq': 1, 'reg_alpha': 17, 'reg_lambda': 12, 'max_depth': 7, 'num_leaves': 12, 'feature_fraction': 0.7069144279647279, 'min_child_samples': 99, 'objective': 'binary'}\n"
          ]
        },
        {
          "name": "stderr",
          "output_type": "stream",
          "text": [
            "/usr/local/lib/python3.7/dist-packages/sklearn/preprocessing/_label.py:235: DataConversionWarning:\n",
            "\n",
            "A column-vector y was passed when a 1d array was expected. Please change the shape of y to (n_samples, ), for example using ravel().\n",
            "\n",
            "/usr/local/lib/python3.7/dist-packages/sklearn/preprocessing/_label.py:268: DataConversionWarning:\n",
            "\n",
            "A column-vector y was passed when a 1d array was expected. Please change the shape of y to (n_samples, ), for example using ravel().\n",
            "\n"
          ]
        },
        {
          "name": "stdout",
          "output_type": "stream",
          "text": [
            "[LightGBM] [Warning] feature_fraction is set=0.7069144279647279, colsample_bytree=1.0 will be ignored. Current value: feature_fraction=0.7069144279647279\n",
            "[LightGBM] [Warning] feature_fraction is set=0.7069144279647279, colsample_bytree=1.0 will be ignored. Current value: feature_fraction=0.7069144279647279\n",
            "New AUC Score 0.8566858618557275\n"
          ]
        },
        {
          "name": "stderr",
          "output_type": "stream",
          "text": [
            "/usr/local/lib/python3.7/dist-packages/sklearn/preprocessing/_label.py:235: DataConversionWarning:\n",
            "\n",
            "A column-vector y was passed when a 1d array was expected. Please change the shape of y to (n_samples, ), for example using ravel().\n",
            "\n",
            "/usr/local/lib/python3.7/dist-packages/sklearn/preprocessing/_label.py:268: DataConversionWarning:\n",
            "\n",
            "A column-vector y was passed when a 1d array was expected. Please change the shape of y to (n_samples, ), for example using ravel().\n",
            "\n"
          ]
        },
        {
          "name": "stdout",
          "output_type": "stream",
          "text": [
            "[LightGBM] [Warning] feature_fraction is set=0.7069144279647279, colsample_bytree=1.0 will be ignored. Current value: feature_fraction=0.7069144279647279\n",
            "[LightGBM] [Warning] feature_fraction is set=0.7069144279647279, colsample_bytree=1.0 will be ignored. Current value: feature_fraction=0.7069144279647279\n",
            "New AUC Score 0.8571397877828263\n"
          ]
        },
        {
          "name": "stderr",
          "output_type": "stream",
          "text": [
            "/usr/local/lib/python3.7/dist-packages/sklearn/preprocessing/_label.py:235: DataConversionWarning:\n",
            "\n",
            "A column-vector y was passed when a 1d array was expected. Please change the shape of y to (n_samples, ), for example using ravel().\n",
            "\n",
            "/usr/local/lib/python3.7/dist-packages/sklearn/preprocessing/_label.py:268: DataConversionWarning:\n",
            "\n",
            "A column-vector y was passed when a 1d array was expected. Please change the shape of y to (n_samples, ), for example using ravel().\n",
            "\n"
          ]
        },
        {
          "name": "stdout",
          "output_type": "stream",
          "text": [
            "[LightGBM] [Warning] feature_fraction is set=0.7069144279647279, colsample_bytree=1.0 will be ignored. Current value: feature_fraction=0.7069144279647279\n",
            "[LightGBM] [Warning] feature_fraction is set=0.7069144279647279, colsample_bytree=1.0 will be ignored. Current value: feature_fraction=0.7069144279647279\n",
            "New AUC Score 0.8566878773576238\n"
          ]
        },
        {
          "name": "stderr",
          "output_type": "stream",
          "text": [
            "/usr/local/lib/python3.7/dist-packages/sklearn/preprocessing/_label.py:235: DataConversionWarning:\n",
            "\n",
            "A column-vector y was passed when a 1d array was expected. Please change the shape of y to (n_samples, ), for example using ravel().\n",
            "\n",
            "/usr/local/lib/python3.7/dist-packages/sklearn/preprocessing/_label.py:268: DataConversionWarning:\n",
            "\n",
            "A column-vector y was passed when a 1d array was expected. Please change the shape of y to (n_samples, ), for example using ravel().\n",
            "\n"
          ]
        },
        {
          "name": "stdout",
          "output_type": "stream",
          "text": [
            "[LightGBM] [Warning] feature_fraction is set=0.7069144279647279, colsample_bytree=1.0 will be ignored. Current value: feature_fraction=0.7069144279647279\n",
            "[LightGBM] [Warning] feature_fraction is set=0.7069144279647279, colsample_bytree=1.0 will be ignored. Current value: feature_fraction=0.7069144279647279\n",
            "New AUC Score 0.8564901628715943\n"
          ]
        },
        {
          "name": "stderr",
          "output_type": "stream",
          "text": [
            "/usr/local/lib/python3.7/dist-packages/sklearn/preprocessing/_label.py:235: DataConversionWarning:\n",
            "\n",
            "A column-vector y was passed when a 1d array was expected. Please change the shape of y to (n_samples, ), for example using ravel().\n",
            "\n",
            "/usr/local/lib/python3.7/dist-packages/sklearn/preprocessing/_label.py:268: DataConversionWarning:\n",
            "\n",
            "A column-vector y was passed when a 1d array was expected. Please change the shape of y to (n_samples, ), for example using ravel().\n",
            "\n"
          ]
        },
        {
          "name": "stdout",
          "output_type": "stream",
          "text": [
            "[LightGBM] [Warning] feature_fraction is set=0.7069144279647279, colsample_bytree=1.0 will be ignored. Current value: feature_fraction=0.7069144279647279\n",
            "[LightGBM] [Warning] feature_fraction is set=0.7069144279647279, colsample_bytree=1.0 will be ignored. Current value: feature_fraction=0.7069144279647279\n",
            "New AUC Score 0.858126289811026\n",
            "all scores [0.8566858618557275, 0.8571397877828263, 0.8566878773576238, 0.8564901628715943, 0.858126289811026]\n",
            "Roc AUC score 0.858126289811026\n",
            "{'boosting_type': 'gbdt', 'class_weight': None, 'colsample_bytree': 1.0, 'importance_type': 'split', 'learning_rate': 0.014477078371613305, 'max_depth': 7, 'min_child_samples': 99, 'min_child_weight': 0.001, 'min_split_gain': 0.0, 'n_estimators': 7533, 'n_jobs': -1, 'num_leaves': 12, 'objective': 'binary', 'random_state': 42, 'reg_alpha': 17, 'reg_lambda': 12, 'silent': True, 'subsample': 0.5616549317667362, 'subsample_for_bin': 200000, 'subsample_freq': 1, 'metric': 'AUC', 'verbosity': 0, 'device': 'gpu', 'feature_fraction': 0.7069144279647279}\n"
          ]
        },
        {
          "name": "stderr",
          "output_type": "stream",
          "text": [
            "\u001b[32m[I 2021-10-04 01:56:02,210]\u001b[0m Trial 88 finished with value: 0.858126289811026 and parameters: {'boosting_type': 'gbdt', 'subsample': 0.5616549317667362, 'eta': 0.014477078371613305, 'n_estimators': 7533, 'reg_alpha': 17, 'reg_lambda': 12, 'max_depth': 7, 'num_leaves': 12, 'feature_fraction': 0.7069144279647279, 'min_child_samples': 99}. Best is trial 75 with value: 0.8592430823618162.\u001b[0m\n"
          ]
        },
        {
          "name": "stdout",
          "output_type": "stream",
          "text": [
            "filename ./models/lgbm_88 best_model_name./models/best_lgbm  best_trial_number 75\n",
            "STARTING Params: {'metric': 'AUC', 'verbosity': 0, 'device': 'gpu', 'boosting_type': 'gbdt', 'subsample': 0.5625220618209849, 'learning_rate': 0.014614747397305027, 'n_estimators': 7540, 'subsample_freq': 1, 'reg_alpha': 17, 'reg_lambda': 12, 'max_depth': 7, 'num_leaves': 12, 'feature_fraction': 0.6747989767632698, 'min_child_samples': 100, 'objective': 'binary'}\n",
            "Param: {'metric': 'AUC', 'verbosity': 0, 'device': 'gpu', 'boosting_type': 'gbdt', 'subsample': 0.5625220618209849, 'learning_rate': 0.014614747397305027, 'n_estimators': 7540, 'subsample_freq': 1, 'reg_alpha': 17, 'reg_lambda': 12, 'max_depth': 7, 'num_leaves': 12, 'feature_fraction': 0.6747989767632698, 'min_child_samples': 100, 'objective': 'binary'}\n"
          ]
        },
        {
          "name": "stderr",
          "output_type": "stream",
          "text": [
            "/usr/local/lib/python3.7/dist-packages/sklearn/preprocessing/_label.py:235: DataConversionWarning:\n",
            "\n",
            "A column-vector y was passed when a 1d array was expected. Please change the shape of y to (n_samples, ), for example using ravel().\n",
            "\n",
            "/usr/local/lib/python3.7/dist-packages/sklearn/preprocessing/_label.py:268: DataConversionWarning:\n",
            "\n",
            "A column-vector y was passed when a 1d array was expected. Please change the shape of y to (n_samples, ), for example using ravel().\n",
            "\n"
          ]
        },
        {
          "name": "stdout",
          "output_type": "stream",
          "text": [
            "[LightGBM] [Warning] feature_fraction is set=0.6747989767632698, colsample_bytree=1.0 will be ignored. Current value: feature_fraction=0.6747989767632698\n",
            "[LightGBM] [Warning] feature_fraction is set=0.6747989767632698, colsample_bytree=1.0 will be ignored. Current value: feature_fraction=0.6747989767632698\n",
            "New AUC Score 0.8561305113331982\n"
          ]
        },
        {
          "name": "stderr",
          "output_type": "stream",
          "text": [
            "/usr/local/lib/python3.7/dist-packages/sklearn/preprocessing/_label.py:235: DataConversionWarning:\n",
            "\n",
            "A column-vector y was passed when a 1d array was expected. Please change the shape of y to (n_samples, ), for example using ravel().\n",
            "\n",
            "/usr/local/lib/python3.7/dist-packages/sklearn/preprocessing/_label.py:268: DataConversionWarning:\n",
            "\n",
            "A column-vector y was passed when a 1d array was expected. Please change the shape of y to (n_samples, ), for example using ravel().\n",
            "\n"
          ]
        },
        {
          "name": "stdout",
          "output_type": "stream",
          "text": [
            "[LightGBM] [Warning] feature_fraction is set=0.6747989767632698, colsample_bytree=1.0 will be ignored. Current value: feature_fraction=0.6747989767632698\n",
            "[LightGBM] [Warning] feature_fraction is set=0.6747989767632698, colsample_bytree=1.0 will be ignored. Current value: feature_fraction=0.6747989767632698\n",
            "New AUC Score 0.8578085680120817\n"
          ]
        },
        {
          "name": "stderr",
          "output_type": "stream",
          "text": [
            "/usr/local/lib/python3.7/dist-packages/sklearn/preprocessing/_label.py:235: DataConversionWarning:\n",
            "\n",
            "A column-vector y was passed when a 1d array was expected. Please change the shape of y to (n_samples, ), for example using ravel().\n",
            "\n",
            "/usr/local/lib/python3.7/dist-packages/sklearn/preprocessing/_label.py:268: DataConversionWarning:\n",
            "\n",
            "A column-vector y was passed when a 1d array was expected. Please change the shape of y to (n_samples, ), for example using ravel().\n",
            "\n"
          ]
        },
        {
          "name": "stdout",
          "output_type": "stream",
          "text": [
            "[LightGBM] [Warning] feature_fraction is set=0.6747989767632698, colsample_bytree=1.0 will be ignored. Current value: feature_fraction=0.6747989767632698\n",
            "[LightGBM] [Warning] feature_fraction is set=0.6747989767632698, colsample_bytree=1.0 will be ignored. Current value: feature_fraction=0.6747989767632698\n",
            "New AUC Score 0.8579231013198461\n"
          ]
        },
        {
          "name": "stderr",
          "output_type": "stream",
          "text": [
            "/usr/local/lib/python3.7/dist-packages/sklearn/preprocessing/_label.py:235: DataConversionWarning:\n",
            "\n",
            "A column-vector y was passed when a 1d array was expected. Please change the shape of y to (n_samples, ), for example using ravel().\n",
            "\n",
            "/usr/local/lib/python3.7/dist-packages/sklearn/preprocessing/_label.py:268: DataConversionWarning:\n",
            "\n",
            "A column-vector y was passed when a 1d array was expected. Please change the shape of y to (n_samples, ), for example using ravel().\n",
            "\n"
          ]
        },
        {
          "name": "stdout",
          "output_type": "stream",
          "text": [
            "[LightGBM] [Warning] feature_fraction is set=0.6747989767632698, colsample_bytree=1.0 will be ignored. Current value: feature_fraction=0.6747989767632698\n",
            "[LightGBM] [Warning] feature_fraction is set=0.6747989767632698, colsample_bytree=1.0 will be ignored. Current value: feature_fraction=0.6747989767632698\n",
            "New AUC Score 0.8567409327075435\n"
          ]
        },
        {
          "name": "stderr",
          "output_type": "stream",
          "text": [
            "/usr/local/lib/python3.7/dist-packages/sklearn/preprocessing/_label.py:235: DataConversionWarning:\n",
            "\n",
            "A column-vector y was passed when a 1d array was expected. Please change the shape of y to (n_samples, ), for example using ravel().\n",
            "\n",
            "/usr/local/lib/python3.7/dist-packages/sklearn/preprocessing/_label.py:268: DataConversionWarning:\n",
            "\n",
            "A column-vector y was passed when a 1d array was expected. Please change the shape of y to (n_samples, ), for example using ravel().\n",
            "\n"
          ]
        },
        {
          "name": "stdout",
          "output_type": "stream",
          "text": [
            "[LightGBM] [Warning] feature_fraction is set=0.6747989767632698, colsample_bytree=1.0 will be ignored. Current value: feature_fraction=0.6747989767632698\n",
            "[LightGBM] [Warning] feature_fraction is set=0.6747989767632698, colsample_bytree=1.0 will be ignored. Current value: feature_fraction=0.6747989767632698\n",
            "New AUC Score 0.8567587898243454\n",
            "all scores [0.8561305113331982, 0.8578085680120817, 0.8579231013198461, 0.8567409327075435, 0.8567587898243454]\n",
            "Roc AUC score 0.8579231013198461\n",
            "{'boosting_type': 'gbdt', 'class_weight': None, 'colsample_bytree': 1.0, 'importance_type': 'split', 'learning_rate': 0.014614747397305027, 'max_depth': 7, 'min_child_samples': 100, 'min_child_weight': 0.001, 'min_split_gain': 0.0, 'n_estimators': 7540, 'n_jobs': -1, 'num_leaves': 12, 'objective': 'binary', 'random_state': 42, 'reg_alpha': 17, 'reg_lambda': 12, 'silent': True, 'subsample': 0.5625220618209849, 'subsample_for_bin': 200000, 'subsample_freq': 1, 'metric': 'AUC', 'verbosity': 0, 'device': 'gpu', 'feature_fraction': 0.6747989767632698}\n"
          ]
        },
        {
          "name": "stderr",
          "output_type": "stream",
          "text": [
            "\u001b[32m[I 2021-10-04 02:10:54,254]\u001b[0m Trial 89 finished with value: 0.8579231013198461 and parameters: {'boosting_type': 'gbdt', 'subsample': 0.5625220618209849, 'eta': 0.014614747397305027, 'n_estimators': 7540, 'reg_alpha': 17, 'reg_lambda': 12, 'max_depth': 7, 'num_leaves': 12, 'feature_fraction': 0.6747989767632698, 'min_child_samples': 100}. Best is trial 75 with value: 0.8592430823618162.\u001b[0m\n"
          ]
        },
        {
          "name": "stdout",
          "output_type": "stream",
          "text": [
            "filename ./models/lgbm_89 best_model_name./models/best_lgbm  best_trial_number 75\n",
            "STARTING Params: {'metric': 'AUC', 'verbosity': 0, 'device': 'gpu', 'boosting_type': 'gbdt', 'subsample': 0.5688952791499502, 'learning_rate': 0.014793714786473192, 'n_estimators': 6653, 'subsample_freq': 1, 'reg_alpha': 16, 'reg_lambda': 13, 'max_depth': 7, 'num_leaves': 11, 'feature_fraction': 0.7454370388546631, 'min_child_samples': 62, 'objective': 'binary'}\n",
            "Param: {'metric': 'AUC', 'verbosity': 0, 'device': 'gpu', 'boosting_type': 'gbdt', 'subsample': 0.5688952791499502, 'learning_rate': 0.014793714786473192, 'n_estimators': 6653, 'subsample_freq': 1, 'reg_alpha': 16, 'reg_lambda': 13, 'max_depth': 7, 'num_leaves': 11, 'feature_fraction': 0.7454370388546631, 'min_child_samples': 62, 'objective': 'binary'}\n"
          ]
        },
        {
          "name": "stderr",
          "output_type": "stream",
          "text": [
            "/usr/local/lib/python3.7/dist-packages/sklearn/preprocessing/_label.py:235: DataConversionWarning:\n",
            "\n",
            "A column-vector y was passed when a 1d array was expected. Please change the shape of y to (n_samples, ), for example using ravel().\n",
            "\n",
            "/usr/local/lib/python3.7/dist-packages/sklearn/preprocessing/_label.py:268: DataConversionWarning:\n",
            "\n",
            "A column-vector y was passed when a 1d array was expected. Please change the shape of y to (n_samples, ), for example using ravel().\n",
            "\n"
          ]
        },
        {
          "name": "stdout",
          "output_type": "stream",
          "text": [
            "[LightGBM] [Warning] feature_fraction is set=0.7454370388546631, colsample_bytree=1.0 will be ignored. Current value: feature_fraction=0.7454370388546631\n",
            "[LightGBM] [Warning] feature_fraction is set=0.7454370388546631, colsample_bytree=1.0 will be ignored. Current value: feature_fraction=0.7454370388546631\n",
            "New AUC Score 0.8570763135231034\n"
          ]
        },
        {
          "name": "stderr",
          "output_type": "stream",
          "text": [
            "/usr/local/lib/python3.7/dist-packages/sklearn/preprocessing/_label.py:235: DataConversionWarning:\n",
            "\n",
            "A column-vector y was passed when a 1d array was expected. Please change the shape of y to (n_samples, ), for example using ravel().\n",
            "\n",
            "/usr/local/lib/python3.7/dist-packages/sklearn/preprocessing/_label.py:268: DataConversionWarning:\n",
            "\n",
            "A column-vector y was passed when a 1d array was expected. Please change the shape of y to (n_samples, ), for example using ravel().\n",
            "\n"
          ]
        },
        {
          "name": "stdout",
          "output_type": "stream",
          "text": [
            "[LightGBM] [Warning] feature_fraction is set=0.7454370388546631, colsample_bytree=1.0 will be ignored. Current value: feature_fraction=0.7454370388546631\n",
            "[LightGBM] [Warning] feature_fraction is set=0.7454370388546631, colsample_bytree=1.0 will be ignored. Current value: feature_fraction=0.7454370388546631\n",
            "New AUC Score 0.8562345875311234\n"
          ]
        },
        {
          "name": "stderr",
          "output_type": "stream",
          "text": [
            "/usr/local/lib/python3.7/dist-packages/sklearn/preprocessing/_label.py:235: DataConversionWarning:\n",
            "\n",
            "A column-vector y was passed when a 1d array was expected. Please change the shape of y to (n_samples, ), for example using ravel().\n",
            "\n",
            "/usr/local/lib/python3.7/dist-packages/sklearn/preprocessing/_label.py:268: DataConversionWarning:\n",
            "\n",
            "A column-vector y was passed when a 1d array was expected. Please change the shape of y to (n_samples, ), for example using ravel().\n",
            "\n"
          ]
        },
        {
          "name": "stdout",
          "output_type": "stream",
          "text": [
            "[LightGBM] [Warning] feature_fraction is set=0.7454370388546631, colsample_bytree=1.0 will be ignored. Current value: feature_fraction=0.7454370388546631\n",
            "[LightGBM] [Warning] feature_fraction is set=0.7454370388546631, colsample_bytree=1.0 will be ignored. Current value: feature_fraction=0.7454370388546631\n",
            "New AUC Score 0.8560727893788875\n"
          ]
        },
        {
          "name": "stderr",
          "output_type": "stream",
          "text": [
            "/usr/local/lib/python3.7/dist-packages/sklearn/preprocessing/_label.py:235: DataConversionWarning:\n",
            "\n",
            "A column-vector y was passed when a 1d array was expected. Please change the shape of y to (n_samples, ), for example using ravel().\n",
            "\n",
            "/usr/local/lib/python3.7/dist-packages/sklearn/preprocessing/_label.py:268: DataConversionWarning:\n",
            "\n",
            "A column-vector y was passed when a 1d array was expected. Please change the shape of y to (n_samples, ), for example using ravel().\n",
            "\n"
          ]
        },
        {
          "name": "stdout",
          "output_type": "stream",
          "text": [
            "[LightGBM] [Warning] feature_fraction is set=0.7454370388546631, colsample_bytree=1.0 will be ignored. Current value: feature_fraction=0.7454370388546631\n",
            "[LightGBM] [Warning] feature_fraction is set=0.7454370388546631, colsample_bytree=1.0 will be ignored. Current value: feature_fraction=0.7454370388546631\n",
            "New AUC Score 0.8566508867228193\n"
          ]
        },
        {
          "name": "stderr",
          "output_type": "stream",
          "text": [
            "/usr/local/lib/python3.7/dist-packages/sklearn/preprocessing/_label.py:235: DataConversionWarning:\n",
            "\n",
            "A column-vector y was passed when a 1d array was expected. Please change the shape of y to (n_samples, ), for example using ravel().\n",
            "\n",
            "/usr/local/lib/python3.7/dist-packages/sklearn/preprocessing/_label.py:268: DataConversionWarning:\n",
            "\n",
            "A column-vector y was passed when a 1d array was expected. Please change the shape of y to (n_samples, ), for example using ravel().\n",
            "\n"
          ]
        },
        {
          "name": "stdout",
          "output_type": "stream",
          "text": [
            "[LightGBM] [Warning] feature_fraction is set=0.7454370388546631, colsample_bytree=1.0 will be ignored. Current value: feature_fraction=0.7454370388546631\n",
            "[LightGBM] [Warning] feature_fraction is set=0.7454370388546631, colsample_bytree=1.0 will be ignored. Current value: feature_fraction=0.7454370388546631\n",
            "New AUC Score 0.8590852516133133\n",
            "all scores [0.8570763135231034, 0.8562345875311234, 0.8560727893788875, 0.8566508867228193, 0.8590852516133133]\n",
            "Roc AUC score 0.8590852516133133\n",
            "{'boosting_type': 'gbdt', 'class_weight': None, 'colsample_bytree': 1.0, 'importance_type': 'split', 'learning_rate': 0.014793714786473192, 'max_depth': 7, 'min_child_samples': 62, 'min_child_weight': 0.001, 'min_split_gain': 0.0, 'n_estimators': 6653, 'n_jobs': -1, 'num_leaves': 11, 'objective': 'binary', 'random_state': 42, 'reg_alpha': 16, 'reg_lambda': 13, 'silent': True, 'subsample': 0.5688952791499502, 'subsample_for_bin': 200000, 'subsample_freq': 1, 'metric': 'AUC', 'verbosity': 0, 'device': 'gpu', 'feature_fraction': 0.7454370388546631}\n"
          ]
        },
        {
          "name": "stderr",
          "output_type": "stream",
          "text": [
            "\u001b[32m[I 2021-10-04 02:22:57,276]\u001b[0m Trial 90 finished with value: 0.8590852516133133 and parameters: {'boosting_type': 'gbdt', 'subsample': 0.5688952791499502, 'eta': 0.014793714786473192, 'n_estimators': 6653, 'reg_alpha': 16, 'reg_lambda': 13, 'max_depth': 7, 'num_leaves': 11, 'feature_fraction': 0.7454370388546631, 'min_child_samples': 62}. Best is trial 75 with value: 0.8592430823618162.\u001b[0m\n"
          ]
        },
        {
          "name": "stdout",
          "output_type": "stream",
          "text": [
            "filename ./models/lgbm_90 best_model_name./models/best_lgbm  best_trial_number 75\n",
            "STARTING Params: {'metric': 'AUC', 'verbosity': 0, 'device': 'gpu', 'boosting_type': 'gbdt', 'subsample': 0.5742618041248174, 'learning_rate': 0.014996246516231658, 'n_estimators': 7796, 'subsample_freq': 1, 'reg_alpha': 16, 'reg_lambda': 12, 'max_depth': 7, 'num_leaves': 11, 'feature_fraction': 0.7072051279203047, 'min_child_samples': 63, 'objective': 'binary'}\n",
            "Param: {'metric': 'AUC', 'verbosity': 0, 'device': 'gpu', 'boosting_type': 'gbdt', 'subsample': 0.5742618041248174, 'learning_rate': 0.014996246516231658, 'n_estimators': 7796, 'subsample_freq': 1, 'reg_alpha': 16, 'reg_lambda': 12, 'max_depth': 7, 'num_leaves': 11, 'feature_fraction': 0.7072051279203047, 'min_child_samples': 63, 'objective': 'binary'}\n"
          ]
        },
        {
          "name": "stderr",
          "output_type": "stream",
          "text": [
            "/usr/local/lib/python3.7/dist-packages/sklearn/preprocessing/_label.py:235: DataConversionWarning:\n",
            "\n",
            "A column-vector y was passed when a 1d array was expected. Please change the shape of y to (n_samples, ), for example using ravel().\n",
            "\n",
            "/usr/local/lib/python3.7/dist-packages/sklearn/preprocessing/_label.py:268: DataConversionWarning:\n",
            "\n",
            "A column-vector y was passed when a 1d array was expected. Please change the shape of y to (n_samples, ), for example using ravel().\n",
            "\n"
          ]
        },
        {
          "name": "stdout",
          "output_type": "stream",
          "text": [
            "[LightGBM] [Warning] feature_fraction is set=0.7072051279203047, colsample_bytree=1.0 will be ignored. Current value: feature_fraction=0.7072051279203047\n",
            "[LightGBM] [Warning] feature_fraction is set=0.7072051279203047, colsample_bytree=1.0 will be ignored. Current value: feature_fraction=0.7072051279203047\n",
            "New AUC Score 0.85716682970827\n"
          ]
        },
        {
          "name": "stderr",
          "output_type": "stream",
          "text": [
            "/usr/local/lib/python3.7/dist-packages/sklearn/preprocessing/_label.py:235: DataConversionWarning:\n",
            "\n",
            "A column-vector y was passed when a 1d array was expected. Please change the shape of y to (n_samples, ), for example using ravel().\n",
            "\n",
            "/usr/local/lib/python3.7/dist-packages/sklearn/preprocessing/_label.py:268: DataConversionWarning:\n",
            "\n",
            "A column-vector y was passed when a 1d array was expected. Please change the shape of y to (n_samples, ), for example using ravel().\n",
            "\n"
          ]
        },
        {
          "name": "stdout",
          "output_type": "stream",
          "text": [
            "[LightGBM] [Warning] feature_fraction is set=0.7072051279203047, colsample_bytree=1.0 will be ignored. Current value: feature_fraction=0.7072051279203047\n",
            "[LightGBM] [Warning] feature_fraction is set=0.7072051279203047, colsample_bytree=1.0 will be ignored. Current value: feature_fraction=0.7072051279203047\n",
            "New AUC Score 0.8574691386927125\n"
          ]
        },
        {
          "name": "stderr",
          "output_type": "stream",
          "text": [
            "/usr/local/lib/python3.7/dist-packages/sklearn/preprocessing/_label.py:235: DataConversionWarning:\n",
            "\n",
            "A column-vector y was passed when a 1d array was expected. Please change the shape of y to (n_samples, ), for example using ravel().\n",
            "\n",
            "/usr/local/lib/python3.7/dist-packages/sklearn/preprocessing/_label.py:268: DataConversionWarning:\n",
            "\n",
            "A column-vector y was passed when a 1d array was expected. Please change the shape of y to (n_samples, ), for example using ravel().\n",
            "\n"
          ]
        },
        {
          "name": "stdout",
          "output_type": "stream",
          "text": [
            "[LightGBM] [Warning] feature_fraction is set=0.7072051279203047, colsample_bytree=1.0 will be ignored. Current value: feature_fraction=0.7072051279203047\n",
            "[LightGBM] [Warning] feature_fraction is set=0.7072051279203047, colsample_bytree=1.0 will be ignored. Current value: feature_fraction=0.7072051279203047\n",
            "New AUC Score 0.8563128386047498\n"
          ]
        },
        {
          "name": "stderr",
          "output_type": "stream",
          "text": [
            "/usr/local/lib/python3.7/dist-packages/sklearn/preprocessing/_label.py:235: DataConversionWarning:\n",
            "\n",
            "A column-vector y was passed when a 1d array was expected. Please change the shape of y to (n_samples, ), for example using ravel().\n",
            "\n",
            "/usr/local/lib/python3.7/dist-packages/sklearn/preprocessing/_label.py:268: DataConversionWarning:\n",
            "\n",
            "A column-vector y was passed when a 1d array was expected. Please change the shape of y to (n_samples, ), for example using ravel().\n",
            "\n"
          ]
        },
        {
          "name": "stdout",
          "output_type": "stream",
          "text": [
            "[LightGBM] [Warning] feature_fraction is set=0.7072051279203047, colsample_bytree=1.0 will be ignored. Current value: feature_fraction=0.7072051279203047\n",
            "[LightGBM] [Warning] feature_fraction is set=0.7072051279203047, colsample_bytree=1.0 will be ignored. Current value: feature_fraction=0.7072051279203047\n",
            "New AUC Score 0.8563880955755592\n"
          ]
        },
        {
          "name": "stderr",
          "output_type": "stream",
          "text": [
            "/usr/local/lib/python3.7/dist-packages/sklearn/preprocessing/_label.py:235: DataConversionWarning:\n",
            "\n",
            "A column-vector y was passed when a 1d array was expected. Please change the shape of y to (n_samples, ), for example using ravel().\n",
            "\n",
            "/usr/local/lib/python3.7/dist-packages/sklearn/preprocessing/_label.py:268: DataConversionWarning:\n",
            "\n",
            "A column-vector y was passed when a 1d array was expected. Please change the shape of y to (n_samples, ), for example using ravel().\n",
            "\n"
          ]
        },
        {
          "name": "stdout",
          "output_type": "stream",
          "text": [
            "[LightGBM] [Warning] feature_fraction is set=0.7072051279203047, colsample_bytree=1.0 will be ignored. Current value: feature_fraction=0.7072051279203047\n",
            "[LightGBM] [Warning] feature_fraction is set=0.7072051279203047, colsample_bytree=1.0 will be ignored. Current value: feature_fraction=0.7072051279203047\n",
            "New AUC Score 0.8577627839690034\n",
            "all scores [0.85716682970827, 0.8574691386927125, 0.8563128386047498, 0.8563880955755592, 0.8577627839690034]\n",
            "Roc AUC score 0.8577627839690034\n",
            "{'boosting_type': 'gbdt', 'class_weight': None, 'colsample_bytree': 1.0, 'importance_type': 'split', 'learning_rate': 0.014996246516231658, 'max_depth': 7, 'min_child_samples': 63, 'min_child_weight': 0.001, 'min_split_gain': 0.0, 'n_estimators': 7796, 'n_jobs': -1, 'num_leaves': 11, 'objective': 'binary', 'random_state': 42, 'reg_alpha': 16, 'reg_lambda': 12, 'silent': True, 'subsample': 0.5742618041248174, 'subsample_for_bin': 200000, 'subsample_freq': 1, 'metric': 'AUC', 'verbosity': 0, 'device': 'gpu', 'feature_fraction': 0.7072051279203047}\n"
          ]
        },
        {
          "name": "stderr",
          "output_type": "stream",
          "text": [
            "\u001b[32m[I 2021-10-04 02:37:11,242]\u001b[0m Trial 91 finished with value: 0.8577627839690034 and parameters: {'boosting_type': 'gbdt', 'subsample': 0.5742618041248174, 'eta': 0.014996246516231658, 'n_estimators': 7796, 'reg_alpha': 16, 'reg_lambda': 12, 'max_depth': 7, 'num_leaves': 11, 'feature_fraction': 0.7072051279203047, 'min_child_samples': 63}. Best is trial 75 with value: 0.8592430823618162.\u001b[0m\n"
          ]
        },
        {
          "name": "stdout",
          "output_type": "stream",
          "text": [
            "filename ./models/lgbm_91 best_model_name./models/best_lgbm  best_trial_number 75\n",
            "STARTING Params: {'metric': 'AUC', 'verbosity': 0, 'device': 'gpu', 'boosting_type': 'gbdt', 'subsample': 0.5719741365522335, 'learning_rate': 0.014394994363018467, 'n_estimators': 6597, 'subsample_freq': 1, 'reg_alpha': 17, 'reg_lambda': 13, 'max_depth': 7, 'num_leaves': 12, 'feature_fraction': 0.7427371407335251, 'min_child_samples': 98, 'objective': 'binary'}\n",
            "Param: {'metric': 'AUC', 'verbosity': 0, 'device': 'gpu', 'boosting_type': 'gbdt', 'subsample': 0.5719741365522335, 'learning_rate': 0.014394994363018467, 'n_estimators': 6597, 'subsample_freq': 1, 'reg_alpha': 17, 'reg_lambda': 13, 'max_depth': 7, 'num_leaves': 12, 'feature_fraction': 0.7427371407335251, 'min_child_samples': 98, 'objective': 'binary'}\n"
          ]
        },
        {
          "name": "stderr",
          "output_type": "stream",
          "text": [
            "/usr/local/lib/python3.7/dist-packages/sklearn/preprocessing/_label.py:235: DataConversionWarning:\n",
            "\n",
            "A column-vector y was passed when a 1d array was expected. Please change the shape of y to (n_samples, ), for example using ravel().\n",
            "\n",
            "/usr/local/lib/python3.7/dist-packages/sklearn/preprocessing/_label.py:268: DataConversionWarning:\n",
            "\n",
            "A column-vector y was passed when a 1d array was expected. Please change the shape of y to (n_samples, ), for example using ravel().\n",
            "\n"
          ]
        },
        {
          "name": "stdout",
          "output_type": "stream",
          "text": [
            "[LightGBM] [Warning] feature_fraction is set=0.7427371407335251, colsample_bytree=1.0 will be ignored. Current value: feature_fraction=0.7427371407335251\n",
            "[LightGBM] [Warning] feature_fraction is set=0.7427371407335251, colsample_bytree=1.0 will be ignored. Current value: feature_fraction=0.7427371407335251\n",
            "New AUC Score 0.8572384077756179\n"
          ]
        },
        {
          "name": "stderr",
          "output_type": "stream",
          "text": [
            "/usr/local/lib/python3.7/dist-packages/sklearn/preprocessing/_label.py:235: DataConversionWarning:\n",
            "\n",
            "A column-vector y was passed when a 1d array was expected. Please change the shape of y to (n_samples, ), for example using ravel().\n",
            "\n",
            "/usr/local/lib/python3.7/dist-packages/sklearn/preprocessing/_label.py:268: DataConversionWarning:\n",
            "\n",
            "A column-vector y was passed when a 1d array was expected. Please change the shape of y to (n_samples, ), for example using ravel().\n",
            "\n"
          ]
        },
        {
          "name": "stdout",
          "output_type": "stream",
          "text": [
            "[LightGBM] [Warning] feature_fraction is set=0.7427371407335251, colsample_bytree=1.0 will be ignored. Current value: feature_fraction=0.7427371407335251\n",
            "[LightGBM] [Warning] feature_fraction is set=0.7427371407335251, colsample_bytree=1.0 will be ignored. Current value: feature_fraction=0.7427371407335251\n",
            "New AUC Score 0.8563010066936172\n"
          ]
        },
        {
          "name": "stderr",
          "output_type": "stream",
          "text": [
            "/usr/local/lib/python3.7/dist-packages/sklearn/preprocessing/_label.py:235: DataConversionWarning:\n",
            "\n",
            "A column-vector y was passed when a 1d array was expected. Please change the shape of y to (n_samples, ), for example using ravel().\n",
            "\n",
            "/usr/local/lib/python3.7/dist-packages/sklearn/preprocessing/_label.py:268: DataConversionWarning:\n",
            "\n",
            "A column-vector y was passed when a 1d array was expected. Please change the shape of y to (n_samples, ), for example using ravel().\n",
            "\n"
          ]
        },
        {
          "name": "stdout",
          "output_type": "stream",
          "text": [
            "[LightGBM] [Warning] feature_fraction is set=0.7427371407335251, colsample_bytree=1.0 will be ignored. Current value: feature_fraction=0.7427371407335251\n",
            "[LightGBM] [Warning] feature_fraction is set=0.7427371407335251, colsample_bytree=1.0 will be ignored. Current value: feature_fraction=0.7427371407335251\n",
            "New AUC Score 0.8563919712792057\n"
          ]
        },
        {
          "name": "stderr",
          "output_type": "stream",
          "text": [
            "/usr/local/lib/python3.7/dist-packages/sklearn/preprocessing/_label.py:235: DataConversionWarning:\n",
            "\n",
            "A column-vector y was passed when a 1d array was expected. Please change the shape of y to (n_samples, ), for example using ravel().\n",
            "\n",
            "/usr/local/lib/python3.7/dist-packages/sklearn/preprocessing/_label.py:268: DataConversionWarning:\n",
            "\n",
            "A column-vector y was passed when a 1d array was expected. Please change the shape of y to (n_samples, ), for example using ravel().\n",
            "\n"
          ]
        },
        {
          "name": "stdout",
          "output_type": "stream",
          "text": [
            "[LightGBM] [Warning] feature_fraction is set=0.7427371407335251, colsample_bytree=1.0 will be ignored. Current value: feature_fraction=0.7427371407335251\n",
            "[LightGBM] [Warning] feature_fraction is set=0.7427371407335251, colsample_bytree=1.0 will be ignored. Current value: feature_fraction=0.7427371407335251\n",
            "New AUC Score 0.8583052941794512\n"
          ]
        },
        {
          "name": "stderr",
          "output_type": "stream",
          "text": [
            "/usr/local/lib/python3.7/dist-packages/sklearn/preprocessing/_label.py:235: DataConversionWarning:\n",
            "\n",
            "A column-vector y was passed when a 1d array was expected. Please change the shape of y to (n_samples, ), for example using ravel().\n",
            "\n",
            "/usr/local/lib/python3.7/dist-packages/sklearn/preprocessing/_label.py:268: DataConversionWarning:\n",
            "\n",
            "A column-vector y was passed when a 1d array was expected. Please change the shape of y to (n_samples, ), for example using ravel().\n",
            "\n"
          ]
        },
        {
          "name": "stdout",
          "output_type": "stream",
          "text": [
            "[LightGBM] [Warning] feature_fraction is set=0.7427371407335251, colsample_bytree=1.0 will be ignored. Current value: feature_fraction=0.7427371407335251\n",
            "[LightGBM] [Warning] feature_fraction is set=0.7427371407335251, colsample_bytree=1.0 will be ignored. Current value: feature_fraction=0.7427371407335251\n",
            "New AUC Score 0.8566945804639308\n",
            "all scores [0.8572384077756179, 0.8563010066936172, 0.8563919712792057, 0.8583052941794512, 0.8566945804639308]\n",
            "Roc AUC score 0.8583052941794512\n",
            "{'boosting_type': 'gbdt', 'class_weight': None, 'colsample_bytree': 1.0, 'importance_type': 'split', 'learning_rate': 0.014394994363018467, 'max_depth': 7, 'min_child_samples': 98, 'min_child_weight': 0.001, 'min_split_gain': 0.0, 'n_estimators': 6597, 'n_jobs': -1, 'num_leaves': 12, 'objective': 'binary', 'random_state': 42, 'reg_alpha': 17, 'reg_lambda': 13, 'silent': True, 'subsample': 0.5719741365522335, 'subsample_for_bin': 200000, 'subsample_freq': 1, 'metric': 'AUC', 'verbosity': 0, 'device': 'gpu', 'feature_fraction': 0.7427371407335251}\n"
          ]
        },
        {
          "name": "stderr",
          "output_type": "stream",
          "text": [
            "\u001b[32m[I 2021-10-04 02:49:32,793]\u001b[0m Trial 92 finished with value: 0.8583052941794512 and parameters: {'boosting_type': 'gbdt', 'subsample': 0.5719741365522335, 'eta': 0.014394994363018467, 'n_estimators': 6597, 'reg_alpha': 17, 'reg_lambda': 13, 'max_depth': 7, 'num_leaves': 12, 'feature_fraction': 0.7427371407335251, 'min_child_samples': 98}. Best is trial 75 with value: 0.8592430823618162.\u001b[0m\n"
          ]
        },
        {
          "name": "stdout",
          "output_type": "stream",
          "text": [
            "filename ./models/lgbm_92 best_model_name./models/best_lgbm  best_trial_number 75\n",
            "STARTING Params: {'metric': 'AUC', 'verbosity': 0, 'device': 'gpu', 'boosting_type': 'gbdt', 'subsample': 0.5724531528521719, 'learning_rate': 0.014459439855236091, 'n_estimators': 6722, 'subsample_freq': 1, 'reg_alpha': 17, 'reg_lambda': 13, 'max_depth': 7, 'num_leaves': 12, 'feature_fraction': 0.720858634187364, 'min_child_samples': 98, 'objective': 'binary'}\n",
            "Param: {'metric': 'AUC', 'verbosity': 0, 'device': 'gpu', 'boosting_type': 'gbdt', 'subsample': 0.5724531528521719, 'learning_rate': 0.014459439855236091, 'n_estimators': 6722, 'subsample_freq': 1, 'reg_alpha': 17, 'reg_lambda': 13, 'max_depth': 7, 'num_leaves': 12, 'feature_fraction': 0.720858634187364, 'min_child_samples': 98, 'objective': 'binary'}\n"
          ]
        },
        {
          "name": "stderr",
          "output_type": "stream",
          "text": [
            "/usr/local/lib/python3.7/dist-packages/sklearn/preprocessing/_label.py:235: DataConversionWarning:\n",
            "\n",
            "A column-vector y was passed when a 1d array was expected. Please change the shape of y to (n_samples, ), for example using ravel().\n",
            "\n",
            "/usr/local/lib/python3.7/dist-packages/sklearn/preprocessing/_label.py:268: DataConversionWarning:\n",
            "\n",
            "A column-vector y was passed when a 1d array was expected. Please change the shape of y to (n_samples, ), for example using ravel().\n",
            "\n"
          ]
        },
        {
          "name": "stdout",
          "output_type": "stream",
          "text": [
            "[LightGBM] [Warning] feature_fraction is set=0.720858634187364, colsample_bytree=1.0 will be ignored. Current value: feature_fraction=0.720858634187364\n",
            "[LightGBM] [Warning] feature_fraction is set=0.720858634187364, colsample_bytree=1.0 will be ignored. Current value: feature_fraction=0.720858634187364\n",
            "New AUC Score 0.8564965322775872\n"
          ]
        },
        {
          "name": "stderr",
          "output_type": "stream",
          "text": [
            "/usr/local/lib/python3.7/dist-packages/sklearn/preprocessing/_label.py:235: DataConversionWarning:\n",
            "\n",
            "A column-vector y was passed when a 1d array was expected. Please change the shape of y to (n_samples, ), for example using ravel().\n",
            "\n",
            "/usr/local/lib/python3.7/dist-packages/sklearn/preprocessing/_label.py:268: DataConversionWarning:\n",
            "\n",
            "A column-vector y was passed when a 1d array was expected. Please change the shape of y to (n_samples, ), for example using ravel().\n",
            "\n"
          ]
        },
        {
          "name": "stdout",
          "output_type": "stream",
          "text": [
            "[LightGBM] [Warning] feature_fraction is set=0.720858634187364, colsample_bytree=1.0 will be ignored. Current value: feature_fraction=0.720858634187364\n",
            "[LightGBM] [Warning] feature_fraction is set=0.720858634187364, colsample_bytree=1.0 will be ignored. Current value: feature_fraction=0.720858634187364\n",
            "New AUC Score 0.8564790165611067\n"
          ]
        },
        {
          "name": "stderr",
          "output_type": "stream",
          "text": [
            "/usr/local/lib/python3.7/dist-packages/sklearn/preprocessing/_label.py:235: DataConversionWarning:\n",
            "\n",
            "A column-vector y was passed when a 1d array was expected. Please change the shape of y to (n_samples, ), for example using ravel().\n",
            "\n",
            "/usr/local/lib/python3.7/dist-packages/sklearn/preprocessing/_label.py:268: DataConversionWarning:\n",
            "\n",
            "A column-vector y was passed when a 1d array was expected. Please change the shape of y to (n_samples, ), for example using ravel().\n",
            "\n"
          ]
        },
        {
          "name": "stdout",
          "output_type": "stream",
          "text": [
            "[LightGBM] [Warning] feature_fraction is set=0.720858634187364, colsample_bytree=1.0 will be ignored. Current value: feature_fraction=0.720858634187364\n",
            "[LightGBM] [Warning] feature_fraction is set=0.720858634187364, colsample_bytree=1.0 will be ignored. Current value: feature_fraction=0.720858634187364\n",
            "New AUC Score 0.8576523105650591\n"
          ]
        },
        {
          "name": "stderr",
          "output_type": "stream",
          "text": [
            "/usr/local/lib/python3.7/dist-packages/sklearn/preprocessing/_label.py:235: DataConversionWarning:\n",
            "\n",
            "A column-vector y was passed when a 1d array was expected. Please change the shape of y to (n_samples, ), for example using ravel().\n",
            "\n",
            "/usr/local/lib/python3.7/dist-packages/sklearn/preprocessing/_label.py:268: DataConversionWarning:\n",
            "\n",
            "A column-vector y was passed when a 1d array was expected. Please change the shape of y to (n_samples, ), for example using ravel().\n",
            "\n"
          ]
        },
        {
          "name": "stdout",
          "output_type": "stream",
          "text": [
            "[LightGBM] [Warning] feature_fraction is set=0.720858634187364, colsample_bytree=1.0 will be ignored. Current value: feature_fraction=0.720858634187364\n",
            "[LightGBM] [Warning] feature_fraction is set=0.720858634187364, colsample_bytree=1.0 will be ignored. Current value: feature_fraction=0.720858634187364\n",
            "New AUC Score 0.8577852947901838\n"
          ]
        },
        {
          "name": "stderr",
          "output_type": "stream",
          "text": [
            "/usr/local/lib/python3.7/dist-packages/sklearn/preprocessing/_label.py:235: DataConversionWarning:\n",
            "\n",
            "A column-vector y was passed when a 1d array was expected. Please change the shape of y to (n_samples, ), for example using ravel().\n",
            "\n",
            "/usr/local/lib/python3.7/dist-packages/sklearn/preprocessing/_label.py:268: DataConversionWarning:\n",
            "\n",
            "A column-vector y was passed when a 1d array was expected. Please change the shape of y to (n_samples, ), for example using ravel().\n",
            "\n"
          ]
        },
        {
          "name": "stdout",
          "output_type": "stream",
          "text": [
            "[LightGBM] [Warning] feature_fraction is set=0.720858634187364, colsample_bytree=1.0 will be ignored. Current value: feature_fraction=0.720858634187364\n",
            "[LightGBM] [Warning] feature_fraction is set=0.720858634187364, colsample_bytree=1.0 will be ignored. Current value: feature_fraction=0.720858634187364\n",
            "New AUC Score 0.8569180766742184\n",
            "all scores [0.8564965322775872, 0.8564790165611067, 0.8576523105650591, 0.8577852947901838, 0.8569180766742184]\n",
            "Roc AUC score 0.8577852947901838\n",
            "{'boosting_type': 'gbdt', 'class_weight': None, 'colsample_bytree': 1.0, 'importance_type': 'split', 'learning_rate': 0.014459439855236091, 'max_depth': 7, 'min_child_samples': 98, 'min_child_weight': 0.001, 'min_split_gain': 0.0, 'n_estimators': 6722, 'n_jobs': -1, 'num_leaves': 12, 'objective': 'binary', 'random_state': 42, 'reg_alpha': 17, 'reg_lambda': 13, 'silent': True, 'subsample': 0.5724531528521719, 'subsample_for_bin': 200000, 'subsample_freq': 1, 'metric': 'AUC', 'verbosity': 0, 'device': 'gpu', 'feature_fraction': 0.720858634187364}\n"
          ]
        },
        {
          "name": "stderr",
          "output_type": "stream",
          "text": [
            "\u001b[32m[I 2021-10-04 03:02:17,679]\u001b[0m Trial 93 finished with value: 0.8577852947901838 and parameters: {'boosting_type': 'gbdt', 'subsample': 0.5724531528521719, 'eta': 0.014459439855236091, 'n_estimators': 6722, 'reg_alpha': 17, 'reg_lambda': 13, 'max_depth': 7, 'num_leaves': 12, 'feature_fraction': 0.720858634187364, 'min_child_samples': 98}. Best is trial 75 with value: 0.8592430823618162.\u001b[0m\n"
          ]
        },
        {
          "name": "stdout",
          "output_type": "stream",
          "text": [
            "filename ./models/lgbm_93 best_model_name./models/best_lgbm  best_trial_number 75\n",
            "STARTING Params: {'metric': 'AUC', 'verbosity': 0, 'device': 'gpu', 'boosting_type': 'gbdt', 'subsample': 0.5697896354793348, 'learning_rate': 0.014087297380124177, 'n_estimators': 6635, 'subsample_freq': 1, 'reg_alpha': 16, 'reg_lambda': 13, 'max_depth': 7, 'num_leaves': 12, 'feature_fraction': 0.7024947545802079, 'min_child_samples': 94, 'objective': 'binary'}\n",
            "Param: {'metric': 'AUC', 'verbosity': 0, 'device': 'gpu', 'boosting_type': 'gbdt', 'subsample': 0.5697896354793348, 'learning_rate': 0.014087297380124177, 'n_estimators': 6635, 'subsample_freq': 1, 'reg_alpha': 16, 'reg_lambda': 13, 'max_depth': 7, 'num_leaves': 12, 'feature_fraction': 0.7024947545802079, 'min_child_samples': 94, 'objective': 'binary'}\n"
          ]
        },
        {
          "name": "stderr",
          "output_type": "stream",
          "text": [
            "/usr/local/lib/python3.7/dist-packages/sklearn/preprocessing/_label.py:235: DataConversionWarning:\n",
            "\n",
            "A column-vector y was passed when a 1d array was expected. Please change the shape of y to (n_samples, ), for example using ravel().\n",
            "\n",
            "/usr/local/lib/python3.7/dist-packages/sklearn/preprocessing/_label.py:268: DataConversionWarning:\n",
            "\n",
            "A column-vector y was passed when a 1d array was expected. Please change the shape of y to (n_samples, ), for example using ravel().\n",
            "\n"
          ]
        },
        {
          "name": "stdout",
          "output_type": "stream",
          "text": [
            "[LightGBM] [Warning] feature_fraction is set=0.7024947545802079, colsample_bytree=1.0 will be ignored. Current value: feature_fraction=0.7024947545802079\n",
            "[LightGBM] [Warning] feature_fraction is set=0.7024947545802079, colsample_bytree=1.0 will be ignored. Current value: feature_fraction=0.7024947545802079\n",
            "New AUC Score 0.8577618930681652\n"
          ]
        },
        {
          "name": "stderr",
          "output_type": "stream",
          "text": [
            "/usr/local/lib/python3.7/dist-packages/sklearn/preprocessing/_label.py:235: DataConversionWarning:\n",
            "\n",
            "A column-vector y was passed when a 1d array was expected. Please change the shape of y to (n_samples, ), for example using ravel().\n",
            "\n",
            "/usr/local/lib/python3.7/dist-packages/sklearn/preprocessing/_label.py:268: DataConversionWarning:\n",
            "\n",
            "A column-vector y was passed when a 1d array was expected. Please change the shape of y to (n_samples, ), for example using ravel().\n",
            "\n"
          ]
        },
        {
          "name": "stdout",
          "output_type": "stream",
          "text": [
            "[LightGBM] [Warning] feature_fraction is set=0.7024947545802079, colsample_bytree=1.0 will be ignored. Current value: feature_fraction=0.7024947545802079\n",
            "[LightGBM] [Warning] feature_fraction is set=0.7024947545802079, colsample_bytree=1.0 will be ignored. Current value: feature_fraction=0.7024947545802079\n",
            "New AUC Score 0.8572483663849879\n"
          ]
        },
        {
          "name": "stderr",
          "output_type": "stream",
          "text": [
            "/usr/local/lib/python3.7/dist-packages/sklearn/preprocessing/_label.py:235: DataConversionWarning:\n",
            "\n",
            "A column-vector y was passed when a 1d array was expected. Please change the shape of y to (n_samples, ), for example using ravel().\n",
            "\n",
            "/usr/local/lib/python3.7/dist-packages/sklearn/preprocessing/_label.py:268: DataConversionWarning:\n",
            "\n",
            "A column-vector y was passed when a 1d array was expected. Please change the shape of y to (n_samples, ), for example using ravel().\n",
            "\n"
          ]
        },
        {
          "name": "stdout",
          "output_type": "stream",
          "text": [
            "[LightGBM] [Warning] feature_fraction is set=0.7024947545802079, colsample_bytree=1.0 will be ignored. Current value: feature_fraction=0.7024947545802079\n",
            "[LightGBM] [Warning] feature_fraction is set=0.7024947545802079, colsample_bytree=1.0 will be ignored. Current value: feature_fraction=0.7024947545802079\n",
            "New AUC Score 0.8574776981007661\n"
          ]
        },
        {
          "name": "stderr",
          "output_type": "stream",
          "text": [
            "/usr/local/lib/python3.7/dist-packages/sklearn/preprocessing/_label.py:235: DataConversionWarning:\n",
            "\n",
            "A column-vector y was passed when a 1d array was expected. Please change the shape of y to (n_samples, ), for example using ravel().\n",
            "\n",
            "/usr/local/lib/python3.7/dist-packages/sklearn/preprocessing/_label.py:268: DataConversionWarning:\n",
            "\n",
            "A column-vector y was passed when a 1d array was expected. Please change the shape of y to (n_samples, ), for example using ravel().\n",
            "\n"
          ]
        },
        {
          "name": "stdout",
          "output_type": "stream",
          "text": [
            "[LightGBM] [Warning] feature_fraction is set=0.7024947545802079, colsample_bytree=1.0 will be ignored. Current value: feature_fraction=0.7024947545802079\n",
            "[LightGBM] [Warning] feature_fraction is set=0.7024947545802079, colsample_bytree=1.0 will be ignored. Current value: feature_fraction=0.7024947545802079\n",
            "New AUC Score 0.8566534990252772\n"
          ]
        },
        {
          "name": "stderr",
          "output_type": "stream",
          "text": [
            "/usr/local/lib/python3.7/dist-packages/sklearn/preprocessing/_label.py:235: DataConversionWarning:\n",
            "\n",
            "A column-vector y was passed when a 1d array was expected. Please change the shape of y to (n_samples, ), for example using ravel().\n",
            "\n",
            "/usr/local/lib/python3.7/dist-packages/sklearn/preprocessing/_label.py:268: DataConversionWarning:\n",
            "\n",
            "A column-vector y was passed when a 1d array was expected. Please change the shape of y to (n_samples, ), for example using ravel().\n",
            "\n"
          ]
        },
        {
          "name": "stdout",
          "output_type": "stream",
          "text": [
            "[LightGBM] [Warning] feature_fraction is set=0.7024947545802079, colsample_bytree=1.0 will be ignored. Current value: feature_fraction=0.7024947545802079\n",
            "[LightGBM] [Warning] feature_fraction is set=0.7024947545802079, colsample_bytree=1.0 will be ignored. Current value: feature_fraction=0.7024947545802079\n",
            "New AUC Score 0.856098089002692\n",
            "all scores [0.8577618930681652, 0.8572483663849879, 0.8574776981007661, 0.8566534990252772, 0.856098089002692]\n",
            "Roc AUC score 0.8577618930681652\n",
            "{'boosting_type': 'gbdt', 'class_weight': None, 'colsample_bytree': 1.0, 'importance_type': 'split', 'learning_rate': 0.014087297380124177, 'max_depth': 7, 'min_child_samples': 94, 'min_child_weight': 0.001, 'min_split_gain': 0.0, 'n_estimators': 6635, 'n_jobs': -1, 'num_leaves': 12, 'objective': 'binary', 'random_state': 42, 'reg_alpha': 16, 'reg_lambda': 13, 'silent': True, 'subsample': 0.5697896354793348, 'subsample_for_bin': 200000, 'subsample_freq': 1, 'metric': 'AUC', 'verbosity': 0, 'device': 'gpu', 'feature_fraction': 0.7024947545802079}\n"
          ]
        },
        {
          "name": "stderr",
          "output_type": "stream",
          "text": [
            "\u001b[32m[I 2021-10-04 03:15:10,750]\u001b[0m Trial 94 finished with value: 0.8577618930681652 and parameters: {'boosting_type': 'gbdt', 'subsample': 0.5697896354793348, 'eta': 0.014087297380124177, 'n_estimators': 6635, 'reg_alpha': 16, 'reg_lambda': 13, 'max_depth': 7, 'num_leaves': 12, 'feature_fraction': 0.7024947545802079, 'min_child_samples': 94}. Best is trial 75 with value: 0.8592430823618162.\u001b[0m\n"
          ]
        },
        {
          "name": "stdout",
          "output_type": "stream",
          "text": [
            "filename ./models/lgbm_94 best_model_name./models/best_lgbm  best_trial_number 75\n",
            "STARTING Params: {'metric': 'AUC', 'verbosity': 0, 'device': 'gpu', 'boosting_type': 'gbdt', 'subsample': 0.5470775044964745, 'learning_rate': 0.013551627803506053, 'n_estimators': 3034, 'subsample_freq': 1, 'reg_alpha': 17, 'reg_lambda': 13, 'max_depth': 7, 'num_leaves': 12, 'feature_fraction': 0.6509552611644076, 'min_child_samples': 94, 'objective': 'binary'}\n",
            "Param: {'metric': 'AUC', 'verbosity': 0, 'device': 'gpu', 'boosting_type': 'gbdt', 'subsample': 0.5470775044964745, 'learning_rate': 0.013551627803506053, 'n_estimators': 3034, 'subsample_freq': 1, 'reg_alpha': 17, 'reg_lambda': 13, 'max_depth': 7, 'num_leaves': 12, 'feature_fraction': 0.6509552611644076, 'min_child_samples': 94, 'objective': 'binary'}\n"
          ]
        },
        {
          "name": "stderr",
          "output_type": "stream",
          "text": [
            "/usr/local/lib/python3.7/dist-packages/sklearn/preprocessing/_label.py:235: DataConversionWarning:\n",
            "\n",
            "A column-vector y was passed when a 1d array was expected. Please change the shape of y to (n_samples, ), for example using ravel().\n",
            "\n",
            "/usr/local/lib/python3.7/dist-packages/sklearn/preprocessing/_label.py:268: DataConversionWarning:\n",
            "\n",
            "A column-vector y was passed when a 1d array was expected. Please change the shape of y to (n_samples, ), for example using ravel().\n",
            "\n"
          ]
        },
        {
          "name": "stdout",
          "output_type": "stream",
          "text": [
            "[LightGBM] [Warning] feature_fraction is set=0.6509552611644076, colsample_bytree=1.0 will be ignored. Current value: feature_fraction=0.6509552611644076\n",
            "[LightGBM] [Warning] feature_fraction is set=0.6509552611644076, colsample_bytree=1.0 will be ignored. Current value: feature_fraction=0.6509552611644076\n",
            "New AUC Score 0.8556529009838145\n"
          ]
        },
        {
          "name": "stderr",
          "output_type": "stream",
          "text": [
            "/usr/local/lib/python3.7/dist-packages/sklearn/preprocessing/_label.py:235: DataConversionWarning:\n",
            "\n",
            "A column-vector y was passed when a 1d array was expected. Please change the shape of y to (n_samples, ), for example using ravel().\n",
            "\n",
            "/usr/local/lib/python3.7/dist-packages/sklearn/preprocessing/_label.py:268: DataConversionWarning:\n",
            "\n",
            "A column-vector y was passed when a 1d array was expected. Please change the shape of y to (n_samples, ), for example using ravel().\n",
            "\n"
          ]
        },
        {
          "name": "stdout",
          "output_type": "stream",
          "text": [
            "[LightGBM] [Warning] feature_fraction is set=0.6509552611644076, colsample_bytree=1.0 will be ignored. Current value: feature_fraction=0.6509552611644076\n",
            "[LightGBM] [Warning] feature_fraction is set=0.6509552611644076, colsample_bytree=1.0 will be ignored. Current value: feature_fraction=0.6509552611644076\n",
            "New AUC Score 0.8557334634596158\n"
          ]
        },
        {
          "name": "stderr",
          "output_type": "stream",
          "text": [
            "/usr/local/lib/python3.7/dist-packages/sklearn/preprocessing/_label.py:235: DataConversionWarning:\n",
            "\n",
            "A column-vector y was passed when a 1d array was expected. Please change the shape of y to (n_samples, ), for example using ravel().\n",
            "\n",
            "/usr/local/lib/python3.7/dist-packages/sklearn/preprocessing/_label.py:268: DataConversionWarning:\n",
            "\n",
            "A column-vector y was passed when a 1d array was expected. Please change the shape of y to (n_samples, ), for example using ravel().\n",
            "\n"
          ]
        },
        {
          "name": "stdout",
          "output_type": "stream",
          "text": [
            "[LightGBM] [Warning] feature_fraction is set=0.6509552611644076, colsample_bytree=1.0 will be ignored. Current value: feature_fraction=0.6509552611644076\n",
            "[LightGBM] [Warning] feature_fraction is set=0.6509552611644076, colsample_bytree=1.0 will be ignored. Current value: feature_fraction=0.6509552611644076\n",
            "New AUC Score 0.8553563576047968\n"
          ]
        },
        {
          "name": "stderr",
          "output_type": "stream",
          "text": [
            "/usr/local/lib/python3.7/dist-packages/sklearn/preprocessing/_label.py:235: DataConversionWarning:\n",
            "\n",
            "A column-vector y was passed when a 1d array was expected. Please change the shape of y to (n_samples, ), for example using ravel().\n",
            "\n",
            "/usr/local/lib/python3.7/dist-packages/sklearn/preprocessing/_label.py:268: DataConversionWarning:\n",
            "\n",
            "A column-vector y was passed when a 1d array was expected. Please change the shape of y to (n_samples, ), for example using ravel().\n",
            "\n"
          ]
        },
        {
          "name": "stdout",
          "output_type": "stream",
          "text": [
            "[LightGBM] [Warning] feature_fraction is set=0.6509552611644076, colsample_bytree=1.0 will be ignored. Current value: feature_fraction=0.6509552611644076\n",
            "[LightGBM] [Warning] feature_fraction is set=0.6509552611644076, colsample_bytree=1.0 will be ignored. Current value: feature_fraction=0.6509552611644076\n",
            "New AUC Score 0.8562020017004635\n"
          ]
        },
        {
          "name": "stderr",
          "output_type": "stream",
          "text": [
            "/usr/local/lib/python3.7/dist-packages/sklearn/preprocessing/_label.py:235: DataConversionWarning:\n",
            "\n",
            "A column-vector y was passed when a 1d array was expected. Please change the shape of y to (n_samples, ), for example using ravel().\n",
            "\n",
            "/usr/local/lib/python3.7/dist-packages/sklearn/preprocessing/_label.py:268: DataConversionWarning:\n",
            "\n",
            "A column-vector y was passed when a 1d array was expected. Please change the shape of y to (n_samples, ), for example using ravel().\n",
            "\n"
          ]
        },
        {
          "name": "stdout",
          "output_type": "stream",
          "text": [
            "[LightGBM] [Warning] feature_fraction is set=0.6509552611644076, colsample_bytree=1.0 will be ignored. Current value: feature_fraction=0.6509552611644076\n",
            "[LightGBM] [Warning] feature_fraction is set=0.6509552611644076, colsample_bytree=1.0 will be ignored. Current value: feature_fraction=0.6509552611644076\n"
          ]
        },
        {
          "name": "stderr",
          "output_type": "stream",
          "text": [
            "\u001b[32m[I 2021-10-04 03:22:06,063]\u001b[0m Trial 95 finished with value: 0.8569594183131168 and parameters: {'boosting_type': 'gbdt', 'subsample': 0.5470775044964745, 'eta': 0.013551627803506053, 'n_estimators': 3034, 'reg_alpha': 17, 'reg_lambda': 13, 'max_depth': 7, 'num_leaves': 12, 'feature_fraction': 0.6509552611644076, 'min_child_samples': 94}. Best is trial 75 with value: 0.8592430823618162.\u001b[0m\n"
          ]
        },
        {
          "name": "stdout",
          "output_type": "stream",
          "text": [
            "New AUC Score 0.8569594183131168\n",
            "all scores [0.8556529009838145, 0.8557334634596158, 0.8553563576047968, 0.8562020017004635, 0.8569594183131168]\n",
            "Roc AUC score 0.8569594183131168\n",
            "{'boosting_type': 'gbdt', 'class_weight': None, 'colsample_bytree': 1.0, 'importance_type': 'split', 'learning_rate': 0.013551627803506053, 'max_depth': 7, 'min_child_samples': 94, 'min_child_weight': 0.001, 'min_split_gain': 0.0, 'n_estimators': 3034, 'n_jobs': -1, 'num_leaves': 12, 'objective': 'binary', 'random_state': 42, 'reg_alpha': 17, 'reg_lambda': 13, 'silent': True, 'subsample': 0.5470775044964745, 'subsample_for_bin': 200000, 'subsample_freq': 1, 'metric': 'AUC', 'verbosity': 0, 'device': 'gpu', 'feature_fraction': 0.6509552611644076}\n",
            "filename ./models/lgbm_95 best_model_name./models/best_lgbm  best_trial_number 75\n",
            "STARTING Params: {'metric': 'AUC', 'verbosity': 0, 'device': 'gpu', 'boosting_type': 'gbdt', 'subsample': 0.5651679570328866, 'learning_rate': 0.013878732313546636, 'n_estimators': 7434, 'subsample_freq': 1, 'reg_alpha': 18, 'reg_lambda': 16, 'max_depth': 6, 'num_leaves': 11, 'feature_fraction': 0.739864030188215, 'min_child_samples': 96, 'objective': 'binary'}\n",
            "Param: {'metric': 'AUC', 'verbosity': 0, 'device': 'gpu', 'boosting_type': 'gbdt', 'subsample': 0.5651679570328866, 'learning_rate': 0.013878732313546636, 'n_estimators': 7434, 'subsample_freq': 1, 'reg_alpha': 18, 'reg_lambda': 16, 'max_depth': 6, 'num_leaves': 11, 'feature_fraction': 0.739864030188215, 'min_child_samples': 96, 'objective': 'binary'}\n"
          ]
        },
        {
          "name": "stderr",
          "output_type": "stream",
          "text": [
            "/usr/local/lib/python3.7/dist-packages/sklearn/preprocessing/_label.py:235: DataConversionWarning:\n",
            "\n",
            "A column-vector y was passed when a 1d array was expected. Please change the shape of y to (n_samples, ), for example using ravel().\n",
            "\n",
            "/usr/local/lib/python3.7/dist-packages/sklearn/preprocessing/_label.py:268: DataConversionWarning:\n",
            "\n",
            "A column-vector y was passed when a 1d array was expected. Please change the shape of y to (n_samples, ), for example using ravel().\n",
            "\n"
          ]
        },
        {
          "name": "stdout",
          "output_type": "stream",
          "text": [
            "[LightGBM] [Warning] feature_fraction is set=0.739864030188215, colsample_bytree=1.0 will be ignored. Current value: feature_fraction=0.739864030188215\n",
            "[LightGBM] [Warning] feature_fraction is set=0.739864030188215, colsample_bytree=1.0 will be ignored. Current value: feature_fraction=0.739864030188215\n",
            "New AUC Score 0.8567926495562039\n"
          ]
        },
        {
          "name": "stderr",
          "output_type": "stream",
          "text": [
            "/usr/local/lib/python3.7/dist-packages/sklearn/preprocessing/_label.py:235: DataConversionWarning:\n",
            "\n",
            "A column-vector y was passed when a 1d array was expected. Please change the shape of y to (n_samples, ), for example using ravel().\n",
            "\n",
            "/usr/local/lib/python3.7/dist-packages/sklearn/preprocessing/_label.py:268: DataConversionWarning:\n",
            "\n",
            "A column-vector y was passed when a 1d array was expected. Please change the shape of y to (n_samples, ), for example using ravel().\n",
            "\n"
          ]
        },
        {
          "name": "stdout",
          "output_type": "stream",
          "text": [
            "[LightGBM] [Warning] feature_fraction is set=0.739864030188215, colsample_bytree=1.0 will be ignored. Current value: feature_fraction=0.739864030188215\n",
            "[LightGBM] [Warning] feature_fraction is set=0.739864030188215, colsample_bytree=1.0 will be ignored. Current value: feature_fraction=0.739864030188215\n",
            "New AUC Score 0.8585292122901358\n"
          ]
        },
        {
          "name": "stderr",
          "output_type": "stream",
          "text": [
            "/usr/local/lib/python3.7/dist-packages/sklearn/preprocessing/_label.py:235: DataConversionWarning:\n",
            "\n",
            "A column-vector y was passed when a 1d array was expected. Please change the shape of y to (n_samples, ), for example using ravel().\n",
            "\n",
            "/usr/local/lib/python3.7/dist-packages/sklearn/preprocessing/_label.py:268: DataConversionWarning:\n",
            "\n",
            "A column-vector y was passed when a 1d array was expected. Please change the shape of y to (n_samples, ), for example using ravel().\n",
            "\n"
          ]
        },
        {
          "name": "stdout",
          "output_type": "stream",
          "text": [
            "[LightGBM] [Warning] feature_fraction is set=0.739864030188215, colsample_bytree=1.0 will be ignored. Current value: feature_fraction=0.739864030188215\n",
            "[LightGBM] [Warning] feature_fraction is set=0.739864030188215, colsample_bytree=1.0 will be ignored. Current value: feature_fraction=0.739864030188215\n",
            "New AUC Score 0.8570033279544311\n"
          ]
        },
        {
          "name": "stderr",
          "output_type": "stream",
          "text": [
            "/usr/local/lib/python3.7/dist-packages/sklearn/preprocessing/_label.py:235: DataConversionWarning:\n",
            "\n",
            "A column-vector y was passed when a 1d array was expected. Please change the shape of y to (n_samples, ), for example using ravel().\n",
            "\n",
            "/usr/local/lib/python3.7/dist-packages/sklearn/preprocessing/_label.py:268: DataConversionWarning:\n",
            "\n",
            "A column-vector y was passed when a 1d array was expected. Please change the shape of y to (n_samples, ), for example using ravel().\n",
            "\n"
          ]
        },
        {
          "name": "stdout",
          "output_type": "stream",
          "text": [
            "[LightGBM] [Warning] feature_fraction is set=0.739864030188215, colsample_bytree=1.0 will be ignored. Current value: feature_fraction=0.739864030188215\n",
            "[LightGBM] [Warning] feature_fraction is set=0.739864030188215, colsample_bytree=1.0 will be ignored. Current value: feature_fraction=0.739864030188215\n",
            "New AUC Score 0.856589540765099\n"
          ]
        },
        {
          "name": "stderr",
          "output_type": "stream",
          "text": [
            "/usr/local/lib/python3.7/dist-packages/sklearn/preprocessing/_label.py:235: DataConversionWarning:\n",
            "\n",
            "A column-vector y was passed when a 1d array was expected. Please change the shape of y to (n_samples, ), for example using ravel().\n",
            "\n",
            "/usr/local/lib/python3.7/dist-packages/sklearn/preprocessing/_label.py:268: DataConversionWarning:\n",
            "\n",
            "A column-vector y was passed when a 1d array was expected. Please change the shape of y to (n_samples, ), for example using ravel().\n",
            "\n"
          ]
        },
        {
          "name": "stdout",
          "output_type": "stream",
          "text": [
            "[LightGBM] [Warning] feature_fraction is set=0.739864030188215, colsample_bytree=1.0 will be ignored. Current value: feature_fraction=0.739864030188215\n",
            "[LightGBM] [Warning] feature_fraction is set=0.739864030188215, colsample_bytree=1.0 will be ignored. Current value: feature_fraction=0.739864030188215\n",
            "New AUC Score 0.8562192675167087\n",
            "all scores [0.8567926495562039, 0.8585292122901358, 0.8570033279544311, 0.856589540765099, 0.8562192675167087]\n",
            "Roc AUC score 0.8585292122901358\n",
            "{'boosting_type': 'gbdt', 'class_weight': None, 'colsample_bytree': 1.0, 'importance_type': 'split', 'learning_rate': 0.013878732313546636, 'max_depth': 6, 'min_child_samples': 96, 'min_child_weight': 0.001, 'min_split_gain': 0.0, 'n_estimators': 7434, 'n_jobs': -1, 'num_leaves': 11, 'objective': 'binary', 'random_state': 42, 'reg_alpha': 18, 'reg_lambda': 16, 'silent': True, 'subsample': 0.5651679570328866, 'subsample_for_bin': 200000, 'subsample_freq': 1, 'metric': 'AUC', 'verbosity': 0, 'device': 'gpu', 'feature_fraction': 0.739864030188215}\n"
          ]
        },
        {
          "name": "stderr",
          "output_type": "stream",
          "text": [
            "\u001b[32m[I 2021-10-04 03:35:21,254]\u001b[0m Trial 96 finished with value: 0.8585292122901358 and parameters: {'boosting_type': 'gbdt', 'subsample': 0.5651679570328866, 'eta': 0.013878732313546636, 'n_estimators': 7434, 'reg_alpha': 18, 'reg_lambda': 16, 'max_depth': 6, 'num_leaves': 11, 'feature_fraction': 0.739864030188215, 'min_child_samples': 96}. Best is trial 75 with value: 0.8592430823618162.\u001b[0m\n"
          ]
        },
        {
          "name": "stdout",
          "output_type": "stream",
          "text": [
            "filename ./models/lgbm_96 best_model_name./models/best_lgbm  best_trial_number 75\n",
            "STARTING Params: {'metric': 'AUC', 'verbosity': 0, 'device': 'gpu', 'boosting_type': 'gbdt', 'subsample': 0.5680406148160286, 'learning_rate': 0.013846568650590509, 'n_estimators': 6938, 'subsample_freq': 1, 'reg_alpha': 18, 'reg_lambda': 16, 'max_depth': 6, 'num_leaves': 10, 'feature_fraction': 0.7408815907977623, 'min_child_samples': 59, 'objective': 'binary'}\n",
            "Param: {'metric': 'AUC', 'verbosity': 0, 'device': 'gpu', 'boosting_type': 'gbdt', 'subsample': 0.5680406148160286, 'learning_rate': 0.013846568650590509, 'n_estimators': 6938, 'subsample_freq': 1, 'reg_alpha': 18, 'reg_lambda': 16, 'max_depth': 6, 'num_leaves': 10, 'feature_fraction': 0.7408815907977623, 'min_child_samples': 59, 'objective': 'binary'}\n"
          ]
        },
        {
          "name": "stderr",
          "output_type": "stream",
          "text": [
            "/usr/local/lib/python3.7/dist-packages/sklearn/preprocessing/_label.py:235: DataConversionWarning:\n",
            "\n",
            "A column-vector y was passed when a 1d array was expected. Please change the shape of y to (n_samples, ), for example using ravel().\n",
            "\n",
            "/usr/local/lib/python3.7/dist-packages/sklearn/preprocessing/_label.py:268: DataConversionWarning:\n",
            "\n",
            "A column-vector y was passed when a 1d array was expected. Please change the shape of y to (n_samples, ), for example using ravel().\n",
            "\n"
          ]
        },
        {
          "name": "stdout",
          "output_type": "stream",
          "text": [
            "[LightGBM] [Warning] feature_fraction is set=0.7408815907977623, colsample_bytree=1.0 will be ignored. Current value: feature_fraction=0.7408815907977623\n",
            "[LightGBM] [Warning] feature_fraction is set=0.7408815907977623, colsample_bytree=1.0 will be ignored. Current value: feature_fraction=0.7408815907977623\n",
            "New AUC Score 0.8574164690431557\n"
          ]
        },
        {
          "name": "stderr",
          "output_type": "stream",
          "text": [
            "/usr/local/lib/python3.7/dist-packages/sklearn/preprocessing/_label.py:235: DataConversionWarning:\n",
            "\n",
            "A column-vector y was passed when a 1d array was expected. Please change the shape of y to (n_samples, ), for example using ravel().\n",
            "\n",
            "/usr/local/lib/python3.7/dist-packages/sklearn/preprocessing/_label.py:268: DataConversionWarning:\n",
            "\n",
            "A column-vector y was passed when a 1d array was expected. Please change the shape of y to (n_samples, ), for example using ravel().\n",
            "\n"
          ]
        },
        {
          "name": "stdout",
          "output_type": "stream",
          "text": [
            "[LightGBM] [Warning] feature_fraction is set=0.7408815907977623, colsample_bytree=1.0 will be ignored. Current value: feature_fraction=0.7408815907977623\n",
            "[LightGBM] [Warning] feature_fraction is set=0.7408815907977623, colsample_bytree=1.0 will be ignored. Current value: feature_fraction=0.7408815907977623\n",
            "New AUC Score 0.8564321454170056\n"
          ]
        },
        {
          "name": "stderr",
          "output_type": "stream",
          "text": [
            "/usr/local/lib/python3.7/dist-packages/sklearn/preprocessing/_label.py:235: DataConversionWarning:\n",
            "\n",
            "A column-vector y was passed when a 1d array was expected. Please change the shape of y to (n_samples, ), for example using ravel().\n",
            "\n",
            "/usr/local/lib/python3.7/dist-packages/sklearn/preprocessing/_label.py:268: DataConversionWarning:\n",
            "\n",
            "A column-vector y was passed when a 1d array was expected. Please change the shape of y to (n_samples, ), for example using ravel().\n",
            "\n"
          ]
        },
        {
          "name": "stdout",
          "output_type": "stream",
          "text": [
            "[LightGBM] [Warning] feature_fraction is set=0.7408815907977623, colsample_bytree=1.0 will be ignored. Current value: feature_fraction=0.7408815907977623\n",
            "[LightGBM] [Warning] feature_fraction is set=0.7408815907977623, colsample_bytree=1.0 will be ignored. Current value: feature_fraction=0.7408815907977623\n",
            "New AUC Score 0.8565877770634394\n"
          ]
        },
        {
          "name": "stderr",
          "output_type": "stream",
          "text": [
            "/usr/local/lib/python3.7/dist-packages/sklearn/preprocessing/_label.py:235: DataConversionWarning:\n",
            "\n",
            "A column-vector y was passed when a 1d array was expected. Please change the shape of y to (n_samples, ), for example using ravel().\n",
            "\n",
            "/usr/local/lib/python3.7/dist-packages/sklearn/preprocessing/_label.py:268: DataConversionWarning:\n",
            "\n",
            "A column-vector y was passed when a 1d array was expected. Please change the shape of y to (n_samples, ), for example using ravel().\n",
            "\n"
          ]
        },
        {
          "name": "stdout",
          "output_type": "stream",
          "text": [
            "[LightGBM] [Warning] feature_fraction is set=0.7408815907977623, colsample_bytree=1.0 will be ignored. Current value: feature_fraction=0.7408815907977623\n",
            "[LightGBM] [Warning] feature_fraction is set=0.7408815907977623, colsample_bytree=1.0 will be ignored. Current value: feature_fraction=0.7408815907977623\n",
            "New AUC Score 0.8583333083058099\n"
          ]
        },
        {
          "name": "stderr",
          "output_type": "stream",
          "text": [
            "/usr/local/lib/python3.7/dist-packages/sklearn/preprocessing/_label.py:235: DataConversionWarning:\n",
            "\n",
            "A column-vector y was passed when a 1d array was expected. Please change the shape of y to (n_samples, ), for example using ravel().\n",
            "\n",
            "/usr/local/lib/python3.7/dist-packages/sklearn/preprocessing/_label.py:268: DataConversionWarning:\n",
            "\n",
            "A column-vector y was passed when a 1d array was expected. Please change the shape of y to (n_samples, ), for example using ravel().\n",
            "\n"
          ]
        },
        {
          "name": "stdout",
          "output_type": "stream",
          "text": [
            "[LightGBM] [Warning] feature_fraction is set=0.7408815907977623, colsample_bytree=1.0 will be ignored. Current value: feature_fraction=0.7408815907977623\n",
            "[LightGBM] [Warning] feature_fraction is set=0.7408815907977623, colsample_bytree=1.0 will be ignored. Current value: feature_fraction=0.7408815907977623\n",
            "New AUC Score 0.8561407114427955\n",
            "all scores [0.8574164690431557, 0.8564321454170056, 0.8565877770634394, 0.8583333083058099, 0.8561407114427955]\n",
            "Roc AUC score 0.8583333083058099\n",
            "{'boosting_type': 'gbdt', 'class_weight': None, 'colsample_bytree': 1.0, 'importance_type': 'split', 'learning_rate': 0.013846568650590509, 'max_depth': 6, 'min_child_samples': 59, 'min_child_weight': 0.001, 'min_split_gain': 0.0, 'n_estimators': 6938, 'n_jobs': -1, 'num_leaves': 10, 'objective': 'binary', 'random_state': 42, 'reg_alpha': 18, 'reg_lambda': 16, 'silent': True, 'subsample': 0.5680406148160286, 'subsample_for_bin': 200000, 'subsample_freq': 1, 'metric': 'AUC', 'verbosity': 0, 'device': 'gpu', 'feature_fraction': 0.7408815907977623}\n"
          ]
        },
        {
          "name": "stderr",
          "output_type": "stream",
          "text": [
            "\u001b[32m[I 2021-10-04 03:47:26,614]\u001b[0m Trial 97 finished with value: 0.8583333083058099 and parameters: {'boosting_type': 'gbdt', 'subsample': 0.5680406148160286, 'eta': 0.013846568650590509, 'n_estimators': 6938, 'reg_alpha': 18, 'reg_lambda': 16, 'max_depth': 6, 'num_leaves': 10, 'feature_fraction': 0.7408815907977623, 'min_child_samples': 59}. Best is trial 75 with value: 0.8592430823618162.\u001b[0m\n"
          ]
        },
        {
          "name": "stdout",
          "output_type": "stream",
          "text": [
            "filename ./models/lgbm_97 best_model_name./models/best_lgbm  best_trial_number 75\n",
            "STARTING Params: {'metric': 'AUC', 'verbosity': 0, 'device': 'gpu', 'boosting_type': 'gbdt', 'subsample': 0.5685235859630293, 'learning_rate': 0.012504497258636983, 'n_estimators': 6357, 'subsample_freq': 1, 'reg_alpha': 18, 'reg_lambda': 16, 'max_depth': 6, 'num_leaves': 10, 'feature_fraction': 0.7723347697979045, 'min_child_samples': 59, 'objective': 'binary'}\n",
            "Param: {'metric': 'AUC', 'verbosity': 0, 'device': 'gpu', 'boosting_type': 'gbdt', 'subsample': 0.5685235859630293, 'learning_rate': 0.012504497258636983, 'n_estimators': 6357, 'subsample_freq': 1, 'reg_alpha': 18, 'reg_lambda': 16, 'max_depth': 6, 'num_leaves': 10, 'feature_fraction': 0.7723347697979045, 'min_child_samples': 59, 'objective': 'binary'}\n"
          ]
        },
        {
          "name": "stderr",
          "output_type": "stream",
          "text": [
            "/usr/local/lib/python3.7/dist-packages/sklearn/preprocessing/_label.py:235: DataConversionWarning:\n",
            "\n",
            "A column-vector y was passed when a 1d array was expected. Please change the shape of y to (n_samples, ), for example using ravel().\n",
            "\n",
            "/usr/local/lib/python3.7/dist-packages/sklearn/preprocessing/_label.py:268: DataConversionWarning:\n",
            "\n",
            "A column-vector y was passed when a 1d array was expected. Please change the shape of y to (n_samples, ), for example using ravel().\n",
            "\n"
          ]
        },
        {
          "name": "stdout",
          "output_type": "stream",
          "text": [
            "[LightGBM] [Warning] feature_fraction is set=0.7723347697979045, colsample_bytree=1.0 will be ignored. Current value: feature_fraction=0.7723347697979045\n",
            "[LightGBM] [Warning] feature_fraction is set=0.7723347697979045, colsample_bytree=1.0 will be ignored. Current value: feature_fraction=0.7723347697979045\n",
            "New AUC Score 0.8571181212624402\n"
          ]
        },
        {
          "name": "stderr",
          "output_type": "stream",
          "text": [
            "/usr/local/lib/python3.7/dist-packages/sklearn/preprocessing/_label.py:235: DataConversionWarning:\n",
            "\n",
            "A column-vector y was passed when a 1d array was expected. Please change the shape of y to (n_samples, ), for example using ravel().\n",
            "\n",
            "/usr/local/lib/python3.7/dist-packages/sklearn/preprocessing/_label.py:268: DataConversionWarning:\n",
            "\n",
            "A column-vector y was passed when a 1d array was expected. Please change the shape of y to (n_samples, ), for example using ravel().\n",
            "\n"
          ]
        },
        {
          "name": "stdout",
          "output_type": "stream",
          "text": [
            "[LightGBM] [Warning] feature_fraction is set=0.7723347697979045, colsample_bytree=1.0 will be ignored. Current value: feature_fraction=0.7723347697979045\n",
            "[LightGBM] [Warning] feature_fraction is set=0.7723347697979045, colsample_bytree=1.0 will be ignored. Current value: feature_fraction=0.7723347697979045\n",
            "New AUC Score 0.857487476809967\n"
          ]
        },
        {
          "name": "stderr",
          "output_type": "stream",
          "text": [
            "/usr/local/lib/python3.7/dist-packages/sklearn/preprocessing/_label.py:235: DataConversionWarning:\n",
            "\n",
            "A column-vector y was passed when a 1d array was expected. Please change the shape of y to (n_samples, ), for example using ravel().\n",
            "\n",
            "/usr/local/lib/python3.7/dist-packages/sklearn/preprocessing/_label.py:268: DataConversionWarning:\n",
            "\n",
            "A column-vector y was passed when a 1d array was expected. Please change the shape of y to (n_samples, ), for example using ravel().\n",
            "\n"
          ]
        },
        {
          "name": "stdout",
          "output_type": "stream",
          "text": [
            "[LightGBM] [Warning] feature_fraction is set=0.7723347697979045, colsample_bytree=1.0 will be ignored. Current value: feature_fraction=0.7723347697979045\n",
            "[LightGBM] [Warning] feature_fraction is set=0.7723347697979045, colsample_bytree=1.0 will be ignored. Current value: feature_fraction=0.7723347697979045\n",
            "New AUC Score 0.8555593077957526\n"
          ]
        },
        {
          "name": "stderr",
          "output_type": "stream",
          "text": [
            "/usr/local/lib/python3.7/dist-packages/sklearn/preprocessing/_label.py:235: DataConversionWarning:\n",
            "\n",
            "A column-vector y was passed when a 1d array was expected. Please change the shape of y to (n_samples, ), for example using ravel().\n",
            "\n",
            "/usr/local/lib/python3.7/dist-packages/sklearn/preprocessing/_label.py:268: DataConversionWarning:\n",
            "\n",
            "A column-vector y was passed when a 1d array was expected. Please change the shape of y to (n_samples, ), for example using ravel().\n",
            "\n"
          ]
        },
        {
          "name": "stdout",
          "output_type": "stream",
          "text": [
            "[LightGBM] [Warning] feature_fraction is set=0.7723347697979045, colsample_bytree=1.0 will be ignored. Current value: feature_fraction=0.7723347697979045\n",
            "[LightGBM] [Warning] feature_fraction is set=0.7723347697979045, colsample_bytree=1.0 will be ignored. Current value: feature_fraction=0.7723347697979045\n",
            "New AUC Score 0.8571630676047303\n"
          ]
        },
        {
          "name": "stderr",
          "output_type": "stream",
          "text": [
            "/usr/local/lib/python3.7/dist-packages/sklearn/preprocessing/_label.py:235: DataConversionWarning:\n",
            "\n",
            "A column-vector y was passed when a 1d array was expected. Please change the shape of y to (n_samples, ), for example using ravel().\n",
            "\n",
            "/usr/local/lib/python3.7/dist-packages/sklearn/preprocessing/_label.py:268: DataConversionWarning:\n",
            "\n",
            "A column-vector y was passed when a 1d array was expected. Please change the shape of y to (n_samples, ), for example using ravel().\n",
            "\n"
          ]
        },
        {
          "name": "stdout",
          "output_type": "stream",
          "text": [
            "[LightGBM] [Warning] feature_fraction is set=0.7723347697979045, colsample_bytree=1.0 will be ignored. Current value: feature_fraction=0.7723347697979045\n",
            "[LightGBM] [Warning] feature_fraction is set=0.7723347697979045, colsample_bytree=1.0 will be ignored. Current value: feature_fraction=0.7723347697979045\n",
            "New AUC Score 0.8573792212081093\n",
            "all scores [0.8571181212624402, 0.857487476809967, 0.8555593077957526, 0.8571630676047303, 0.8573792212081093]\n",
            "Roc AUC score 0.857487476809967\n",
            "{'boosting_type': 'gbdt', 'class_weight': None, 'colsample_bytree': 1.0, 'importance_type': 'split', 'learning_rate': 0.012504497258636983, 'max_depth': 6, 'min_child_samples': 59, 'min_child_weight': 0.001, 'min_split_gain': 0.0, 'n_estimators': 6357, 'n_jobs': -1, 'num_leaves': 10, 'objective': 'binary', 'random_state': 42, 'reg_alpha': 18, 'reg_lambda': 16, 'silent': True, 'subsample': 0.5685235859630293, 'subsample_for_bin': 200000, 'subsample_freq': 1, 'metric': 'AUC', 'verbosity': 0, 'device': 'gpu', 'feature_fraction': 0.7723347697979045}\n"
          ]
        },
        {
          "name": "stderr",
          "output_type": "stream",
          "text": [
            "\u001b[32m[I 2021-10-04 03:58:34,760]\u001b[0m Trial 98 finished with value: 0.857487476809967 and parameters: {'boosting_type': 'gbdt', 'subsample': 0.5685235859630293, 'eta': 0.012504497258636983, 'n_estimators': 6357, 'reg_alpha': 18, 'reg_lambda': 16, 'max_depth': 6, 'num_leaves': 10, 'feature_fraction': 0.7723347697979045, 'min_child_samples': 59}. Best is trial 75 with value: 0.8592430823618162.\u001b[0m\n"
          ]
        },
        {
          "name": "stdout",
          "output_type": "stream",
          "text": [
            "filename ./models/lgbm_98 best_model_name./models/best_lgbm  best_trial_number 75\n",
            "STARTING Params: {'metric': 'AUC', 'verbosity': 0, 'device': 'gpu', 'boosting_type': 'gbdt', 'subsample': 0.5769168603086565, 'learning_rate': 0.013912800254196058, 'n_estimators': 5655, 'subsample_freq': 1, 'reg_alpha': 18, 'reg_lambda': 16, 'max_depth': 6, 'num_leaves': 10, 'feature_fraction': 0.7403721282077524, 'min_child_samples': 67, 'objective': 'binary'}\n",
            "Param: {'metric': 'AUC', 'verbosity': 0, 'device': 'gpu', 'boosting_type': 'gbdt', 'subsample': 0.5769168603086565, 'learning_rate': 0.013912800254196058, 'n_estimators': 5655, 'subsample_freq': 1, 'reg_alpha': 18, 'reg_lambda': 16, 'max_depth': 6, 'num_leaves': 10, 'feature_fraction': 0.7403721282077524, 'min_child_samples': 67, 'objective': 'binary'}\n"
          ]
        },
        {
          "name": "stderr",
          "output_type": "stream",
          "text": [
            "/usr/local/lib/python3.7/dist-packages/sklearn/preprocessing/_label.py:235: DataConversionWarning:\n",
            "\n",
            "A column-vector y was passed when a 1d array was expected. Please change the shape of y to (n_samples, ), for example using ravel().\n",
            "\n",
            "/usr/local/lib/python3.7/dist-packages/sklearn/preprocessing/_label.py:268: DataConversionWarning:\n",
            "\n",
            "A column-vector y was passed when a 1d array was expected. Please change the shape of y to (n_samples, ), for example using ravel().\n",
            "\n"
          ]
        },
        {
          "name": "stdout",
          "output_type": "stream",
          "text": [
            "[LightGBM] [Warning] feature_fraction is set=0.7403721282077524, colsample_bytree=1.0 will be ignored. Current value: feature_fraction=0.7403721282077524\n",
            "[LightGBM] [Warning] feature_fraction is set=0.7403721282077524, colsample_bytree=1.0 will be ignored. Current value: feature_fraction=0.7403721282077524\n",
            "New AUC Score 0.8577228035313857\n"
          ]
        },
        {
          "name": "stderr",
          "output_type": "stream",
          "text": [
            "/usr/local/lib/python3.7/dist-packages/sklearn/preprocessing/_label.py:235: DataConversionWarning:\n",
            "\n",
            "A column-vector y was passed when a 1d array was expected. Please change the shape of y to (n_samples, ), for example using ravel().\n",
            "\n",
            "/usr/local/lib/python3.7/dist-packages/sklearn/preprocessing/_label.py:268: DataConversionWarning:\n",
            "\n",
            "A column-vector y was passed when a 1d array was expected. Please change the shape of y to (n_samples, ), for example using ravel().\n",
            "\n"
          ]
        },
        {
          "name": "stdout",
          "output_type": "stream",
          "text": [
            "[LightGBM] [Warning] feature_fraction is set=0.7403721282077524, colsample_bytree=1.0 will be ignored. Current value: feature_fraction=0.7403721282077524\n",
            "[LightGBM] [Warning] feature_fraction is set=0.7403721282077524, colsample_bytree=1.0 will be ignored. Current value: feature_fraction=0.7403721282077524\n",
            "New AUC Score 0.8563604840495794\n"
          ]
        },
        {
          "name": "stderr",
          "output_type": "stream",
          "text": [
            "/usr/local/lib/python3.7/dist-packages/sklearn/preprocessing/_label.py:235: DataConversionWarning:\n",
            "\n",
            "A column-vector y was passed when a 1d array was expected. Please change the shape of y to (n_samples, ), for example using ravel().\n",
            "\n",
            "/usr/local/lib/python3.7/dist-packages/sklearn/preprocessing/_label.py:268: DataConversionWarning:\n",
            "\n",
            "A column-vector y was passed when a 1d array was expected. Please change the shape of y to (n_samples, ), for example using ravel().\n",
            "\n"
          ]
        },
        {
          "name": "stdout",
          "output_type": "stream",
          "text": [
            "[LightGBM] [Warning] feature_fraction is set=0.7403721282077524, colsample_bytree=1.0 will be ignored. Current value: feature_fraction=0.7403721282077524\n",
            "[LightGBM] [Warning] feature_fraction is set=0.7403721282077524, colsample_bytree=1.0 will be ignored. Current value: feature_fraction=0.7403721282077524\n",
            "New AUC Score 0.8570609445086427\n"
          ]
        },
        {
          "name": "stderr",
          "output_type": "stream",
          "text": [
            "/usr/local/lib/python3.7/dist-packages/sklearn/preprocessing/_label.py:235: DataConversionWarning:\n",
            "\n",
            "A column-vector y was passed when a 1d array was expected. Please change the shape of y to (n_samples, ), for example using ravel().\n",
            "\n",
            "/usr/local/lib/python3.7/dist-packages/sklearn/preprocessing/_label.py:268: DataConversionWarning:\n",
            "\n",
            "A column-vector y was passed when a 1d array was expected. Please change the shape of y to (n_samples, ), for example using ravel().\n",
            "\n"
          ]
        },
        {
          "name": "stdout",
          "output_type": "stream",
          "text": [
            "[LightGBM] [Warning] feature_fraction is set=0.7403721282077524, colsample_bytree=1.0 will be ignored. Current value: feature_fraction=0.7403721282077524\n",
            "[LightGBM] [Warning] feature_fraction is set=0.7403721282077524, colsample_bytree=1.0 will be ignored. Current value: feature_fraction=0.7403721282077524\n",
            "New AUC Score 0.8562027403011585\n"
          ]
        },
        {
          "name": "stderr",
          "output_type": "stream",
          "text": [
            "/usr/local/lib/python3.7/dist-packages/sklearn/preprocessing/_label.py:235: DataConversionWarning:\n",
            "\n",
            "A column-vector y was passed when a 1d array was expected. Please change the shape of y to (n_samples, ), for example using ravel().\n",
            "\n",
            "/usr/local/lib/python3.7/dist-packages/sklearn/preprocessing/_label.py:268: DataConversionWarning:\n",
            "\n",
            "A column-vector y was passed when a 1d array was expected. Please change the shape of y to (n_samples, ), for example using ravel().\n",
            "\n"
          ]
        },
        {
          "name": "stdout",
          "output_type": "stream",
          "text": [
            "[LightGBM] [Warning] feature_fraction is set=0.7403721282077524, colsample_bytree=1.0 will be ignored. Current value: feature_fraction=0.7403721282077524\n",
            "[LightGBM] [Warning] feature_fraction is set=0.7403721282077524, colsample_bytree=1.0 will be ignored. Current value: feature_fraction=0.7403721282077524\n",
            "New AUC Score 0.8574910263133066\n",
            "all scores [0.8577228035313857, 0.8563604840495794, 0.8570609445086427, 0.8562027403011585, 0.8574910263133066]\n",
            "Roc AUC score 0.8577228035313857\n",
            "{'boosting_type': 'gbdt', 'class_weight': None, 'colsample_bytree': 1.0, 'importance_type': 'split', 'learning_rate': 0.013912800254196058, 'max_depth': 6, 'min_child_samples': 67, 'min_child_weight': 0.001, 'min_split_gain': 0.0, 'n_estimators': 5655, 'n_jobs': -1, 'num_leaves': 10, 'objective': 'binary', 'random_state': 42, 'reg_alpha': 18, 'reg_lambda': 16, 'silent': True, 'subsample': 0.5769168603086565, 'subsample_for_bin': 200000, 'subsample_freq': 1, 'metric': 'AUC', 'verbosity': 0, 'device': 'gpu', 'feature_fraction': 0.7403721282077524}\n"
          ]
        },
        {
          "name": "stderr",
          "output_type": "stream",
          "text": [
            "\u001b[32m[I 2021-10-04 04:08:44,265]\u001b[0m Trial 99 finished with value: 0.8577228035313857 and parameters: {'boosting_type': 'gbdt', 'subsample': 0.5769168603086565, 'eta': 0.013912800254196058, 'n_estimators': 5655, 'reg_alpha': 18, 'reg_lambda': 16, 'max_depth': 6, 'num_leaves': 10, 'feature_fraction': 0.7403721282077524, 'min_child_samples': 67}. Best is trial 75 with value: 0.8592430823618162.\u001b[0m\n"
          ]
        },
        {
          "name": "stdout",
          "output_type": "stream",
          "text": [
            "filename ./models/lgbm_99 best_model_name./models/best_lgbm  best_trial_number 75\n"
          ]
        }
      ]
    },
    {
      "cell_type": "markdown",
      "metadata": {
        "id": "cROM4PIENDIY"
      },
      "source": [
        "\n",
        "\n"
      ]
    },
    {
      "cell_type": "markdown",
      "metadata": {
        "id": "hc1croqf2Tfw"
      },
      "source": [
        ""
      ]
    },
    {
      "cell_type": "code",
      "metadata": {
        "colab": {
          "base_uri": "https://localhost:8080/",
          "height": 249
        },
        "id": "aiEsLmfaGY9t",
        "outputId": "090681e8-1745-4aeb-e4ba-b827019f2a3e"
      },
      "source": [
        " # To get the dictionary of parameter name and parameter values:\n",
        " # Right now logging is not working as expected so this is pending\n",
        "#logging.info(f'Return a dictionary of parameter name and parameter values:{lgbm_study.best_params}')\n",
        "\n",
        "results = []\n",
        "print(f'Return a dictionary of parameter name and parameter values:{lgbm_study.best_params}')\n",
        "#results.append({'msg':lgbm_study.best_params})\n",
        " \n",
        "# To get the best observed value of the objective function:\n",
        "#logging.info(f'Return the best observed value of the objective function: {lgbm_study.best_value}')\n",
        "print(f'Return the best observed value of the objective function: {lgbm_study.best_value}')\n",
        "#results.append({'msg':lgbm_study.best_value})\n",
        " \n",
        "# To get the best trial:\n",
        "print(f'Return the best trial: {lgbm_study.best_trial}')\n",
        "#results.append({'msg': lgbm_study.best_trial})\n",
        "\n",
        "pd.DataFrame(results).to_csv('results.csv', index=False)\n",
        " \n",
        "# To get all trials:\n",
        "#print(\"Return all the trials:\", study.trials)"
      ],
      "execution_count": 1,
      "outputs": [
        {
          "output_type": "error",
          "ename": "NameError",
          "evalue": "ignored",
          "traceback": [
            "\u001b[0;31m---------------------------------------------------------------------------\u001b[0m",
            "\u001b[0;31mNameError\u001b[0m                                 Traceback (most recent call last)",
            "\u001b[0;32m<ipython-input-1-20a2e66db976>\u001b[0m in \u001b[0;36m<module>\u001b[0;34m()\u001b[0m\n\u001b[1;32m      4\u001b[0m \u001b[0;34m\u001b[0m\u001b[0m\n\u001b[1;32m      5\u001b[0m \u001b[0mresults\u001b[0m \u001b[0;34m=\u001b[0m \u001b[0;34m[\u001b[0m\u001b[0;34m]\u001b[0m\u001b[0;34m\u001b[0m\u001b[0;34m\u001b[0m\u001b[0m\n\u001b[0;32m----> 6\u001b[0;31m \u001b[0mprint\u001b[0m\u001b[0;34m(\u001b[0m\u001b[0;34mf'Return a dictionary of parameter name and parameter values:{lgbm_study.best_params}'\u001b[0m\u001b[0;34m)\u001b[0m\u001b[0;34m\u001b[0m\u001b[0;34m\u001b[0m\u001b[0m\n\u001b[0m\u001b[1;32m      7\u001b[0m \u001b[0;31m#results.append({'msg':lgbm_study.best_params})\u001b[0m\u001b[0;34m\u001b[0m\u001b[0;34m\u001b[0m\u001b[0;34m\u001b[0m\u001b[0m\n\u001b[1;32m      8\u001b[0m \u001b[0;34m\u001b[0m\u001b[0m\n",
            "\u001b[0;31mNameError\u001b[0m: name 'lgbm_study' is not defined"
          ]
        }
      ]
    },
    {
      "cell_type": "code",
      "metadata": {
        "id": "sPpQ4qviZNcL"
      },
      "source": [
        "model_file = open('./models/best_lgbm', 'rb')\n",
        "colab_lgbm_model_eval = pickle.load(model_file)\n",
        "model_file.close()"
      ],
      "execution_count": 10,
      "outputs": []
    },
    {
      "cell_type": "code",
      "metadata": {
        "colab": {
          "base_uri": "https://localhost:8080/"
        },
        "id": "2AQVqfF0ZTCg",
        "outputId": "df7bfd0b-d738-4083-890f-362afb1c7c19"
      },
      "source": [
        "colab_lgbm_model_eval.fit(X,y)\n",
        "y_predproba = colab_lgbm_model_eval.predict_proba(X)"
      ],
      "execution_count": 14,
      "outputs": [
        {
          "output_type": "stream",
          "name": "stderr",
          "text": [
            "/usr/local/lib/python3.7/dist-packages/sklearn/preprocessing/_label.py:235: DataConversionWarning:\n",
            "\n",
            "A column-vector y was passed when a 1d array was expected. Please change the shape of y to (n_samples, ), for example using ravel().\n",
            "\n",
            "/usr/local/lib/python3.7/dist-packages/sklearn/preprocessing/_label.py:268: DataConversionWarning:\n",
            "\n",
            "A column-vector y was passed when a 1d array was expected. Please change the shape of y to (n_samples, ), for example using ravel().\n",
            "\n"
          ]
        },
        {
          "output_type": "stream",
          "name": "stdout",
          "text": [
            "[LightGBM] [Warning] feature_fraction is set=0.7731920572320682, colsample_bytree=1.0 will be ignored. Current value: feature_fraction=0.7731920572320682\n",
            "[LightGBM] [Warning] feature_fraction is set=0.7731920572320682, colsample_bytree=1.0 will be ignored. Current value: feature_fraction=0.7731920572320682\n"
          ]
        }
      ]
    },
    {
      "cell_type": "code",
      "metadata": {
        "colab": {
          "base_uri": "https://localhost:8080/"
        },
        "id": "CKHGmPj9Fmli",
        "outputId": "26c4fa2f-978e-45b3-cb1e-7f5e100c48b1"
      },
      "source": [
        "roc_auc_score(y, y_predproba[:, 1])"
      ],
      "execution_count": 15,
      "outputs": [
        {
          "output_type": "execute_result",
          "data": {
            "text/plain": [
              "0.8661878759561727"
            ]
          },
          "metadata": {},
          "execution_count": 15
        }
      ]
    },
    {
      "cell_type": "markdown",
      "metadata": {
        "id": "t8kSJ-roIqx4"
      },
      "source": [
        "Kaggle score"
      ]
    },
    {
      "cell_type": "code",
      "metadata": {
        "id": "6sOlt5KmZgI2"
      },
      "source": [
        "y_predproba = pd.DataFrame(colab_lgbm_model_eval.predict_proba(test_X))\n",
        "y_predproba['id'] = y_predproba.index + len(X)\n",
        "y_predproba.to_csv('./artifacts/lightgbm_predproba.csv', index=False)\n",
        "results_df = y_predproba.rename(columns={1:'target'}).copy()\n",
        "results_df = results_df[['id','target']]\n",
        "results_df.to_csv('./artifacts/lightgbm_submission.csv', index=False)"
      ],
      "execution_count": 17,
      "outputs": []
    },
    {
      "cell_type": "code",
      "metadata": {
        "id": "PJi6b2I4QXWY"
      },
      "source": [
        ""
      ],
      "execution_count": null,
      "outputs": []
    },
    {
      "cell_type": "code",
      "metadata": {
        "id": "h1GUN6yGxC9I"
      },
      "source": [
        ""
      ],
      "execution_count": null,
      "outputs": []
    },
    {
      "cell_type": "markdown",
      "metadata": {
        "id": "M_CJTb3qmYJ0"
      },
      "source": [
        ""
      ]
    }
  ]
}